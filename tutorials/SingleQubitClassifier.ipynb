{
 "cells": [
  {
   "cell_type": "markdown",
   "metadata": {},
   "source": [
    "# Tequila Tutorial:\n",
    "\n",
    "## Single-qubit classifier with data re-uploading\n",
    "\n",
    "This tutorial shows:\n",
    "- How to construct a fidelity cost function for an optimization problem\n",
    "- How to construct a quantum classifier with one qubit\n",
    "\n",
    "Based on [Data re-uploading for a universal quantum classifier](https://quantum-journal.org/papers/q-2020-02-06-226/), A. Pérez-Salinas, A. Cervera-Lierta, E. Gil-Fuster, and J. I. Latorre, *Quantum **4**, 226 (2020)*."
   ]
  },
  {
   "cell_type": "code",
   "execution_count": 1,
   "metadata": {},
   "outputs": [],
   "source": [
    "import tequila as tq\n",
    "import numpy as np\n",
    "import matplotlib.pyplot as plt\n",
    "from numpy import random\n",
    "import time"
   ]
  },
  {
   "cell_type": "markdown",
   "metadata": {},
   "source": [
    "### Introduction\n",
    "\n",
    "Single-qubit operations are just rotations on the Bloch sphere. A collection of single-qubit rotations can be reduced to a single one by combining their angles: you can always move from one point to another on the Bloch sphere with a single operation. \n",
    "\n",
    "Because of this property, a single-qubit classifier with simple parameterized rotations can not treat complex data. Even if it succeeds to classify one data point, it will probably misclassify the others since rotational angles have been only adapted to one particular point. To circumvent this limitation one can introduce the data points into these angles, so each rotation will be data point-dependent. This methodology is called data re-uploading and it can be shown that a single-qubit classifier can be universal using this technique.\n",
    "\n",
    "The strategy to train this single-qubit classifier is the following. Given a problem with 𝑛n classes, we choose 𝑛n vectors on the Bloch sphere. Then, we train the classifier by constructing a cost function that adds penalties if the final state of the classifier is far from the target state that corresponds to its class.\n",
    "\n",
    "The single-qubit classifier circuit is divided into layers. Each layer comprises single-qubit rotations that encode a data training point and parameters to be optimized. $$ L\\left(\\vec{x};\\vec{\\theta}_{i}\\right) = U\\left(\\vec{x}\\right)U\\left(\\vec{\\theta}_{i}\\right) $$\n",
    "By considering more layers, the final state of the classifier will have a richer structure in terms of the data point $\\vec{x}$.\n",
    "\n",
    "$$ \\mathcal{U}_{class}\\left(\\vec{x};\\vec{\\theta}_{1},\\vec{\\theta}_{2},...,\\vec{\\theta}_{l}\\right) = L\\left(\\vec{x};\\vec{\\theta}_{1}\\right)L\\left(\\vec{x};\\vec{\\theta}_{2}\\right)\\cdots L\\left(\\vec{x};\\vec{\\theta}_{l}\\right)$$\n",
    "\n",
    "We will run a $\\mathcal{U}_{class}$ for each training point $\\vec{x}$, but the parameters $\\vec{\\theta}$ are the same. These are the variables to be optimized classically through the cost function."
   ]
  },
  {
   "cell_type": "markdown",
   "metadata": {},
   "source": [
    "### Model"
   ]
  },
  {
   "cell_type": "markdown",
   "metadata": {},
   "source": [
    "Let's define the model that we would like to classify. Let's start with a simple model with two classes: a circle of radius $r =\\sqrt{2/\\pi}$ centered at (0,0). Data points will be distributed in a square of length 2 centered at (0,0). The particular choice of the circle radius implies that a random classification will have a $\\sim 50$% accuracy.\n",
    "\n",
    "`circle` function will have two parts:\n",
    "- `random = True`: generate and label random points according to their position inside or outside the circle (used for training)\n",
    "- `random = False`: computes the label of a given point `x_input` (used for testing)"
   ]
  },
  {
   "cell_type": "code",
   "execution_count": 2,
   "metadata": {},
   "outputs": [],
   "source": [
    "np.random.seed(42)\n",
    "\n",
    "def circle(samples = False, random = True, x_input = False, center=[0.0, 0.0], radius=np.sqrt(2 / np.pi)):   \n",
    "    \"\"\"\n",
    "    Args:\n",
    "        samples (int): number of samples to generate\n",
    "        random = True: generates and labels sample random points\n",
    "        random = False: labels x_input point\n",
    "        x_input (array[tuple]): given point to be labeled if random = False\n",
    "        center (tuple): center of the circle\n",
    "        radius (float): radius of the circle\n",
    "\n",
    "    Returns:\n",
    "        if random = True:\n",
    "            xvals (array[tuple]): data points coordinates \n",
    "            yvals (array[int]): corresponding data labels\n",
    "        if random = False:\n",
    "            y (int): label of x_input point\n",
    "    \"\"\"\n",
    "    xvals, yvals = [], []\n",
    "\n",
    "    if random == True:\n",
    "        for i in range(samples):\n",
    "            x = 2 * (np.random.rand(2)) - 1\n",
    "            y = 0\n",
    "            if np.linalg.norm(x - center) < radius:\n",
    "                y = 1\n",
    "            xvals.append(x)\n",
    "            yvals.append(y)        \n",
    "        return np.array(xvals), np.array(yvals)\n",
    "    \n",
    "    if random == False:\n",
    "        y = 0\n",
    "        if np.linalg.norm(x_input - center) < radius:\n",
    "            y = 1\n",
    "        return y"
   ]
  },
  {
   "cell_type": "markdown",
   "metadata": {},
   "source": [
    "### Target states\n",
    "\n",
    "Next step is to fix the classes states. The classifier will be trained to return these states depending on the data point. To reduce the uncertanty, target states should be as much distanced as possible. With a single qubit, that means to choose points in the Bloch sphere as much separated as possible.\n",
    "For a two-class problem, an easy choice is $|0\\rangle$ and $|1\\rangle$ states."
   ]
  },
  {
   "cell_type": "code",
   "execution_count": 3,
   "metadata": {},
   "outputs": [],
   "source": [
    "# |0> : points inside the circle\n",
    "# |1> : points outside the circle\n",
    "def targ_wfn(y, nclass):\n",
    "    \"\"\"\n",
    "    Arg:\n",
    "        - y (int): class label\n",
    "        - nclass: number of classes\n",
    "    Returns:\n",
    "        - wfn: wavefunction of the target state\n",
    "    \"\"\"\n",
    "    if nclass == 2:\n",
    "        if y==0:\n",
    "            wfn = tq.QubitWaveFunction.from_array(np.asarray([1,0]))\n",
    "        if y==1:\n",
    "            wfn = tq.QubitWaveFunction.from_array(np.asarray([0,1]))\n",
    "    else:\n",
    "        raise Exception(\"nclass = {} is not considered\".format(nclass))\n",
    "    return wfn"
   ]
  },
  {
   "cell_type": "markdown",
   "metadata": {},
   "source": [
    "### Single-qubit classifier circuit\n",
    "\n",
    "The single-qubit classifier has a layer structure, i.e. we have to decide how to design one layer and then how many layers we would like to consider. \n",
    "We will consider the following structure: each layer is a collection of rotational gates which angles are a linear function of a data point with the free parameters to be optimized. In particular,\n",
    "$$L\\left(\\vec{x};\\vec{\\theta}_{i}\\right) = R_{z}\\left(x^{2}+\\theta_{i}^{2}\\right) R_{y}\\left(x^{1}+\\theta_{i}^{1}\\right).$$\n",
    "Then, each layer adds 2 parameters to be optimized. The data points $(x^1,x^2)$ are re-uploaded in each layer."
   ]
  },
  {
   "cell_type": "code",
   "execution_count": 4,
   "metadata": {},
   "outputs": [],
   "source": [
    "# single-qubit quantum classifier circuit\n",
    "def qcircuit(xval, param):\n",
    "    \"\"\"\n",
    "    Arg:\n",
    "        - xval (array[tuple]): data point\n",
    "        - param (dict): parameters dictionary\n",
    "    Returns:\n",
    "        - qc: quantum circuit\n",
    "    \"\"\"\n",
    "    layers = int((len(param))/2) # 2 parameters/layer\n",
    "    # initialize the circuit \n",
    "    qc = tq.gates.Rz(0.0,0)\n",
    "    for p in range(0,2*layers-1):\n",
    "        # add layers to the circuit\n",
    "        qc += tq.gates.Ry(xval[0] + param[p],0) + tq.gates.Rz(xval[1] + param[p+1],0) \n",
    "    return qc"
   ]
  },
  {
   "cell_type": "markdown",
   "metadata": {},
   "source": [
    "### Cost function\n",
    "\n",
    "The cost function for this quantum classifier model will be constructed from the fidelity of the classifier final state respect to the target state of its corresponding class. It will penalize that the output state is far from its label state.\n",
    "\n",
    "First, we define the fidelity between two states as an objective (see State Preparation Tutorial). Then, we construct the simplest cost function of this kind: average of squared infidelities for all training points $M$: $$ \\chi^2 = \\sum_{i=1}^{M}\\left(1-|\\langle\\psi_{target}|\\psi_{circuit}\\rangle|^2\\right)^2$$ "
   ]
  },
  {
   "cell_type": "code",
   "execution_count": 5,
   "metadata": {},
   "outputs": [],
   "source": [
    "# Fidelity objective\n",
    "def fid(wfn_targ, qc):\n",
    "    \"\"\"\n",
    "    Arg:\n",
    "        - wfn_targ: target wavefunction\n",
    "        - qc : quantum circuit \n",
    "    Returns:\n",
    "        - O: objective\n",
    "    \"\"\"  \n",
    "    rho_targ =  tq.paulis.Projector(wfn=wfn_targ)\n",
    "    O = tq.Objective.ExpectationValue(U=qc, H=rho_targ)\n",
    "    # fidelity = tq.simulate(O)\n",
    "    return O \n",
    "\n",
    "# cost function: sum of all infidelities for each data point respect the label state\n",
    "def cost(x, y, param, nclass):\n",
    "    \"\"\"\n",
    "    Arg:\n",
    "        - x (array[tuple]): training points\n",
    "        - y (array[int]): labels of training points\n",
    "        - param (dict): parameters dictionary\n",
    "        - nclass (int): number of classes\n",
    "    Returns:\n",
    "        - loss/ len(x): loss objective\n",
    "    \"\"\"  \n",
    "    loss = 0.0\n",
    "    # M = len(y): number of training points\n",
    "    for i in range(len(y)):\n",
    "        \n",
    "        # state generated by the classifier\n",
    "        qc = qcircuit(x[i], param)\n",
    "        # fidelity objective respect to the label state\n",
    "        f = fid(targ_wfn(y[i],nclass), qc)\n",
    "        \n",
    "        loss = loss + (1 - f)**2\n",
    "        \n",
    "    return loss / len(x)"
   ]
  },
  {
   "cell_type": "markdown",
   "metadata": {},
   "source": [
    "### Training\n",
    "\n",
    "We have now all the ingredients to train a single-qubit classifier with data re-uploading.  \n",
    "If a gradient based optimization is chosen for this type of optimization problems, numerical gradients are adviced since analytical ones become quite expensive."
   ]
  },
  {
   "cell_type": "code",
   "execution_count": 10,
   "metadata": {},
   "outputs": [
    {
     "name": "stdout",
     "output_type": "stream",
     "text": [
      "ObjectiveType is <class 'tequila.objective.objective.Objective'>\n",
      "Starting L-BFGS-B optimization\n",
      "Objective: 400 expectationvalues\n",
      "Gradients: 2-point\n",
      "Hessian: None\n",
      "\n",
      "backend: <class 'tequila.simulators.simulator_qulacs.BackendExpectationValueQulacs'>\n",
      "samples: None\n",
      "6 active variables\n",
      "E= 0.28086436  angles= {th_3: 0.9821684936207363, th_1: 5.179546618124033, th_5: 2.2649281143182436, th_2: 2.4943753206474564, th_4: 4.636682550107807, th_0: 4.229162587319557}  samples= None\n",
      "E= 0.28086117  angles= {th_3: 0.9822684936207363, th_1: 5.179546618124033, th_5: 2.2649281143182436, th_2: 2.4943753206474564, th_4: 4.636682550107807, th_0: 4.229162587319557}  samples= None\n",
      "E= 0.2808585  angles= {th_3: 0.9821684936207363, th_1: 5.179646618124033, th_5: 2.2649281143182436, th_2: 2.4943753206474564, th_4: 4.636682550107807, th_0: 4.229162587319557}  samples= None\n",
      "E= 0.28086436  angles= {th_3: 0.9821684936207363, th_1: 5.179546618124033, th_5: 2.265028114318244, th_2: 2.4943753206474564, th_4: 4.636682550107807, th_0: 4.229162587319557}  samples= None\n",
      "E= 0.28086078  angles= {th_3: 0.9821684936207363, th_1: 5.179546618124033, th_5: 2.2649281143182436, th_2: 2.4944753206474566, th_4: 4.636682550107807, th_0: 4.229162587319557}  samples= None\n",
      "E= 0.28086904  angles= {th_3: 0.9821684936207363, th_1: 5.179546618124033, th_5: 2.2649281143182436, th_2: 2.4943753206474564, th_4: 4.636782550107807, th_0: 4.229162587319557}  samples= None\n",
      "E= 0.28086367  angles= {th_3: 0.9821684936207363, th_1: 5.179546618124033, th_5: 2.2649281143182436, th_2: 2.4943753206474564, th_4: 4.636682550107807, th_0: 4.229262587319557}  samples= None\n",
      "E= 0.31785858  angles= {th_3: 1.3391605680418919, th_1: 5.836812400002233, th_5: 2.2649281143182436, th_2: 2.8947402639235174, th_4: 4.112871749321627, th_0: 4.305899201447469}  samples= None\n",
      "E= 0.31785694  angles= {th_3: 1.3392605680418919, th_1: 5.836812400002233, th_5: 2.2649281143182436, th_2: 2.8947402639235174, th_4: 4.112871749321627, th_0: 4.305899201447469}  samples= None\n",
      "E= 0.31786096  angles= {th_3: 1.3391605680418919, th_1: 5.836912400002233, th_5: 2.2649281143182436, th_2: 2.8947402639235174, th_4: 4.112871749321627, th_0: 4.305899201447469}  samples= None\n",
      "E= 0.31785858  angles= {th_3: 1.3391605680418919, th_1: 5.836812400002233, th_5: 2.265028114318244, th_2: 2.8947402639235174, th_4: 4.112871749321627, th_0: 4.305899201447469}  samples= None\n",
      "E= 0.3178528  angles= {th_3: 1.3391605680418919, th_1: 5.836812400002233, th_5: 2.2649281143182436, th_2: 2.8948402639235176, th_4: 4.112871749321627, th_0: 4.305899201447469}  samples= None\n",
      "E= 0.31785178  angles= {th_3: 1.3391605680418919, th_1: 5.836812400002233, th_5: 2.2649281143182436, th_2: 2.8947402639235174, th_4: 4.112971749321627, th_0: 4.305899201447469}  samples= None\n",
      "E= 0.31786057  angles= {th_3: 1.3391605680418919, th_1: 5.836812400002233, th_5: 2.2649281143182436, th_2: 2.8947402639235174, th_4: 4.112871749321627, th_0: 4.305999201447468}  samples= None\n",
      "E= 0.27224547  angles= {th_3: 1.053305039932898, th_1: 5.310517642642686, th_5: 2.2649281143182436, th_2: 2.5741546249227776, th_4: 4.532304627014262, th_0: 4.244453620638994}  samples= None\n",
      "E= 0.27224243  angles= {th_3: 1.053405039932898, th_1: 5.310517642642686, th_5: 2.2649281143182436, th_2: 2.5741546249227776, th_4: 4.532304627014262, th_0: 4.244453620638994}  samples= None\n",
      "E= 0.27224565  angles= {th_3: 1.053305039932898, th_1: 5.310617642642685, th_5: 2.2649281143182436, th_2: 2.5741546249227776, th_4: 4.532304627014262, th_0: 4.244453620638994}  samples= None\n",
      "E= 0.27224547  angles= {th_3: 1.053305039932898, th_1: 5.310517642642686, th_5: 2.265028114318244, th_2: 2.5741546249227776, th_4: 4.532304627014262, th_0: 4.244453620638994}  samples= None\n",
      "E= 0.27224272  angles= {th_3: 1.053305039932898, th_1: 5.310517642642686, th_5: 2.2649281143182436, th_2: 2.574254624922778, th_4: 4.532304627014262, th_0: 4.244453620638994}  samples= None\n",
      "E= 0.2722422  angles= {th_3: 1.053305039932898, th_1: 5.310517642642686, th_5: 2.2649281143182436, th_2: 2.5741546249227776, th_4: 4.5324046270142615, th_0: 4.244453620638994}  samples= None\n",
      "E= 0.2722483  angles= {th_3: 1.053305039932898, th_1: 5.310517642642686, th_5: 2.2649281143182436, th_2: 2.5741546249227776, th_4: 4.532304627014262, th_0: 4.244553620638993}  samples= None\n",
      "E= 0.26759097  angles= {th_3: 1.1242112219813234, th_1: 5.350092553584785, th_5: 2.2649281143182436, th_2: 2.643163960432895, th_4: 4.550157347687702, th_0: 4.204807477066608}  samples= None\n",
      "E= 0.2675904  angles= {th_3: 1.1243112219813234, th_1: 5.350092553584785, th_5: 2.2649281143182436, th_2: 2.643163960432895, th_4: 4.550157347687702, th_0: 4.204807477066608}  samples= None\n",
      "E= 0.26759008  angles= {th_3: 1.1242112219813234, th_1: 5.350192553584785, th_5: 2.2649281143182436, th_2: 2.643163960432895, th_4: 4.550157347687702, th_0: 4.204807477066608}  samples= None\n",
      "E= 0.26759097  angles= {th_3: 1.1242112219813234, th_1: 5.350092553584785, th_5: 2.265028114318244, th_2: 2.643163960432895, th_4: 4.550157347687702, th_0: 4.204807477066608}  samples= None\n",
      "E= 0.26758873  angles= {th_3: 1.1242112219813234, th_1: 5.350092553584785, th_5: 2.2649281143182436, th_2: 2.643263960432895, th_4: 4.550157347687702, th_0: 4.204807477066608}  samples= None\n",
      "E= 0.26758817  angles= {th_3: 1.1242112219813234, th_1: 5.350092553584785, th_5: 2.2649281143182436, th_2: 2.643163960432895, th_4: 4.550257347687702, th_0: 4.204807477066608}  samples= None\n",
      "E= 0.26759252  angles= {th_3: 1.1242112219813234, th_1: 5.350092553584785, th_5: 2.2649281143182436, th_2: 2.643163960432895, th_4: 4.550157347687702, th_0: 4.204907477066608}  samples= None\n",
      "E= 0.26123425  angles= {th_3: 1.2238673897453465, th_1: 5.5084849693098, th_5: 2.2649281143182436, th_2: 2.8498733181120177, th_4: 4.645260249719356, th_0: 4.115391670365577}  samples= None\n",
      "E= 0.2612363  angles= {th_3: 1.2239673897453465, th_1: 5.5084849693098, th_5: 2.2649281143182436, th_2: 2.8498733181120177, th_4: 4.645260249719356, th_0: 4.115391670365577}  samples= None\n",
      "E= 0.2612308  angles= {th_3: 1.2238673897453465, th_1: 5.5085849693097995, th_5: 2.2649281143182436, th_2: 2.8498733181120177, th_4: 4.645260249719356, th_0: 4.115391670365577}  samples= None\n",
      "E= 0.26123425  angles= {th_3: 1.2238673897453465, th_1: 5.5084849693098, th_5: 2.265028114318244, th_2: 2.8498733181120177, th_4: 4.645260249719356, th_0: 4.115391670365577}  samples= None\n",
      "E= 0.26123485  angles= {th_3: 1.2238673897453465, th_1: 5.5084849693098, th_5: 2.2649281143182436, th_2: 2.849973318112018, th_4: 4.645260249719356, th_0: 4.115391670365577}  samples= None\n",
      "E= 0.26123455  angles= {th_3: 1.2238673897453465, th_1: 5.5084849693098, th_5: 2.2649281143182436, th_2: 2.8498733181120177, th_4: 4.645360249719356, th_0: 4.115391670365577}  samples= None\n",
      "E= 0.26123118  angles= {th_3: 1.2238673897453465, th_1: 5.5084849693098, th_5: 2.2649281143182436, th_2: 2.8498733181120177, th_4: 4.645260249719356, th_0: 4.115491670365577}  samples= None\n",
      "E= 0.2581406  angles= {th_3: 1.230991844372127, th_1: 5.589432440276034, th_5: 2.2649281143182436, th_2: 2.886139633742252, th_4: 4.67949107842993, th_0: 4.1377695754659225}  samples= None\n",
      "E= 0.25814134  angles= {th_3: 1.231091844372127, th_1: 5.589432440276034, th_5: 2.2649281143182436, th_2: 2.886139633742252, th_4: 4.67949107842993, th_0: 4.1377695754659225}  samples= None\n",
      "E= 0.25813794  angles= {th_3: 1.230991844372127, th_1: 5.589532440276034, th_5: 2.2649281143182436, th_2: 2.886139633742252, th_4: 4.67949107842993, th_0: 4.1377695754659225}  samples= None\n",
      "E= 0.2581406  angles= {th_3: 1.230991844372127, th_1: 5.589432440276034, th_5: 2.265028114318244, th_2: 2.886139633742252, th_4: 4.67949107842993, th_0: 4.1377695754659225}  samples= None\n",
      "E= 0.2581417  angles= {th_3: 1.230991844372127, th_1: 5.589432440276034, th_5: 2.2649281143182436, th_2: 2.8862396337422522, th_4: 4.67949107842993, th_0: 4.1377695754659225}  samples= None\n",
      "E= 0.2581393  angles= {th_3: 1.230991844372127, th_1: 5.589432440276034, th_5: 2.2649281143182436, th_2: 2.886139633742252, th_4: 4.6795910784299295, th_0: 4.1377695754659225}  samples= None\n",
      "E= 0.2581374  angles= {th_3: 1.230991844372127, th_1: 5.589432440276034, th_5: 2.2649281143182436, th_2: 2.886139633742252, th_4: 4.67949107842993, th_0: 4.137869575465922}  samples= None\n"
     ]
    },
    {
     "name": "stdout",
     "output_type": "stream",
     "text": [
      "E= 0.24886759  angles= {th_3: 1.2594896628792493, th_1: 5.91322232414097, th_5: 2.2649281143182436, th_2: 3.0312048962631892, th_4: 4.816414393272225, th_0: 4.227281195867304}  samples= None\n",
      "E= 0.24886535  angles= {th_3: 1.2595896628792493, th_1: 5.91322232414097, th_5: 2.2649281143182436, th_2: 3.0312048962631892, th_4: 4.816414393272225, th_0: 4.227281195867304}  samples= None\n",
      "E= 0.24886656  angles= {th_3: 1.2594896628792493, th_1: 5.91332232414097, th_5: 2.2649281143182436, th_2: 3.0312048962631892, th_4: 4.816414393272225, th_0: 4.227281195867304}  samples= None\n",
      "E= 0.24886759  angles= {th_3: 1.2594896628792493, th_1: 5.91322232414097, th_5: 2.265028114318244, th_2: 3.0312048962631892, th_4: 4.816414393272225, th_0: 4.227281195867304}  samples= None\n",
      "E= 0.24887285  angles= {th_3: 1.2594896628792493, th_1: 5.91322232414097, th_5: 2.2649281143182436, th_2: 3.0313048962631894, th_4: 4.816414393272225, th_0: 4.227281195867304}  samples= None\n",
      "E= 0.24886228  angles= {th_3: 1.2594896628792493, th_1: 5.91322232414097, th_5: 2.2649281143182436, th_2: 3.0312048962631892, th_4: 4.816514393272225, th_0: 4.227281195867304}  samples= None\n",
      "E= 0.24886525  angles= {th_3: 1.2594896628792493, th_1: 5.91322232414097, th_5: 2.2649281143182436, th_2: 3.0312048962631892, th_4: 4.816414393272225, th_0: 4.227381195867304}  samples= None\n",
      "E= 0.31515992  angles= {th_3: 1.3153039378308753, th_1: 7.064153160479238, th_5: 2.2649281143182436, th_2: 3.331236249274401, th_4: 5.455416958429121, th_0: 4.688212580440355}  samples= None\n",
      "E= 0.31516892  angles= {th_3: 1.3154039378308753, th_1: 7.064153160479238, th_5: 2.2649281143182436, th_2: 3.331236249274401, th_4: 5.455416958429121, th_0: 4.688212580440355}  samples= None\n",
      "E= 0.3151692  angles= {th_3: 1.3153039378308753, th_1: 7.064253160479238, th_5: 2.2649281143182436, th_2: 3.331236249274401, th_4: 5.455416958429121, th_0: 4.688212580440355}  samples= None\n",
      "E= 0.31515992  angles= {th_3: 1.3153039378308753, th_1: 7.064153160479238, th_5: 2.265028114318244, th_2: 3.331236249274401, th_4: 5.455416958429121, th_0: 4.688212580440355}  samples= None\n",
      "E= 0.3151554  angles= {th_3: 1.3153039378308753, th_1: 7.064153160479238, th_5: 2.2649281143182436, th_2: 3.3313362492744014, th_4: 5.455416958429121, th_0: 4.688212580440355}  samples= None\n",
      "E= 0.3151674  angles= {th_3: 1.3153039378308753, th_1: 7.064153160479238, th_5: 2.2649281143182436, th_2: 3.331236249274401, th_4: 5.455516958429121, th_0: 4.688212580440355}  samples= None\n",
      "E= 0.31515643  angles= {th_3: 1.3153039378308753, th_1: 7.064153160479238, th_5: 2.2649281143182436, th_2: 3.331236249274401, th_4: 5.455416958429121, th_0: 4.688312580440355}  samples= None\n",
      "E= 0.24305962  angles= {th_3: 1.2676728329754068, th_1: 6.081965227472268, th_5: 2.2649281143182436, th_2: 3.0751937789997097, th_4: 4.91010129840701, th_0: 4.294860321922201}  samples= None\n",
      "E= 0.24305578  angles= {th_3: 1.2677728329754068, th_1: 6.081965227472268, th_5: 2.2649281143182436, th_2: 3.0751937789997097, th_4: 4.91010129840701, th_0: 4.294860321922201}  samples= None\n",
      "E= 0.24305882  angles= {th_3: 1.2676728329754068, th_1: 6.082065227472268, th_5: 2.2649281143182436, th_2: 3.0751937789997097, th_4: 4.91010129840701, th_0: 4.294860321922201}  samples= None\n",
      "E= 0.24305962  angles= {th_3: 1.2676728329754068, th_1: 6.081965227472268, th_5: 2.265028114318244, th_2: 3.0751937789997097, th_4: 4.91010129840701, th_0: 4.294860321922201}  samples= None\n",
      "E= 0.24306664  angles= {th_3: 1.2676728329754068, th_1: 6.081965227472268, th_5: 2.2649281143182436, th_2: 3.07529377899971, th_4: 4.91010129840701, th_0: 4.294860321922201}  samples= None\n",
      "E= 0.24305342  angles= {th_3: 1.2676728329754068, th_1: 6.081965227472268, th_5: 2.2649281143182436, th_2: 3.0751937789997097, th_4: 4.91020129840701, th_0: 4.294860321922201}  samples= None\n",
      "E= 0.2430588  angles= {th_3: 1.2676728329754068, th_1: 6.081965227472268, th_5: 2.2649281143182436, th_2: 3.0751937789997097, th_4: 4.91010129840701, th_0: 4.294960321922201}  samples= None\n",
      "E= 0.37409642  angles= {th_3: 1.3666748769521386, th_1: 7.369395052225886, th_5: 2.2649281143182436, th_2: 3.246393734192945, th_4: 5.642924100220485, th_0: 4.76881877426609}  samples= None\n",
      "E= 0.37411475  angles= {th_3: 1.3667748769521386, th_1: 7.369395052225886, th_5: 2.2649281143182436, th_2: 3.246393734192945, th_4: 5.642924100220485, th_0: 4.76881877426609}  samples= None\n",
      "E= 0.37410828  angles= {th_3: 1.3666748769521386, th_1: 7.3694950522258855, th_5: 2.2649281143182436, th_2: 3.246393734192945, th_4: 5.642924100220485, th_0: 4.76881877426609}  samples= None\n",
      "E= 0.37409642  angles= {th_3: 1.3666748769521386, th_1: 7.369395052225886, th_5: 2.265028114318244, th_2: 3.246393734192945, th_4: 5.642924100220485, th_0: 4.76881877426609}  samples= None\n",
      "E= 0.37408552  angles= {th_3: 1.3666748769521386, th_1: 7.369395052225886, th_5: 2.2649281143182436, th_2: 3.246493734192945, th_4: 5.642924100220485, th_0: 4.76881877426609}  samples= None\n",
      "E= 0.37410545  angles= {th_3: 1.3666748769521386, th_1: 7.369395052225886, th_5: 2.2649281143182436, th_2: 3.246393734192945, th_4: 5.643024100220485, th_0: 4.76881877426609}  samples= None\n",
      "E= 0.37408912  angles= {th_3: 1.3666748769521386, th_1: 7.369395052225886, th_5: 2.2649281143182436, th_2: 3.246393734192945, th_4: 5.642924100220485, th_0: 4.76891877426609}  samples= None\n",
      "E= 0.23967084  angles= {th_3: 1.2762985387332573, th_1: 6.1941345363687175, th_5: 2.2649281143182436, th_2: 3.0901098391125807, th_4: 4.973949615140474, th_0: 4.336154682999488}  samples= None\n",
      "E= 0.23966682  angles= {th_3: 1.2763985387332573, th_1: 6.1941345363687175, th_5: 2.2649281143182436, th_2: 3.0901098391125807, th_4: 4.973949615140474, th_0: 4.336154682999488}  samples= None\n",
      "E= 0.23967105  angles= {th_3: 1.2762985387332573, th_1: 6.194234536368717, th_5: 2.2649281143182436, th_2: 3.0901098391125807, th_4: 4.973949615140474, th_0: 4.336154682999488}  samples= None\n",
      "E= 0.23967084  angles= {th_3: 1.2762985387332573, th_1: 6.1941345363687175, th_5: 2.265028114318244, th_2: 3.0901098391125807, th_4: 4.973949615140474, th_0: 4.336154682999488}  samples= None\n",
      "E= 0.23967844  angles= {th_3: 1.2762985387332573, th_1: 6.1941345363687175, th_5: 2.2649281143182436, th_2: 3.090209839112581, th_4: 4.973949615140474, th_0: 4.336154682999488}  samples= None\n",
      "E= 0.23966524  angles= {th_3: 1.2762985387332573, th_1: 6.1941345363687175, th_5: 2.2649281143182436, th_2: 3.0901098391125807, th_4: 4.974049615140474, th_0: 4.336154682999488}  samples= None\n",
      "E= 0.23967141  angles= {th_3: 1.2762985387332573, th_1: 6.1941345363687175, th_5: 2.2649281143182436, th_2: 3.0901098391125807, th_4: 4.973949615140474, th_0: 4.3362546829994875}  samples= None\n",
      "E= 0.23229894  angles= {th_3: 1.2053812090541434, th_1: 6.309292846616437, th_5: 2.2649281143182436, th_2: 2.9261251009552804, th_4: 5.0687777452269085, th_0: 4.438409171978344}  samples= None\n",
      "E= 0.2322946  angles= {th_3: 1.2054812090541434, th_1: 6.309292846616437, th_5: 2.2649281143182436, th_2: 2.9261251009552804, th_4: 5.0687777452269085, th_0: 4.438409171978344}  samples= None\n",
      "E= 0.23230231  angles= {th_3: 1.2053812090541434, th_1: 6.309392846616436, th_5: 2.2649281143182436, th_2: 2.9261251009552804, th_4: 5.0687777452269085, th_0: 4.438409171978344}  samples= None\n",
      "E= 0.23229894  angles= {th_3: 1.2053812090541434, th_1: 6.309292846616437, th_5: 2.265028114318244, th_2: 2.9261251009552804, th_4: 5.0687777452269085, th_0: 4.438409171978344}  samples= None\n",
      "E= 0.232303  angles= {th_3: 1.2053812090541434, th_1: 6.309292846616437, th_5: 2.2649281143182436, th_2: 2.9262251009552807, th_4: 5.0687777452269085, th_0: 4.438409171978344}  samples= None\n",
      "E= 0.23229247  angles= {th_3: 1.2053812090541434, th_1: 6.309292846616437, th_5: 2.2649281143182436, th_2: 2.9261251009552804, th_4: 5.068877745226908, th_0: 4.438409171978344}  samples= None\n",
      "E= 0.23230395  angles= {th_3: 1.2053812090541434, th_1: 6.309292846616437, th_5: 2.2649281143182436, th_2: 2.9261251009552804, th_4: 5.0687777452269085, th_0: 4.438509171978343}  samples= None\n",
      "E= 0.2239123  angles= {th_3: 1.1844393457724216, th_1: 6.286103463725366, th_5: 2.2649281143182436, th_2: 2.8415042179537675, th_4: 5.133825157948172, th_0: 4.414410439475861}  samples= None\n"
     ]
    },
    {
     "name": "stdout",
     "output_type": "stream",
     "text": [
      "E= 0.2239082  angles= {th_3: 1.1845393457724216, th_1: 6.286103463725366, th_5: 2.2649281143182436, th_2: 2.8415042179537675, th_4: 5.133825157948172, th_0: 4.414410439475861}  samples= None\n",
      "E= 0.2239158  angles= {th_3: 1.1844393457724216, th_1: 6.286203463725366, th_5: 2.2649281143182436, th_2: 2.8415042179537675, th_4: 5.133825157948172, th_0: 4.414410439475861}  samples= None\n",
      "E= 0.2239123  angles= {th_3: 1.1844393457724216, th_1: 6.286103463725366, th_5: 2.265028114318244, th_2: 2.8415042179537675, th_4: 5.133825157948172, th_0: 4.414410439475861}  samples= None\n",
      "E= 0.223916  angles= {th_3: 1.1844393457724216, th_1: 6.286103463725366, th_5: 2.2649281143182436, th_2: 2.8416042179537677, th_4: 5.133825157948172, th_0: 4.414410439475861}  samples= None\n",
      "E= 0.22390677  angles= {th_3: 1.1844393457724216, th_1: 6.286103463725366, th_5: 2.2649281143182436, th_2: 2.8415042179537675, th_4: 5.1339251579481715, th_0: 4.414410439475861}  samples= None\n",
      "E= 0.22391672  angles= {th_3: 1.1844393457724216, th_1: 6.286103463725366, th_5: 2.2649281143182436, th_2: 2.8415042179537675, th_4: 5.133825157948172, th_0: 4.414510439475861}  samples= None\n",
      "E= 0.34741297  angles= {th_3: 0.9654715654252064, th_1: 5.522422806075554, th_5: 2.2649281143182436, th_2: 1.8324727204106557, th_4: 5.6402474007771035, th_0: 4.255642788212385}  samples= None\n",
      "E= 0.3474001  angles= {th_3: 0.9655715654252064, th_1: 5.522422806075554, th_5: 2.2649281143182436, th_2: 1.8324727204106557, th_4: 5.6402474007771035, th_0: 4.255642788212385}  samples= None\n",
      "E= 0.3473892  angles= {th_3: 0.9654715654252064, th_1: 5.522522806075553, th_5: 2.2649281143182436, th_2: 1.8324727204106557, th_4: 5.6402474007771035, th_0: 4.255642788212385}  samples= None\n",
      "E= 0.34741297  angles= {th_3: 0.9654715654252064, th_1: 5.522422806075554, th_5: 2.265028114318244, th_2: 1.8324727204106557, th_4: 5.6402474007771035, th_0: 4.255642788212385}  samples= None\n",
      "E= 0.34741193  angles= {th_3: 0.9654715654252064, th_1: 5.522422806075554, th_5: 2.2649281143182436, th_2: 1.8325727204106557, th_4: 5.6402474007771035, th_0: 4.255642788212385}  samples= None\n",
      "E= 0.34741855  angles= {th_3: 0.9654715654252064, th_1: 5.522422806075554, th_5: 2.2649281143182436, th_2: 1.8324727204106557, th_4: 5.640347400777103, th_0: 4.255642788212385}  samples= None\n",
      "E= 0.34740567  angles= {th_3: 0.9654715654252064, th_1: 5.522422806075554, th_5: 2.2649281143182436, th_2: 1.8324727204106557, th_4: 5.6402474007771035, th_0: 4.255742788212385}  samples= None\n",
      "E= 0.21195522  angles= {th_3: 1.148094649544312, th_1: 6.159346269248839, th_5: 2.2649281143182436, th_2: 2.6740232159330732, th_4: 5.217882102534218, th_0: 4.388057877254737}  samples= None\n",
      "E= 0.21195059  angles= {th_3: 1.148194649544312, th_1: 6.159346269248839, th_5: 2.2649281143182436, th_2: 2.6740232159330732, th_4: 5.217882102534218, th_0: 4.388057877254737}  samples= None\n",
      "E= 0.21195635  angles= {th_3: 1.148094649544312, th_1: 6.159446269248839, th_5: 2.2649281143182436, th_2: 2.6740232159330732, th_4: 5.217882102534218, th_0: 4.388057877254737}  samples= None\n",
      "E= 0.21195522  angles= {th_3: 1.148094649544312, th_1: 6.159346269248839, th_5: 2.265028114318244, th_2: 2.6740232159330732, th_4: 5.217882102534218, th_0: 4.388057877254737}  samples= None\n",
      "E= 0.21195775  angles= {th_3: 1.148094649544312, th_1: 6.159346269248839, th_5: 2.2649281143182436, th_2: 2.6741232159330734, th_4: 5.217882102534218, th_0: 4.388057877254737}  samples= None\n",
      "E= 0.21195106  angles= {th_3: 1.148094649544312, th_1: 6.159346269248839, th_5: 2.2649281143182436, th_2: 2.6740232159330732, th_4: 5.217982102534218, th_0: 4.388057877254737}  samples= None\n",
      "E= 0.21195696  angles= {th_3: 1.148094649544312, th_1: 6.159346269248839, th_5: 2.2649281143182436, th_2: 2.6740232159330732, th_4: 5.217882102534218, th_0: 4.388157877254737}  samples= None\n",
      "E= 0.2016922  angles= {th_3: 1.2444604434810351, th_1: 6.1018791696392904, th_5: 2.2649281143182436, th_2: 2.4266287259519705, th_4: 5.478885487350103, th_0: 4.363835254819255}  samples= None\n",
      "E= 0.20168617  angles= {th_3: 1.2445604434810351, th_1: 6.1018791696392904, th_5: 2.2649281143182436, th_2: 2.4266287259519705, th_4: 5.478885487350103, th_0: 4.363835254819255}  samples= None\n",
      "E= 0.20168915  angles= {th_3: 1.2444604434810351, th_1: 6.10197916963929, th_5: 2.2649281143182436, th_2: 2.4266287259519705, th_4: 5.478885487350103, th_0: 4.363835254819255}  samples= None\n",
      "E= 0.2016922  angles= {th_3: 1.2444604434810351, th_1: 6.1018791696392904, th_5: 2.265028114318244, th_2: 2.4266287259519705, th_4: 5.478885487350103, th_0: 4.363835254819255}  samples= None\n",
      "E= 0.20169355  angles= {th_3: 1.2444604434810351, th_1: 6.1018791696392904, th_5: 2.2649281143182436, th_2: 2.4267287259519708, th_4: 5.478885487350103, th_0: 4.363835254819255}  samples= None\n",
      "E= 0.20169495  angles= {th_3: 1.2444604434810351, th_1: 6.1018791696392904, th_5: 2.2649281143182436, th_2: 2.4266287259519705, th_4: 5.478985487350103, th_0: 4.363835254819255}  samples= None\n",
      "E= 0.20168822  angles= {th_3: 1.2444604434810351, th_1: 6.1018791696392904, th_5: 2.2649281143182436, th_2: 2.4266287259519705, th_4: 5.478885487350103, th_0: 4.363935254819255}  samples= None\n",
      "E= 0.1915752  angles= {th_3: 1.4299786730981758, th_1: 6.176207353797343, th_5: 2.2649281143182436, th_2: 2.3885509858226244, th_4: 5.558070209314283, th_0: 4.381325986344758}  samples= None\n",
      "E= 0.1915699  angles= {th_3: 1.4300786730981758, th_1: 6.176207353797343, th_5: 2.2649281143182436, th_2: 2.3885509858226244, th_4: 5.558070209314283, th_0: 4.381325986344758}  samples= None\n",
      "E= 0.19157724  angles= {th_3: 1.4299786730981758, th_1: 6.176307353797343, th_5: 2.2649281143182436, th_2: 2.3885509858226244, th_4: 5.558070209314283, th_0: 4.381325986344758}  samples= None\n",
      "E= 0.1915752  angles= {th_3: 1.4299786730981758, th_1: 6.176207353797343, th_5: 2.265028114318244, th_2: 2.3885509858226244, th_4: 5.558070209314283, th_0: 4.381325986344758}  samples= None\n",
      "E= 0.19157602  angles= {th_3: 1.4299786730981758, th_1: 6.176207353797343, th_5: 2.2649281143182436, th_2: 2.3886509858226246, th_4: 5.558070209314283, th_0: 4.381325986344758}  samples= None\n",
      "E= 0.19157761  angles= {th_3: 1.4299786730981758, th_1: 6.176207353797343, th_5: 2.2649281143182436, th_2: 2.3885509858226244, th_4: 5.558170209314283, th_0: 4.381325986344758}  samples= None\n",
      "E= 0.19157234  angles= {th_3: 1.4299786730981758, th_1: 6.176207353797343, th_5: 2.2649281143182436, th_2: 2.3885509858226244, th_4: 5.558070209314283, th_0: 4.381425986344758}  samples= None\n",
      "E= 0.27546346  angles= {th_3: 2.5130677607136187, th_1: 6.1254215029298225, th_5: 2.2649281143182436, th_2: 2.1089301195996115, th_4: 5.803502072110343, th_0: 4.5065843905637815}  samples= None\n",
      "E= 0.27548355  angles= {th_3: 2.513167760713619, th_1: 6.1254215029298225, th_5: 2.2649281143182436, th_2: 2.1089301195996115, th_4: 5.803502072110343, th_0: 4.5065843905637815}  samples= None\n",
      "E= 0.27548385  angles= {th_3: 2.5130677607136187, th_1: 6.125521502929822, th_5: 2.2649281143182436, th_2: 2.1089301195996115, th_4: 5.803502072110343, th_0: 4.5065843905637815}  samples= None\n",
      "E= 0.27546346  angles= {th_3: 2.5130677607136187, th_1: 6.1254215029298225, th_5: 2.265028114318244, th_2: 2.1089301195996115, th_4: 5.803502072110343, th_0: 4.5065843905637815}  samples= None\n",
      "E= 0.27545232  angles= {th_3: 2.5130677607136187, th_1: 6.1254215029298225, th_5: 2.2649281143182436, th_2: 2.1090301195996117, th_4: 5.803502072110343, th_0: 4.5065843905637815}  samples= None\n",
      "E= 0.27546293  angles= {th_3: 2.5130677607136187, th_1: 6.1254215029298225, th_5: 2.2649281143182436, th_2: 2.1089301195996115, th_4: 5.803602072110343, th_0: 4.5065843905637815}  samples= None\n",
      "E= 0.275472  angles= {th_3: 2.5130677607136187, th_1: 6.1254215029298225, th_5: 2.2649281143182436, th_2: 2.1089301195996115, th_4: 5.803502072110343, th_0: 4.506684390563781}  samples= None\n",
      "E= 0.18158504  angles= {th_3: 1.6646228877912523, th_1: 6.165204929130168, th_5: 2.2649281143182436, th_2: 2.327972941673783, th_4: 5.611241427974819, th_0: 4.40846240589487}  samples= None\n",
      "E= 0.18158223  angles= {th_3: 1.6647228877912523, th_1: 6.165204929130168, th_5: 2.2649281143182436, th_2: 2.327972941673783, th_4: 5.611241427974819, th_0: 4.40846240589487}  samples= None\n"
     ]
    },
    {
     "name": "stdout",
     "output_type": "stream",
     "text": [
      "E= 0.18159097  angles= {th_3: 1.6646228877912523, th_1: 6.165304929130167, th_5: 2.2649281143182436, th_2: 2.327972941673783, th_4: 5.611241427974819, th_0: 4.40846240589487}  samples= None\n",
      "E= 0.18158504  angles= {th_3: 1.6646228877912523, th_1: 6.165204929130168, th_5: 2.265028114318244, th_2: 2.327972941673783, th_4: 5.611241427974819, th_0: 4.40846240589487}  samples= None\n",
      "E= 0.18158302  angles= {th_3: 1.6646228877912523, th_1: 6.165204929130168, th_5: 2.2649281143182436, th_2: 2.328072941673783, th_4: 5.611241427974819, th_0: 4.40846240589487}  samples= None\n",
      "E= 0.18158612  angles= {th_3: 1.6646228877912523, th_1: 6.165204929130168, th_5: 2.2649281143182436, th_2: 2.327972941673783, th_4: 5.611341427974819, th_0: 4.40846240589487}  samples= None\n",
      "E= 0.18158358  angles= {th_3: 1.6646228877912523, th_1: 6.165204929130168, th_5: 2.2649281143182436, th_2: 2.327972941673783, th_4: 5.611241427974819, th_0: 4.40856240589487}  samples= None\n",
      "E= 0.17630722  angles= {th_3: 2.17236923617612, th_1: 6.021932025766595, th_5: 2.2649281143182436, th_2: 2.4111502360248553, th_4: 5.575999945916157, th_0: 4.457769495214364}  samples= None\n",
      "E= 0.17631468  angles= {th_3: 2.1724692361761204, th_1: 6.021932025766595, th_5: 2.2649281143182436, th_2: 2.4111502360248553, th_4: 5.575999945916157, th_0: 4.457769495214364}  samples= None\n",
      "E= 0.17631596  angles= {th_3: 2.17236923617612, th_1: 6.0220320257665945, th_5: 2.2649281143182436, th_2: 2.4111502360248553, th_4: 5.575999945916157, th_0: 4.457769495214364}  samples= None\n",
      "E= 0.17630722  angles= {th_3: 2.17236923617612, th_1: 6.021932025766595, th_5: 2.265028114318244, th_2: 2.4111502360248553, th_4: 5.575999945916157, th_0: 4.457769495214364}  samples= None\n",
      "E= 0.17629832  angles= {th_3: 2.17236923617612, th_1: 6.021932025766595, th_5: 2.2649281143182436, th_2: 2.4112502360248556, th_4: 5.575999945916157, th_0: 4.457769495214364}  samples= None\n",
      "E= 0.17630312  angles= {th_3: 2.17236923617612, th_1: 6.021932025766595, th_5: 2.2649281143182436, th_2: 2.4111502360248553, th_4: 5.576099945916157, th_0: 4.457769495214364}  samples= None\n",
      "E= 0.17630924  angles= {th_3: 2.17236923617612, th_1: 6.021932025766595, th_5: 2.2649281143182436, th_2: 2.4111502360248553, th_4: 5.575999945916157, th_0: 4.457869495214363}  samples= None\n",
      "E= 0.16243193  angles= {th_3: 2.048132294624637, th_1: 5.985314401584417, th_5: 2.2649281143182436, th_2: 2.5795908504537337, th_4: 5.478056612010423, th_0: 4.454730836133098}  samples= None\n",
      "E= 0.16243263  angles= {th_3: 2.048232294624637, th_1: 5.985314401584417, th_5: 2.2649281143182436, th_2: 2.5795908504537337, th_4: 5.478056612010423, th_0: 4.454730836133098}  samples= None\n",
      "E= 0.16243409  angles= {th_3: 2.048132294624637, th_1: 5.985414401584417, th_5: 2.2649281143182436, th_2: 2.5795908504537337, th_4: 5.478056612010423, th_0: 4.454730836133098}  samples= None\n",
      "E= 0.16243193  angles= {th_3: 2.048132294624637, th_1: 5.985314401584417, th_5: 2.265028114318244, th_2: 2.5795908504537337, th_4: 5.478056612010423, th_0: 4.454730836133098}  samples= None\n",
      "E= 0.16242781  angles= {th_3: 2.048132294624637, th_1: 5.985314401584417, th_5: 2.2649281143182436, th_2: 2.579690850453734, th_4: 5.478056612010423, th_0: 4.454730836133098}  samples= None\n",
      "E= 0.16242707  angles= {th_3: 2.048132294624637, th_1: 5.985314401584417, th_5: 2.2649281143182436, th_2: 2.5795908504537337, th_4: 5.478156612010423, th_0: 4.454730836133098}  samples= None\n",
      "E= 0.16242886  angles= {th_3: 2.048132294624637, th_1: 5.985314401584417, th_5: 2.2649281143182436, th_2: 2.5795908504537337, th_4: 5.478056612010423, th_0: 4.454830836133098}  samples= None\n",
      "E= 0.15082256  angles= {th_3: 2.1208025730016455, th_1: 5.945723474987625, th_5: 2.2649281143182436, th_2: 2.7854540880778913, th_4: 5.536405407624682, th_0: 4.520609149454594}  samples= None\n",
      "E= 0.1508202  angles= {th_3: 2.1209025730016458, th_1: 5.945723474987625, th_5: 2.2649281143182436, th_2: 2.7854540880778913, th_4: 5.536405407624682, th_0: 4.520609149454594}  samples= None\n",
      "E= 0.15082186  angles= {th_3: 2.1208025730016455, th_1: 5.945823474987625, th_5: 2.2649281143182436, th_2: 2.7854540880778913, th_4: 5.536405407624682, th_0: 4.520609149454594}  samples= None\n",
      "E= 0.15082256  angles= {th_3: 2.1208025730016455, th_1: 5.945723474987625, th_5: 2.265028114318244, th_2: 2.7854540880778913, th_4: 5.536405407624682, th_0: 4.520609149454594}  samples= None\n",
      "E= 0.15082099  angles= {th_3: 2.1208025730016455, th_1: 5.945723474987625, th_5: 2.2649281143182436, th_2: 2.7855540880778915, th_4: 5.536405407624682, th_0: 4.520609149454594}  samples= None\n",
      "E= 0.15081978  angles= {th_3: 2.1208025730016455, th_1: 5.945723474987625, th_5: 2.2649281143182436, th_2: 2.7854540880778913, th_4: 5.536505407624682, th_0: 4.520609149454594}  samples= None\n",
      "E= 0.15081754  angles= {th_3: 2.1208025730016455, th_1: 5.945723474987625, th_5: 2.2649281143182436, th_2: 2.7854540880778913, th_4: 5.536405407624682, th_0: 4.520709149454594}  samples= None\n",
      "E= 0.12230899  angles= {th_3: 2.7983103147950192, th_1: 5.71783137826947, th_5: 2.2649281143182436, th_2: 3.8212318150928315, th_4: 5.77925924099318, th_0: 4.897708874049599}  samples= None\n",
      "E= 0.12230303  angles= {th_3: 2.7984103147950194, th_1: 5.71783137826947, th_5: 2.2649281143182436, th_2: 3.8212318150928315, th_4: 5.77925924099318, th_0: 4.897708874049599}  samples= None\n",
      "E= 0.122311756  angles= {th_3: 2.7983103147950192, th_1: 5.71793137826947, th_5: 2.2649281143182436, th_2: 3.8212318150928315, th_4: 5.77925924099318, th_0: 4.897708874049599}  samples= None\n",
      "E= 0.12230899  angles= {th_3: 2.7983103147950192, th_1: 5.71783137826947, th_5: 2.265028114318244, th_2: 3.8212318150928315, th_4: 5.77925924099318, th_0: 4.897708874049599}  samples= None\n",
      "E= 0.12231524  angles= {th_3: 2.7983103147950192, th_1: 5.71783137826947, th_5: 2.2649281143182436, th_2: 3.8213318150928317, th_4: 5.77925924099318, th_0: 4.897708874049599}  samples= None\n",
      "E= 0.12230748  angles= {th_3: 2.7983103147950192, th_1: 5.71783137826947, th_5: 2.2649281143182436, th_2: 3.8212318150928315, th_4: 5.7793592409931795, th_0: 4.897708874049599}  samples= None\n",
      "E= 0.12230732  angles= {th_3: 2.7983103147950192, th_1: 5.71783137826947, th_5: 2.2649281143182436, th_2: 3.8212318150928315, th_4: 5.77925924099318, th_0: 4.897808874049598}  samples= None\n",
      "E= 0.12641633  angles= {th_3: 3.0361219376318043, th_1: 5.546777736623034, th_5: 2.2649281143182436, th_2: 3.82250995371412, th_4: 5.955687414682701, th_0: 5.017617582973436}  samples= None\n",
      "E= 0.12642233  angles= {th_3: 3.0362219376318045, th_1: 5.546777736623034, th_5: 2.2649281143182436, th_2: 3.82250995371412, th_4: 5.955687414682701, th_0: 5.017617582973436}  samples= None\n",
      "E= 0.12641765  angles= {th_3: 3.0361219376318043, th_1: 5.546877736623034, th_5: 2.2649281143182436, th_2: 3.82250995371412, th_4: 5.955687414682701, th_0: 5.017617582973436}  samples= None\n",
      "E= 0.12641633  angles= {th_3: 3.0361219376318043, th_1: 5.546777736623034, th_5: 2.265028114318244, th_2: 3.82250995371412, th_4: 5.955687414682701, th_0: 5.017617582973436}  samples= None\n",
      "E= 0.12641029  angles= {th_3: 3.0361219376318043, th_1: 5.546777736623034, th_5: 2.2649281143182436, th_2: 3.82260995371412, th_4: 5.955687414682701, th_0: 5.017617582973436}  samples= None\n",
      "E= 0.12642342  angles= {th_3: 3.0361219376318043, th_1: 5.546777736623034, th_5: 2.2649281143182436, th_2: 3.82250995371412, th_4: 5.955787414682701, th_0: 5.017617582973436}  samples= None\n",
      "E= 0.12642135  angles= {th_3: 3.0361219376318043, th_1: 5.546777736623034, th_5: 2.2649281143182436, th_2: 3.82250995371412, th_4: 5.955687414682701, th_0: 5.017717582973436}  samples= None\n",
      "E= 0.11733448  angles= {th_3: 2.8978614492588814, th_1: 5.646226029981827, th_5: 2.2649281143182436, th_2: 3.8217668610600284, th_4: 5.853114440468579, th_0: 4.947904267626546}  samples= None\n",
      "E= 0.11733426  angles= {th_3: 2.8979614492588817, th_1: 5.646226029981827, th_5: 2.2649281143182436, th_2: 3.8217668610600284, th_4: 5.853114440468579, th_0: 4.947904267626546}  samples= None\n",
      "E= 0.11733689  angles= {th_3: 2.8978614492588814, th_1: 5.646326029981827, th_5: 2.2649281143182436, th_2: 3.8217668610600284, th_4: 5.853114440468579, th_0: 4.947904267626546}  samples= None\n"
     ]
    },
    {
     "name": "stdout",
     "output_type": "stream",
     "text": [
      "E= 0.11733448  angles= {th_3: 2.8978614492588814, th_1: 5.646226029981827, th_5: 2.265028114318244, th_2: 3.8217668610600284, th_4: 5.853114440468579, th_0: 4.947904267626546}  samples= None\n",
      "E= 0.11733515  angles= {th_3: 2.8978614492588814, th_1: 5.646226029981827, th_5: 2.2649281143182436, th_2: 3.8218668610600286, th_4: 5.853114440468579, th_0: 4.947904267626546}  samples= None\n",
      "E= 0.11733623  angles= {th_3: 2.8978614492588814, th_1: 5.646226029981827, th_5: 2.2649281143182436, th_2: 3.8217668610600284, th_4: 5.853214440468578, th_0: 4.947904267626546}  samples= None\n",
      "E= 0.11733569  angles= {th_3: 2.8978614492588814, th_1: 5.646226029981827, th_5: 2.2649281143182436, th_2: 3.8217668610600284, th_4: 5.853114440468579, th_0: 4.948004267626546}  samples= None\n",
      "E= 0.118078776  angles= {th_3: 2.872177090450349, th_1: 5.61329682905599, th_5: 2.2649281143182436, th_2: 3.7276811176536535, th_4: 5.768657902247089, th_0: 4.909862538182983}  samples= None\n",
      "E= 0.11808023  angles= {th_3: 2.8722770904503494, th_1: 5.61329682905599, th_5: 2.2649281143182436, th_2: 3.7276811176536535, th_4: 5.768657902247089, th_0: 4.909862538182983}  samples= None\n",
      "E= 0.11807711  angles= {th_3: 2.872177090450349, th_1: 5.61339682905599, th_5: 2.2649281143182436, th_2: 3.7276811176536535, th_4: 5.768657902247089, th_0: 4.909862538182983}  samples= None\n",
      "E= 0.118078776  angles= {th_3: 2.872177090450349, th_1: 5.61329682905599, th_5: 2.265028114318244, th_2: 3.7276811176536535, th_4: 5.768657902247089, th_0: 4.909862538182983}  samples= None\n",
      "E= 0.118076794  angles= {th_3: 2.872177090450349, th_1: 5.61329682905599, th_5: 2.2649281143182436, th_2: 3.7277811176536537, th_4: 5.768657902247089, th_0: 4.909862538182983}  samples= None\n",
      "E= 0.11807619  angles= {th_3: 2.872177090450349, th_1: 5.61329682905599, th_5: 2.2649281143182436, th_2: 3.7276811176536535, th_4: 5.7687579022470885, th_0: 4.909862538182983}  samples= None\n",
      "E= 0.118076935  angles= {th_3: 2.872177090450349, th_1: 5.61329682905599, th_5: 2.2649281143182436, th_2: 3.7276811176536535, th_4: 5.768657902247089, th_0: 4.909962538182983}  samples= None\n",
      "E= 0.11666117  angles= {th_3: 2.887314070962604, th_1: 5.63270353009199, th_5: 2.2649281143182436, th_2: 3.783130197579691, th_4: 5.818432046220133, th_0: 4.932282288721915}  samples= None\n",
      "E= 0.116661616  angles= {th_3: 2.8874140709626044, th_1: 5.63270353009199, th_5: 2.2649281143182436, th_2: 3.783130197579691, th_4: 5.818432046220133, th_0: 4.932282288721915}  samples= None\n",
      "E= 0.11666203  angles= {th_3: 2.887314070962604, th_1: 5.63280353009199, th_5: 2.2649281143182436, th_2: 3.783130197579691, th_4: 5.818432046220133, th_0: 4.932282288721915}  samples= None\n",
      "E= 0.11666117  angles= {th_3: 2.887314070962604, th_1: 5.63270353009199, th_5: 2.265028114318244, th_2: 3.783130197579691, th_4: 5.818432046220133, th_0: 4.932282288721915}  samples= None\n",
      "E= 0.1166608  angles= {th_3: 2.887314070962604, th_1: 5.63270353009199, th_5: 2.2649281143182436, th_2: 3.7832301975796914, th_4: 5.818432046220133, th_0: 4.932282288721915}  samples= None\n",
      "E= 0.116661236  angles= {th_3: 2.887314070962604, th_1: 5.63270353009199, th_5: 2.2649281143182436, th_2: 3.783130197579691, th_4: 5.818532046220133, th_0: 4.932282288721915}  samples= None\n",
      "E= 0.11666124  angles= {th_3: 2.887314070962604, th_1: 5.63270353009199, th_5: 2.2649281143182436, th_2: 3.783130197579691, th_4: 5.818432046220133, th_0: 4.932382288721914}  samples= None\n"
     ]
    }
   ],
   "source": [
    "layers = 3\n",
    "nclass = 2\n",
    "training_set = 400\n",
    "\n",
    "# generate the training set and its corresponding labels\n",
    "xdata, ydata = circle(training_set)\n",
    "\n",
    "# generate the variational parameters\n",
    "param = [tq.Variable(name='th_{}'.format(i)) for i in range(0,2*layers)]\n",
    "\n",
    "# initialize the variational parameters\n",
    "# note that due to the random initialization the result can be different from time to time\n",
    "# With gradient based optimization you might get stuck\n",
    "inval = {key : random.uniform(0, 2*np.pi) for key in param}\n",
    "\n",
    "grad = '2-point' # numerical gradient (= None: analytical gradient)\n",
    "mthd = 'L-BFGS-B' # scipy minimization method\n",
    "mthd_opt = {'eps':1.e-4} # method options (thats the stepsize for the gradients)\n",
    "\n",
    "obj = cost(xdata, ydata, param, nclass) # objective to be optimized: cost function\n",
    "\n",
    "t0 = time.time()\n",
    "# depending on the optimizer this will take a while\n",
    "test = tq.minimize(objective=obj, initial_values=inval, method = mthd,\n",
    "                                   gradient = grad, method_options = mthd_opt, silent=False)\n",
    "t1 = time.time()"
   ]
  },
  {
   "cell_type": "markdown",
   "metadata": {},
   "source": [
    "Extract the results:"
   ]
  },
  {
   "cell_type": "code",
   "execution_count": 11,
   "metadata": {},
   "outputs": [
    {
     "name": "stdout",
     "output_type": "stream",
     "text": [
      "loss =  0.11666116863489151\n",
      "method:  L-BFGS-B\n",
      "method parameters:  {'eps': 0.0001, 'maxiter': 100, 'disp': True}\n",
      "execution time =  10.459963019688924  min\n"
     ]
    },
    {
     "data": {
      "image/png": "[encoded data removed]",
      "text/plain": [
       "<Figure size 432x288 with 1 Axes>"
      ]
     },
     "metadata": {
      "needs_background": "light"
     },
     "output_type": "display_data"
    },
    {
     "name": "stdout",
     "output_type": "stream",
     "text": [
      "None\n"
     ]
    },
    {
     "data": {
      "image/png": "[encoded data removed]",
      "text/plain": [
       "<Figure size 432x288 with 1 Axes>"
      ]
     },
     "metadata": {
      "needs_background": "light"
     },
     "output_type": "display_data"
    },
    {
     "name": "stdout",
     "output_type": "stream",
     "text": [
      "None\n"
     ]
    }
   ],
   "source": [
    "print(\"loss = \", test.energy)\n",
    "print(\"method: \", mthd)\n",
    "print(\"method parameters: \", mthd_opt)\n",
    "print(\"execution time = \", (t1-t0)/60, \" min\")\n",
    "\n",
    "print(test.history.plot('energies', label='loss'))\n",
    "print(test.history.plot('angles', label=\"\"))"
   ]
  },
  {
   "cell_type": "markdown",
   "metadata": {},
   "source": [
    "### Test\n",
    "\n",
    "Once trained, we have the optimal parameters for the classifier stored in `test.angles`. We run again the classifier with the test data set and with these parameters fixed."
   ]
  },
  {
   "cell_type": "code",
   "execution_count": 12,
   "metadata": {},
   "outputs": [
    {
     "name": "stdout",
     "output_type": "stream",
     "text": [
      "success %:  85.3 %\n",
      "random success %:  49.7 %\n"
     ]
    }
   ],
   "source": [
    "test_set = 1000\n",
    "\n",
    "# initialize\n",
    "xval_test, yval_test, yval_rand, yval_real = [], [], [], []\n",
    "suc = 0 # success\n",
    "suc_rand = 0 # random success\n",
    "\n",
    "for i in range(test_set):\n",
    "    \n",
    "    # random test point\n",
    "    x = 2 * (np.random.rand(2)) - 1\n",
    "    \n",
    "    # state generated by the trained classifier\n",
    "    qc = qcircuit(x, param)\n",
    "    wfn_qc = tq.simulate(qc, variables=test.angles) \n",
    "        \n",
    "    if nclass == 2:\n",
    "        \n",
    "        # compute the fidelity respect to one of the label states, the |0>\n",
    "        f = abs(wfn_qc.inner(targ_wfn(0,nclass)))**2\n",
    "\n",
    "        y = 1\n",
    "        # if fidelity is >= 0.5, we conclude that this state belongs to |0> class\n",
    "        # (|1> class otherwise)\n",
    "        if f >= 0.5:\n",
    "            y = 0\n",
    "            \n",
    "        # check the real class of the data point\n",
    "        y_real = circle(random=False, x_input=x)\n",
    "        \n",
    "    else:\n",
    "        raise Exception(\"nclass = {} is not considered\".format(nclass))\n",
    "    \n",
    "    # compute success rate \n",
    "    if y == y_real:\n",
    "        suc = suc + 1\n",
    "        \n",
    "    # compute random success rate \n",
    "    yrand = np.random.randint(0, nclass-1)\n",
    "    if yrand == y_real:\n",
    "        suc_rand = suc_rand + 1\n",
    "        \n",
    "    xval_test.append(x)\n",
    "    yval_test.append(y)\n",
    "    yval_real.append(y_real)\n",
    "    \n",
    "print(\"success %: \", 100*suc/test_set,\"%\")\n",
    "print(\"random success %: \", 100*suc_rand/test_set,\"%\")"
   ]
  },
  {
   "cell_type": "markdown",
   "metadata": {},
   "source": [
    "Print results:"
   ]
  },
  {
   "cell_type": "code",
   "execution_count": 13,
   "metadata": {},
   "outputs": [],
   "source": [
    "def plot_data(x, y, nclass, fig=None, ax=None):\n",
    "    \"\"\"\n",
    "    Arg:\n",
    "        - x (array[tuple]): data points\n",
    "        - y (array[int]): data labels\n",
    "        - nclass (int): number of classes\n",
    "    Returns:\n",
    "        - Plot\n",
    "    \"\"\"    \n",
    "    if fig == None:\n",
    "        fig, ax = plt.subplots(1, 1, figsize=(5, 5))\n",
    "     \n",
    "    # colors and labels\n",
    "    col = [\"red\",\"blue\",\"green\",\"yellow\"]\n",
    "    lab = [0,1,2,3]\n",
    "    \n",
    "    for i in range(nclass):\n",
    "        ax.scatter(x[y == lab[i], 0], x[y == lab[i], 1], c=col[i], s=20, edgecolor=\"k\")\n",
    "    ax.set_xlabel(\"$x_1$\")\n",
    "    ax.set_ylabel(\"$x_2$\")"
   ]
  },
  {
   "cell_type": "code",
   "execution_count": 14,
   "metadata": {},
   "outputs": [
    {
     "data": {
      "image/png": "[encoded data removed]",
      "text/plain": [
       "<Figure size 432x216 with 2 Axes>"
      ]
     },
     "metadata": {
      "needs_background": "light"
     },
     "output_type": "display_data"
    },
    {
     "name": "stdout",
     "output_type": "stream",
     "text": [
      "Total execution time:  14.799842230478923  min.\n"
     ]
    }
   ],
   "source": [
    "xval_test = np.array(xval_test)\n",
    "yval_test = np.array(yval_test)\n",
    "yval_real = np.array(yval_real)\n",
    "\n",
    "fig, axes = plt.subplots(1, 2, figsize=(6, 3))\n",
    "\n",
    "plot_data(xval_test, yval_test, nclass, fig, axes[0])\n",
    "plot_data(xval_test, yval_real, nclass, fig, axes[1])\n",
    "\n",
    "axes[0].set_title(\"Single-qubit class. {} layers\".format(layers))\n",
    "axes[1].set_title(\"True test data\")\n",
    "fig.tight_layout(pad=0.5)\n",
    "plt.show()\n",
    "\n",
    "t2 = time.time()\n",
    "print(\"Total execution time: \", (t2-t0)/60,\" min.\")"
   ]
  },
  {
   "cell_type": "markdown",
   "metadata": {},
   "source": [
    "### Improvements and customization\n",
    "\n",
    "This tutorial just shows a simple classification example. It is constructed in a way that one can easily change the classification model and try more sophisticated problems comprising more classes. To do so, one should define the target states for >2 classes, i.e. include more vectors in the Bloch sphere.\n",
    "\n",
    "The single-qubit classifier circuit can also be modified to include higher dimensional data or to increase/reduce the number of parameters per layer.\n",
    "\n",
    "The cost function can also be improved. See for instance the weigthed fidelity cost function proposed in the main reference.\n",
    "\n",
    "Finally, the core of any variational algorithm is the minimization method. Tequila provides many methods besides the scipy ones. See the optimizers tutorial for more information.\n",
    "\n",
    "Note that random initialization \n",
    "\n",
    "One possibility to play with is to use Phoenics for initial exploration and a gradient based optimizer with the best phoenics results as starting point."
   ]
  },
  {
   "cell_type": "code",
   "execution_count": null,
   "metadata": {},
   "outputs": [],
   "source": []
  }
 ],
 "metadata": {
  "kernelspec": {
   "display_name": "tequila-3.6",
   "language": "python",
   "name": "tequila-3.6"
  },
  "language_info": {
   "codemirror_mode": {
    "name": "ipython",
    "version": 3
   },
   "file_extension": ".py",
   "mimetype": "text/x-python",
   "name": "python",
   "nbconvert_exporter": "python",
   "pygments_lexer": "ipython3",
   "version": "3.6.9"
  }
 },
 "nbformat": 4,
 "nbformat_minor": 4
}
