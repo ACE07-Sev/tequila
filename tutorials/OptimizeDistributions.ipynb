{
 "cells": [
  {
   "cell_type": "markdown",
   "metadata": {},
   "source": [
    "# Training Distributions with KM Divergence"
   ]
  },
  {
   "cell_type": "markdown",
   "metadata": {},
   "source": [
    "Short tutorial on how to form objectives like in this paper  \n",
    "https://arxiv.org/pdf/1801.07686.pdf\n",
    "\n",
    "First some imports and the advice to use `tq.numpy` for functions in objectives (avoid issues in automatic differentiations and use the regular `numpy` for everything else (avoid issues with jax where you don't want them)"
   ]
  },
  {
   "cell_type": "code",
   "execution_count": 1,
   "metadata": {},
   "outputs": [],
   "source": [
    "import tequila as tq\n",
    "import numpy"
   ]
  },
  {
   "cell_type": "markdown",
   "metadata": {},
   "source": [
    "First we define the $\\max(x,\\epsilon)$ function we will need further down the road and some global variables for this example"
   ]
  },
  {
   "cell_type": "code",
   "execution_count": 60,
   "metadata": {},
   "outputs": [],
   "source": [
    "# global variables, change here if you want\n",
    "eps = 1.e-8\n",
    "n_qubits = 5\n",
    "n_layers = 1\n",
    "\n",
    "def my_max(x):\n",
    "    if x<eps:\n",
    "        return eps\n",
    "    else:\n",
    "        return x"
   ]
  },
  {
   "cell_type": "markdown",
   "metadata": {},
   "source": [
    "In this example we will train for the generation of GHZ state (as in the paper above).  \n",
    "The ansatz template consists of `Rx` gates and Mølmer-Sørensen gates which are just rotations around XX.  \n",
    "We give here the option of using multiple layers, but one layer actually suffices for this example"
   ]
  },
  {
   "cell_type": "code",
   "execution_count": 61,
   "metadata": {},
   "outputs": [],
   "source": [
    "# create ansatz\n",
    "U = tq.QCircuit()\n",
    "for layer in range(n_layers):\n",
    "    for q in range(n_qubits):\n",
    "        # name can be any non-numeric hashable type\n",
    "        # scaling variables with pi in this example\n",
    "        variable = tq.Variable(name=(layer, q))\n",
    "        U += tq.gates.Rx(angle=variable*tq.numpy.pi, target=q)\n",
    "    for q in range(n_qubits):\n",
    "        for p in range(q+1, n_qubits):\n",
    "            U += tq.gates.ExpPauli(angle=tq.numpy.pi / 2.0, paulistring=\"X({})X({})\".format(q, p))"
   ]
  },
  {
   "cell_type": "markdown",
   "metadata": {},
   "source": [
    "Here are some demonstrations on how to extract informations from your template circuit U"
   ]
  },
  {
   "cell_type": "code",
   "execution_count": 62,
   "metadata": {},
   "outputs": [
    {
     "name": "stdout",
     "output_type": "stream",
     "text": [
      "circuit: \n",
      "Rx(target=(0,), parameter=f((0, 0)))\n",
      "Rx(target=(1,), parameter=f((0, 1)))\n",
      "Rx(target=(2,), parameter=f((0, 2)))\n",
      "Rx(target=(3,), parameter=f((0, 3)))\n",
      "Rx(target=(4,), parameter=f((0, 4)))\n",
      "Exp-Pauli(target=(0, 1), control=(), parameter=1.5707963267948966, paulistring=X(0)X(1))\n",
      "Exp-Pauli(target=(0, 2), control=(), parameter=1.5707963267948966, paulistring=X(0)X(2))\n",
      "Exp-Pauli(target=(0, 3), control=(), parameter=1.5707963267948966, paulistring=X(0)X(3))\n",
      "Exp-Pauli(target=(0, 4), control=(), parameter=1.5707963267948966, paulistring=X(0)X(4))\n",
      "Exp-Pauli(target=(1, 2), control=(), parameter=1.5707963267948966, paulistring=X(1)X(2))\n",
      "Exp-Pauli(target=(1, 3), control=(), parameter=1.5707963267948966, paulistring=X(1)X(3))\n",
      "Exp-Pauli(target=(1, 4), control=(), parameter=1.5707963267948966, paulistring=X(1)X(4))\n",
      "Exp-Pauli(target=(2, 3), control=(), parameter=1.5707963267948966, paulistring=X(2)X(3))\n",
      "Exp-Pauli(target=(2, 4), control=(), parameter=1.5707963267948966, paulistring=X(2)X(4))\n",
      "Exp-Pauli(target=(3, 4), control=(), parameter=1.5707963267948966, paulistring=X(3)X(4))\n",
      "\n",
      "Circuit depends on variables:  [(0, 1), (0, 0), (0, 4), (0, 3), (0, 2)]\n"
     ]
    }
   ],
   "source": [
    "print(U)\n",
    "print(\"Circuit depends on variables: \", U.extract_variables())"
   ]
  },
  {
   "cell_type": "markdown",
   "metadata": {},
   "source": [
    "The circuit is parametrized by variables, so if we want to simulate it we will have to choose for which values we want to simulate the wavefunction. Here is an example where we set all variables to $\\pi$.  \n",
    "Variables are passed down to the simulator as a dictionary holding the variable names and values"
   ]
  },
  {
   "cell_type": "code",
   "execution_count": 63,
   "metadata": {},
   "outputs": [
    {
     "name": "stdout",
     "output_type": "stream",
     "text": [
      "wfn with variables =  {(0, 1): 1.0, (0, 0): 1.0, (0, 4): 1.0, (0, 3): 1.0, (0, 2): 1.0}\n",
      "+0.2500|10000> +0.2500|01000> +0.2500|00100> -0.2500|11100> +0.2500|00010> -0.2500|11010> -0.2500|10110> -0.2500|01110> +0.2500|00001> -0.2500|11001> -0.2500|10101> -0.2500|01101> -0.2500|10011> -0.2500|01011> -0.2500|00111> +0.2500|11111> \n"
     ]
    }
   ],
   "source": [
    "variables = {k : 1.0 for k in U.extract_variables()}\n",
    "wfn = tq.simulate(U, variables=variables)\n",
    "print(\"wfn with variables = \", variables)\n",
    "print(wfn)"
   ]
  },
  {
   "cell_type": "markdown",
   "metadata": {},
   "source": [
    "Instead of simulating directly the circuit can also be compiled and afterwards be used like a function"
   ]
  },
  {
   "cell_type": "code",
   "execution_count": 64,
   "metadata": {},
   "outputs": [
    {
     "name": "stdout",
     "output_type": "stream",
     "text": [
      "+0.2500|10000> +0.2500|01000> +0.2500|00100> -0.2500|11100> +0.2500|00010> -0.2500|11010> -0.2500|10110> -0.2500|01110> +0.2500|00001> -0.2500|11001> -0.2500|10101> -0.2500|01101> -0.2500|10011> -0.2500|01011> -0.2500|00111> +0.2500|11111> \n"
     ]
    }
   ],
   "source": [
    "compiledU = tq.compile(U)\n",
    "wfn = compiledU(variables=variables)\n",
    "print(wfn)"
   ]
  },
  {
   "cell_type": "markdown",
   "metadata": {},
   "source": [
    "Next we will define the target distribution which we want to optimize for. It is the distribution of a GHZ state, i.e. $P(00..0) = 0.5$ and $P(11..1)=0.5$ where in the following we will use binary notation for easier coding i.e $00...0=0$ and $11..1=2^{n-1}+2^{n-2}+..+1$"
   ]
  },
  {
   "cell_type": "code",
   "execution_count": 65,
   "metadata": {},
   "outputs": [],
   "source": [
    "one = sum([2**i for i in range(n_qubits)])\n",
    "target_distribution = {0:0.5, one:0.5}"
   ]
  },
  {
   "cell_type": "markdown",
   "metadata": {},
   "source": [
    "For the tequila objective Born's rule will be used. In order to make this work we need to reformulate this as an expectation value. This can be achieved as \n",
    "$$\\displaystyle \\lvert\\langle ijk..l \\rvert \\Psi \\rangle\\rvert^2 = \\langle \\Psi \\rvert H \\lvert \\Psi \\rangle$$\n",
    "where $i,j,k..,l \\in \\left\\{0,1 \\right\\}$ and the Hamiltonian is\n",
    "$$ \\displaystyle H = \\lvert ijk..l \\rangle \\langle ijk..l \\rvert = \\otimes_{m \\in (ijk..l)} \\frac{1}{n}\\left( 1 + (-1)^{m}\\sigma_Z \\right)$$\n",
    "\n",
    "Tequila has a convenience shortcut for the operator $$Q_{\\pm} = \\frac{1}{2}\\left( 1 \\pm \\sigma_Z \\right) $$\n",
    "\n",
    "Lets build the Kullback–Leibler divergence of the distribution P generated by our template U and the target distribution Q\n",
    "\n",
    "$$ \\displaystyle D(P,Q) = -\\frac{1}{2^n} \\sum_{x} P(x) \\ln\\left(\\frac{P(x)}{Q(x)}\\right) $$\n",
    "\n",
    "where we use the same safety barrier as in the paper to prevent taking logarithms of zero (this is where the mymax function fron above is needed). In the end we will square the objective to avoid negative values and assure that zero is the minimum."
   ]
  },
  {
   "cell_type": "code",
   "execution_count": 66,
   "metadata": {},
   "outputs": [],
   "source": [
    "objective = tq.Objective()\n",
    "\n",
    "for k, Q in target_distribution.items():\n",
    "    Q = my_max(Q) # here we apply the mymax function to avoid having zeros\n",
    "    wfn = tq.QubitWaveFunction.from_int(k, n_qubits=n_qubits)\n",
    "    H = tq.paulis.Projector(wfn=wfn)\n",
    "    P = tq.ExpectationValue(H=H, U=U)  # this is the born rule expectation value from above\n",
    "    P = P.apply(my_max) # here we apply the mymax function to avoid having zeros\n",
    "    objective += Q*(Q / P).apply(tq.numpy.log) # here we take the logarithm and sum up\n",
    "    \n",
    "objective = 1.0/2.0**n_qubits *objective\n",
    "objective = objective**2 # here we take the square"
   ]
  },
  {
   "cell_type": "markdown",
   "metadata": {},
   "source": [
    "Lets see what we created here.\n",
    "Tequila created an objective with 4 expectationvalues (we had 2 values in the target_distribution, and P entered twice each) but only 2 unique expectationvalues (meaning the simulator will only evaluate those two)"
   ]
  },
  {
   "cell_type": "code",
   "execution_count": 67,
   "metadata": {},
   "outputs": [
    {
     "name": "stdout",
     "output_type": "stream",
     "text": [
      "Objective with 2(2) (unique) expectation values\n",
      "Objective = f(E_0, E_1)\n",
      "variables = [(0, 1), (0, 0), (0, 4), (0, 3), (0, 2)]\n"
     ]
    }
   ],
   "source": [
    "print(objective)"
   ]
  },
  {
   "cell_type": "markdown",
   "metadata": {},
   "source": [
    "Objectives can be compiled and simulated in the same way as the circuits above. \n",
    "Here is a small demonstration.  \n",
    "Since our objective is parametrized we need to pass the variables down again. We will use the same as in the example above.\n"
   ]
  },
  {
   "cell_type": "code",
   "execution_count": 68,
   "metadata": {},
   "outputs": [
    {
     "name": "stdout",
     "output_type": "stream",
     "text": [
      "value1 =  0.09578033\n",
      "value2 =  0.09578033\n",
      "value3 =  0.004561313\n"
     ]
    }
   ],
   "source": [
    "value1 = tq.simulate(objective, variables=variables)\n",
    "compiled = tq.compile(objective)\n",
    "value2 = compiled(variables=variables)\n",
    "variables2 = {k:1.1 for k in objective.extract_variables()}\n",
    "value3 = compiled(variables=variables2)\n",
    "print(\"value1 = \", value1)\n",
    "print(\"value2 = \", value2)\n",
    "print(\"value3 = \", value3)"
   ]
  },
  {
   "cell_type": "markdown",
   "metadata": {},
   "source": [
    "Lets optimize our objective with one of the inbuildt optimizers in tequila.  \n",
    "If no initial_values are passed down, random initialization will be used.  \n",
    "Check the OptimizerSciPy Tutorial for more information"
   ]
  },
  {
   "cell_type": "code",
   "execution_count": 69,
   "metadata": {},
   "outputs": [
    {
     "name": "stdout",
     "output_type": "stream",
     "text": [
      "ObjectiveType is <class 'tequila.objective.objective.Objective'>\n",
      "Starting COBYLA optimization\n",
      "Objective: 2 expectationvalues\n",
      "Gradients: None\n",
      "Hessian: None\n",
      "\n",
      "backend: <class 'tequila.simulators.simulator_qulacs.BackendExpectationValueQulacs'>\n",
      "samples: None\n",
      "5 active variables\n",
      "E= 0.010895542  angles= {(0, 1): 1.531211673116563, (0, 0): 1.841181227473755, (0, 4): 0.18870540402113228, (0, 3): 3.2418531455859934, (0, 2): 6.160619934250367}  samples= None\n",
      "E= 0.013796777  angles= {(0, 1): 2.5312116731165633, (0, 0): 1.841181227473755, (0, 4): 0.18870540402113228, (0, 3): 3.2418531455859934, (0, 2): 6.160619934250367}  samples= None\n",
      "E= 0.01885075  angles= {(0, 1): 1.531211673116563, (0, 0): 2.841181227473755, (0, 4): 0.18870540402113228, (0, 3): 3.2418531455859934, (0, 2): 6.160619934250367}  samples= None\n",
      "E= 0.0042121196  angles= {(0, 1): 1.531211673116563, (0, 0): 1.841181227473755, (0, 4): 1.1887054040211322, (0, 3): 3.2418531455859934, (0, 2): 6.160619934250367}  samples= None\n",
      "E= 0.013892421  angles= {(0, 1): 1.531211673116563, (0, 0): 1.841181227473755, (0, 4): 1.1887054040211322, (0, 3): 4.241853145585994, (0, 2): 6.160619934250367}  samples= None\n",
      "E= 0.0010194797  angles= {(0, 1): 1.531211673116563, (0, 0): 1.841181227473755, (0, 4): 1.1887054040211322, (0, 3): 3.2418531455859934, (0, 2): 7.160619934250367}  samples= None\n",
      "E= 0.017043255  angles= {(0, 1): 1.335731127028647, (0, 0): 1.3051722570986883, (0, 4): 1.6390235490755498, (0, 3): 2.5896101773715166, (0, 2): 7.375734830127312}  samples= None\n",
      "E= 0.010896036  angles= {(0, 1): 1.5028713197086452, (0, 0): 2.3259700205282776, (0, 4): 1.2539915699964437, (0, 3): 3.1472923486322433, (0, 2): 7.191806833890592}  samples= None\n",
      "E= 0.0010882838  angles= {(0, 1): 1.760536865730923, (0, 0): 1.841181227473755, (0, 4): 1.2882541661047797, (0, 3): 3.2418531455859934, (0, 2): 7.160619934250367}  samples= None\n",
      "E= 0.007518519  angles= {(0, 1): 1.7212596199936583, (0, 0): 1.7359924642189992, (0, 4): 0.7454879896198852, (0, 3): 3.166024514364076, (0, 2): 7.185628817296585}  samples= None\n",
      "E= 0.00031524096  angles= {(0, 1): 1.4876316906544664, (0, 0): 1.6984821283388132, (0, 4): 1.2817535793261656, (0, 3): 3.708681533931908, (0, 2): 7.194546990436239}  samples= None\n",
      "E= 7.460549e-05  angles= {(0, 1): 1.42654866802094, (0, 0): 1.5155508909093833, (0, 4): 1.4175794106039836, (0, 3): 3.6290160523569566, (0, 2): 7.217125327877478}  samples= None\n",
      "E= 0.00025707742  angles= {(0, 1): 1.4276681947218808, (0, 0): 1.4964003182143462, (0, 4): 1.415000416441159, (0, 3): 3.632751479912436, (0, 2): 7.093689524337728}  samples= None\n",
      "E= 0.00016413856  angles= {(0, 1): 1.3390872090542676, (0, 0): 1.6518396147319627, (0, 4): 1.6066743778257955, (0, 3): 3.6517604358894924, (0, 2): 7.218415034565276}  samples= None\n",
      "E= 0.0001398014  angles= {(0, 1): 1.3129279096714885, (0, 0): 1.5149942594523436, (0, 4): 1.3654753329740363, (0, 3): 3.6286147870489867, (0, 2): 7.217257668353573}  samples= None\n",
      "E= 3.7846134e-05  angles= {(0, 1): 1.4637931273906406, (0, 0): 1.3827175157663785, (0, 4): 1.4681624966387725, (0, 3): 3.7264798705080513, (0, 2): 7.39435484080629}  samples= None\n",
      "E= 5.5998066e-06  angles= {(0, 1): 1.506824674774379, (0, 0): 1.3943703626314494, (0, 4): 1.4674356888549716, (0, 3): 3.614814822469137, (0, 2): 7.428529186251561}  samples= None\n",
      "E= 2.5475603e-05  angles= {(0, 1): 1.4037758092349908, (0, 0): 1.3032313521152532, (0, 4): 1.5084220069900907, (0, 3): 3.545012387385456, (0, 2): 7.620941124174573}  samples= None\n",
      "E= 5.922075e-06  angles= {(0, 1): 1.5497960124158952, (0, 0): 1.4652460062925503, (0, 4): 1.4129551805882905, (0, 3): 3.641777891057737, (0, 2): 7.499662683481867}  samples= None\n",
      "E= 1.260406e-05  angles= {(0, 1): 1.5139199018610643, (0, 0): 1.3570343312201176, (0, 4): 1.4180343189372917, (0, 3): 3.61271210351345, (0, 2): 7.424404657879691}  samples= None\n",
      "E= 1.0021213e-05  angles= {(0, 1): 1.6129420588619108, (0, 0): 1.3786646996978582, (0, 4): 1.5267489177109084, (0, 3): 3.5908576098669465, (0, 2): 7.43357158580459}  samples= None\n",
      "E= 1.3261803e-06  angles= {(0, 1): 1.491162611809405, (0, 0): 1.4671370617083497, (0, 4): 1.4583939028688522, (0, 3): 3.521465267816088, (0, 2): 7.3926291299648135}  samples= None\n",
      "E= 3.0886437e-07  angles= {(0, 1): 1.4672728438601574, (0, 0): 1.4577084754389737, (0, 4): 1.4750932183248897, (0, 3): 3.49346161332127, (0, 2): 7.4393576966722}  samples= None\n",
      "E= 5.8559334e-07  angles= {(0, 1): 1.4406340148408603, (0, 0): 1.4644807228231687, (0, 4): 1.4658357922167418, (0, 3): 3.5049083323477577, (0, 2): 7.437273316853465}  samples= None\n",
      "E= 1.8667205e-07  angles= {(0, 1): 1.4648853416898668, (0, 0): 1.4951635543641548, (0, 4): 1.5250650717534473, (0, 3): 3.4927828422272196, (0, 2): 7.439499226923255}  samples= None\n",
      "E= 6.4611885e-07  angles= {(0, 1): 1.4542269408913224, (0, 0): 1.4770199825050163, (0, 4): 1.5381135021827859, (0, 3): 3.486019677773321, (0, 2): 7.421673126325814}  samples= None\n",
      "E= 2.9078677e-07  angles= {(0, 1): 1.469572304279436, (0, 0): 1.5219180183987742, (0, 4): 1.508095465083778, (0, 3): 3.441267538330714, (0, 2): 7.454555353577598}  samples= None\n",
      "E= 2.309884e-08  angles= {(0, 1): 1.4817923844635597, (0, 0): 1.4866408974400849, (0, 4): 1.5374331173478601, (0, 3): 3.506614956523311, (0, 2): 7.496098434390122}  samples= None\n",
      "E= 1.3097304e-08  angles= {(0, 1): 1.506270642337053, (0, 0): 1.499970277141714, (0, 4): 1.5319749700804541, (0, 3): 3.519192182893943, (0, 2): 7.492673958740078}  samples= None\n",
      "E= 3.5912965e-08  angles= {(0, 1): 1.502757716895648, (0, 0): 1.5100112988894638, (0, 4): 1.5433662135381236, (0, 3): 3.5202784828005367, (0, 2): 7.492480601285136}  samples= None\n",
      "E= 1.4750175e-08  angles= {(0, 1): 1.4907852820936607, (0, 0): 1.5104383455239632, (0, 4): 1.5144050917054843, (0, 3): 3.534168583355247, (0, 2): 7.502379239034244}  samples= None\n",
      "E= 5.0101274e-09  angles= {(0, 1): 1.507970261774902, (0, 0): 1.5073567219004755, (0, 4): 1.5272064167845125, (0, 3): 3.5072309624256714, (0, 2): 7.497243691441825}  samples= None\n",
      "E= 1.3464287e-08  angles= {(0, 1): 1.521492648608162, (0, 0): 1.4952949070067265, (0, 4): 1.5220985140690682, (0, 3): 3.5063722593766333, (0, 2): 7.522171429701117}  samples= None\n",
      "E= 1.9965436e-09  angles= {(0, 1): 1.5141464816136376, (0, 0): 1.5023625635812847, (0, 4): 1.503406719610544, (0, 3): 3.4979689140259023, (0, 2): 7.481080026478265}  samples= None\n",
      "E= 7.553868e-09  angles= {(0, 1): 1.5179899429929908, (0, 0): 1.5159095508211813, (0, 4): 1.5032418501598312, (0, 3): 3.491816901255875, (0, 2): 7.478256354526863}  samples= None\n",
      "E= 4.181875e-09  angles= {(0, 1): 1.5169628864933478, (0, 0): 1.4992431339907948, (0, 4): 1.507954287034138, (0, 3): 3.4937701872358624, (0, 2): 7.47883002587738}  samples= None\n",
      "E= 7.635914e-10  angles= {(0, 1): 1.5009074697941487, (0, 0): 1.4999337153040913, (0, 4): 1.5005684334892975, (0, 3): 3.49093624124656, (0, 2): 7.483415734628366}  samples= None\n",
      "E= 4.2903664e-10  angles= {(0, 1): 1.5040841271841436, (0, 0): 1.4990325346684938, (0, 4): 1.4984727910186462, (0, 3): 3.488161656879771, (0, 2): 7.489583541512939}  samples= None\n",
      "E= 3.7243186e-10  angles= {(0, 1): 1.5004027947361371, (0, 0): 1.4912135167788958, (0, 4): 1.4893732605369794, (0, 3): 3.4968498881085868, (0, 2): 7.492924882378108}  samples= None\n",
      "E= 9.077972e-11  angles= {(0, 1): 1.4984712425292914, (0, 0): 1.4906635437030933, (0, 4): 1.4949592996448653, (0, 3): 3.499795732105863, (0, 2): 7.497062509979403}  samples= None\n",
      "E= 1.5143607e-10  angles= {(0, 1): 1.4930722375038805, (0, 0): 1.5029432897699895, (0, 4): 1.490661130484291, (0, 3): 3.5018693454064413, (0, 2): 7.503498741486651}  samples= None\n",
      "E= 2.8312538e-10  angles= {(0, 1): 1.4946445737510838, (0, 0): 1.4875622127658723, (0, 4): 1.4962539098570764, (0, 3): 3.4956186446185056, (0, 2): 7.501263632835394}  samples= None\n",
      "E= 9.063785e-11  angles= {(0, 1): 1.501445927401055, (0, 0): 1.4905571395430952, (0, 4): 1.4943768032123759, (0, 3): 3.49941502664348, (0, 2): 7.4994944800425385}  samples= None\n",
      "E= 9.55239e-11  angles= {(0, 1): 1.5030010923122925, (0, 0): 1.4908987622591776, (0, 4): 1.4986665412773812, (0, 3): 3.5057457925084954, (0, 2): 7.499633990489128}  samples= None\n",
      "E= 2.322628e-10  angles= {(0, 1): 1.500383458428687, (0, 0): 1.4884665394691234, (0, 4): 1.4920909696502986, (0, 3): 3.5013166050754343, (0, 2): 7.5004527620832615}  samples= None\n",
      "E= 7.218596e-11  angles= {(0, 1): 1.500047237982107, (0, 0): 1.4907660857944696, (0, 4): 1.5004538521612898, (0, 3): 3.4954755671864346, (0, 2): 7.50206066415171}  samples= None\n",
      "E= 4.7383646e-11  angles= {(0, 1): 1.5019840441165166, (0, 0): 1.4928480696677415, (0, 4): 1.5012915357966676, (0, 3): 3.49430020841187, (0, 2): 7.499804620692527}  samples= None\n",
      "E= 1.0884324e-10  angles= {(0, 1): 1.5038915270855944, (0, 0): 1.4931623939536813, (0, 4): 1.5029624981492486, (0, 3): 3.4923254601059126, (0, 2): 7.497606951023805}  samples= None\n",
      "E= 6.324198e-11  angles= {(0, 1): 1.5014991691288864, (0, 0): 1.4930061283312712, (0, 4): 1.5001595804277241, (0, 3): 3.4927953552163937, (0, 2): 7.499897920604978}  samples= None\n",
      "E= 8.99229e-12  angles= {(0, 1): 1.501342593684049, (0, 0): 1.49627558848081, (0, 4): 1.5015696280390076, (0, 3): 3.4955558451922375, (0, 2): 7.501006904424342}  samples= None\n",
      "E= 1.6455825e-11  angles= {(0, 1): 1.5044190391907784, (0, 0): 1.4964924006638531, (0, 4): 1.4998855325273706, (0, 3): 3.496235674902608, (0, 2): 7.502571806484054}  samples= None\n",
      "E= 4.684275e-12  angles= {(0, 1): 1.5013084386981692, (0, 0): 1.4961888510424048, (0, 4): 1.5006840301673752, (0, 3): 3.496651240027908, (0, 2): 7.499657151156856}  samples= None\n",
      "E= 4.546404e-13  angles= {(0, 1): 1.4994749040734918, (0, 0): 1.4992743988096904, (0, 4): 1.4993833998688006, (0, 3): 3.4972615895406998, (0, 2): 7.500215872122163}  samples= None\n",
      "E= 9.560313e-14  angles= {(0, 1): 1.4999165739989393, (0, 0): 1.5001719412607581, (0, 4): 1.5006767775801262, (0, 3): 3.4981654332382153, (0, 2): 7.499646413469214}  samples= None\n",
      "E= 2.936524e-14  angles= {(0, 1): 1.49959928534199, (0, 0): 1.4998067136658595, (0, 4): 1.500789875035015, (0, 3): 3.498838623132452, (0, 2): 7.50015003570909}  samples= None\n",
      "E= 1.2789623e-13  angles= {(0, 1): 1.498334224718156, (0, 0): 1.499892363312599, (0, 4): 1.5003718229507594, (0, 3): 3.499402363033707, (0, 2): 7.49884067983682}  samples= None\n",
      "E= 1.9983987e-15  angles= {(0, 1): 1.5001694362840037, (0, 0): 1.499819287528772, (0, 4): 1.5001817237717523, (0, 3): 3.499325687788964, (0, 2): 7.500003870805411}  samples= None\n",
      "E= 5.86332e-14  angles= {(0, 1): 1.4997779953169246, (0, 0): 1.5014626444275851, (0, 4): 1.4998030415052028, (0, 3): 3.4996176012795615, (0, 2): 7.50085957846171}  samples= None\n",
      "E= 7.5994095e-14  angles= {(0, 1): 1.5010224647707338, (0, 0): 1.4998601955284963, (0, 4): 1.5015136777692444, (0, 3): 3.5004679113103174, (0, 2): 7.499922690895074}  samples= None\n",
      "E= 1.6042658e-14  angles= {(0, 1): 1.5002310466774973, (0, 0): 1.499153507695084, (0, 4): 1.499758874899294, (0, 3): 3.4993506518094044, (0, 2): 7.500615031178155}  samples= None\n",
      "E= 2.720042e-15  angles= {(0, 1): 1.4995447463859837, (0, 0): 1.4996123689199532, (0, 4): 1.4998833254873312, (0, 3): 3.499806076783365, (0, 2): 7.499506746979238}  samples= None\n"
     ]
    }
   ],
   "source": [
    "result = tq.optimizer_scipy.minimize(objective=objective, method=\"cobyla\")"
   ]
  },
  {
   "cell_type": "markdown",
   "metadata": {},
   "source": [
    "Lets compute our wavefunction with the optimized angles"
   ]
  },
  {
   "cell_type": "code",
   "execution_count": 70,
   "metadata": {},
   "outputs": [
    {
     "name": "stdout",
     "output_type": "stream",
     "text": [
      "-0.7071i|00000> +0.0004|10000> +0.0005|01000> +0.0005|00100> +0.0002|00010> +0.0001i|11110> +0.0001|00001> +0.0002i|11101> +0.0005i|11011> +0.0005i|10111> +0.0004i|01111> +0.7071|11111> \n"
     ]
    }
   ],
   "source": [
    "final_wfn = tq.simulate(U, variables=result.angles)\n",
    "print(final_wfn)"
   ]
  },
  {
   "cell_type": "markdown",
   "metadata": {},
   "source": [
    "And plot some information about the optimization "
   ]
  },
  {
   "cell_type": "code",
   "execution_count": 71,
   "metadata": {},
   "outputs": [
    {
     "data": {
      "image/png": "[encoded data removed]",
      "text/plain": [
       "<Figure size 432x288 with 1 Axes>"
      ]
     },
     "metadata": {
      "needs_background": "light"
     },
     "output_type": "display_data"
    }
   ],
   "source": [
    "result.history.plot(\"energies\")"
   ]
  },
  {
   "cell_type": "code",
   "execution_count": 72,
   "metadata": {},
   "outputs": [
    {
     "data": {
      "image/png": "[encoded data removed]",
      "text/plain": [
       "<Figure size 432x288 with 1 Axes>"
      ]
     },
     "metadata": {
      "needs_background": "light"
     },
     "output_type": "display_data"
    }
   ],
   "source": [
    "result.history.plot(\"angles\")"
   ]
  },
  {
   "cell_type": "code",
   "execution_count": null,
   "metadata": {},
   "outputs": [],
   "source": []
  }
 ],
 "metadata": {
  "kernelspec": {
   "display_name": "tequila-3.6",
   "language": "python",
   "name": "tequila-3.6"
  },
  "language_info": {
   "codemirror_mode": {
    "name": "ipython",
    "version": 3
   },
   "file_extension": ".py",
   "mimetype": "text/x-python",
   "name": "python",
   "nbconvert_exporter": "python",
   "pygments_lexer": "ipython3",
   "version": "3.6.9"
  }
 },
 "nbformat": 4,
 "nbformat_minor": 2
}
