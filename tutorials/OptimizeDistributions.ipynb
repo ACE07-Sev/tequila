{
 "cells": [
  {
   "cell_type": "markdown",
   "metadata": {},
   "source": [
    "# Training Distributions with KM Divergence"
   ]
  },
  {
   "cell_type": "markdown",
   "metadata": {},
   "source": [
    "Short tutorial on how to form objectives like in this paper  \n",
    "https://arxiv.org/pdf/1801.07686.pdf\n",
    "\n",
    "First some imports and the advice to use `tq.numpy` for functions in objectives (avoid issues in automatic differentiations and use the regular `numpy` for everything else (avoid issues with jax where you don't want them)"
   ]
  },
  {
   "cell_type": "code",
   "execution_count": 1,
   "metadata": {},
   "outputs": [],
   "source": [
    "import tequila as tq\n",
    "import numpy"
   ]
  },
  {
   "cell_type": "markdown",
   "metadata": {},
   "source": [
    "First we define the $\\max(x,\\epsilon)$ function we will need further down the road and some global variables for this example"
   ]
  },
  {
   "cell_type": "code",
   "execution_count": 2,
   "metadata": {},
   "outputs": [],
   "source": [
    "# global variables, change here if you want\n",
    "eps = 1.e-8\n",
    "n_qubits = 5\n",
    "n_layers = 1\n",
    "\n",
    "def my_max(x):\n",
    "    if x<eps:\n",
    "        return eps\n",
    "    else:\n",
    "        return x"
   ]
  },
  {
   "cell_type": "markdown",
   "metadata": {},
   "source": [
    "In this example we will train for the generation of GHZ state (as in the paper above).  \n",
    "The ansatz template consists of `Rx` gates and Mølmer-Sørensen gates which are just rotations around XX.  \n",
    "We give here the option of using multiple layers, but one layer actually suffices for this example"
   ]
  },
  {
   "cell_type": "code",
   "execution_count": 3,
   "metadata": {},
   "outputs": [],
   "source": [
    "# create ansatz\n",
    "U = tq.QCircuit()\n",
    "for layer in range(n_layers):\n",
    "    for q in range(n_qubits):\n",
    "        # name can be any non-numeric hashable type\n",
    "        # scaling variables with pi in this example\n",
    "        variable = tq.Variable(name=(layer, q))\n",
    "        U += tq.gates.Rx(angle=variable*tq.numpy.pi, target=q)\n",
    "    for q in range(n_qubits):\n",
    "        for p in range(q+1, n_qubits):\n",
    "            U += tq.gates.ExpPauli(angle=tq.numpy.pi / 2.0, paulistring=\"X({})X({})\".format(q, p))"
   ]
  },
  {
   "cell_type": "markdown",
   "metadata": {},
   "source": [
    "Here are some demonstrations on how to extract informations from your template circuit U"
   ]
  },
  {
   "cell_type": "code",
   "execution_count": 4,
   "metadata": {},
   "outputs": [
    {
     "name": "stdout",
     "output_type": "stream",
     "text": [
      "circuit: \n",
      "Rx(target=(0,), parameter=Objective with 0 unique expectation values\n",
      "variables = [(0, 0)]\n",
      "types     = [])\n",
      "Rx(target=(1,), parameter=Objective with 0 unique expectation values\n",
      "variables = [(0, 1)]\n",
      "types     = [])\n",
      "Rx(target=(2,), parameter=Objective with 0 unique expectation values\n",
      "variables = [(0, 2)]\n",
      "types     = [])\n",
      "Rx(target=(3,), parameter=Objective with 0 unique expectation values\n",
      "variables = [(0, 3)]\n",
      "types     = [])\n",
      "Rx(target=(4,), parameter=Objective with 0 unique expectation values\n",
      "variables = [(0, 4)]\n",
      "types     = [])\n",
      "Exp-Pauli(target=(0, 1), control=(), parameter=1.5707963267948966, paulistring=X(0)X(1))\n",
      "Exp-Pauli(target=(0, 2), control=(), parameter=1.5707963267948966, paulistring=X(0)X(2))\n",
      "Exp-Pauli(target=(0, 3), control=(), parameter=1.5707963267948966, paulistring=X(0)X(3))\n",
      "Exp-Pauli(target=(0, 4), control=(), parameter=1.5707963267948966, paulistring=X(0)X(4))\n",
      "Exp-Pauli(target=(1, 2), control=(), parameter=1.5707963267948966, paulistring=X(1)X(2))\n",
      "Exp-Pauli(target=(1, 3), control=(), parameter=1.5707963267948966, paulistring=X(1)X(3))\n",
      "Exp-Pauli(target=(1, 4), control=(), parameter=1.5707963267948966, paulistring=X(1)X(4))\n",
      "Exp-Pauli(target=(2, 3), control=(), parameter=1.5707963267948966, paulistring=X(2)X(3))\n",
      "Exp-Pauli(target=(2, 4), control=(), parameter=1.5707963267948966, paulistring=X(2)X(4))\n",
      "Exp-Pauli(target=(3, 4), control=(), parameter=1.5707963267948966, paulistring=X(3)X(4))\n",
      "\n",
      "Circuit depends on variables:  [(0, 1), (0, 0), (0, 4), (0, 3), (0, 2)]\n"
     ]
    }
   ],
   "source": [
    "print(U)\n",
    "print(\"Circuit depends on variables: \", U.extract_variables())"
   ]
  },
  {
   "cell_type": "markdown",
   "metadata": {},
   "source": [
    "The circuit is parametrized by variables, so if we want to simulate it we will have to choose for which values we want to simulate the wavefunction. Here is an example where we set all variables to $\\pi$.  \n",
    "Variables are passed down to the simulator as a dictionary holding the variable names and values"
   ]
  },
  {
   "cell_type": "code",
   "execution_count": 5,
   "metadata": {},
   "outputs": [
    {
     "name": "stdout",
     "output_type": "stream",
     "text": [
      "wfn with variables =  {(0, 1): 1.0, (0, 0): 1.0, (0, 4): 1.0, (0, 3): 1.0, (0, 2): 1.0}\n",
      "+0.2500|10000> +0.2500|01000> +0.2500|00100> -0.2500|11100> +0.2500|00010> -0.2500|11010> -0.2500|10110> -0.2500|01110> +0.2500|00001> -0.2500|11001> -0.2500|10101> -0.2500|01101> -0.2500|10011> -0.2500|01011> -0.2500|00111> +0.2500|11111> \n"
     ]
    }
   ],
   "source": [
    "variables = {k : 1.0 for k in U.extract_variables()}\n",
    "wfn = tq.simulate(U, variables=variables)\n",
    "print(\"wfn with variables = \", variables)\n",
    "print(wfn)"
   ]
  },
  {
   "cell_type": "markdown",
   "metadata": {},
   "source": [
    "Instead of simulating directly the circuit can also be compiled and afterwards be used like a function"
   ]
  },
  {
   "cell_type": "code",
   "execution_count": 6,
   "metadata": {},
   "outputs": [
    {
     "name": "stdout",
     "output_type": "stream",
     "text": [
      "+0.2500|10000> +0.2500|01000> +0.2500|00100> -0.2500|11100> +0.2500|00010> -0.2500|11010> -0.2500|10110> -0.2500|01110> +0.2500|00001> -0.2500|11001> -0.2500|10101> -0.2500|01101> -0.2500|10011> -0.2500|01011> -0.2500|00111> +0.2500|11111> \n"
     ]
    }
   ],
   "source": [
    "compiledU = tq.compile(U)\n",
    "wfn = compiledU(variables=variables)\n",
    "print(wfn)"
   ]
  },
  {
   "cell_type": "markdown",
   "metadata": {},
   "source": [
    "Next we will define the target distribution which we want to optimize for. It is the distribution of a GHZ state, i.e. $P(00..0) = 0.5$ and $P(11..1)=0.5$ where in the following we will use binary notation for easier coding i.e $00...0=0$ and $11..1=2^{n-1}+2^{n-2}+..+1$"
   ]
  },
  {
   "cell_type": "code",
   "execution_count": 7,
   "metadata": {},
   "outputs": [],
   "source": [
    "one = sum([2**i for i in range(n_qubits)])\n",
    "target_distribution = {0:0.5, one:0.5}"
   ]
  },
  {
   "cell_type": "markdown",
   "metadata": {},
   "source": [
    "For the tequila objective Born's rule will be used. In order to make this work we need to reformulate this as an expectation value. This can be achieved as \n",
    "$$\\displaystyle \\lvert\\langle ijk..l \\rvert \\Psi \\rangle\\rvert^2 = \\langle \\Psi \\rvert H \\lvert \\Psi \\rangle$$\n",
    "where $i,j,k..,l \\in \\left\\{0,1 \\right\\}$ and the Hamiltonian is\n",
    "$$ \\displaystyle H = \\lvert ijk..l \\rangle \\langle ijk..l \\rvert = \\otimes_{m \\in (ijk..l)} \\frac{1}{n}\\left( 1 + (-1)^{m}\\sigma_Z \\right)$$\n",
    "\n",
    "Tequila has a convenience shortcut for the operator $$Q_{\\pm} = \\frac{1}{2}\\left( 1 \\pm \\sigma_Z \\right) $$\n",
    "\n",
    "Lets build the Kullback–Leibler divergence of the distribution P generated by our template U and the target distribution Q\n",
    "\n",
    "$$ \\displaystyle D(P,Q) = -\\frac{1}{2^n} \\sum_{x} P(x) \\ln\\left(\\frac{P(x)}{Q(x)}\\right) $$\n",
    "\n",
    "where we use the same safety barrier as in the paper to prevent taking logarithms of zero (this is where the mymax function fron above is needed). In the end we will square the objective to avoid negative values and assure that zero is the minimum."
   ]
  },
  {
   "cell_type": "code",
   "execution_count": 8,
   "metadata": {},
   "outputs": [],
   "source": [
    "objective = tq.Objective()\n",
    "\n",
    "for k, Q in target_distribution.items():\n",
    "    Q = my_max(Q) # here we apply the mymax function to avoid having zeros\n",
    "    wfn = tq.QubitWaveFunction.from_int(k, n_qubits=n_qubits)\n",
    "    H = tq.paulis.Projector(wfn=wfn)\n",
    "    P = tq.ExpectationValue(H=H, U=U)  # this is the born rule expectation value from above\n",
    "    P = P.apply(my_max) # here we apply the mymax function to avoid having zeros\n",
    "    objective += Q*(Q / P).apply(tq.numpy.log) # here we take the logarithm and sum up\n",
    "    \n",
    "objective = 1.0/2.0**n_qubits *objective\n",
    "objective = objective**2 # here we take the square"
   ]
  },
  {
   "cell_type": "markdown",
   "metadata": {},
   "source": [
    "Lets see what we created here.\n",
    "Tequila created an objective with 4 expectationvalues (we had 2 values in the target_distribution, and P entered twice each) but only 2 unique expectationvalues (meaning the simulator will only evaluate those two)"
   ]
  },
  {
   "cell_type": "code",
   "execution_count": 9,
   "metadata": {},
   "outputs": [
    {
     "name": "stdout",
     "output_type": "stream",
     "text": [
      "Objective with 2 unique expectation values\n",
      "variables = [(0, 1), (0, 0), (0, 4), (0, 3), (0, 2)]\n",
      "types     = not compiled\n"
     ]
    }
   ],
   "source": [
    "print(objective)"
   ]
  },
  {
   "cell_type": "markdown",
   "metadata": {},
   "source": [
    "Objectives can be compiled and simulated in the same way as the circuits above. \n",
    "Here is a small demonstration.  \n",
    "Since our objective is parametrized we need to pass the variables down again. We will use the same as in the example above.\n"
   ]
  },
  {
   "cell_type": "code",
   "execution_count": 10,
   "metadata": {},
   "outputs": [
    {
     "name": "stdout",
     "output_type": "stream",
     "text": [
      "value1 =  0.09578033\n",
      "value2 =  0.09578033\n",
      "value3 =  0.004561313\n"
     ]
    }
   ],
   "source": [
    "value1 = tq.simulate(objective, variables=variables)\n",
    "compiled = tq.compile(objective)\n",
    "value2 = compiled(variables=variables)\n",
    "variables2 = {k:1.1 for k in objective.extract_variables()}\n",
    "value3 = compiled(variables=variables2)\n",
    "print(\"value1 = \", value1)\n",
    "print(\"value2 = \", value2)\n",
    "print(\"value3 = \", value3)"
   ]
  },
  {
   "cell_type": "markdown",
   "metadata": {},
   "source": [
    "Lets optimize our objective with one of the inbuildt optimizers in tequila.  \n",
    "If no initial_values are passed down, random initialization will be used.  \n",
    "Check the OptimizerSciPy Tutorial for more information"
   ]
  },
  {
   "cell_type": "code",
   "execution_count": 11,
   "metadata": {},
   "outputs": [
    {
     "name": "stdout",
     "output_type": "stream",
     "text": [
      "ObjectiveType is <class 'tequila.objective.objective.Objective'>\n",
      "Starting COBYLA optimization\n",
      "Objective: 2 expectationvalues\n",
      "Gradients: None\n",
      "Hessian: None\n",
      "\n",
      "backend: <class 'tequila.simulators.simulator_qulacs.BackendExpectationValueQulacs'>\n",
      "samples: None\n",
      "5 active variables\n",
      "E= 0.066744454  angles= {(0, 1): 3.4425264666927258, (0, 0): 4.470487276324966, (0, 4): 2.5075054310641267, (0, 3): 4.887648793137172, (0, 2): 1.3607560223326998}  samples= None\n",
      "E= 0.011708341  angles= {(0, 1): 4.442526466692726, (0, 0): 4.470487276324966, (0, 4): 2.5075054310641267, (0, 3): 4.887648793137172, (0, 2): 1.3607560223326998}  samples= None\n",
      "E= 0.09016989  angles= {(0, 1): 4.442526466692726, (0, 0): 5.470487276324966, (0, 4): 2.5075054310641267, (0, 3): 4.887648793137172, (0, 2): 1.3607560223326998}  samples= None\n",
      "E= 0.18423903  angles= {(0, 1): 4.442526466692726, (0, 0): 4.470487276324966, (0, 4): 3.5075054310641267, (0, 3): 4.887648793137172, (0, 2): 1.3607560223326998}  samples= None\n",
      "E= 0.017092446  angles= {(0, 1): 4.442526466692726, (0, 0): 4.470487276324966, (0, 4): 2.5075054310641267, (0, 3): 5.887648793137172, (0, 2): 1.3607560223326998}  samples= None\n",
      "E= 0.00020210682  angles= {(0, 1): 4.442526466692726, (0, 0): 4.470487276324966, (0, 4): 2.5075054310641267, (0, 3): 4.887648793137172, (0, 2): 2.3607560223326995}  samples= None\n",
      "E= 0.016347203  angles= {(0, 1): 4.7208083415659425, (0, 0): 4.073758181183027, (0, 4): 1.6351298117339508, (0, 3): 4.860424870376499, (0, 2): 2.418935572113682}  samples= None\n",
      "E= 0.0016686432  angles= {(0, 1): 3.959349679783975, (0, 0): 4.4173661577783205, (0, 4): 2.39069633070041, (0, 3): 4.8840035721388055, (0, 2): 2.368546130995641}  samples= None\n",
      "E= 0.00032158662  angles= {(0, 1): 4.442526466692726, (0, 0): 4.698059756170757, (0, 4): 2.4040125983807124, (0, 3): 4.887648793137172, (0, 2): 2.3607560223326995}  samples= None\n",
      "E= 0.00041418883  angles= {(0, 1): 4.411485543271099, (0, 0): 4.626886639350763, (0, 4): 2.8782403944936084, (0, 3): 4.7625442582207995, (0, 2): 2.628113727575238}  samples= None\n",
      "E= 0.0104555655  angles= {(0, 1): 4.433889774633385, (0, 0): 4.507893768372256, (0, 4): 2.597223061971311, (0, 3): 5.372358259892329, (0, 2): 2.4351444720095268}  samples= None\n",
      "E= 0.0002597424  angles= {(0, 1): 4.434320419350513, (0, 0): 4.5060285973003005, (0, 4): 2.5927495409151033, (0, 3): 4.769733577123659, (0, 2): 2.1607587252045968}  samples= None\n",
      "E= 1.7238724e-05  angles= {(0, 1): 4.505503410040887, (0, 0): 4.420378381383249, (0, 4): 2.4091202212544154, (0, 3): 4.683943439438872, (0, 2): 2.4303798876347082}  samples= None\n",
      "E= 3.5363322e-05  angles= {(0, 1): 4.628531014626202, (0, 0): 4.399367661523753, (0, 4): 2.4088379247326563, (0, 3): 4.690700100534557, (0, 2): 2.428956511192268}  samples= None\n",
      "E= 3.7993086e-05  angles= {(0, 1): 4.500580720790152, (0, 0): 4.3992253407460655, (0, 4): 2.3626063730074716, (0, 3): 4.699053407057517, (0, 2): 2.398088761885268}  samples= None\n",
      "E= 8.707121e-06  angles= {(0, 1): 4.4829366549614935, (0, 0): 4.360712641505352, (0, 4): 2.4153623424675605, (0, 3): 4.60568436243457, (0, 2): 2.503812127415372}  samples= None\n",
      "E= 1.4042605e-05  angles= {(0, 1): 4.484775982651644, (0, 0): 4.377352306144323, (0, 4): 2.3850654375473117, (0, 3): 4.632114227247562, (0, 2): 2.548640112341879}  samples= None\n",
      "E= 1.399171e-06  angles= {(0, 1): 4.489823009730636, (0, 0): 4.44689500778561, (0, 4): 2.390611269226334, (0, 3): 4.519241734908075, (0, 2): 2.495735347113044}  samples= None\n",
      "E= 6.2702455e-08  angles= {(0, 1): 4.450293288288522, (0, 0): 4.489648631424967, (0, 4): 2.495095697920373, (0, 3): 4.498166986348494, (0, 2): 2.525288484375334}  samples= None\n",
      "E= 2.0432317e-08  angles= {(0, 1): 4.507754706085719, (0, 0): 4.486176299130543, (0, 4): 2.5141522249901724, (0, 3): 4.486478282590006, (0, 2): 2.5349114440893388}  samples= None\n",
      "E= 1.3370556e-07  angles= {(0, 1): 4.501318184859561, (0, 0): 4.468282755535435, (0, 4): 2.510781261396204, (0, 3): 4.467619794422543, (0, 2): 2.550657834805976}  samples= None\n",
      "E= 8.215125e-08  angles= {(0, 1): 4.5050916458602215, (0, 0): 4.493945769730871, (0, 4): 2.5220289559867526, (0, 3): 4.444655008555374, (0, 2): 2.489882960940806}  samples= None\n",
      "E= 5.0131998e-08  angles= {(0, 1): 4.509749083655431, (0, 0): 4.509283059704716, (0, 4): 2.500104906296741, (0, 3): 4.475824973717103, (0, 2): 2.5462181863903286}  samples= None\n",
      "E= 2.7860585e-07  angles= {(0, 1): 4.4961313910131775, (0, 0): 4.512351153299703, (0, 4): 2.5673274442507252, (0, 3): 4.497965214645213, (0, 2): 2.546157421347844}  samples= None\n",
      "E= 4.0537376e-08  angles= {(0, 1): 4.536638455143455, (0, 0): 4.479686957771149, (0, 4): 2.4794081050384276, (0, 3): 4.519314659795254, (0, 2): 2.507626174255518}  samples= None\n",
      "E= 1.10470936e-07  angles= {(0, 1): 4.509343005177843, (0, 0): 4.462025758401064, (0, 4): 2.502891270492293, (0, 3): 4.474795720051308, (0, 2): 2.5462030261217143}  samples= None\n",
      "E= 1.3522921e-08  angles= {(0, 1): 4.508099981217609, (0, 0): 4.487307873871312, (0, 4): 2.5150375088629566, (0, 3): 4.476800069231951, (0, 2): 2.5227340302690764}  samples= None\n",
      "E= 2.1423032e-08  angles= {(0, 1): 4.514906167530699, (0, 0): 4.4874722732832, (0, 4): 2.518368057171273, (0, 3): 4.47556174855282, (0, 2): 2.52416859181062}  samples= None\n",
      "E= 7.0348505e-09  angles= {(0, 1): 4.501468913730004, (0, 0): 4.493518721421205, (0, 4): 2.5230569259693323, (0, 3): 4.48366965125123, (0, 2): 2.5156564082220063}  samples= None\n",
      "E= 1.0697553e-08  angles= {(0, 1): 4.49014147970549, (0, 0): 4.484693930186314, (0, 4): 2.524617275576217, (0, 3): 4.482470717720073, (0, 2): 2.509818532703203}  samples= None\n",
      "E= 3.660216e-09  angles= {(0, 1): 4.504603467810357, (0, 0): 4.490999190259755, (0, 4): 2.520184078667229, (0, 3): 4.488228902203225, (0, 2): 2.5116787620802103}  samples= None\n",
      "E= 3.2169473e-10  angles= {(0, 1): 4.501413328966659, (0, 0): 4.500473398746555, (0, 4): 2.5099766194176536, (0, 3): 4.490035061669359, (0, 2): 2.5056167016748927}  samples= None\n",
      "E= 3.8241282e-10  angles= {(0, 1): 4.497106824729071, (0, 0): 4.500697800893861, (0, 4): 2.5071546064154626, (0, 3): 4.502367956908952, (0, 2): 2.513708687064933}  samples= None\n",
      "E= 4.92446e-10  angles= {(0, 1): 4.50805407038851, (0, 0): 4.506242291140899, (0, 4): 2.5130743377883955, (0, 3): 4.4987587682676455, (0, 2): 2.496613249948295}  samples= None\n",
      "E= 1.7937977e-10  angles= {(0, 1): 4.505495945821581, (0, 0): 4.498658482211001, (0, 4): 2.5035690956483188, (0, 3): 4.490058822047335, (0, 2): 2.505488060994214}  samples= None\n",
      "E= 1.0560411e-10  angles= {(0, 1): 4.503754521927436, (0, 0): 4.496118541223744, (0, 4): 2.5032268159446085, (0, 3): 4.490882699649883, (0, 2): 2.5032566932600417}  samples= None\n",
      "E= 6.8994505e-11  angles= {(0, 1): 4.49966108452483, (0, 0): 4.500279396653187, (0, 4): 2.4987482943887276, (0, 3): 4.489744422926123, (0, 2): 2.500887436129655}  samples= None\n",
      "E= 1.7888141e-10  angles= {(0, 1): 4.4980694199025795, (0, 0): 4.498740957412743, (0, 4): 2.498115917391724, (0, 3): 4.487570815319673, (0, 2): 2.503175257539442}  samples= None\n",
      "E= 5.2379972e-11  angles= {(0, 1): 4.502219956830183, (0, 0): 4.499382907616157, (0, 4): 2.496281904016598, (0, 3): 4.4930642094803686, (0, 2): 2.494839331306828}  samples= None\n",
      "E= 1.5960863e-10  angles= {(0, 1): 4.5028477034673005, (0, 0): 4.4995175109105165, (0, 4): 2.4976417688996095, (0, 3): 4.490043044890955, (0, 2): 2.4928721157114087}  samples= None\n",
      "E= 1.1693865e-11  angles= {(0, 1): 4.4981043420608025, (0, 0): 4.501088005973816, (0, 4): 2.4998960556896077, (0, 3): 4.498292135363642, (0, 2): 2.4939470255552854}  samples= None\n",
      "E= 1.5444384e-11  angles= {(0, 1): 4.499525246832767, (0, 0): 4.504604492074357, (0, 4): 2.500127156765287, (0, 3): 4.498258571898854, (0, 2): 2.4948523486925502}  samples= None\n",
      "E= 1.509506e-11  angles= {(0, 1): 4.4999481560532395, (0, 0): 4.499842971719647, (0, 4): 2.496597108169045, (0, 3): 4.504715197913951, (0, 2): 2.4959336328764814}  samples= None\n",
      "E= 1.6486057e-11  angles= {(0, 1): 4.49525266671444, (0, 0): 4.50183388817738, (0, 4): 2.498126633666108, (0, 3): 4.497766746230767, (0, 2): 2.4957256510025525}  samples= None\n",
      "E= 4.54028e-12  angles= {(0, 1): 4.498305777127573, (0, 0): 4.500539331210924, (0, 4): 2.5009287687278756, (0, 3): 4.498179816858005, (0, 2): 2.495494270047261}  samples= None\n",
      "E= 1.0697045e-11  angles= {(0, 1): 4.49712930117156, (0, 0): 4.500060381966478, (0, 4): 2.504266896825319, (0, 3): 4.499671928312721, (0, 2): 2.496019441657717}  samples= None\n",
      "E= 2.8982042e-12  angles= {(0, 1): 4.499345203314149, (0, 0): 4.499550873592296, (0, 4): 2.500871974172814, (0, 3): 4.4972162608301876, (0, 2): 2.4964028822661057}  samples= None\n",
      "E= 2.3100397e-12  angles= {(0, 1): 4.4980931166098586, (0, 0): 4.499626938514452, (0, 4): 2.5001856226959553, (0, 3): 4.496776323353082, (0, 2): 2.497658496436395}  samples= None\n",
      "E= 1.3945124e-12  angles= {(0, 1): 4.498155610429139, (0, 0): 4.499127890855602, (0, 4): 2.499790737145083, (0, 3): 4.497502666957795, (0, 2): 2.497789685775748}  samples= None\n",
      "E= 2.0995398e-13  angles= {(0, 1): 4.499109424202481, (0, 0): 4.500305459248663, (0, 4): 2.4996169282757146, (0, 3): 4.498108956035168, (0, 2): 2.4988482098721483}  samples= None\n",
      "E= 1.2789623e-13  angles= {(0, 1): 4.498914178572451, (0, 0): 4.50012032349124, (0, 4): 2.5004396606326735, (0, 3): 4.49838056568852, (0, 2): 2.499209620824808}  samples= None\n"
     ]
    },
    {
     "name": "stdout",
     "output_type": "stream",
     "text": [
      "E= 2.4480294e-14  angles= {(0, 1): 4.499698101023837, (0, 0): 4.499310494805422, (0, 4): 2.4998043005697097, (0, 3): 4.498952193051109, (0, 2): 2.5005564319118556}  samples= None\n",
      "E= 7.993583e-15  angles= {(0, 1): 4.499326205510247, (0, 0): 4.499673539774037, (0, 4): 2.4995718984801183, (0, 3): 4.499774135637364, (0, 2): 2.5005735120579367}  samples= None\n",
      "E= 1.3877772e-15  angles= {(0, 1): 4.49964116755396, (0, 0): 4.499576857812745, (0, 4): 2.4996773536136225, (0, 3): 4.499995096507456, (0, 2): 2.5002880177180864}  samples= None\n",
      "E= 1.9983987e-15  angles= {(0, 1): 4.5001479678239695, (0, 0): 4.5003068910411965, (0, 4): 2.4999388080132685, (0, 3): 4.499996793457169, (0, 2): 2.500664639131368}  samples= None\n",
      "E= 3.552707e-15  angles= {(0, 1): 4.49950863810869, (0, 0): 4.499441594671936, (0, 4): 2.5001007133181794, (0, 3): 4.500111544675713, (0, 2): 2.500434121152482}  samples= None\n",
      "E= 2.5659898e-14  angles= {(0, 1): 4.500035833338777, (0, 0): 4.499196570293154, (0, 4): 2.499274611982277, (0, 3): 4.500570204056963, (0, 2): 2.5007426283268708}  samples= None\n",
      "E= 3.1224968e-15  angles= {(0, 1): 4.499387499292286, (0, 0): 4.500076091878592, (0, 4): 2.499844204136092, (0, 3): 4.500210169959942, (0, 2): 2.499505507607158}  samples= None\n"
     ]
    }
   ],
   "source": [
    "result = tq.optimizer_scipy.minimize(objective=objective, method=\"cobyla\")"
   ]
  },
  {
   "cell_type": "markdown",
   "metadata": {},
   "source": [
    "Lets compute our wavefunction with the optimized angles"
   ]
  },
  {
   "cell_type": "code",
   "execution_count": 12,
   "metadata": {},
   "outputs": [
    {
     "name": "stdout",
     "output_type": "stream",
     "text": [
      "+0.7071i|00000> +0.0001|10000> -0.0007|01000> -0.0005|00100> +0.0002|00010> +0.0002i|11110> -0.0002|00001> -0.0002i|11101> +0.0005i|11011> +0.0007i|10111> -0.0001i|01111> +0.7071|11111> \n"
     ]
    }
   ],
   "source": [
    "final_wfn = tq.simulate(U, variables=result.angles)\n",
    "print(final_wfn)"
   ]
  },
  {
   "cell_type": "markdown",
   "metadata": {},
   "source": [
    "And plot some information about the optimization "
   ]
  },
  {
   "cell_type": "code",
   "execution_count": 13,
   "metadata": {},
   "outputs": [
    {
     "data": {
      "image/png": "[encoded data removed]",
      "text/plain": [
       "<Figure size 432x288 with 1 Axes>"
      ]
     },
     "metadata": {
      "needs_background": "light"
     },
     "output_type": "display_data"
    }
   ],
   "source": [
    "result.history.plot(\"energies\")"
   ]
  },
  {
   "cell_type": "code",
   "execution_count": 14,
   "metadata": {},
   "outputs": [
    {
     "data": {
      "image/png": "[encoded data removed]",
      "text/plain": [
       "<Figure size 432x288 with 1 Axes>"
      ]
     },
     "metadata": {
      "needs_background": "light"
     },
     "output_type": "display_data"
    }
   ],
   "source": [
    "result.history.plot(\"angles\")"
   ]
  },
  {
   "cell_type": "code",
   "execution_count": null,
   "metadata": {},
   "outputs": [],
   "source": []
  }
 ],
 "metadata": {
  "kernelspec": {
   "display_name": "tequila-3.6",
   "language": "python",
   "name": "tequila-3.6"
  },
  "language_info": {
   "codemirror_mode": {
    "name": "ipython",
    "version": 3
   },
   "file_extension": ".py",
   "mimetype": "text/x-python",
   "name": "python",
   "nbconvert_exporter": "python",
   "pygments_lexer": "ipython3",
   "version": "3.6.9"
  }
 },
 "nbformat": 4,
 "nbformat_minor": 2
}
