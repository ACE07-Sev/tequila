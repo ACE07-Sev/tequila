{
 "cells": [
  {
   "cell_type": "markdown",
   "metadata": {},
   "source": [
    "# Reduced Density Matrices in Tequila\n",
    "\n",
    "This notebook serves as a tutorial to the computation and usage of the one- and two-particle reduced density matrices."
   ]
  },
  {
   "cell_type": "code",
   "execution_count": 5,
   "metadata": {},
   "outputs": [],
   "source": [
    "import tequila as tq\n",
    "import numpy"
   ]
  },
  {
   "cell_type": "markdown",
   "metadata": {},
   "source": [
    "## The 1- and 2-RDM\n",
    "\n",
    "First, look at the definition of the reduced density matrices (RDM) for some state $ |\\psi\\rangle = U |0\\rangle^{\\otimes N_q}$ on an $N_q$-qubit system. In a **minimal** basis, this corresponds to $N_p = N_q/2$ particles/molecular orbitals. \n",
    "\n",
    "1-RDM: $ \\gamma^p_q \\equiv \\langle \\psi | a^p a_q | \\psi\\rangle$\n",
    "\n",
    "2-RDM $ \\gamma^{pq}_{rs} \\equiv \\langle \\psi | a^p a^q a_s a_r | \\psi\\rangle$ (we mainly use the standard physics ordering for the second-quantized operators, i.e. $p,r$ go with particle 1 and $q,s$ with particle 2)\n",
    "\n",
    "The operators $ a^p = a_p^\\dagger $ and $a_p$ denote the standard fermionic creation and annihilation operators.\n",
    "\n",
    "It is worth mentioning that since we only consider real orbitals in chemistry applications, the implementation also expects only real-valued RDM's.\n",
    "The well-known anticommutation relations yield a series of symmetry properties for the reduced density matrices, which can be taken into consideration to reduce the computational cost:\n",
    "$$ \\gamma^p_q = \\gamma^q_p $$\n",
    "$$ \\gamma^{pq}_{rs} = -\\gamma^{qp}_{rs} = -\\gamma^{pq}_{sr} = \\gamma^{qp}_{sr} = \\gamma^{rs}_{pq}$$\n",
    "\n",
    "In chemistry applications, solving the electronic structure problem with the electronic Hamiltonian (here in Born-Oppenheimer approximation)\n",
    "$$ H_{el} = \\sum_{pq} h^q_p a^p_q + \\sum_{pqrs} h^{rs}_{pq} a^{pq}_{rs}$$\n",
    "with the one- and two-body integrals $h^q_p, h^{rs}_{pq}$ turns out to be independent of spin. Thus it makes sense, to perform computations in terms of molecular, and not spin-orbitals ($N_p < N_q$, see above).\n",
    "\n",
    "Therefore, we introduce the spin-free RDMs $\\Gamma^P_Q$ and $\\Gamma^{PQ}_{RS}$, obtained by spin-summation:\n",
    "$$ \\Gamma^P_Q = \\sum_{\\sigma \\in \\{\\alpha, \\beta\\}} \\gamma^{p\\sigma}_{q\\sigma} = \\langle \\psi |\\sum_{\\sigma} a^{p\\sigma} a_{q\\sigma} | \\psi\\rangle $$\n",
    "$$ \\Gamma^{PQ}_{RS} = \\sum_{\\sigma,\\tau \\in \\{\\alpha, \\beta\\}} \\gamma^{p\\sigma q\\tau}_{r\\sigma s\\tau} = \\langle \\psi | \\sum_{\\sigma,\\tau}  a^{p\\sigma} a^{q\\tau} a_{s\\tau} a_{r\\sigma} | \\psi \\rangle.  $$ \n",
    "Note, that by making use of linearity, we obtain the second equality in the two expressions above. Performing the summation before evaluating the expected value means less expected values and a considerable reduction in computational cost. \n",
    "\n",
    "Due to the orthogonality of the spin states, the obtained symmetries are slightly less than for the spin-orbital RDMs:\n",
    "$$ \\Gamma^P_Q = \\Gamma^Q_P$$\n",
    "$$ \\Gamma^{PQ}_{RS} = \\gamma^{QP}_{SR} = \\gamma^{RS}_{PQ}$$\n",
    "\n",
    "Obtaining the RDMs from a quantum computer is most intuitive when using the Jordan-Wigner encoding, since the results directly correspond to the ones computed classically in second quantized form."
   ]
  },
  {
   "cell_type": "code",
   "execution_count": 3,
   "metadata": {},
   "outputs": [],
   "source": [
    "# As an example, let's use the Helium atom in a minimal basis\n",
    "mol = tq.chemistry.Molecule(geometry='He 0.0 0.0 0.0', basis_set='6-31g')\n",
    "\n",
    "# We need to set up a quantum circuit to solve this problem.\n",
    "# This can be done either using the make_uccsd-method or by a hand-written circuit\n",
    "U = tq.gates.X(0, 1) # and so on"
   ]
  },
  {
   "cell_type": "markdown",
   "metadata": {},
   "source": [
    "You can initialize a tequila `QubitHamiltonian` from a molecule with `make_hamiltonian`.\n",
    "The standard transformation is the `jordan-wigner` transformation.  \n",
    "You can use other transformations by initializing the molecule with the `transformation` keyword."
   ]
  },
  {
   "cell_type": "markdown",
   "metadata": {
    "pycharm": {
     "name": "#%% md\n"
    }
   },
   "source": [
    "You can also use different encodings for the computation, though note, that in order to compare with e.g. a psi4 rdm or\n",
    "in general a usual RDM, need to either use Jordan-Wigner (occupation number encoding) or do some post-treatment.\n"
   ]
  },
  {
   "cell_type": "markdown",
   "metadata": {
    "pycharm": {
     "name": "#%% md\n"
    }
   },
   "source": [
    "We can compute the following:\n",
    "\n",
    "Energy $E = \\langle H \\rangle = \\langle h^q_p a^p_q + h^{rs}_{pq}a^{pq}_{rs}\\rangle = h^q_p \\langle a^p_q \\rangle + h^{rs}_{pq}\\langle a^{pq}_{rs}\\rangle = h^q_p \\gamma^p_q + h^{rs}_{pq} \\gamma^{pq}_{rs}$\n",
    "toc check consistency.\n",
    "Also, we can use the fact, that\n",
    "$\\mathrm{tr} (\\mathbf{\\gamma}_1) = N $ and $ \\mathrm{tr} (\\mathbf{\\gamma}_2) = N(N-1)/2$\n",
    "\n",
    "\n",
    "\n",
    "\n"
   ]
  }
 ],
 "metadata": {
  "kernelspec": {
   "display_name": "PyCharm (tequila-1)",
   "language": "python",
   "name": "pycharm-b38bffe7"
  },
  "language_info": {
   "codemirror_mode": {
    "name": "ipython",
    "version": 3
   },
   "file_extension": ".py",
   "mimetype": "text/x-python",
   "name": "python",
   "nbconvert_exporter": "python",
   "pygments_lexer": "ipython3",
   "version": "3.7.7"
  }
 },
 "nbformat": 4,
 "nbformat_minor": 2
}