{
 "cells": [
  {
   "cell_type": "markdown",
   "metadata": {},
   "source": [
    "# Reduced Density Matrices in Tequila\n",
    "\n",
    "This notebook serves as a tutorial to the computation and usage of the one- and two-particle reduced density matrices."
   ]
  },
  {
   "cell_type": "code",
   "execution_count": 5,
   "metadata": {},
   "outputs": [],
   "source": [
    "import tequila as tq\n",
    "import numpy"
   ]
  },
  {
   "cell_type": "markdown",
   "metadata": {},
   "source": [
    "## The 1- and 2-RDM\n",
    "\n",
    "First, look at the definition of the reduced density matrices for some state $ |\\psi\\rangle = U |0\\rangle^{\\otimes n}$ on an $n$-qubit system ($\\Leftrightarrow$ $n$ spin-orbitals in Jordan-Wigner encoding).\n",
    "### todo: N particles $\\leftrightarrow$ n spin-orbitals\n",
    "\n",
    "$$ \\gamma^p_q \\equiv \\langle \\psi | a^p a_q | \\psi\\rangle$$\n",
    "\n",
    "$$ \\gamma^{pq}_{rs} \\equiv \\langle \\psi | a^p a^q a_s a_r | \\psi\\rangle$$ (we mainly use the standard physics ordering for the second-quantized operators)\n",
    "\n",
    "using the standard fermionic creation and annihilation operators $$ a^p = a_p^\\dagger $$ and $$a_p$$.\n",
    "\n",
    "The well-known anticommutation relations yield a series of symmetry properties for the reduced density matrices\n",
    "\n",
    "Further, we can find the spin-free correspondents $\\Gamma^P_Q$ and $\\Gamma^{PQ}_{RS}$\n",
    "\n",
    "Here, some small explanations for symmetries..."
   ]
  },
  {
   "cell_type": "code",
   "execution_count": 3,
   "metadata": {},
   "outputs": [],
   "source": [
    "# As an example, let's use the Helium atom in a minimal basis\n",
    "mol = tq.chemistry.Molecule(geometry='He 0.0 0.0 0.0', basis_set='6-31g')\n",
    "\n",
    "# We need to set up a quantum circuit to solve this problem.\n",
    "# This can be done either using the make_uccsd-method or by a hand-written circuit\n",
    "U = tq.gates.X(0, 1) # and so on"
   ]
  },
  {
   "cell_type": "markdown",
   "metadata": {},
   "source": [
    "You can initialize a tequila `QubitHamiltonian` from a molecule with `make_hamiltonian`.\n",
    "The standard transformation is the `jordan-wigner` transformation.  \n",
    "You can use other transformations by initializing the molecule with the `transformation` keyword."
   ]
  },
  {
   "cell_type": "markdown",
   "metadata": {
    "pycharm": {
     "name": "#%% md\n"
    }
   },
   "source": [
    "You can also use different encodings for the computation, though note, that in order to compare with e.g. a psi4 rdm or\n",
    "in general a usual RDM, need to either use Jordan-Wigner (occupation number encoding) or do some post-treatment.\n"
   ]
  },
  {
   "cell_type": "markdown",
   "metadata": {
    "pycharm": {
     "name": "#%% md\n"
    }
   },
   "source": [
    "We can compute the following:\n",
    "\n",
    "Energy $E = \\langle H \\rangle = \\langle h^q_p a^p_q + h^{rs}_{pq}a^{pq}_{rs}\\rangle = h^q_p \\langle a^p_q \\rangle + h^{rs}_{pq}\\langle a^{pq}_{rs}\\rangle = h^q_p \\gamma^p_q + h^{rs}_{pq} \\gamma^{pq}_{rs}$\n",
    "toc check consistency.\n",
    "Also, we can use the fact, that\n",
    "$\\mathrm{tr} (\\mathbf{\\gamma}_1) = N $ and $ \\mathrm{tr} (\\mathbf{\\gamma}_2) = N(N-1)/2$\n",
    "\n",
    "\n",
    "\n",
    "\n"
   ]
  }
 ],
 "metadata": {
  "kernelspec": {
   "name": "pycharm-b38bffe7",
   "language": "python",
   "display_name": "PyCharm (tequila-1)"
  },
  "language_info": {
   "codemirror_mode": {
    "name": "ipython",
    "version": 3
   },
   "file_extension": ".py",
   "mimetype": "text/x-python",
   "name": "python",
   "nbconvert_exporter": "python",
   "pygments_lexer": "ipython3",
   "version": "3.6.9"
  }
 },
 "nbformat": 4,
 "nbformat_minor": 2
}