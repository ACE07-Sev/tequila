{
 "cells": [
  {
   "cell_type": "markdown",
   "metadata": {},
   "source": [
    "### Hello, and welcome to this tutorial on simulating circuit noise in Tequila! In this tutorial, we will briefly detail how noise is commonly modelled in quantum circuits, before diving in to building NoiseModels and applying them to sampling different circuits."
   ]
  },
  {
   "cell_type": "markdown",
   "metadata": {},
   "source": [
    "# <center>1. What IS Noise, Anyway?</center>\n",
    "\n",
    "In case you need a quick refresher: Real quantum systems undergo the effects of noise, a catch-all term for 'anything I didn't ask the computer to do'. Such noise can be caused by a number of physical processes, including but not limited to: \n",
    "\n",
    " - #### Thermal fluctuations\n",
    " - #### Interaction with the environment\n",
    " - #### Uncontrolled interaction between qubits (cross-talk)\n",
    " - #### Imperfections in gate implementation\n",
    " \n",
    "\n",
    "\n",
    "# <center> 2. What is noise, mathematically?</center>\n",
    "\n",
    "\n",
    "Commonly, the effects of noise on quantum systems are treated as the evolution of the system's density matrix under Krauss maps. Krauss maps are mappings of the form $ A: \\rho \\rightarrow \\rho' = \\sum_{i} A_i \\rho A_{i}^{\\dagger}$, where $\\sum_{i} A_i  A_{i}^{\\dagger} = I$. These Krauss maps are parametrized, in general by probabilities.\n",
    "\n",
    "For example, bit flip noise -- which takes qubits from the 0 to the 1 state and vice versa-- is a krauss map with two operators, and a single probabilistic parameter, p. The operators are:\n",
    "#### $$A_0 = \\sqrt{1-p} I,  A_1 = \\sqrt{p} X$$\n",
    "#### Note that the square root is present, so that bit flip map is:\n",
    "#### $$ A_{bf}(p): \\rho \\rightarrow (1-p) * I\\rho I + p * X\\rho X$$\n",
    "other noise operations may be defined similarly.\n",
    "\n",
    "#### Note that such krauss operators may only affect subsystems of the system; one can have a single qubit undergo bit-flip noise in an 8 qubit state. In such cases, the krauss maps are merely the 1-qubit maps tensored with the identity on all other qubits. Multi-qubit krauss operators will involve tensor products of single qubit krauss operators.\n",
    "\n",
    "For example, the 2-qubit bit flip krauss map has 4 operators:\n",
    "$$A_{00}=(1-p)I\\otimes I, A_{01}=\\sqrt{p-p^2}I\\otimes X,A_{10}=\\sqrt{p-p^2}X \\otimes I,A_{11}=pX\\otimes X$$\n",
    "Which are just all the tensor products of $A_{0}$ and $A_{1}$."
   ]
  },
  {
   "cell_type": "markdown",
   "metadata": {},
   "source": [
    "# <center> 3. How is noise simulated, then? </center>\n",
    "\n",
    "Different simulation packages handle noise in radically different ways.\n",
    "\n",
    "Cirq and Qulacs, for example, use noise channels, parametrized operations which are inserted into circuits the same way regular, unitary gates are. \n",
    "\n",
    "Pyquil asks its users to define noisy gate operations, and then instantiate those. \n",
    "\n",
    "Qiskit, meanwhile, simply takes a dictionary-like object as an argument to its simulator, and applies the noise on the user-chosen gates.\n",
    "\n",
    "In tequila, we try to hew toward making users write as few lines of code as possible. We therefore implement a simple framework for the application of noise, meant to be compatible with all our supported platforms. To do this, we make a few assumptions:\n",
    "\n",
    "1. If noise is present, any gate may be affected by noise.\n",
    "2. The noise that affects 1..k..n-qubit gates is independent of the noise on 1...k-1,k+1...n qubit gates.\n",
    "3. The number of qubits involved in a gate, not the operation performed, dictates what noises may occur.\n",
    "4. Noise probabilities are independent of position in the circuit.\n",
    "5. \n",
    "\n",
    "\n",
    "#### with these assumptions in mind, we turn at last to Tequila itself!"
   ]
  },
  {
   "cell_type": "markdown",
   "metadata": {},
   "source": [
    "# <center>4: Noise in Tequila!</center>\n",
    "### At present, only certain noises are permitted, chosen because they are supported by all of our simulator backends. The easiest way to initialize a NoiseModel is using the convenienence functions that correspond to the 6 supported noises. "
   ]
  },
  {
   "cell_type": "code",
   "execution_count": 1,
   "metadata": {},
   "outputs": [
    {
     "name": "stdout",
     "output_type": "stream",
     "text": [
      "running build_ext\n",
      "skipping '/Users/sumneralperin-lea/.pyxbld/temp.macosx-10.9-x86_64-3.6/pyrex/BayesianNetwork/kernel_prob_reshaping.cpp' Cython extension (up-to-date)\n",
      "skipping 'BayesianNetwork.kernel_prob_reshaping' extension (up-to-date)\n",
      "running build_ext\n",
      "skipping '/Users/sumneralperin-lea/.pyxbld/temp.macosx-10.9-x86_64-3.6/pyrex/BayesianNetwork/kernel_evaluations.cpp' Cython extension (up-to-date)\n",
      "skipping 'BayesianNetwork.kernel_evaluations' extension (up-to-date)\n"
     ]
    },
    {
     "name": "stderr",
     "output_type": "stream",
     "text": [
      "/Users/sumneralperin-lea/.local/lib/python3.6/site-packages/tensorflow/python/framework/dtypes.py:469: FutureWarning: Passing (type, 1) or '1type' as a synonym of type is deprecated; in a future version of numpy, it will be understood as (type, (1,)) / '(1,)type'.\n",
      "  _np_qint8 = np.dtype([(\"qint8\", np.int8, 1)])\n",
      "/Users/sumneralperin-lea/.local/lib/python3.6/site-packages/tensorflow/python/framework/dtypes.py:470: FutureWarning: Passing (type, 1) or '1type' as a synonym of type is deprecated; in a future version of numpy, it will be understood as (type, (1,)) / '(1,)type'.\n",
      "  _np_quint8 = np.dtype([(\"quint8\", np.uint8, 1)])\n",
      "/Users/sumneralperin-lea/.local/lib/python3.6/site-packages/tensorflow/python/framework/dtypes.py:471: FutureWarning: Passing (type, 1) or '1type' as a synonym of type is deprecated; in a future version of numpy, it will be understood as (type, (1,)) / '(1,)type'.\n",
      "  _np_qint16 = np.dtype([(\"qint16\", np.int16, 1)])\n",
      "/Users/sumneralperin-lea/.local/lib/python3.6/site-packages/tensorflow/python/framework/dtypes.py:472: FutureWarning: Passing (type, 1) or '1type' as a synonym of type is deprecated; in a future version of numpy, it will be understood as (type, (1,)) / '(1,)type'.\n",
      "  _np_quint16 = np.dtype([(\"quint16\", np.uint16, 1)])\n",
      "/Users/sumneralperin-lea/.local/lib/python3.6/site-packages/tensorflow/python/framework/dtypes.py:473: FutureWarning: Passing (type, 1) or '1type' as a synonym of type is deprecated; in a future version of numpy, it will be understood as (type, (1,)) / '(1,)type'.\n",
      "  _np_qint32 = np.dtype([(\"qint32\", np.int32, 1)])\n",
      "/Users/sumneralperin-lea/.local/lib/python3.6/site-packages/tensorflow/python/framework/dtypes.py:476: FutureWarning: Passing (type, 1) or '1type' as a synonym of type is deprecated; in a future version of numpy, it will be understood as (type, (1,)) / '(1,)type'.\n",
      "  np_resource = np.dtype([(\"resource\", np.ubyte, 1)])\n",
      "/Users/sumneralperin-lea/anaconda3/envs/quantum/lib/python3.6/importlib/_bootstrap.py:219: RuntimeWarning: compiletime version 3.5 of module 'tensorflow.python.framework.fast_tensor_util' does not match runtime version 3.6\n",
      "  return f(*args, **kwds)\n"
     ]
    }
   ],
   "source": [
    "### first, we import tequila!\n",
    "import tequila as tq\n",
    "from tequila.circuit.noise import BitFlip,PhaseFlip,AmplitudeDamp,PhaseDamp,PhaseAmplitudeDamp,DepolarizingError"
   ]
  },
  {
   "cell_type": "markdown",
   "metadata": {},
   "source": [
    "**let's build a nice ExpectationValue to play with:**"
   ]
  },
  {
   "cell_type": "code",
   "execution_count": 2,
   "metadata": {},
   "outputs": [
    {
     "name": "stdout",
     "output_type": "stream",
     "text": [
      "circuit: \n",
      "X(target=(0,))\n",
      "X(target=(1,), control=(0,))\n",
      "\n"
     ]
    }
   ],
   "source": [
    "H=tq.paulis.Qm(1) ### this hamiltonian is 1 for a qubit that is 0, and 1 for a qubit that is zero.\n",
    "U=tq.gates.X(0)+tq.gates.CNOT(0,1)\n",
    "O=tq.ExpectationValue(U=U,H=H)\n",
    "print(U)"
   ]
  },
  {
   "cell_type": "markdown",
   "metadata": {},
   "source": [
    "Say that we wanted a noise model where 1-qubit gates and 2-qubit gates undergo bit flips, but with different probabilities."
   ]
  },
  {
   "cell_type": "code",
   "execution_count": 3,
   "metadata": {},
   "outputs": [],
   "source": [
    "bf_1=BitFlip(p=0.1,level=1)\n",
    "bf_2=BitFlip(p=0.3,level=2)"
   ]
  },
  {
   "cell_type": "markdown",
   "metadata": {},
   "source": [
    " NoiseModel objects, like those initialized above, can be combined into new NoiseModels by simple addition!"
   ]
  },
  {
   "cell_type": "code",
   "execution_count": 4,
   "metadata": {},
   "outputs": [
    {
     "name": "stdout",
     "output_type": "stream",
     "text": [
      "NoiseModel with: \n",
      "bit flip on 1 qubit gates, probs = [0.1],\n",
      "bit flip on 2 qubit gates, probs = [0.3],\n",
      "\n"
     ]
    }
   ],
   "source": [
    "my_nm=bf_1+bf_2\n",
    "print(my_nm)"
   ]
  },
  {
   "cell_type": "markdown",
   "metadata": {},
   "source": [
    "#### Let's simulate both with and without noise, and see what happens!\n",
    "**NOTE:  to use noise in a simulation, you have to SAMPLE! this is because the noise is probablistic.**"
   ]
  },
  {
   "cell_type": "code",
   "execution_count": 5,
   "metadata": {},
   "outputs": [
    {
     "name": "stdout",
     "output_type": "stream",
     "text": [
      "Without noise, E = 1.0\n",
      "With noise, E = 0.6624\n"
     ]
    }
   ],
   "source": [
    "E=tq.simulate(O)\n",
    "### noise models are fed to tequila functions with the noise keyword.\n",
    "E_noisy=tq.simulate(O,samples=5000,noise=my_nm)\n",
    "print('Without noise, E =',E)\n",
    "print('With noise, E =',E_noisy)"
   ]
  },
  {
   "cell_type": "markdown",
   "metadata": {},
   "source": [
    "#### Because noise is stochastic, if your number of samples is low, you may get different values back every time."
   ]
  },
  {
   "cell_type": "code",
   "execution_count": 6,
   "metadata": {},
   "outputs": [
    {
     "name": "stdout",
     "output_type": "stream",
     "text": [
      "round 1 sampling with 5 samples, E =  0.6\n",
      "round 2 sampling with 5 samples, E =  0.8\n",
      "round 3 sampling with 5 samples, E =  0.8\n",
      "round 4 sampling with 5 samples, E =  1.0\n",
      "round 5 sampling with 5 samples, E =  0.6\n",
      "round 6 sampling with 5 samples, E =  0.2\n",
      "round 7 sampling with 5 samples, E =  0.8\n",
      "round 8 sampling with 5 samples, E =  0.2\n",
      "round 9 sampling with 5 samples, E =  0.4\n",
      "round 10 sampling with 5 samples, E =  0.4\n"
     ]
    }
   ],
   "source": [
    "for i in range(1,11):\n",
    "    print('round',i,'sampling with 5 samples, E = ', tq.simulate(O,samples=5,noise=my_nm))\n"
   ]
  },
  {
   "cell_type": "markdown",
   "metadata": {},
   "source": [
    "**Note that the BitFlip functions returned NoiseModels in their own right:**\n"
   ]
  },
  {
   "cell_type": "code",
   "execution_count": 7,
   "metadata": {},
   "outputs": [
    {
     "name": "stdout",
     "output_type": "stream",
     "text": [
      "With 1-qubit noise only, E = 0.8966000000000001\n",
      "With 2-qubit noise only, E = 0.7008\n"
     ]
    }
   ],
   "source": [
    "E_1_only=tq.simulate(O,samples=5000,noise_model=bf_1)\n",
    "print('With 1-qubit noise only, E =',E_1_only)\n",
    "E_2_only=tq.simulate(O,samples=5000,noise_model=bf_2)\n",
    "print('With 2-qubit noise only, E =',E_2_only)"
   ]
  },
  {
   "cell_type": "markdown",
   "metadata": {},
   "source": [
    "### We also note that the order in which you apply noise matters, as the operations applied by noise do not generally commute. Compare the following results in the example below, where Amplitude Damping is the krauss map that takes 1 to 0 but leaves 0 unaffected.\n"
   ]
  },
  {
   "cell_type": "code",
   "execution_count": 8,
   "metadata": {},
   "outputs": [
    {
     "name": "stdout",
     "output_type": "stream",
     "text": [
      "amplitude damping before bit flip leads to E =  -0.07934\n",
      "amplitude damping after bit flip leads to E =  0.15966\n"
     ]
    }
   ],
   "source": [
    "amp=AmplitudeDamp(0.3,1)\n",
    "bit=BitFlip(0.4,1)\n",
    "forward=amp+bit\n",
    "backward=bit+amp\n",
    "\n",
    "H = tq.paulis.Z(0)\n",
    "U = tq.gates.X(target=0)\n",
    "O = tq.ExpectationValue(U=U, H=H)\n",
    "\n",
    "E_1 = tq.simulate(O,backend='cirq',samples=100000,noise=forward)\n",
    "E_2 = tq.simulate(O,backend='cirq',samples=100000,noise=backward)\n",
    "print('amplitude damping before bit flip leads to E = ',E_1)\n",
    "print('amplitude damping after bit flip leads to E = ',E_2)"
   ]
  },
  {
   "cell_type": "markdown",
   "metadata": {},
   "source": [
    "**Tequila will *always* attempt to apply noise to the circuit *in the order each noise was added to the noise model*. Some backends have behavior which is harder to control than others, but in general, this order will be preserved.**"
   ]
  },
  {
   "cell_type": "markdown",
   "metadata": {},
   "source": [
    "### You can also optimize noisy circuits, to test the effect of noise on your algorithms! "
   ]
  },
  {
   "cell_type": "code",
   "execution_count": 9,
   "metadata": {},
   "outputs": [],
   "source": [
    "from tequila.optimizers.optimizer_gd import minimize\n",
    "import numpy as np"
   ]
  },
  {
   "cell_type": "markdown",
   "metadata": {},
   "source": [
    "#### Consider the 1-qubit expectation value, $<0|U^{\\dagger}\\hat{Y}U|0>$, with $U=H Rz(\\theta) H $. In the absence of noise, this expectation value just yields $Sin(\\theta)$. This circuit therefore has a minimum at $\\theta = -\\pi$. We can minimize this circuit under phase flip noise -- which is probabilistic application of pauli Z -- and see what happens!"
   ]
  },
  {
   "cell_type": "code",
   "execution_count": 31,
   "metadata": {},
   "outputs": [
    {
     "name": "stdout",
     "output_type": "stream",
     "text": [
      "optimizing expectation value with phase flip probability 0.0031635356548872064\n",
      "a : 3.141592653589793\n",
      "\n"
     ]
    },
    {
     "data": {
      "image/png": "[encoded data removed]",
      "text/plain": [
       "<Figure size 432x288 with 1 Axes>"
      ]
     },
     "metadata": {
      "needs_background": "light"
     },
     "output_type": "display_data"
    }
   ],
   "source": [
    "U=tq.gates.H(0) +tq.gates.Rz('a',0)+tq.gates.H(0)\n",
    "H=tq.paulis.Y(0)\n",
    "O=tq.ExpectationValue(U=U,H=H)\n",
    "\n",
    "### we pick a random, small probability to apply noise\n",
    "p=np.random.uniform(0,.1)\n",
    "NM=PhaseFlip(p,1)\n",
    "\n",
    "print('optimizing expectation value with phase flip probability {}'.format(str(p)))\n",
    "result=minimize(O,lr=0.5,maxiter=60,initial_values={'a':np.pi},method='_adam',samples=5000,noise=NM,silent=True)\n",
    "\n",
    "result.history.plot()"
   ]
  },
  {
   "cell_type": "markdown",
   "metadata": {},
   "source": [
    "#### The final energy, of course, is not -1, because the application of noise leads the expected output to be $(-1+2*p)^{3} Sin(\\theta)$. One sees that this is approximately the value reached by minimizing $\\theta$:"
   ]
  },
  {
   "cell_type": "code",
   "execution_count": 33,
   "metadata": {},
   "outputs": [
    {
     "name": "stdout",
     "output_type": "stream",
     "text": [
      "best energy:  -0.9856\n",
      "expected best  -0.981138628280502\n"
     ]
    }
   ],
   "source": [
    "out=result.energy\n",
    "best=((-1+2*p)**3)*np.sin(np.pi/2)\n",
    "print('best energy: ',out)\n",
    "print('expected best ',best)"
   ]
  },
  {
   "cell_type": "markdown",
   "metadata": {},
   "source": [
    "## This concludes our brief tutorial on Noise. Stay tuned (and up to date) for more exciting noise features in the future!"
   ]
  },
  {
   "cell_type": "code",
   "execution_count": null,
   "metadata": {},
   "outputs": [],
   "source": []
  }
 ],
 "metadata": {
  "kernelspec": {
   "display_name": "Python 3",
   "language": "python",
   "name": "python3"
  },
  "language_info": {
   "codemirror_mode": {
    "name": "ipython",
    "version": 3
   },
   "file_extension": ".py",
   "mimetype": "text/x-python",
   "name": "python",
   "nbconvert_exporter": "python",
   "pygments_lexer": "ipython3",
   "version": "3.6.10"
  }
 },
 "nbformat": 4,
 "nbformat_minor": 2
}
