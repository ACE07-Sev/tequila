{
 "cells": [
  {
   "cell_type": "markdown",
   "metadata": {},
   "source": [
    "# Tequila Chemistry Basics\n",
    "\n",
    "Here we show the basics of the tequila chemistry module.  \n",
    "In order for this to work you need to have psi4 installed in the same python environment as tequila.  \n",
    "If you are in a conda environment installing psi4 is easy:\n",
    "`conda install psi4 -c psi4`  \n",
    "But better check the [psi4 website](http://www.psicode.org/) for up to date instructions.\n",
    "\n",
    "In some cases problems with the environment were observed which are suspected to originate from conflicts between psi4 and tequila dependcies. Usually the safest way is to install psi4 **first** and then install tequila\n",
    "\n",
    "Basic functionality is currently also provided with PySCF which might be easier to install. \n",
    "\n",
    "At the moment we only support closed-shell molecules\n",
    "\n",
    "This tutorial will give an overview over:\n",
    "\n",
    "- Initialization of molecules within tequila\n",
    "- Usage of different qubit encodings from openermion (JW, BK, BKSF, Tapered-BK)\n",
    "- Using basic functionality of Psi4 with tequila\n",
    "- Setting up active spaces\n",
    "- Constructing UCC based quantum circuits with tequila\n",
    "\n",
    "**There might be issues with psi4 and jupyter, currently the workarround is to reload the kernel before a cell gets executed, or run as a regular python script**"
   ]
  },
  {
   "cell_type": "code",
   "execution_count": 1,
   "metadata": {},
   "outputs": [],
   "source": [
    "import tequila as tq"
   ]
  },
  {
   "cell_type": "markdown",
   "metadata": {},
   "source": [
    "## Initialize Molecules\n",
    "\n",
    "Molecules can be initialized by passing their geometries as string or the name of a `xyz` file."
   ]
  },
  {
   "cell_type": "code",
   "execution_count": 2,
   "metadata": {},
   "outputs": [
    {
     "name": "stdout",
     "output_type": "stream",
     "text": [
      "<class 'tequila.quantumchemistry.psi4_interface.QuantumChemistryPsi4'>\n",
      "Qubit Encoding\n",
      "transformation=<function jordan_wigner at 0x7f0454998ae8>\n",
      "basis_set       : sto-3g          \n",
      "geometry        : H 0.0 0.0 0.0\n",
      "Li 0.0 0.0 1.6 \n",
      "description     :                 \n",
      "multiplicity    : 1               \n",
      "charge          : 0               \n",
      "closed_shell    : True            \n",
      "name            : molecule        \n",
      "\n",
      "Psi4 Data\n",
      "Point Group (full) : c_inf_v         \n",
      "Point Group (used) : c2v             \n",
      "nirrep          : 4 \n",
      "irreps          : ['A1', 'A2', 'B1', 'B2'] \n",
      "mos per irrep   : [4, 0, 1, 1]    \n",
      "\n",
      "The Orbitals are:\n",
      "0 : 0A1 energy = -2.348839 \n",
      "1 : 1A1 energy = -0.285276 \n",
      "2 : 2A1 energy = +0.078216 \n",
      "3 : 0B1 energy = +0.163950 \n",
      "4 : 0B2 energy = +0.163950 \n",
      "5 : 3A1 energy = +0.547769 \n"
     ]
    }
   ],
   "source": [
    "import tequila as tq\n",
    "molecule = tq.chemistry.Molecule(geometry = \"H 0.0 0.0 0.0\\nLi 0.0 0.0 1.6\", basis_set=\"sto-3g\")\n",
    "print(molecule)\n",
    "\n",
    "# lets also print some information about the orbitals\n",
    "# we need it later\n",
    "\n",
    "print(\"The Orbitals are:\")\n",
    "for orbital in molecule.orbitals:\n",
    "    print(orbital)"
   ]
  },
  {
   "cell_type": "markdown",
   "metadata": {},
   "source": [
    "You can initialize a tequila `QubitHamiltonian` from a molecule with `make_hamiltonian`.\n",
    "The standard transformation is the `jordan-wigner` transformation.  \n",
    "You can use other transformations by initializing the molecule with the `transformation` keyword."
   ]
  },
  {
   "cell_type": "code",
   "execution_count": 3,
   "metadata": {},
   "outputs": [
    {
     "name": "stdout",
     "output_type": "stream",
     "text": [
      "Hamiltonian has 631 terms\n"
     ]
    }
   ],
   "source": [
    "import tequila as tq\n",
    "H = molecule.make_hamiltonian()\n",
    "# the LiH Hamiltonian is already quite large, better not print the full thing\n",
    "print(\"Hamiltonian has {} terms\".format(len(H)))"
   ]
  },
  {
   "cell_type": "code",
   "execution_count": 4,
   "metadata": {},
   "outputs": [
    {
     "name": "stdout",
     "output_type": "stream",
     "text": [
      "Hamiltonian has 631 terms\n"
     ]
    }
   ],
   "source": [
    "molecule = tq.chemistry.Molecule(geometry = \"H 0.0 0.0 0.0\\nLi 0.0 0.0 1.6\", basis_set=\"sto-3g\", transformation=\"bravyi-kitaev\")\n",
    "H = molecule.make_hamiltonian()\n",
    "print(\"Hamiltonian has {} terms\".format(len(H)))"
   ]
  },
  {
   "cell_type": "markdown",
   "metadata": {},
   "source": [
    "## Using different Qubit Encodings of OpenFermion"
   ]
  },
  {
   "cell_type": "markdown",
   "metadata": {},
   "source": [
    "The different qubit encodings of openfermion can be applied by passing the keyword `transformation` to the molecule and setting it to the name of the corresponding openfermion function.  \n",
    "\n",
    "Some of those transformation might require additional keywords. Following `psi4` conventions those should be given to the `Molecule` initialization with the prefix `transformation__`. For most of them, `tequila` is however able to assign the keys automatically.\n",
    "\n",
    "In the following we provide some examples using various transformations from openfermion"
   ]
  },
  {
   "cell_type": "code",
   "execution_count": 5,
   "metadata": {},
   "outputs": [
    {
     "name": "stdout",
     "output_type": "stream",
     "text": [
      "Jordan-Wigner\n",
      " -0.0421+0.1777Z(0)+0.1777Z(1)-0.2427Z(2)-0.2427Z(3)+0.1706Z(0)Z(1)+0.0448Y(0)X(1)X(2)Y(3)-0.0448Y(0)Y(1)X(2)X(3)-0.0448X(0)X(1)Y(2)Y(3)+0.0448X(0)Y(1)Y(2)X(3)+0.1229Z(0)Z(2)+0.1677Z(0)Z(3)+0.1677Z(1)Z(2)+0.1229Z(1)Z(3)+0.1763Z(2)Z(3)\n",
      "lowest energy =  -1.1361894540879054\n",
      "Bravyi-Kitaev\n",
      " -0.0421+0.1777Z(0)+0.1777Z(0)Z(1)-0.2427Z(2)-0.2427Z(1)Z(2)Z(3)+0.1706Z(1)+0.0448Y(0)Z(1)Y(2)Z(3)+0.0448X(0)Z(1)X(2)+0.0448X(0)Z(1)X(2)Z(3)+0.0448Y(0)Z(1)Y(2)+0.1229Z(0)Z(2)+0.1677Z(0)Z(1)Z(2)Z(3)+0.1677Z(0)Z(1)Z(2)+0.1229Z(0)Z(2)Z(3)+0.1763Z(1)Z(3)\n",
      "lowest energy =  -1.136189454087905\n",
      "trafo_args =  {'active_orbitals': 4, 'active_fermions': 2}\n",
      "trafo_args =  {'active_orbitals': 4, 'active_fermions': 2}\n",
      "Symmetry conserving Bravyi-Kitaev\n",
      " -0.2879+0.4205Z(0)+0.4205Z(1)+0.0115Z(0)Z(1)+0.1790X(0)X(1)\n",
      "lowest energy =  -1.1361894540879054\n"
     ]
    }
   ],
   "source": [
    "import tequila as tq\n",
    "import numpy\n",
    "geomstring = \"H 0.0 0.0 0.0\\nH 0.0 0.0 0.7\"\n",
    "basis_set = \"sto-3g\"\n",
    "\n",
    "# Jordan-Wigner (this is the default)\n",
    "mol = tq.chemistry.Molecule(geometry=geomstring, basis_set=basis_set, transformation=\"jordan_wigner\")\n",
    "H = mol.make_hamiltonian()\n",
    "print(\"Jordan-Wigner\\n\", H)\n",
    "eigenValues = numpy.linalg.eigvalsh(H.to_matrix())\n",
    "print(\"lowest energy = \", eigenValues[0])\n",
    "\n",
    "# Bravyi-Kitaev\n",
    "mol = tq.chemistry.Molecule(geometry=geomstring, basis_set=basis_set, transformation=\"bravyi_kitaev\")\n",
    "H = mol.make_hamiltonian()\n",
    "print(\"Bravyi-Kitaev\\n\", H)\n",
    "eigenValues = numpy.linalg.eigvalsh(H.to_matrix())\n",
    "print(\"lowest energy = \", eigenValues[0])\n",
    "\n",
    "# symmetry_conserving_bravyi_kitaev\n",
    "# this transformation will taper off two qubits of the Hamiltonian\n",
    "# it needs additional information on the number of spin-orbitals and the active_fermions/electrons in the system\n",
    "mol = tq.chemistry.Molecule(geometry=geomstring, basis_set=basis_set,\n",
    "                              transformation=\"symmetry_conserving_bravyi_kitaev\")\n",
    "H = mol.make_hamiltonian()\n",
    "print(\"Symmetry conserving Bravyi-Kitaev\\n\", H)\n",
    "eigenValues = numpy.linalg.eigvalsh(H.to_matrix())\n",
    "print(\"lowest energy = \", eigenValues[0])\n",
    "\n",
    "# Symmetry "
   ]
  },
  {
   "cell_type": "markdown",
   "metadata": {},
   "source": [
    "## Setting active spaces\n",
    "\n",
    "You can define active spaces on your molcule by passing down a dictionary of active orbitals.  \n",
    "The orbitals are grouped into the irreducible representation of the underlying symmetry group (see the printout of `print(molecule)` above).\n",
    "\n",
    "Lets take the LiH molecule from above but initialize it with an active space containing the second two A1 orbitals (meaning the first 0A1 orbital is frozen) and the B1 orbital"
   ]
  },
  {
   "cell_type": "code",
   "execution_count": 6,
   "metadata": {},
   "outputs": [
    {
     "name": "stdout",
     "output_type": "stream",
     "text": [
      "Hamiltonian has 62 terms\n"
     ]
    }
   ],
   "source": [
    "import tequila as tq\n",
    "active_orbitals = {\"A1\":[1,2], \"B1\":[0]}\n",
    "molecule = tq.chemistry.Molecule(geometry = \"H 0.0 0.0 0.0\\nLi 0.0 0.0 1.6\", basis_set=\"sto-3g\", active_orbitals=active_orbitals)\n",
    "H = molecule.make_hamiltonian()\n",
    "print(\"Hamiltonian has {} terms\".format(len(H)))"
   ]
  },
  {
   "cell_type": "markdown",
   "metadata": {},
   "source": [
    "Lets make the active space even smaller, so that we can print out stuff in this tutorial"
   ]
  },
  {
   "cell_type": "code",
   "execution_count": 7,
   "metadata": {},
   "outputs": [
    {
     "name": "stdout",
     "output_type": "stream",
     "text": [
      "Hamiltonian has 15 terms\n",
      "-7.4711+0.1352Z(0)+0.1352Z(1)-0.0310Z(2)-0.0310Z(3)+0.1218Z(0)Z(1)+0.0059Y(0)X(1)X(2)Y(3)-0.0059Y(0)Y(1)X(2)X(3)-0.0059X(0)X(1)Y(2)Y(3)+0.0059X(0)Y(1)Y(2)X(3)+0.0617Z(0)Z(2)+0.0675Z(0)Z(3)+0.0675Z(1)Z(2)+0.0617Z(1)Z(3)+0.0782Z(2)Z(3)\n"
     ]
    }
   ],
   "source": [
    "import tequila as tq\n",
    "active_orbitals = {\"A1\":[1], \"B1\":[0]}\n",
    "molecule = tq.chemistry.Molecule(geometry = \"H 0.0 0.0 0.0\\nLi 0.0 0.0 1.6\", basis_set=\"sto-3g\", active_orbitals=active_orbitals)\n",
    "H = molecule.make_hamiltonian()\n",
    "print(\"Hamiltonian has {} terms\".format(len(H)))\n",
    "print(H)"
   ]
  },
  {
   "cell_type": "markdown",
   "metadata": {},
   "source": [
    "## Computing classical methods with Psi4\n",
    "\n",
    "We can use psi4 to compute the energies (and sometimes other quantities) with the `compute_energy` function.\n",
    "Here are some examples. Note that the energies are computed within the active space if one is set.\n",
    "\n",
    "Note also that not all active spaces can be represented by psi4 which will mean you can/should not use the classical psi4 methods with those (a warning will be printed). You will still get the right active space hamiltonian however.\n",
    "\n",
    "Active spaces which will not work for psi4 methds are the ones where the orbitals of individual irreps are not in one block ( e.g. {`\"A1\":[1,3]`} )"
   ]
  },
  {
   "cell_type": "code",
   "execution_count": 8,
   "metadata": {},
   "outputs": [
    {
     "name": "stdout",
     "output_type": "stream",
     "text": [
      "There are known issues with some psi4 methods and frozen virtual orbitals. Proceed with fingers crossed for mp2.\n",
      "{(1, 0, 1, 0): -0.026069395810974533, (2, 0, 2, 0): -0.026069395810972833}\n",
      "{(1, 0, 1, 0): -0.027418022914682542, (2, 0, 2, 0): -0.027418022914682535}\n"
     ]
    }
   ],
   "source": [
    "# YOU MIGHT HAVE TO RESTART THE JUPYTER KERNEL\n",
    "import tequila as tq\n",
    "active_orbitals = {\"A1\":[1], \"B1\":[0], \"B2\":[0]}\n",
    "molecule = tq.chemistry.Molecule(geometry = \"H 0.0 0.0 0.0\\nLi 0.0 0.0 1.6\", basis_set=\"sto-3g\", active_orbitals=active_orbitals)\n",
    "\n",
    "mp2 = molecule.compute_energy(method=\"mp2\")\n",
    "\n",
    "# Note there are known issues for some methods when the active space as frozen virtuals as is the case here\n",
    "# detci based methods are fine again \n",
    "fci = molecule.compute_energy(method=\"fci\")\n",
    "\n",
    "# for most coupled-cluster like models you can compute amplitudes\n",
    "# Amplitudes are computed in c1 and in the full space, this is why the active space troubles from above usually don't hold\n",
    "# Note that amplitudes are in closed-shell\n",
    "amplitudes = molecule.compute_amplitudes(\"mp2\")\n",
    "\n",
    "# you can export a parameter dictionary which holds the indices of the amplitude as keys and values as values\n",
    "# for this small active space that is only one amplitude for mp2\n",
    "variables = amplitudes.make_parameter_dictionary()\n",
    "print(variables)\n",
    "\n",
    "# similar for ccsd since the singles are 0 due to symmetry (that changes if you change the active space)\n",
    "amplitudes = molecule.compute_amplitudes(\"ccsd\")\n",
    "variables = amplitudes.make_parameter_dictionary()\n",
    "print(variables)"
   ]
  },
  {
   "cell_type": "markdown",
   "metadata": {},
   "source": [
    "## Hello World \"H2\" optimization with LiH in an active space"
   ]
  },
  {
   "cell_type": "markdown",
   "metadata": {},
   "source": [
    "Lets do a small hand-constructed VQE like it would be done for the Hydrogen molecule in STO-3G, just that we use our active space LiH molecule from the cell above.\n",
    "For consistency reasons we initialize everything again.  \n",
    "\n",
    "Check the `BasicUsage` and `SciPyOptimizers` tutorial notebooks for more information about then"
   ]
  },
  {
   "cell_type": "code",
   "execution_count": 9,
   "metadata": {},
   "outputs": [
    {
     "name": "stdout",
     "output_type": "stream",
     "text": [
      "Optimizer: <class 'tequila.optimizers.optimizer_scipy.OptimizerSciPy'> \n",
      "backend         : qulacs\n",
      "device          : None\n",
      "samples         : None\n",
      "save_history    : True\n",
      "noise           : None\n",
      "\n",
      "Method          : BFGS\n",
      "Objective       : 1 expectationvalues\n",
      "gradient        : 2 expectationvalues\n",
      "\n",
      "active variables : 1\n",
      "\n",
      "E=-7.19702401  angles= {a: 0.0}  samples= None\n",
      "E=-7.19766373  angles= {a: -0.0234220027923584}  samples= None\n",
      "E=-7.20203763  angles= {a: -0.11711001396179199}  samples= None\n",
      "E=-7.24749228  angles= {a: -0.49186205863952637}  samples= None\n",
      "E=-7.68640044  angles= {a: -1.9908702373504639}  samples= None\n",
      "E=-7.59671569  angles= {a: -7.986902952194214}  samples= None\n",
      "E=-7.86212174  angles= {a: -3.129600457337474}  samples= None\n",
      "E=-7.59889693  angles= {a: -1.7104055550334691}  samples= None\n",
      "E=-7.86268191  angles= {a: -3.0777237637496633}  samples= None\n",
      "E=-7.86268890  angles= {a: -3.0712456201159126}  samples= None\n",
      "Optimization terminated successfully.\n",
      "         Current function value: -7.862689\n",
      "         Iterations: 3\n",
      "         Function evaluations: 10\n",
      "         Gradient evaluations: 10\n",
      "VQE : -7.8626889f\n",
      "FCI : -7.8626889f\n"
     ]
    }
   ],
   "source": [
    "import tequila as tq\n",
    "# define the active space\n",
    "active_orbitals = {\"A1\":[1], \"B1\":[0]}\n",
    "\n",
    "# define the molecule\n",
    "molecule = tq.chemistry.Molecule(geometry = \"H 0.0 0.0 0.0\\nLi 0.0 0.0 1.6\", basis_set=\"sto-3g\", active_orbitals=active_orbitals)\n",
    "\n",
    "# make the hamiltonian\n",
    "H = molecule.make_hamiltonian()\n",
    "\n",
    "# define a hand designed circuit\n",
    "U = tq.gates.Ry(angle=\"a\", target=0) + tq.gates.X(target=[2,3])\n",
    "U += tq.gates.X(target=1, control=0)\n",
    "U += tq.gates.X(target=2, control=0)\n",
    "U += tq.gates.X(target=3, control=1)\n",
    "\n",
    "# define the expectationvalue\n",
    "E = tq.ExpectationValue(H=H, U=U)\n",
    "\n",
    "# optimize\n",
    "result = tq.minimize(objective=E, method=\"BFGS\", initial_values={k:0.0 for k in E.extract_variables()})\n",
    "\n",
    "# compute a reference value with psi4\n",
    "fci = molecule.compute_energy(method=\"fci\")\n",
    "\n",
    "print(\"VQE : {:+2.8}f\".format(result.energy))\n",
    "print(\"FCI : {:+2.8}f\".format(fci))\n"
   ]
  },
  {
   "cell_type": "code",
   "execution_count": 10,
   "metadata": {},
   "outputs": [
    {
     "data": {
      "image/png": "[encoded data removed]",
      "text/plain": [
       "<Figure size 432x288 with 1 Axes>"
      ]
     },
     "metadata": {
      "needs_background": "light"
     },
     "output_type": "display_data"
    }
   ],
   "source": [
    "# some more information from the optimization\n",
    "result.history.plot(\"energies\", baselines={\"fci\":fci})"
   ]
  },
  {
   "cell_type": "markdown",
   "metadata": {},
   "source": [
    "## Unitary Coupled-Cluster Style Construction\n",
    "\n",
    "Here we show how to initialize in the style of unitary coupled-cluster.  \n",
    "In this example we are gonna compute the `mp2` amplitudes and build a UCC type circuit from them.  \n",
    "Here we use the cc2 amplitudes only to define an order on the trotterized gates and remove small amplitudes as classical prescreening.\n",
    "\n",
    "We use again an active space to make the computation fast.\n",
    "\n",
    "First we start with the manual construction and then show how to use in build convenience functions of tequila to.\n",
    "\n",
    "An important function is the `make_excitation_generator` function of the molecule.  \n",
    "This initializes a `QubitHamiltonian` which can be used to define a unitary gate which acts as excitation operation of electrons.\n",
    "\n",
    "$$\\displaystyle\n",
    "U(\\theta) = e^{-i\\frac{\\theta}{2} G_{iajbkc\\dots}}\n",
    "$$\n",
    "\n",
    "In fermionic language the generator is defined as\n",
    "\n",
    "$$\n",
    "G_{ia,jb,jc,\\dots} =  i ( a^\\dagger_a a_i a^\\dagger_b a_j a^\\dagger_c a_k \\dots - h.c. )\n",
    "$$\n",
    "\n",
    "The `make_excitation_generator` function gives back this generator in the qubit representation (depends on the chosen `transformation` of the molecule) and takes the indices as list of tuples  \n",
    "  \n",
    "$$\n",
    "\\text{make_excitation_generator(indices=[(a,i),(b,j),...])} = G_{ia,jb,jc,\\dots}\n",
    "$$"
   ]
  },
  {
   "cell_type": "markdown",
   "metadata": {},
   "source": [
    "### Manual Construction"
   ]
  },
  {
   "cell_type": "code",
   "execution_count": 11,
   "metadata": {},
   "outputs": [
    {
     "name": "stdout",
     "output_type": "stream",
     "text": [
      "{(1, 0, 1, 0): -0.026069395810974533}\n",
      "Optimizer: <class 'tequila.optimizers.optimizer_scipy.OptimizerSciPy'> \n",
      "backend         : qulacs\n",
      "device          : None\n",
      "samples         : None\n",
      "save_history    : True\n",
      "noise           : None\n",
      "\n",
      "Method          : BFGS\n",
      "Objective       : 1 expectationvalues\n",
      "gradient        : 16 expectationvalues\n",
      "\n",
      "active variables : 1\n",
      "\n",
      "E=-7.86186477  angles= {a: 0.0}  samples= None\n",
      "E=-7.86259809  angles= {a: -0.0468440055847168}  samples= None\n",
      "E=-7.86268890  angles= {a: -0.03516504106977361}  samples= None\n",
      "Optimization terminated successfully.\n",
      "         Current function value: -7.862689\n",
      "         Iterations: 2\n",
      "         Function evaluations: 3\n",
      "         Gradient evaluations: 3\n",
      "VQE : -7.8626889f\n",
      "FCI : -7.8626889f\n"
     ]
    }
   ],
   "source": [
    "# YOU MIGHT HAVE TO RESTART THE JUPYTER KERNEL\n",
    "import tequila as tq\n",
    "threshold = 1.e-6\n",
    "\n",
    "# define the active space\n",
    "active_orbitals = {\"A1\":[1], \"B1\":[0]}\n",
    "\n",
    "# define the molecule\n",
    "molecule = tq.chemistry.Molecule(geometry = \"H 0.0 0.0 0.0\\nLi 0.0 0.0 1.6\", basis_set=\"sto-3g\", active_orbitals=active_orbitals)\n",
    "\n",
    "# make the hamiltonian\n",
    "H = molecule.make_hamiltonian()\n",
    "\n",
    "# compute classical amplitudes\n",
    "amplitudes = molecule.compute_amplitudes(method=\"mp2\")\n",
    "\n",
    "# in this example there is only one closed-shell MP2 amplitude, therefore manual construction is reasonable in this tutorial\n",
    "# first we make a dictionary out of the non-zero MP2 amplitudes\n",
    "ampdict = amplitudes.make_parameter_dictionary(threshold=threshold)\n",
    "print(ampdict)\n",
    "# lets get the indices of the only amplitude which is there manually\n",
    "indices = list(ampdict.keys())[0]\n",
    "\n",
    "# the (1, 0, 1, 0) index in closed shell leads to the (2, 0, 3, 1) and (3, 1, 2, 0) excitations on the qubits\n",
    "# but first we need to initialize the hartree fock state\n",
    "U = molecule.prepare_reference()\n",
    "\n",
    "# now add the two 2-electron excitations \n",
    "# for this we define the generators and build trotterized gates with them\n",
    "# note that the two generators are actually the same\n",
    "# we sum them up since we want to parametrize them with the same variable which we will call \"a\"\n",
    "generator = molecule.make_excitation_generator(indices=[(3, 1),(2, 0)]) + molecule.make_excitation_generator(indices=[(3, 1),(2, 0)])\n",
    "U += tq.gates.Trotterized(generators=[generator], angles=[\"a\"], steps=1)\n",
    "\n",
    "# define the expectationvalue\n",
    "E = tq.ExpectationValue(H=H, U=U)\n",
    "\n",
    "# optimize\n",
    "result = tq.minimize(objective=E, method=\"BFGS\", initial_values={k:0.0 for k in E.extract_variables()})\n",
    "\n",
    "# compute a reference value with psi4\n",
    "fci = molecule.compute_energy(method=\"fci\")\n",
    "print(\"VQE : {:+2.8}f\".format(result.energy))\n",
    "print(\"FCI : {:+2.8}f\".format(fci))\n",
    "\n"
   ]
  },
  {
   "cell_type": "markdown",
   "metadata": {},
   "source": [
    "### Automatic Construction"
   ]
  },
  {
   "cell_type": "code",
   "execution_count": 12,
   "metadata": {},
   "outputs": [
    {
     "name": "stdout",
     "output_type": "stream",
     "text": [
      "Optimizer: <class 'tequila.optimizers.optimizer_scipy.OptimizerSciPy'> \n",
      "backend         : qulacs\n",
      "device          : None\n",
      "samples         : None\n",
      "save_history    : True\n",
      "noise           : None\n",
      "\n",
      "Method          : BFGS\n",
      "Objective       : 1 expectationvalues\n",
      "gradient        : 32 expectationvalues\n",
      "\n",
      "active variables : 1\n",
      "\n",
      "E=-7.86186477  angles= {(1, 0, 1, 0): 0.0}  samples= None\n",
      "E=-7.86259809  angles= {(1, 0, 1, 0): -0.0468440055847168}  samples= None\n",
      "E=-7.86268890  angles= {(1, 0, 1, 0): -0.03516504106977361}  samples= None\n",
      "Optimization terminated successfully.\n",
      "         Current function value: -7.862689\n",
      "         Iterations: 2\n",
      "         Function evaluations: 3\n",
      "         Gradient evaluations: 3\n",
      "VQE : -7.8626889f\n",
      "FCI : -7.8626889f\n"
     ]
    }
   ],
   "source": [
    "# YOU MIGHT HAVE TO RESTART THE JUPYTER KERNEL\n",
    "import tequila as tq\n",
    "threshold = 1.e-6\n",
    "\n",
    "# define the active space\n",
    "active_orbitals = {\"A1\":[1], \"B1\":[0]}\n",
    "\n",
    "# define the molecule\n",
    "molecule = tq.chemistry.Molecule(geometry = \"H 0.0 0.0 0.0\\nLi 0.0 0.0 1.6\", basis_set=\"sto-3g\", active_orbitals=active_orbitals)\n",
    "\n",
    "# make the hamiltonian\n",
    "H = molecule.make_hamiltonian()\n",
    "\n",
    "# make the UCCSD ansatz (note that this will be without singles since it starts from mp2)\n",
    "U = molecule.make_uccsd_ansatz(initial_amplitudes=\"mp2\", threshold=threshold, trotter_steps=1)\n",
    "\n",
    "# define the expectationvalue\n",
    "E = tq.ExpectationValue(H=H, U=U)\n",
    "\n",
    "# optimize\n",
    "result = tq.minimize(objective=E, method=\"BFGS\", initial_values={k:0.0 for k in E.extract_variables()})\n",
    "\n",
    "# compute a reference value with psi4\n",
    "fci = molecule.compute_energy(method=\"fci\")\n",
    "\n",
    "print(\"VQE : {:+2.8}f\".format(result.energy))\n",
    "print(\"FCI : {:+2.8}f\".format(fci))\n",
    "    \n",
    "    "
   ]
  },
  {
   "cell_type": "markdown",
   "metadata": {},
   "source": [
    "### Pi System of Benzene\n",
    "Lets repeat the last cell with the pi system of the benzene molecule"
   ]
  },
  {
   "cell_type": "code",
   "execution_count": null,
   "metadata": {},
   "outputs": [
    {
     "name": "stdout",
     "output_type": "stream",
     "text": [
      "Optimizer: <class 'tequila.optimizers.optimizer_scipy.OptimizerSciPy'> \n",
      "backend         : qulacs\n",
      "device          : None\n",
      "samples         : None\n",
      "save_history    : True\n",
      "noise           : None\n",
      "\n",
      "Method          : BFGS\n",
      "Objective       : 1 expectationvalues\n",
      "grad instr      : 2-point\n",
      "gradient        : scipy numerical 2-point\n",
      "hessian         : scipy numerical None\n",
      "\n",
      "active variables : 22\n",
      "\n",
      "E=-227.88792153  angles= {(3, 0, 5, 2): 0.0, (3, 2, 5, 0): 0.0, (5, 2, 5, 2): 0.0, (4, 2, 3, 1): 0.0, (4, 0): 0.0, (5, 0, 5, 0): 0.0, (3, 1, 3, 1): 0.0, (3, 1, 4, 2): 0.0, (4, 1, 5, 0): 0.0, (3, 2, 4, 1): 0.0, (5, 1, 4, 0): 0.0, (5, 0, 4, 1): 0.0, (5, 0, 3, 2): 0.0, (4, 0, 4, 0): 0.0, (5, 2, 3, 0): 0.0, (4, 1, 4, 1): 0.0, (4, 2, 4, 2): 0.0, (3, 2, 3, 2): 0.0, (4, 1, 3, 2): 0.0, (3, 0, 3, 0): 0.0, (5, 1, 5, 1): 0.0, (4, 0, 5, 1): 0.0}  samples= None\n",
      "E=-227.88791111  angles= {(3, 0, 5, 2): 0.0001, (3, 2, 5, 0): 0.0, (5, 2, 5, 2): 0.0, (4, 2, 3, 1): 0.0, (4, 0): 0.0, (5, 0, 5, 0): 0.0, (3, 1, 3, 1): 0.0, (3, 1, 4, 2): 0.0, (4, 1, 5, 0): 0.0, (3, 2, 4, 1): 0.0, (5, 1, 4, 0): 0.0, (5, 0, 4, 1): 0.0, (5, 0, 3, 2): 0.0, (4, 0, 4, 0): 0.0, (5, 2, 3, 0): 0.0, (4, 1, 4, 1): 0.0, (4, 2, 4, 2): 0.0, (3, 2, 3, 2): 0.0, (4, 1, 3, 2): 0.0, (3, 0, 3, 0): 0.0, (5, 1, 5, 1): 0.0, (4, 0, 5, 1): 0.0}  samples= None\n",
      "E=-227.88793406  angles= {(3, 0, 5, 2): 0.0, (3, 2, 5, 0): 0.0001, (5, 2, 5, 2): 0.0, (4, 2, 3, 1): 0.0, (4, 0): 0.0, (5, 0, 5, 0): 0.0, (3, 1, 3, 1): 0.0, (3, 1, 4, 2): 0.0, (4, 1, 5, 0): 0.0, (3, 2, 4, 1): 0.0, (5, 1, 4, 0): 0.0, (5, 0, 4, 1): 0.0, (5, 0, 3, 2): 0.0, (4, 0, 4, 0): 0.0, (5, 2, 3, 0): 0.0, (4, 1, 4, 1): 0.0, (4, 2, 4, 2): 0.0, (3, 2, 3, 2): 0.0, (4, 1, 3, 2): 0.0, (3, 0, 3, 0): 0.0, (5, 1, 5, 1): 0.0, (4, 0, 5, 1): 0.0}  samples= None\n",
      "E=-227.88791284  angles= {(3, 0, 5, 2): 0.0, (3, 2, 5, 0): 0.0, (5, 2, 5, 2): 0.0001, (4, 2, 3, 1): 0.0, (4, 0): 0.0, (5, 0, 5, 0): 0.0, (3, 1, 3, 1): 0.0, (3, 1, 4, 2): 0.0, (4, 1, 5, 0): 0.0, (3, 2, 4, 1): 0.0, (5, 1, 4, 0): 0.0, (5, 0, 4, 1): 0.0, (5, 0, 3, 2): 0.0, (4, 0, 4, 0): 0.0, (5, 2, 3, 0): 0.0, (4, 1, 4, 1): 0.0, (4, 2, 4, 2): 0.0, (3, 2, 3, 2): 0.0, (4, 1, 3, 2): 0.0, (3, 0, 3, 0): 0.0, (5, 1, 5, 1): 0.0, (4, 0, 5, 1): 0.0}  samples= None\n",
      "E=-227.88791909  angles= {(3, 0, 5, 2): 0.0, (3, 2, 5, 0): 0.0, (5, 2, 5, 2): 0.0, (4, 2, 3, 1): 0.0001, (4, 0): 0.0, (5, 0, 5, 0): 0.0, (3, 1, 3, 1): 0.0, (3, 1, 4, 2): 0.0, (4, 1, 5, 0): 0.0, (3, 2, 4, 1): 0.0, (5, 1, 4, 0): 0.0, (5, 0, 4, 1): 0.0, (5, 0, 3, 2): 0.0, (4, 0, 4, 0): 0.0, (5, 2, 3, 0): 0.0, (4, 1, 4, 1): 0.0, (4, 2, 4, 2): 0.0, (3, 2, 3, 2): 0.0, (4, 1, 3, 2): 0.0, (3, 0, 3, 0): 0.0, (5, 1, 5, 1): 0.0, (4, 0, 5, 1): 0.0}  samples= None\n",
      "E=-227.88793195  angles= {(3, 0, 5, 2): 0.0, (3, 2, 5, 0): 0.0, (5, 2, 5, 2): 0.0, (4, 2, 3, 1): 0.0, (4, 0): 0.0001, (5, 0, 5, 0): 0.0, (3, 1, 3, 1): 0.0, (3, 1, 4, 2): 0.0, (4, 1, 5, 0): 0.0, (3, 2, 4, 1): 0.0, (5, 1, 4, 0): 0.0, (5, 0, 4, 1): 0.0, (5, 0, 3, 2): 0.0, (4, 0, 4, 0): 0.0, (5, 2, 3, 0): 0.0, (4, 1, 4, 1): 0.0, (4, 2, 4, 2): 0.0, (3, 2, 3, 2): 0.0, (4, 1, 3, 2): 0.0, (3, 0, 3, 0): 0.0, (5, 1, 5, 1): 0.0, (4, 0, 5, 1): 0.0}  samples= None\n",
      "E=-227.88793019  angles= {(3, 0, 5, 2): 0.0, (3, 2, 5, 0): 0.0, (5, 2, 5, 2): 0.0, (4, 2, 3, 1): 0.0, (4, 0): 0.0, (5, 0, 5, 0): 0.0001, (3, 1, 3, 1): 0.0, (3, 1, 4, 2): 0.0, (4, 1, 5, 0): 0.0, (3, 2, 4, 1): 0.0, (5, 1, 4, 0): 0.0, (5, 0, 4, 1): 0.0, (5, 0, 3, 2): 0.0, (4, 0, 4, 0): 0.0, (5, 2, 3, 0): 0.0, (4, 1, 4, 1): 0.0, (4, 2, 4, 2): 0.0, (3, 2, 3, 2): 0.0, (4, 1, 3, 2): 0.0, (3, 0, 3, 0): 0.0, (5, 1, 5, 1): 0.0, (4, 0, 5, 1): 0.0}  samples= None\n",
      "E=-227.88791043  angles= {(3, 0, 5, 2): 0.0, (3, 2, 5, 0): 0.0, (5, 2, 5, 2): 0.0, (4, 2, 3, 1): 0.0, (4, 0): 0.0, (5, 0, 5, 0): 0.0, (3, 1, 3, 1): 0.0001, (3, 1, 4, 2): 0.0, (4, 1, 5, 0): 0.0, (3, 2, 4, 1): 0.0, (5, 1, 4, 0): 0.0, (5, 0, 4, 1): 0.0, (5, 0, 3, 2): 0.0, (4, 0, 4, 0): 0.0, (5, 2, 3, 0): 0.0, (4, 1, 4, 1): 0.0, (4, 2, 4, 2): 0.0, (3, 2, 3, 2): 0.0, (4, 1, 3, 2): 0.0, (3, 0, 3, 0): 0.0, (5, 1, 5, 1): 0.0, (4, 0, 5, 1): 0.0}  samples= None\n",
      "E=-227.88791909  angles= {(3, 0, 5, 2): 0.0, (3, 2, 5, 0): 0.0, (5, 2, 5, 2): 0.0, (4, 2, 3, 1): 0.0, (4, 0): 0.0, (5, 0, 5, 0): 0.0, (3, 1, 3, 1): 0.0, (3, 1, 4, 2): 0.0001, (4, 1, 5, 0): 0.0, (3, 2, 4, 1): 0.0, (5, 1, 4, 0): 0.0, (5, 0, 4, 1): 0.0, (5, 0, 3, 2): 0.0, (4, 0, 4, 0): 0.0, (5, 2, 3, 0): 0.0, (4, 1, 4, 1): 0.0, (4, 2, 4, 2): 0.0, (3, 2, 3, 2): 0.0, (4, 1, 3, 2): 0.0, (3, 0, 3, 0): 0.0, (5, 1, 5, 1): 0.0, (4, 0, 5, 1): 0.0}  samples= None\n",
      "E=-227.88792531  angles= {(3, 0, 5, 2): 0.0, (3, 2, 5, 0): 0.0, (5, 2, 5, 2): 0.0, (4, 2, 3, 1): 0.0, (4, 0): 0.0, (5, 0, 5, 0): 0.0, (3, 1, 3, 1): 0.0, (3, 1, 4, 2): 0.0, (4, 1, 5, 0): 0.0001, (3, 2, 4, 1): 0.0, (5, 1, 4, 0): 0.0, (5, 0, 4, 1): 0.0, (5, 0, 3, 2): 0.0, (4, 0, 4, 0): 0.0, (5, 2, 3, 0): 0.0, (4, 1, 4, 1): 0.0, (4, 2, 4, 2): 0.0, (3, 2, 3, 2): 0.0, (4, 1, 3, 2): 0.0, (3, 0, 3, 0): 0.0, (5, 1, 5, 1): 0.0, (4, 0, 5, 1): 0.0}  samples= None\n",
      "E=-227.88793505  angles= {(3, 0, 5, 2): 0.0, (3, 2, 5, 0): 0.0, (5, 2, 5, 2): 0.0, (4, 2, 3, 1): 0.0, (4, 0): 0.0, (5, 0, 5, 0): 0.0, (3, 1, 3, 1): 0.0, (3, 1, 4, 2): 0.0, (4, 1, 5, 0): 0.0, (3, 2, 4, 1): 0.0001, (5, 1, 4, 0): 0.0, (5, 0, 4, 1): 0.0, (5, 0, 3, 2): 0.0, (4, 0, 4, 0): 0.0, (5, 2, 3, 0): 0.0, (4, 1, 4, 1): 0.0, (4, 2, 4, 2): 0.0, (3, 2, 3, 2): 0.0, (4, 1, 3, 2): 0.0, (3, 0, 3, 0): 0.0, (5, 1, 5, 1): 0.0, (4, 0, 5, 1): 0.0}  samples= None\n",
      "E=-227.88791773  angles= {(3, 0, 5, 2): 0.0, (3, 2, 5, 0): 0.0, (5, 2, 5, 2): 0.0, (4, 2, 3, 1): 0.0, (4, 0): 0.0, (5, 0, 5, 0): 0.0, (3, 1, 3, 1): 0.0, (3, 1, 4, 2): 0.0, (4, 1, 5, 0): 0.0, (3, 2, 4, 1): 0.0, (5, 1, 4, 0): 0.0001, (5, 0, 4, 1): 0.0, (5, 0, 3, 2): 0.0, (4, 0, 4, 0): 0.0, (5, 2, 3, 0): 0.0, (4, 1, 4, 1): 0.0, (4, 2, 4, 2): 0.0, (3, 2, 3, 2): 0.0, (4, 1, 3, 2): 0.0, (3, 0, 3, 0): 0.0, (5, 1, 5, 1): 0.0, (4, 0, 5, 1): 0.0}  samples= None\n",
      "E=-227.88790656  angles= {(3, 0, 5, 2): 0.0, (3, 2, 5, 0): 0.0, (5, 2, 5, 2): 0.0, (4, 2, 3, 1): 0.0, (4, 0): 0.0, (5, 0, 5, 0): 0.0, (3, 1, 3, 1): 0.0, (3, 1, 4, 2): 0.0, (4, 1, 5, 0): 0.0, (3, 2, 4, 1): 0.0, (5, 1, 4, 0): 0.0, (5, 0, 4, 1): 0.0001, (5, 0, 3, 2): 0.0, (4, 0, 4, 0): 0.0, (5, 2, 3, 0): 0.0, (4, 1, 4, 1): 0.0, (4, 2, 4, 2): 0.0, (3, 2, 3, 2): 0.0, (4, 1, 3, 2): 0.0, (3, 0, 3, 0): 0.0, (5, 1, 5, 1): 0.0, (4, 0, 5, 1): 0.0}  samples= None\n",
      "E=-227.88794447  angles= {(3, 0, 5, 2): 0.0, (3, 2, 5, 0): 0.0, (5, 2, 5, 2): 0.0, (4, 2, 3, 1): 0.0, (4, 0): 0.0, (5, 0, 5, 0): 0.0, (3, 1, 3, 1): 0.0, (3, 1, 4, 2): 0.0, (4, 1, 5, 0): 0.0, (3, 2, 4, 1): 0.0, (5, 1, 4, 0): 0.0, (5, 0, 4, 1): 0.0, (5, 0, 3, 2): 0.0001, (4, 0, 4, 0): 0.0, (5, 2, 3, 0): 0.0, (4, 1, 4, 1): 0.0, (4, 2, 4, 2): 0.0, (3, 2, 3, 2): 0.0, (4, 1, 3, 2): 0.0, (3, 0, 3, 0): 0.0, (5, 1, 5, 1): 0.0, (4, 0, 5, 1): 0.0}  samples= None\n",
      "E=-227.88791012  angles= {(3, 0, 5, 2): 0.0, (3, 2, 5, 0): 0.0, (5, 2, 5, 2): 0.0, (4, 2, 3, 1): 0.0, (4, 0): 0.0, (5, 0, 5, 0): 0.0, (3, 1, 3, 1): 0.0, (3, 1, 4, 2): 0.0, (4, 1, 5, 0): 0.0, (3, 2, 4, 1): 0.0, (5, 1, 4, 0): 0.0, (5, 0, 4, 1): 0.0, (5, 0, 3, 2): 0.0, (4, 0, 4, 0): 0.0001, (5, 2, 3, 0): 0.0, (4, 1, 4, 1): 0.0, (4, 2, 4, 2): 0.0, (3, 2, 3, 2): 0.0, (4, 1, 3, 2): 0.0, (3, 0, 3, 0): 0.0, (5, 1, 5, 1): 0.0, (4, 0, 5, 1): 0.0}  samples= None\n",
      "E=-227.88792153  angles= {(3, 0, 5, 2): 0.0, (3, 2, 5, 0): 0.0, (5, 2, 5, 2): 0.0, (4, 2, 3, 1): 0.0, (4, 0): 0.0, (5, 0, 5, 0): 0.0, (3, 1, 3, 1): 0.0, (3, 1, 4, 2): 0.0, (4, 1, 5, 0): 0.0, (3, 2, 4, 1): 0.0, (5, 1, 4, 0): 0.0, (5, 0, 4, 1): 0.0, (5, 0, 3, 2): 0.0, (4, 0, 4, 0): 0.0, (5, 2, 3, 0): 0.0001, (4, 1, 4, 1): 0.0, (4, 2, 4, 2): 0.0, (3, 2, 3, 2): 0.0, (4, 1, 3, 2): 0.0, (3, 0, 3, 0): 0.0, (5, 1, 5, 1): 0.0, (4, 0, 5, 1): 0.0}  samples= None\n",
      "E=-227.88791044  angles= {(3, 0, 5, 2): 0.0, (3, 2, 5, 0): 0.0, (5, 2, 5, 2): 0.0, (4, 2, 3, 1): 0.0, (4, 0): 0.0, (5, 0, 5, 0): 0.0, (3, 1, 3, 1): 0.0, (3, 1, 4, 2): 0.0, (4, 1, 5, 0): 0.0, (3, 2, 4, 1): 0.0, (5, 1, 4, 0): 0.0, (5, 0, 4, 1): 0.0, (5, 0, 3, 2): 0.0, (4, 0, 4, 0): 0.0, (5, 2, 3, 0): 0.0, (4, 1, 4, 1): 0.0001, (4, 2, 4, 2): 0.0, (3, 2, 3, 2): 0.0, (4, 1, 3, 2): 0.0, (3, 0, 3, 0): 0.0, (5, 1, 5, 1): 0.0, (4, 0, 5, 1): 0.0}  samples= None\n",
      "E=-227.88791035  angles= {(3, 0, 5, 2): 0.0, (3, 2, 5, 0): 0.0, (5, 2, 5, 2): 0.0, (4, 2, 3, 1): 0.0, (4, 0): 0.0, (5, 0, 5, 0): 0.0, (3, 1, 3, 1): 0.0, (3, 1, 4, 2): 0.0, (4, 1, 5, 0): 0.0, (3, 2, 4, 1): 0.0, (5, 1, 4, 0): 0.0, (5, 0, 4, 1): 0.0, (5, 0, 3, 2): 0.0, (4, 0, 4, 0): 0.0, (5, 2, 3, 0): 0.0, (4, 1, 4, 1): 0.0, (4, 2, 4, 2): 0.0001, (3, 2, 3, 2): 0.0, (4, 1, 3, 2): 0.0, (3, 0, 3, 0): 0.0, (5, 1, 5, 1): 0.0, (4, 0, 5, 1): 0.0}  samples= None\n"
     ]
    },
    {
     "name": "stdout",
     "output_type": "stream",
     "text": [
      "E=-227.88790213  angles= {(3, 0, 5, 2): 0.0, (3, 2, 5, 0): 0.0, (5, 2, 5, 2): 0.0, (4, 2, 3, 1): 0.0, (4, 0): 0.0, (5, 0, 5, 0): 0.0, (3, 1, 3, 1): 0.0, (3, 1, 4, 2): 0.0, (4, 1, 5, 0): 0.0, (3, 2, 4, 1): 0.0, (5, 1, 4, 0): 0.0, (5, 0, 4, 1): 0.0, (5, 0, 3, 2): 0.0, (4, 0, 4, 0): 0.0, (5, 2, 3, 0): 0.0, (4, 1, 4, 1): 0.0, (4, 2, 4, 2): 0.0, (3, 2, 3, 2): 0.0001, (4, 1, 3, 2): 0.0, (3, 0, 3, 0): 0.0, (5, 1, 5, 1): 0.0, (4, 0, 5, 1): 0.0}  samples= None\n",
      "E=-227.88793505  angles= {(3, 0, 5, 2): 0.0, (3, 2, 5, 0): 0.0, (5, 2, 5, 2): 0.0, (4, 2, 3, 1): 0.0, (4, 0): 0.0, (5, 0, 5, 0): 0.0, (3, 1, 3, 1): 0.0, (3, 1, 4, 2): 0.0, (4, 1, 5, 0): 0.0, (3, 2, 4, 1): 0.0, (5, 1, 4, 0): 0.0, (5, 0, 4, 1): 0.0, (5, 0, 3, 2): 0.0, (4, 0, 4, 0): 0.0, (5, 2, 3, 0): 0.0, (4, 1, 4, 1): 0.0, (4, 2, 4, 2): 0.0, (3, 2, 3, 2): 0.0, (4, 1, 3, 2): 0.0001, (3, 0, 3, 0): 0.0, (5, 1, 5, 1): 0.0, (4, 0, 5, 1): 0.0}  samples= None\n",
      "E=-227.88791043  angles= {(3, 0, 5, 2): 0.0, (3, 2, 5, 0): 0.0, (5, 2, 5, 2): 0.0, (4, 2, 3, 1): 0.0, (4, 0): 0.0, (5, 0, 5, 0): 0.0, (3, 1, 3, 1): 0.0, (3, 1, 4, 2): 0.0, (4, 1, 5, 0): 0.0, (3, 2, 4, 1): 0.0, (5, 1, 4, 0): 0.0, (5, 0, 4, 1): 0.0, (5, 0, 3, 2): 0.0, (4, 0, 4, 0): 0.0, (5, 2, 3, 0): 0.0, (4, 1, 4, 1): 0.0, (4, 2, 4, 2): 0.0, (3, 2, 3, 2): 0.0, (4, 1, 3, 2): 0.0, (3, 0, 3, 0): 0.0001, (5, 1, 5, 1): 0.0, (4, 0, 5, 1): 0.0}  samples= None\n",
      "E=-227.88790900  angles= {(3, 0, 5, 2): 0.0, (3, 2, 5, 0): 0.0, (5, 2, 5, 2): 0.0, (4, 2, 3, 1): 0.0, (4, 0): 0.0, (5, 0, 5, 0): 0.0, (3, 1, 3, 1): 0.0, (3, 1, 4, 2): 0.0, (4, 1, 5, 0): 0.0, (3, 2, 4, 1): 0.0, (5, 1, 4, 0): 0.0, (5, 0, 4, 1): 0.0, (5, 0, 3, 2): 0.0, (4, 0, 4, 0): 0.0, (5, 2, 3, 0): 0.0, (4, 1, 4, 1): 0.0, (4, 2, 4, 2): 0.0, (3, 2, 3, 2): 0.0, (4, 1, 3, 2): 0.0, (3, 0, 3, 0): 0.0, (5, 1, 5, 1): 0.0001, (4, 0, 5, 1): 0.0}  samples= None\n",
      "E=-227.88791529  angles= {(3, 0, 5, 2): 0.0, (3, 2, 5, 0): 0.0, (5, 2, 5, 2): 0.0, (4, 2, 3, 1): 0.0, (4, 0): 0.0, (5, 0, 5, 0): 0.0, (3, 1, 3, 1): 0.0, (3, 1, 4, 2): 0.0, (4, 1, 5, 0): 0.0, (3, 2, 4, 1): 0.0, (5, 1, 4, 0): 0.0, (5, 0, 4, 1): 0.0, (5, 0, 3, 2): 0.0, (4, 0, 4, 0): 0.0, (5, 2, 3, 0): 0.0, (4, 1, 4, 1): 0.0, (4, 2, 4, 2): 0.0, (3, 2, 3, 2): 0.0, (4, 1, 3, 2): 0.0, (3, 0, 3, 0): 0.0, (5, 1, 5, 1): 0.0, (4, 0, 5, 1): 0.0001}  samples= None\n",
      "E=-227.84646934  angles= {(3, 0, 5, 2): -0.10423584456020762, (3, 2, 5, 0): 0.12522737051767763, (5, 2, 5, 2): -0.08691631734336625, (4, 2, 3, 1): -0.0243922156073495, (4, 0): 0.10418686713364878, (5, 0, 5, 0): 0.08656892617864287, (3, 1, 3, 1): -0.11101510665412206, (3, 1, 4, 2): -0.0243922156073495, (4, 1, 5, 0): 0.037779568344831205, (3, 2, 4, 1): 0.13521545184858041, (5, 1, 4, 0): -0.038071095502800745, (5, 0, 4, 1): -0.14969599419600854, (5, 0, 3, 2): 0.22940315886899043, (4, 0, 4, 0): -0.11414558599653901, (5, 2, 3, 0): 0.0, (4, 1, 4, 1): -0.11088074728604624, (4, 2, 4, 2): -0.11181683220229388, (3, 2, 3, 2): -0.19402965079962087, (4, 1, 3, 2): 0.13521545184858041, (3, 0, 3, 0): -0.11101510665412206, (5, 1, 5, 1): -0.1252900392501033, (4, 0, 5, 1): -0.06239935544272157}  samples= None\n",
      "E=-227.84645885  angles= {(3, 0, 5, 2): -0.10433584456020763, (3, 2, 5, 0): 0.12522737051767763, (5, 2, 5, 2): -0.08691631734336625, (4, 2, 3, 1): -0.0243922156073495, (4, 0): 0.10418686713364878, (5, 0, 5, 0): 0.08656892617864287, (3, 1, 3, 1): -0.11101510665412206, (3, 1, 4, 2): -0.0243922156073495, (4, 1, 5, 0): 0.037779568344831205, (3, 2, 4, 1): 0.13521545184858041, (5, 1, 4, 0): -0.038071095502800745, (5, 0, 4, 1): -0.14969599419600854, (5, 0, 3, 2): 0.22940315886899043, (4, 0, 4, 0): -0.11414558599653901, (5, 2, 3, 0): 0.0, (4, 1, 4, 1): -0.11088074728604624, (4, 2, 4, 2): -0.11181683220229388, (3, 2, 3, 2): -0.19402965079962087, (4, 1, 3, 2): 0.13521545184858041, (3, 0, 3, 0): -0.11101510665412206, (5, 1, 5, 1): -0.1252900392501033, (4, 0, 5, 1): -0.06239935544272157}  samples= None\n",
      "E=-227.84644298  angles= {(3, 0, 5, 2): -0.10423584456020762, (3, 2, 5, 0): 0.12532737051767762, (5, 2, 5, 2): -0.08691631734336625, (4, 2, 3, 1): -0.0243922156073495, (4, 0): 0.10418686713364878, (5, 0, 5, 0): 0.08656892617864287, (3, 1, 3, 1): -0.11101510665412206, (3, 1, 4, 2): -0.0243922156073495, (4, 1, 5, 0): 0.037779568344831205, (3, 2, 4, 1): 0.13521545184858041, (5, 1, 4, 0): -0.038071095502800745, (5, 0, 4, 1): -0.14969599419600854, (5, 0, 3, 2): 0.22940315886899043, (4, 0, 4, 0): -0.11414558599653901, (5, 2, 3, 0): 0.0, (4, 1, 4, 1): -0.11088074728604624, (4, 2, 4, 2): -0.11181683220229388, (3, 2, 3, 2): -0.19402965079962087, (4, 1, 3, 2): 0.13521545184858041, (3, 0, 3, 0): -0.11101510665412206, (5, 1, 5, 1): -0.1252900392501033, (4, 0, 5, 1): -0.06239935544272157}  samples= None\n",
      "E=-227.84646457  angles= {(3, 0, 5, 2): -0.10423584456020762, (3, 2, 5, 0): 0.12522737051767763, (5, 2, 5, 2): -0.08701631734336625, (4, 2, 3, 1): -0.0243922156073495, (4, 0): 0.10418686713364878, (5, 0, 5, 0): 0.08656892617864287, (3, 1, 3, 1): -0.11101510665412206, (3, 1, 4, 2): -0.0243922156073495, (4, 1, 5, 0): 0.037779568344831205, (3, 2, 4, 1): 0.13521545184858041, (5, 1, 4, 0): -0.038071095502800745, (5, 0, 4, 1): -0.14969599419600854, (5, 0, 3, 2): 0.22940315886899043, (4, 0, 4, 0): -0.11414558599653901, (5, 2, 3, 0): 0.0, (4, 1, 4, 1): -0.11088074728604624, (4, 2, 4, 2): -0.11181683220229388, (3, 2, 3, 2): -0.19402965079962087, (4, 1, 3, 2): 0.13521545184858041, (3, 0, 3, 0): -0.11101510665412206, (5, 1, 5, 1): -0.1252900392501033, (4, 0, 5, 1): -0.06239935544272157}  samples= None\n",
      "E=-227.84645626  angles= {(3, 0, 5, 2): -0.10423584456020762, (3, 2, 5, 0): 0.12522737051767763, (5, 2, 5, 2): -0.08691631734336625, (4, 2, 3, 1): -0.0244922156073495, (4, 0): 0.10418686713364878, (5, 0, 5, 0): 0.08656892617864287, (3, 1, 3, 1): -0.11101510665412206, (3, 1, 4, 2): -0.0243922156073495, (4, 1, 5, 0): 0.037779568344831205, (3, 2, 4, 1): 0.13521545184858041, (5, 1, 4, 0): -0.038071095502800745, (5, 0, 4, 1): -0.14969599419600854, (5, 0, 3, 2): 0.22940315886899043, (4, 0, 4, 0): -0.11414558599653901, (5, 2, 3, 0): 0.0, (4, 1, 4, 1): -0.11088074728604624, (4, 2, 4, 2): -0.11181683220229388, (3, 2, 3, 2): -0.19402965079962087, (4, 1, 3, 2): 0.13521545184858041, (3, 0, 3, 0): -0.11101510665412206, (5, 1, 5, 1): -0.1252900392501033, (4, 0, 5, 1): -0.06239935544272157}  samples= None\n",
      "E=-227.84645845  angles= {(3, 0, 5, 2): -0.10423584456020762, (3, 2, 5, 0): 0.12522737051767763, (5, 2, 5, 2): -0.08691631734336625, (4, 2, 3, 1): -0.0243922156073495, (4, 0): 0.10428686713364878, (5, 0, 5, 0): 0.08656892617864287, (3, 1, 3, 1): -0.11101510665412206, (3, 1, 4, 2): -0.0243922156073495, (4, 1, 5, 0): 0.037779568344831205, (3, 2, 4, 1): 0.13521545184858041, (5, 1, 4, 0): -0.038071095502800745, (5, 0, 4, 1): -0.14969599419600854, (5, 0, 3, 2): 0.22940315886899043, (4, 0, 4, 0): -0.11414558599653901, (5, 2, 3, 0): 0.0, (4, 1, 4, 1): -0.11088074728604624, (4, 2, 4, 2): -0.11181683220229388, (3, 2, 3, 2): -0.19402965079962087, (4, 1, 3, 2): 0.13521545184858041, (3, 0, 3, 0): -0.11101510665412206, (5, 1, 5, 1): -0.1252900392501033, (4, 0, 5, 1): -0.06239935544272157}  samples= None\n",
      "E=-227.84647403  angles= {(3, 0, 5, 2): -0.10423584456020762, (3, 2, 5, 0): 0.12522737051767763, (5, 2, 5, 2): -0.08691631734336625, (4, 2, 3, 1): -0.0243922156073495, (4, 0): 0.10418686713364878, (5, 0, 5, 0): 0.08666892617864287, (3, 1, 3, 1): -0.11101510665412206, (3, 1, 4, 2): -0.0243922156073495, (4, 1, 5, 0): 0.037779568344831205, (3, 2, 4, 1): 0.13521545184858041, (5, 1, 4, 0): -0.038071095502800745, (5, 0, 4, 1): -0.14969599419600854, (5, 0, 3, 2): 0.22940315886899043, (4, 0, 4, 0): -0.11414558599653901, (5, 2, 3, 0): 0.0, (4, 1, 4, 1): -0.11088074728604624, (4, 2, 4, 2): -0.11181683220229388, (3, 2, 3, 2): -0.19402965079962087, (4, 1, 3, 2): 0.13521545184858041, (3, 0, 3, 0): -0.11101510665412206, (5, 1, 5, 1): -0.1252900392501033, (4, 0, 5, 1): -0.06239935544272157}  samples= None\n",
      "E=-227.84646447  angles= {(3, 0, 5, 2): -0.10423584456020762, (3, 2, 5, 0): 0.12522737051767763, (5, 2, 5, 2): -0.08691631734336625, (4, 2, 3, 1): -0.0243922156073495, (4, 0): 0.10418686713364878, (5, 0, 5, 0): 0.08656892617864287, (3, 1, 3, 1): -0.11111510665412207, (3, 1, 4, 2): -0.0243922156073495, (4, 1, 5, 0): 0.037779568344831205, (3, 2, 4, 1): 0.13521545184858041, (5, 1, 4, 0): -0.038071095502800745, (5, 0, 4, 1): -0.14969599419600854, (5, 0, 3, 2): 0.22940315886899043, (4, 0, 4, 0): -0.11414558599653901, (5, 2, 3, 0): 0.0, (4, 1, 4, 1): -0.11088074728604624, (4, 2, 4, 2): -0.11181683220229388, (3, 2, 3, 2): -0.19402965079962087, (4, 1, 3, 2): 0.13521545184858041, (3, 0, 3, 0): -0.11101510665412206, (5, 1, 5, 1): -0.1252900392501033, (4, 0, 5, 1): -0.06239935544272157}  samples= None\n"
     ]
    },
    {
     "name": "stdout",
     "output_type": "stream",
     "text": [
      "E=-227.84645595  angles= {(3, 0, 5, 2): -0.10423584456020762, (3, 2, 5, 0): 0.12522737051767763, (5, 2, 5, 2): -0.08691631734336625, (4, 2, 3, 1): -0.0243922156073495, (4, 0): 0.10418686713364878, (5, 0, 5, 0): 0.08656892617864287, (3, 1, 3, 1): -0.11101510665412206, (3, 1, 4, 2): -0.0244922156073495, (4, 1, 5, 0): 0.037779568344831205, (3, 2, 4, 1): 0.13521545184858041, (5, 1, 4, 0): -0.038071095502800745, (5, 0, 4, 1): -0.14969599419600854, (5, 0, 3, 2): 0.22940315886899043, (4, 0, 4, 0): -0.11414558599653901, (5, 2, 3, 0): 0.0, (4, 1, 4, 1): -0.11088074728604624, (4, 2, 4, 2): -0.11181683220229388, (3, 2, 3, 2): -0.19402965079962087, (4, 1, 3, 2): 0.13521545184858041, (3, 0, 3, 0): -0.11101510665412206, (5, 1, 5, 1): -0.1252900392501033, (4, 0, 5, 1): -0.06239935544272157}  samples= None\n",
      "E=-227.84648234  angles= {(3, 0, 5, 2): -0.10423584456020762, (3, 2, 5, 0): 0.12522737051767763, (5, 2, 5, 2): -0.08691631734336625, (4, 2, 3, 1): -0.0243922156073495, (4, 0): 0.10418686713364878, (5, 0, 5, 0): 0.08656892617864287, (3, 1, 3, 1): -0.11101510665412206, (3, 1, 4, 2): -0.0243922156073495, (4, 1, 5, 0): 0.03787956834483121, (3, 2, 4, 1): 0.13521545184858041, (5, 1, 4, 0): -0.038071095502800745, (5, 0, 4, 1): -0.14969599419600854, (5, 0, 3, 2): 0.22940315886899043, (4, 0, 4, 0): -0.11414558599653901, (5, 2, 3, 0): 0.0, (4, 1, 4, 1): -0.11088074728604624, (4, 2, 4, 2): -0.11181683220229388, (3, 2, 3, 2): -0.19402965079962087, (4, 1, 3, 2): 0.13521545184858041, (3, 0, 3, 0): -0.11101510665412206, (5, 1, 5, 1): -0.1252900392501033, (4, 0, 5, 1): -0.06239935544272157}  samples= None\n",
      "E=-227.84645139  angles= {(3, 0, 5, 2): -0.10423584456020762, (3, 2, 5, 0): 0.12522737051767763, (5, 2, 5, 2): -0.08691631734336625, (4, 2, 3, 1): -0.0243922156073495, (4, 0): 0.10418686713364878, (5, 0, 5, 0): 0.08656892617864287, (3, 1, 3, 1): -0.11101510665412206, (3, 1, 4, 2): -0.0243922156073495, (4, 1, 5, 0): 0.037779568344831205, (3, 2, 4, 1): 0.1353154518485804, (5, 1, 4, 0): -0.038071095502800745, (5, 0, 4, 1): -0.14969599419600854, (5, 0, 3, 2): 0.22940315886899043, (4, 0, 4, 0): -0.11414558599653901, (5, 2, 3, 0): 0.0, (4, 1, 4, 1): -0.11088074728604624, (4, 2, 4, 2): -0.11181683220229388, (3, 2, 3, 2): -0.19402965079962087, (4, 1, 3, 2): 0.13521545184858041, (3, 0, 3, 0): -0.11101510665412206, (5, 1, 5, 1): -0.1252900392501033, (4, 0, 5, 1): -0.06239935544272157}  samples= None\n",
      "E=-227.84647586  angles= {(3, 0, 5, 2): -0.10423584456020762, (3, 2, 5, 0): 0.12522737051767763, (5, 2, 5, 2): -0.08691631734336625, (4, 2, 3, 1): -0.0243922156073495, (4, 0): 0.10418686713364878, (5, 0, 5, 0): 0.08656892617864287, (3, 1, 3, 1): -0.11101510665412206, (3, 1, 4, 2): -0.0243922156073495, (4, 1, 5, 0): 0.037779568344831205, (3, 2, 4, 1): 0.13521545184858041, (5, 1, 4, 0): -0.03817109550280075, (5, 0, 4, 1): -0.14969599419600854, (5, 0, 3, 2): 0.22940315886899043, (4, 0, 4, 0): -0.11414558599653901, (5, 2, 3, 0): 0.0, (4, 1, 4, 1): -0.11088074728604624, (4, 2, 4, 2): -0.11181683220229388, (3, 2, 3, 2): -0.19402965079962087, (4, 1, 3, 2): 0.13521545184858041, (3, 0, 3, 0): -0.11101510665412206, (5, 1, 5, 1): -0.1252900392501033, (4, 0, 5, 1): -0.06239935544272157}  samples= None\n",
      "E=-227.84644080  angles= {(3, 0, 5, 2): -0.10423584456020762, (3, 2, 5, 0): 0.12522737051767763, (5, 2, 5, 2): -0.08691631734336625, (4, 2, 3, 1): -0.0243922156073495, (4, 0): 0.10418686713364878, (5, 0, 5, 0): 0.08656892617864287, (3, 1, 3, 1): -0.11101510665412206, (3, 1, 4, 2): -0.0243922156073495, (4, 1, 5, 0): 0.037779568344831205, (3, 2, 4, 1): 0.13521545184858041, (5, 1, 4, 0): -0.038071095502800745, (5, 0, 4, 1): -0.14979599419600853, (5, 0, 3, 2): 0.22940315886899043, (4, 0, 4, 0): -0.11414558599653901, (5, 2, 3, 0): 0.0, (4, 1, 4, 1): -0.11088074728604624, (4, 2, 4, 2): -0.11181683220229388, (3, 2, 3, 2): -0.19402965079962087, (4, 1, 3, 2): 0.13521545184858041, (3, 0, 3, 0): -0.11101510665412206, (5, 1, 5, 1): -0.1252900392501033, (4, 0, 5, 1): -0.06239935544272157}  samples= None\n",
      "E=-227.84643198  angles= {(3, 0, 5, 2): -0.10423584456020762, (3, 2, 5, 0): 0.12522737051767763, (5, 2, 5, 2): -0.08691631734336625, (4, 2, 3, 1): -0.0243922156073495, (4, 0): 0.10418686713364878, (5, 0, 5, 0): 0.08656892617864287, (3, 1, 3, 1): -0.11101510665412206, (3, 1, 4, 2): -0.0243922156073495, (4, 1, 5, 0): 0.037779568344831205, (3, 2, 4, 1): 0.13521545184858041, (5, 1, 4, 0): -0.038071095502800745, (5, 0, 4, 1): -0.14969599419600854, (5, 0, 3, 2): 0.22950315886899042, (4, 0, 4, 0): -0.11414558599653901, (5, 2, 3, 0): 0.0, (4, 1, 4, 1): -0.11088074728604624, (4, 2, 4, 2): -0.11181683220229388, (3, 2, 3, 2): -0.19402965079962087, (4, 1, 3, 2): 0.13521545184858041, (3, 0, 3, 0): -0.11101510665412206, (5, 1, 5, 1): -0.1252900392501033, (4, 0, 5, 1): -0.06239935544272157}  samples= None\n",
      "E=-227.84645161  angles= {(3, 0, 5, 2): -0.10423584456020762, (3, 2, 5, 0): 0.12522737051767763, (5, 2, 5, 2): -0.08691631734336625, (4, 2, 3, 1): -0.0243922156073495, (4, 0): 0.10418686713364878, (5, 0, 5, 0): 0.08656892617864287, (3, 1, 3, 1): -0.11101510665412206, (3, 1, 4, 2): -0.0243922156073495, (4, 1, 5, 0): 0.037779568344831205, (3, 2, 4, 1): 0.13521545184858041, (5, 1, 4, 0): -0.038071095502800745, (5, 0, 4, 1): -0.14969599419600854, (5, 0, 3, 2): 0.22940315886899043, (4, 0, 4, 0): -0.11424558599653901, (5, 2, 3, 0): 0.0, (4, 1, 4, 1): -0.11088074728604624, (4, 2, 4, 2): -0.11181683220229388, (3, 2, 3, 2): -0.19402965079962087, (4, 1, 3, 2): 0.13521545184858041, (3, 0, 3, 0): -0.11101510665412206, (5, 1, 5, 1): -0.1252900392501033, (4, 0, 5, 1): -0.06239935544272157}  samples= None\n",
      "E=-227.84646934  angles= {(3, 0, 5, 2): -0.10423584456020762, (3, 2, 5, 0): 0.12522737051767763, (5, 2, 5, 2): -0.08691631734336625, (4, 2, 3, 1): -0.0243922156073495, (4, 0): 0.10418686713364878, (5, 0, 5, 0): 0.08656892617864287, (3, 1, 3, 1): -0.11101510665412206, (3, 1, 4, 2): -0.0243922156073495, (4, 1, 5, 0): 0.037779568344831205, (3, 2, 4, 1): 0.13521545184858041, (5, 1, 4, 0): -0.038071095502800745, (5, 0, 4, 1): -0.14969599419600854, (5, 0, 3, 2): 0.22940315886899043, (4, 0, 4, 0): -0.11414558599653901, (5, 2, 3, 0): 0.0001, (4, 1, 4, 1): -0.11088074728604624, (4, 2, 4, 2): -0.11181683220229388, (3, 2, 3, 2): -0.19402965079962087, (4, 1, 3, 2): 0.13521545184858041, (3, 0, 3, 0): -0.11101510665412206, (5, 1, 5, 1): -0.1252900392501033, (4, 0, 5, 1): -0.06239935544272157}  samples= None\n",
      "E=-227.84645419  angles= {(3, 0, 5, 2): -0.10423584456020762, (3, 2, 5, 0): 0.12522737051767763, (5, 2, 5, 2): -0.08691631734336625, (4, 2, 3, 1): -0.0243922156073495, (4, 0): 0.10418686713364878, (5, 0, 5, 0): 0.08656892617864287, (3, 1, 3, 1): -0.11101510665412206, (3, 1, 4, 2): -0.0243922156073495, (4, 1, 5, 0): 0.037779568344831205, (3, 2, 4, 1): 0.13521545184858041, (5, 1, 4, 0): -0.038071095502800745, (5, 0, 4, 1): -0.14969599419600854, (5, 0, 3, 2): 0.22940315886899043, (4, 0, 4, 0): -0.11414558599653901, (5, 2, 3, 0): 0.0, (4, 1, 4, 1): -0.11098074728604625, (4, 2, 4, 2): -0.11181683220229388, (3, 2, 3, 2): -0.19402965079962087, (4, 1, 3, 2): 0.13521545184858041, (3, 0, 3, 0): -0.11101510665412206, (5, 1, 5, 1): -0.1252900392501033, (4, 0, 5, 1): -0.06239935544272157}  samples= None\n",
      "E=-227.84645691  angles= {(3, 0, 5, 2): -0.10423584456020762, (3, 2, 5, 0): 0.12522737051767763, (5, 2, 5, 2): -0.08691631734336625, (4, 2, 3, 1): -0.0243922156073495, (4, 0): 0.10418686713364878, (5, 0, 5, 0): 0.08656892617864287, (3, 1, 3, 1): -0.11101510665412206, (3, 1, 4, 2): -0.0243922156073495, (4, 1, 5, 0): 0.037779568344831205, (3, 2, 4, 1): 0.13521545184858041, (5, 1, 4, 0): -0.038071095502800745, (5, 0, 4, 1): -0.14969599419600854, (5, 0, 3, 2): 0.22940315886899043, (4, 0, 4, 0): -0.11414558599653901, (5, 2, 3, 0): 0.0, (4, 1, 4, 1): -0.11088074728604624, (4, 2, 4, 2): -0.11191683220229388, (3, 2, 3, 2): -0.19402965079962087, (4, 1, 3, 2): 0.13521545184858041, (3, 0, 3, 0): -0.11101510665412206, (5, 1, 5, 1): -0.1252900392501033, (4, 0, 5, 1): -0.06239935544272157}  samples= None\n",
      "E=-227.84647116  angles= {(3, 0, 5, 2): -0.10423584456020762, (3, 2, 5, 0): 0.12522737051767763, (5, 2, 5, 2): -0.08691631734336625, (4, 2, 3, 1): -0.0243922156073495, (4, 0): 0.10418686713364878, (5, 0, 5, 0): 0.08656892617864287, (3, 1, 3, 1): -0.11101510665412206, (3, 1, 4, 2): -0.0243922156073495, (4, 1, 5, 0): 0.037779568344831205, (3, 2, 4, 1): 0.13521545184858041, (5, 1, 4, 0): -0.038071095502800745, (5, 0, 4, 1): -0.14969599419600854, (5, 0, 3, 2): 0.22940315886899043, (4, 0, 4, 0): -0.11414558599653901, (5, 2, 3, 0): 0.0, (4, 1, 4, 1): -0.11088074728604624, (4, 2, 4, 2): -0.11181683220229388, (3, 2, 3, 2): -0.19412965079962086, (4, 1, 3, 2): 0.13521545184858041, (3, 0, 3, 0): -0.11101510665412206, (5, 1, 5, 1): -0.1252900392501033, (4, 0, 5, 1): -0.06239935544272157}  samples= None\n"
     ]
    },
    {
     "name": "stdout",
     "output_type": "stream",
     "text": [
      "E=-227.84645137  angles= {(3, 0, 5, 2): -0.10423584456020762, (3, 2, 5, 0): 0.12522737051767763, (5, 2, 5, 2): -0.08691631734336625, (4, 2, 3, 1): -0.0243922156073495, (4, 0): 0.10418686713364878, (5, 0, 5, 0): 0.08656892617864287, (3, 1, 3, 1): -0.11101510665412206, (3, 1, 4, 2): -0.0243922156073495, (4, 1, 5, 0): 0.037779568344831205, (3, 2, 4, 1): 0.13521545184858041, (5, 1, 4, 0): -0.038071095502800745, (5, 0, 4, 1): -0.14969599419600854, (5, 0, 3, 2): 0.22940315886899043, (4, 0, 4, 0): -0.11414558599653901, (5, 2, 3, 0): 0.0, (4, 1, 4, 1): -0.11088074728604624, (4, 2, 4, 2): -0.11181683220229388, (3, 2, 3, 2): -0.19402965079962087, (4, 1, 3, 2): 0.1353154518485804, (3, 0, 3, 0): -0.11101510665412206, (5, 1, 5, 1): -0.1252900392501033, (4, 0, 5, 1): -0.06239935544272157}  samples= None\n",
      "E=-227.84646447  angles= {(3, 0, 5, 2): -0.10423584456020762, (3, 2, 5, 0): 0.12522737051767763, (5, 2, 5, 2): -0.08691631734336625, (4, 2, 3, 1): -0.0243922156073495, (4, 0): 0.10418686713364878, (5, 0, 5, 0): 0.08656892617864287, (3, 1, 3, 1): -0.11101510665412206, (3, 1, 4, 2): -0.0243922156073495, (4, 1, 5, 0): 0.037779568344831205, (3, 2, 4, 1): 0.13521545184858041, (5, 1, 4, 0): -0.038071095502800745, (5, 0, 4, 1): -0.14969599419600854, (5, 0, 3, 2): 0.22940315886899043, (4, 0, 4, 0): -0.11414558599653901, (5, 2, 3, 0): 0.0, (4, 1, 4, 1): -0.11088074728604624, (4, 2, 4, 2): -0.11181683220229388, (3, 2, 3, 2): -0.19402965079962087, (4, 1, 3, 2): 0.13521545184858041, (3, 0, 3, 0): -0.11111510665412207, (5, 1, 5, 1): -0.1252900392501033, (4, 0, 5, 1): -0.06239935544272157}  samples= None\n",
      "E=-227.84644205  angles= {(3, 0, 5, 2): -0.10423584456020762, (3, 2, 5, 0): 0.12522737051767763, (5, 2, 5, 2): -0.08691631734336625, (4, 2, 3, 1): -0.0243922156073495, (4, 0): 0.10418686713364878, (5, 0, 5, 0): 0.08656892617864287, (3, 1, 3, 1): -0.11101510665412206, (3, 1, 4, 2): -0.0243922156073495, (4, 1, 5, 0): 0.037779568344831205, (3, 2, 4, 1): 0.13521545184858041, (5, 1, 4, 0): -0.038071095502800745, (5, 0, 4, 1): -0.14969599419600854, (5, 0, 3, 2): 0.22940315886899043, (4, 0, 4, 0): -0.11414558599653901, (5, 2, 3, 0): 0.0, (4, 1, 4, 1): -0.11088074728604624, (4, 2, 4, 2): -0.11181683220229388, (3, 2, 3, 2): -0.19402965079962087, (4, 1, 3, 2): 0.13521545184858041, (3, 0, 3, 0): -0.11101510665412206, (5, 1, 5, 1): -0.12539003925010328, (4, 0, 5, 1): -0.06239935544272157}  samples= None\n",
      "E=-227.84646876  angles= {(3, 0, 5, 2): -0.10423584456020762, (3, 2, 5, 0): 0.12522737051767763, (5, 2, 5, 2): -0.08691631734336625, (4, 2, 3, 1): -0.0243922156073495, (4, 0): 0.10418686713364878, (5, 0, 5, 0): 0.08656892617864287, (3, 1, 3, 1): -0.11101510665412206, (3, 1, 4, 2): -0.0243922156073495, (4, 1, 5, 0): 0.037779568344831205, (3, 2, 4, 1): 0.13521545184858041, (5, 1, 4, 0): -0.038071095502800745, (5, 0, 4, 1): -0.14969599419600854, (5, 0, 3, 2): 0.22940315886899043, (4, 0, 4, 0): -0.11414558599653901, (5, 2, 3, 0): 0.0, (4, 1, 4, 1): -0.11088074728604624, (4, 2, 4, 2): -0.11181683220229388, (3, 2, 3, 2): -0.19402965079962087, (4, 1, 3, 2): 0.13521545184858041, (3, 0, 3, 0): -0.11101510665412206, (5, 1, 5, 1): -0.1252900392501033, (4, 0, 5, 1): -0.062499355442721574}  samples= None\n",
      "E=-227.94841565  angles= {(3, 0, 5, 2): -0.04324653135915007, (3, 2, 5, 0): 0.05195573009425294, (5, 2, 5, 2): -0.03606081247262875, (4, 2, 3, 1): -0.01012011483797286, (4, 0): 0.04322621105741026, (5, 0, 5, 0): 0.035916682946336834, (3, 1, 3, 1): -0.04605918733151114, (3, 1, 4, 2): -0.01012011483797286, (4, 1, 5, 0): 0.01567440925963023, (3, 2, 4, 1): 0.05609969682966064, (5, 1, 4, 0): -0.015795361302877613, (5, 0, 4, 1): -0.06210754596608542, (5, 0, 3, 2): 0.0951773446627132, (4, 0, 4, 0): -0.04735799556415138, (5, 2, 3, 0): 0.0, (4, 1, 4, 1): -0.04600344281627838, (4, 2, 4, 2): -0.04639181618108522, (3, 2, 3, 2): -0.08050118856248108, (4, 1, 3, 2): 0.05609969682966064, (3, 0, 3, 0): -0.04605918733151114, (5, 1, 5, 1): -0.05198173079788343, (4, 0, 5, 1): -0.025888941499252673}  samples= None\n",
      "E=-227.94841612  angles= {(3, 0, 5, 2): -0.04334653135915007, (3, 2, 5, 0): 0.05195573009425294, (5, 2, 5, 2): -0.03606081247262875, (4, 2, 3, 1): -0.01012011483797286, (4, 0): 0.04322621105741026, (5, 0, 5, 0): 0.035916682946336834, (3, 1, 3, 1): -0.04605918733151114, (3, 1, 4, 2): -0.01012011483797286, (4, 1, 5, 0): 0.01567440925963023, (3, 2, 4, 1): 0.05609969682966064, (5, 1, 4, 0): -0.015795361302877613, (5, 0, 4, 1): -0.06210754596608542, (5, 0, 3, 2): 0.0951773446627132, (4, 0, 4, 0): -0.04735799556415138, (5, 2, 3, 0): 0.0, (4, 1, 4, 1): -0.04600344281627838, (4, 2, 4, 2): -0.04639181618108522, (3, 2, 3, 2): -0.08050118856248108, (4, 1, 3, 2): 0.05609969682966064, (3, 0, 3, 0): -0.04605918733151114, (5, 1, 5, 1): -0.05198173079788343, (4, 0, 5, 1): -0.025888941499252673}  samples= None\n",
      "E=-227.94840978  angles= {(3, 0, 5, 2): -0.04324653135915007, (3, 2, 5, 0): 0.05205573009425294, (5, 2, 5, 2): -0.03606081247262875, (4, 2, 3, 1): -0.01012011483797286, (4, 0): 0.04322621105741026, (5, 0, 5, 0): 0.035916682946336834, (3, 1, 3, 1): -0.04605918733151114, (3, 1, 4, 2): -0.01012011483797286, (4, 1, 5, 0): 0.01567440925963023, (3, 2, 4, 1): 0.05609969682966064, (5, 1, 4, 0): -0.015795361302877613, (5, 0, 4, 1): -0.06210754596608542, (5, 0, 3, 2): 0.0951773446627132, (4, 0, 4, 0): -0.04735799556415138, (5, 2, 3, 0): 0.0, (4, 1, 4, 1): -0.04600344281627838, (4, 2, 4, 2): -0.04639181618108522, (3, 2, 3, 2): -0.08050118856248108, (4, 1, 3, 2): 0.05609969682966064, (3, 0, 3, 0): -0.04605918733151114, (5, 1, 5, 1): -0.05198173079788343, (4, 0, 5, 1): -0.025888941499252673}  samples= None\n",
      "E=-227.94841910  angles= {(3, 0, 5, 2): -0.04324653135915007, (3, 2, 5, 0): 0.05195573009425294, (5, 2, 5, 2): -0.036160812472628756, (4, 2, 3, 1): -0.01012011483797286, (4, 0): 0.04322621105741026, (5, 0, 5, 0): 0.035916682946336834, (3, 1, 3, 1): -0.04605918733151114, (3, 1, 4, 2): -0.01012011483797286, (4, 1, 5, 0): 0.01567440925963023, (3, 2, 4, 1): 0.05609969682966064, (5, 1, 4, 0): -0.015795361302877613, (5, 0, 4, 1): -0.06210754596608542, (5, 0, 3, 2): 0.0951773446627132, (4, 0, 4, 0): -0.04735799556415138, (5, 2, 3, 0): 0.0, (4, 1, 4, 1): -0.04600344281627838, (4, 2, 4, 2): -0.04639181618108522, (3, 2, 3, 2): -0.08050118856248108, (4, 1, 3, 2): 0.05609969682966064, (3, 0, 3, 0): -0.04605918733151114, (5, 1, 5, 1): -0.05198173079788343, (4, 0, 5, 1): -0.025888941499252673}  samples= None\n",
      "E=-227.94841039  angles= {(3, 0, 5, 2): -0.04324653135915007, (3, 2, 5, 0): 0.05195573009425294, (5, 2, 5, 2): -0.03606081247262875, (4, 2, 3, 1): -0.01022011483797286, (4, 0): 0.04322621105741026, (5, 0, 5, 0): 0.035916682946336834, (3, 1, 3, 1): -0.04605918733151114, (3, 1, 4, 2): -0.01012011483797286, (4, 1, 5, 0): 0.01567440925963023, (3, 2, 4, 1): 0.05609969682966064, (5, 1, 4, 0): -0.015795361302877613, (5, 0, 4, 1): -0.06210754596608542, (5, 0, 3, 2): 0.0951773446627132, (4, 0, 4, 0): -0.04735799556415138, (5, 2, 3, 0): 0.0, (4, 1, 4, 1): -0.04600344281627838, (4, 2, 4, 2): -0.04639181618108522, (3, 2, 3, 2): -0.08050118856248108, (4, 1, 3, 2): 0.05609969682966064, (3, 0, 3, 0): -0.04605918733151114, (5, 1, 5, 1): -0.05198173079788343, (4, 0, 5, 1): -0.025888941499252673}  samples= None\n",
      "E=-227.94841615  angles= {(3, 0, 5, 2): -0.04324653135915007, (3, 2, 5, 0): 0.05195573009425294, (5, 2, 5, 2): -0.03606081247262875, (4, 2, 3, 1): -0.01012011483797286, (4, 0): 0.04332621105741026, (5, 0, 5, 0): 0.035916682946336834, (3, 1, 3, 1): -0.04605918733151114, (3, 1, 4, 2): -0.01012011483797286, (4, 1, 5, 0): 0.01567440925963023, (3, 2, 4, 1): 0.05609969682966064, (5, 1, 4, 0): -0.015795361302877613, (5, 0, 4, 1): -0.06210754596608542, (5, 0, 3, 2): 0.0951773446627132, (4, 0, 4, 0): -0.04735799556415138, (5, 2, 3, 0): 0.0, (4, 1, 4, 1): -0.04600344281627838, (4, 2, 4, 2): -0.04639181618108522, (3, 2, 3, 2): -0.08050118856248108, (4, 1, 3, 2): 0.05609969682966064, (3, 0, 3, 0): -0.04605918733151114, (5, 1, 5, 1): -0.05198173079788343, (4, 0, 5, 1): -0.025888941499252673}  samples= None\n",
      "E=-227.94842284  angles= {(3, 0, 5, 2): -0.04324653135915007, (3, 2, 5, 0): 0.05195573009425294, (5, 2, 5, 2): -0.03606081247262875, (4, 2, 3, 1): -0.01012011483797286, (4, 0): 0.04322621105741026, (5, 0, 5, 0): 0.03601668294633684, (3, 1, 3, 1): -0.04605918733151114, (3, 1, 4, 2): -0.01012011483797286, (4, 1, 5, 0): 0.01567440925963023, (3, 2, 4, 1): 0.05609969682966064, (5, 1, 4, 0): -0.015795361302877613, (5, 0, 4, 1): -0.06210754596608542, (5, 0, 3, 2): 0.0951773446627132, (4, 0, 4, 0): -0.04735799556415138, (5, 2, 3, 0): 0.0, (4, 1, 4, 1): -0.04600344281627838, (4, 2, 4, 2): -0.04639181618108522, (3, 2, 3, 2): -0.08050118856248108, (4, 1, 3, 2): 0.05609969682966064, (3, 0, 3, 0): -0.04605918733151114, (5, 1, 5, 1): -0.05198173079788343, (4, 0, 5, 1): -0.025888941499252673}  samples= None\n"
     ]
    },
    {
     "name": "stdout",
     "output_type": "stream",
     "text": [
      "E=-227.94841964  angles= {(3, 0, 5, 2): -0.04324653135915007, (3, 2, 5, 0): 0.05195573009425294, (5, 2, 5, 2): -0.03606081247262875, (4, 2, 3, 1): -0.01012011483797286, (4, 0): 0.04322621105741026, (5, 0, 5, 0): 0.035916682946336834, (3, 1, 3, 1): -0.04615918733151114, (3, 1, 4, 2): -0.01012011483797286, (4, 1, 5, 0): 0.01567440925963023, (3, 2, 4, 1): 0.05609969682966064, (5, 1, 4, 0): -0.015795361302877613, (5, 0, 4, 1): -0.06210754596608542, (5, 0, 3, 2): 0.0951773446627132, (4, 0, 4, 0): -0.04735799556415138, (5, 2, 3, 0): 0.0, (4, 1, 4, 1): -0.04600344281627838, (4, 2, 4, 2): -0.04639181618108522, (3, 2, 3, 2): -0.08050118856248108, (4, 1, 3, 2): 0.05609969682966064, (3, 0, 3, 0): -0.04605918733151114, (5, 1, 5, 1): -0.05198173079788343, (4, 0, 5, 1): -0.025888941499252673}  samples= None\n",
      "E=-227.94841036  angles= {(3, 0, 5, 2): -0.04324653135915007, (3, 2, 5, 0): 0.05195573009425294, (5, 2, 5, 2): -0.03606081247262875, (4, 2, 3, 1): -0.01012011483797286, (4, 0): 0.04322621105741026, (5, 0, 5, 0): 0.035916682946336834, (3, 1, 3, 1): -0.04605918733151114, (3, 1, 4, 2): -0.01022011483797286, (4, 1, 5, 0): 0.01567440925963023, (3, 2, 4, 1): 0.05609969682966064, (5, 1, 4, 0): -0.015795361302877613, (5, 0, 4, 1): -0.06210754596608542, (5, 0, 3, 2): 0.0951773446627132, (4, 0, 4, 0): -0.04735799556415138, (5, 2, 3, 0): 0.0, (4, 1, 4, 1): -0.04600344281627838, (4, 2, 4, 2): -0.04639181618108522, (3, 2, 3, 2): -0.08050118856248108, (4, 1, 3, 2): 0.05609969682966064, (3, 0, 3, 0): -0.04605918733151114, (5, 1, 5, 1): -0.05198173079788343, (4, 0, 5, 1): -0.025888941499252673}  samples= None\n",
      "E=-227.94842418  angles= {(3, 0, 5, 2): -0.04324653135915007, (3, 2, 5, 0): 0.05195573009425294, (5, 2, 5, 2): -0.03606081247262875, (4, 2, 3, 1): -0.01012011483797286, (4, 0): 0.04322621105741026, (5, 0, 5, 0): 0.035916682946336834, (3, 1, 3, 1): -0.04605918733151114, (3, 1, 4, 2): -0.01012011483797286, (4, 1, 5, 0): 0.01577440925963023, (3, 2, 4, 1): 0.05609969682966064, (5, 1, 4, 0): -0.015795361302877613, (5, 0, 4, 1): -0.06210754596608542, (5, 0, 3, 2): 0.0951773446627132, (4, 0, 4, 0): -0.04735799556415138, (5, 2, 3, 0): 0.0, (4, 1, 4, 1): -0.04600344281627838, (4, 2, 4, 2): -0.04639181618108522, (3, 2, 3, 2): -0.08050118856248108, (4, 1, 3, 2): 0.05609969682966064, (3, 0, 3, 0): -0.04605918733151114, (5, 1, 5, 1): -0.05198173079788343, (4, 0, 5, 1): -0.025888941499252673}  samples= None\n",
      "E=-227.94841408  angles= {(3, 0, 5, 2): -0.04324653135915007, (3, 2, 5, 0): 0.05195573009425294, (5, 2, 5, 2): -0.03606081247262875, (4, 2, 3, 1): -0.01012011483797286, (4, 0): 0.04322621105741026, (5, 0, 5, 0): 0.035916682946336834, (3, 1, 3, 1): -0.04605918733151114, (3, 1, 4, 2): -0.01012011483797286, (4, 1, 5, 0): 0.01567440925963023, (3, 2, 4, 1): 0.056199696829660646, (5, 1, 4, 0): -0.015795361302877613, (5, 0, 4, 1): -0.06210754596608542, (5, 0, 3, 2): 0.0951773446627132, (4, 0, 4, 0): -0.04735799556415138, (5, 2, 3, 0): 0.0, (4, 1, 4, 1): -0.04600344281627838, (4, 2, 4, 2): -0.04639181618108522, (3, 2, 3, 2): -0.08050118856248108, (4, 1, 3, 2): 0.05609969682966064, (3, 0, 3, 0): -0.04605918733151114, (5, 1, 5, 1): -0.05198173079788343, (4, 0, 5, 1): -0.025888941499252673}  samples= None\n",
      "E=-227.94842103  angles= {(3, 0, 5, 2): -0.04324653135915007, (3, 2, 5, 0): 0.05195573009425294, (5, 2, 5, 2): -0.03606081247262875, (4, 2, 3, 1): -0.01012011483797286, (4, 0): 0.04322621105741026, (5, 0, 5, 0): 0.035916682946336834, (3, 1, 3, 1): -0.04605918733151114, (3, 1, 4, 2): -0.01012011483797286, (4, 1, 5, 0): 0.01567440925963023, (3, 2, 4, 1): 0.05609969682966064, (5, 1, 4, 0): -0.015895361302877612, (5, 0, 4, 1): -0.06210754596608542, (5, 0, 3, 2): 0.0951773446627132, (4, 0, 4, 0): -0.04735799556415138, (5, 2, 3, 0): 0.0, (4, 1, 4, 1): -0.04600344281627838, (4, 2, 4, 2): -0.04639181618108522, (3, 2, 3, 2): -0.08050118856248108, (4, 1, 3, 2): 0.05609969682966064, (3, 0, 3, 0): -0.04605918733151114, (5, 1, 5, 1): -0.05198173079788343, (4, 0, 5, 1): -0.025888941499252673}  samples= None\n",
      "E=-227.94841003  angles= {(3, 0, 5, 2): -0.04324653135915007, (3, 2, 5, 0): 0.05195573009425294, (5, 2, 5, 2): -0.03606081247262875, (4, 2, 3, 1): -0.01012011483797286, (4, 0): 0.04322621105741026, (5, 0, 5, 0): 0.035916682946336834, (3, 1, 3, 1): -0.04605918733151114, (3, 1, 4, 2): -0.01012011483797286, (4, 1, 5, 0): 0.01567440925963023, (3, 2, 4, 1): 0.05609969682966064, (5, 1, 4, 0): -0.015795361302877613, (5, 0, 4, 1): -0.06220754596608542, (5, 0, 3, 2): 0.0951773446627132, (4, 0, 4, 0): -0.04735799556415138, (5, 2, 3, 0): 0.0, (4, 1, 4, 1): -0.04600344281627838, (4, 2, 4, 2): -0.04639181618108522, (3, 2, 3, 2): -0.08050118856248108, (4, 1, 3, 2): 0.05609969682966064, (3, 0, 3, 0): -0.04605918733151114, (5, 1, 5, 1): -0.05198173079788343, (4, 0, 5, 1): -0.025888941499252673}  samples= None\n",
      "E=-227.94841014  angles= {(3, 0, 5, 2): -0.04324653135915007, (3, 2, 5, 0): 0.05195573009425294, (5, 2, 5, 2): -0.03606081247262875, (4, 2, 3, 1): -0.01012011483797286, (4, 0): 0.04322621105741026, (5, 0, 5, 0): 0.035916682946336834, (3, 1, 3, 1): -0.04605918733151114, (3, 1, 4, 2): -0.01012011483797286, (4, 1, 5, 0): 0.01567440925963023, (3, 2, 4, 1): 0.05609969682966064, (5, 1, 4, 0): -0.015795361302877613, (5, 0, 4, 1): -0.06210754596608542, (5, 0, 3, 2): 0.0952773446627132, (4, 0, 4, 0): -0.04735799556415138, (5, 2, 3, 0): 0.0, (4, 1, 4, 1): -0.04600344281627838, (4, 2, 4, 2): -0.04639181618108522, (3, 2, 3, 2): -0.08050118856248108, (4, 1, 3, 2): 0.05609969682966064, (3, 0, 3, 0): -0.04605918733151114, (5, 1, 5, 1): -0.05198173079788343, (4, 0, 5, 1): -0.025888941499252673}  samples= None\n",
      "E=-227.94841401  angles= {(3, 0, 5, 2): -0.04324653135915007, (3, 2, 5, 0): 0.05195573009425294, (5, 2, 5, 2): -0.03606081247262875, (4, 2, 3, 1): -0.01012011483797286, (4, 0): 0.04322621105741026, (5, 0, 5, 0): 0.035916682946336834, (3, 1, 3, 1): -0.04605918733151114, (3, 1, 4, 2): -0.01012011483797286, (4, 1, 5, 0): 0.01567440925963023, (3, 2, 4, 1): 0.05609969682966064, (5, 1, 4, 0): -0.015795361302877613, (5, 0, 4, 1): -0.06210754596608542, (5, 0, 3, 2): 0.0951773446627132, (4, 0, 4, 0): -0.04745799556415138, (5, 2, 3, 0): 0.0, (4, 1, 4, 1): -0.04600344281627838, (4, 2, 4, 2): -0.04639181618108522, (3, 2, 3, 2): -0.08050118856248108, (4, 1, 3, 2): 0.05609969682966064, (3, 0, 3, 0): -0.04605918733151114, (5, 1, 5, 1): -0.05198173079788343, (4, 0, 5, 1): -0.025888941499252673}  samples= None\n",
      "E=-227.94841565  angles= {(3, 0, 5, 2): -0.04324653135915007, (3, 2, 5, 0): 0.05195573009425294, (5, 2, 5, 2): -0.03606081247262875, (4, 2, 3, 1): -0.01012011483797286, (4, 0): 0.04322621105741026, (5, 0, 5, 0): 0.035916682946336834, (3, 1, 3, 1): -0.04605918733151114, (3, 1, 4, 2): -0.01012011483797286, (4, 1, 5, 0): 0.01567440925963023, (3, 2, 4, 1): 0.05609969682966064, (5, 1, 4, 0): -0.015795361302877613, (5, 0, 4, 1): -0.06210754596608542, (5, 0, 3, 2): 0.0951773446627132, (4, 0, 4, 0): -0.04735799556415138, (5, 2, 3, 0): 0.0001, (4, 1, 4, 1): -0.04600344281627838, (4, 2, 4, 2): -0.04639181618108522, (3, 2, 3, 2): -0.08050118856248108, (4, 1, 3, 2): 0.05609969682966064, (3, 0, 3, 0): -0.04605918733151114, (5, 1, 5, 1): -0.05198173079788343, (4, 0, 5, 1): -0.025888941499252673}  samples= None\n",
      "E=-227.94841419  angles= {(3, 0, 5, 2): -0.04324653135915007, (3, 2, 5, 0): 0.05195573009425294, (5, 2, 5, 2): -0.03606081247262875, (4, 2, 3, 1): -0.01012011483797286, (4, 0): 0.04322621105741026, (5, 0, 5, 0): 0.035916682946336834, (3, 1, 3, 1): -0.04605918733151114, (3, 1, 4, 2): -0.01012011483797286, (4, 1, 5, 0): 0.01567440925963023, (3, 2, 4, 1): 0.05609969682966064, (5, 1, 4, 0): -0.015795361302877613, (5, 0, 4, 1): -0.06210754596608542, (5, 0, 3, 2): 0.0951773446627132, (4, 0, 4, 0): -0.04735799556415138, (5, 2, 3, 0): 0.0, (4, 1, 4, 1): -0.04610344281627838, (4, 2, 4, 2): -0.04639181618108522, (3, 2, 3, 2): -0.08050118856248108, (4, 1, 3, 2): 0.05609969682966064, (3, 0, 3, 0): -0.04605918733151114, (5, 1, 5, 1): -0.05198173079788343, (4, 0, 5, 1): -0.025888941499252673}  samples= None\n",
      "E=-227.94841636  angles= {(3, 0, 5, 2): -0.04324653135915007, (3, 2, 5, 0): 0.05195573009425294, (5, 2, 5, 2): -0.03606081247262875, (4, 2, 3, 1): -0.01012011483797286, (4, 0): 0.04322621105741026, (5, 0, 5, 0): 0.035916682946336834, (3, 1, 3, 1): -0.04605918733151114, (3, 1, 4, 2): -0.01012011483797286, (4, 1, 5, 0): 0.01567440925963023, (3, 2, 4, 1): 0.05609969682966064, (5, 1, 4, 0): -0.015795361302877613, (5, 0, 4, 1): -0.06210754596608542, (5, 0, 3, 2): 0.0951773446627132, (4, 0, 4, 0): -0.04735799556415138, (5, 2, 3, 0): 0.0, (4, 1, 4, 1): -0.04600344281627838, (4, 2, 4, 2): -0.04649181618108522, (3, 2, 3, 2): -0.08050118856248108, (4, 1, 3, 2): 0.05609969682966064, (3, 0, 3, 0): -0.04605918733151114, (5, 1, 5, 1): -0.05198173079788343, (4, 0, 5, 1): -0.025888941499252673}  samples= None\n"
     ]
    },
    {
     "name": "stdout",
     "output_type": "stream",
     "text": [
      "E=-227.94842684  angles= {(3, 0, 5, 2): -0.04324653135915007, (3, 2, 5, 0): 0.05195573009425294, (5, 2, 5, 2): -0.03606081247262875, (4, 2, 3, 1): -0.01012011483797286, (4, 0): 0.04322621105741026, (5, 0, 5, 0): 0.035916682946336834, (3, 1, 3, 1): -0.04605918733151114, (3, 1, 4, 2): -0.01012011483797286, (4, 1, 5, 0): 0.01567440925963023, (3, 2, 4, 1): 0.05609969682966064, (5, 1, 4, 0): -0.015795361302877613, (5, 0, 4, 1): -0.06210754596608542, (5, 0, 3, 2): 0.0951773446627132, (4, 0, 4, 0): -0.04735799556415138, (5, 2, 3, 0): 0.0, (4, 1, 4, 1): -0.04600344281627838, (4, 2, 4, 2): -0.04639181618108522, (3, 2, 3, 2): -0.08060118856248108, (4, 1, 3, 2): 0.05609969682966064, (3, 0, 3, 0): -0.04605918733151114, (5, 1, 5, 1): -0.05198173079788343, (4, 0, 5, 1): -0.025888941499252673}  samples= None\n",
      "E=-227.94841407  angles= {(3, 0, 5, 2): -0.04324653135915007, (3, 2, 5, 0): 0.05195573009425294, (5, 2, 5, 2): -0.03606081247262875, (4, 2, 3, 1): -0.01012011483797286, (4, 0): 0.04322621105741026, (5, 0, 5, 0): 0.035916682946336834, (3, 1, 3, 1): -0.04605918733151114, (3, 1, 4, 2): -0.01012011483797286, (4, 1, 5, 0): 0.01567440925963023, (3, 2, 4, 1): 0.05609969682966064, (5, 1, 4, 0): -0.015795361302877613, (5, 0, 4, 1): -0.06210754596608542, (5, 0, 3, 2): 0.0951773446627132, (4, 0, 4, 0): -0.04735799556415138, (5, 2, 3, 0): 0.0, (4, 1, 4, 1): -0.04600344281627838, (4, 2, 4, 2): -0.04639181618108522, (3, 2, 3, 2): -0.08050118856248108, (4, 1, 3, 2): 0.056199696829660646, (3, 0, 3, 0): -0.04605918733151114, (5, 1, 5, 1): -0.05198173079788343, (4, 0, 5, 1): -0.025888941499252673}  samples= None\n",
      "E=-227.94841964  angles= {(3, 0, 5, 2): -0.04324653135915007, (3, 2, 5, 0): 0.05195573009425294, (5, 2, 5, 2): -0.03606081247262875, (4, 2, 3, 1): -0.01012011483797286, (4, 0): 0.04322621105741026, (5, 0, 5, 0): 0.035916682946336834, (3, 1, 3, 1): -0.04605918733151114, (3, 1, 4, 2): -0.01012011483797286, (4, 1, 5, 0): 0.01567440925963023, (3, 2, 4, 1): 0.05609969682966064, (5, 1, 4, 0): -0.015795361302877613, (5, 0, 4, 1): -0.06210754596608542, (5, 0, 3, 2): 0.0951773446627132, (4, 0, 4, 0): -0.04735799556415138, (5, 2, 3, 0): 0.0, (4, 1, 4, 1): -0.04600344281627838, (4, 2, 4, 2): -0.04639181618108522, (3, 2, 3, 2): -0.08050118856248108, (4, 1, 3, 2): 0.05609969682966064, (3, 0, 3, 0): -0.04615918733151114, (5, 1, 5, 1): -0.05198173079788343, (4, 0, 5, 1): -0.025888941499252673}  samples= None\n",
      "E=-227.94840959  angles= {(3, 0, 5, 2): -0.04324653135915007, (3, 2, 5, 0): 0.05195573009425294, (5, 2, 5, 2): -0.03606081247262875, (4, 2, 3, 1): -0.01012011483797286, (4, 0): 0.04322621105741026, (5, 0, 5, 0): 0.035916682946336834, (3, 1, 3, 1): -0.04605918733151114, (3, 1, 4, 2): -0.01012011483797286, (4, 1, 5, 0): 0.01567440925963023, (3, 2, 4, 1): 0.05609969682966064, (5, 1, 4, 0): -0.015795361302877613, (5, 0, 4, 1): -0.06210754596608542, (5, 0, 3, 2): 0.0951773446627132, (4, 0, 4, 0): -0.04735799556415138, (5, 2, 3, 0): 0.0, (4, 1, 4, 1): -0.04600344281627838, (4, 2, 4, 2): -0.04639181618108522, (3, 2, 3, 2): -0.08050118856248108, (4, 1, 3, 2): 0.05609969682966064, (3, 0, 3, 0): -0.04605918733151114, (5, 1, 5, 1): -0.05208173079788343, (4, 0, 5, 1): -0.025888941499252673}  samples= None\n",
      "E=-227.94841923  angles= {(3, 0, 5, 2): -0.04324653135915007, (3, 2, 5, 0): 0.05195573009425294, (5, 2, 5, 2): -0.03606081247262875, (4, 2, 3, 1): -0.01012011483797286, (4, 0): 0.04322621105741026, (5, 0, 5, 0): 0.035916682946336834, (3, 1, 3, 1): -0.04605918733151114, (3, 1, 4, 2): -0.01012011483797286, (4, 1, 5, 0): 0.01567440925963023, (3, 2, 4, 1): 0.05609969682966064, (5, 1, 4, 0): -0.015795361302877613, (5, 0, 4, 1): -0.06210754596608542, (5, 0, 3, 2): 0.0951773446627132, (4, 0, 4, 0): -0.04735799556415138, (5, 2, 3, 0): 0.0, (4, 1, 4, 1): -0.04600344281627838, (4, 2, 4, 2): -0.04639181618108522, (3, 2, 3, 2): -0.08050118856248108, (4, 1, 3, 2): 0.05609969682966064, (3, 0, 3, 0): -0.04605918733151114, (5, 1, 5, 1): -0.05198173079788343, (4, 0, 5, 1): -0.025988941499252672}  samples= None\n",
      "E=-227.90311569  angles= {(3, 0, 5, 2): -0.06708848213946485, (3, 2, 5, 0): 0.015662102806528834, (5, 2, 5, 2): -0.08681629675867435, (4, 2, 3, 1): 0.038528074989022, (4, 0): 0.06736452541997572, (5, 0, 5, 0): 0.1244015617918599, (3, 1, 3, 1): -0.10674919141583317, (3, 1, 4, 2): 0.03885358113371741, (4, 1, 5, 0): 0.10870874101038773, (3, 2, 4, 1): 0.06510973183988535, (5, 1, 4, 0): -0.07710755293556062, (5, 0, 4, 1): -0.03283357230370888, (5, 0, 3, 2): 0.08165298892298718, (4, 0, 4, 0): -0.05176510468104196, (5, 2, 3, 0): 0.0, (4, 1, 4, 1): -0.051632237765386654, (4, 2, 4, 2): -0.07403408036466114, (3, 2, 3, 2): -0.2291200200295117, (4, 1, 3, 2): 0.06498697855537562, (3, 0, 3, 0): -0.10674919141583317, (5, 1, 5, 1): -0.013752434101003685, (4, 0, 5, 1): -0.0735142659985665}  samples= None\n",
      "E=-227.90311786  angles= {(3, 0, 5, 2): -0.06718848213946485, (3, 2, 5, 0): 0.015662102806528834, (5, 2, 5, 2): -0.08681629675867435, (4, 2, 3, 1): 0.038528074989022, (4, 0): 0.06736452541997572, (5, 0, 5, 0): 0.1244015617918599, (3, 1, 3, 1): -0.10674919141583317, (3, 1, 4, 2): 0.03885358113371741, (4, 1, 5, 0): 0.10870874101038773, (3, 2, 4, 1): 0.06510973183988535, (5, 1, 4, 0): -0.07710755293556062, (5, 0, 4, 1): -0.03283357230370888, (5, 0, 3, 2): 0.08165298892298718, (4, 0, 4, 0): -0.05176510468104196, (5, 2, 3, 0): 0.0, (4, 1, 4, 1): -0.051632237765386654, (4, 2, 4, 2): -0.07403408036466114, (3, 2, 3, 2): -0.2291200200295117, (4, 1, 3, 2): 0.06498697855537562, (3, 0, 3, 0): -0.10674919141583317, (5, 1, 5, 1): -0.013752434101003685, (4, 0, 5, 1): -0.0735142659985665}  samples= None\n",
      "E=-227.90311429  angles= {(3, 0, 5, 2): -0.06708848213946485, (3, 2, 5, 0): 0.015762102806528833, (5, 2, 5, 2): -0.08681629675867435, (4, 2, 3, 1): 0.038528074989022, (4, 0): 0.06736452541997572, (5, 0, 5, 0): 0.1244015617918599, (3, 1, 3, 1): -0.10674919141583317, (3, 1, 4, 2): 0.03885358113371741, (4, 1, 5, 0): 0.10870874101038773, (3, 2, 4, 1): 0.06510973183988535, (5, 1, 4, 0): -0.07710755293556062, (5, 0, 4, 1): -0.03283357230370888, (5, 0, 3, 2): 0.08165298892298718, (4, 0, 4, 0): -0.05176510468104196, (5, 2, 3, 0): 0.0, (4, 1, 4, 1): -0.051632237765386654, (4, 2, 4, 2): -0.07403408036466114, (3, 2, 3, 2): -0.2291200200295117, (4, 1, 3, 2): 0.06498697855537562, (3, 0, 3, 0): -0.10674919141583317, (5, 1, 5, 1): -0.013752434101003685, (4, 0, 5, 1): -0.0735142659985665}  samples= None\n",
      "E=-227.90310769  angles= {(3, 0, 5, 2): -0.06708848213946485, (3, 2, 5, 0): 0.015662102806528834, (5, 2, 5, 2): -0.08691629675867435, (4, 2, 3, 1): 0.038528074989022, (4, 0): 0.06736452541997572, (5, 0, 5, 0): 0.1244015617918599, (3, 1, 3, 1): -0.10674919141583317, (3, 1, 4, 2): 0.03885358113371741, (4, 1, 5, 0): 0.10870874101038773, (3, 2, 4, 1): 0.06510973183988535, (5, 1, 4, 0): -0.07710755293556062, (5, 0, 4, 1): -0.03283357230370888, (5, 0, 3, 2): 0.08165298892298718, (4, 0, 4, 0): -0.05176510468104196, (5, 2, 3, 0): 0.0, (4, 1, 4, 1): -0.051632237765386654, (4, 2, 4, 2): -0.07403408036466114, (3, 2, 3, 2): -0.2291200200295117, (4, 1, 3, 2): 0.06498697855537562, (3, 0, 3, 0): -0.10674919141583317, (5, 1, 5, 1): -0.013752434101003685, (4, 0, 5, 1): -0.0735142659985665}  samples= None\n",
      "E=-227.90310003  angles= {(3, 0, 5, 2): -0.06708848213946485, (3, 2, 5, 0): 0.015662102806528834, (5, 2, 5, 2): -0.08681629675867435, (4, 2, 3, 1): 0.038628074989022, (4, 0): 0.06736452541997572, (5, 0, 5, 0): 0.1244015617918599, (3, 1, 3, 1): -0.10674919141583317, (3, 1, 4, 2): 0.03885358113371741, (4, 1, 5, 0): 0.10870874101038773, (3, 2, 4, 1): 0.06510973183988535, (5, 1, 4, 0): -0.07710755293556062, (5, 0, 4, 1): -0.03283357230370888, (5, 0, 3, 2): 0.08165298892298718, (4, 0, 4, 0): -0.05176510468104196, (5, 2, 3, 0): 0.0, (4, 1, 4, 1): -0.051632237765386654, (4, 2, 4, 2): -0.07403408036466114, (3, 2, 3, 2): -0.2291200200295117, (4, 1, 3, 2): 0.06498697855537562, (3, 0, 3, 0): -0.10674919141583317, (5, 1, 5, 1): -0.013752434101003685, (4, 0, 5, 1): -0.0735142659985665}  samples= None\n",
      "E=-227.90311788  angles= {(3, 0, 5, 2): -0.06708848213946485, (3, 2, 5, 0): 0.015662102806528834, (5, 2, 5, 2): -0.08681629675867435, (4, 2, 3, 1): 0.038528074989022, (4, 0): 0.06746452541997572, (5, 0, 5, 0): 0.1244015617918599, (3, 1, 3, 1): -0.10674919141583317, (3, 1, 4, 2): 0.03885358113371741, (4, 1, 5, 0): 0.10870874101038773, (3, 2, 4, 1): 0.06510973183988535, (5, 1, 4, 0): -0.07710755293556062, (5, 0, 4, 1): -0.03283357230370888, (5, 0, 3, 2): 0.08165298892298718, (4, 0, 4, 0): -0.05176510468104196, (5, 2, 3, 0): 0.0, (4, 1, 4, 1): -0.051632237765386654, (4, 2, 4, 2): -0.07403408036466114, (3, 2, 3, 2): -0.2291200200295117, (4, 1, 3, 2): 0.06498697855537562, (3, 0, 3, 0): -0.10674919141583317, (5, 1, 5, 1): -0.013752434101003685, (4, 0, 5, 1): -0.0735142659985665}  samples= None\n"
     ]
    },
    {
     "name": "stdout",
     "output_type": "stream",
     "text": [
      "E=-227.90310495  angles= {(3, 0, 5, 2): -0.06708848213946485, (3, 2, 5, 0): 0.015662102806528834, (5, 2, 5, 2): -0.08681629675867435, (4, 2, 3, 1): 0.038528074989022, (4, 0): 0.06736452541997572, (5, 0, 5, 0): 0.12450156179185991, (3, 1, 3, 1): -0.10674919141583317, (3, 1, 4, 2): 0.03885358113371741, (4, 1, 5, 0): 0.10870874101038773, (3, 2, 4, 1): 0.06510973183988535, (5, 1, 4, 0): -0.07710755293556062, (5, 0, 4, 1): -0.03283357230370888, (5, 0, 3, 2): 0.08165298892298718, (4, 0, 4, 0): -0.05176510468104196, (5, 2, 3, 0): 0.0, (4, 1, 4, 1): -0.051632237765386654, (4, 2, 4, 2): -0.07403408036466114, (3, 2, 3, 2): -0.2291200200295117, (4, 1, 3, 2): 0.06498697855537562, (3, 0, 3, 0): -0.10674919141583317, (5, 1, 5, 1): -0.013752434101003685, (4, 0, 5, 1): -0.0735142659985665}  samples= None\n",
      "E=-227.90311090  angles= {(3, 0, 5, 2): -0.06708848213946485, (3, 2, 5, 0): 0.015662102806528834, (5, 2, 5, 2): -0.08681629675867435, (4, 2, 3, 1): 0.038528074989022, (4, 0): 0.06736452541997572, (5, 0, 5, 0): 0.1244015617918599, (3, 1, 3, 1): -0.10684919141583317, (3, 1, 4, 2): 0.03885358113371741, (4, 1, 5, 0): 0.10870874101038773, (3, 2, 4, 1): 0.06510973183988535, (5, 1, 4, 0): -0.07710755293556062, (5, 0, 4, 1): -0.03283357230370888, (5, 0, 3, 2): 0.08165298892298718, (4, 0, 4, 0): -0.05176510468104196, (5, 2, 3, 0): 0.0, (4, 1, 4, 1): -0.051632237765386654, (4, 2, 4, 2): -0.07403408036466114, (3, 2, 3, 2): -0.2291200200295117, (4, 1, 3, 2): 0.06498697855537562, (3, 0, 3, 0): -0.10674919141583317, (5, 1, 5, 1): -0.013752434101003685, (4, 0, 5, 1): -0.0735142659985665}  samples= None\n",
      "E=-227.90309987  angles= {(3, 0, 5, 2): -0.06708848213946485, (3, 2, 5, 0): 0.015662102806528834, (5, 2, 5, 2): -0.08681629675867435, (4, 2, 3, 1): 0.038528074989022, (4, 0): 0.06736452541997572, (5, 0, 5, 0): 0.1244015617918599, (3, 1, 3, 1): -0.10674919141583317, (3, 1, 4, 2): 0.03895358113371741, (4, 1, 5, 0): 0.10870874101038773, (3, 2, 4, 1): 0.06510973183988535, (5, 1, 4, 0): -0.07710755293556062, (5, 0, 4, 1): -0.03283357230370888, (5, 0, 3, 2): 0.08165298892298718, (4, 0, 4, 0): -0.05176510468104196, (5, 2, 3, 0): 0.0, (4, 1, 4, 1): -0.051632237765386654, (4, 2, 4, 2): -0.07403408036466114, (3, 2, 3, 2): -0.2291200200295117, (4, 1, 3, 2): 0.06498697855537562, (3, 0, 3, 0): -0.10674919141583317, (5, 1, 5, 1): -0.013752434101003685, (4, 0, 5, 1): -0.0735142659985665}  samples= None\n",
      "E=-227.90306696  angles= {(3, 0, 5, 2): -0.06708848213946485, (3, 2, 5, 0): 0.015662102806528834, (5, 2, 5, 2): -0.08681629675867435, (4, 2, 3, 1): 0.038528074989022, (4, 0): 0.06736452541997572, (5, 0, 5, 0): 0.1244015617918599, (3, 1, 3, 1): -0.10674919141583317, (3, 1, 4, 2): 0.03885358113371741, (4, 1, 5, 0): 0.10880874101038773, (3, 2, 4, 1): 0.06510973183988535, (5, 1, 4, 0): -0.07710755293556062, (5, 0, 4, 1): -0.03283357230370888, (5, 0, 3, 2): 0.08165298892298718, (4, 0, 4, 0): -0.05176510468104196, (5, 2, 3, 0): 0.0, (4, 1, 4, 1): -0.051632237765386654, (4, 2, 4, 2): -0.07403408036466114, (3, 2, 3, 2): -0.2291200200295117, (4, 1, 3, 2): 0.06498697855537562, (3, 0, 3, 0): -0.10674919141583317, (5, 1, 5, 1): -0.013752434101003685, (4, 0, 5, 1): -0.0735142659985665}  samples= None\n",
      "E=-227.90313678  angles= {(3, 0, 5, 2): -0.06708848213946485, (3, 2, 5, 0): 0.015662102806528834, (5, 2, 5, 2): -0.08681629675867435, (4, 2, 3, 1): 0.038528074989022, (4, 0): 0.06736452541997572, (5, 0, 5, 0): 0.1244015617918599, (3, 1, 3, 1): -0.10674919141583317, (3, 1, 4, 2): 0.03885358113371741, (4, 1, 5, 0): 0.10870874101038773, (3, 2, 4, 1): 0.06520973183988535, (5, 1, 4, 0): -0.07710755293556062, (5, 0, 4, 1): -0.03283357230370888, (5, 0, 3, 2): 0.08165298892298718, (4, 0, 4, 0): -0.05176510468104196, (5, 2, 3, 0): 0.0, (4, 1, 4, 1): -0.051632237765386654, (4, 2, 4, 2): -0.07403408036466114, (3, 2, 3, 2): -0.2291200200295117, (4, 1, 3, 2): 0.06498697855537562, (3, 0, 3, 0): -0.10674919141583317, (5, 1, 5, 1): -0.013752434101003685, (4, 0, 5, 1): -0.0735142659985665}  samples= None\n",
      "E=-227.90306666  angles= {(3, 0, 5, 2): -0.06708848213946485, (3, 2, 5, 0): 0.015662102806528834, (5, 2, 5, 2): -0.08681629675867435, (4, 2, 3, 1): 0.038528074989022, (4, 0): 0.06736452541997572, (5, 0, 5, 0): 0.1244015617918599, (3, 1, 3, 1): -0.10674919141583317, (3, 1, 4, 2): 0.03885358113371741, (4, 1, 5, 0): 0.10870874101038773, (3, 2, 4, 1): 0.06510973183988535, (5, 1, 4, 0): -0.07720755293556063, (5, 0, 4, 1): -0.03283357230370888, (5, 0, 3, 2): 0.08165298892298718, (4, 0, 4, 0): -0.05176510468104196, (5, 2, 3, 0): 0.0, (4, 1, 4, 1): -0.051632237765386654, (4, 2, 4, 2): -0.07403408036466114, (3, 2, 3, 2): -0.2291200200295117, (4, 1, 3, 2): 0.06498697855537562, (3, 0, 3, 0): -0.10674919141583317, (5, 1, 5, 1): -0.013752434101003685, (4, 0, 5, 1): -0.0735142659985665}  samples= None\n",
      "E=-227.90313703  angles= {(3, 0, 5, 2): -0.06708848213946485, (3, 2, 5, 0): 0.015662102806528834, (5, 2, 5, 2): -0.08681629675867435, (4, 2, 3, 1): 0.038528074989022, (4, 0): 0.06736452541997572, (5, 0, 5, 0): 0.1244015617918599, (3, 1, 3, 1): -0.10674919141583317, (3, 1, 4, 2): 0.03885358113371741, (4, 1, 5, 0): 0.10870874101038773, (3, 2, 4, 1): 0.06510973183988535, (5, 1, 4, 0): -0.07710755293556062, (5, 0, 4, 1): -0.032933572303708886, (5, 0, 3, 2): 0.08165298892298718, (4, 0, 4, 0): -0.05176510468104196, (5, 2, 3, 0): 0.0, (4, 1, 4, 1): -0.051632237765386654, (4, 2, 4, 2): -0.07403408036466114, (3, 2, 3, 2): -0.2291200200295117, (4, 1, 3, 2): 0.06498697855537562, (3, 0, 3, 0): -0.10674919141583317, (5, 1, 5, 1): -0.013752434101003685, (4, 0, 5, 1): -0.0735142659985665}  samples= None\n",
      "E=-227.90311640  angles= {(3, 0, 5, 2): -0.06708848213946485, (3, 2, 5, 0): 0.015662102806528834, (5, 2, 5, 2): -0.08681629675867435, (4, 2, 3, 1): 0.038528074989022, (4, 0): 0.06736452541997572, (5, 0, 5, 0): 0.1244015617918599, (3, 1, 3, 1): -0.10674919141583317, (3, 1, 4, 2): 0.03885358113371741, (4, 1, 5, 0): 0.10870874101038773, (3, 2, 4, 1): 0.06510973183988535, (5, 1, 4, 0): -0.07710755293556062, (5, 0, 4, 1): -0.03283357230370888, (5, 0, 3, 2): 0.08175298892298719, (4, 0, 4, 0): -0.05176510468104196, (5, 2, 3, 0): 0.0, (4, 1, 4, 1): -0.051632237765386654, (4, 2, 4, 2): -0.07403408036466114, (3, 2, 3, 2): -0.2291200200295117, (4, 1, 3, 2): 0.06498697855537562, (3, 0, 3, 0): -0.10674919141583317, (5, 1, 5, 1): -0.013752434101003685, (4, 0, 5, 1): -0.0735142659985665}  samples= None\n",
      "E=-227.90311493  angles= {(3, 0, 5, 2): -0.06708848213946485, (3, 2, 5, 0): 0.015662102806528834, (5, 2, 5, 2): -0.08681629675867435, (4, 2, 3, 1): 0.038528074989022, (4, 0): 0.06736452541997572, (5, 0, 5, 0): 0.1244015617918599, (3, 1, 3, 1): -0.10674919141583317, (3, 1, 4, 2): 0.03885358113371741, (4, 1, 5, 0): 0.10870874101038773, (3, 2, 4, 1): 0.06510973183988535, (5, 1, 4, 0): -0.07710755293556062, (5, 0, 4, 1): -0.03283357230370888, (5, 0, 3, 2): 0.08165298892298718, (4, 0, 4, 0): -0.05186510468104196, (5, 2, 3, 0): 0.0, (4, 1, 4, 1): -0.051632237765386654, (4, 2, 4, 2): -0.07403408036466114, (3, 2, 3, 2): -0.2291200200295117, (4, 1, 3, 2): 0.06498697855537562, (3, 0, 3, 0): -0.10674919141583317, (5, 1, 5, 1): -0.013752434101003685, (4, 0, 5, 1): -0.0735142659985665}  samples= None\n",
      "E=-227.90311569  angles= {(3, 0, 5, 2): -0.06708848213946485, (3, 2, 5, 0): 0.015662102806528834, (5, 2, 5, 2): -0.08681629675867435, (4, 2, 3, 1): 0.038528074989022, (4, 0): 0.06736452541997572, (5, 0, 5, 0): 0.1244015617918599, (3, 1, 3, 1): -0.10674919141583317, (3, 1, 4, 2): 0.03885358113371741, (4, 1, 5, 0): 0.10870874101038773, (3, 2, 4, 1): 0.06510973183988535, (5, 1, 4, 0): -0.07710755293556062, (5, 0, 4, 1): -0.03283357230370888, (5, 0, 3, 2): 0.08165298892298718, (4, 0, 4, 0): -0.05176510468104196, (5, 2, 3, 0): 0.0001, (4, 1, 4, 1): -0.051632237765386654, (4, 2, 4, 2): -0.07403408036466114, (3, 2, 3, 2): -0.2291200200295117, (4, 1, 3, 2): 0.06498697855537562, (3, 0, 3, 0): -0.10674919141583317, (5, 1, 5, 1): -0.013752434101003685, (4, 0, 5, 1): -0.0735142659985665}  samples= None\n",
      "E=-227.90311444  angles= {(3, 0, 5, 2): -0.06708848213946485, (3, 2, 5, 0): 0.015662102806528834, (5, 2, 5, 2): -0.08681629675867435, (4, 2, 3, 1): 0.038528074989022, (4, 0): 0.06736452541997572, (5, 0, 5, 0): 0.1244015617918599, (3, 1, 3, 1): -0.10674919141583317, (3, 1, 4, 2): 0.03885358113371741, (4, 1, 5, 0): 0.10870874101038773, (3, 2, 4, 1): 0.06510973183988535, (5, 1, 4, 0): -0.07710755293556062, (5, 0, 4, 1): -0.03283357230370888, (5, 0, 3, 2): 0.08165298892298718, (4, 0, 4, 0): -0.05176510468104196, (5, 2, 3, 0): 0.0, (4, 1, 4, 1): -0.05173223776538666, (4, 2, 4, 2): -0.07403408036466114, (3, 2, 3, 2): -0.2291200200295117, (4, 1, 3, 2): 0.06498697855537562, (3, 0, 3, 0): -0.10674919141583317, (5, 1, 5, 1): -0.013752434101003685, (4, 0, 5, 1): -0.0735142659985665}  samples= None\n"
     ]
    },
    {
     "name": "stdout",
     "output_type": "stream",
     "text": [
      "E=-227.90311304  angles= {(3, 0, 5, 2): -0.06708848213946485, (3, 2, 5, 0): 0.015662102806528834, (5, 2, 5, 2): -0.08681629675867435, (4, 2, 3, 1): 0.038528074989022, (4, 0): 0.06736452541997572, (5, 0, 5, 0): 0.1244015617918599, (3, 1, 3, 1): -0.10674919141583317, (3, 1, 4, 2): 0.03885358113371741, (4, 1, 5, 0): 0.10870874101038773, (3, 2, 4, 1): 0.06510973183988535, (5, 1, 4, 0): -0.07710755293556062, (5, 0, 4, 1): -0.03283357230370888, (5, 0, 3, 2): 0.08165298892298718, (4, 0, 4, 0): -0.05176510468104196, (5, 2, 3, 0): 0.0, (4, 1, 4, 1): -0.051632237765386654, (4, 2, 4, 2): -0.07413408036466114, (3, 2, 3, 2): -0.2291200200295117, (4, 1, 3, 2): 0.06498697855537562, (3, 0, 3, 0): -0.10674919141583317, (5, 1, 5, 1): -0.013752434101003685, (4, 0, 5, 1): -0.0735142659985665}  samples= None\n",
      "E=-227.90310768  angles= {(3, 0, 5, 2): -0.06708848213946485, (3, 2, 5, 0): 0.015662102806528834, (5, 2, 5, 2): -0.08681629675867435, (4, 2, 3, 1): 0.038528074989022, (4, 0): 0.06736452541997572, (5, 0, 5, 0): 0.1244015617918599, (3, 1, 3, 1): -0.10674919141583317, (3, 1, 4, 2): 0.03885358113371741, (4, 1, 5, 0): 0.10870874101038773, (3, 2, 4, 1): 0.06510973183988535, (5, 1, 4, 0): -0.07710755293556062, (5, 0, 4, 1): -0.03283357230370888, (5, 0, 3, 2): 0.08165298892298718, (4, 0, 4, 0): -0.05176510468104196, (5, 2, 3, 0): 0.0, (4, 1, 4, 1): -0.051632237765386654, (4, 2, 4, 2): -0.07403408036466114, (3, 2, 3, 2): -0.2292200200295117, (4, 1, 3, 2): 0.06498697855537562, (3, 0, 3, 0): -0.10674919141583317, (5, 1, 5, 1): -0.013752434101003685, (4, 0, 5, 1): -0.0735142659985665}  samples= None\n",
      "E=-227.90313689  angles= {(3, 0, 5, 2): -0.06708848213946485, (3, 2, 5, 0): 0.015662102806528834, (5, 2, 5, 2): -0.08681629675867435, (4, 2, 3, 1): 0.038528074989022, (4, 0): 0.06736452541997572, (5, 0, 5, 0): 0.1244015617918599, (3, 1, 3, 1): -0.10674919141583317, (3, 1, 4, 2): 0.03885358113371741, (4, 1, 5, 0): 0.10870874101038773, (3, 2, 4, 1): 0.06510973183988535, (5, 1, 4, 0): -0.07710755293556062, (5, 0, 4, 1): -0.03283357230370888, (5, 0, 3, 2): 0.08165298892298718, (4, 0, 4, 0): -0.05176510468104196, (5, 2, 3, 0): 0.0, (4, 1, 4, 1): -0.051632237765386654, (4, 2, 4, 2): -0.07403408036466114, (3, 2, 3, 2): -0.2291200200295117, (4, 1, 3, 2): 0.06508697855537562, (3, 0, 3, 0): -0.10674919141583317, (5, 1, 5, 1): -0.013752434101003685, (4, 0, 5, 1): -0.0735142659985665}  samples= None\n",
      "E=-227.90311090  angles= {(3, 0, 5, 2): -0.06708848213946485, (3, 2, 5, 0): 0.015662102806528834, (5, 2, 5, 2): -0.08681629675867435, (4, 2, 3, 1): 0.038528074989022, (4, 0): 0.06736452541997572, (5, 0, 5, 0): 0.1244015617918599, (3, 1, 3, 1): -0.10674919141583317, (3, 1, 4, 2): 0.03885358113371741, (4, 1, 5, 0): 0.10870874101038773, (3, 2, 4, 1): 0.06510973183988535, (5, 1, 4, 0): -0.07710755293556062, (5, 0, 4, 1): -0.03283357230370888, (5, 0, 3, 2): 0.08165298892298718, (4, 0, 4, 0): -0.05176510468104196, (5, 2, 3, 0): 0.0, (4, 1, 4, 1): -0.051632237765386654, (4, 2, 4, 2): -0.07403408036466114, (3, 2, 3, 2): -0.2291200200295117, (4, 1, 3, 2): 0.06498697855537562, (3, 0, 3, 0): -0.10684919141583317, (5, 1, 5, 1): -0.013752434101003685, (4, 0, 5, 1): -0.0735142659985665}  samples= None\n",
      "E=-227.90311448  angles= {(3, 0, 5, 2): -0.06708848213946485, (3, 2, 5, 0): 0.015662102806528834, (5, 2, 5, 2): -0.08681629675867435, (4, 2, 3, 1): 0.038528074989022, (4, 0): 0.06736452541997572, (5, 0, 5, 0): 0.1244015617918599, (3, 1, 3, 1): -0.10674919141583317, (3, 1, 4, 2): 0.03885358113371741, (4, 1, 5, 0): 0.10870874101038773, (3, 2, 4, 1): 0.06510973183988535, (5, 1, 4, 0): -0.07710755293556062, (5, 0, 4, 1): -0.03283357230370888, (5, 0, 3, 2): 0.08165298892298718, (4, 0, 4, 0): -0.05176510468104196, (5, 2, 3, 0): 0.0, (4, 1, 4, 1): -0.051632237765386654, (4, 2, 4, 2): -0.07403408036466114, (3, 2, 3, 2): -0.2291200200295117, (4, 1, 3, 2): 0.06498697855537562, (3, 0, 3, 0): -0.10674919141583317, (5, 1, 5, 1): -0.013852434101003685, (4, 0, 5, 1): -0.0735142659985665}  samples= None\n",
      "E=-227.90308208  angles= {(3, 0, 5, 2): -0.06708848213946485, (3, 2, 5, 0): 0.015662102806528834, (5, 2, 5, 2): -0.08681629675867435, (4, 2, 3, 1): 0.038528074989022, (4, 0): 0.06736452541997572, (5, 0, 5, 0): 0.1244015617918599, (3, 1, 3, 1): -0.10674919141583317, (3, 1, 4, 2): 0.03885358113371741, (4, 1, 5, 0): 0.10870874101038773, (3, 2, 4, 1): 0.06510973183988535, (5, 1, 4, 0): -0.07710755293556062, (5, 0, 4, 1): -0.03283357230370888, (5, 0, 3, 2): 0.08165298892298718, (4, 0, 4, 0): -0.05176510468104196, (5, 2, 3, 0): 0.0, (4, 1, 4, 1): -0.051632237765386654, (4, 2, 4, 2): -0.07403408036466114, (3, 2, 3, 2): -0.2291200200295117, (4, 1, 3, 2): 0.06498697855537562, (3, 0, 3, 0): -0.10674919141583317, (5, 1, 5, 1): -0.013752434101003685, (4, 0, 5, 1): -0.0736142659985665}  samples= None\n",
      "E=-227.95567904  angles= {(3, 0, 5, 2): -0.04954120013013831, (3, 2, 5, 0): 0.042373613077949485, (5, 2, 5, 2): -0.049461098583257895, (4, 2, 3, 1): 0.0027238107321582543, (4, 0): 0.049599124708745786, (5, 0, 5, 0): 0.059278152345622226, (3, 1, 3, 1): -0.06208235074379996, (3, 1, 4, 2): 0.0028097497302989067, (4, 1, 5, 0): 0.04023700936300656, (3, 2, 4, 1): 0.05847849487882025, (5, 1, 4, 0): -0.03198279250375693, (5, 0, 4, 1): -0.054378733440919175, (5, 0, 3, 2): 0.09160669138408643, (4, 0, 4, 0): -0.04852154515722131, (5, 2, 3, 0): 0.0, (4, 1, 4, 1): -0.047489537645972524, (4, 2, 4, 2): -0.05368983045512798, (3, 2, 3, 2): -0.11973901460432862, (4, 1, 3, 2): 0.058446085984361094, (3, 0, 3, 0): -0.06208235074379996, (5, 1, 5, 1): -0.04188856508875114, (4, 0, 5, 1): -0.03846281372960437}  samples= None\n",
      "E=-227.95568001  angles= {(3, 0, 5, 2): -0.04964120013013831, (3, 2, 5, 0): 0.042373613077949485, (5, 2, 5, 2): -0.049461098583257895, (4, 2, 3, 1): 0.0027238107321582543, (4, 0): 0.049599124708745786, (5, 0, 5, 0): 0.059278152345622226, (3, 1, 3, 1): -0.06208235074379996, (3, 1, 4, 2): 0.0028097497302989067, (4, 1, 5, 0): 0.04023700936300656, (3, 2, 4, 1): 0.05847849487882025, (5, 1, 4, 0): -0.03198279250375693, (5, 0, 4, 1): -0.054378733440919175, (5, 0, 3, 2): 0.09160669138408643, (4, 0, 4, 0): -0.04852154515722131, (5, 2, 3, 0): 0.0, (4, 1, 4, 1): -0.047489537645972524, (4, 2, 4, 2): -0.05368983045512798, (3, 2, 3, 2): -0.11973901460432862, (4, 1, 3, 2): 0.058446085984361094, (3, 0, 3, 0): -0.06208235074379996, (5, 1, 5, 1): -0.04188856508875114, (4, 0, 5, 1): -0.03846281372960437}  samples= None\n",
      "E=-227.95567443  angles= {(3, 0, 5, 2): -0.04954120013013831, (3, 2, 5, 0): 0.04247361307794949, (5, 2, 5, 2): -0.049461098583257895, (4, 2, 3, 1): 0.0027238107321582543, (4, 0): 0.049599124708745786, (5, 0, 5, 0): 0.059278152345622226, (3, 1, 3, 1): -0.06208235074379996, (3, 1, 4, 2): 0.0028097497302989067, (4, 1, 5, 0): 0.04023700936300656, (3, 2, 4, 1): 0.05847849487882025, (5, 1, 4, 0): -0.03198279250375693, (5, 0, 4, 1): -0.054378733440919175, (5, 0, 3, 2): 0.09160669138408643, (4, 0, 4, 0): -0.04852154515722131, (5, 2, 3, 0): 0.0, (4, 1, 4, 1): -0.047489537645972524, (4, 2, 4, 2): -0.05368983045512798, (3, 2, 3, 2): -0.11973901460432862, (4, 1, 3, 2): 0.058446085984361094, (3, 0, 3, 0): -0.06208235074379996, (5, 1, 5, 1): -0.04188856508875114, (4, 0, 5, 1): -0.03846281372960437}  samples= None\n",
      "E=-227.95567918  angles= {(3, 0, 5, 2): -0.04954120013013831, (3, 2, 5, 0): 0.042373613077949485, (5, 2, 5, 2): -0.0495610985832579, (4, 2, 3, 1): 0.0027238107321582543, (4, 0): 0.049599124708745786, (5, 0, 5, 0): 0.059278152345622226, (3, 1, 3, 1): -0.06208235074379996, (3, 1, 4, 2): 0.0028097497302989067, (4, 1, 5, 0): 0.04023700936300656, (3, 2, 4, 1): 0.05847849487882025, (5, 1, 4, 0): -0.03198279250375693, (5, 0, 4, 1): -0.054378733440919175, (5, 0, 3, 2): 0.09160669138408643, (4, 0, 4, 0): -0.04852154515722131, (5, 2, 3, 0): 0.0, (4, 1, 4, 1): -0.047489537645972524, (4, 2, 4, 2): -0.05368983045512798, (3, 2, 3, 2): -0.11973901460432862, (4, 1, 3, 2): 0.058446085984361094, (3, 0, 3, 0): -0.06208235074379996, (5, 1, 5, 1): -0.04188856508875114, (4, 0, 5, 1): -0.03846281372960437}  samples= None\n",
      "E=-227.95567837  angles= {(3, 0, 5, 2): -0.04954120013013831, (3, 2, 5, 0): 0.042373613077949485, (5, 2, 5, 2): -0.049461098583257895, (4, 2, 3, 1): 0.002823810732158254, (4, 0): 0.049599124708745786, (5, 0, 5, 0): 0.059278152345622226, (3, 1, 3, 1): -0.06208235074379996, (3, 1, 4, 2): 0.0028097497302989067, (4, 1, 5, 0): 0.04023700936300656, (3, 2, 4, 1): 0.05847849487882025, (5, 1, 4, 0): -0.03198279250375693, (5, 0, 4, 1): -0.054378733440919175, (5, 0, 3, 2): 0.09160669138408643, (4, 0, 4, 0): -0.04852154515722131, (5, 2, 3, 0): 0.0, (4, 1, 4, 1): -0.047489537645972524, (4, 2, 4, 2): -0.05368983045512798, (3, 2, 3, 2): -0.11973901460432862, (4, 1, 3, 2): 0.058446085984361094, (3, 0, 3, 0): -0.06208235074379996, (5, 1, 5, 1): -0.04188856508875114, (4, 0, 5, 1): -0.03846281372960437}  samples= None\n"
     ]
    },
    {
     "name": "stdout",
     "output_type": "stream",
     "text": [
      "E=-227.95568004  angles= {(3, 0, 5, 2): -0.04954120013013831, (3, 2, 5, 0): 0.042373613077949485, (5, 2, 5, 2): -0.049461098583257895, (4, 2, 3, 1): 0.0027238107321582543, (4, 0): 0.04969912470874579, (5, 0, 5, 0): 0.059278152345622226, (3, 1, 3, 1): -0.06208235074379996, (3, 1, 4, 2): 0.0028097497302989067, (4, 1, 5, 0): 0.04023700936300656, (3, 2, 4, 1): 0.05847849487882025, (5, 1, 4, 0): -0.03198279250375693, (5, 0, 4, 1): -0.054378733440919175, (5, 0, 3, 2): 0.09160669138408643, (4, 0, 4, 0): -0.04852154515722131, (5, 2, 3, 0): 0.0, (4, 1, 4, 1): -0.047489537645972524, (4, 2, 4, 2): -0.05368983045512798, (3, 2, 3, 2): -0.11973901460432862, (4, 1, 3, 2): 0.058446085984361094, (3, 0, 3, 0): -0.06208235074379996, (5, 1, 5, 1): -0.04188856508875114, (4, 0, 5, 1): -0.03846281372960437}  samples= None\n",
      "E=-227.95568120  angles= {(3, 0, 5, 2): -0.04954120013013831, (3, 2, 5, 0): 0.042373613077949485, (5, 2, 5, 2): -0.049461098583257895, (4, 2, 3, 1): 0.0027238107321582543, (4, 0): 0.049599124708745786, (5, 0, 5, 0): 0.05937815234562223, (3, 1, 3, 1): -0.06208235074379996, (3, 1, 4, 2): 0.0028097497302989067, (4, 1, 5, 0): 0.04023700936300656, (3, 2, 4, 1): 0.05847849487882025, (5, 1, 4, 0): -0.03198279250375693, (5, 0, 4, 1): -0.054378733440919175, (5, 0, 3, 2): 0.09160669138408643, (4, 0, 4, 0): -0.04852154515722131, (5, 2, 3, 0): 0.0, (4, 1, 4, 1): -0.047489537645972524, (4, 2, 4, 2): -0.05368983045512798, (3, 2, 3, 2): -0.11973901460432862, (4, 1, 3, 2): 0.058446085984361094, (3, 0, 3, 0): -0.06208235074379996, (5, 1, 5, 1): -0.04188856508875114, (4, 0, 5, 1): -0.03846281372960437}  samples= None\n",
      "E=-227.95568047  angles= {(3, 0, 5, 2): -0.04954120013013831, (3, 2, 5, 0): 0.042373613077949485, (5, 2, 5, 2): -0.049461098583257895, (4, 2, 3, 1): 0.0027238107321582543, (4, 0): 0.049599124708745786, (5, 0, 5, 0): 0.059278152345622226, (3, 1, 3, 1): -0.06218235074379996, (3, 1, 4, 2): 0.0028097497302989067, (4, 1, 5, 0): 0.04023700936300656, (3, 2, 4, 1): 0.05847849487882025, (5, 1, 4, 0): -0.03198279250375693, (5, 0, 4, 1): -0.054378733440919175, (5, 0, 3, 2): 0.09160669138408643, (4, 0, 4, 0): -0.04852154515722131, (5, 2, 3, 0): 0.0, (4, 1, 4, 1): -0.047489537645972524, (4, 2, 4, 2): -0.05368983045512798, (3, 2, 3, 2): -0.11973901460432862, (4, 1, 3, 2): 0.058446085984361094, (3, 0, 3, 0): -0.06208235074379996, (5, 1, 5, 1): -0.04188856508875114, (4, 0, 5, 1): -0.03846281372960437}  samples= None\n",
      "E=-227.95567836  angles= {(3, 0, 5, 2): -0.04954120013013831, (3, 2, 5, 0): 0.042373613077949485, (5, 2, 5, 2): -0.049461098583257895, (4, 2, 3, 1): 0.0027238107321582543, (4, 0): 0.049599124708745786, (5, 0, 5, 0): 0.059278152345622226, (3, 1, 3, 1): -0.06208235074379996, (3, 1, 4, 2): 0.0029097497302989065, (4, 1, 5, 0): 0.04023700936300656, (3, 2, 4, 1): 0.05847849487882025, (5, 1, 4, 0): -0.03198279250375693, (5, 0, 4, 1): -0.054378733440919175, (5, 0, 3, 2): 0.09160669138408643, (4, 0, 4, 0): -0.04852154515722131, (5, 2, 3, 0): 0.0, (4, 1, 4, 1): -0.047489537645972524, (4, 2, 4, 2): -0.05368983045512798, (3, 2, 3, 2): -0.11973901460432862, (4, 1, 3, 2): 0.058446085984361094, (3, 0, 3, 0): -0.06208235074379996, (5, 1, 5, 1): -0.04188856508875114, (4, 0, 5, 1): -0.03846281372960437}  samples= None\n",
      "E=-227.95567155  angles= {(3, 0, 5, 2): -0.04954120013013831, (3, 2, 5, 0): 0.042373613077949485, (5, 2, 5, 2): -0.049461098583257895, (4, 2, 3, 1): 0.0027238107321582543, (4, 0): 0.049599124708745786, (5, 0, 5, 0): 0.059278152345622226, (3, 1, 3, 1): -0.06208235074379996, (3, 1, 4, 2): 0.0028097497302989067, (4, 1, 5, 0): 0.04033700936300656, (3, 2, 4, 1): 0.05847849487882025, (5, 1, 4, 0): -0.03198279250375693, (5, 0, 4, 1): -0.054378733440919175, (5, 0, 3, 2): 0.09160669138408643, (4, 0, 4, 0): -0.04852154515722131, (5, 2, 3, 0): 0.0, (4, 1, 4, 1): -0.047489537645972524, (4, 2, 4, 2): -0.05368983045512798, (3, 2, 3, 2): -0.11973901460432862, (4, 1, 3, 2): 0.058446085984361094, (3, 0, 3, 0): -0.06208235074379996, (5, 1, 5, 1): -0.04188856508875114, (4, 0, 5, 1): -0.03846281372960437}  samples= None\n",
      "E=-227.95568396  angles= {(3, 0, 5, 2): -0.04954120013013831, (3, 2, 5, 0): 0.042373613077949485, (5, 2, 5, 2): -0.049461098583257895, (4, 2, 3, 1): 0.0027238107321582543, (4, 0): 0.049599124708745786, (5, 0, 5, 0): 0.059278152345622226, (3, 1, 3, 1): -0.06208235074379996, (3, 1, 4, 2): 0.0028097497302989067, (4, 1, 5, 0): 0.04023700936300656, (3, 2, 4, 1): 0.058578494878820254, (5, 1, 4, 0): -0.03198279250375693, (5, 0, 4, 1): -0.054378733440919175, (5, 0, 3, 2): 0.09160669138408643, (4, 0, 4, 0): -0.04852154515722131, (5, 2, 3, 0): 0.0, (4, 1, 4, 1): -0.047489537645972524, (4, 2, 4, 2): -0.05368983045512798, (3, 2, 3, 2): -0.11973901460432862, (4, 1, 3, 2): 0.058446085984361094, (3, 0, 3, 0): -0.06208235074379996, (5, 1, 5, 1): -0.04188856508875114, (4, 0, 5, 1): -0.03846281372960437}  samples= None\n",
      "E=-227.95566933  angles= {(3, 0, 5, 2): -0.04954120013013831, (3, 2, 5, 0): 0.042373613077949485, (5, 2, 5, 2): -0.049461098583257895, (4, 2, 3, 1): 0.0027238107321582543, (4, 0): 0.049599124708745786, (5, 0, 5, 0): 0.059278152345622226, (3, 1, 3, 1): -0.06208235074379996, (3, 1, 4, 2): 0.0028097497302989067, (4, 1, 5, 0): 0.04023700936300656, (3, 2, 4, 1): 0.05847849487882025, (5, 1, 4, 0): -0.03208279250375693, (5, 0, 4, 1): -0.054378733440919175, (5, 0, 3, 2): 0.09160669138408643, (4, 0, 4, 0): -0.04852154515722131, (5, 2, 3, 0): 0.0, (4, 1, 4, 1): -0.047489537645972524, (4, 2, 4, 2): -0.05368983045512798, (3, 2, 3, 2): -0.11973901460432862, (4, 1, 3, 2): 0.058446085984361094, (3, 0, 3, 0): -0.06208235074379996, (5, 1, 5, 1): -0.04188856508875114, (4, 0, 5, 1): -0.03846281372960437}  samples= None\n",
      "E=-227.95568078  angles= {(3, 0, 5, 2): -0.04954120013013831, (3, 2, 5, 0): 0.042373613077949485, (5, 2, 5, 2): -0.049461098583257895, (4, 2, 3, 1): 0.0027238107321582543, (4, 0): 0.049599124708745786, (5, 0, 5, 0): 0.059278152345622226, (3, 1, 3, 1): -0.06208235074379996, (3, 1, 4, 2): 0.0028097497302989067, (4, 1, 5, 0): 0.04023700936300656, (3, 2, 4, 1): 0.05847849487882025, (5, 1, 4, 0): -0.03198279250375693, (5, 0, 4, 1): -0.05447873344091918, (5, 0, 3, 2): 0.09160669138408643, (4, 0, 4, 0): -0.04852154515722131, (5, 2, 3, 0): 0.0, (4, 1, 4, 1): -0.047489537645972524, (4, 2, 4, 2): -0.05368983045512798, (3, 2, 3, 2): -0.11973901460432862, (4, 1, 3, 2): 0.058446085984361094, (3, 0, 3, 0): -0.06208235074379996, (5, 1, 5, 1): -0.04188856508875114, (4, 0, 5, 1): -0.03846281372960437}  samples= None\n",
      "E=-227.95567530  angles= {(3, 0, 5, 2): -0.04954120013013831, (3, 2, 5, 0): 0.042373613077949485, (5, 2, 5, 2): -0.049461098583257895, (4, 2, 3, 1): 0.0027238107321582543, (4, 0): 0.049599124708745786, (5, 0, 5, 0): 0.059278152345622226, (3, 1, 3, 1): -0.06208235074379996, (3, 1, 4, 2): 0.0028097497302989067, (4, 1, 5, 0): 0.04023700936300656, (3, 2, 4, 1): 0.05847849487882025, (5, 1, 4, 0): -0.03198279250375693, (5, 0, 4, 1): -0.054378733440919175, (5, 0, 3, 2): 0.09170669138408644, (4, 0, 4, 0): -0.04852154515722131, (5, 2, 3, 0): 0.0, (4, 1, 4, 1): -0.047489537645972524, (4, 2, 4, 2): -0.05368983045512798, (3, 2, 3, 2): -0.11973901460432862, (4, 1, 3, 2): 0.058446085984361094, (3, 0, 3, 0): -0.06208235074379996, (5, 1, 5, 1): -0.04188856508875114, (4, 0, 5, 1): -0.03846281372960437}  samples= None\n",
      "E=-227.95567761  angles= {(3, 0, 5, 2): -0.04954120013013831, (3, 2, 5, 0): 0.042373613077949485, (5, 2, 5, 2): -0.049461098583257895, (4, 2, 3, 1): 0.0027238107321582543, (4, 0): 0.049599124708745786, (5, 0, 5, 0): 0.059278152345622226, (3, 1, 3, 1): -0.06208235074379996, (3, 1, 4, 2): 0.0028097497302989067, (4, 1, 5, 0): 0.04023700936300656, (3, 2, 4, 1): 0.05847849487882025, (5, 1, 4, 0): -0.03198279250375693, (5, 0, 4, 1): -0.054378733440919175, (5, 0, 3, 2): 0.09160669138408643, (4, 0, 4, 0): -0.048621545157221314, (5, 2, 3, 0): 0.0, (4, 1, 4, 1): -0.047489537645972524, (4, 2, 4, 2): -0.05368983045512798, (3, 2, 3, 2): -0.11973901460432862, (4, 1, 3, 2): 0.058446085984361094, (3, 0, 3, 0): -0.06208235074379996, (5, 1, 5, 1): -0.04188856508875114, (4, 0, 5, 1): -0.03846281372960437}  samples= None\n",
      "E=-227.95567904  angles= {(3, 0, 5, 2): -0.04954120013013831, (3, 2, 5, 0): 0.042373613077949485, (5, 2, 5, 2): -0.049461098583257895, (4, 2, 3, 1): 0.0027238107321582543, (4, 0): 0.049599124708745786, (5, 0, 5, 0): 0.059278152345622226, (3, 1, 3, 1): -0.06208235074379996, (3, 1, 4, 2): 0.0028097497302989067, (4, 1, 5, 0): 0.04023700936300656, (3, 2, 4, 1): 0.05847849487882025, (5, 1, 4, 0): -0.03198279250375693, (5, 0, 4, 1): -0.054378733440919175, (5, 0, 3, 2): 0.09160669138408643, (4, 0, 4, 0): -0.04852154515722131, (5, 2, 3, 0): 0.0001, (4, 1, 4, 1): -0.047489537645972524, (4, 2, 4, 2): -0.05368983045512798, (3, 2, 3, 2): -0.11973901460432862, (4, 1, 3, 2): 0.058446085984361094, (3, 0, 3, 0): -0.06208235074379996, (5, 1, 5, 1): -0.04188856508875114, (4, 0, 5, 1): -0.03846281372960437}  samples= None\n"
     ]
    },
    {
     "name": "stdout",
     "output_type": "stream",
     "text": [
      "E=-227.95567754  angles= {(3, 0, 5, 2): -0.04954120013013831, (3, 2, 5, 0): 0.042373613077949485, (5, 2, 5, 2): -0.049461098583257895, (4, 2, 3, 1): 0.0027238107321582543, (4, 0): 0.049599124708745786, (5, 0, 5, 0): 0.059278152345622226, (3, 1, 3, 1): -0.06208235074379996, (3, 1, 4, 2): 0.0028097497302989067, (4, 1, 5, 0): 0.04023700936300656, (3, 2, 4, 1): 0.05847849487882025, (5, 1, 4, 0): -0.03198279250375693, (5, 0, 4, 1): -0.054378733440919175, (5, 0, 3, 2): 0.09160669138408643, (4, 0, 4, 0): -0.04852154515722131, (5, 2, 3, 0): 0.0, (4, 1, 4, 1): -0.04758953764597253, (4, 2, 4, 2): -0.05368983045512798, (3, 2, 3, 2): -0.11973901460432862, (4, 1, 3, 2): 0.058446085984361094, (3, 0, 3, 0): -0.06208235074379996, (5, 1, 5, 1): -0.04188856508875114, (4, 0, 5, 1): -0.03846281372960437}  samples= None\n",
      "E=-227.95567872  angles= {(3, 0, 5, 2): -0.04954120013013831, (3, 2, 5, 0): 0.042373613077949485, (5, 2, 5, 2): -0.049461098583257895, (4, 2, 3, 1): 0.0027238107321582543, (4, 0): 0.049599124708745786, (5, 0, 5, 0): 0.059278152345622226, (3, 1, 3, 1): -0.06208235074379996, (3, 1, 4, 2): 0.0028097497302989067, (4, 1, 5, 0): 0.04023700936300656, (3, 2, 4, 1): 0.05847849487882025, (5, 1, 4, 0): -0.03198279250375693, (5, 0, 4, 1): -0.054378733440919175, (5, 0, 3, 2): 0.09160669138408643, (4, 0, 4, 0): -0.04852154515722131, (5, 2, 3, 0): 0.0, (4, 1, 4, 1): -0.047489537645972524, (4, 2, 4, 2): -0.05378983045512798, (3, 2, 3, 2): -0.11973901460432862, (4, 1, 3, 2): 0.058446085984361094, (3, 0, 3, 0): -0.06208235074379996, (5, 1, 5, 1): -0.04188856508875114, (4, 0, 5, 1): -0.03846281372960437}  samples= None\n",
      "E=-227.95568499  angles= {(3, 0, 5, 2): -0.04954120013013831, (3, 2, 5, 0): 0.042373613077949485, (5, 2, 5, 2): -0.049461098583257895, (4, 2, 3, 1): 0.0027238107321582543, (4, 0): 0.049599124708745786, (5, 0, 5, 0): 0.059278152345622226, (3, 1, 3, 1): -0.06208235074379996, (3, 1, 4, 2): 0.0028097497302989067, (4, 1, 5, 0): 0.04023700936300656, (3, 2, 4, 1): 0.05847849487882025, (5, 1, 4, 0): -0.03198279250375693, (5, 0, 4, 1): -0.054378733440919175, (5, 0, 3, 2): 0.09160669138408643, (4, 0, 4, 0): -0.04852154515722131, (5, 2, 3, 0): 0.0, (4, 1, 4, 1): -0.047489537645972524, (4, 2, 4, 2): -0.05368983045512798, (3, 2, 3, 2): -0.11983901460432862, (4, 1, 3, 2): 0.058446085984361094, (3, 0, 3, 0): -0.06208235074379996, (5, 1, 5, 1): -0.04188856508875114, (4, 0, 5, 1): -0.03846281372960437}  samples= None\n",
      "E=-227.95568396  angles= {(3, 0, 5, 2): -0.04954120013013831, (3, 2, 5, 0): 0.042373613077949485, (5, 2, 5, 2): -0.049461098583257895, (4, 2, 3, 1): 0.0027238107321582543, (4, 0): 0.049599124708745786, (5, 0, 5, 0): 0.059278152345622226, (3, 1, 3, 1): -0.06208235074379996, (3, 1, 4, 2): 0.0028097497302989067, (4, 1, 5, 0): 0.04023700936300656, (3, 2, 4, 1): 0.05847849487882025, (5, 1, 4, 0): -0.03198279250375693, (5, 0, 4, 1): -0.054378733440919175, (5, 0, 3, 2): 0.09160669138408643, (4, 0, 4, 0): -0.04852154515722131, (5, 2, 3, 0): 0.0, (4, 1, 4, 1): -0.047489537645972524, (4, 2, 4, 2): -0.05368983045512798, (3, 2, 3, 2): -0.11973901460432862, (4, 1, 3, 2): 0.0585460859843611, (3, 0, 3, 0): -0.06208235074379996, (5, 1, 5, 1): -0.04188856508875114, (4, 0, 5, 1): -0.03846281372960437}  samples= None\n",
      "E=-227.95568047  angles= {(3, 0, 5, 2): -0.04954120013013831, (3, 2, 5, 0): 0.042373613077949485, (5, 2, 5, 2): -0.049461098583257895, (4, 2, 3, 1): 0.0027238107321582543, (4, 0): 0.049599124708745786, (5, 0, 5, 0): 0.059278152345622226, (3, 1, 3, 1): -0.06208235074379996, (3, 1, 4, 2): 0.0028097497302989067, (4, 1, 5, 0): 0.04023700936300656, (3, 2, 4, 1): 0.05847849487882025, (5, 1, 4, 0): -0.03198279250375693, (5, 0, 4, 1): -0.054378733440919175, (5, 0, 3, 2): 0.09160669138408643, (4, 0, 4, 0): -0.04852154515722131, (5, 2, 3, 0): 0.0, (4, 1, 4, 1): -0.047489537645972524, (4, 2, 4, 2): -0.05368983045512798, (3, 2, 3, 2): -0.11973901460432862, (4, 1, 3, 2): 0.058446085984361094, (3, 0, 3, 0): -0.06218235074379996, (5, 1, 5, 1): -0.04188856508875114, (4, 0, 5, 1): -0.03846281372960437}  samples= None\n",
      "E=-227.95567426  angles= {(3, 0, 5, 2): -0.04954120013013831, (3, 2, 5, 0): 0.042373613077949485, (5, 2, 5, 2): -0.049461098583257895, (4, 2, 3, 1): 0.0027238107321582543, (4, 0): 0.049599124708745786, (5, 0, 5, 0): 0.059278152345622226, (3, 1, 3, 1): -0.06208235074379996, (3, 1, 4, 2): 0.0028097497302989067, (4, 1, 5, 0): 0.04023700936300656, (3, 2, 4, 1): 0.05847849487882025, (5, 1, 4, 0): -0.03198279250375693, (5, 0, 4, 1): -0.054378733440919175, (5, 0, 3, 2): 0.09160669138408643, (4, 0, 4, 0): -0.04852154515722131, (5, 2, 3, 0): 0.0, (4, 1, 4, 1): -0.047489537645972524, (4, 2, 4, 2): -0.05368983045512798, (3, 2, 3, 2): -0.11973901460432862, (4, 1, 3, 2): 0.058446085984361094, (3, 0, 3, 0): -0.06208235074379996, (5, 1, 5, 1): -0.041988565088751144, (4, 0, 5, 1): -0.03846281372960437}  samples= None\n",
      "E=-227.95567244  angles= {(3, 0, 5, 2): -0.04954120013013831, (3, 2, 5, 0): 0.042373613077949485, (5, 2, 5, 2): -0.049461098583257895, (4, 2, 3, 1): 0.0027238107321582543, (4, 0): 0.049599124708745786, (5, 0, 5, 0): 0.059278152345622226, (3, 1, 3, 1): -0.06208235074379996, (3, 1, 4, 2): 0.0028097497302989067, (4, 1, 5, 0): 0.04023700936300656, (3, 2, 4, 1): 0.05847849487882025, (5, 1, 4, 0): -0.03198279250375693, (5, 0, 4, 1): -0.054378733440919175, (5, 0, 3, 2): 0.09160669138408643, (4, 0, 4, 0): -0.04852154515722131, (5, 2, 3, 0): 0.0, (4, 1, 4, 1): -0.047489537645972524, (4, 2, 4, 2): -0.05368983045512798, (3, 2, 3, 2): -0.11973901460432862, (4, 1, 3, 2): 0.058446085984361094, (3, 0, 3, 0): -0.06208235074379996, (5, 1, 5, 1): -0.04188856508875114, (4, 0, 5, 1): -0.03856281372960437}  samples= None\n",
      "E=-227.96119077  angles= {(3, 0, 5, 2): -0.0599044008660781, (3, 2, 5, 0): 0.01384168032794297, (5, 2, 5, 2): -0.06363895661726592, (4, 2, 3, 1): 0.012976923619807904, (4, 0): 0.06017575970206312, (5, 0, 5, 0): 0.09182029935542162, (3, 1, 3, 1): -0.08420906599578282, (3, 1, 4, 2): 0.013117955051908353, (4, 1, 5, 0): 0.03441819049658329, (3, 2, 4, 1): 0.08110463469553213, (5, 1, 4, 0): -0.008595174854648124, (5, 0, 4, 1): -0.05372562206282324, (5, 0, 3, 2): 0.07272371208416403, (4, 0, 4, 0): -0.04389592544633863, (5, 2, 3, 0): 0.0, (4, 1, 4, 1): -0.04287355771016214, (4, 2, 4, 2): -0.05980613008070183, (3, 2, 3, 2): -0.18386861752021816, (4, 1, 3, 2): 0.08101753733571149, (3, 0, 3, 0): -0.08420906634510394, (5, 1, 5, 1): -0.012121753766414313, (4, 0, 5, 1): -0.02416525683812174}  samples= None\n",
      "E=-227.96119368  angles= {(3, 0, 5, 2): -0.060004400866078104, (3, 2, 5, 0): 0.01384168032794297, (5, 2, 5, 2): -0.06363895661726592, (4, 2, 3, 1): 0.012976923619807904, (4, 0): 0.06017575970206312, (5, 0, 5, 0): 0.09182029935542162, (3, 1, 3, 1): -0.08420906599578282, (3, 1, 4, 2): 0.013117955051908353, (4, 1, 5, 0): 0.03441819049658329, (3, 2, 4, 1): 0.08110463469553213, (5, 1, 4, 0): -0.008595174854648124, (5, 0, 4, 1): -0.05372562206282324, (5, 0, 3, 2): 0.07272371208416403, (4, 0, 4, 0): -0.04389592544633863, (5, 2, 3, 0): 0.0, (4, 1, 4, 1): -0.04287355771016214, (4, 2, 4, 2): -0.05980613008070183, (3, 2, 3, 2): -0.18386861752021816, (4, 1, 3, 2): 0.08101753733571149, (3, 0, 3, 0): -0.08420906634510394, (5, 1, 5, 1): -0.012121753766414313, (4, 0, 5, 1): -0.02416525683812174}  samples= None\n",
      "E=-227.96119139  angles= {(3, 0, 5, 2): -0.0599044008660781, (3, 2, 5, 0): 0.01394168032794297, (5, 2, 5, 2): -0.06363895661726592, (4, 2, 3, 1): 0.012976923619807904, (4, 0): 0.06017575970206312, (5, 0, 5, 0): 0.09182029935542162, (3, 1, 3, 1): -0.08420906599578282, (3, 1, 4, 2): 0.013117955051908353, (4, 1, 5, 0): 0.03441819049658329, (3, 2, 4, 1): 0.08110463469553213, (5, 1, 4, 0): -0.008595174854648124, (5, 0, 4, 1): -0.05372562206282324, (5, 0, 3, 2): 0.07272371208416403, (4, 0, 4, 0): -0.04389592544633863, (5, 2, 3, 0): 0.0, (4, 1, 4, 1): -0.04287355771016214, (4, 2, 4, 2): -0.05980613008070183, (3, 2, 3, 2): -0.18386861752021816, (4, 1, 3, 2): 0.08101753733571149, (3, 0, 3, 0): -0.08420906634510394, (5, 1, 5, 1): -0.012121753766414313, (4, 0, 5, 1): -0.02416525683812174}  samples= None\n",
      "E=-227.96118954  angles= {(3, 0, 5, 2): -0.0599044008660781, (3, 2, 5, 0): 0.01384168032794297, (5, 2, 5, 2): -0.06373895661726592, (4, 2, 3, 1): 0.012976923619807904, (4, 0): 0.06017575970206312, (5, 0, 5, 0): 0.09182029935542162, (3, 1, 3, 1): -0.08420906599578282, (3, 1, 4, 2): 0.013117955051908353, (4, 1, 5, 0): 0.03441819049658329, (3, 2, 4, 1): 0.08110463469553213, (5, 1, 4, 0): -0.008595174854648124, (5, 0, 4, 1): -0.05372562206282324, (5, 0, 3, 2): 0.07272371208416403, (4, 0, 4, 0): -0.04389592544633863, (5, 2, 3, 0): 0.0, (4, 1, 4, 1): -0.04287355771016214, (4, 2, 4, 2): -0.05980613008070183, (3, 2, 3, 2): -0.18386861752021816, (4, 1, 3, 2): 0.08101753733571149, (3, 0, 3, 0): -0.08420906634510394, (5, 1, 5, 1): -0.012121753766414313, (4, 0, 5, 1): -0.02416525683812174}  samples= None\n"
     ]
    },
    {
     "name": "stdout",
     "output_type": "stream",
     "text": [
      "E=-227.96119440  angles= {(3, 0, 5, 2): -0.0599044008660781, (3, 2, 5, 0): 0.01384168032794297, (5, 2, 5, 2): -0.06363895661726592, (4, 2, 3, 1): 0.013076923619807904, (4, 0): 0.06017575970206312, (5, 0, 5, 0): 0.09182029935542162, (3, 1, 3, 1): -0.08420906599578282, (3, 1, 4, 2): 0.013117955051908353, (4, 1, 5, 0): 0.03441819049658329, (3, 2, 4, 1): 0.08110463469553213, (5, 1, 4, 0): -0.008595174854648124, (5, 0, 4, 1): -0.05372562206282324, (5, 0, 3, 2): 0.07272371208416403, (4, 0, 4, 0): -0.04389592544633863, (5, 2, 3, 0): 0.0, (4, 1, 4, 1): -0.04287355771016214, (4, 2, 4, 2): -0.05980613008070183, (3, 2, 3, 2): -0.18386861752021816, (4, 1, 3, 2): 0.08101753733571149, (3, 0, 3, 0): -0.08420906634510394, (5, 1, 5, 1): -0.012121753766414313, (4, 0, 5, 1): -0.02416525683812174}  samples= None\n",
      "E=-227.96119370  angles= {(3, 0, 5, 2): -0.0599044008660781, (3, 2, 5, 0): 0.01384168032794297, (5, 2, 5, 2): -0.06363895661726592, (4, 2, 3, 1): 0.012976923619807904, (4, 0): 0.06027575970206312, (5, 0, 5, 0): 0.09182029935542162, (3, 1, 3, 1): -0.08420906599578282, (3, 1, 4, 2): 0.013117955051908353, (4, 1, 5, 0): 0.03441819049658329, (3, 2, 4, 1): 0.08110463469553213, (5, 1, 4, 0): -0.008595174854648124, (5, 0, 4, 1): -0.05372562206282324, (5, 0, 3, 2): 0.07272371208416403, (4, 0, 4, 0): -0.04389592544633863, (5, 2, 3, 0): 0.0, (4, 1, 4, 1): -0.04287355771016214, (4, 2, 4, 2): -0.05980613008070183, (3, 2, 3, 2): -0.18386861752021816, (4, 1, 3, 2): 0.08101753733571149, (3, 0, 3, 0): -0.08420906634510394, (5, 1, 5, 1): -0.012121753766414313, (4, 0, 5, 1): -0.02416525683812174}  samples= None\n",
      "E=-227.96119083  angles= {(3, 0, 5, 2): -0.0599044008660781, (3, 2, 5, 0): 0.01384168032794297, (5, 2, 5, 2): -0.06363895661726592, (4, 2, 3, 1): 0.012976923619807904, (4, 0): 0.06017575970206312, (5, 0, 5, 0): 0.09192029935542162, (3, 1, 3, 1): -0.08420906599578282, (3, 1, 4, 2): 0.013117955051908353, (4, 1, 5, 0): 0.03441819049658329, (3, 2, 4, 1): 0.08110463469553213, (5, 1, 4, 0): -0.008595174854648124, (5, 0, 4, 1): -0.05372562206282324, (5, 0, 3, 2): 0.07272371208416403, (4, 0, 4, 0): -0.04389592544633863, (5, 2, 3, 0): 0.0, (4, 1, 4, 1): -0.04287355771016214, (4, 2, 4, 2): -0.05980613008070183, (3, 2, 3, 2): -0.18386861752021816, (4, 1, 3, 2): 0.08101753733571149, (3, 0, 3, 0): -0.08420906634510394, (5, 1, 5, 1): -0.012121753766414313, (4, 0, 5, 1): -0.02416525683812174}  samples= None\n",
      "E=-227.96118855  angles= {(3, 0, 5, 2): -0.0599044008660781, (3, 2, 5, 0): 0.01384168032794297, (5, 2, 5, 2): -0.06363895661726592, (4, 2, 3, 1): 0.012976923619807904, (4, 0): 0.06017575970206312, (5, 0, 5, 0): 0.09182029935542162, (3, 1, 3, 1): -0.08430906599578282, (3, 1, 4, 2): 0.013117955051908353, (4, 1, 5, 0): 0.03441819049658329, (3, 2, 4, 1): 0.08110463469553213, (5, 1, 4, 0): -0.008595174854648124, (5, 0, 4, 1): -0.05372562206282324, (5, 0, 3, 2): 0.07272371208416403, (4, 0, 4, 0): -0.04389592544633863, (5, 2, 3, 0): 0.0, (4, 1, 4, 1): -0.04287355771016214, (4, 2, 4, 2): -0.05980613008070183, (3, 2, 3, 2): -0.18386861752021816, (4, 1, 3, 2): 0.08101753733571149, (3, 0, 3, 0): -0.08420906634510394, (5, 1, 5, 1): -0.012121753766414313, (4, 0, 5, 1): -0.02416525683812174}  samples= None\n",
      "E=-227.96119444  angles= {(3, 0, 5, 2): -0.0599044008660781, (3, 2, 5, 0): 0.01384168032794297, (5, 2, 5, 2): -0.06363895661726592, (4, 2, 3, 1): 0.012976923619807904, (4, 0): 0.06017575970206312, (5, 0, 5, 0): 0.09182029935542162, (3, 1, 3, 1): -0.08420906599578282, (3, 1, 4, 2): 0.013217955051908353, (4, 1, 5, 0): 0.03441819049658329, (3, 2, 4, 1): 0.08110463469553213, (5, 1, 4, 0): -0.008595174854648124, (5, 0, 4, 1): -0.05372562206282324, (5, 0, 3, 2): 0.07272371208416403, (4, 0, 4, 0): -0.04389592544633863, (5, 2, 3, 0): 0.0, (4, 1, 4, 1): -0.04287355771016214, (4, 2, 4, 2): -0.05980613008070183, (3, 2, 3, 2): -0.18386861752021816, (4, 1, 3, 2): 0.08101753733571149, (3, 0, 3, 0): -0.08420906634510394, (5, 1, 5, 1): -0.012121753766414313, (4, 0, 5, 1): -0.02416525683812174}  samples= None\n",
      "E=-227.96119053  angles= {(3, 0, 5, 2): -0.0599044008660781, (3, 2, 5, 0): 0.01384168032794297, (5, 2, 5, 2): -0.06363895661726592, (4, 2, 3, 1): 0.012976923619807904, (4, 0): 0.06017575970206312, (5, 0, 5, 0): 0.09182029935542162, (3, 1, 3, 1): -0.08420906599578282, (3, 1, 4, 2): 0.013117955051908353, (4, 1, 5, 0): 0.03451819049658329, (3, 2, 4, 1): 0.08110463469553213, (5, 1, 4, 0): -0.008595174854648124, (5, 0, 4, 1): -0.05372562206282324, (5, 0, 3, 2): 0.07272371208416403, (4, 0, 4, 0): -0.04389592544633863, (5, 2, 3, 0): 0.0, (4, 1, 4, 1): -0.04287355771016214, (4, 2, 4, 2): -0.05980613008070183, (3, 2, 3, 2): -0.18386861752021816, (4, 1, 3, 2): 0.08101753733571149, (3, 0, 3, 0): -0.08420906634510394, (5, 1, 5, 1): -0.012121753766414313, (4, 0, 5, 1): -0.02416525683812174}  samples= None\n",
      "E=-227.96118803  angles= {(3, 0, 5, 2): -0.0599044008660781, (3, 2, 5, 0): 0.01384168032794297, (5, 2, 5, 2): -0.06363895661726592, (4, 2, 3, 1): 0.012976923619807904, (4, 0): 0.06017575970206312, (5, 0, 5, 0): 0.09182029935542162, (3, 1, 3, 1): -0.08420906599578282, (3, 1, 4, 2): 0.013117955051908353, (4, 1, 5, 0): 0.03441819049658329, (3, 2, 4, 1): 0.08120463469553213, (5, 1, 4, 0): -0.008595174854648124, (5, 0, 4, 1): -0.05372562206282324, (5, 0, 3, 2): 0.07272371208416403, (4, 0, 4, 0): -0.04389592544633863, (5, 2, 3, 0): 0.0, (4, 1, 4, 1): -0.04287355771016214, (4, 2, 4, 2): -0.05980613008070183, (3, 2, 3, 2): -0.18386861752021816, (4, 1, 3, 2): 0.08101753733571149, (3, 0, 3, 0): -0.08420906634510394, (5, 1, 5, 1): -0.012121753766414313, (4, 0, 5, 1): -0.02416525683812174}  samples= None\n",
      "E=-227.96119352  angles= {(3, 0, 5, 2): -0.0599044008660781, (3, 2, 5, 0): 0.01384168032794297, (5, 2, 5, 2): -0.06363895661726592, (4, 2, 3, 1): 0.012976923619807904, (4, 0): 0.06017575970206312, (5, 0, 5, 0): 0.09182029935542162, (3, 1, 3, 1): -0.08420906599578282, (3, 1, 4, 2): 0.013117955051908353, (4, 1, 5, 0): 0.03441819049658329, (3, 2, 4, 1): 0.08110463469553213, (5, 1, 4, 0): -0.008695174854648123, (5, 0, 4, 1): -0.05372562206282324, (5, 0, 3, 2): 0.07272371208416403, (4, 0, 4, 0): -0.04389592544633863, (5, 2, 3, 0): 0.0, (4, 1, 4, 1): -0.04287355771016214, (4, 2, 4, 2): -0.05980613008070183, (3, 2, 3, 2): -0.18386861752021816, (4, 1, 3, 2): 0.08101753733571149, (3, 0, 3, 0): -0.08420906634510394, (5, 1, 5, 1): -0.012121753766414313, (4, 0, 5, 1): -0.02416525683812174}  samples= None\n",
      "E=-227.96119237  angles= {(3, 0, 5, 2): -0.0599044008660781, (3, 2, 5, 0): 0.01384168032794297, (5, 2, 5, 2): -0.06363895661726592, (4, 2, 3, 1): 0.012976923619807904, (4, 0): 0.06017575970206312, (5, 0, 5, 0): 0.09182029935542162, (3, 1, 3, 1): -0.08420906599578282, (3, 1, 4, 2): 0.013117955051908353, (4, 1, 5, 0): 0.03441819049658329, (3, 2, 4, 1): 0.08110463469553213, (5, 1, 4, 0): -0.008595174854648124, (5, 0, 4, 1): -0.05382562206282324, (5, 0, 3, 2): 0.07272371208416403, (4, 0, 4, 0): -0.04389592544633863, (5, 2, 3, 0): 0.0, (4, 1, 4, 1): -0.04287355771016214, (4, 2, 4, 2): -0.05980613008070183, (3, 2, 3, 2): -0.18386861752021816, (4, 1, 3, 2): 0.08101753733571149, (3, 0, 3, 0): -0.08420906634510394, (5, 1, 5, 1): -0.012121753766414313, (4, 0, 5, 1): -0.02416525683812174}  samples= None\n",
      "E=-227.96119425  angles= {(3, 0, 5, 2): -0.0599044008660781, (3, 2, 5, 0): 0.01384168032794297, (5, 2, 5, 2): -0.06363895661726592, (4, 2, 3, 1): 0.012976923619807904, (4, 0): 0.06017575970206312, (5, 0, 5, 0): 0.09182029935542162, (3, 1, 3, 1): -0.08420906599578282, (3, 1, 4, 2): 0.013117955051908353, (4, 1, 5, 0): 0.03441819049658329, (3, 2, 4, 1): 0.08110463469553213, (5, 1, 4, 0): -0.008595174854648124, (5, 0, 4, 1): -0.05372562206282324, (5, 0, 3, 2): 0.07282371208416404, (4, 0, 4, 0): -0.04389592544633863, (5, 2, 3, 0): 0.0, (4, 1, 4, 1): -0.04287355771016214, (4, 2, 4, 2): -0.05980613008070183, (3, 2, 3, 2): -0.18386861752021816, (4, 1, 3, 2): 0.08101753733571149, (3, 0, 3, 0): -0.08420906634510394, (5, 1, 5, 1): -0.012121753766414313, (4, 0, 5, 1): -0.02416525683812174}  samples= None\n",
      "E=-227.96118913  angles= {(3, 0, 5, 2): -0.0599044008660781, (3, 2, 5, 0): 0.01384168032794297, (5, 2, 5, 2): -0.06363895661726592, (4, 2, 3, 1): 0.012976923619807904, (4, 0): 0.06017575970206312, (5, 0, 5, 0): 0.09182029935542162, (3, 1, 3, 1): -0.08420906599578282, (3, 1, 4, 2): 0.013117955051908353, (4, 1, 5, 0): 0.03441819049658329, (3, 2, 4, 1): 0.08110463469553213, (5, 1, 4, 0): -0.008595174854648124, (5, 0, 4, 1): -0.05372562206282324, (5, 0, 3, 2): 0.07272371208416403, (4, 0, 4, 0): -0.04399592544633863, (5, 2, 3, 0): 0.0, (4, 1, 4, 1): -0.04287355771016214, (4, 2, 4, 2): -0.05980613008070183, (3, 2, 3, 2): -0.18386861752021816, (4, 1, 3, 2): 0.08101753733571149, (3, 0, 3, 0): -0.08420906634510394, (5, 1, 5, 1): -0.012121753766414313, (4, 0, 5, 1): -0.02416525683812174}  samples= None\n"
     ]
    },
    {
     "name": "stdout",
     "output_type": "stream",
     "text": [
      "E=-227.96119077  angles= {(3, 0, 5, 2): -0.0599044008660781, (3, 2, 5, 0): 0.01384168032794297, (5, 2, 5, 2): -0.06363895661726592, (4, 2, 3, 1): 0.012976923619807904, (4, 0): 0.06017575970206312, (5, 0, 5, 0): 0.09182029935542162, (3, 1, 3, 1): -0.08420906599578282, (3, 1, 4, 2): 0.013117955051908353, (4, 1, 5, 0): 0.03441819049658329, (3, 2, 4, 1): 0.08110463469553213, (5, 1, 4, 0): -0.008595174854648124, (5, 0, 4, 1): -0.05372562206282324, (5, 0, 3, 2): 0.07272371208416403, (4, 0, 4, 0): -0.04389592544633863, (5, 2, 3, 0): 0.0001, (4, 1, 4, 1): -0.04287355771016214, (4, 2, 4, 2): -0.05980613008070183, (3, 2, 3, 2): -0.18386861752021816, (4, 1, 3, 2): 0.08101753733571149, (3, 0, 3, 0): -0.08420906634510394, (5, 1, 5, 1): -0.012121753766414313, (4, 0, 5, 1): -0.02416525683812174}  samples= None\n",
      "E=-227.96119024  angles= {(3, 0, 5, 2): -0.0599044008660781, (3, 2, 5, 0): 0.01384168032794297, (5, 2, 5, 2): -0.06363895661726592, (4, 2, 3, 1): 0.012976923619807904, (4, 0): 0.06017575970206312, (5, 0, 5, 0): 0.09182029935542162, (3, 1, 3, 1): -0.08420906599578282, (3, 1, 4, 2): 0.013117955051908353, (4, 1, 5, 0): 0.03441819049658329, (3, 2, 4, 1): 0.08110463469553213, (5, 1, 4, 0): -0.008595174854648124, (5, 0, 4, 1): -0.05372562206282324, (5, 0, 3, 2): 0.07272371208416403, (4, 0, 4, 0): -0.04389592544633863, (5, 2, 3, 0): 0.0, (4, 1, 4, 1): -0.04297355771016214, (4, 2, 4, 2): -0.05980613008070183, (3, 2, 3, 2): -0.18386861752021816, (4, 1, 3, 2): 0.08101753733571149, (3, 0, 3, 0): -0.08420906634510394, (5, 1, 5, 1): -0.012121753766414313, (4, 0, 5, 1): -0.02416525683812174}  samples= None\n",
      "E=-227.96118812  angles= {(3, 0, 5, 2): -0.0599044008660781, (3, 2, 5, 0): 0.01384168032794297, (5, 2, 5, 2): -0.06363895661726592, (4, 2, 3, 1): 0.012976923619807904, (4, 0): 0.06017575970206312, (5, 0, 5, 0): 0.09182029935542162, (3, 1, 3, 1): -0.08420906599578282, (3, 1, 4, 2): 0.013117955051908353, (4, 1, 5, 0): 0.03441819049658329, (3, 2, 4, 1): 0.08110463469553213, (5, 1, 4, 0): -0.008595174854648124, (5, 0, 4, 1): -0.05372562206282324, (5, 0, 3, 2): 0.07272371208416403, (4, 0, 4, 0): -0.04389592544633863, (5, 2, 3, 0): 0.0, (4, 1, 4, 1): -0.04287355771016214, (4, 2, 4, 2): -0.059906130080701836, (3, 2, 3, 2): -0.18386861752021816, (4, 1, 3, 2): 0.08101753733571149, (3, 0, 3, 0): -0.08420906634510394, (5, 1, 5, 1): -0.012121753766414313, (4, 0, 5, 1): -0.02416525683812174}  samples= None\n",
      "E=-227.96118980  angles= {(3, 0, 5, 2): -0.0599044008660781, (3, 2, 5, 0): 0.01384168032794297, (5, 2, 5, 2): -0.06363895661726592, (4, 2, 3, 1): 0.012976923619807904, (4, 0): 0.06017575970206312, (5, 0, 5, 0): 0.09182029935542162, (3, 1, 3, 1): -0.08420906599578282, (3, 1, 4, 2): 0.013117955051908353, (4, 1, 5, 0): 0.03441819049658329, (3, 2, 4, 1): 0.08110463469553213, (5, 1, 4, 0): -0.008595174854648124, (5, 0, 4, 1): -0.05372562206282324, (5, 0, 3, 2): 0.07272371208416403, (4, 0, 4, 0): -0.04389592544633863, (5, 2, 3, 0): 0.0, (4, 1, 4, 1): -0.04287355771016214, (4, 2, 4, 2): -0.05980613008070183, (3, 2, 3, 2): -0.18396861752021815, (4, 1, 3, 2): 0.08101753733571149, (3, 0, 3, 0): -0.08420906634510394, (5, 1, 5, 1): -0.012121753766414313, (4, 0, 5, 1): -0.02416525683812174}  samples= None\n",
      "E=-227.96118801  angles= {(3, 0, 5, 2): -0.0599044008660781, (3, 2, 5, 0): 0.01384168032794297, (5, 2, 5, 2): -0.06363895661726592, (4, 2, 3, 1): 0.012976923619807904, (4, 0): 0.06017575970206312, (5, 0, 5, 0): 0.09182029935542162, (3, 1, 3, 1): -0.08420906599578282, (3, 1, 4, 2): 0.013117955051908353, (4, 1, 5, 0): 0.03441819049658329, (3, 2, 4, 1): 0.08110463469553213, (5, 1, 4, 0): -0.008595174854648124, (5, 0, 4, 1): -0.05372562206282324, (5, 0, 3, 2): 0.07272371208416403, (4, 0, 4, 0): -0.04389592544633863, (5, 2, 3, 0): 0.0, (4, 1, 4, 1): -0.04287355771016214, (4, 2, 4, 2): -0.05980613008070183, (3, 2, 3, 2): -0.18386861752021816, (4, 1, 3, 2): 0.08111753733571149, (3, 0, 3, 0): -0.08420906634510394, (5, 1, 5, 1): -0.012121753766414313, (4, 0, 5, 1): -0.02416525683812174}  samples= None\n",
      "E=-227.96118855  angles= {(3, 0, 5, 2): -0.0599044008660781, (3, 2, 5, 0): 0.01384168032794297, (5, 2, 5, 2): -0.06363895661726592, (4, 2, 3, 1): 0.012976923619807904, (4, 0): 0.06017575970206312, (5, 0, 5, 0): 0.09182029935542162, (3, 1, 3, 1): -0.08420906599578282, (3, 1, 4, 2): 0.013117955051908353, (4, 1, 5, 0): 0.03441819049658329, (3, 2, 4, 1): 0.08110463469553213, (5, 1, 4, 0): -0.008595174854648124, (5, 0, 4, 1): -0.05372562206282324, (5, 0, 3, 2): 0.07272371208416403, (4, 0, 4, 0): -0.04389592544633863, (5, 2, 3, 0): 0.0, (4, 1, 4, 1): -0.04287355771016214, (4, 2, 4, 2): -0.05980613008070183, (3, 2, 3, 2): -0.18386861752021816, (4, 1, 3, 2): 0.08101753733571149, (3, 0, 3, 0): -0.08430906634510395, (5, 1, 5, 1): -0.012121753766414313, (4, 0, 5, 1): -0.02416525683812174}  samples= None\n",
      "E=-227.96119130  angles= {(3, 0, 5, 2): -0.0599044008660781, (3, 2, 5, 0): 0.01384168032794297, (5, 2, 5, 2): -0.06363895661726592, (4, 2, 3, 1): 0.012976923619807904, (4, 0): 0.06017575970206312, (5, 0, 5, 0): 0.09182029935542162, (3, 1, 3, 1): -0.08420906599578282, (3, 1, 4, 2): 0.013117955051908353, (4, 1, 5, 0): 0.03441819049658329, (3, 2, 4, 1): 0.08110463469553213, (5, 1, 4, 0): -0.008595174854648124, (5, 0, 4, 1): -0.05372562206282324, (5, 0, 3, 2): 0.07272371208416403, (4, 0, 4, 0): -0.04389592544633863, (5, 2, 3, 0): 0.0, (4, 1, 4, 1): -0.04287355771016214, (4, 2, 4, 2): -0.05980613008070183, (3, 2, 3, 2): -0.18386861752021816, (4, 1, 3, 2): 0.08101753733571149, (3, 0, 3, 0): -0.08420906634510394, (5, 1, 5, 1): -0.012221753766414312, (4, 0, 5, 1): -0.02416525683812174}  samples= None\n",
      "E=-227.96119272  angles= {(3, 0, 5, 2): -0.0599044008660781, (3, 2, 5, 0): 0.01384168032794297, (5, 2, 5, 2): -0.06363895661726592, (4, 2, 3, 1): 0.012976923619807904, (4, 0): 0.06017575970206312, (5, 0, 5, 0): 0.09182029935542162, (3, 1, 3, 1): -0.08420906599578282, (3, 1, 4, 2): 0.013117955051908353, (4, 1, 5, 0): 0.03441819049658329, (3, 2, 4, 1): 0.08110463469553213, (5, 1, 4, 0): -0.008595174854648124, (5, 0, 4, 1): -0.05372562206282324, (5, 0, 3, 2): 0.07272371208416403, (4, 0, 4, 0): -0.04389592544633863, (5, 2, 3, 0): 0.0, (4, 1, 4, 1): -0.04287355771016214, (4, 2, 4, 2): -0.05980613008070183, (3, 2, 3, 2): -0.18386861752021816, (4, 1, 3, 2): 0.08101753733571149, (3, 0, 3, 0): -0.08420906634510394, (5, 1, 5, 1): -0.012121753766414313, (4, 0, 5, 1): -0.02426525683812174}  samples= None\n",
      "E=-227.96234797  angles= {(3, 0, 5, 2): -0.08741995640659299, (3, 2, 5, 0): 0.005405503754179529, (5, 2, 5, 2): -0.05664650301404977, (4, 2, 3, 1): 0.04213871046363654, (4, 0): 0.08794545894523681, (5, 0, 5, 0): 0.10224055540352886, (3, 1, 3, 1): -0.07334944366783493, (3, 1, 4, 2): 0.0425754897819081, (4, 1, 5, 0): 0.01610597149873612, (3, 2, 4, 1): 0.07358104495141186, (5, 1, 4, 0): -0.0069175465288541255, (5, 0, 4, 1): -0.07090085005419931, (5, 0, 3, 2): 0.09111164458040258, (4, 0, 4, 0): -0.02760601225496637, (5, 2, 3, 0): 0.0, (4, 1, 4, 1): -0.03531584516050362, (4, 2, 4, 2): -0.03935442381033177, (3, 2, 3, 2): -0.19941660162719455, (4, 1, 3, 2): 0.07332620478163153, (3, 0, 3, 0): -0.07334944470529053, (5, 1, 5, 1): -0.002425385158520456, (4, 0, 5, 1): -0.024079221266481342}  samples= None\n",
      "E=-227.96234677  angles= {(3, 0, 5, 2): -0.08751995640659299, (3, 2, 5, 0): 0.005405503754179529, (5, 2, 5, 2): -0.05664650301404977, (4, 2, 3, 1): 0.04213871046363654, (4, 0): 0.08794545894523681, (5, 0, 5, 0): 0.10224055540352886, (3, 1, 3, 1): -0.07334944366783493, (3, 1, 4, 2): 0.0425754897819081, (4, 1, 5, 0): 0.01610597149873612, (3, 2, 4, 1): 0.07358104495141186, (5, 1, 4, 0): -0.0069175465288541255, (5, 0, 4, 1): -0.07090085005419931, (5, 0, 3, 2): 0.09111164458040258, (4, 0, 4, 0): -0.02760601225496637, (5, 2, 3, 0): 0.0, (4, 1, 4, 1): -0.03531584516050362, (4, 2, 4, 2): -0.03935442381033177, (3, 2, 3, 2): -0.19941660162719455, (4, 1, 3, 2): 0.07332620478163153, (3, 0, 3, 0): -0.07334944470529053, (5, 1, 5, 1): -0.002425385158520456, (4, 0, 5, 1): -0.024079221266481342}  samples= None\n",
      "E=-227.96234669  angles= {(3, 0, 5, 2): -0.08741995640659299, (3, 2, 5, 0): 0.005505503754179529, (5, 2, 5, 2): -0.05664650301404977, (4, 2, 3, 1): 0.04213871046363654, (4, 0): 0.08794545894523681, (5, 0, 5, 0): 0.10224055540352886, (3, 1, 3, 1): -0.07334944366783493, (3, 1, 4, 2): 0.0425754897819081, (4, 1, 5, 0): 0.01610597149873612, (3, 2, 4, 1): 0.07358104495141186, (5, 1, 4, 0): -0.0069175465288541255, (5, 0, 4, 1): -0.07090085005419931, (5, 0, 3, 2): 0.09111164458040258, (4, 0, 4, 0): -0.02760601225496637, (5, 2, 3, 0): 0.0, (4, 1, 4, 1): -0.03531584516050362, (4, 2, 4, 2): -0.03935442381033177, (3, 2, 3, 2): -0.19941660162719455, (4, 1, 3, 2): 0.07332620478163153, (3, 0, 3, 0): -0.07334944470529053, (5, 1, 5, 1): -0.002425385158520456, (4, 0, 5, 1): -0.024079221266481342}  samples= None\n"
     ]
    },
    {
     "name": "stdout",
     "output_type": "stream",
     "text": [
      "E=-227.96234842  angles= {(3, 0, 5, 2): -0.08741995640659299, (3, 2, 5, 0): 0.005405503754179529, (5, 2, 5, 2): -0.05674650301404977, (4, 2, 3, 1): 0.04213871046363654, (4, 0): 0.08794545894523681, (5, 0, 5, 0): 0.10224055540352886, (3, 1, 3, 1): -0.07334944366783493, (3, 1, 4, 2): 0.0425754897819081, (4, 1, 5, 0): 0.01610597149873612, (3, 2, 4, 1): 0.07358104495141186, (5, 1, 4, 0): -0.0069175465288541255, (5, 0, 4, 1): -0.07090085005419931, (5, 0, 3, 2): 0.09111164458040258, (4, 0, 4, 0): -0.02760601225496637, (5, 2, 3, 0): 0.0, (4, 1, 4, 1): -0.03531584516050362, (4, 2, 4, 2): -0.03935442381033177, (3, 2, 3, 2): -0.19941660162719455, (4, 1, 3, 2): 0.07332620478163153, (3, 0, 3, 0): -0.07334944470529053, (5, 1, 5, 1): -0.002425385158520456, (4, 0, 5, 1): -0.024079221266481342}  samples= None\n",
      "E=-227.96234651  angles= {(3, 0, 5, 2): -0.08741995640659299, (3, 2, 5, 0): 0.005405503754179529, (5, 2, 5, 2): -0.05664650301404977, (4, 2, 3, 1): 0.042238710463636545, (4, 0): 0.08794545894523681, (5, 0, 5, 0): 0.10224055540352886, (3, 1, 3, 1): -0.07334944366783493, (3, 1, 4, 2): 0.0425754897819081, (4, 1, 5, 0): 0.01610597149873612, (3, 2, 4, 1): 0.07358104495141186, (5, 1, 4, 0): -0.0069175465288541255, (5, 0, 4, 1): -0.07090085005419931, (5, 0, 3, 2): 0.09111164458040258, (4, 0, 4, 0): -0.02760601225496637, (5, 2, 3, 0): 0.0, (4, 1, 4, 1): -0.03531584516050362, (4, 2, 4, 2): -0.03935442381033177, (3, 2, 3, 2): -0.19941660162719455, (4, 1, 3, 2): 0.07332620478163153, (3, 0, 3, 0): -0.07334944470529053, (5, 1, 5, 1): -0.002425385158520456, (4, 0, 5, 1): -0.024079221266481342}  samples= None\n",
      "E=-227.96234676  angles= {(3, 0, 5, 2): -0.08741995640659299, (3, 2, 5, 0): 0.005405503754179529, (5, 2, 5, 2): -0.05664650301404977, (4, 2, 3, 1): 0.04213871046363654, (4, 0): 0.08804545894523681, (5, 0, 5, 0): 0.10224055540352886, (3, 1, 3, 1): -0.07334944366783493, (3, 1, 4, 2): 0.0425754897819081, (4, 1, 5, 0): 0.01610597149873612, (3, 2, 4, 1): 0.07358104495141186, (5, 1, 4, 0): -0.0069175465288541255, (5, 0, 4, 1): -0.07090085005419931, (5, 0, 3, 2): 0.09111164458040258, (4, 0, 4, 0): -0.02760601225496637, (5, 2, 3, 0): 0.0, (4, 1, 4, 1): -0.03531584516050362, (4, 2, 4, 2): -0.03935442381033177, (3, 2, 3, 2): -0.19941660162719455, (4, 1, 3, 2): 0.07332620478163153, (3, 0, 3, 0): -0.07334944470529053, (5, 1, 5, 1): -0.002425385158520456, (4, 0, 5, 1): -0.024079221266481342}  samples= None\n",
      "E=-227.96234787  angles= {(3, 0, 5, 2): -0.08741995640659299, (3, 2, 5, 0): 0.005405503754179529, (5, 2, 5, 2): -0.05664650301404977, (4, 2, 3, 1): 0.04213871046363654, (4, 0): 0.08794545894523681, (5, 0, 5, 0): 0.10234055540352886, (3, 1, 3, 1): -0.07334944366783493, (3, 1, 4, 2): 0.0425754897819081, (4, 1, 5, 0): 0.01610597149873612, (3, 2, 4, 1): 0.07358104495141186, (5, 1, 4, 0): -0.0069175465288541255, (5, 0, 4, 1): -0.07090085005419931, (5, 0, 3, 2): 0.09111164458040258, (4, 0, 4, 0): -0.02760601225496637, (5, 2, 3, 0): 0.0, (4, 1, 4, 1): -0.03531584516050362, (4, 2, 4, 2): -0.03935442381033177, (3, 2, 3, 2): -0.19941660162719455, (4, 1, 3, 2): 0.07332620478163153, (3, 0, 3, 0): -0.07334944470529053, (5, 1, 5, 1): -0.002425385158520456, (4, 0, 5, 1): -0.024079221266481342}  samples= None\n",
      "E=-227.96234797  angles= {(3, 0, 5, 2): -0.08741995640659299, (3, 2, 5, 0): 0.005405503754179529, (5, 2, 5, 2): -0.05664650301404977, (4, 2, 3, 1): 0.04213871046363654, (4, 0): 0.08794545894523681, (5, 0, 5, 0): 0.10224055540352886, (3, 1, 3, 1): -0.07344944366783493, (3, 1, 4, 2): 0.0425754897819081, (4, 1, 5, 0): 0.01610597149873612, (3, 2, 4, 1): 0.07358104495141186, (5, 1, 4, 0): -0.0069175465288541255, (5, 0, 4, 1): -0.07090085005419931, (5, 0, 3, 2): 0.09111164458040258, (4, 0, 4, 0): -0.02760601225496637, (5, 2, 3, 0): 0.0, (4, 1, 4, 1): -0.03531584516050362, (4, 2, 4, 2): -0.03935442381033177, (3, 2, 3, 2): -0.19941660162719455, (4, 1, 3, 2): 0.07332620478163153, (3, 0, 3, 0): -0.07334944470529053, (5, 1, 5, 1): -0.002425385158520456, (4, 0, 5, 1): -0.024079221266481342}  samples= None\n",
      "E=-227.96234650  angles= {(3, 0, 5, 2): -0.08741995640659299, (3, 2, 5, 0): 0.005405503754179529, (5, 2, 5, 2): -0.05664650301404977, (4, 2, 3, 1): 0.04213871046363654, (4, 0): 0.08794545894523681, (5, 0, 5, 0): 0.10224055540352886, (3, 1, 3, 1): -0.07334944366783493, (3, 1, 4, 2): 0.042675489781908105, (4, 1, 5, 0): 0.01610597149873612, (3, 2, 4, 1): 0.07358104495141186, (5, 1, 4, 0): -0.0069175465288541255, (5, 0, 4, 1): -0.07090085005419931, (5, 0, 3, 2): 0.09111164458040258, (4, 0, 4, 0): -0.02760601225496637, (5, 2, 3, 0): 0.0, (4, 1, 4, 1): -0.03531584516050362, (4, 2, 4, 2): -0.03935442381033177, (3, 2, 3, 2): -0.19941660162719455, (4, 1, 3, 2): 0.07332620478163153, (3, 0, 3, 0): -0.07334944470529053, (5, 1, 5, 1): -0.002425385158520456, (4, 0, 5, 1): -0.024079221266481342}  samples= None\n",
      "E=-227.96234550  angles= {(3, 0, 5, 2): -0.08741995640659299, (3, 2, 5, 0): 0.005405503754179529, (5, 2, 5, 2): -0.05664650301404977, (4, 2, 3, 1): 0.04213871046363654, (4, 0): 0.08794545894523681, (5, 0, 5, 0): 0.10224055540352886, (3, 1, 3, 1): -0.07334944366783493, (3, 1, 4, 2): 0.0425754897819081, (4, 1, 5, 0): 0.016205971498736118, (3, 2, 4, 1): 0.07358104495141186, (5, 1, 4, 0): -0.0069175465288541255, (5, 0, 4, 1): -0.07090085005419931, (5, 0, 3, 2): 0.09111164458040258, (4, 0, 4, 0): -0.02760601225496637, (5, 2, 3, 0): 0.0, (4, 1, 4, 1): -0.03531584516050362, (4, 2, 4, 2): -0.03935442381033177, (3, 2, 3, 2): -0.19941660162719455, (4, 1, 3, 2): 0.07332620478163153, (3, 0, 3, 0): -0.07334944470529053, (5, 1, 5, 1): -0.002425385158520456, (4, 0, 5, 1): -0.024079221266481342}  samples= None\n",
      "E=-227.96235296  angles= {(3, 0, 5, 2): -0.08741995640659299, (3, 2, 5, 0): 0.005405503754179529, (5, 2, 5, 2): -0.05664650301404977, (4, 2, 3, 1): 0.04213871046363654, (4, 0): 0.08794545894523681, (5, 0, 5, 0): 0.10224055540352886, (3, 1, 3, 1): -0.07334944366783493, (3, 1, 4, 2): 0.0425754897819081, (4, 1, 5, 0): 0.01610597149873612, (3, 2, 4, 1): 0.07368104495141187, (5, 1, 4, 0): -0.0069175465288541255, (5, 0, 4, 1): -0.07090085005419931, (5, 0, 3, 2): 0.09111164458040258, (4, 0, 4, 0): -0.02760601225496637, (5, 2, 3, 0): 0.0, (4, 1, 4, 1): -0.03531584516050362, (4, 2, 4, 2): -0.03935442381033177, (3, 2, 3, 2): -0.19941660162719455, (4, 1, 3, 2): 0.07332620478163153, (3, 0, 3, 0): -0.07334944470529053, (5, 1, 5, 1): -0.002425385158520456, (4, 0, 5, 1): -0.024079221266481342}  samples= None\n",
      "E=-227.96234959  angles= {(3, 0, 5, 2): -0.08741995640659299, (3, 2, 5, 0): 0.005405503754179529, (5, 2, 5, 2): -0.05664650301404977, (4, 2, 3, 1): 0.04213871046363654, (4, 0): 0.08794545894523681, (5, 0, 5, 0): 0.10224055540352886, (3, 1, 3, 1): -0.07334944366783493, (3, 1, 4, 2): 0.0425754897819081, (4, 1, 5, 0): 0.01610597149873612, (3, 2, 4, 1): 0.07358104495141186, (5, 1, 4, 0): -0.007017546528854126, (5, 0, 4, 1): -0.07090085005419931, (5, 0, 3, 2): 0.09111164458040258, (4, 0, 4, 0): -0.02760601225496637, (5, 2, 3, 0): 0.0, (4, 1, 4, 1): -0.03531584516050362, (4, 2, 4, 2): -0.03935442381033177, (3, 2, 3, 2): -0.19941660162719455, (4, 1, 3, 2): 0.07332620478163153, (3, 0, 3, 0): -0.07334944470529053, (5, 1, 5, 1): -0.002425385158520456, (4, 0, 5, 1): -0.024079221266481342}  samples= None\n",
      "E=-227.96234345  angles= {(3, 0, 5, 2): -0.08741995640659299, (3, 2, 5, 0): 0.005405503754179529, (5, 2, 5, 2): -0.05664650301404977, (4, 2, 3, 1): 0.04213871046363654, (4, 0): 0.08794545894523681, (5, 0, 5, 0): 0.10224055540352886, (3, 1, 3, 1): -0.07334944366783493, (3, 1, 4, 2): 0.0425754897819081, (4, 1, 5, 0): 0.01610597149873612, (3, 2, 4, 1): 0.07358104495141186, (5, 1, 4, 0): -0.0069175465288541255, (5, 0, 4, 1): -0.07100085005419932, (5, 0, 3, 2): 0.09111164458040258, (4, 0, 4, 0): -0.02760601225496637, (5, 2, 3, 0): 0.0, (4, 1, 4, 1): -0.03531584516050362, (4, 2, 4, 2): -0.03935442381033177, (3, 2, 3, 2): -0.19941660162719455, (4, 1, 3, 2): 0.07332620478163153, (3, 0, 3, 0): -0.07334944470529053, (5, 1, 5, 1): -0.002425385158520456, (4, 0, 5, 1): -0.024079221266481342}  samples= None\n",
      "E=-227.96234548  angles= {(3, 0, 5, 2): -0.08741995640659299, (3, 2, 5, 0): 0.005405503754179529, (5, 2, 5, 2): -0.05664650301404977, (4, 2, 3, 1): 0.04213871046363654, (4, 0): 0.08794545894523681, (5, 0, 5, 0): 0.10224055540352886, (3, 1, 3, 1): -0.07334944366783493, (3, 1, 4, 2): 0.0425754897819081, (4, 1, 5, 0): 0.01610597149873612, (3, 2, 4, 1): 0.07358104495141186, (5, 1, 4, 0): -0.0069175465288541255, (5, 0, 4, 1): -0.07090085005419931, (5, 0, 3, 2): 0.09121164458040258, (4, 0, 4, 0): -0.02760601225496637, (5, 2, 3, 0): 0.0, (4, 1, 4, 1): -0.03531584516050362, (4, 2, 4, 2): -0.03935442381033177, (3, 2, 3, 2): -0.19941660162719455, (4, 1, 3, 2): 0.07332620478163153, (3, 0, 3, 0): -0.07334944470529053, (5, 1, 5, 1): -0.002425385158520456, (4, 0, 5, 1): -0.024079221266481342}  samples= None\n"
     ]
    },
    {
     "name": "stdout",
     "output_type": "stream",
     "text": [
      "E=-227.96234989  angles= {(3, 0, 5, 2): -0.08741995640659299, (3, 2, 5, 0): 0.005405503754179529, (5, 2, 5, 2): -0.05664650301404977, (4, 2, 3, 1): 0.04213871046363654, (4, 0): 0.08794545894523681, (5, 0, 5, 0): 0.10224055540352886, (3, 1, 3, 1): -0.07334944366783493, (3, 1, 4, 2): 0.0425754897819081, (4, 1, 5, 0): 0.01610597149873612, (3, 2, 4, 1): 0.07358104495141186, (5, 1, 4, 0): -0.0069175465288541255, (5, 0, 4, 1): -0.07090085005419931, (5, 0, 3, 2): 0.09111164458040258, (4, 0, 4, 0): -0.02770601225496637, (5, 2, 3, 0): 0.0, (4, 1, 4, 1): -0.03531584516050362, (4, 2, 4, 2): -0.03935442381033177, (3, 2, 3, 2): -0.19941660162719455, (4, 1, 3, 2): 0.07332620478163153, (3, 0, 3, 0): -0.07334944470529053, (5, 1, 5, 1): -0.002425385158520456, (4, 0, 5, 1): -0.024079221266481342}  samples= None\n"
     ]
    }
   ],
   "source": [
    "# YOU MIGHT HAVE TO RESTART THE JUPYTER KERNEL\n",
    "import tequila as tq\n",
    "threshold = 1.e-6\n",
    "active = {\"B1u\": [0], \"B3g\": [0, 1], \"B2g\": [0], \"Au\": [0], \"b1u\": [1]}\n",
    "molecule = tq.quantumchemistry.Molecule(geometry=\"data/benzene.xyz\", basis_set='sto-3g', active_orbitals=active)\n",
    "H = molecule.make_hamiltonian()\n",
    "\n",
    "# make the UCCSD ansatz\n",
    "U = molecule.make_uccsd_ansatz(initial_amplitudes=\"cc2\", threshold=threshold, trotter_steps=1)\n",
    "\n",
    "# define the expectationvalue\n",
    "E = tq.ExpectationValue(H=H, U=U)\n",
    "\n",
    "# compute reference energies\n",
    "fci = molecule.compute_energy(\"fci\")\n",
    "cisd = molecule.compute_energy(\"detci\", options={\"detci__ex_level\": 2})\n",
    "\n",
    "# optimize\n",
    "# Scipy either `eps` (version <1.5) or 'finite_diff_rel_step' (verion > 1.5)\n",
    "# for the 2-point stencil\n",
    "result = tq.minimize(objective=E, method=\"BFGS\", gradient=\"2-point\", method_options={\"eps\":1.e-4, \"finite_diff_rel_step\":1.e-4, \"gtol\": 1.e-3}, initial_values={k:0.0 for k in E.extract_variables()})\n",
    "\n",
    "print(\"VQE : {:+2.8}f\".format(result.energy))\n",
    "print(\"CISD: {:+2.8}f\".format(cisd))\n",
    "print(\"FCI : {:+2.8}f\".format(fci))"
   ]
  },
  {
   "cell_type": "code",
   "execution_count": null,
   "metadata": {},
   "outputs": [],
   "source": [
    "result.history.plot(\"energies\", baselines={\"fci\":fci, \"cisd\": cisd}, filename=\"benzene_result_bfgs\")"
   ]
  },
  {
   "cell_type": "markdown",
   "metadata": {},
   "source": [
    "## Noisy optimization of an active space molecule with tapered qubit embeding\n",
    "\n",
    "This example shows the combination of several features of tequila in a few lines\n",
    "\n",
    "- automatic handling of active spaces\n",
    "- consitent usage of qubit encodings (here the symmetry_conserving_bravyi_kitaev encoding from openfermion which reduces the number of qubits by 2)\n",
    "- custom circuit construction\n",
    "- unitary cluster circuits\n",
    "- optimization of measurements (here the Hamiltonian will be grouped into two commuting groups, this can be seen by the optimizer output which holds two expectation values). See the [MeasurementGroups](https://github.com/aspuru-guzik-group/tequila/blob/master/tutorials/MeasurementGroups.ipynb) tutorial for more background information.\n",
    "- interface to different quantum backends (you will need qiskit to run this cell)"
   ]
  },
  {
   "cell_type": "code",
   "execution_count": null,
   "metadata": {},
   "outputs": [],
   "source": [
    "import tequila as tq\n",
    "# define the active space\n",
    "active_orbitals = {\"A1\":[1], \"B1\":[0]}\n",
    "samples = 1000000\n",
    "backend = \"qiskit\"\n",
    "device = \"fake_rome\"\n",
    "# define the molecule\n",
    "molecule = tq.chemistry.Molecule(geometry = \"H 0.0 0.0 0.0\\nLi 0.0 0.0 1.6\",\n",
    "                                 basis_set=\"sto-3g\",\n",
    "                                 active_orbitals=active_orbitals,\n",
    "                                 transformation=\"symmetry_conserving_bravyi_kitaev\")\n",
    "\n",
    "fci = molecule.compute_energy(\"fci\")\n",
    "\n",
    "H = molecule.make_hamiltonian()\n",
    "\n",
    "# Toy circuit (no deeper meaning)\n",
    "U = tq.gates.Ry(angle=\"a\", target=0)\n",
    "U += tq.gates.X(target=1, control=0)\n",
    "E = tq.ExpectationValue(H=H, U=U, optimize_measurements=True)\n",
    "\n",
    "vqe = tq.minimize(method=\"cobyla\", objective=E, initial_values=0.0)\n",
    "noisy_vqe = tq.minimize(method=\"cobyla\", objective=E, samples=samples, backend=backend, device=device, initial_values=0.0)\n",
    " \n",
    "# The same with UpCCGSD\n",
    "UpCCGSD = molecule.make_upccgsd_ansatz(include_singles=False)\n",
    "E2 = tq.ExpectationValue(H=H, U=UpCCGSD, optimize_measurements=True)\n",
    "ucc = tq.minimize(method=\"cobyla\", objective=E2, initial_values=0.0)\n",
    "noisy_ucc = tq.minimize(method=\"cobyla\", objective=E2, samples=samples,  backend=backend, device=device, initial_values=0.0)\n",
    "\n",
    "print(\"VQE         = {:2.8f}\".format(min(vqe.history.energies)))\n",
    "print(\"VQE (noisy) = {:2.8f}\".format(min(noisy_vqe.history.energies)))\n",
    "print(\"UCC         = {:2.8f}\".format(min(ucc.history.energies)))\n",
    "print(\"UCC (noisy) = {:2.8f}\".format(min(noisy_ucc.history.energies)))\n"
   ]
  },
  {
   "cell_type": "code",
   "execution_count": null,
   "metadata": {},
   "outputs": [],
   "source": [
    "# repeat printout\n",
    "print(\"VQE         = {:2.3f}\".format(min(vqe.history.energies)))\n",
    "print(\"VQE (noisy) = {:2.3f}\".format(min(noisy_vqe.history.energies)))\n",
    "print(\"UCC         = {:2.3f}\".format(min(ucc.history.energies)))\n",
    "print(\"UCC (noisy) = {:2.3f}\".format(min(noisy_ucc.history.energies)))"
   ]
  },
  {
   "cell_type": "code",
   "execution_count": null,
   "metadata": {},
   "outputs": [],
   "source": []
  },
  {
   "cell_type": "code",
   "execution_count": null,
   "metadata": {},
   "outputs": [],
   "source": []
  }
 ],
 "metadata": {
  "kernelspec": {
   "display_name": "tequila-3.6",
   "language": "python",
   "name": "tequila-3.6"
  },
  "language_info": {
   "codemirror_mode": {
    "name": "ipython",
    "version": 3
   },
   "file_extension": ".py",
   "mimetype": "text/x-python",
   "name": "python",
   "nbconvert_exporter": "python",
   "pygments_lexer": "ipython3",
   "version": "3.6.9"
  }
 },
 "nbformat": 4,
 "nbformat_minor": 2
}
