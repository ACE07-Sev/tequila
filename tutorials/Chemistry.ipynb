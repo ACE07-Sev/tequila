{
 "cells": [
  {
   "cell_type": "markdown",
   "metadata": {},
   "source": [
    "# Tequila Chemistry Basics\n",
    "\n",
    "Here we show the basics of the tequila chemistry module.  \n",
    "In order for this to work you need to have psi4 installed in the same python environment as tequila.  \n",
    "If you are in a conda environment installing psi4 is easy:\n",
    "`conda install psi4 -c psi4`  \n",
    "But better check the psi4 website for up to date instructions.\n",
    "\n",
    "In some cases problems with the environment where enountered which are suspected to originate from conflicts between psi4 and tequila dependcies. Usually the safest way is to install psi4 **first** and then install tequila\n",
    "\n",
    "Basic functionality is currently also provided with PySCF which might be easier to install. \n",
    "\n",
    "At the moment we only support closed-shell molecules"
   ]
  },
  {
   "cell_type": "code",
   "execution_count": 1,
   "metadata": {},
   "outputs": [],
   "source": [
    "import tequila as tq"
   ]
  },
  {
   "cell_type": "markdown",
   "metadata": {},
   "source": [
    "## Initialize Molecules\n",
    "\n",
    "Molecules can be initialized by passing their geometries as string or the name of a `xyz` file."
   ]
  },
  {
   "cell_type": "code",
   "execution_count": 2,
   "metadata": {},
   "outputs": [
    {
     "name": "stdout",
     "output_type": "stream",
     "text": [
      "<class 'tequila.quantumchemistry.psi4_interface.QuantumChemistryPsi4'>\n",
      "basis_set       : sto-3g          \n",
      "geometry        : H 0.0 0.0 0.0\n",
      "Li 0.0 0.0 1.6 \n",
      "description     :                 \n",
      "multiplicity    : 1               \n",
      "charge          : 0               \n",
      "closed_shell    : True            \n",
      "name            : molecule        \n",
      "\n",
      "Psi4 Data\n",
      "Point Group (full) : c_inf_v         \n",
      "Point Group (used) : c2v             \n",
      "nirrep          : 4 \n",
      "irreps          : ['A1', 'A2', 'B1', 'B2'] \n",
      "mos per irrep   : [4, 0, 1, 1]    \n",
      "\n",
      "The Orbitals are:\n",
      "0 : 0A1 energy = -2.348839 \n",
      "1 : 1A1 energy = -0.285276 \n",
      "2 : 2A1 energy = +0.078216 \n",
      "3 : 0B1 energy = +0.163950 \n",
      "4 : 0B2 energy = +0.163950 \n",
      "5 : 3A1 energy = +0.547769 \n"
     ]
    }
   ],
   "source": [
    "molecule = tq.chemistry.Molecule(geometry = \"H 0.0 0.0 0.0\\nLi 0.0 0.0 1.6\", basis_set=\"sto-3g\")\n",
    "print(molecule)\n",
    "\n",
    "# lets also print some information about the orbitals\n",
    "# we need it later\n",
    "\n",
    "print(\"The Orbitals are:\")\n",
    "for orbital in molecule.orbitals:\n",
    "    print(orbital)"
   ]
  },
  {
   "cell_type": "markdown",
   "metadata": {},
   "source": [
    "You can initialize a tequila `QubitHamiltonian` from a molecule with `make_hamiltonian`.\n",
    "The standard transformation is the `jordan-wigner` transformation.  \n",
    "You can use other transformations by initializing the molecule with the `transformation` keyword."
   ]
  },
  {
   "cell_type": "code",
   "execution_count": 3,
   "metadata": {},
   "outputs": [
    {
     "name": "stdout",
     "output_type": "stream",
     "text": [
      "Hamiltonian has 631 terms\n"
     ]
    }
   ],
   "source": [
    "H = molecule.make_hamiltonian()\n",
    "# the LiH Hamiltonian is already quite large, better not print the full thing\n",
    "print(\"Hamiltonian has {} terms\".format(len(H)))"
   ]
  },
  {
   "cell_type": "code",
   "execution_count": 4,
   "metadata": {},
   "outputs": [
    {
     "name": "stdout",
     "output_type": "stream",
     "text": [
      "Hamiltonian has 631 terms\n"
     ]
    }
   ],
   "source": [
    "molecule = tq.chemistry.Molecule(geometry = \"H 0.0 0.0 0.0\\nLi 0.0 0.0 1.6\", basis_set=\"sto-3g\", transformation=\"bravyi-kitaev\")\n",
    "H = molecule.make_hamiltonian()\n",
    "print(\"Hamiltonian has {} terms\".format(len(H)))"
   ]
  },
  {
   "cell_type": "markdown",
   "metadata": {},
   "source": [
    "## Setting active spaces\n",
    "\n",
    "You can define active spaces on your molcule by passing down a dictionary of active orbitals.  \n",
    "The orbitals are grouped into the irreducible representation of the underlying symmetry group (see the printout of `print(molecule)` above).\n",
    "\n",
    "Lets take the LiH molecule from above but initialize it with an active space containing the second two A1 orbitals (meaning the first 0A1 orbital is frozen) and the B1 orbital"
   ]
  },
  {
   "cell_type": "code",
   "execution_count": 5,
   "metadata": {},
   "outputs": [
    {
     "name": "stdout",
     "output_type": "stream",
     "text": [
      "There are known issues with some psi4 methods and frozen virtual orbitals. Proceed with fingers crossed for hf.\n",
      "Hamiltonian has 62 terms\n"
     ]
    }
   ],
   "source": [
    "active_orbitals = {\"A1\":[1,2], \"B1\":[0]}\n",
    "molecule = tq.chemistry.Molecule(geometry = \"H 0.0 0.0 0.0\\nLi 0.0 0.0 1.6\", basis_set=\"sto-3g\", active_orbitals=active_orbitals)\n",
    "H = molecule.make_hamiltonian()\n",
    "print(\"Hamiltonian has {} terms\".format(len(H)))"
   ]
  },
  {
   "cell_type": "markdown",
   "metadata": {},
   "source": [
    "Lets make the active space even smaller, so that we can print out stuff in this tutorial"
   ]
  },
  {
   "cell_type": "code",
   "execution_count": 6,
   "metadata": {},
   "outputs": [
    {
     "name": "stdout",
     "output_type": "stream",
     "text": [
      "There are known issues with some psi4 methods and frozen virtual orbitals. Proceed with fingers crossed for hf.\n",
      "Hamiltonian has 15 terms\n",
      "-7.4711+0.1352Z(0)+0.1352Z(1)-0.0310Z(2)-0.0310Z(3)+0.1218Z(0)Z(1)+0.0059Y(0)X(1)X(2)Y(3)-0.0059Y(0)Y(1)X(2)X(3)-0.0059X(0)X(1)Y(2)Y(3)+0.0059X(0)Y(1)Y(2)X(3)+0.0617Z(0)Z(2)+0.0675Z(0)Z(3)+0.0675Z(1)Z(2)+0.0617Z(1)Z(3)+0.0782Z(2)Z(3)\n"
     ]
    }
   ],
   "source": [
    "active_orbitals = {\"A1\":[1], \"B1\":[0]}\n",
    "molecule = tq.chemistry.Molecule(geometry = \"H 0.0 0.0 0.0\\nLi 0.0 0.0 1.6\", basis_set=\"sto-3g\", active_orbitals=active_orbitals)\n",
    "H = molecule.make_hamiltonian()\n",
    "print(\"Hamiltonian has {} terms\".format(len(H)))\n",
    "print(H)"
   ]
  },
  {
   "cell_type": "markdown",
   "metadata": {},
   "source": [
    "## Computing classical methods with Psi4\n",
    "\n",
    "We can use psi4 to compute the energies (and sometimes other quantities) with the `compute_energy` function.\n",
    "Here are some examples. Note that the energies are computed within the active space if one is set.\n",
    "\n",
    "Note also that not all active spaces can be represented by psi4 which will mean you can/should not use the classical psi4 methods with those (a warning will be printed). You will still get the right active space hamiltonian however.\n",
    "\n",
    "Active spaces which will not work for psi4 methds are the ones where the orbitals of individual irreps are not in one block ( e.g. {`\"A1\":[1,3]`} )"
   ]
  },
  {
   "cell_type": "code",
   "execution_count": 10,
   "metadata": {},
   "outputs": [
    {
     "name": "stdout",
     "output_type": "stream",
     "text": [
      "There are known issues with some psi4 methods and frozen virtual orbitals. Proceed with fingers crossed for hf.\n",
      "There are known issues with some psi4 methods and frozen virtual orbitals. Proceed with fingers crossed for mp2.\n",
      "There are known issues with some psi4 methods and frozen virtual orbitals. Proceed with fingers crossed for fci.\n",
      "{(1, 0, 1, 0): -0.026069395810974536, (2, 0, 2, 0): -0.026069395810972836}\n",
      "{(1, 0, 1, 0): -0.027418022914682542, (2, 0, 2, 0): -0.027418022914682535}\n"
     ]
    }
   ],
   "source": [
    "active_orbitals = {\"A1\":[1], \"B1\":[0], \"B2\":[0]}\n",
    "molecule = tq.chemistry.Molecule(name=\"XXX\",geometry = \"H 0.0 0.0 0.0\\nLi 0.0 0.0 1.6\", basis_set=\"sto-3g\", active_orbitals=active_orbitals)\n",
    "\n",
    "mp2 = molecule.compute_energy(method=\"mp2\")\n",
    "\n",
    "# Note there are known issues for some methods when the active space as frozen virtuals as is the case here\n",
    "# detci based methods are fine again \n",
    "fci = molecule.compute_energy(method=\"fci\")\n",
    "\n",
    "# for most coupled-cluster like models you can compute amplitudes\n",
    "# Amplitudes are computed in c1 and in the full space, this is why the active space troubles from above usually don't hold\n",
    "# Note that amplitudes are in closed-shell\n",
    "amplitudes = molecule.compute_amplitudes(\"mp2\")\n",
    "\n",
    "# you can export a parameter dictionary which holds the indices of the amplitude as keys and values as values\n",
    "# for this small active space that is only one amplitude for mp2\n",
    "variables = amplitudes.make_parameter_dictionary()\n",
    "print(variables)\n",
    "\n",
    "# similar for ccsd since the singles are 0 due to symmetry (that changes if you change the active space)\n",
    "amplitudes = molecule.compute_amplitudes(\"ccsd\")\n",
    "variables = amplitudes.make_parameter_dictionary()\n",
    "print(variables)"
   ]
  },
  {
   "cell_type": "markdown",
   "metadata": {},
   "source": [
    "## Hello World H2 optimization with LiH in an active space"
   ]
  },
  {
   "cell_type": "markdown",
   "metadata": {},
   "source": [
    "Lets do a small hand-constructed VQE like it would be done for the Hydrogen molecule in STO-3G, just that we use our active space LiH molecule from the cell above.\n",
    "For consistency reasons we initialize everything again.  \n",
    "\n",
    "Check the `BasicUsage` and `SciPyOptimizers` tutorial notebooks for more information about then"
   ]
  },
  {
   "cell_type": "code",
   "execution_count": null,
   "metadata": {},
   "outputs": [],
   "source": [
    "# define the active space\n",
    "active_orbitals = {\"A1\":[1], \"B1\":[0]}\n",
    "\n",
    "# define the molecule\n",
    "molecule = tq.chemistry.Molecule(geometry = \"H 0.0 0.0 0.0\\nLi 0.0 0.0 1.6\", basis_set=\"sto-3g\", active_orbitals=active_orbitals)\n",
    "\n",
    "# make the hamiltonian\n",
    "H = molecule.make_hamiltonian()\n",
    "\n",
    "# define a hand designed circuit\n",
    "U = tq.gates.Ry(angle=\"a\", target=0) + tq.gates.X(target=[2,3])\n",
    "U += tq.gates.X(target=1, control=0)\n",
    "U += tq.gates.X(target=2, control=0)\n",
    "U += tq.gates.X(target=3, control=1)\n",
    "\n",
    "# define the expectationvalue\n",
    "E = tq.ExpectationValue(H=H, U=U)\n",
    "\n",
    "# optimize\n",
    "result = tq.minimize(objective=E, method=\"BFGS\", initial_values={k:0.0 for k in E.extract_variables()})\n",
    "\n",
    "# compute a reference value with psi4\n",
    "fci = molecule.compute_energy(method=\"fci\")\n",
    "\n",
    "print(\"VQE : {:+2.8}f\".format(result.energy))\n",
    "print(\"FCI : {:+2.8}f\".format(fci))\n"
   ]
  },
  {
   "cell_type": "code",
   "execution_count": null,
   "metadata": {},
   "outputs": [],
   "source": [
    "# some more information from the optimization\n",
    "result.history.plot(\"energies\", baselines={\"fci\":fci})"
   ]
  },
  {
   "cell_type": "markdown",
   "metadata": {},
   "source": [
    "## Unitary Coupled-Cluster Style Construction\n",
    "\n",
    "Here we show how to initialize in the style of unitary coupled-cluster.  \n",
    "In this example we are gonna compute the `mp2` amplitudes and build a UCC type circuit from them.  \n",
    "Here we use the cc2 amplitudes only to define an order on the trotterized gates and remove small amplitudes as classical prescreening.\n",
    "\n",
    "We use again an active space to make the computation fast.\n",
    "\n",
    "First we start with the manual construction and then show how to use in build convenience functions of tequila to.\n",
    "\n",
    "An important function is the `make_excitation_generator` function of the molecule.  \n",
    "This initializes a `QubitHamiltonian` which can be used to define a unitary gate which acts as excitation operation of electrons.\n",
    "\n",
    "$$\\displaystyle\n",
    "U(\\theta) = e^{-i\\frac{\\theta}{2} G_{iajbkc\\dots}}\n",
    "$$\n",
    "\n",
    "In fermionic language the generator is defined as\n",
    "\n",
    "$$\n",
    "G_{ia,jb,jc,\\dots} =  i ( a^\\dagger_a a_i a^\\dagger_b a_j a^\\dagger_c a_k \\dots - h.c. )\n",
    "$$\n",
    "\n",
    "The `make_excitation_generator` function gives back this generator in the qubit representation (depends on the chosen `transformation` of the molecule) and takes the indices as list of tuples  \n",
    "  \n",
    "$$\n",
    "\\text{make_excitation_generator(indices=[(a,i),(b,j),...])} = G_{ia,jb,jc,\\dots}\n",
    "$$"
   ]
  },
  {
   "cell_type": "markdown",
   "metadata": {},
   "source": [
    "### Manual Construction"
   ]
  },
  {
   "cell_type": "code",
   "execution_count": null,
   "metadata": {},
   "outputs": [],
   "source": [
    "threshold = 1.e-6\n",
    "\n",
    "# define the active space\n",
    "active_orbitals = {\"A1\":[1], \"B1\":[0]}\n",
    "\n",
    "# define the molecule\n",
    "molecule = tq.chemistry.Molecule(geometry = \"H 0.0 0.0 0.0\\nLi 0.0 0.0 1.6\", basis_set=\"sto-3g\", active_orbitals=active_orbitals)\n",
    "\n",
    "# make the hamiltonian\n",
    "H = molecule.make_hamiltonian()\n",
    "\n",
    "# compute classical amplitudes\n",
    "amplitudes = molecule.compute_amplitudes(method=\"mp2\")\n",
    "\n",
    "# in this example there is only one closed-shell MP2 amplitude, therefore manual construction is reasonable in this tutorial\n",
    "# first we make a dictionary out of the non-zero MP2 amplitudes\n",
    "ampdict = amplitudes.make_parameter_dictionary(threshold=threshold)\n",
    "print(ampdict)\n",
    "# lets get the indices of the only amplitude which is there manually\n",
    "indices = list(ampdict.keys())[0]\n",
    "\n",
    "# the (1, 0, 1, 0) index in closed shell leads to the (2, 0, 3, 1) and (3, 1, 2, 0) excitations on the qubits\n",
    "# but first we need to initialize the hartree fock state\n",
    "U = molecule.prepare_reference()\n",
    "\n",
    "# now add the two 2-electron excitations \n",
    "# for this we define the generators and build trotterized gates with them\n",
    "# note that the two generators are actually the same\n",
    "# we sum them up since we want to parametrize them with the same variable which we will call \"a\"\n",
    "generator = molecule.make_excitation_generator(indices=[(3, 1),(2, 0)]) + molecule.make_excitation_generator(indices=[(3, 1),(2, 0)])\n",
    "U += tq.gates.Trotterized(generators=[generators], angles=[\"a\"], steps=1)\n",
    "\n",
    "# define the expectationvalue\n",
    "E = tq.ExpectationValue(H=H, U=U)\n",
    "\n",
    "# optimize\n",
    "result = tq.minimize(objective=E, method=\"BFGS\", initial_values={k:0.0 for k in E.extract_variables()})\n",
    "\n",
    "print(\"VQE : {:+2.8}f\".format(result.energy))\n",
    "print(\"FCI : {:+2.8}f\".format(fci))\n",
    "\n"
   ]
  },
  {
   "cell_type": "markdown",
   "metadata": {},
   "source": [
    "### Automatic Construction"
   ]
  },
  {
   "cell_type": "code",
   "execution_count": null,
   "metadata": {},
   "outputs": [],
   "source": [
    "threshold = 1.e-6\n",
    "\n",
    "# define the active space\n",
    "active_orbitals = {\"A1\":[1], \"B1\":[0]}\n",
    "\n",
    "# define the molecule\n",
    "molecule = tq.chemistry.Molecule(geometry = \"H 0.0 0.0 0.0\\nLi 0.0 0.0 1.6\", basis_set=\"sto-3g\", active_orbitals=active_orbitals)\n",
    "\n",
    "# make the hamiltonian\n",
    "H = molecule.make_hamiltonian()\n",
    "\n",
    "# make the UCCSD ansatz (note that this will be without singles since it starts from mp2)\n",
    "U = molecule.make_uccsd_ansatz(initial_amplitudes=\"mp2\", threshold=threshold, trotter_steps=1)\n",
    "\n",
    "# define the expectationvalue\n",
    "E = tq.ExpectationValue(H=H, U=U)\n",
    "\n",
    "# optimize\n",
    "result = tq.minimize(objective=E, method=\"BFGS\", initial_values={k:0.0 for k in E.extract_variables()})\n",
    "\n",
    "print(\"VQE : {:+2.8}f\".format(result.energy))\n",
    "print(\"FCI : {:+2.8}f\".format(fci))\n",
    "    \n",
    "    "
   ]
  },
  {
   "cell_type": "markdown",
   "metadata": {},
   "source": [
    "### Pi System of Benzene\n",
    "Lets repeat the last cell with the pi system of the benzene molecule"
   ]
  },
  {
   "cell_type": "code",
   "execution_count": null,
   "metadata": {},
   "outputs": [],
   "source": [
    "active = {\"B1u\": [0], \"B3g\": [0, 1], \"B2g\": [0], \"Au\": [0], \"b1u\": [1]}\n",
    "molecule = tq.quantumchemistry.Molecule(geometry=\"data/benzene.xyz\", basis_set='sto-3g', active_orbitals=active)\n",
    "H = molecule.make_hamiltonian()\n",
    "\n",
    "# make the UCCSD ansatz (note that this will be without singles since it starts from mp2)\n",
    "U = molecule.make_uccsd_ansatz(initial_amplitudes=\"mp2\", threshold=threshold, trotter_steps=1)\n",
    "\n",
    "# define the expectationvalue\n",
    "E = tq.ExpectationValue(H=H, U=U)\n",
    "\n",
    "# optimize\n",
    "result = tq.minimize(objective=E, method=\"BFGS\", gradient=\"2-point\", method_options={\"eps\":1.e-3}, initial_values={k:0.0 for k in E.extract_variables()})\n",
    "\n",
    "print(\"VQE : {:+2.8}f\".format(result.energy))\n",
    "print(\"FCI : {:+2.8}f\".format(fci))"
   ]
  },
  {
   "cell_type": "code",
   "execution_count": null,
   "metadata": {},
   "outputs": [],
   "source": []
  }
 ],
 "metadata": {
  "kernelspec": {
   "display_name": "tequila-3.6",
   "language": "python",
   "name": "tequila-3.6"
  },
  "language_info": {
   "codemirror_mode": {
    "name": "ipython",
    "version": 3
   },
   "file_extension": ".py",
   "mimetype": "text/x-python",
   "name": "python",
   "nbconvert_exporter": "python",
   "pygments_lexer": "ipython3",
   "version": "3.6.9"
  }
 },
 "nbformat": 4,
 "nbformat_minor": 2
}
