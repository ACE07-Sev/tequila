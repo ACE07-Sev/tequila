{
 "cells": [
  {
   "cell_type": "markdown",
   "metadata": {},
   "source": [
    "# Tequila Chemistry Basics\n",
    "\n",
    "Here we show the basics of the tequila chemistry module.  \n",
    "In order for this to work you need to have psi4 installed in the same python environment as tequila.  \n",
    "If you are in a conda environment installing psi4 is easy:\n",
    "`conda install psi4 -c psi4`  \n",
    "But better check the [psi4 website](http://www.psicode.org/) for up to date instructions.\n",
    "\n",
    "In some cases problems with the environment were observed which are suspected to originate from conflicts between psi4 and tequila dependcies. Usually the safest way is to install psi4 **first** and then install tequila\n",
    "\n",
    "Basic functionality is currently also provided with PySCF which might be easier to install. \n",
    "\n",
    "At the moment we only support closed-shell molecules\n",
    "\n",
    "This tutorial will give an overview over:\n",
    "\n",
    "- Initialization of molecules within tequila\n",
    "- Usage of different qubit encodings from openermion (JW, BK, BKSF, Tapered-BK)\n",
    "- Using basic functionality of Psi4 with tequila\n",
    "- Setting up active spaces\n",
    "- Constructing UCC based quantum circuits with tequila\n",
    "\n",
    "**There might be issues with psi4 and jupyter, currently the workarround is to reload the kernel before a cell gets executed, or run as a regular python script**"
   ]
  },
  {
   "cell_type": "code",
   "execution_count": 1,
   "metadata": {},
   "outputs": [],
   "source": [
    "import tequila as tq"
   ]
  },
  {
   "cell_type": "markdown",
   "metadata": {},
   "source": [
    "## Initialize Molecules\n",
    "\n",
    "Molecules can be initialized by passing their geometries as string or the name of a `xyz` file."
   ]
  },
  {
   "cell_type": "code",
   "execution_count": 2,
   "metadata": {},
   "outputs": [
    {
     "name": "stdout",
     "output_type": "stream",
     "text": [
      "<class 'tequila.quantumchemistry.psi4_interface.QuantumChemistryPsi4'>\n",
      "Qubit Encoding\n",
      "transformation=<function jordan_wigner at 0x7f7d642e6ae8>\n",
      "basis_set       : sto-3g          \n",
      "geometry        : H 0.0 0.0 0.0\n",
      "Li 0.0 0.0 1.6 \n",
      "description     :                 \n",
      "multiplicity    : 1               \n",
      "charge          : 0               \n",
      "closed_shell    : True            \n",
      "name            : molecule        \n",
      "\n",
      "Psi4 Data\n",
      "Point Group (full) : c_inf_v         \n",
      "Point Group (used) : c2v             \n",
      "nirrep          : 4 \n",
      "irreps          : ['A1', 'A2', 'B1', 'B2'] \n",
      "mos per irrep   : [4, 0, 1, 1]    \n",
      "\n",
      "The Orbitals are:\n",
      "0 : 0A1 energy = -2.348839 \n",
      "1 : 1A1 energy = -0.285276 \n",
      "2 : 2A1 energy = +0.078216 \n",
      "3 : 0B1 energy = +0.163950 \n",
      "4 : 0B2 energy = +0.163950 \n",
      "5 : 3A1 energy = +0.547769 \n"
     ]
    }
   ],
   "source": [
    "import tequila as tq\n",
    "molecule = tq.chemistry.Molecule(geometry = \"H 0.0 0.0 0.0\\nLi 0.0 0.0 1.6\", basis_set=\"sto-3g\")\n",
    "print(molecule)\n",
    "\n",
    "# lets also print some information about the orbitals\n",
    "# we need it later\n",
    "\n",
    "print(\"The Orbitals are:\")\n",
    "for orbital in molecule.orbitals:\n",
    "    print(orbital)"
   ]
  },
  {
   "cell_type": "markdown",
   "metadata": {},
   "source": [
    "You can initialize a tequila `QubitHamiltonian` from a molecule with `make_hamiltonian`.\n",
    "The standard transformation is the `jordan-wigner` transformation.  \n",
    "You can use other transformations by initializing the molecule with the `transformation` keyword."
   ]
  },
  {
   "cell_type": "code",
   "execution_count": 3,
   "metadata": {},
   "outputs": [
    {
     "name": "stdout",
     "output_type": "stream",
     "text": [
      "Hamiltonian has 631 terms\n"
     ]
    }
   ],
   "source": [
    "import tequila as tq\n",
    "H = molecule.make_hamiltonian()\n",
    "# the LiH Hamiltonian is already quite large, better not print the full thing\n",
    "print(\"Hamiltonian has {} terms\".format(len(H)))"
   ]
  },
  {
   "cell_type": "code",
   "execution_count": 4,
   "metadata": {},
   "outputs": [
    {
     "name": "stdout",
     "output_type": "stream",
     "text": [
      "Hamiltonian has 631 terms\n"
     ]
    }
   ],
   "source": [
    "molecule = tq.chemistry.Molecule(geometry = \"H 0.0 0.0 0.0\\nLi 0.0 0.0 1.6\", basis_set=\"sto-3g\", transformation=\"bravyi-kitaev\")\n",
    "H = molecule.make_hamiltonian()\n",
    "print(\"Hamiltonian has {} terms\".format(len(H)))"
   ]
  },
  {
   "cell_type": "markdown",
   "metadata": {},
   "source": [
    "## Using different Qubit Encodings of OpenFermion"
   ]
  },
  {
   "cell_type": "markdown",
   "metadata": {},
   "source": [
    "The different qubit encodings of openfermion can be applied by passing the keyword `transformation` to the molecule and setting it to the name of the corresponding openfermion function.  \n",
    "\n",
    "Some of those transformation might require additional keywords. Following `psi4` conventions those should be given to the `Molecule` initialization with the prefix `transformation__`. For most of them, `tequila` is however able to assign the keys automatically.\n",
    "\n",
    "In the following we provide some examples using various transformations from openfermion"
   ]
  },
  {
   "cell_type": "code",
   "execution_count": 5,
   "metadata": {},
   "outputs": [
    {
     "name": "stdout",
     "output_type": "stream",
     "text": [
      "Jordan-Wigner\n",
      " -0.0421+0.1777Z(0)+0.1777Z(1)-0.2427Z(2)-0.2427Z(3)+0.1706Z(0)Z(1)+0.0448Y(0)X(1)X(2)Y(3)-0.0448Y(0)Y(1)X(2)X(3)-0.0448X(0)X(1)Y(2)Y(3)+0.0448X(0)Y(1)Y(2)X(3)+0.1229Z(0)Z(2)+0.1677Z(0)Z(3)+0.1677Z(1)Z(2)+0.1229Z(1)Z(3)+0.1763Z(2)Z(3)\n",
      "lowest energy =  -1.1361894540879054\n",
      "Bravyi-Kitaev\n",
      " -0.0421+0.1777Z(0)+0.1777Z(0)Z(1)-0.2427Z(2)-0.2427Z(1)Z(2)Z(3)+0.1706Z(1)+0.0448Y(0)Z(1)Y(2)Z(3)+0.0448X(0)Z(1)X(2)+0.0448X(0)Z(1)X(2)Z(3)+0.0448Y(0)Z(1)Y(2)+0.1229Z(0)Z(2)+0.1677Z(0)Z(1)Z(2)Z(3)+0.1677Z(0)Z(1)Z(2)+0.1229Z(0)Z(2)Z(3)+0.1763Z(1)Z(3)\n",
      "lowest energy =  -1.136189454087905\n",
      "trafo_args =  {'active_orbitals': 4, 'active_fermions': 2}\n",
      "trafo_args =  {'active_orbitals': 4, 'active_fermions': 2}\n",
      "Symmetry conserving Bravyi-Kitaev\n",
      " -0.2879+0.4205Z(0)+0.4205Z(1)+0.0115Z(0)Z(1)+0.1790X(0)X(1)\n",
      "lowest energy =  -1.1361894540879054\n"
     ]
    }
   ],
   "source": [
    "import tequila as tq\n",
    "import numpy\n",
    "geomstring = \"H 0.0 0.0 0.0\\nH 0.0 0.0 0.7\"\n",
    "basis_set = \"sto-3g\"\n",
    "\n",
    "# Jordan-Wigner (this is the default)\n",
    "mol = tq.chemistry.Molecule(geometry=geomstring, basis_set=basis_set, transformation=\"jordan_wigner\")\n",
    "H = mol.make_hamiltonian()\n",
    "print(\"Jordan-Wigner\\n\", H)\n",
    "eigenValues = numpy.linalg.eigvalsh(H.to_matrix())\n",
    "print(\"lowest energy = \", eigenValues[0])\n",
    "\n",
    "# Bravyi-Kitaev\n",
    "mol = tq.chemistry.Molecule(geometry=geomstring, basis_set=basis_set, transformation=\"bravyi_kitaev\")\n",
    "H = mol.make_hamiltonian()\n",
    "print(\"Bravyi-Kitaev\\n\", H)\n",
    "eigenValues = numpy.linalg.eigvalsh(H.to_matrix())\n",
    "print(\"lowest energy = \", eigenValues[0])\n",
    "\n",
    "# symmetry_conserving_bravyi_kitaev\n",
    "# this transformation will taper off two qubits of the Hamiltonian\n",
    "# it needs additional information on the number of spin-orbitals and the active_fermions/electrons in the system\n",
    "mol = tq.chemistry.Molecule(geometry=geomstring, basis_set=basis_set,\n",
    "                              transformation=\"symmetry_conserving_bravyi_kitaev\")\n",
    "H = mol.make_hamiltonian()\n",
    "print(\"Symmetry conserving Bravyi-Kitaev\\n\", H)\n",
    "eigenValues = numpy.linalg.eigvalsh(H.to_matrix())\n",
    "print(\"lowest energy = \", eigenValues[0])\n",
    "\n",
    "# Symmetry "
   ]
  },
  {
   "cell_type": "markdown",
   "metadata": {},
   "source": [
    "## Setting active spaces\n",
    "\n",
    "You can define active spaces on your molcule by passing down a dictionary of active orbitals.  \n",
    "The orbitals are grouped into the irreducible representation of the underlying symmetry group (see the printout of `print(molecule)` above).\n",
    "\n",
    "Lets take the LiH molecule from above but initialize it with an active space containing the second two A1 orbitals (meaning the first 0A1 orbital is frozen) and the B1 orbital"
   ]
  },
  {
   "cell_type": "code",
   "execution_count": 6,
   "metadata": {},
   "outputs": [
    {
     "name": "stdout",
     "output_type": "stream",
     "text": [
      "There are known issues with some psi4 methods and frozen virtual orbitals. Proceed with fingers crossed for hf.\n",
      "Hamiltonian has 62 terms\n"
     ]
    }
   ],
   "source": [
    "import tequila as tq\n",
    "active_orbitals = {\"A1\":[1,2], \"B1\":[0]}\n",
    "molecule = tq.chemistry.Molecule(geometry = \"H 0.0 0.0 0.0\\nLi 0.0 0.0 1.6\", basis_set=\"sto-3g\", active_orbitals=active_orbitals)\n",
    "H = molecule.make_hamiltonian()\n",
    "print(\"Hamiltonian has {} terms\".format(len(H)))"
   ]
  },
  {
   "cell_type": "markdown",
   "metadata": {},
   "source": [
    "Lets make the active space even smaller, so that we can print out stuff in this tutorial"
   ]
  },
  {
   "cell_type": "code",
   "execution_count": 7,
   "metadata": {},
   "outputs": [
    {
     "name": "stdout",
     "output_type": "stream",
     "text": [
      "There are known issues with some psi4 methods and frozen virtual orbitals. Proceed with fingers crossed for hf.\n",
      "Hamiltonian has 15 terms\n",
      "-7.4711+0.1352Z(0)+0.1352Z(1)-0.0310Z(2)-0.0310Z(3)+0.1218Z(0)Z(1)+0.0059Y(0)X(1)X(2)Y(3)-0.0059Y(0)Y(1)X(2)X(3)-0.0059X(0)X(1)Y(2)Y(3)+0.0059X(0)Y(1)Y(2)X(3)+0.0617Z(0)Z(2)+0.0675Z(0)Z(3)+0.0675Z(1)Z(2)+0.0617Z(1)Z(3)+0.0782Z(2)Z(3)\n"
     ]
    }
   ],
   "source": [
    "import tequila as tq\n",
    "active_orbitals = {\"A1\":[1], \"B1\":[0]}\n",
    "molecule = tq.chemistry.Molecule(geometry = \"H 0.0 0.0 0.0\\nLi 0.0 0.0 1.6\", basis_set=\"sto-3g\", active_orbitals=active_orbitals)\n",
    "H = molecule.make_hamiltonian()\n",
    "print(\"Hamiltonian has {} terms\".format(len(H)))\n",
    "print(H)"
   ]
  },
  {
   "cell_type": "markdown",
   "metadata": {},
   "source": [
    "## Computing classical methods with Psi4\n",
    "\n",
    "We can use psi4 to compute the energies (and sometimes other quantities) with the `compute_energy` function.\n",
    "Here are some examples. Note that the energies are computed within the active space if one is set.\n",
    "\n",
    "Note also that not all active spaces can be represented by psi4 which will mean you can/should not use the classical psi4 methods with those (a warning will be printed). You will still get the right active space hamiltonian however.\n",
    "\n",
    "Active spaces which will not work for psi4 methds are the ones where the orbitals of individual irreps are not in one block ( e.g. {`\"A1\":[1,3]`} )"
   ]
  },
  {
   "cell_type": "code",
   "execution_count": 8,
   "metadata": {},
   "outputs": [
    {
     "name": "stdout",
     "output_type": "stream",
     "text": [
      "There are known issues with some psi4 methods and frozen virtual orbitals. Proceed with fingers crossed for hf.\n",
      "There are known issues with some psi4 methods and frozen virtual orbitals. Proceed with fingers crossed for mp2.\n",
      "There are known issues with some psi4 methods and frozen virtual orbitals. Proceed with fingers crossed for fci.\n",
      "{(1, 0, 1, 0): -0.026069395810974533, (2, 0, 2, 0): -0.026069395810972833}\n",
      "{(1, 0, 1, 0): -0.027418022914682542, (2, 0, 2, 0): -0.027418022914682535}\n"
     ]
    }
   ],
   "source": [
    "# YOU MIGHT HAVE TO RESTART THE JUPYTER KERNEL\n",
    "import tequila as tq\n",
    "active_orbitals = {\"A1\":[1], \"B1\":[0], \"B2\":[0]}\n",
    "molecule = tq.chemistry.Molecule(geometry = \"H 0.0 0.0 0.0\\nLi 0.0 0.0 1.6\", basis_set=\"sto-3g\", active_orbitals=active_orbitals)\n",
    "\n",
    "mp2 = molecule.compute_energy(method=\"mp2\")\n",
    "\n",
    "# Note there are known issues for some methods when the active space as frozen virtuals as is the case here\n",
    "# detci based methods are fine again \n",
    "fci = molecule.compute_energy(method=\"fci\")\n",
    "\n",
    "# for most coupled-cluster like models you can compute amplitudes\n",
    "# Amplitudes are computed in c1 and in the full space, this is why the active space troubles from above usually don't hold\n",
    "# Note that amplitudes are in closed-shell\n",
    "amplitudes = molecule.compute_amplitudes(\"mp2\")\n",
    "\n",
    "# you can export a parameter dictionary which holds the indices of the amplitude as keys and values as values\n",
    "# for this small active space that is only one amplitude for mp2\n",
    "variables = amplitudes.make_parameter_dictionary()\n",
    "print(variables)\n",
    "\n",
    "# similar for ccsd since the singles are 0 due to symmetry (that changes if you change the active space)\n",
    "amplitudes = molecule.compute_amplitudes(\"ccsd\")\n",
    "variables = amplitudes.make_parameter_dictionary()\n",
    "print(variables)"
   ]
  },
  {
   "cell_type": "markdown",
   "metadata": {},
   "source": [
    "## Hello World \"H2\" optimization with LiH in an active space"
   ]
  },
  {
   "cell_type": "markdown",
   "metadata": {},
   "source": [
    "Lets do a small hand-constructed VQE like it would be done for the Hydrogen molecule in STO-3G, just that we use our active space LiH molecule from the cell above.\n",
    "For consistency reasons we initialize everything again.  \n",
    "\n",
    "Check the `BasicUsage` and `SciPyOptimizers` tutorial notebooks for more information about then"
   ]
  },
  {
   "cell_type": "code",
   "execution_count": 9,
   "metadata": {},
   "outputs": [
    {
     "name": "stdout",
     "output_type": "stream",
     "text": [
      "There are known issues with some psi4 methods and frozen virtual orbitals. Proceed with fingers crossed for hf.\n",
      "Optimizer: <class 'tequila.optimizers.optimizer_scipy.OptimizerSciPy'> \n",
      "backend         : qulacs\n",
      "device          : None\n",
      "samples         : None\n",
      "save_history    : True\n",
      "noise           : None\n",
      "\n",
      "Method          : BFGS\n",
      "Objective       : 1 expectationvalues\n",
      "gradient        : 2 expectationvalues\n",
      "\n",
      "active variables : 1\n",
      "\n",
      "E=-7.19702401  angles= {a: 0.0}  samples= None\n",
      "E=-7.19766373  angles= {a: -0.0234220027923584}  samples= None\n",
      "E=-7.20203763  angles= {a: -0.11711001396179199}  samples= None\n",
      "E=-7.24749228  angles= {a: -0.49186205863952637}  samples= None\n",
      "E=-7.68640044  angles= {a: -1.9908702373504639}  samples= None\n",
      "E=-7.59671569  angles= {a: -7.986902952194214}  samples= None\n",
      "E=-7.86212174  angles= {a: -3.129600457337474}  samples= None\n",
      "E=-7.59889693  angles= {a: -1.7104055550334691}  samples= None\n",
      "E=-7.86268191  angles= {a: -3.0777237637496633}  samples= None\n",
      "E=-7.86268890  angles= {a: -3.0712456201159126}  samples= None\n",
      "Optimization terminated successfully.\n",
      "         Current function value: -7.862689\n",
      "         Iterations: 3\n",
      "         Function evaluations: 10\n",
      "         Gradient evaluations: 10\n",
      "There are known issues with some psi4 methods and frozen virtual orbitals. Proceed with fingers crossed for fci.\n",
      "VQE : -7.8626889f\n",
      "FCI : -7.8626889f\n"
     ]
    }
   ],
   "source": [
    "import tequila as tq\n",
    "# define the active space\n",
    "active_orbitals = {\"A1\":[1], \"B1\":[0]}\n",
    "\n",
    "# define the molecule\n",
    "molecule = tq.chemistry.Molecule(geometry = \"H 0.0 0.0 0.0\\nLi 0.0 0.0 1.6\", basis_set=\"sto-3g\", active_orbitals=active_orbitals)\n",
    "\n",
    "# make the hamiltonian\n",
    "H = molecule.make_hamiltonian()\n",
    "\n",
    "# define a hand designed circuit\n",
    "U = tq.gates.Ry(angle=\"a\", target=0) + tq.gates.X(target=[2,3])\n",
    "U += tq.gates.X(target=1, control=0)\n",
    "U += tq.gates.X(target=2, control=0)\n",
    "U += tq.gates.X(target=3, control=1)\n",
    "\n",
    "# define the expectationvalue\n",
    "E = tq.ExpectationValue(H=H, U=U)\n",
    "\n",
    "# optimize\n",
    "result = tq.minimize(objective=E, method=\"BFGS\", initial_values={k:0.0 for k in E.extract_variables()})\n",
    "\n",
    "# compute a reference value with psi4\n",
    "fci = molecule.compute_energy(method=\"fci\")\n",
    "\n",
    "print(\"VQE : {:+2.8}f\".format(result.energy))\n",
    "print(\"FCI : {:+2.8}f\".format(fci))\n"
   ]
  },
  {
   "cell_type": "code",
   "execution_count": 10,
   "metadata": {},
   "outputs": [
    {
     "data": {
      "image/png": "[encoded data removed]",
      "text/plain": [
       "<Figure size 432x288 with 1 Axes>"
      ]
     },
     "metadata": {
      "needs_background": "light"
     },
     "output_type": "display_data"
    }
   ],
   "source": [
    "# some more information from the optimization\n",
    "result.history.plot(\"energies\", baselines={\"fci\":fci})"
   ]
  },
  {
   "cell_type": "markdown",
   "metadata": {},
   "source": [
    "## Unitary Coupled-Cluster Style Construction\n",
    "\n",
    "Here we show how to initialize in the style of unitary coupled-cluster.  \n",
    "In this example we are gonna compute the `mp2` amplitudes and build a UCC type circuit from them.  \n",
    "Here we use the cc2 amplitudes only to define an order on the trotterized gates and remove small amplitudes as classical prescreening.\n",
    "\n",
    "We use again an active space to make the computation fast.\n",
    "\n",
    "First we start with the manual construction and then show how to use in build convenience functions of tequila to.\n",
    "\n",
    "An important function is the `make_excitation_generator` function of the molecule.  \n",
    "This initializes a `QubitHamiltonian` which can be used to define a unitary gate which acts as excitation operation of electrons.\n",
    "\n",
    "$$\\displaystyle\n",
    "U(\\theta) = e^{-i\\frac{\\theta}{2} G_{iajbkc\\dots}}\n",
    "$$\n",
    "\n",
    "In fermionic language the generator is defined as\n",
    "\n",
    "$$\n",
    "G_{ia,jb,jc,\\dots} =  i ( a^\\dagger_a a_i a^\\dagger_b a_j a^\\dagger_c a_k \\dots - h.c. )\n",
    "$$\n",
    "\n",
    "The `make_excitation_generator` function gives back this generator in the qubit representation (depends on the chosen `transformation` of the molecule) and takes the indices as list of tuples  \n",
    "  \n",
    "$$\n",
    "\\text{make_excitation_generator(indices=[(a,i),(b,j),...])} = G_{ia,jb,jc,\\dots}\n",
    "$$"
   ]
  },
  {
   "cell_type": "markdown",
   "metadata": {},
   "source": [
    "### Manual Construction"
   ]
  },
  {
   "cell_type": "code",
   "execution_count": 11,
   "metadata": {},
   "outputs": [
    {
     "name": "stdout",
     "output_type": "stream",
     "text": [
      "There are known issues with some psi4 methods and frozen virtual orbitals. Proceed with fingers crossed for hf.\n",
      "{(1, 0, 1, 0): -0.026069395810974533}\n",
      "Optimizer: <class 'tequila.optimizers.optimizer_scipy.OptimizerSciPy'> \n",
      "backend         : qulacs\n",
      "device          : None\n",
      "samples         : None\n",
      "save_history    : True\n",
      "noise           : None\n",
      "\n",
      "Method          : BFGS\n",
      "Objective       : 1 expectationvalues\n",
      "gradient        : 16 expectationvalues\n",
      "\n",
      "active variables : 1\n",
      "\n",
      "E=-7.86186477  angles= {a: 0.0}  samples= None\n",
      "E=-7.86259809  angles= {a: -0.0468440055847168}  samples= None\n",
      "E=-7.86268890  angles= {a: -0.03516504106977361}  samples= None\n",
      "Optimization terminated successfully.\n",
      "         Current function value: -7.862689\n",
      "         Iterations: 2\n",
      "         Function evaluations: 3\n",
      "         Gradient evaluations: 3\n",
      "There are known issues with some psi4 methods and frozen virtual orbitals. Proceed with fingers crossed for fci.\n",
      "VQE : -7.8626889f\n",
      "FCI : -7.8626889f\n"
     ]
    }
   ],
   "source": [
    "# YOU MIGHT HAVE TO RESTART THE JUPYTER KERNEL\n",
    "import tequila as tq\n",
    "threshold = 1.e-6\n",
    "\n",
    "# define the active space\n",
    "active_orbitals = {\"A1\":[1], \"B1\":[0]}\n",
    "\n",
    "# define the molecule\n",
    "molecule = tq.chemistry.Molecule(geometry = \"H 0.0 0.0 0.0\\nLi 0.0 0.0 1.6\", basis_set=\"sto-3g\", active_orbitals=active_orbitals)\n",
    "\n",
    "# make the hamiltonian\n",
    "H = molecule.make_hamiltonian()\n",
    "\n",
    "# compute classical amplitudes\n",
    "amplitudes = molecule.compute_amplitudes(method=\"mp2\")\n",
    "\n",
    "# in this example there is only one closed-shell MP2 amplitude, therefore manual construction is reasonable in this tutorial\n",
    "# first we make a dictionary out of the non-zero MP2 amplitudes\n",
    "ampdict = amplitudes.make_parameter_dictionary(threshold=threshold)\n",
    "print(ampdict)\n",
    "# lets get the indices of the only amplitude which is there manually\n",
    "indices = list(ampdict.keys())[0]\n",
    "\n",
    "# the (1, 0, 1, 0) index in closed shell leads to the (2, 0, 3, 1) and (3, 1, 2, 0) excitations on the qubits\n",
    "# but first we need to initialize the hartree fock state\n",
    "U = molecule.prepare_reference()\n",
    "\n",
    "# now add the two 2-electron excitations \n",
    "# for this we define the generators and build trotterized gates with them\n",
    "# note that the two generators are actually the same\n",
    "# we sum them up since we want to parametrize them with the same variable which we will call \"a\"\n",
    "generator = molecule.make_excitation_generator(indices=[(3, 1),(2, 0)]) + molecule.make_excitation_generator(indices=[(3, 1),(2, 0)])\n",
    "U += tq.gates.Trotterized(generators=[generator], angles=[\"a\"], steps=1)\n",
    "\n",
    "# define the expectationvalue\n",
    "E = tq.ExpectationValue(H=H, U=U)\n",
    "\n",
    "# optimize\n",
    "result = tq.minimize(objective=E, method=\"BFGS\", initial_values={k:0.0 for k in E.extract_variables()})\n",
    "\n",
    "# compute a reference value with psi4\n",
    "fci = molecule.compute_energy(method=\"fci\")\n",
    "print(\"VQE : {:+2.8}f\".format(result.energy))\n",
    "print(\"FCI : {:+2.8}f\".format(fci))\n",
    "\n"
   ]
  },
  {
   "cell_type": "markdown",
   "metadata": {},
   "source": [
    "### Automatic Construction"
   ]
  },
  {
   "cell_type": "code",
   "execution_count": 12,
   "metadata": {},
   "outputs": [
    {
     "name": "stdout",
     "output_type": "stream",
     "text": [
      "There are known issues with some psi4 methods and frozen virtual orbitals. Proceed with fingers crossed for hf.\n",
      "Optimizer: <class 'tequila.optimizers.optimizer_scipy.OptimizerSciPy'> \n",
      "backend         : qulacs\n",
      "device          : None\n",
      "samples         : None\n",
      "save_history    : True\n",
      "noise           : None\n",
      "\n",
      "Method          : BFGS\n",
      "Objective       : 1 expectationvalues\n",
      "gradient        : 32 expectationvalues\n",
      "\n",
      "active variables : 1\n",
      "\n",
      "E=-7.86186477  angles= {(1, 0, 1, 0): 0.0}  samples= None\n",
      "E=-7.86259809  angles= {(1, 0, 1, 0): -0.0468440055847168}  samples= None\n",
      "E=-7.86268890  angles= {(1, 0, 1, 0): -0.03516504106977361}  samples= None\n",
      "Optimization terminated successfully.\n",
      "         Current function value: -7.862689\n",
      "         Iterations: 2\n",
      "         Function evaluations: 3\n",
      "         Gradient evaluations: 3\n",
      "There are known issues with some psi4 methods and frozen virtual orbitals. Proceed with fingers crossed for fci.\n",
      "VQE : -7.8626889f\n",
      "FCI : -7.8626889f\n"
     ]
    }
   ],
   "source": [
    "# YOU MIGHT HAVE TO RESTART THE JUPYTER KERNEL\n",
    "import tequila as tq\n",
    "threshold = 1.e-6\n",
    "\n",
    "# define the active space\n",
    "active_orbitals = {\"A1\":[1], \"B1\":[0]}\n",
    "\n",
    "# define the molecule\n",
    "molecule = tq.chemistry.Molecule(geometry = \"H 0.0 0.0 0.0\\nLi 0.0 0.0 1.6\", basis_set=\"sto-3g\", active_orbitals=active_orbitals)\n",
    "\n",
    "# make the hamiltonian\n",
    "H = molecule.make_hamiltonian()\n",
    "\n",
    "# make the UCCSD ansatz (note that this will be without singles since it starts from mp2)\n",
    "U = molecule.make_uccsd_ansatz(initial_amplitudes=\"mp2\", threshold=threshold, trotter_steps=1)\n",
    "\n",
    "# define the expectationvalue\n",
    "E = tq.ExpectationValue(H=H, U=U)\n",
    "\n",
    "# optimize\n",
    "result = tq.minimize(objective=E, method=\"BFGS\", initial_values={k:0.0 for k in E.extract_variables()})\n",
    "\n",
    "# compute a reference value with psi4\n",
    "fci = molecule.compute_energy(method=\"fci\")\n",
    "\n",
    "print(\"VQE : {:+2.8}f\".format(result.energy))\n",
    "print(\"FCI : {:+2.8}f\".format(fci))\n",
    "    \n",
    "    "
   ]
  },
  {
   "cell_type": "markdown",
   "metadata": {},
   "source": [
    "### Pi System of Benzene\n",
    "Lets repeat the last cell with the pi system of the benzene molecule"
   ]
  },
  {
   "cell_type": "code",
   "execution_count": 13,
   "metadata": {},
   "outputs": [
    {
     "name": "stdout",
     "output_type": "stream",
     "text": [
      "There are known issues with some psi4 methods and frozen virtual orbitals. Proceed with fingers crossed for hf.\n",
      "There are known issues with some psi4 methods and frozen virtual orbitals. Proceed with fingers crossed for fci.\n",
      "There are known issues with some psi4 methods and frozen virtual orbitals. Proceed with fingers crossed for detci.\n",
      "Optimizer: <class 'tequila.optimizers.optimizer_scipy.OptimizerSciPy'> \n",
      "backend         : qulacs\n",
      "device          : None\n",
      "samples         : None\n",
      "save_history    : True\n",
      "noise           : None\n",
      "\n",
      "Method          : BFGS\n",
      "Objective       : 1 expectationvalues\n",
      "grad instr      : 2-point\n",
      "gradient        : scipy numerical 2-point\n",
      "hessian         : scipy numerical None\n",
      "\n",
      "active variables : 22\n",
      "\n",
      "E=-227.88792153  angles= {(3, 0, 5, 2): 0.0, (3, 2, 5, 0): 0.0, (5, 2, 5, 2): 0.0, (4, 2, 3, 1): 0.0, (4, 0): 0.0, (5, 0, 5, 0): 0.0, (3, 1, 3, 1): 0.0, (3, 1, 4, 2): 0.0, (4, 1, 5, 0): 0.0, (3, 2, 4, 1): 0.0, (5, 1, 4, 0): 0.0, (5, 0, 4, 1): 0.0, (5, 0, 3, 2): 0.0, (4, 0, 4, 0): 0.0, (5, 2, 3, 0): 0.0, (4, 1, 4, 1): 0.0, (4, 2, 4, 2): 0.0, (3, 2, 3, 2): 0.0, (4, 1, 3, 2): 0.0, (3, 0, 3, 0): 0.0, (5, 1, 5, 1): 0.0, (4, 0, 5, 1): 0.0}  samples= None\n",
      "E=-227.88791111  angles= {(3, 0, 5, 2): 0.0001, (3, 2, 5, 0): 0.0, (5, 2, 5, 2): 0.0, (4, 2, 3, 1): 0.0, (4, 0): 0.0, (5, 0, 5, 0): 0.0, (3, 1, 3, 1): 0.0, (3, 1, 4, 2): 0.0, (4, 1, 5, 0): 0.0, (3, 2, 4, 1): 0.0, (5, 1, 4, 0): 0.0, (5, 0, 4, 1): 0.0, (5, 0, 3, 2): 0.0, (4, 0, 4, 0): 0.0, (5, 2, 3, 0): 0.0, (4, 1, 4, 1): 0.0, (4, 2, 4, 2): 0.0, (3, 2, 3, 2): 0.0, (4, 1, 3, 2): 0.0, (3, 0, 3, 0): 0.0, (5, 1, 5, 1): 0.0, (4, 0, 5, 1): 0.0}  samples= None\n",
      "E=-227.88793406  angles= {(3, 0, 5, 2): 0.0, (3, 2, 5, 0): 0.0001, (5, 2, 5, 2): 0.0, (4, 2, 3, 1): 0.0, (4, 0): 0.0, (5, 0, 5, 0): 0.0, (3, 1, 3, 1): 0.0, (3, 1, 4, 2): 0.0, (4, 1, 5, 0): 0.0, (3, 2, 4, 1): 0.0, (5, 1, 4, 0): 0.0, (5, 0, 4, 1): 0.0, (5, 0, 3, 2): 0.0, (4, 0, 4, 0): 0.0, (5, 2, 3, 0): 0.0, (4, 1, 4, 1): 0.0, (4, 2, 4, 2): 0.0, (3, 2, 3, 2): 0.0, (4, 1, 3, 2): 0.0, (3, 0, 3, 0): 0.0, (5, 1, 5, 1): 0.0, (4, 0, 5, 1): 0.0}  samples= None\n",
      "E=-227.88791284  angles= {(3, 0, 5, 2): 0.0, (3, 2, 5, 0): 0.0, (5, 2, 5, 2): 0.0001, (4, 2, 3, 1): 0.0, (4, 0): 0.0, (5, 0, 5, 0): 0.0, (3, 1, 3, 1): 0.0, (3, 1, 4, 2): 0.0, (4, 1, 5, 0): 0.0, (3, 2, 4, 1): 0.0, (5, 1, 4, 0): 0.0, (5, 0, 4, 1): 0.0, (5, 0, 3, 2): 0.0, (4, 0, 4, 0): 0.0, (5, 2, 3, 0): 0.0, (4, 1, 4, 1): 0.0, (4, 2, 4, 2): 0.0, (3, 2, 3, 2): 0.0, (4, 1, 3, 2): 0.0, (3, 0, 3, 0): 0.0, (5, 1, 5, 1): 0.0, (4, 0, 5, 1): 0.0}  samples= None\n",
      "E=-227.88791909  angles= {(3, 0, 5, 2): 0.0, (3, 2, 5, 0): 0.0, (5, 2, 5, 2): 0.0, (4, 2, 3, 1): 0.0001, (4, 0): 0.0, (5, 0, 5, 0): 0.0, (3, 1, 3, 1): 0.0, (3, 1, 4, 2): 0.0, (4, 1, 5, 0): 0.0, (3, 2, 4, 1): 0.0, (5, 1, 4, 0): 0.0, (5, 0, 4, 1): 0.0, (5, 0, 3, 2): 0.0, (4, 0, 4, 0): 0.0, (5, 2, 3, 0): 0.0, (4, 1, 4, 1): 0.0, (4, 2, 4, 2): 0.0, (3, 2, 3, 2): 0.0, (4, 1, 3, 2): 0.0, (3, 0, 3, 0): 0.0, (5, 1, 5, 1): 0.0, (4, 0, 5, 1): 0.0}  samples= None\n",
      "E=-227.88793195  angles= {(3, 0, 5, 2): 0.0, (3, 2, 5, 0): 0.0, (5, 2, 5, 2): 0.0, (4, 2, 3, 1): 0.0, (4, 0): 0.0001, (5, 0, 5, 0): 0.0, (3, 1, 3, 1): 0.0, (3, 1, 4, 2): 0.0, (4, 1, 5, 0): 0.0, (3, 2, 4, 1): 0.0, (5, 1, 4, 0): 0.0, (5, 0, 4, 1): 0.0, (5, 0, 3, 2): 0.0, (4, 0, 4, 0): 0.0, (5, 2, 3, 0): 0.0, (4, 1, 4, 1): 0.0, (4, 2, 4, 2): 0.0, (3, 2, 3, 2): 0.0, (4, 1, 3, 2): 0.0, (3, 0, 3, 0): 0.0, (5, 1, 5, 1): 0.0, (4, 0, 5, 1): 0.0}  samples= None\n",
      "E=-227.88793019  angles= {(3, 0, 5, 2): 0.0, (3, 2, 5, 0): 0.0, (5, 2, 5, 2): 0.0, (4, 2, 3, 1): 0.0, (4, 0): 0.0, (5, 0, 5, 0): 0.0001, (3, 1, 3, 1): 0.0, (3, 1, 4, 2): 0.0, (4, 1, 5, 0): 0.0, (3, 2, 4, 1): 0.0, (5, 1, 4, 0): 0.0, (5, 0, 4, 1): 0.0, (5, 0, 3, 2): 0.0, (4, 0, 4, 0): 0.0, (5, 2, 3, 0): 0.0, (4, 1, 4, 1): 0.0, (4, 2, 4, 2): 0.0, (3, 2, 3, 2): 0.0, (4, 1, 3, 2): 0.0, (3, 0, 3, 0): 0.0, (5, 1, 5, 1): 0.0, (4, 0, 5, 1): 0.0}  samples= None\n",
      "E=-227.88791043  angles= {(3, 0, 5, 2): 0.0, (3, 2, 5, 0): 0.0, (5, 2, 5, 2): 0.0, (4, 2, 3, 1): 0.0, (4, 0): 0.0, (5, 0, 5, 0): 0.0, (3, 1, 3, 1): 0.0001, (3, 1, 4, 2): 0.0, (4, 1, 5, 0): 0.0, (3, 2, 4, 1): 0.0, (5, 1, 4, 0): 0.0, (5, 0, 4, 1): 0.0, (5, 0, 3, 2): 0.0, (4, 0, 4, 0): 0.0, (5, 2, 3, 0): 0.0, (4, 1, 4, 1): 0.0, (4, 2, 4, 2): 0.0, (3, 2, 3, 2): 0.0, (4, 1, 3, 2): 0.0, (3, 0, 3, 0): 0.0, (5, 1, 5, 1): 0.0, (4, 0, 5, 1): 0.0}  samples= None\n",
      "E=-227.88791909  angles= {(3, 0, 5, 2): 0.0, (3, 2, 5, 0): 0.0, (5, 2, 5, 2): 0.0, (4, 2, 3, 1): 0.0, (4, 0): 0.0, (5, 0, 5, 0): 0.0, (3, 1, 3, 1): 0.0, (3, 1, 4, 2): 0.0001, (4, 1, 5, 0): 0.0, (3, 2, 4, 1): 0.0, (5, 1, 4, 0): 0.0, (5, 0, 4, 1): 0.0, (5, 0, 3, 2): 0.0, (4, 0, 4, 0): 0.0, (5, 2, 3, 0): 0.0, (4, 1, 4, 1): 0.0, (4, 2, 4, 2): 0.0, (3, 2, 3, 2): 0.0, (4, 1, 3, 2): 0.0, (3, 0, 3, 0): 0.0, (5, 1, 5, 1): 0.0, (4, 0, 5, 1): 0.0}  samples= None\n",
      "E=-227.88792531  angles= {(3, 0, 5, 2): 0.0, (3, 2, 5, 0): 0.0, (5, 2, 5, 2): 0.0, (4, 2, 3, 1): 0.0, (4, 0): 0.0, (5, 0, 5, 0): 0.0, (3, 1, 3, 1): 0.0, (3, 1, 4, 2): 0.0, (4, 1, 5, 0): 0.0001, (3, 2, 4, 1): 0.0, (5, 1, 4, 0): 0.0, (5, 0, 4, 1): 0.0, (5, 0, 3, 2): 0.0, (4, 0, 4, 0): 0.0, (5, 2, 3, 0): 0.0, (4, 1, 4, 1): 0.0, (4, 2, 4, 2): 0.0, (3, 2, 3, 2): 0.0, (4, 1, 3, 2): 0.0, (3, 0, 3, 0): 0.0, (5, 1, 5, 1): 0.0, (4, 0, 5, 1): 0.0}  samples= None\n",
      "E=-227.88793505  angles= {(3, 0, 5, 2): 0.0, (3, 2, 5, 0): 0.0, (5, 2, 5, 2): 0.0, (4, 2, 3, 1): 0.0, (4, 0): 0.0, (5, 0, 5, 0): 0.0, (3, 1, 3, 1): 0.0, (3, 1, 4, 2): 0.0, (4, 1, 5, 0): 0.0, (3, 2, 4, 1): 0.0001, (5, 1, 4, 0): 0.0, (5, 0, 4, 1): 0.0, (5, 0, 3, 2): 0.0, (4, 0, 4, 0): 0.0, (5, 2, 3, 0): 0.0, (4, 1, 4, 1): 0.0, (4, 2, 4, 2): 0.0, (3, 2, 3, 2): 0.0, (4, 1, 3, 2): 0.0, (3, 0, 3, 0): 0.0, (5, 1, 5, 1): 0.0, (4, 0, 5, 1): 0.0}  samples= None\n",
      "E=-227.88791773  angles= {(3, 0, 5, 2): 0.0, (3, 2, 5, 0): 0.0, (5, 2, 5, 2): 0.0, (4, 2, 3, 1): 0.0, (4, 0): 0.0, (5, 0, 5, 0): 0.0, (3, 1, 3, 1): 0.0, (3, 1, 4, 2): 0.0, (4, 1, 5, 0): 0.0, (3, 2, 4, 1): 0.0, (5, 1, 4, 0): 0.0001, (5, 0, 4, 1): 0.0, (5, 0, 3, 2): 0.0, (4, 0, 4, 0): 0.0, (5, 2, 3, 0): 0.0, (4, 1, 4, 1): 0.0, (4, 2, 4, 2): 0.0, (3, 2, 3, 2): 0.0, (4, 1, 3, 2): 0.0, (3, 0, 3, 0): 0.0, (5, 1, 5, 1): 0.0, (4, 0, 5, 1): 0.0}  samples= None\n",
      "E=-227.88790656  angles= {(3, 0, 5, 2): 0.0, (3, 2, 5, 0): 0.0, (5, 2, 5, 2): 0.0, (4, 2, 3, 1): 0.0, (4, 0): 0.0, (5, 0, 5, 0): 0.0, (3, 1, 3, 1): 0.0, (3, 1, 4, 2): 0.0, (4, 1, 5, 0): 0.0, (3, 2, 4, 1): 0.0, (5, 1, 4, 0): 0.0, (5, 0, 4, 1): 0.0001, (5, 0, 3, 2): 0.0, (4, 0, 4, 0): 0.0, (5, 2, 3, 0): 0.0, (4, 1, 4, 1): 0.0, (4, 2, 4, 2): 0.0, (3, 2, 3, 2): 0.0, (4, 1, 3, 2): 0.0, (3, 0, 3, 0): 0.0, (5, 1, 5, 1): 0.0, (4, 0, 5, 1): 0.0}  samples= None\n",
      "E=-227.88794447  angles= {(3, 0, 5, 2): 0.0, (3, 2, 5, 0): 0.0, (5, 2, 5, 2): 0.0, (4, 2, 3, 1): 0.0, (4, 0): 0.0, (5, 0, 5, 0): 0.0, (3, 1, 3, 1): 0.0, (3, 1, 4, 2): 0.0, (4, 1, 5, 0): 0.0, (3, 2, 4, 1): 0.0, (5, 1, 4, 0): 0.0, (5, 0, 4, 1): 0.0, (5, 0, 3, 2): 0.0001, (4, 0, 4, 0): 0.0, (5, 2, 3, 0): 0.0, (4, 1, 4, 1): 0.0, (4, 2, 4, 2): 0.0, (3, 2, 3, 2): 0.0, (4, 1, 3, 2): 0.0, (3, 0, 3, 0): 0.0, (5, 1, 5, 1): 0.0, (4, 0, 5, 1): 0.0}  samples= None\n",
      "E=-227.88791012  angles= {(3, 0, 5, 2): 0.0, (3, 2, 5, 0): 0.0, (5, 2, 5, 2): 0.0, (4, 2, 3, 1): 0.0, (4, 0): 0.0, (5, 0, 5, 0): 0.0, (3, 1, 3, 1): 0.0, (3, 1, 4, 2): 0.0, (4, 1, 5, 0): 0.0, (3, 2, 4, 1): 0.0, (5, 1, 4, 0): 0.0, (5, 0, 4, 1): 0.0, (5, 0, 3, 2): 0.0, (4, 0, 4, 0): 0.0001, (5, 2, 3, 0): 0.0, (4, 1, 4, 1): 0.0, (4, 2, 4, 2): 0.0, (3, 2, 3, 2): 0.0, (4, 1, 3, 2): 0.0, (3, 0, 3, 0): 0.0, (5, 1, 5, 1): 0.0, (4, 0, 5, 1): 0.0}  samples= None\n",
      "E=-227.88792153  angles= {(3, 0, 5, 2): 0.0, (3, 2, 5, 0): 0.0, (5, 2, 5, 2): 0.0, (4, 2, 3, 1): 0.0, (4, 0): 0.0, (5, 0, 5, 0): 0.0, (3, 1, 3, 1): 0.0, (3, 1, 4, 2): 0.0, (4, 1, 5, 0): 0.0, (3, 2, 4, 1): 0.0, (5, 1, 4, 0): 0.0, (5, 0, 4, 1): 0.0, (5, 0, 3, 2): 0.0, (4, 0, 4, 0): 0.0, (5, 2, 3, 0): 0.0001, (4, 1, 4, 1): 0.0, (4, 2, 4, 2): 0.0, (3, 2, 3, 2): 0.0, (4, 1, 3, 2): 0.0, (3, 0, 3, 0): 0.0, (5, 1, 5, 1): 0.0, (4, 0, 5, 1): 0.0}  samples= None\n",
      "E=-227.88791044  angles= {(3, 0, 5, 2): 0.0, (3, 2, 5, 0): 0.0, (5, 2, 5, 2): 0.0, (4, 2, 3, 1): 0.0, (4, 0): 0.0, (5, 0, 5, 0): 0.0, (3, 1, 3, 1): 0.0, (3, 1, 4, 2): 0.0, (4, 1, 5, 0): 0.0, (3, 2, 4, 1): 0.0, (5, 1, 4, 0): 0.0, (5, 0, 4, 1): 0.0, (5, 0, 3, 2): 0.0, (4, 0, 4, 0): 0.0, (5, 2, 3, 0): 0.0, (4, 1, 4, 1): 0.0001, (4, 2, 4, 2): 0.0, (3, 2, 3, 2): 0.0, (4, 1, 3, 2): 0.0, (3, 0, 3, 0): 0.0, (5, 1, 5, 1): 0.0, (4, 0, 5, 1): 0.0}  samples= None\n"
     ]
    },
    {
     "name": "stdout",
     "output_type": "stream",
     "text": [
      "E=-227.88791035  angles= {(3, 0, 5, 2): 0.0, (3, 2, 5, 0): 0.0, (5, 2, 5, 2): 0.0, (4, 2, 3, 1): 0.0, (4, 0): 0.0, (5, 0, 5, 0): 0.0, (3, 1, 3, 1): 0.0, (3, 1, 4, 2): 0.0, (4, 1, 5, 0): 0.0, (3, 2, 4, 1): 0.0, (5, 1, 4, 0): 0.0, (5, 0, 4, 1): 0.0, (5, 0, 3, 2): 0.0, (4, 0, 4, 0): 0.0, (5, 2, 3, 0): 0.0, (4, 1, 4, 1): 0.0, (4, 2, 4, 2): 0.0001, (3, 2, 3, 2): 0.0, (4, 1, 3, 2): 0.0, (3, 0, 3, 0): 0.0, (5, 1, 5, 1): 0.0, (4, 0, 5, 1): 0.0}  samples= None\n",
      "E=-227.88790213  angles= {(3, 0, 5, 2): 0.0, (3, 2, 5, 0): 0.0, (5, 2, 5, 2): 0.0, (4, 2, 3, 1): 0.0, (4, 0): 0.0, (5, 0, 5, 0): 0.0, (3, 1, 3, 1): 0.0, (3, 1, 4, 2): 0.0, (4, 1, 5, 0): 0.0, (3, 2, 4, 1): 0.0, (5, 1, 4, 0): 0.0, (5, 0, 4, 1): 0.0, (5, 0, 3, 2): 0.0, (4, 0, 4, 0): 0.0, (5, 2, 3, 0): 0.0, (4, 1, 4, 1): 0.0, (4, 2, 4, 2): 0.0, (3, 2, 3, 2): 0.0001, (4, 1, 3, 2): 0.0, (3, 0, 3, 0): 0.0, (5, 1, 5, 1): 0.0, (4, 0, 5, 1): 0.0}  samples= None\n",
      "E=-227.88793505  angles= {(3, 0, 5, 2): 0.0, (3, 2, 5, 0): 0.0, (5, 2, 5, 2): 0.0, (4, 2, 3, 1): 0.0, (4, 0): 0.0, (5, 0, 5, 0): 0.0, (3, 1, 3, 1): 0.0, (3, 1, 4, 2): 0.0, (4, 1, 5, 0): 0.0, (3, 2, 4, 1): 0.0, (5, 1, 4, 0): 0.0, (5, 0, 4, 1): 0.0, (5, 0, 3, 2): 0.0, (4, 0, 4, 0): 0.0, (5, 2, 3, 0): 0.0, (4, 1, 4, 1): 0.0, (4, 2, 4, 2): 0.0, (3, 2, 3, 2): 0.0, (4, 1, 3, 2): 0.0001, (3, 0, 3, 0): 0.0, (5, 1, 5, 1): 0.0, (4, 0, 5, 1): 0.0}  samples= None\n",
      "E=-227.88791043  angles= {(3, 0, 5, 2): 0.0, (3, 2, 5, 0): 0.0, (5, 2, 5, 2): 0.0, (4, 2, 3, 1): 0.0, (4, 0): 0.0, (5, 0, 5, 0): 0.0, (3, 1, 3, 1): 0.0, (3, 1, 4, 2): 0.0, (4, 1, 5, 0): 0.0, (3, 2, 4, 1): 0.0, (5, 1, 4, 0): 0.0, (5, 0, 4, 1): 0.0, (5, 0, 3, 2): 0.0, (4, 0, 4, 0): 0.0, (5, 2, 3, 0): 0.0, (4, 1, 4, 1): 0.0, (4, 2, 4, 2): 0.0, (3, 2, 3, 2): 0.0, (4, 1, 3, 2): 0.0, (3, 0, 3, 0): 0.0001, (5, 1, 5, 1): 0.0, (4, 0, 5, 1): 0.0}  samples= None\n",
      "E=-227.88790900  angles= {(3, 0, 5, 2): 0.0, (3, 2, 5, 0): 0.0, (5, 2, 5, 2): 0.0, (4, 2, 3, 1): 0.0, (4, 0): 0.0, (5, 0, 5, 0): 0.0, (3, 1, 3, 1): 0.0, (3, 1, 4, 2): 0.0, (4, 1, 5, 0): 0.0, (3, 2, 4, 1): 0.0, (5, 1, 4, 0): 0.0, (5, 0, 4, 1): 0.0, (5, 0, 3, 2): 0.0, (4, 0, 4, 0): 0.0, (5, 2, 3, 0): 0.0, (4, 1, 4, 1): 0.0, (4, 2, 4, 2): 0.0, (3, 2, 3, 2): 0.0, (4, 1, 3, 2): 0.0, (3, 0, 3, 0): 0.0, (5, 1, 5, 1): 0.0001, (4, 0, 5, 1): 0.0}  samples= None\n",
      "E=-227.88791529  angles= {(3, 0, 5, 2): 0.0, (3, 2, 5, 0): 0.0, (5, 2, 5, 2): 0.0, (4, 2, 3, 1): 0.0, (4, 0): 0.0, (5, 0, 5, 0): 0.0, (3, 1, 3, 1): 0.0, (3, 1, 4, 2): 0.0, (4, 1, 5, 0): 0.0, (3, 2, 4, 1): 0.0, (5, 1, 4, 0): 0.0, (5, 0, 4, 1): 0.0, (5, 0, 3, 2): 0.0, (4, 0, 4, 0): 0.0, (5, 2, 3, 0): 0.0, (4, 1, 4, 1): 0.0, (4, 2, 4, 2): 0.0, (3, 2, 3, 2): 0.0, (4, 1, 3, 2): 0.0, (3, 0, 3, 0): 0.0, (5, 1, 5, 1): 0.0, (4, 0, 5, 1): 0.0001}  samples= None\n",
      "E=-227.84650013  angles= {(3, 0, 5, 2): -0.10423584456020762, (3, 2, 5, 0): 0.12522737051767763, (5, 2, 5, 2): -0.08691631734336625, (4, 2, 3, 1): -0.0243922156073495, (4, 0): 0.10418686713364878, (5, 0, 5, 0): 0.08656892617864287, (3, 1, 3, 1): -0.11101510665412206, (3, 1, 4, 2): -0.0243922156073495, (4, 1, 5, 0): 0.037779568344831205, (3, 2, 4, 1): 0.13521545184858041, (5, 1, 4, 0): -0.038071095502800745, (5, 0, 4, 1): -0.14969599419600854, (5, 0, 3, 2): 0.22940315886899043, (4, 0, 4, 0): -0.11414558599653901, (5, 2, 3, 0): 0.0, (4, 1, 4, 1): -0.11088074728604624, (4, 2, 4, 2): -0.11181683220229388, (3, 2, 3, 2): -0.19402965079962087, (4, 1, 3, 2): 0.13521545184858041, (3, 0, 3, 0): -0.11101510665412206, (5, 1, 5, 1): -0.1252900392501033, (4, 0, 5, 1): -0.06239935544272157}  samples= None\n",
      "E=-227.84648965  angles= {(3, 0, 5, 2): -0.10433584456020763, (3, 2, 5, 0): 0.12522737051767763, (5, 2, 5, 2): -0.08691631734336625, (4, 2, 3, 1): -0.0243922156073495, (4, 0): 0.10418686713364878, (5, 0, 5, 0): 0.08656892617864287, (3, 1, 3, 1): -0.11101510665412206, (3, 1, 4, 2): -0.0243922156073495, (4, 1, 5, 0): 0.037779568344831205, (3, 2, 4, 1): 0.13521545184858041, (5, 1, 4, 0): -0.038071095502800745, (5, 0, 4, 1): -0.14969599419600854, (5, 0, 3, 2): 0.22940315886899043, (4, 0, 4, 0): -0.11414558599653901, (5, 2, 3, 0): 0.0, (4, 1, 4, 1): -0.11088074728604624, (4, 2, 4, 2): -0.11181683220229388, (3, 2, 3, 2): -0.19402965079962087, (4, 1, 3, 2): 0.13521545184858041, (3, 0, 3, 0): -0.11101510665412206, (5, 1, 5, 1): -0.1252900392501033, (4, 0, 5, 1): -0.06239935544272157}  samples= None\n",
      "E=-227.84647377  angles= {(3, 0, 5, 2): -0.10423584456020762, (3, 2, 5, 0): 0.12532737051767762, (5, 2, 5, 2): -0.08691631734336625, (4, 2, 3, 1): -0.0243922156073495, (4, 0): 0.10418686713364878, (5, 0, 5, 0): 0.08656892617864287, (3, 1, 3, 1): -0.11101510665412206, (3, 1, 4, 2): -0.0243922156073495, (4, 1, 5, 0): 0.037779568344831205, (3, 2, 4, 1): 0.13521545184858041, (5, 1, 4, 0): -0.038071095502800745, (5, 0, 4, 1): -0.14969599419600854, (5, 0, 3, 2): 0.22940315886899043, (4, 0, 4, 0): -0.11414558599653901, (5, 2, 3, 0): 0.0, (4, 1, 4, 1): -0.11088074728604624, (4, 2, 4, 2): -0.11181683220229388, (3, 2, 3, 2): -0.19402965079962087, (4, 1, 3, 2): 0.13521545184858041, (3, 0, 3, 0): -0.11101510665412206, (5, 1, 5, 1): -0.1252900392501033, (4, 0, 5, 1): -0.06239935544272157}  samples= None\n",
      "E=-227.84649537  angles= {(3, 0, 5, 2): -0.10423584456020762, (3, 2, 5, 0): 0.12522737051767763, (5, 2, 5, 2): -0.08701631734336625, (4, 2, 3, 1): -0.0243922156073495, (4, 0): 0.10418686713364878, (5, 0, 5, 0): 0.08656892617864287, (3, 1, 3, 1): -0.11101510665412206, (3, 1, 4, 2): -0.0243922156073495, (4, 1, 5, 0): 0.037779568344831205, (3, 2, 4, 1): 0.13521545184858041, (5, 1, 4, 0): -0.038071095502800745, (5, 0, 4, 1): -0.14969599419600854, (5, 0, 3, 2): 0.22940315886899043, (4, 0, 4, 0): -0.11414558599653901, (5, 2, 3, 0): 0.0, (4, 1, 4, 1): -0.11088074728604624, (4, 2, 4, 2): -0.11181683220229388, (3, 2, 3, 2): -0.19402965079962087, (4, 1, 3, 2): 0.13521545184858041, (3, 0, 3, 0): -0.11101510665412206, (5, 1, 5, 1): -0.1252900392501033, (4, 0, 5, 1): -0.06239935544272157}  samples= None\n",
      "E=-227.84648706  angles= {(3, 0, 5, 2): -0.10423584456020762, (3, 2, 5, 0): 0.12522737051767763, (5, 2, 5, 2): -0.08691631734336625, (4, 2, 3, 1): -0.0244922156073495, (4, 0): 0.10418686713364878, (5, 0, 5, 0): 0.08656892617864287, (3, 1, 3, 1): -0.11101510665412206, (3, 1, 4, 2): -0.0243922156073495, (4, 1, 5, 0): 0.037779568344831205, (3, 2, 4, 1): 0.13521545184858041, (5, 1, 4, 0): -0.038071095502800745, (5, 0, 4, 1): -0.14969599419600854, (5, 0, 3, 2): 0.22940315886899043, (4, 0, 4, 0): -0.11414558599653901, (5, 2, 3, 0): 0.0, (4, 1, 4, 1): -0.11088074728604624, (4, 2, 4, 2): -0.11181683220229388, (3, 2, 3, 2): -0.19402965079962087, (4, 1, 3, 2): 0.13521545184858041, (3, 0, 3, 0): -0.11101510665412206, (5, 1, 5, 1): -0.1252900392501033, (4, 0, 5, 1): -0.06239935544272157}  samples= None\n",
      "E=-227.84648925  angles= {(3, 0, 5, 2): -0.10423584456020762, (3, 2, 5, 0): 0.12522737051767763, (5, 2, 5, 2): -0.08691631734336625, (4, 2, 3, 1): -0.0243922156073495, (4, 0): 0.10428686713364878, (5, 0, 5, 0): 0.08656892617864287, (3, 1, 3, 1): -0.11101510665412206, (3, 1, 4, 2): -0.0243922156073495, (4, 1, 5, 0): 0.037779568344831205, (3, 2, 4, 1): 0.13521545184858041, (5, 1, 4, 0): -0.038071095502800745, (5, 0, 4, 1): -0.14969599419600854, (5, 0, 3, 2): 0.22940315886899043, (4, 0, 4, 0): -0.11414558599653901, (5, 2, 3, 0): 0.0, (4, 1, 4, 1): -0.11088074728604624, (4, 2, 4, 2): -0.11181683220229388, (3, 2, 3, 2): -0.19402965079962087, (4, 1, 3, 2): 0.13521545184858041, (3, 0, 3, 0): -0.11101510665412206, (5, 1, 5, 1): -0.1252900392501033, (4, 0, 5, 1): -0.06239935544272157}  samples= None\n",
      "E=-227.84650483  angles= {(3, 0, 5, 2): -0.10423584456020762, (3, 2, 5, 0): 0.12522737051767763, (5, 2, 5, 2): -0.08691631734336625, (4, 2, 3, 1): -0.0243922156073495, (4, 0): 0.10418686713364878, (5, 0, 5, 0): 0.08666892617864287, (3, 1, 3, 1): -0.11101510665412206, (3, 1, 4, 2): -0.0243922156073495, (4, 1, 5, 0): 0.037779568344831205, (3, 2, 4, 1): 0.13521545184858041, (5, 1, 4, 0): -0.038071095502800745, (5, 0, 4, 1): -0.14969599419600854, (5, 0, 3, 2): 0.22940315886899043, (4, 0, 4, 0): -0.11414558599653901, (5, 2, 3, 0): 0.0, (4, 1, 4, 1): -0.11088074728604624, (4, 2, 4, 2): -0.11181683220229388, (3, 2, 3, 2): -0.19402965079962087, (4, 1, 3, 2): 0.13521545184858041, (3, 0, 3, 0): -0.11101510665412206, (5, 1, 5, 1): -0.1252900392501033, (4, 0, 5, 1): -0.06239935544272157}  samples= None\n"
     ]
    },
    {
     "name": "stdout",
     "output_type": "stream",
     "text": [
      "E=-227.84649526  angles= {(3, 0, 5, 2): -0.10423584456020762, (3, 2, 5, 0): 0.12522737051767763, (5, 2, 5, 2): -0.08691631734336625, (4, 2, 3, 1): -0.0243922156073495, (4, 0): 0.10418686713364878, (5, 0, 5, 0): 0.08656892617864287, (3, 1, 3, 1): -0.11111510665412207, (3, 1, 4, 2): -0.0243922156073495, (4, 1, 5, 0): 0.037779568344831205, (3, 2, 4, 1): 0.13521545184858041, (5, 1, 4, 0): -0.038071095502800745, (5, 0, 4, 1): -0.14969599419600854, (5, 0, 3, 2): 0.22940315886899043, (4, 0, 4, 0): -0.11414558599653901, (5, 2, 3, 0): 0.0, (4, 1, 4, 1): -0.11088074728604624, (4, 2, 4, 2): -0.11181683220229388, (3, 2, 3, 2): -0.19402965079962087, (4, 1, 3, 2): 0.13521545184858041, (3, 0, 3, 0): -0.11101510665412206, (5, 1, 5, 1): -0.1252900392501033, (4, 0, 5, 1): -0.06239935544272157}  samples= None\n",
      "E=-227.84648675  angles= {(3, 0, 5, 2): -0.10423584456020762, (3, 2, 5, 0): 0.12522737051767763, (5, 2, 5, 2): -0.08691631734336625, (4, 2, 3, 1): -0.0243922156073495, (4, 0): 0.10418686713364878, (5, 0, 5, 0): 0.08656892617864287, (3, 1, 3, 1): -0.11101510665412206, (3, 1, 4, 2): -0.0244922156073495, (4, 1, 5, 0): 0.037779568344831205, (3, 2, 4, 1): 0.13521545184858041, (5, 1, 4, 0): -0.038071095502800745, (5, 0, 4, 1): -0.14969599419600854, (5, 0, 3, 2): 0.22940315886899043, (4, 0, 4, 0): -0.11414558599653901, (5, 2, 3, 0): 0.0, (4, 1, 4, 1): -0.11088074728604624, (4, 2, 4, 2): -0.11181683220229388, (3, 2, 3, 2): -0.19402965079962087, (4, 1, 3, 2): 0.13521545184858041, (3, 0, 3, 0): -0.11101510665412206, (5, 1, 5, 1): -0.1252900392501033, (4, 0, 5, 1): -0.06239935544272157}  samples= None\n",
      "E=-227.84651319  angles= {(3, 0, 5, 2): -0.10423584456020762, (3, 2, 5, 0): 0.12522737051767763, (5, 2, 5, 2): -0.08691631734336625, (4, 2, 3, 1): -0.0243922156073495, (4, 0): 0.10418686713364878, (5, 0, 5, 0): 0.08656892617864287, (3, 1, 3, 1): -0.11101510665412206, (3, 1, 4, 2): -0.0243922156073495, (4, 1, 5, 0): 0.03787956834483121, (3, 2, 4, 1): 0.13521545184858041, (5, 1, 4, 0): -0.038071095502800745, (5, 0, 4, 1): -0.14969599419600854, (5, 0, 3, 2): 0.22940315886899043, (4, 0, 4, 0): -0.11414558599653901, (5, 2, 3, 0): 0.0, (4, 1, 4, 1): -0.11088074728604624, (4, 2, 4, 2): -0.11181683220229388, (3, 2, 3, 2): -0.19402965079962087, (4, 1, 3, 2): 0.13521545184858041, (3, 0, 3, 0): -0.11101510665412206, (5, 1, 5, 1): -0.1252900392501033, (4, 0, 5, 1): -0.06239935544272157}  samples= None\n",
      "E=-227.84648219  angles= {(3, 0, 5, 2): -0.10423584456020762, (3, 2, 5, 0): 0.12522737051767763, (5, 2, 5, 2): -0.08691631734336625, (4, 2, 3, 1): -0.0243922156073495, (4, 0): 0.10418686713364878, (5, 0, 5, 0): 0.08656892617864287, (3, 1, 3, 1): -0.11101510665412206, (3, 1, 4, 2): -0.0243922156073495, (4, 1, 5, 0): 0.037779568344831205, (3, 2, 4, 1): 0.1353154518485804, (5, 1, 4, 0): -0.038071095502800745, (5, 0, 4, 1): -0.14969599419600854, (5, 0, 3, 2): 0.22940315886899043, (4, 0, 4, 0): -0.11414558599653901, (5, 2, 3, 0): 0.0, (4, 1, 4, 1): -0.11088074728604624, (4, 2, 4, 2): -0.11181683220229388, (3, 2, 3, 2): -0.19402965079962087, (4, 1, 3, 2): 0.13521545184858041, (3, 0, 3, 0): -0.11101510665412206, (5, 1, 5, 1): -0.1252900392501033, (4, 0, 5, 1): -0.06239935544272157}  samples= None\n",
      "E=-227.84650679  angles= {(3, 0, 5, 2): -0.10423584456020762, (3, 2, 5, 0): 0.12522737051767763, (5, 2, 5, 2): -0.08691631734336625, (4, 2, 3, 1): -0.0243922156073495, (4, 0): 0.10418686713364878, (5, 0, 5, 0): 0.08656892617864287, (3, 1, 3, 1): -0.11101510665412206, (3, 1, 4, 2): -0.0243922156073495, (4, 1, 5, 0): 0.037779568344831205, (3, 2, 4, 1): 0.13521545184858041, (5, 1, 4, 0): -0.03817109550280075, (5, 0, 4, 1): -0.14969599419600854, (5, 0, 3, 2): 0.22940315886899043, (4, 0, 4, 0): -0.11414558599653901, (5, 2, 3, 0): 0.0, (4, 1, 4, 1): -0.11088074728604624, (4, 2, 4, 2): -0.11181683220229388, (3, 2, 3, 2): -0.19402965079962087, (4, 1, 3, 2): 0.13521545184858041, (3, 0, 3, 0): -0.11101510665412206, (5, 1, 5, 1): -0.1252900392501033, (4, 0, 5, 1): -0.06239935544272157}  samples= None\n",
      "E=-227.84647158  angles= {(3, 0, 5, 2): -0.10423584456020762, (3, 2, 5, 0): 0.12522737051767763, (5, 2, 5, 2): -0.08691631734336625, (4, 2, 3, 1): -0.0243922156073495, (4, 0): 0.10418686713364878, (5, 0, 5, 0): 0.08656892617864287, (3, 1, 3, 1): -0.11101510665412206, (3, 1, 4, 2): -0.0243922156073495, (4, 1, 5, 0): 0.037779568344831205, (3, 2, 4, 1): 0.13521545184858041, (5, 1, 4, 0): -0.038071095502800745, (5, 0, 4, 1): -0.14979599419600853, (5, 0, 3, 2): 0.22940315886899043, (4, 0, 4, 0): -0.11414558599653901, (5, 2, 3, 0): 0.0, (4, 1, 4, 1): -0.11088074728604624, (4, 2, 4, 2): -0.11181683220229388, (3, 2, 3, 2): -0.19402965079962087, (4, 1, 3, 2): 0.13521545184858041, (3, 0, 3, 0): -0.11101510665412206, (5, 1, 5, 1): -0.1252900392501033, (4, 0, 5, 1): -0.06239935544272157}  samples= None\n",
      "E=-227.84646278  angles= {(3, 0, 5, 2): -0.10423584456020762, (3, 2, 5, 0): 0.12522737051767763, (5, 2, 5, 2): -0.08691631734336625, (4, 2, 3, 1): -0.0243922156073495, (4, 0): 0.10418686713364878, (5, 0, 5, 0): 0.08656892617864287, (3, 1, 3, 1): -0.11101510665412206, (3, 1, 4, 2): -0.0243922156073495, (4, 1, 5, 0): 0.037779568344831205, (3, 2, 4, 1): 0.13521545184858041, (5, 1, 4, 0): -0.038071095502800745, (5, 0, 4, 1): -0.14969599419600854, (5, 0, 3, 2): 0.22950315886899042, (4, 0, 4, 0): -0.11414558599653901, (5, 2, 3, 0): 0.0, (4, 1, 4, 1): -0.11088074728604624, (4, 2, 4, 2): -0.11181683220229388, (3, 2, 3, 2): -0.19402965079962087, (4, 1, 3, 2): 0.13521545184858041, (3, 0, 3, 0): -0.11101510665412206, (5, 1, 5, 1): -0.1252900392501033, (4, 0, 5, 1): -0.06239935544272157}  samples= None\n",
      "E=-227.84648241  angles= {(3, 0, 5, 2): -0.10423584456020762, (3, 2, 5, 0): 0.12522737051767763, (5, 2, 5, 2): -0.08691631734336625, (4, 2, 3, 1): -0.0243922156073495, (4, 0): 0.10418686713364878, (5, 0, 5, 0): 0.08656892617864287, (3, 1, 3, 1): -0.11101510665412206, (3, 1, 4, 2): -0.0243922156073495, (4, 1, 5, 0): 0.037779568344831205, (3, 2, 4, 1): 0.13521545184858041, (5, 1, 4, 0): -0.038071095502800745, (5, 0, 4, 1): -0.14969599419600854, (5, 0, 3, 2): 0.22940315886899043, (4, 0, 4, 0): -0.11424558599653901, (5, 2, 3, 0): 0.0, (4, 1, 4, 1): -0.11088074728604624, (4, 2, 4, 2): -0.11181683220229388, (3, 2, 3, 2): -0.19402965079962087, (4, 1, 3, 2): 0.13521545184858041, (3, 0, 3, 0): -0.11101510665412206, (5, 1, 5, 1): -0.1252900392501033, (4, 0, 5, 1): -0.06239935544272157}  samples= None\n",
      "E=-227.84650013  angles= {(3, 0, 5, 2): -0.10423584456020762, (3, 2, 5, 0): 0.12522737051767763, (5, 2, 5, 2): -0.08691631734336625, (4, 2, 3, 1): -0.0243922156073495, (4, 0): 0.10418686713364878, (5, 0, 5, 0): 0.08656892617864287, (3, 1, 3, 1): -0.11101510665412206, (3, 1, 4, 2): -0.0243922156073495, (4, 1, 5, 0): 0.037779568344831205, (3, 2, 4, 1): 0.13521545184858041, (5, 1, 4, 0): -0.038071095502800745, (5, 0, 4, 1): -0.14969599419600854, (5, 0, 3, 2): 0.22940315886899043, (4, 0, 4, 0): -0.11414558599653901, (5, 2, 3, 0): 0.0001, (4, 1, 4, 1): -0.11088074728604624, (4, 2, 4, 2): -0.11181683220229388, (3, 2, 3, 2): -0.19402965079962087, (4, 1, 3, 2): 0.13521545184858041, (3, 0, 3, 0): -0.11101510665412206, (5, 1, 5, 1): -0.1252900392501033, (4, 0, 5, 1): -0.06239935544272157}  samples= None\n",
      "E=-227.84648499  angles= {(3, 0, 5, 2): -0.10423584456020762, (3, 2, 5, 0): 0.12522737051767763, (5, 2, 5, 2): -0.08691631734336625, (4, 2, 3, 1): -0.0243922156073495, (4, 0): 0.10418686713364878, (5, 0, 5, 0): 0.08656892617864287, (3, 1, 3, 1): -0.11101510665412206, (3, 1, 4, 2): -0.0243922156073495, (4, 1, 5, 0): 0.037779568344831205, (3, 2, 4, 1): 0.13521545184858041, (5, 1, 4, 0): -0.038071095502800745, (5, 0, 4, 1): -0.14969599419600854, (5, 0, 3, 2): 0.22940315886899043, (4, 0, 4, 0): -0.11414558599653901, (5, 2, 3, 0): 0.0, (4, 1, 4, 1): -0.11098074728604625, (4, 2, 4, 2): -0.11181683220229388, (3, 2, 3, 2): -0.19402965079962087, (4, 1, 3, 2): 0.13521545184858041, (3, 0, 3, 0): -0.11101510665412206, (5, 1, 5, 1): -0.1252900392501033, (4, 0, 5, 1): -0.06239935544272157}  samples= None\n",
      "E=-227.84648770  angles= {(3, 0, 5, 2): -0.10423584456020762, (3, 2, 5, 0): 0.12522737051767763, (5, 2, 5, 2): -0.08691631734336625, (4, 2, 3, 1): -0.0243922156073495, (4, 0): 0.10418686713364878, (5, 0, 5, 0): 0.08656892617864287, (3, 1, 3, 1): -0.11101510665412206, (3, 1, 4, 2): -0.0243922156073495, (4, 1, 5, 0): 0.037779568344831205, (3, 2, 4, 1): 0.13521545184858041, (5, 1, 4, 0): -0.038071095502800745, (5, 0, 4, 1): -0.14969599419600854, (5, 0, 3, 2): 0.22940315886899043, (4, 0, 4, 0): -0.11414558599653901, (5, 2, 3, 0): 0.0, (4, 1, 4, 1): -0.11088074728604624, (4, 2, 4, 2): -0.11191683220229388, (3, 2, 3, 2): -0.19402965079962087, (4, 1, 3, 2): 0.13521545184858041, (3, 0, 3, 0): -0.11101510665412206, (5, 1, 5, 1): -0.1252900392501033, (4, 0, 5, 1): -0.06239935544272157}  samples= None\n"
     ]
    },
    {
     "name": "stdout",
     "output_type": "stream",
     "text": [
      "E=-227.84650195  angles= {(3, 0, 5, 2): -0.10423584456020762, (3, 2, 5, 0): 0.12522737051767763, (5, 2, 5, 2): -0.08691631734336625, (4, 2, 3, 1): -0.0243922156073495, (4, 0): 0.10418686713364878, (5, 0, 5, 0): 0.08656892617864287, (3, 1, 3, 1): -0.11101510665412206, (3, 1, 4, 2): -0.0243922156073495, (4, 1, 5, 0): 0.037779568344831205, (3, 2, 4, 1): 0.13521545184858041, (5, 1, 4, 0): -0.038071095502800745, (5, 0, 4, 1): -0.14969599419600854, (5, 0, 3, 2): 0.22940315886899043, (4, 0, 4, 0): -0.11414558599653901, (5, 2, 3, 0): 0.0, (4, 1, 4, 1): -0.11088074728604624, (4, 2, 4, 2): -0.11181683220229388, (3, 2, 3, 2): -0.19412965079962086, (4, 1, 3, 2): 0.13521545184858041, (3, 0, 3, 0): -0.11101510665412206, (5, 1, 5, 1): -0.1252900392501033, (4, 0, 5, 1): -0.06239935544272157}  samples= None\n",
      "E=-227.84648216  angles= {(3, 0, 5, 2): -0.10423584456020762, (3, 2, 5, 0): 0.12522737051767763, (5, 2, 5, 2): -0.08691631734336625, (4, 2, 3, 1): -0.0243922156073495, (4, 0): 0.10418686713364878, (5, 0, 5, 0): 0.08656892617864287, (3, 1, 3, 1): -0.11101510665412206, (3, 1, 4, 2): -0.0243922156073495, (4, 1, 5, 0): 0.037779568344831205, (3, 2, 4, 1): 0.13521545184858041, (5, 1, 4, 0): -0.038071095502800745, (5, 0, 4, 1): -0.14969599419600854, (5, 0, 3, 2): 0.22940315886899043, (4, 0, 4, 0): -0.11414558599653901, (5, 2, 3, 0): 0.0, (4, 1, 4, 1): -0.11088074728604624, (4, 2, 4, 2): -0.11181683220229388, (3, 2, 3, 2): -0.19402965079962087, (4, 1, 3, 2): 0.1353154518485804, (3, 0, 3, 0): -0.11101510665412206, (5, 1, 5, 1): -0.1252900392501033, (4, 0, 5, 1): -0.06239935544272157}  samples= None\n",
      "E=-227.84649526  angles= {(3, 0, 5, 2): -0.10423584456020762, (3, 2, 5, 0): 0.12522737051767763, (5, 2, 5, 2): -0.08691631734336625, (4, 2, 3, 1): -0.0243922156073495, (4, 0): 0.10418686713364878, (5, 0, 5, 0): 0.08656892617864287, (3, 1, 3, 1): -0.11101510665412206, (3, 1, 4, 2): -0.0243922156073495, (4, 1, 5, 0): 0.037779568344831205, (3, 2, 4, 1): 0.13521545184858041, (5, 1, 4, 0): -0.038071095502800745, (5, 0, 4, 1): -0.14969599419600854, (5, 0, 3, 2): 0.22940315886899043, (4, 0, 4, 0): -0.11414558599653901, (5, 2, 3, 0): 0.0, (4, 1, 4, 1): -0.11088074728604624, (4, 2, 4, 2): -0.11181683220229388, (3, 2, 3, 2): -0.19402965079962087, (4, 1, 3, 2): 0.13521545184858041, (3, 0, 3, 0): -0.11111510665412207, (5, 1, 5, 1): -0.1252900392501033, (4, 0, 5, 1): -0.06239935544272157}  samples= None\n",
      "E=-227.84647285  angles= {(3, 0, 5, 2): -0.10423584456020762, (3, 2, 5, 0): 0.12522737051767763, (5, 2, 5, 2): -0.08691631734336625, (4, 2, 3, 1): -0.0243922156073495, (4, 0): 0.10418686713364878, (5, 0, 5, 0): 0.08656892617864287, (3, 1, 3, 1): -0.11101510665412206, (3, 1, 4, 2): -0.0243922156073495, (4, 1, 5, 0): 0.037779568344831205, (3, 2, 4, 1): 0.13521545184858041, (5, 1, 4, 0): -0.038071095502800745, (5, 0, 4, 1): -0.14969599419600854, (5, 0, 3, 2): 0.22940315886899043, (4, 0, 4, 0): -0.11414558599653901, (5, 2, 3, 0): 0.0, (4, 1, 4, 1): -0.11088074728604624, (4, 2, 4, 2): -0.11181683220229388, (3, 2, 3, 2): -0.19402965079962087, (4, 1, 3, 2): 0.13521545184858041, (3, 0, 3, 0): -0.11101510665412206, (5, 1, 5, 1): -0.12539003925010328, (4, 0, 5, 1): -0.06239935544272157}  samples= None\n",
      "E=-227.84649964  angles= {(3, 0, 5, 2): -0.10423584456020762, (3, 2, 5, 0): 0.12522737051767763, (5, 2, 5, 2): -0.08691631734336625, (4, 2, 3, 1): -0.0243922156073495, (4, 0): 0.10418686713364878, (5, 0, 5, 0): 0.08656892617864287, (3, 1, 3, 1): -0.11101510665412206, (3, 1, 4, 2): -0.0243922156073495, (4, 1, 5, 0): 0.037779568344831205, (3, 2, 4, 1): 0.13521545184858041, (5, 1, 4, 0): -0.038071095502800745, (5, 0, 4, 1): -0.14969599419600854, (5, 0, 3, 2): 0.22940315886899043, (4, 0, 4, 0): -0.11414558599653901, (5, 2, 3, 0): 0.0, (4, 1, 4, 1): -0.11088074728604624, (4, 2, 4, 2): -0.11181683220229388, (3, 2, 3, 2): -0.19402965079962087, (4, 1, 3, 2): 0.13521545184858041, (3, 0, 3, 0): -0.11101510665412206, (5, 1, 5, 1): -0.1252900392501033, (4, 0, 5, 1): -0.062499355442721574}  samples= None\n",
      "E=-227.94841750  angles= {(3, 0, 5, 2): -0.04324906702038424, (3, 2, 5, 0): 0.05195877639939123, (5, 2, 5, 2): -0.03606292681570751, (4, 2, 3, 1): -0.0101207082077085, (4, 0): 0.04322874552721011, (5, 0, 5, 0): 0.0359187888387112, (3, 1, 3, 1): -0.04606188790638092, (3, 1, 4, 2): -0.0101207082077085, (4, 1, 5, 0): 0.01567532829268743, (3, 2, 4, 1): 0.05610298610678944, (5, 1, 4, 0): -0.015796287427680612, (5, 0, 4, 1): -0.06211118749967681, (5, 0, 3, 2): 0.09518292516814676, (4, 0, 4, 0): -0.04736077229166468, (5, 2, 3, 0): 0.0, (4, 1, 4, 1): -0.046006140122696285, (4, 2, 4, 2): -0.04639453625888512, (3, 2, 3, 2): -0.08050590856514318, (4, 1, 3, 2): 0.05610298610678944, (3, 0, 3, 0): -0.04606188790638092, (5, 1, 5, 1): -0.051984778627513384, (4, 0, 5, 1): -0.025890459437993424}  samples= None\n",
      "E=-227.94841797  angles= {(3, 0, 5, 2): -0.04334906702038424, (3, 2, 5, 0): 0.05195877639939123, (5, 2, 5, 2): -0.03606292681570751, (4, 2, 3, 1): -0.0101207082077085, (4, 0): 0.04322874552721011, (5, 0, 5, 0): 0.0359187888387112, (3, 1, 3, 1): -0.04606188790638092, (3, 1, 4, 2): -0.0101207082077085, (4, 1, 5, 0): 0.01567532829268743, (3, 2, 4, 1): 0.05610298610678944, (5, 1, 4, 0): -0.015796287427680612, (5, 0, 4, 1): -0.06211118749967681, (5, 0, 3, 2): 0.09518292516814676, (4, 0, 4, 0): -0.04736077229166468, (5, 2, 3, 0): 0.0, (4, 1, 4, 1): -0.046006140122696285, (4, 2, 4, 2): -0.04639453625888512, (3, 2, 3, 2): -0.08050590856514318, (4, 1, 3, 2): 0.05610298610678944, (3, 0, 3, 0): -0.04606188790638092, (5, 1, 5, 1): -0.051984778627513384, (4, 0, 5, 1): -0.025890459437993424}  samples= None\n",
      "E=-227.94841163  angles= {(3, 0, 5, 2): -0.04324906702038424, (3, 2, 5, 0): 0.05205877639939123, (5, 2, 5, 2): -0.03606292681570751, (4, 2, 3, 1): -0.0101207082077085, (4, 0): 0.04322874552721011, (5, 0, 5, 0): 0.0359187888387112, (3, 1, 3, 1): -0.04606188790638092, (3, 1, 4, 2): -0.0101207082077085, (4, 1, 5, 0): 0.01567532829268743, (3, 2, 4, 1): 0.05610298610678944, (5, 1, 4, 0): -0.015796287427680612, (5, 0, 4, 1): -0.06211118749967681, (5, 0, 3, 2): 0.09518292516814676, (4, 0, 4, 0): -0.04736077229166468, (5, 2, 3, 0): 0.0, (4, 1, 4, 1): -0.046006140122696285, (4, 2, 4, 2): -0.04639453625888512, (3, 2, 3, 2): -0.08050590856514318, (4, 1, 3, 2): 0.05610298610678944, (3, 0, 3, 0): -0.04606188790638092, (5, 1, 5, 1): -0.051984778627513384, (4, 0, 5, 1): -0.025890459437993424}  samples= None\n",
      "E=-227.94842095  angles= {(3, 0, 5, 2): -0.04324906702038424, (3, 2, 5, 0): 0.05195877639939123, (5, 2, 5, 2): -0.03616292681570751, (4, 2, 3, 1): -0.0101207082077085, (4, 0): 0.04322874552721011, (5, 0, 5, 0): 0.0359187888387112, (3, 1, 3, 1): -0.04606188790638092, (3, 1, 4, 2): -0.0101207082077085, (4, 1, 5, 0): 0.01567532829268743, (3, 2, 4, 1): 0.05610298610678944, (5, 1, 4, 0): -0.015796287427680612, (5, 0, 4, 1): -0.06211118749967681, (5, 0, 3, 2): 0.09518292516814676, (4, 0, 4, 0): -0.04736077229166468, (5, 2, 3, 0): 0.0, (4, 1, 4, 1): -0.046006140122696285, (4, 2, 4, 2): -0.04639453625888512, (3, 2, 3, 2): -0.08050590856514318, (4, 1, 3, 2): 0.05610298610678944, (3, 0, 3, 0): -0.04606188790638092, (5, 1, 5, 1): -0.051984778627513384, (4, 0, 5, 1): -0.025890459437993424}  samples= None\n",
      "E=-227.94841224  angles= {(3, 0, 5, 2): -0.04324906702038424, (3, 2, 5, 0): 0.05195877639939123, (5, 2, 5, 2): -0.03606292681570751, (4, 2, 3, 1): -0.0102207082077085, (4, 0): 0.04322874552721011, (5, 0, 5, 0): 0.0359187888387112, (3, 1, 3, 1): -0.04606188790638092, (3, 1, 4, 2): -0.0101207082077085, (4, 1, 5, 0): 0.01567532829268743, (3, 2, 4, 1): 0.05610298610678944, (5, 1, 4, 0): -0.015796287427680612, (5, 0, 4, 1): -0.06211118749967681, (5, 0, 3, 2): 0.09518292516814676, (4, 0, 4, 0): -0.04736077229166468, (5, 2, 3, 0): 0.0, (4, 1, 4, 1): -0.046006140122696285, (4, 2, 4, 2): -0.04639453625888512, (3, 2, 3, 2): -0.08050590856514318, (4, 1, 3, 2): 0.05610298610678944, (3, 0, 3, 0): -0.04606188790638092, (5, 1, 5, 1): -0.051984778627513384, (4, 0, 5, 1): -0.025890459437993424}  samples= None\n",
      "E=-227.94841800  angles= {(3, 0, 5, 2): -0.04324906702038424, (3, 2, 5, 0): 0.05195877639939123, (5, 2, 5, 2): -0.03606292681570751, (4, 2, 3, 1): -0.0101207082077085, (4, 0): 0.04332874552721011, (5, 0, 5, 0): 0.0359187888387112, (3, 1, 3, 1): -0.04606188790638092, (3, 1, 4, 2): -0.0101207082077085, (4, 1, 5, 0): 0.01567532829268743, (3, 2, 4, 1): 0.05610298610678944, (5, 1, 4, 0): -0.015796287427680612, (5, 0, 4, 1): -0.06211118749967681, (5, 0, 3, 2): 0.09518292516814676, (4, 0, 4, 0): -0.04736077229166468, (5, 2, 3, 0): 0.0, (4, 1, 4, 1): -0.046006140122696285, (4, 2, 4, 2): -0.04639453625888512, (3, 2, 3, 2): -0.08050590856514318, (4, 1, 3, 2): 0.05610298610678944, (3, 0, 3, 0): -0.04606188790638092, (5, 1, 5, 1): -0.051984778627513384, (4, 0, 5, 1): -0.025890459437993424}  samples= None\n"
     ]
    },
    {
     "name": "stdout",
     "output_type": "stream",
     "text": [
      "E=-227.94842469  angles= {(3, 0, 5, 2): -0.04324906702038424, (3, 2, 5, 0): 0.05195877639939123, (5, 2, 5, 2): -0.03606292681570751, (4, 2, 3, 1): -0.0101207082077085, (4, 0): 0.04322874552721011, (5, 0, 5, 0): 0.0360187888387112, (3, 1, 3, 1): -0.04606188790638092, (3, 1, 4, 2): -0.0101207082077085, (4, 1, 5, 0): 0.01567532829268743, (3, 2, 4, 1): 0.05610298610678944, (5, 1, 4, 0): -0.015796287427680612, (5, 0, 4, 1): -0.06211118749967681, (5, 0, 3, 2): 0.09518292516814676, (4, 0, 4, 0): -0.04736077229166468, (5, 2, 3, 0): 0.0, (4, 1, 4, 1): -0.046006140122696285, (4, 2, 4, 2): -0.04639453625888512, (3, 2, 3, 2): -0.08050590856514318, (4, 1, 3, 2): 0.05610298610678944, (3, 0, 3, 0): -0.04606188790638092, (5, 1, 5, 1): -0.051984778627513384, (4, 0, 5, 1): -0.025890459437993424}  samples= None\n",
      "E=-227.94842150  angles= {(3, 0, 5, 2): -0.04324906702038424, (3, 2, 5, 0): 0.05195877639939123, (5, 2, 5, 2): -0.03606292681570751, (4, 2, 3, 1): -0.0101207082077085, (4, 0): 0.04322874552721011, (5, 0, 5, 0): 0.0359187888387112, (3, 1, 3, 1): -0.04616188790638092, (3, 1, 4, 2): -0.0101207082077085, (4, 1, 5, 0): 0.01567532829268743, (3, 2, 4, 1): 0.05610298610678944, (5, 1, 4, 0): -0.015796287427680612, (5, 0, 4, 1): -0.06211118749967681, (5, 0, 3, 2): 0.09518292516814676, (4, 0, 4, 0): -0.04736077229166468, (5, 2, 3, 0): 0.0, (4, 1, 4, 1): -0.046006140122696285, (4, 2, 4, 2): -0.04639453625888512, (3, 2, 3, 2): -0.08050590856514318, (4, 1, 3, 2): 0.05610298610678944, (3, 0, 3, 0): -0.04606188790638092, (5, 1, 5, 1): -0.051984778627513384, (4, 0, 5, 1): -0.025890459437993424}  samples= None\n",
      "E=-227.94841221  angles= {(3, 0, 5, 2): -0.04324906702038424, (3, 2, 5, 0): 0.05195877639939123, (5, 2, 5, 2): -0.03606292681570751, (4, 2, 3, 1): -0.0101207082077085, (4, 0): 0.04322874552721011, (5, 0, 5, 0): 0.0359187888387112, (3, 1, 3, 1): -0.04606188790638092, (3, 1, 4, 2): -0.0102207082077085, (4, 1, 5, 0): 0.01567532829268743, (3, 2, 4, 1): 0.05610298610678944, (5, 1, 4, 0): -0.015796287427680612, (5, 0, 4, 1): -0.06211118749967681, (5, 0, 3, 2): 0.09518292516814676, (4, 0, 4, 0): -0.04736077229166468, (5, 2, 3, 0): 0.0, (4, 1, 4, 1): -0.046006140122696285, (4, 2, 4, 2): -0.04639453625888512, (3, 2, 3, 2): -0.08050590856514318, (4, 1, 3, 2): 0.05610298610678944, (3, 0, 3, 0): -0.04606188790638092, (5, 1, 5, 1): -0.051984778627513384, (4, 0, 5, 1): -0.025890459437993424}  samples= None\n",
      "E=-227.94842604  angles= {(3, 0, 5, 2): -0.04324906702038424, (3, 2, 5, 0): 0.05195877639939123, (5, 2, 5, 2): -0.03606292681570751, (4, 2, 3, 1): -0.0101207082077085, (4, 0): 0.04322874552721011, (5, 0, 5, 0): 0.0359187888387112, (3, 1, 3, 1): -0.04606188790638092, (3, 1, 4, 2): -0.0101207082077085, (4, 1, 5, 0): 0.015775328292687428, (3, 2, 4, 1): 0.05610298610678944, (5, 1, 4, 0): -0.015796287427680612, (5, 0, 4, 1): -0.06211118749967681, (5, 0, 3, 2): 0.09518292516814676, (4, 0, 4, 0): -0.04736077229166468, (5, 2, 3, 0): 0.0, (4, 1, 4, 1): -0.046006140122696285, (4, 2, 4, 2): -0.04639453625888512, (3, 2, 3, 2): -0.08050590856514318, (4, 1, 3, 2): 0.05610298610678944, (3, 0, 3, 0): -0.04606188790638092, (5, 1, 5, 1): -0.051984778627513384, (4, 0, 5, 1): -0.025890459437993424}  samples= None\n",
      "E=-227.94841594  angles= {(3, 0, 5, 2): -0.04324906702038424, (3, 2, 5, 0): 0.05195877639939123, (5, 2, 5, 2): -0.03606292681570751, (4, 2, 3, 1): -0.0101207082077085, (4, 0): 0.04322874552721011, (5, 0, 5, 0): 0.0359187888387112, (3, 1, 3, 1): -0.04606188790638092, (3, 1, 4, 2): -0.0101207082077085, (4, 1, 5, 0): 0.01567532829268743, (3, 2, 4, 1): 0.05620298610678944, (5, 1, 4, 0): -0.015796287427680612, (5, 0, 4, 1): -0.06211118749967681, (5, 0, 3, 2): 0.09518292516814676, (4, 0, 4, 0): -0.04736077229166468, (5, 2, 3, 0): 0.0, (4, 1, 4, 1): -0.046006140122696285, (4, 2, 4, 2): -0.04639453625888512, (3, 2, 3, 2): -0.08050590856514318, (4, 1, 3, 2): 0.05610298610678944, (3, 0, 3, 0): -0.04606188790638092, (5, 1, 5, 1): -0.051984778627513384, (4, 0, 5, 1): -0.025890459437993424}  samples= None\n",
      "E=-227.94842290  angles= {(3, 0, 5, 2): -0.04324906702038424, (3, 2, 5, 0): 0.05195877639939123, (5, 2, 5, 2): -0.03606292681570751, (4, 2, 3, 1): -0.0101207082077085, (4, 0): 0.04322874552721011, (5, 0, 5, 0): 0.0359187888387112, (3, 1, 3, 1): -0.04606188790638092, (3, 1, 4, 2): -0.0101207082077085, (4, 1, 5, 0): 0.01567532829268743, (3, 2, 4, 1): 0.05610298610678944, (5, 1, 4, 0): -0.01589628742768061, (5, 0, 4, 1): -0.06211118749967681, (5, 0, 3, 2): 0.09518292516814676, (4, 0, 4, 0): -0.04736077229166468, (5, 2, 3, 0): 0.0, (4, 1, 4, 1): -0.046006140122696285, (4, 2, 4, 2): -0.04639453625888512, (3, 2, 3, 2): -0.08050590856514318, (4, 1, 3, 2): 0.05610298610678944, (3, 0, 3, 0): -0.04606188790638092, (5, 1, 5, 1): -0.051984778627513384, (4, 0, 5, 1): -0.025890459437993424}  samples= None\n",
      "E=-227.94841188  angles= {(3, 0, 5, 2): -0.04324906702038424, (3, 2, 5, 0): 0.05195877639939123, (5, 2, 5, 2): -0.03606292681570751, (4, 2, 3, 1): -0.0101207082077085, (4, 0): 0.04322874552721011, (5, 0, 5, 0): 0.0359187888387112, (3, 1, 3, 1): -0.04606188790638092, (3, 1, 4, 2): -0.0101207082077085, (4, 1, 5, 0): 0.01567532829268743, (3, 2, 4, 1): 0.05610298610678944, (5, 1, 4, 0): -0.015796287427680612, (5, 0, 4, 1): -0.062211187499676815, (5, 0, 3, 2): 0.09518292516814676, (4, 0, 4, 0): -0.04736077229166468, (5, 2, 3, 0): 0.0, (4, 1, 4, 1): -0.046006140122696285, (4, 2, 4, 2): -0.04639453625888512, (3, 2, 3, 2): -0.08050590856514318, (4, 1, 3, 2): 0.05610298610678944, (3, 0, 3, 0): -0.04606188790638092, (5, 1, 5, 1): -0.051984778627513384, (4, 0, 5, 1): -0.025890459437993424}  samples= None\n",
      "E=-227.94841199  angles= {(3, 0, 5, 2): -0.04324906702038424, (3, 2, 5, 0): 0.05195877639939123, (5, 2, 5, 2): -0.03606292681570751, (4, 2, 3, 1): -0.0101207082077085, (4, 0): 0.04322874552721011, (5, 0, 5, 0): 0.0359187888387112, (3, 1, 3, 1): -0.04606188790638092, (3, 1, 4, 2): -0.0101207082077085, (4, 1, 5, 0): 0.01567532829268743, (3, 2, 4, 1): 0.05610298610678944, (5, 1, 4, 0): -0.015796287427680612, (5, 0, 4, 1): -0.06211118749967681, (5, 0, 3, 2): 0.09528292516814676, (4, 0, 4, 0): -0.04736077229166468, (5, 2, 3, 0): 0.0, (4, 1, 4, 1): -0.046006140122696285, (4, 2, 4, 2): -0.04639453625888512, (3, 2, 3, 2): -0.08050590856514318, (4, 1, 3, 2): 0.05610298610678944, (3, 0, 3, 0): -0.04606188790638092, (5, 1, 5, 1): -0.051984778627513384, (4, 0, 5, 1): -0.025890459437993424}  samples= None\n",
      "E=-227.94841586  angles= {(3, 0, 5, 2): -0.04324906702038424, (3, 2, 5, 0): 0.05195877639939123, (5, 2, 5, 2): -0.03606292681570751, (4, 2, 3, 1): -0.0101207082077085, (4, 0): 0.04322874552721011, (5, 0, 5, 0): 0.0359187888387112, (3, 1, 3, 1): -0.04606188790638092, (3, 1, 4, 2): -0.0101207082077085, (4, 1, 5, 0): 0.01567532829268743, (3, 2, 4, 1): 0.05610298610678944, (5, 1, 4, 0): -0.015796287427680612, (5, 0, 4, 1): -0.06211118749967681, (5, 0, 3, 2): 0.09518292516814676, (4, 0, 4, 0): -0.047460772291664684, (5, 2, 3, 0): 0.0, (4, 1, 4, 1): -0.046006140122696285, (4, 2, 4, 2): -0.04639453625888512, (3, 2, 3, 2): -0.08050590856514318, (4, 1, 3, 2): 0.05610298610678944, (3, 0, 3, 0): -0.04606188790638092, (5, 1, 5, 1): -0.051984778627513384, (4, 0, 5, 1): -0.025890459437993424}  samples= None\n",
      "E=-227.94841750  angles= {(3, 0, 5, 2): -0.04324906702038424, (3, 2, 5, 0): 0.05195877639939123, (5, 2, 5, 2): -0.03606292681570751, (4, 2, 3, 1): -0.0101207082077085, (4, 0): 0.04322874552721011, (5, 0, 5, 0): 0.0359187888387112, (3, 1, 3, 1): -0.04606188790638092, (3, 1, 4, 2): -0.0101207082077085, (4, 1, 5, 0): 0.01567532829268743, (3, 2, 4, 1): 0.05610298610678944, (5, 1, 4, 0): -0.015796287427680612, (5, 0, 4, 1): -0.06211118749967681, (5, 0, 3, 2): 0.09518292516814676, (4, 0, 4, 0): -0.04736077229166468, (5, 2, 3, 0): 0.0001, (4, 1, 4, 1): -0.046006140122696285, (4, 2, 4, 2): -0.04639453625888512, (3, 2, 3, 2): -0.08050590856514318, (4, 1, 3, 2): 0.05610298610678944, (3, 0, 3, 0): -0.04606188790638092, (5, 1, 5, 1): -0.051984778627513384, (4, 0, 5, 1): -0.025890459437993424}  samples= None\n",
      "E=-227.94841604  angles= {(3, 0, 5, 2): -0.04324906702038424, (3, 2, 5, 0): 0.05195877639939123, (5, 2, 5, 2): -0.03606292681570751, (4, 2, 3, 1): -0.0101207082077085, (4, 0): 0.04322874552721011, (5, 0, 5, 0): 0.0359187888387112, (3, 1, 3, 1): -0.04606188790638092, (3, 1, 4, 2): -0.0101207082077085, (4, 1, 5, 0): 0.01567532829268743, (3, 2, 4, 1): 0.05610298610678944, (5, 1, 4, 0): -0.015796287427680612, (5, 0, 4, 1): -0.06211118749967681, (5, 0, 3, 2): 0.09518292516814676, (4, 0, 4, 0): -0.04736077229166468, (5, 2, 3, 0): 0.0, (4, 1, 4, 1): -0.04610614012269629, (4, 2, 4, 2): -0.04639453625888512, (3, 2, 3, 2): -0.08050590856514318, (4, 1, 3, 2): 0.05610298610678944, (3, 0, 3, 0): -0.04606188790638092, (5, 1, 5, 1): -0.051984778627513384, (4, 0, 5, 1): -0.025890459437993424}  samples= None\n"
     ]
    },
    {
     "name": "stdout",
     "output_type": "stream",
     "text": [
      "E=-227.94841821  angles= {(3, 0, 5, 2): -0.04324906702038424, (3, 2, 5, 0): 0.05195877639939123, (5, 2, 5, 2): -0.03606292681570751, (4, 2, 3, 1): -0.0101207082077085, (4, 0): 0.04322874552721011, (5, 0, 5, 0): 0.0359187888387112, (3, 1, 3, 1): -0.04606188790638092, (3, 1, 4, 2): -0.0101207082077085, (4, 1, 5, 0): 0.01567532829268743, (3, 2, 4, 1): 0.05610298610678944, (5, 1, 4, 0): -0.015796287427680612, (5, 0, 4, 1): -0.06211118749967681, (5, 0, 3, 2): 0.09518292516814676, (4, 0, 4, 0): -0.04736077229166468, (5, 2, 3, 0): 0.0, (4, 1, 4, 1): -0.046006140122696285, (4, 2, 4, 2): -0.046494536258885125, (3, 2, 3, 2): -0.08050590856514318, (4, 1, 3, 2): 0.05610298610678944, (3, 0, 3, 0): -0.04606188790638092, (5, 1, 5, 1): -0.051984778627513384, (4, 0, 5, 1): -0.025890459437993424}  samples= None\n",
      "E=-227.94842869  angles= {(3, 0, 5, 2): -0.04324906702038424, (3, 2, 5, 0): 0.05195877639939123, (5, 2, 5, 2): -0.03606292681570751, (4, 2, 3, 1): -0.0101207082077085, (4, 0): 0.04322874552721011, (5, 0, 5, 0): 0.0359187888387112, (3, 1, 3, 1): -0.04606188790638092, (3, 1, 4, 2): -0.0101207082077085, (4, 1, 5, 0): 0.01567532829268743, (3, 2, 4, 1): 0.05610298610678944, (5, 1, 4, 0): -0.015796287427680612, (5, 0, 4, 1): -0.06211118749967681, (5, 0, 3, 2): 0.09518292516814676, (4, 0, 4, 0): -0.04736077229166468, (5, 2, 3, 0): 0.0, (4, 1, 4, 1): -0.046006140122696285, (4, 2, 4, 2): -0.04639453625888512, (3, 2, 3, 2): -0.08060590856514319, (4, 1, 3, 2): 0.05610298610678944, (3, 0, 3, 0): -0.04606188790638092, (5, 1, 5, 1): -0.051984778627513384, (4, 0, 5, 1): -0.025890459437993424}  samples= None\n",
      "E=-227.94841592  angles= {(3, 0, 5, 2): -0.04324906702038424, (3, 2, 5, 0): 0.05195877639939123, (5, 2, 5, 2): -0.03606292681570751, (4, 2, 3, 1): -0.0101207082077085, (4, 0): 0.04322874552721011, (5, 0, 5, 0): 0.0359187888387112, (3, 1, 3, 1): -0.04606188790638092, (3, 1, 4, 2): -0.0101207082077085, (4, 1, 5, 0): 0.01567532829268743, (3, 2, 4, 1): 0.05610298610678944, (5, 1, 4, 0): -0.015796287427680612, (5, 0, 4, 1): -0.06211118749967681, (5, 0, 3, 2): 0.09518292516814676, (4, 0, 4, 0): -0.04736077229166468, (5, 2, 3, 0): 0.0, (4, 1, 4, 1): -0.046006140122696285, (4, 2, 4, 2): -0.04639453625888512, (3, 2, 3, 2): -0.08050590856514318, (4, 1, 3, 2): 0.05620298610678944, (3, 0, 3, 0): -0.04606188790638092, (5, 1, 5, 1): -0.051984778627513384, (4, 0, 5, 1): -0.025890459437993424}  samples= None\n",
      "E=-227.94842150  angles= {(3, 0, 5, 2): -0.04324906702038424, (3, 2, 5, 0): 0.05195877639939123, (5, 2, 5, 2): -0.03606292681570751, (4, 2, 3, 1): -0.0101207082077085, (4, 0): 0.04322874552721011, (5, 0, 5, 0): 0.0359187888387112, (3, 1, 3, 1): -0.04606188790638092, (3, 1, 4, 2): -0.0101207082077085, (4, 1, 5, 0): 0.01567532829268743, (3, 2, 4, 1): 0.05610298610678944, (5, 1, 4, 0): -0.015796287427680612, (5, 0, 4, 1): -0.06211118749967681, (5, 0, 3, 2): 0.09518292516814676, (4, 0, 4, 0): -0.04736077229166468, (5, 2, 3, 0): 0.0, (4, 1, 4, 1): -0.046006140122696285, (4, 2, 4, 2): -0.04639453625888512, (3, 2, 3, 2): -0.08050590856514318, (4, 1, 3, 2): 0.05610298610678944, (3, 0, 3, 0): -0.04616188790638092, (5, 1, 5, 1): -0.051984778627513384, (4, 0, 5, 1): -0.025890459437993424}  samples= None\n",
      "E=-227.94841144  angles= {(3, 0, 5, 2): -0.04324906702038424, (3, 2, 5, 0): 0.05195877639939123, (5, 2, 5, 2): -0.03606292681570751, (4, 2, 3, 1): -0.0101207082077085, (4, 0): 0.04322874552721011, (5, 0, 5, 0): 0.0359187888387112, (3, 1, 3, 1): -0.04606188790638092, (3, 1, 4, 2): -0.0101207082077085, (4, 1, 5, 0): 0.01567532829268743, (3, 2, 4, 1): 0.05610298610678944, (5, 1, 4, 0): -0.015796287427680612, (5, 0, 4, 1): -0.06211118749967681, (5, 0, 3, 2): 0.09518292516814676, (4, 0, 4, 0): -0.04736077229166468, (5, 2, 3, 0): 0.0, (4, 1, 4, 1): -0.046006140122696285, (4, 2, 4, 2): -0.04639453625888512, (3, 2, 3, 2): -0.08050590856514318, (4, 1, 3, 2): 0.05610298610678944, (3, 0, 3, 0): -0.04606188790638092, (5, 1, 5, 1): -0.05208477862751339, (4, 0, 5, 1): -0.025890459437993424}  samples= None\n",
      "E=-227.94842110  angles= {(3, 0, 5, 2): -0.04324906702038424, (3, 2, 5, 0): 0.05195877639939123, (5, 2, 5, 2): -0.03606292681570751, (4, 2, 3, 1): -0.0101207082077085, (4, 0): 0.04322874552721011, (5, 0, 5, 0): 0.0359187888387112, (3, 1, 3, 1): -0.04606188790638092, (3, 1, 4, 2): -0.0101207082077085, (4, 1, 5, 0): 0.01567532829268743, (3, 2, 4, 1): 0.05610298610678944, (5, 1, 4, 0): -0.015796287427680612, (5, 0, 4, 1): -0.06211118749967681, (5, 0, 3, 2): 0.09518292516814676, (4, 0, 4, 0): -0.04736077229166468, (5, 2, 3, 0): 0.0, (4, 1, 4, 1): -0.046006140122696285, (4, 2, 4, 2): -0.04639453625888512, (3, 2, 3, 2): -0.08050590856514318, (4, 1, 3, 2): 0.05610298610678944, (3, 0, 3, 0): -0.04606188790638092, (5, 1, 5, 1): -0.051984778627513384, (4, 0, 5, 1): -0.025990459437993423}  samples= None\n",
      "E=-227.90305817  angles= {(3, 0, 5, 2): -0.06710507323199169, (3, 2, 5, 0): 0.015683726649176638, (5, 2, 5, 2): -0.08683714469150565, (4, 2, 3, 1): 0.038525337986610925, (4, 0): 0.06738126945980843, (5, 0, 5, 0): 0.12441934547155692, (3, 1, 3, 1): -0.10676316060892915, (3, 1, 4, 2): 0.0388508890481787, (4, 1, 5, 0): 0.10881789990188749, (3, 2, 4, 1): 0.06512783944498046, (5, 1, 4, 0): -0.07728432720131614, (5, 0, 4, 1): -0.032820727994164876, (5, 0, 3, 2): 0.08168890186443704, (4, 0, 4, 0): -0.05178234548824485, (5, 2, 3, 0): 0.0, (4, 1, 4, 1): -0.051648802517296845, (4, 2, 4, 2): -0.07405158731817964, (3, 2, 3, 2): -0.22916456071373092, (4, 1, 3, 2): 0.06500505565381712, (3, 0, 3, 0): -0.10676316032198876, (5, 1, 5, 1): -0.013771599944834838, (4, 0, 5, 1): -0.07366254337287438}  samples= None\n",
      "E=-227.90306034  angles= {(3, 0, 5, 2): -0.0672050732319917, (3, 2, 5, 0): 0.015683726649176638, (5, 2, 5, 2): -0.08683714469150565, (4, 2, 3, 1): 0.038525337986610925, (4, 0): 0.06738126945980843, (5, 0, 5, 0): 0.12441934547155692, (3, 1, 3, 1): -0.10676316060892915, (3, 1, 4, 2): 0.0388508890481787, (4, 1, 5, 0): 0.10881789990188749, (3, 2, 4, 1): 0.06512783944498046, (5, 1, 4, 0): -0.07728432720131614, (5, 0, 4, 1): -0.032820727994164876, (5, 0, 3, 2): 0.08168890186443704, (4, 0, 4, 0): -0.05178234548824485, (5, 2, 3, 0): 0.0, (4, 1, 4, 1): -0.051648802517296845, (4, 2, 4, 2): -0.07405158731817964, (3, 2, 3, 2): -0.22916456071373092, (4, 1, 3, 2): 0.06500505565381712, (3, 0, 3, 0): -0.10676316032198876, (5, 1, 5, 1): -0.013771599944834838, (4, 0, 5, 1): -0.07366254337287438}  samples= None\n",
      "E=-227.90305677  angles= {(3, 0, 5, 2): -0.06710507323199169, (3, 2, 5, 0): 0.015783726649176637, (5, 2, 5, 2): -0.08683714469150565, (4, 2, 3, 1): 0.038525337986610925, (4, 0): 0.06738126945980843, (5, 0, 5, 0): 0.12441934547155692, (3, 1, 3, 1): -0.10676316060892915, (3, 1, 4, 2): 0.0388508890481787, (4, 1, 5, 0): 0.10881789990188749, (3, 2, 4, 1): 0.06512783944498046, (5, 1, 4, 0): -0.07728432720131614, (5, 0, 4, 1): -0.032820727994164876, (5, 0, 3, 2): 0.08168890186443704, (4, 0, 4, 0): -0.05178234548824485, (5, 2, 3, 0): 0.0, (4, 1, 4, 1): -0.051648802517296845, (4, 2, 4, 2): -0.07405158731817964, (3, 2, 3, 2): -0.22916456071373092, (4, 1, 3, 2): 0.06500505565381712, (3, 0, 3, 0): -0.10676316032198876, (5, 1, 5, 1): -0.013771599944834838, (4, 0, 5, 1): -0.07366254337287438}  samples= None\n",
      "E=-227.90305019  angles= {(3, 0, 5, 2): -0.06710507323199169, (3, 2, 5, 0): 0.015683726649176638, (5, 2, 5, 2): -0.08693714469150565, (4, 2, 3, 1): 0.038525337986610925, (4, 0): 0.06738126945980843, (5, 0, 5, 0): 0.12441934547155692, (3, 1, 3, 1): -0.10676316060892915, (3, 1, 4, 2): 0.0388508890481787, (4, 1, 5, 0): 0.10881789990188749, (3, 2, 4, 1): 0.06512783944498046, (5, 1, 4, 0): -0.07728432720131614, (5, 0, 4, 1): -0.032820727994164876, (5, 0, 3, 2): 0.08168890186443704, (4, 0, 4, 0): -0.05178234548824485, (5, 2, 3, 0): 0.0, (4, 1, 4, 1): -0.051648802517296845, (4, 2, 4, 2): -0.07405158731817964, (3, 2, 3, 2): -0.22916456071373092, (4, 1, 3, 2): 0.06500505565381712, (3, 0, 3, 0): -0.10676316032198876, (5, 1, 5, 1): -0.013771599944834838, (4, 0, 5, 1): -0.07366254337287438}  samples= None\n",
      "E=-227.90304248  angles= {(3, 0, 5, 2): -0.06710507323199169, (3, 2, 5, 0): 0.015683726649176638, (5, 2, 5, 2): -0.08683714469150565, (4, 2, 3, 1): 0.03862533798661093, (4, 0): 0.06738126945980843, (5, 0, 5, 0): 0.12441934547155692, (3, 1, 3, 1): -0.10676316060892915, (3, 1, 4, 2): 0.0388508890481787, (4, 1, 5, 0): 0.10881789990188749, (3, 2, 4, 1): 0.06512783944498046, (5, 1, 4, 0): -0.07728432720131614, (5, 0, 4, 1): -0.032820727994164876, (5, 0, 3, 2): 0.08168890186443704, (4, 0, 4, 0): -0.05178234548824485, (5, 2, 3, 0): 0.0, (4, 1, 4, 1): -0.051648802517296845, (4, 2, 4, 2): -0.07405158731817964, (3, 2, 3, 2): -0.22916456071373092, (4, 1, 3, 2): 0.06500505565381712, (3, 0, 3, 0): -0.10676316032198876, (5, 1, 5, 1): -0.013771599944834838, (4, 0, 5, 1): -0.07366254337287438}  samples= None\n"
     ]
    },
    {
     "name": "stdout",
     "output_type": "stream",
     "text": [
      "E=-227.90306036  angles= {(3, 0, 5, 2): -0.06710507323199169, (3, 2, 5, 0): 0.015683726649176638, (5, 2, 5, 2): -0.08683714469150565, (4, 2, 3, 1): 0.038525337986610925, (4, 0): 0.06748126945980844, (5, 0, 5, 0): 0.12441934547155692, (3, 1, 3, 1): -0.10676316060892915, (3, 1, 4, 2): 0.0388508890481787, (4, 1, 5, 0): 0.10881789990188749, (3, 2, 4, 1): 0.06512783944498046, (5, 1, 4, 0): -0.07728432720131614, (5, 0, 4, 1): -0.032820727994164876, (5, 0, 3, 2): 0.08168890186443704, (4, 0, 4, 0): -0.05178234548824485, (5, 2, 3, 0): 0.0, (4, 1, 4, 1): -0.051648802517296845, (4, 2, 4, 2): -0.07405158731817964, (3, 2, 3, 2): -0.22916456071373092, (4, 1, 3, 2): 0.06500505565381712, (3, 0, 3, 0): -0.10676316032198876, (5, 1, 5, 1): -0.013771599944834838, (4, 0, 5, 1): -0.07366254337287438}  samples= None\n",
      "E=-227.90304742  angles= {(3, 0, 5, 2): -0.06710507323199169, (3, 2, 5, 0): 0.015683726649176638, (5, 2, 5, 2): -0.08683714469150565, (4, 2, 3, 1): 0.038525337986610925, (4, 0): 0.06738126945980843, (5, 0, 5, 0): 0.12451934547155692, (3, 1, 3, 1): -0.10676316060892915, (3, 1, 4, 2): 0.0388508890481787, (4, 1, 5, 0): 0.10881789990188749, (3, 2, 4, 1): 0.06512783944498046, (5, 1, 4, 0): -0.07728432720131614, (5, 0, 4, 1): -0.032820727994164876, (5, 0, 3, 2): 0.08168890186443704, (4, 0, 4, 0): -0.05178234548824485, (5, 2, 3, 0): 0.0, (4, 1, 4, 1): -0.051648802517296845, (4, 2, 4, 2): -0.07405158731817964, (3, 2, 3, 2): -0.22916456071373092, (4, 1, 3, 2): 0.06500505565381712, (3, 0, 3, 0): -0.10676316032198876, (5, 1, 5, 1): -0.013771599944834838, (4, 0, 5, 1): -0.07366254337287438}  samples= None\n",
      "E=-227.90305334  angles= {(3, 0, 5, 2): -0.06710507323199169, (3, 2, 5, 0): 0.015683726649176638, (5, 2, 5, 2): -0.08683714469150565, (4, 2, 3, 1): 0.038525337986610925, (4, 0): 0.06738126945980843, (5, 0, 5, 0): 0.12441934547155692, (3, 1, 3, 1): -0.10686316060892916, (3, 1, 4, 2): 0.0388508890481787, (4, 1, 5, 0): 0.10881789990188749, (3, 2, 4, 1): 0.06512783944498046, (5, 1, 4, 0): -0.07728432720131614, (5, 0, 4, 1): -0.032820727994164876, (5, 0, 3, 2): 0.08168890186443704, (4, 0, 4, 0): -0.05178234548824485, (5, 2, 3, 0): 0.0, (4, 1, 4, 1): -0.051648802517296845, (4, 2, 4, 2): -0.07405158731817964, (3, 2, 3, 2): -0.22916456071373092, (4, 1, 3, 2): 0.06500505565381712, (3, 0, 3, 0): -0.10676316032198876, (5, 1, 5, 1): -0.013771599944834838, (4, 0, 5, 1): -0.07366254337287438}  samples= None\n",
      "E=-227.90304233  angles= {(3, 0, 5, 2): -0.06710507323199169, (3, 2, 5, 0): 0.015683726649176638, (5, 2, 5, 2): -0.08683714469150565, (4, 2, 3, 1): 0.038525337986610925, (4, 0): 0.06738126945980843, (5, 0, 5, 0): 0.12441934547155692, (3, 1, 3, 1): -0.10676316060892915, (3, 1, 4, 2): 0.0389508890481787, (4, 1, 5, 0): 0.10881789990188749, (3, 2, 4, 1): 0.06512783944498046, (5, 1, 4, 0): -0.07728432720131614, (5, 0, 4, 1): -0.032820727994164876, (5, 0, 3, 2): 0.08168890186443704, (4, 0, 4, 0): -0.05178234548824485, (5, 2, 3, 0): 0.0, (4, 1, 4, 1): -0.051648802517296845, (4, 2, 4, 2): -0.07405158731817964, (3, 2, 3, 2): -0.22916456071373092, (4, 1, 3, 2): 0.06500505565381712, (3, 0, 3, 0): -0.10676316032198876, (5, 1, 5, 1): -0.013771599944834838, (4, 0, 5, 1): -0.07366254337287438}  samples= None\n",
      "E=-227.90300949  angles= {(3, 0, 5, 2): -0.06710507323199169, (3, 2, 5, 0): 0.015683726649176638, (5, 2, 5, 2): -0.08683714469150565, (4, 2, 3, 1): 0.038525337986610925, (4, 0): 0.06738126945980843, (5, 0, 5, 0): 0.12441934547155692, (3, 1, 3, 1): -0.10676316060892915, (3, 1, 4, 2): 0.0388508890481787, (4, 1, 5, 0): 0.1089178999018875, (3, 2, 4, 1): 0.06512783944498046, (5, 1, 4, 0): -0.07728432720131614, (5, 0, 4, 1): -0.032820727994164876, (5, 0, 3, 2): 0.08168890186443704, (4, 0, 4, 0): -0.05178234548824485, (5, 2, 3, 0): 0.0, (4, 1, 4, 1): -0.051648802517296845, (4, 2, 4, 2): -0.07405158731817964, (3, 2, 3, 2): -0.22916456071373092, (4, 1, 3, 2): 0.06500505565381712, (3, 0, 3, 0): -0.10676316032198876, (5, 1, 5, 1): -0.013771599944834838, (4, 0, 5, 1): -0.07366254337287438}  samples= None\n",
      "E=-227.90307928  angles= {(3, 0, 5, 2): -0.06710507323199169, (3, 2, 5, 0): 0.015683726649176638, (5, 2, 5, 2): -0.08683714469150565, (4, 2, 3, 1): 0.038525337986610925, (4, 0): 0.06738126945980843, (5, 0, 5, 0): 0.12441934547155692, (3, 1, 3, 1): -0.10676316060892915, (3, 1, 4, 2): 0.0388508890481787, (4, 1, 5, 0): 0.10881789990188749, (3, 2, 4, 1): 0.06522783944498046, (5, 1, 4, 0): -0.07728432720131614, (5, 0, 4, 1): -0.032820727994164876, (5, 0, 3, 2): 0.08168890186443704, (4, 0, 4, 0): -0.05178234548824485, (5, 2, 3, 0): 0.0, (4, 1, 4, 1): -0.051648802517296845, (4, 2, 4, 2): -0.07405158731817964, (3, 2, 3, 2): -0.22916456071373092, (4, 1, 3, 2): 0.06500505565381712, (3, 0, 3, 0): -0.10676316032198876, (5, 1, 5, 1): -0.013771599944834838, (4, 0, 5, 1): -0.07366254337287438}  samples= None\n",
      "E=-227.90300924  angles= {(3, 0, 5, 2): -0.06710507323199169, (3, 2, 5, 0): 0.015683726649176638, (5, 2, 5, 2): -0.08683714469150565, (4, 2, 3, 1): 0.038525337986610925, (4, 0): 0.06738126945980843, (5, 0, 5, 0): 0.12441934547155692, (3, 1, 3, 1): -0.10676316060892915, (3, 1, 4, 2): 0.0388508890481787, (4, 1, 5, 0): 0.10881789990188749, (3, 2, 4, 1): 0.06512783944498046, (5, 1, 4, 0): -0.07738432720131615, (5, 0, 4, 1): -0.032820727994164876, (5, 0, 3, 2): 0.08168890186443704, (4, 0, 4, 0): -0.05178234548824485, (5, 2, 3, 0): 0.0, (4, 1, 4, 1): -0.051648802517296845, (4, 2, 4, 2): -0.07405158731817964, (3, 2, 3, 2): -0.22916456071373092, (4, 1, 3, 2): 0.06500505565381712, (3, 0, 3, 0): -0.10676316032198876, (5, 1, 5, 1): -0.013771599944834838, (4, 0, 5, 1): -0.07366254337287438}  samples= None\n",
      "E=-227.90307963  angles= {(3, 0, 5, 2): -0.06710507323199169, (3, 2, 5, 0): 0.015683726649176638, (5, 2, 5, 2): -0.08683714469150565, (4, 2, 3, 1): 0.038525337986610925, (4, 0): 0.06738126945980843, (5, 0, 5, 0): 0.12441934547155692, (3, 1, 3, 1): -0.10676316060892915, (3, 1, 4, 2): 0.0388508890481787, (4, 1, 5, 0): 0.10881789990188749, (3, 2, 4, 1): 0.06512783944498046, (5, 1, 4, 0): -0.07728432720131614, (5, 0, 4, 1): -0.03292072799416488, (5, 0, 3, 2): 0.08168890186443704, (4, 0, 4, 0): -0.05178234548824485, (5, 2, 3, 0): 0.0, (4, 1, 4, 1): -0.051648802517296845, (4, 2, 4, 2): -0.07405158731817964, (3, 2, 3, 2): -0.22916456071373092, (4, 1, 3, 2): 0.06500505565381712, (3, 0, 3, 0): -0.10676316032198876, (5, 1, 5, 1): -0.013771599944834838, (4, 0, 5, 1): -0.07366254337287438}  samples= None\n",
      "E=-227.90305888  angles= {(3, 0, 5, 2): -0.06710507323199169, (3, 2, 5, 0): 0.015683726649176638, (5, 2, 5, 2): -0.08683714469150565, (4, 2, 3, 1): 0.038525337986610925, (4, 0): 0.06738126945980843, (5, 0, 5, 0): 0.12441934547155692, (3, 1, 3, 1): -0.10676316060892915, (3, 1, 4, 2): 0.0388508890481787, (4, 1, 5, 0): 0.10881789990188749, (3, 2, 4, 1): 0.06512783944498046, (5, 1, 4, 0): -0.07728432720131614, (5, 0, 4, 1): -0.032820727994164876, (5, 0, 3, 2): 0.08178890186443705, (4, 0, 4, 0): -0.05178234548824485, (5, 2, 3, 0): 0.0, (4, 1, 4, 1): -0.051648802517296845, (4, 2, 4, 2): -0.07405158731817964, (3, 2, 3, 2): -0.22916456071373092, (4, 1, 3, 2): 0.06500505565381712, (3, 0, 3, 0): -0.10676316032198876, (5, 1, 5, 1): -0.013771599944834838, (4, 0, 5, 1): -0.07366254337287438}  samples= None\n",
      "E=-227.90305741  angles= {(3, 0, 5, 2): -0.06710507323199169, (3, 2, 5, 0): 0.015683726649176638, (5, 2, 5, 2): -0.08683714469150565, (4, 2, 3, 1): 0.038525337986610925, (4, 0): 0.06738126945980843, (5, 0, 5, 0): 0.12441934547155692, (3, 1, 3, 1): -0.10676316060892915, (3, 1, 4, 2): 0.0388508890481787, (4, 1, 5, 0): 0.10881789990188749, (3, 2, 4, 1): 0.06512783944498046, (5, 1, 4, 0): -0.07728432720131614, (5, 0, 4, 1): -0.032820727994164876, (5, 0, 3, 2): 0.08168890186443704, (4, 0, 4, 0): -0.05188234548824485, (5, 2, 3, 0): 0.0, (4, 1, 4, 1): -0.051648802517296845, (4, 2, 4, 2): -0.07405158731817964, (3, 2, 3, 2): -0.22916456071373092, (4, 1, 3, 2): 0.06500505565381712, (3, 0, 3, 0): -0.10676316032198876, (5, 1, 5, 1): -0.013771599944834838, (4, 0, 5, 1): -0.07366254337287438}  samples= None\n",
      "E=-227.90305817  angles= {(3, 0, 5, 2): -0.06710507323199169, (3, 2, 5, 0): 0.015683726649176638, (5, 2, 5, 2): -0.08683714469150565, (4, 2, 3, 1): 0.038525337986610925, (4, 0): 0.06738126945980843, (5, 0, 5, 0): 0.12441934547155692, (3, 1, 3, 1): -0.10676316060892915, (3, 1, 4, 2): 0.0388508890481787, (4, 1, 5, 0): 0.10881789990188749, (3, 2, 4, 1): 0.06512783944498046, (5, 1, 4, 0): -0.07728432720131614, (5, 0, 4, 1): -0.032820727994164876, (5, 0, 3, 2): 0.08168890186443704, (4, 0, 4, 0): -0.05178234548824485, (5, 2, 3, 0): 0.0001, (4, 1, 4, 1): -0.051648802517296845, (4, 2, 4, 2): -0.07405158731817964, (3, 2, 3, 2): -0.22916456071373092, (4, 1, 3, 2): 0.06500505565381712, (3, 0, 3, 0): -0.10676316032198876, (5, 1, 5, 1): -0.013771599944834838, (4, 0, 5, 1): -0.07366254337287438}  samples= None\n"
     ]
    },
    {
     "name": "stdout",
     "output_type": "stream",
     "text": [
      "E=-227.90305692  angles= {(3, 0, 5, 2): -0.06710507323199169, (3, 2, 5, 0): 0.015683726649176638, (5, 2, 5, 2): -0.08683714469150565, (4, 2, 3, 1): 0.038525337986610925, (4, 0): 0.06738126945980843, (5, 0, 5, 0): 0.12441934547155692, (3, 1, 3, 1): -0.10676316060892915, (3, 1, 4, 2): 0.0388508890481787, (4, 1, 5, 0): 0.10881789990188749, (3, 2, 4, 1): 0.06512783944498046, (5, 1, 4, 0): -0.07728432720131614, (5, 0, 4, 1): -0.032820727994164876, (5, 0, 3, 2): 0.08168890186443704, (4, 0, 4, 0): -0.05178234548824485, (5, 2, 3, 0): 0.0, (4, 1, 4, 1): -0.05174880251729685, (4, 2, 4, 2): -0.07405158731817964, (3, 2, 3, 2): -0.22916456071373092, (4, 1, 3, 2): 0.06500505565381712, (3, 0, 3, 0): -0.10676316032198876, (5, 1, 5, 1): -0.013771599944834838, (4, 0, 5, 1): -0.07366254337287438}  samples= None\n",
      "E=-227.90305553  angles= {(3, 0, 5, 2): -0.06710507323199169, (3, 2, 5, 0): 0.015683726649176638, (5, 2, 5, 2): -0.08683714469150565, (4, 2, 3, 1): 0.038525337986610925, (4, 0): 0.06738126945980843, (5, 0, 5, 0): 0.12441934547155692, (3, 1, 3, 1): -0.10676316060892915, (3, 1, 4, 2): 0.0388508890481787, (4, 1, 5, 0): 0.10881789990188749, (3, 2, 4, 1): 0.06512783944498046, (5, 1, 4, 0): -0.07728432720131614, (5, 0, 4, 1): -0.032820727994164876, (5, 0, 3, 2): 0.08168890186443704, (4, 0, 4, 0): -0.05178234548824485, (5, 2, 3, 0): 0.0, (4, 1, 4, 1): -0.051648802517296845, (4, 2, 4, 2): -0.07415158731817964, (3, 2, 3, 2): -0.22916456071373092, (4, 1, 3, 2): 0.06500505565381712, (3, 0, 3, 0): -0.10676316032198876, (5, 1, 5, 1): -0.013771599944834838, (4, 0, 5, 1): -0.07366254337287438}  samples= None\n",
      "E=-227.90305015  angles= {(3, 0, 5, 2): -0.06710507323199169, (3, 2, 5, 0): 0.015683726649176638, (5, 2, 5, 2): -0.08683714469150565, (4, 2, 3, 1): 0.038525337986610925, (4, 0): 0.06738126945980843, (5, 0, 5, 0): 0.12441934547155692, (3, 1, 3, 1): -0.10676316060892915, (3, 1, 4, 2): 0.0388508890481787, (4, 1, 5, 0): 0.10881789990188749, (3, 2, 4, 1): 0.06512783944498046, (5, 1, 4, 0): -0.07728432720131614, (5, 0, 4, 1): -0.032820727994164876, (5, 0, 3, 2): 0.08168890186443704, (4, 0, 4, 0): -0.05178234548824485, (5, 2, 3, 0): 0.0, (4, 1, 4, 1): -0.051648802517296845, (4, 2, 4, 2): -0.07405158731817964, (3, 2, 3, 2): -0.2292645607137309, (4, 1, 3, 2): 0.06500505565381712, (3, 0, 3, 0): -0.10676316032198876, (5, 1, 5, 1): -0.013771599944834838, (4, 0, 5, 1): -0.07366254337287438}  samples= None\n",
      "E=-227.90307939  angles= {(3, 0, 5, 2): -0.06710507323199169, (3, 2, 5, 0): 0.015683726649176638, (5, 2, 5, 2): -0.08683714469150565, (4, 2, 3, 1): 0.038525337986610925, (4, 0): 0.06738126945980843, (5, 0, 5, 0): 0.12441934547155692, (3, 1, 3, 1): -0.10676316060892915, (3, 1, 4, 2): 0.0388508890481787, (4, 1, 5, 0): 0.10881789990188749, (3, 2, 4, 1): 0.06512783944498046, (5, 1, 4, 0): -0.07728432720131614, (5, 0, 4, 1): -0.032820727994164876, (5, 0, 3, 2): 0.08168890186443704, (4, 0, 4, 0): -0.05178234548824485, (5, 2, 3, 0): 0.0, (4, 1, 4, 1): -0.051648802517296845, (4, 2, 4, 2): -0.07405158731817964, (3, 2, 3, 2): -0.22916456071373092, (4, 1, 3, 2): 0.06510505565381712, (3, 0, 3, 0): -0.10676316032198876, (5, 1, 5, 1): -0.013771599944834838, (4, 0, 5, 1): -0.07366254337287438}  samples= None\n",
      "E=-227.90305334  angles= {(3, 0, 5, 2): -0.06710507323199169, (3, 2, 5, 0): 0.015683726649176638, (5, 2, 5, 2): -0.08683714469150565, (4, 2, 3, 1): 0.038525337986610925, (4, 0): 0.06738126945980843, (5, 0, 5, 0): 0.12441934547155692, (3, 1, 3, 1): -0.10676316060892915, (3, 1, 4, 2): 0.0388508890481787, (4, 1, 5, 0): 0.10881789990188749, (3, 2, 4, 1): 0.06512783944498046, (5, 1, 4, 0): -0.07728432720131614, (5, 0, 4, 1): -0.032820727994164876, (5, 0, 3, 2): 0.08168890186443704, (4, 0, 4, 0): -0.05178234548824485, (5, 2, 3, 0): 0.0, (4, 1, 4, 1): -0.051648802517296845, (4, 2, 4, 2): -0.07405158731817964, (3, 2, 3, 2): -0.22916456071373092, (4, 1, 3, 2): 0.06500505565381712, (3, 0, 3, 0): -0.10686316032198877, (5, 1, 5, 1): -0.013771599944834838, (4, 0, 5, 1): -0.07366254337287438}  samples= None\n",
      "E=-227.90305697  angles= {(3, 0, 5, 2): -0.06710507323199169, (3, 2, 5, 0): 0.015683726649176638, (5, 2, 5, 2): -0.08683714469150565, (4, 2, 3, 1): 0.038525337986610925, (4, 0): 0.06738126945980843, (5, 0, 5, 0): 0.12441934547155692, (3, 1, 3, 1): -0.10676316060892915, (3, 1, 4, 2): 0.0388508890481787, (4, 1, 5, 0): 0.10881789990188749, (3, 2, 4, 1): 0.06512783944498046, (5, 1, 4, 0): -0.07728432720131614, (5, 0, 4, 1): -0.032820727994164876, (5, 0, 3, 2): 0.08168890186443704, (4, 0, 4, 0): -0.05178234548824485, (5, 2, 3, 0): 0.0, (4, 1, 4, 1): -0.051648802517296845, (4, 2, 4, 2): -0.07405158731817964, (3, 2, 3, 2): -0.22916456071373092, (4, 1, 3, 2): 0.06500505565381712, (3, 0, 3, 0): -0.10676316032198876, (5, 1, 5, 1): -0.013871599944834837, (4, 0, 5, 1): -0.07366254337287438}  samples= None\n",
      "E=-227.90302468  angles= {(3, 0, 5, 2): -0.06710507323199169, (3, 2, 5, 0): 0.015683726649176638, (5, 2, 5, 2): -0.08683714469150565, (4, 2, 3, 1): 0.038525337986610925, (4, 0): 0.06738126945980843, (5, 0, 5, 0): 0.12441934547155692, (3, 1, 3, 1): -0.10676316060892915, (3, 1, 4, 2): 0.0388508890481787, (4, 1, 5, 0): 0.10881789990188749, (3, 2, 4, 1): 0.06512783944498046, (5, 1, 4, 0): -0.07728432720131614, (5, 0, 4, 1): -0.032820727994164876, (5, 0, 3, 2): 0.08168890186443704, (4, 0, 4, 0): -0.05178234548824485, (5, 2, 3, 0): 0.0, (4, 1, 4, 1): -0.051648802517296845, (4, 2, 4, 2): -0.07405158731817964, (3, 2, 3, 2): -0.22916456071373092, (4, 1, 3, 2): 0.06500505565381712, (3, 0, 3, 0): -0.10676316032198876, (5, 1, 5, 1): -0.013771599944834838, (4, 0, 5, 1): -0.07376254337287438}  samples= None\n",
      "E=-227.95568538  angles= {(3, 0, 5, 2): -0.04954553561024749, (3, 2, 5, 0): 0.042384470066555865, (5, 2, 5, 2): -0.04946409150329394, (4, 2, 3, 1): 0.002718754490558894, (4, 0): 0.049603475939274284, (5, 0, 5, 0): 0.05927730786663609, (3, 1, 3, 1): -0.06208316378743566, (3, 1, 4, 2): 0.0028046792683853166, (4, 1, 5, 0): 0.040259044079576464, (3, 2, 4, 1): 0.058484973480031885, (5, 1, 4, 0): -0.03202521978344861, (5, 0, 4, 1): -0.0543803688277156, (5, 0, 3, 2): 0.09162136112724915, (4, 0, 4, 0): -0.048527786439091516, (5, 2, 3, 0): 0.0, (4, 1, 4, 1): -0.04749544416695487, (4, 2, 4, 2): -0.05369423897267638, (3, 2, 3, 2): -0.11974233923850355, (4, 1, 3, 2): 0.05845256636722571, (3, 0, 3, 0): -0.062083163711701646, (5, 1, 5, 1): -0.04189892950590951, (4, 0, 5, 1): -0.03849925167673508}  samples= None\n",
      "E=-227.95568635  angles= {(3, 0, 5, 2): -0.049645535610247496, (3, 2, 5, 0): 0.042384470066555865, (5, 2, 5, 2): -0.04946409150329394, (4, 2, 3, 1): 0.002718754490558894, (4, 0): 0.049603475939274284, (5, 0, 5, 0): 0.05927730786663609, (3, 1, 3, 1): -0.06208316378743566, (3, 1, 4, 2): 0.0028046792683853166, (4, 1, 5, 0): 0.040259044079576464, (3, 2, 4, 1): 0.058484973480031885, (5, 1, 4, 0): -0.03202521978344861, (5, 0, 4, 1): -0.0543803688277156, (5, 0, 3, 2): 0.09162136112724915, (4, 0, 4, 0): -0.048527786439091516, (5, 2, 3, 0): 0.0, (4, 1, 4, 1): -0.04749544416695487, (4, 2, 4, 2): -0.05369423897267638, (3, 2, 3, 2): -0.11974233923850355, (4, 1, 3, 2): 0.05845256636722571, (3, 0, 3, 0): -0.062083163711701646, (5, 1, 5, 1): -0.04189892950590951, (4, 0, 5, 1): -0.03849925167673508}  samples= None\n",
      "E=-227.95568077  angles= {(3, 0, 5, 2): -0.04954553561024749, (3, 2, 5, 0): 0.04248447006655587, (5, 2, 5, 2): -0.04946409150329394, (4, 2, 3, 1): 0.002718754490558894, (4, 0): 0.049603475939274284, (5, 0, 5, 0): 0.05927730786663609, (3, 1, 3, 1): -0.06208316378743566, (3, 1, 4, 2): 0.0028046792683853166, (4, 1, 5, 0): 0.040259044079576464, (3, 2, 4, 1): 0.058484973480031885, (5, 1, 4, 0): -0.03202521978344861, (5, 0, 4, 1): -0.0543803688277156, (5, 0, 3, 2): 0.09162136112724915, (4, 0, 4, 0): -0.048527786439091516, (5, 2, 3, 0): 0.0, (4, 1, 4, 1): -0.04749544416695487, (4, 2, 4, 2): -0.05369423897267638, (3, 2, 3, 2): -0.11974233923850355, (4, 1, 3, 2): 0.05845256636722571, (3, 0, 3, 0): -0.062083163711701646, (5, 1, 5, 1): -0.04189892950590951, (4, 0, 5, 1): -0.03849925167673508}  samples= None\n",
      "E=-227.95568553  angles= {(3, 0, 5, 2): -0.04954553561024749, (3, 2, 5, 0): 0.042384470066555865, (5, 2, 5, 2): -0.049564091503293946, (4, 2, 3, 1): 0.002718754490558894, (4, 0): 0.049603475939274284, (5, 0, 5, 0): 0.05927730786663609, (3, 1, 3, 1): -0.06208316378743566, (3, 1, 4, 2): 0.0028046792683853166, (4, 1, 5, 0): 0.040259044079576464, (3, 2, 4, 1): 0.058484973480031885, (5, 1, 4, 0): -0.03202521978344861, (5, 0, 4, 1): -0.0543803688277156, (5, 0, 3, 2): 0.09162136112724915, (4, 0, 4, 0): -0.048527786439091516, (5, 2, 3, 0): 0.0, (4, 1, 4, 1): -0.04749544416695487, (4, 2, 4, 2): -0.05369423897267638, (3, 2, 3, 2): -0.11974233923850355, (4, 1, 3, 2): 0.05845256636722571, (3, 0, 3, 0): -0.062083163711701646, (5, 1, 5, 1): -0.04189892950590951, (4, 0, 5, 1): -0.03849925167673508}  samples= None\n"
     ]
    },
    {
     "name": "stdout",
     "output_type": "stream",
     "text": [
      "E=-227.95568471  angles= {(3, 0, 5, 2): -0.04954553561024749, (3, 2, 5, 0): 0.042384470066555865, (5, 2, 5, 2): -0.04946409150329394, (4, 2, 3, 1): 0.002818754490558894, (4, 0): 0.049603475939274284, (5, 0, 5, 0): 0.05927730786663609, (3, 1, 3, 1): -0.06208316378743566, (3, 1, 4, 2): 0.0028046792683853166, (4, 1, 5, 0): 0.040259044079576464, (3, 2, 4, 1): 0.058484973480031885, (5, 1, 4, 0): -0.03202521978344861, (5, 0, 4, 1): -0.0543803688277156, (5, 0, 3, 2): 0.09162136112724915, (4, 0, 4, 0): -0.048527786439091516, (5, 2, 3, 0): 0.0, (4, 1, 4, 1): -0.04749544416695487, (4, 2, 4, 2): -0.05369423897267638, (3, 2, 3, 2): -0.11974233923850355, (4, 1, 3, 2): 0.05845256636722571, (3, 0, 3, 0): -0.062083163711701646, (5, 1, 5, 1): -0.04189892950590951, (4, 0, 5, 1): -0.03849925167673508}  samples= None\n",
      "E=-227.95568638  angles= {(3, 0, 5, 2): -0.04954553561024749, (3, 2, 5, 0): 0.042384470066555865, (5, 2, 5, 2): -0.04946409150329394, (4, 2, 3, 1): 0.002718754490558894, (4, 0): 0.04970347593927429, (5, 0, 5, 0): 0.05927730786663609, (3, 1, 3, 1): -0.06208316378743566, (3, 1, 4, 2): 0.0028046792683853166, (4, 1, 5, 0): 0.040259044079576464, (3, 2, 4, 1): 0.058484973480031885, (5, 1, 4, 0): -0.03202521978344861, (5, 0, 4, 1): -0.0543803688277156, (5, 0, 3, 2): 0.09162136112724915, (4, 0, 4, 0): -0.048527786439091516, (5, 2, 3, 0): 0.0, (4, 1, 4, 1): -0.04749544416695487, (4, 2, 4, 2): -0.05369423897267638, (3, 2, 3, 2): -0.11974233923850355, (4, 1, 3, 2): 0.05845256636722571, (3, 0, 3, 0): -0.062083163711701646, (5, 1, 5, 1): -0.04189892950590951, (4, 0, 5, 1): -0.03849925167673508}  samples= None\n",
      "E=-227.95568755  angles= {(3, 0, 5, 2): -0.04954553561024749, (3, 2, 5, 0): 0.042384470066555865, (5, 2, 5, 2): -0.04946409150329394, (4, 2, 3, 1): 0.002718754490558894, (4, 0): 0.049603475939274284, (5, 0, 5, 0): 0.05937730786663609, (3, 1, 3, 1): -0.06208316378743566, (3, 1, 4, 2): 0.0028046792683853166, (4, 1, 5, 0): 0.040259044079576464, (3, 2, 4, 1): 0.058484973480031885, (5, 1, 4, 0): -0.03202521978344861, (5, 0, 4, 1): -0.0543803688277156, (5, 0, 3, 2): 0.09162136112724915, (4, 0, 4, 0): -0.048527786439091516, (5, 2, 3, 0): 0.0, (4, 1, 4, 1): -0.04749544416695487, (4, 2, 4, 2): -0.05369423897267638, (3, 2, 3, 2): -0.11974233923850355, (4, 1, 3, 2): 0.05845256636722571, (3, 0, 3, 0): -0.062083163711701646, (5, 1, 5, 1): -0.04189892950590951, (4, 0, 5, 1): -0.03849925167673508}  samples= None\n",
      "E=-227.95568681  angles= {(3, 0, 5, 2): -0.04954553561024749, (3, 2, 5, 0): 0.042384470066555865, (5, 2, 5, 2): -0.04946409150329394, (4, 2, 3, 1): 0.002718754490558894, (4, 0): 0.049603475939274284, (5, 0, 5, 0): 0.05927730786663609, (3, 1, 3, 1): -0.062183163787435665, (3, 1, 4, 2): 0.0028046792683853166, (4, 1, 5, 0): 0.040259044079576464, (3, 2, 4, 1): 0.058484973480031885, (5, 1, 4, 0): -0.03202521978344861, (5, 0, 4, 1): -0.0543803688277156, (5, 0, 3, 2): 0.09162136112724915, (4, 0, 4, 0): -0.048527786439091516, (5, 2, 3, 0): 0.0, (4, 1, 4, 1): -0.04749544416695487, (4, 2, 4, 2): -0.05369423897267638, (3, 2, 3, 2): -0.11974233923850355, (4, 1, 3, 2): 0.05845256636722571, (3, 0, 3, 0): -0.062083163711701646, (5, 1, 5, 1): -0.04189892950590951, (4, 0, 5, 1): -0.03849925167673508}  samples= None\n",
      "E=-227.95568470  angles= {(3, 0, 5, 2): -0.04954553561024749, (3, 2, 5, 0): 0.042384470066555865, (5, 2, 5, 2): -0.04946409150329394, (4, 2, 3, 1): 0.002718754490558894, (4, 0): 0.049603475939274284, (5, 0, 5, 0): 0.05927730786663609, (3, 1, 3, 1): -0.06208316378743566, (3, 1, 4, 2): 0.0029046792683853164, (4, 1, 5, 0): 0.040259044079576464, (3, 2, 4, 1): 0.058484973480031885, (5, 1, 4, 0): -0.03202521978344861, (5, 0, 4, 1): -0.0543803688277156, (5, 0, 3, 2): 0.09162136112724915, (4, 0, 4, 0): -0.048527786439091516, (5, 2, 3, 0): 0.0, (4, 1, 4, 1): -0.04749544416695487, (4, 2, 4, 2): -0.05369423897267638, (3, 2, 3, 2): -0.11974233923850355, (4, 1, 3, 2): 0.05845256636722571, (3, 0, 3, 0): -0.062083163711701646, (5, 1, 5, 1): -0.04189892950590951, (4, 0, 5, 1): -0.03849925167673508}  samples= None\n",
      "E=-227.95567791  angles= {(3, 0, 5, 2): -0.04954553561024749, (3, 2, 5, 0): 0.042384470066555865, (5, 2, 5, 2): -0.04946409150329394, (4, 2, 3, 1): 0.002718754490558894, (4, 0): 0.049603475939274284, (5, 0, 5, 0): 0.05927730786663609, (3, 1, 3, 1): -0.06208316378743566, (3, 1, 4, 2): 0.0028046792683853166, (4, 1, 5, 0): 0.04035904407957647, (3, 2, 4, 1): 0.058484973480031885, (5, 1, 4, 0): -0.03202521978344861, (5, 0, 4, 1): -0.0543803688277156, (5, 0, 3, 2): 0.09162136112724915, (4, 0, 4, 0): -0.048527786439091516, (5, 2, 3, 0): 0.0, (4, 1, 4, 1): -0.04749544416695487, (4, 2, 4, 2): -0.05369423897267638, (3, 2, 3, 2): -0.11974233923850355, (4, 1, 3, 2): 0.05845256636722571, (3, 0, 3, 0): -0.062083163711701646, (5, 1, 5, 1): -0.04189892950590951, (4, 0, 5, 1): -0.03849925167673508}  samples= None\n",
      "E=-227.95569031  angles= {(3, 0, 5, 2): -0.04954553561024749, (3, 2, 5, 0): 0.042384470066555865, (5, 2, 5, 2): -0.04946409150329394, (4, 2, 3, 1): 0.002718754490558894, (4, 0): 0.049603475939274284, (5, 0, 5, 0): 0.05927730786663609, (3, 1, 3, 1): -0.06208316378743566, (3, 1, 4, 2): 0.0028046792683853166, (4, 1, 5, 0): 0.040259044079576464, (3, 2, 4, 1): 0.05858497348003189, (5, 1, 4, 0): -0.03202521978344861, (5, 0, 4, 1): -0.0543803688277156, (5, 0, 3, 2): 0.09162136112724915, (4, 0, 4, 0): -0.048527786439091516, (5, 2, 3, 0): 0.0, (4, 1, 4, 1): -0.04749544416695487, (4, 2, 4, 2): -0.05369423897267638, (3, 2, 3, 2): -0.11974233923850355, (4, 1, 3, 2): 0.05845256636722571, (3, 0, 3, 0): -0.062083163711701646, (5, 1, 5, 1): -0.04189892950590951, (4, 0, 5, 1): -0.03849925167673508}  samples= None\n",
      "E=-227.95567571  angles= {(3, 0, 5, 2): -0.04954553561024749, (3, 2, 5, 0): 0.042384470066555865, (5, 2, 5, 2): -0.04946409150329394, (4, 2, 3, 1): 0.002718754490558894, (4, 0): 0.049603475939274284, (5, 0, 5, 0): 0.05927730786663609, (3, 1, 3, 1): -0.06208316378743566, (3, 1, 4, 2): 0.0028046792683853166, (4, 1, 5, 0): 0.040259044079576464, (3, 2, 4, 1): 0.058484973480031885, (5, 1, 4, 0): -0.032125219783448615, (5, 0, 4, 1): -0.0543803688277156, (5, 0, 3, 2): 0.09162136112724915, (4, 0, 4, 0): -0.048527786439091516, (5, 2, 3, 0): 0.0, (4, 1, 4, 1): -0.04749544416695487, (4, 2, 4, 2): -0.05369423897267638, (3, 2, 3, 2): -0.11974233923850355, (4, 1, 3, 2): 0.05845256636722571, (3, 0, 3, 0): -0.062083163711701646, (5, 1, 5, 1): -0.04189892950590951, (4, 0, 5, 1): -0.03849925167673508}  samples= None\n",
      "E=-227.95568713  angles= {(3, 0, 5, 2): -0.04954553561024749, (3, 2, 5, 0): 0.042384470066555865, (5, 2, 5, 2): -0.04946409150329394, (4, 2, 3, 1): 0.002718754490558894, (4, 0): 0.049603475939274284, (5, 0, 5, 0): 0.05927730786663609, (3, 1, 3, 1): -0.06208316378743566, (3, 1, 4, 2): 0.0028046792683853166, (4, 1, 5, 0): 0.040259044079576464, (3, 2, 4, 1): 0.058484973480031885, (5, 1, 4, 0): -0.03202521978344861, (5, 0, 4, 1): -0.054480368827715606, (5, 0, 3, 2): 0.09162136112724915, (4, 0, 4, 0): -0.048527786439091516, (5, 2, 3, 0): 0.0, (4, 1, 4, 1): -0.04749544416695487, (4, 2, 4, 2): -0.05369423897267638, (3, 2, 3, 2): -0.11974233923850355, (4, 1, 3, 2): 0.05845256636722571, (3, 0, 3, 0): -0.062083163711701646, (5, 1, 5, 1): -0.04189892950590951, (4, 0, 5, 1): -0.03849925167673508}  samples= None\n",
      "E=-227.95568164  angles= {(3, 0, 5, 2): -0.04954553561024749, (3, 2, 5, 0): 0.042384470066555865, (5, 2, 5, 2): -0.04946409150329394, (4, 2, 3, 1): 0.002718754490558894, (4, 0): 0.049603475939274284, (5, 0, 5, 0): 0.05927730786663609, (3, 1, 3, 1): -0.06208316378743566, (3, 1, 4, 2): 0.0028046792683853166, (4, 1, 5, 0): 0.040259044079576464, (3, 2, 4, 1): 0.058484973480031885, (5, 1, 4, 0): -0.03202521978344861, (5, 0, 4, 1): -0.0543803688277156, (5, 0, 3, 2): 0.09172136112724916, (4, 0, 4, 0): -0.048527786439091516, (5, 2, 3, 0): 0.0, (4, 1, 4, 1): -0.04749544416695487, (4, 2, 4, 2): -0.05369423897267638, (3, 2, 3, 2): -0.11974233923850355, (4, 1, 3, 2): 0.05845256636722571, (3, 0, 3, 0): -0.062083163711701646, (5, 1, 5, 1): -0.04189892950590951, (4, 0, 5, 1): -0.03849925167673508}  samples= None\n",
      "E=-227.95568396  angles= {(3, 0, 5, 2): -0.04954553561024749, (3, 2, 5, 0): 0.042384470066555865, (5, 2, 5, 2): -0.04946409150329394, (4, 2, 3, 1): 0.002718754490558894, (4, 0): 0.049603475939274284, (5, 0, 5, 0): 0.05927730786663609, (3, 1, 3, 1): -0.06208316378743566, (3, 1, 4, 2): 0.0028046792683853166, (4, 1, 5, 0): 0.040259044079576464, (3, 2, 4, 1): 0.058484973480031885, (5, 1, 4, 0): -0.03202521978344861, (5, 0, 4, 1): -0.0543803688277156, (5, 0, 3, 2): 0.09162136112724915, (4, 0, 4, 0): -0.04862778643909152, (5, 2, 3, 0): 0.0, (4, 1, 4, 1): -0.04749544416695487, (4, 2, 4, 2): -0.05369423897267638, (3, 2, 3, 2): -0.11974233923850355, (4, 1, 3, 2): 0.05845256636722571, (3, 0, 3, 0): -0.062083163711701646, (5, 1, 5, 1): -0.04189892950590951, (4, 0, 5, 1): -0.03849925167673508}  samples= None\n"
     ]
    },
    {
     "name": "stdout",
     "output_type": "stream",
     "text": [
      "E=-227.95568538  angles= {(3, 0, 5, 2): -0.04954553561024749, (3, 2, 5, 0): 0.042384470066555865, (5, 2, 5, 2): -0.04946409150329394, (4, 2, 3, 1): 0.002718754490558894, (4, 0): 0.049603475939274284, (5, 0, 5, 0): 0.05927730786663609, (3, 1, 3, 1): -0.06208316378743566, (3, 1, 4, 2): 0.0028046792683853166, (4, 1, 5, 0): 0.040259044079576464, (3, 2, 4, 1): 0.058484973480031885, (5, 1, 4, 0): -0.03202521978344861, (5, 0, 4, 1): -0.0543803688277156, (5, 0, 3, 2): 0.09162136112724915, (4, 0, 4, 0): -0.048527786439091516, (5, 2, 3, 0): 0.0001, (4, 1, 4, 1): -0.04749544416695487, (4, 2, 4, 2): -0.05369423897267638, (3, 2, 3, 2): -0.11974233923850355, (4, 1, 3, 2): 0.05845256636722571, (3, 0, 3, 0): -0.062083163711701646, (5, 1, 5, 1): -0.04189892950590951, (4, 0, 5, 1): -0.03849925167673508}  samples= None\n",
      "E=-227.95568388  angles= {(3, 0, 5, 2): -0.04954553561024749, (3, 2, 5, 0): 0.042384470066555865, (5, 2, 5, 2): -0.04946409150329394, (4, 2, 3, 1): 0.002718754490558894, (4, 0): 0.049603475939274284, (5, 0, 5, 0): 0.05927730786663609, (3, 1, 3, 1): -0.06208316378743566, (3, 1, 4, 2): 0.0028046792683853166, (4, 1, 5, 0): 0.040259044079576464, (3, 2, 4, 1): 0.058484973480031885, (5, 1, 4, 0): -0.03202521978344861, (5, 0, 4, 1): -0.0543803688277156, (5, 0, 3, 2): 0.09162136112724915, (4, 0, 4, 0): -0.048527786439091516, (5, 2, 3, 0): 0.0, (4, 1, 4, 1): -0.047595444166954874, (4, 2, 4, 2): -0.05369423897267638, (3, 2, 3, 2): -0.11974233923850355, (4, 1, 3, 2): 0.05845256636722571, (3, 0, 3, 0): -0.062083163711701646, (5, 1, 5, 1): -0.04189892950590951, (4, 0, 5, 1): -0.03849925167673508}  samples= None\n",
      "E=-227.95568506  angles= {(3, 0, 5, 2): -0.04954553561024749, (3, 2, 5, 0): 0.042384470066555865, (5, 2, 5, 2): -0.04946409150329394, (4, 2, 3, 1): 0.002718754490558894, (4, 0): 0.049603475939274284, (5, 0, 5, 0): 0.05927730786663609, (3, 1, 3, 1): -0.06208316378743566, (3, 1, 4, 2): 0.0028046792683853166, (4, 1, 5, 0): 0.040259044079576464, (3, 2, 4, 1): 0.058484973480031885, (5, 1, 4, 0): -0.03202521978344861, (5, 0, 4, 1): -0.0543803688277156, (5, 0, 3, 2): 0.09162136112724915, (4, 0, 4, 0): -0.048527786439091516, (5, 2, 3, 0): 0.0, (4, 1, 4, 1): -0.04749544416695487, (4, 2, 4, 2): -0.053794238972676385, (3, 2, 3, 2): -0.11974233923850355, (4, 1, 3, 2): 0.05845256636722571, (3, 0, 3, 0): -0.062083163711701646, (5, 1, 5, 1): -0.04189892950590951, (4, 0, 5, 1): -0.03849925167673508}  samples= None\n",
      "E=-227.95569133  angles= {(3, 0, 5, 2): -0.04954553561024749, (3, 2, 5, 0): 0.042384470066555865, (5, 2, 5, 2): -0.04946409150329394, (4, 2, 3, 1): 0.002718754490558894, (4, 0): 0.049603475939274284, (5, 0, 5, 0): 0.05927730786663609, (3, 1, 3, 1): -0.06208316378743566, (3, 1, 4, 2): 0.0028046792683853166, (4, 1, 5, 0): 0.040259044079576464, (3, 2, 4, 1): 0.058484973480031885, (5, 1, 4, 0): -0.03202521978344861, (5, 0, 4, 1): -0.0543803688277156, (5, 0, 3, 2): 0.09162136112724915, (4, 0, 4, 0): -0.048527786439091516, (5, 2, 3, 0): 0.0, (4, 1, 4, 1): -0.04749544416695487, (4, 2, 4, 2): -0.05369423897267638, (3, 2, 3, 2): -0.11984233923850356, (4, 1, 3, 2): 0.05845256636722571, (3, 0, 3, 0): -0.062083163711701646, (5, 1, 5, 1): -0.04189892950590951, (4, 0, 5, 1): -0.03849925167673508}  samples= None\n",
      "E=-227.95569031  angles= {(3, 0, 5, 2): -0.04954553561024749, (3, 2, 5, 0): 0.042384470066555865, (5, 2, 5, 2): -0.04946409150329394, (4, 2, 3, 1): 0.002718754490558894, (4, 0): 0.049603475939274284, (5, 0, 5, 0): 0.05927730786663609, (3, 1, 3, 1): -0.06208316378743566, (3, 1, 4, 2): 0.0028046792683853166, (4, 1, 5, 0): 0.040259044079576464, (3, 2, 4, 1): 0.058484973480031885, (5, 1, 4, 0): -0.03202521978344861, (5, 0, 4, 1): -0.0543803688277156, (5, 0, 3, 2): 0.09162136112724915, (4, 0, 4, 0): -0.048527786439091516, (5, 2, 3, 0): 0.0, (4, 1, 4, 1): -0.04749544416695487, (4, 2, 4, 2): -0.05369423897267638, (3, 2, 3, 2): -0.11974233923850355, (4, 1, 3, 2): 0.058552566367225715, (3, 0, 3, 0): -0.062083163711701646, (5, 1, 5, 1): -0.04189892950590951, (4, 0, 5, 1): -0.03849925167673508}  samples= None\n",
      "E=-227.95568681  angles= {(3, 0, 5, 2): -0.04954553561024749, (3, 2, 5, 0): 0.042384470066555865, (5, 2, 5, 2): -0.04946409150329394, (4, 2, 3, 1): 0.002718754490558894, (4, 0): 0.049603475939274284, (5, 0, 5, 0): 0.05927730786663609, (3, 1, 3, 1): -0.06208316378743566, (3, 1, 4, 2): 0.0028046792683853166, (4, 1, 5, 0): 0.040259044079576464, (3, 2, 4, 1): 0.058484973480031885, (5, 1, 4, 0): -0.03202521978344861, (5, 0, 4, 1): -0.0543803688277156, (5, 0, 3, 2): 0.09162136112724915, (4, 0, 4, 0): -0.048527786439091516, (5, 2, 3, 0): 0.0, (4, 1, 4, 1): -0.04749544416695487, (4, 2, 4, 2): -0.05369423897267638, (3, 2, 3, 2): -0.11974233923850355, (4, 1, 3, 2): 0.05845256636722571, (3, 0, 3, 0): -0.06218316371170165, (5, 1, 5, 1): -0.04189892950590951, (4, 0, 5, 1): -0.03849925167673508}  samples= None\n",
      "E=-227.95568060  angles= {(3, 0, 5, 2): -0.04954553561024749, (3, 2, 5, 0): 0.042384470066555865, (5, 2, 5, 2): -0.04946409150329394, (4, 2, 3, 1): 0.002718754490558894, (4, 0): 0.049603475939274284, (5, 0, 5, 0): 0.05927730786663609, (3, 1, 3, 1): -0.06208316378743566, (3, 1, 4, 2): 0.0028046792683853166, (4, 1, 5, 0): 0.040259044079576464, (3, 2, 4, 1): 0.058484973480031885, (5, 1, 4, 0): -0.03202521978344861, (5, 0, 4, 1): -0.0543803688277156, (5, 0, 3, 2): 0.09162136112724915, (4, 0, 4, 0): -0.048527786439091516, (5, 2, 3, 0): 0.0, (4, 1, 4, 1): -0.04749544416695487, (4, 2, 4, 2): -0.05369423897267638, (3, 2, 3, 2): -0.11974233923850355, (4, 1, 3, 2): 0.05845256636722571, (3, 0, 3, 0): -0.062083163711701646, (5, 1, 5, 1): -0.04199892950590951, (4, 0, 5, 1): -0.03849925167673508}  samples= None\n",
      "E=-227.95567880  angles= {(3, 0, 5, 2): -0.04954553561024749, (3, 2, 5, 0): 0.042384470066555865, (5, 2, 5, 2): -0.04946409150329394, (4, 2, 3, 1): 0.002718754490558894, (4, 0): 0.049603475939274284, (5, 0, 5, 0): 0.05927730786663609, (3, 1, 3, 1): -0.06208316378743566, (3, 1, 4, 2): 0.0028046792683853166, (4, 1, 5, 0): 0.040259044079576464, (3, 2, 4, 1): 0.058484973480031885, (5, 1, 4, 0): -0.03202521978344861, (5, 0, 4, 1): -0.0543803688277156, (5, 0, 3, 2): 0.09162136112724915, (4, 0, 4, 0): -0.048527786439091516, (5, 2, 3, 0): 0.0, (4, 1, 4, 1): -0.04749544416695487, (4, 2, 4, 2): -0.05369423897267638, (3, 2, 3, 2): -0.11974233923850355, (4, 1, 3, 2): 0.05845256636722571, (3, 0, 3, 0): -0.062083163711701646, (5, 1, 5, 1): -0.04189892950590951, (4, 0, 5, 1): -0.038599251676735086}  samples= None\n",
      "E=-227.96118690  angles= {(3, 0, 5, 2): -0.05991607915724667, (3, 2, 5, 0): 0.013779033452003642, (5, 2, 5, 2): -0.06365042399292412, (4, 2, 3, 1): 0.012941482360772801, (4, 0): 0.0601879710540872, (5, 0, 5, 0): 0.09184024521051207, (3, 1, 3, 1): -0.08420965120450644, (3, 1, 4, 2): 0.01308222640792911, (4, 1, 5, 0): 0.034413031193642286, (3, 2, 4, 1): 0.08119767735169175, (5, 1, 4, 0): -0.008681641011703038, (5, 0, 4, 1): -0.05379256667068629, (5, 0, 3, 2): 0.07266931107578847, (4, 0, 4, 0): -0.043876742951911685, (5, 2, 3, 0): 0.0, (4, 1, 4, 1): -0.04285080044979396, (4, 2, 4, 2): -0.0598025765350723, (3, 2, 3, 2): -0.18395324793157478, (4, 1, 3, 2): 0.08111203349163343, (3, 0, 3, 0): -0.08420965151961866, (5, 1, 5, 1): -0.012054444272735658, (4, 0, 5, 1): -0.02422177021114922}  samples= None\n",
      "E=-227.96118982  angles= {(3, 0, 5, 2): -0.060016079157246674, (3, 2, 5, 0): 0.013779033452003642, (5, 2, 5, 2): -0.06365042399292412, (4, 2, 3, 1): 0.012941482360772801, (4, 0): 0.0601879710540872, (5, 0, 5, 0): 0.09184024521051207, (3, 1, 3, 1): -0.08420965120450644, (3, 1, 4, 2): 0.01308222640792911, (4, 1, 5, 0): 0.034413031193642286, (3, 2, 4, 1): 0.08119767735169175, (5, 1, 4, 0): -0.008681641011703038, (5, 0, 4, 1): -0.05379256667068629, (5, 0, 3, 2): 0.07266931107578847, (4, 0, 4, 0): -0.043876742951911685, (5, 2, 3, 0): 0.0, (4, 1, 4, 1): -0.04285080044979396, (4, 2, 4, 2): -0.0598025765350723, (3, 2, 3, 2): -0.18395324793157478, (4, 1, 3, 2): 0.08111203349163343, (3, 0, 3, 0): -0.08420965151961866, (5, 1, 5, 1): -0.012054444272735658, (4, 0, 5, 1): -0.02422177021114922}  samples= None\n",
      "E=-227.96118752  angles= {(3, 0, 5, 2): -0.05991607915724667, (3, 2, 5, 0): 0.013879033452003642, (5, 2, 5, 2): -0.06365042399292412, (4, 2, 3, 1): 0.012941482360772801, (4, 0): 0.0601879710540872, (5, 0, 5, 0): 0.09184024521051207, (3, 1, 3, 1): -0.08420965120450644, (3, 1, 4, 2): 0.01308222640792911, (4, 1, 5, 0): 0.034413031193642286, (3, 2, 4, 1): 0.08119767735169175, (5, 1, 4, 0): -0.008681641011703038, (5, 0, 4, 1): -0.05379256667068629, (5, 0, 3, 2): 0.07266931107578847, (4, 0, 4, 0): -0.043876742951911685, (5, 2, 3, 0): 0.0, (4, 1, 4, 1): -0.04285080044979396, (4, 2, 4, 2): -0.0598025765350723, (3, 2, 3, 2): -0.18395324793157478, (4, 1, 3, 2): 0.08111203349163343, (3, 0, 3, 0): -0.08420965151961866, (5, 1, 5, 1): -0.012054444272735658, (4, 0, 5, 1): -0.02422177021114922}  samples= None\n"
     ]
    },
    {
     "name": "stdout",
     "output_type": "stream",
     "text": [
      "E=-227.96118567  angles= {(3, 0, 5, 2): -0.05991607915724667, (3, 2, 5, 0): 0.013779033452003642, (5, 2, 5, 2): -0.06375042399292412, (4, 2, 3, 1): 0.012941482360772801, (4, 0): 0.0601879710540872, (5, 0, 5, 0): 0.09184024521051207, (3, 1, 3, 1): -0.08420965120450644, (3, 1, 4, 2): 0.01308222640792911, (4, 1, 5, 0): 0.034413031193642286, (3, 2, 4, 1): 0.08119767735169175, (5, 1, 4, 0): -0.008681641011703038, (5, 0, 4, 1): -0.05379256667068629, (5, 0, 3, 2): 0.07266931107578847, (4, 0, 4, 0): -0.043876742951911685, (5, 2, 3, 0): 0.0, (4, 1, 4, 1): -0.04285080044979396, (4, 2, 4, 2): -0.0598025765350723, (3, 2, 3, 2): -0.18395324793157478, (4, 1, 3, 2): 0.08111203349163343, (3, 0, 3, 0): -0.08420965151961866, (5, 1, 5, 1): -0.012054444272735658, (4, 0, 5, 1): -0.02422177021114922}  samples= None\n",
      "E=-227.96119055  angles= {(3, 0, 5, 2): -0.05991607915724667, (3, 2, 5, 0): 0.013779033452003642, (5, 2, 5, 2): -0.06365042399292412, (4, 2, 3, 1): 0.0130414823607728, (4, 0): 0.0601879710540872, (5, 0, 5, 0): 0.09184024521051207, (3, 1, 3, 1): -0.08420965120450644, (3, 1, 4, 2): 0.01308222640792911, (4, 1, 5, 0): 0.034413031193642286, (3, 2, 4, 1): 0.08119767735169175, (5, 1, 4, 0): -0.008681641011703038, (5, 0, 4, 1): -0.05379256667068629, (5, 0, 3, 2): 0.07266931107578847, (4, 0, 4, 0): -0.043876742951911685, (5, 2, 3, 0): 0.0, (4, 1, 4, 1): -0.04285080044979396, (4, 2, 4, 2): -0.0598025765350723, (3, 2, 3, 2): -0.18395324793157478, (4, 1, 3, 2): 0.08111203349163343, (3, 0, 3, 0): -0.08420965151961866, (5, 1, 5, 1): -0.012054444272735658, (4, 0, 5, 1): -0.02422177021114922}  samples= None\n",
      "E=-227.96118983  angles= {(3, 0, 5, 2): -0.05991607915724667, (3, 2, 5, 0): 0.013779033452003642, (5, 2, 5, 2): -0.06365042399292412, (4, 2, 3, 1): 0.012941482360772801, (4, 0): 0.0602879710540872, (5, 0, 5, 0): 0.09184024521051207, (3, 1, 3, 1): -0.08420965120450644, (3, 1, 4, 2): 0.01308222640792911, (4, 1, 5, 0): 0.034413031193642286, (3, 2, 4, 1): 0.08119767735169175, (5, 1, 4, 0): -0.008681641011703038, (5, 0, 4, 1): -0.05379256667068629, (5, 0, 3, 2): 0.07266931107578847, (4, 0, 4, 0): -0.043876742951911685, (5, 2, 3, 0): 0.0, (4, 1, 4, 1): -0.04285080044979396, (4, 2, 4, 2): -0.0598025765350723, (3, 2, 3, 2): -0.18395324793157478, (4, 1, 3, 2): 0.08111203349163343, (3, 0, 3, 0): -0.08420965151961866, (5, 1, 5, 1): -0.012054444272735658, (4, 0, 5, 1): -0.02422177021114922}  samples= None\n",
      "E=-227.96118695  angles= {(3, 0, 5, 2): -0.05991607915724667, (3, 2, 5, 0): 0.013779033452003642, (5, 2, 5, 2): -0.06365042399292412, (4, 2, 3, 1): 0.012941482360772801, (4, 0): 0.0601879710540872, (5, 0, 5, 0): 0.09194024521051207, (3, 1, 3, 1): -0.08420965120450644, (3, 1, 4, 2): 0.01308222640792911, (4, 1, 5, 0): 0.034413031193642286, (3, 2, 4, 1): 0.08119767735169175, (5, 1, 4, 0): -0.008681641011703038, (5, 0, 4, 1): -0.05379256667068629, (5, 0, 3, 2): 0.07266931107578847, (4, 0, 4, 0): -0.043876742951911685, (5, 2, 3, 0): 0.0, (4, 1, 4, 1): -0.04285080044979396, (4, 2, 4, 2): -0.0598025765350723, (3, 2, 3, 2): -0.18395324793157478, (4, 1, 3, 2): 0.08111203349163343, (3, 0, 3, 0): -0.08420965151961866, (5, 1, 5, 1): -0.012054444272735658, (4, 0, 5, 1): -0.02422177021114922}  samples= None\n",
      "E=-227.96118467  angles= {(3, 0, 5, 2): -0.05991607915724667, (3, 2, 5, 0): 0.013779033452003642, (5, 2, 5, 2): -0.06365042399292412, (4, 2, 3, 1): 0.012941482360772801, (4, 0): 0.0601879710540872, (5, 0, 5, 0): 0.09184024521051207, (3, 1, 3, 1): -0.08430965120450644, (3, 1, 4, 2): 0.01308222640792911, (4, 1, 5, 0): 0.034413031193642286, (3, 2, 4, 1): 0.08119767735169175, (5, 1, 4, 0): -0.008681641011703038, (5, 0, 4, 1): -0.05379256667068629, (5, 0, 3, 2): 0.07266931107578847, (4, 0, 4, 0): -0.043876742951911685, (5, 2, 3, 0): 0.0, (4, 1, 4, 1): -0.04285080044979396, (4, 2, 4, 2): -0.0598025765350723, (3, 2, 3, 2): -0.18395324793157478, (4, 1, 3, 2): 0.08111203349163343, (3, 0, 3, 0): -0.08420965151961866, (5, 1, 5, 1): -0.012054444272735658, (4, 0, 5, 1): -0.02422177021114922}  samples= None\n",
      "E=-227.96119058  angles= {(3, 0, 5, 2): -0.05991607915724667, (3, 2, 5, 0): 0.013779033452003642, (5, 2, 5, 2): -0.06365042399292412, (4, 2, 3, 1): 0.012941482360772801, (4, 0): 0.0601879710540872, (5, 0, 5, 0): 0.09184024521051207, (3, 1, 3, 1): -0.08420965120450644, (3, 1, 4, 2): 0.013182226407929109, (4, 1, 5, 0): 0.034413031193642286, (3, 2, 4, 1): 0.08119767735169175, (5, 1, 4, 0): -0.008681641011703038, (5, 0, 4, 1): -0.05379256667068629, (5, 0, 3, 2): 0.07266931107578847, (4, 0, 4, 0): -0.043876742951911685, (5, 2, 3, 0): 0.0, (4, 1, 4, 1): -0.04285080044979396, (4, 2, 4, 2): -0.0598025765350723, (3, 2, 3, 2): -0.18395324793157478, (4, 1, 3, 2): 0.08111203349163343, (3, 0, 3, 0): -0.08420965151961866, (5, 1, 5, 1): -0.012054444272735658, (4, 0, 5, 1): -0.02422177021114922}  samples= None\n",
      "E=-227.96118667  angles= {(3, 0, 5, 2): -0.05991607915724667, (3, 2, 5, 0): 0.013779033452003642, (5, 2, 5, 2): -0.06365042399292412, (4, 2, 3, 1): 0.012941482360772801, (4, 0): 0.0601879710540872, (5, 0, 5, 0): 0.09184024521051207, (3, 1, 3, 1): -0.08420965120450644, (3, 1, 4, 2): 0.01308222640792911, (4, 1, 5, 0): 0.03451303119364229, (3, 2, 4, 1): 0.08119767735169175, (5, 1, 4, 0): -0.008681641011703038, (5, 0, 4, 1): -0.05379256667068629, (5, 0, 3, 2): 0.07266931107578847, (4, 0, 4, 0): -0.043876742951911685, (5, 2, 3, 0): 0.0, (4, 1, 4, 1): -0.04285080044979396, (4, 2, 4, 2): -0.0598025765350723, (3, 2, 3, 2): -0.18395324793157478, (4, 1, 3, 2): 0.08111203349163343, (3, 0, 3, 0): -0.08420965151961866, (5, 1, 5, 1): -0.012054444272735658, (4, 0, 5, 1): -0.02422177021114922}  samples= None\n",
      "E=-227.96118412  angles= {(3, 0, 5, 2): -0.05991607915724667, (3, 2, 5, 0): 0.013779033452003642, (5, 2, 5, 2): -0.06365042399292412, (4, 2, 3, 1): 0.012941482360772801, (4, 0): 0.0601879710540872, (5, 0, 5, 0): 0.09184024521051207, (3, 1, 3, 1): -0.08420965120450644, (3, 1, 4, 2): 0.01308222640792911, (4, 1, 5, 0): 0.034413031193642286, (3, 2, 4, 1): 0.08129767735169176, (5, 1, 4, 0): -0.008681641011703038, (5, 0, 4, 1): -0.05379256667068629, (5, 0, 3, 2): 0.07266931107578847, (4, 0, 4, 0): -0.043876742951911685, (5, 2, 3, 0): 0.0, (4, 1, 4, 1): -0.04285080044979396, (4, 2, 4, 2): -0.0598025765350723, (3, 2, 3, 2): -0.18395324793157478, (4, 1, 3, 2): 0.08111203349163343, (3, 0, 3, 0): -0.08420965151961866, (5, 1, 5, 1): -0.012054444272735658, (4, 0, 5, 1): -0.02422177021114922}  samples= None\n",
      "E=-227.96118965  angles= {(3, 0, 5, 2): -0.05991607915724667, (3, 2, 5, 0): 0.013779033452003642, (5, 2, 5, 2): -0.06365042399292412, (4, 2, 3, 1): 0.012941482360772801, (4, 0): 0.0601879710540872, (5, 0, 5, 0): 0.09184024521051207, (3, 1, 3, 1): -0.08420965120450644, (3, 1, 4, 2): 0.01308222640792911, (4, 1, 5, 0): 0.034413031193642286, (3, 2, 4, 1): 0.08119767735169175, (5, 1, 4, 0): -0.008781641011703038, (5, 0, 4, 1): -0.05379256667068629, (5, 0, 3, 2): 0.07266931107578847, (4, 0, 4, 0): -0.043876742951911685, (5, 2, 3, 0): 0.0, (4, 1, 4, 1): -0.04285080044979396, (4, 2, 4, 2): -0.0598025765350723, (3, 2, 3, 2): -0.18395324793157478, (4, 1, 3, 2): 0.08111203349163343, (3, 0, 3, 0): -0.08420965151961866, (5, 1, 5, 1): -0.012054444272735658, (4, 0, 5, 1): -0.02422177021114922}  samples= None\n",
      "E=-227.96118852  angles= {(3, 0, 5, 2): -0.05991607915724667, (3, 2, 5, 0): 0.013779033452003642, (5, 2, 5, 2): -0.06365042399292412, (4, 2, 3, 1): 0.012941482360772801, (4, 0): 0.0601879710540872, (5, 0, 5, 0): 0.09184024521051207, (3, 1, 3, 1): -0.08420965120450644, (3, 1, 4, 2): 0.01308222640792911, (4, 1, 5, 0): 0.034413031193642286, (3, 2, 4, 1): 0.08119767735169175, (5, 1, 4, 0): -0.008681641011703038, (5, 0, 4, 1): -0.053892566670686294, (5, 0, 3, 2): 0.07266931107578847, (4, 0, 4, 0): -0.043876742951911685, (5, 2, 3, 0): 0.0, (4, 1, 4, 1): -0.04285080044979396, (4, 2, 4, 2): -0.0598025765350723, (3, 2, 3, 2): -0.18395324793157478, (4, 1, 3, 2): 0.08111203349163343, (3, 0, 3, 0): -0.08420965151961866, (5, 1, 5, 1): -0.012054444272735658, (4, 0, 5, 1): -0.02422177021114922}  samples= None\n",
      "E=-227.96119039  angles= {(3, 0, 5, 2): -0.05991607915724667, (3, 2, 5, 0): 0.013779033452003642, (5, 2, 5, 2): -0.06365042399292412, (4, 2, 3, 1): 0.012941482360772801, (4, 0): 0.0601879710540872, (5, 0, 5, 0): 0.09184024521051207, (3, 1, 3, 1): -0.08420965120450644, (3, 1, 4, 2): 0.01308222640792911, (4, 1, 5, 0): 0.034413031193642286, (3, 2, 4, 1): 0.08119767735169175, (5, 1, 4, 0): -0.008681641011703038, (5, 0, 4, 1): -0.05379256667068629, (5, 0, 3, 2): 0.07276931107578848, (4, 0, 4, 0): -0.043876742951911685, (5, 2, 3, 0): 0.0, (4, 1, 4, 1): -0.04285080044979396, (4, 2, 4, 2): -0.0598025765350723, (3, 2, 3, 2): -0.18395324793157478, (4, 1, 3, 2): 0.08111203349163343, (3, 0, 3, 0): -0.08420965151961866, (5, 1, 5, 1): -0.012054444272735658, (4, 0, 5, 1): -0.02422177021114922}  samples= None\n"
     ]
    },
    {
     "name": "stdout",
     "output_type": "stream",
     "text": [
      "E=-227.96118526  angles= {(3, 0, 5, 2): -0.05991607915724667, (3, 2, 5, 0): 0.013779033452003642, (5, 2, 5, 2): -0.06365042399292412, (4, 2, 3, 1): 0.012941482360772801, (4, 0): 0.0601879710540872, (5, 0, 5, 0): 0.09184024521051207, (3, 1, 3, 1): -0.08420965120450644, (3, 1, 4, 2): 0.01308222640792911, (4, 1, 5, 0): 0.034413031193642286, (3, 2, 4, 1): 0.08119767735169175, (5, 1, 4, 0): -0.008681641011703038, (5, 0, 4, 1): -0.05379256667068629, (5, 0, 3, 2): 0.07266931107578847, (4, 0, 4, 0): -0.04397674295191169, (5, 2, 3, 0): 0.0, (4, 1, 4, 1): -0.04285080044979396, (4, 2, 4, 2): -0.0598025765350723, (3, 2, 3, 2): -0.18395324793157478, (4, 1, 3, 2): 0.08111203349163343, (3, 0, 3, 0): -0.08420965151961866, (5, 1, 5, 1): -0.012054444272735658, (4, 0, 5, 1): -0.02422177021114922}  samples= None\n",
      "E=-227.96118690  angles= {(3, 0, 5, 2): -0.05991607915724667, (3, 2, 5, 0): 0.013779033452003642, (5, 2, 5, 2): -0.06365042399292412, (4, 2, 3, 1): 0.012941482360772801, (4, 0): 0.0601879710540872, (5, 0, 5, 0): 0.09184024521051207, (3, 1, 3, 1): -0.08420965120450644, (3, 1, 4, 2): 0.01308222640792911, (4, 1, 5, 0): 0.034413031193642286, (3, 2, 4, 1): 0.08119767735169175, (5, 1, 4, 0): -0.008681641011703038, (5, 0, 4, 1): -0.05379256667068629, (5, 0, 3, 2): 0.07266931107578847, (4, 0, 4, 0): -0.043876742951911685, (5, 2, 3, 0): 0.0001, (4, 1, 4, 1): -0.04285080044979396, (4, 2, 4, 2): -0.0598025765350723, (3, 2, 3, 2): -0.18395324793157478, (4, 1, 3, 2): 0.08111203349163343, (3, 0, 3, 0): -0.08420965151961866, (5, 1, 5, 1): -0.012054444272735658, (4, 0, 5, 1): -0.02422177021114922}  samples= None\n",
      "E=-227.96118637  angles= {(3, 0, 5, 2): -0.05991607915724667, (3, 2, 5, 0): 0.013779033452003642, (5, 2, 5, 2): -0.06365042399292412, (4, 2, 3, 1): 0.012941482360772801, (4, 0): 0.0601879710540872, (5, 0, 5, 0): 0.09184024521051207, (3, 1, 3, 1): -0.08420965120450644, (3, 1, 4, 2): 0.01308222640792911, (4, 1, 5, 0): 0.034413031193642286, (3, 2, 4, 1): 0.08119767735169175, (5, 1, 4, 0): -0.008681641011703038, (5, 0, 4, 1): -0.05379256667068629, (5, 0, 3, 2): 0.07266931107578847, (4, 0, 4, 0): -0.043876742951911685, (5, 2, 3, 0): 0.0, (4, 1, 4, 1): -0.04295080044979396, (4, 2, 4, 2): -0.0598025765350723, (3, 2, 3, 2): -0.18395324793157478, (4, 1, 3, 2): 0.08111203349163343, (3, 0, 3, 0): -0.08420965151961866, (5, 1, 5, 1): -0.012054444272735658, (4, 0, 5, 1): -0.02422177021114922}  samples= None\n",
      "E=-227.96118424  angles= {(3, 0, 5, 2): -0.05991607915724667, (3, 2, 5, 0): 0.013779033452003642, (5, 2, 5, 2): -0.06365042399292412, (4, 2, 3, 1): 0.012941482360772801, (4, 0): 0.0601879710540872, (5, 0, 5, 0): 0.09184024521051207, (3, 1, 3, 1): -0.08420965120450644, (3, 1, 4, 2): 0.01308222640792911, (4, 1, 5, 0): 0.034413031193642286, (3, 2, 4, 1): 0.08119767735169175, (5, 1, 4, 0): -0.008681641011703038, (5, 0, 4, 1): -0.05379256667068629, (5, 0, 3, 2): 0.07266931107578847, (4, 0, 4, 0): -0.043876742951911685, (5, 2, 3, 0): 0.0, (4, 1, 4, 1): -0.04285080044979396, (4, 2, 4, 2): -0.059902576535072305, (3, 2, 3, 2): -0.18395324793157478, (4, 1, 3, 2): 0.08111203349163343, (3, 0, 3, 0): -0.08420965151961866, (5, 1, 5, 1): -0.012054444272735658, (4, 0, 5, 1): -0.02422177021114922}  samples= None\n",
      "E=-227.96118593  angles= {(3, 0, 5, 2): -0.05991607915724667, (3, 2, 5, 0): 0.013779033452003642, (5, 2, 5, 2): -0.06365042399292412, (4, 2, 3, 1): 0.012941482360772801, (4, 0): 0.0601879710540872, (5, 0, 5, 0): 0.09184024521051207, (3, 1, 3, 1): -0.08420965120450644, (3, 1, 4, 2): 0.01308222640792911, (4, 1, 5, 0): 0.034413031193642286, (3, 2, 4, 1): 0.08119767735169175, (5, 1, 4, 0): -0.008681641011703038, (5, 0, 4, 1): -0.05379256667068629, (5, 0, 3, 2): 0.07266931107578847, (4, 0, 4, 0): -0.043876742951911685, (5, 2, 3, 0): 0.0, (4, 1, 4, 1): -0.04285080044979396, (4, 2, 4, 2): -0.0598025765350723, (3, 2, 3, 2): -0.18405324793157476, (4, 1, 3, 2): 0.08111203349163343, (3, 0, 3, 0): -0.08420965151961866, (5, 1, 5, 1): -0.012054444272735658, (4, 0, 5, 1): -0.02422177021114922}  samples= None\n",
      "E=-227.96118411  angles= {(3, 0, 5, 2): -0.05991607915724667, (3, 2, 5, 0): 0.013779033452003642, (5, 2, 5, 2): -0.06365042399292412, (4, 2, 3, 1): 0.012941482360772801, (4, 0): 0.0601879710540872, (5, 0, 5, 0): 0.09184024521051207, (3, 1, 3, 1): -0.08420965120450644, (3, 1, 4, 2): 0.01308222640792911, (4, 1, 5, 0): 0.034413031193642286, (3, 2, 4, 1): 0.08119767735169175, (5, 1, 4, 0): -0.008681641011703038, (5, 0, 4, 1): -0.05379256667068629, (5, 0, 3, 2): 0.07266931107578847, (4, 0, 4, 0): -0.043876742951911685, (5, 2, 3, 0): 0.0, (4, 1, 4, 1): -0.04285080044979396, (4, 2, 4, 2): -0.0598025765350723, (3, 2, 3, 2): -0.18395324793157478, (4, 1, 3, 2): 0.08121203349163343, (3, 0, 3, 0): -0.08420965151961866, (5, 1, 5, 1): -0.012054444272735658, (4, 0, 5, 1): -0.02422177021114922}  samples= None\n",
      "E=-227.96118467  angles= {(3, 0, 5, 2): -0.05991607915724667, (3, 2, 5, 0): 0.013779033452003642, (5, 2, 5, 2): -0.06365042399292412, (4, 2, 3, 1): 0.012941482360772801, (4, 0): 0.0601879710540872, (5, 0, 5, 0): 0.09184024521051207, (3, 1, 3, 1): -0.08420965120450644, (3, 1, 4, 2): 0.01308222640792911, (4, 1, 5, 0): 0.034413031193642286, (3, 2, 4, 1): 0.08119767735169175, (5, 1, 4, 0): -0.008681641011703038, (5, 0, 4, 1): -0.05379256667068629, (5, 0, 3, 2): 0.07266931107578847, (4, 0, 4, 0): -0.043876742951911685, (5, 2, 3, 0): 0.0, (4, 1, 4, 1): -0.04285080044979396, (4, 2, 4, 2): -0.0598025765350723, (3, 2, 3, 2): -0.18395324793157478, (4, 1, 3, 2): 0.08111203349163343, (3, 0, 3, 0): -0.08430965151961867, (5, 1, 5, 1): -0.012054444272735658, (4, 0, 5, 1): -0.02422177021114922}  samples= None\n",
      "E=-227.96118744  angles= {(3, 0, 5, 2): -0.05991607915724667, (3, 2, 5, 0): 0.013779033452003642, (5, 2, 5, 2): -0.06365042399292412, (4, 2, 3, 1): 0.012941482360772801, (4, 0): 0.0601879710540872, (5, 0, 5, 0): 0.09184024521051207, (3, 1, 3, 1): -0.08420965120450644, (3, 1, 4, 2): 0.01308222640792911, (4, 1, 5, 0): 0.034413031193642286, (3, 2, 4, 1): 0.08119767735169175, (5, 1, 4, 0): -0.008681641011703038, (5, 0, 4, 1): -0.05379256667068629, (5, 0, 3, 2): 0.07266931107578847, (4, 0, 4, 0): -0.043876742951911685, (5, 2, 3, 0): 0.0, (4, 1, 4, 1): -0.04285080044979396, (4, 2, 4, 2): -0.0598025765350723, (3, 2, 3, 2): -0.18395324793157478, (4, 1, 3, 2): 0.08111203349163343, (3, 0, 3, 0): -0.08420965151961866, (5, 1, 5, 1): -0.012154444272735657, (4, 0, 5, 1): -0.02422177021114922}  samples= None\n",
      "E=-227.96118883  angles= {(3, 0, 5, 2): -0.05991607915724667, (3, 2, 5, 0): 0.013779033452003642, (5, 2, 5, 2): -0.06365042399292412, (4, 2, 3, 1): 0.012941482360772801, (4, 0): 0.0601879710540872, (5, 0, 5, 0): 0.09184024521051207, (3, 1, 3, 1): -0.08420965120450644, (3, 1, 4, 2): 0.01308222640792911, (4, 1, 5, 0): 0.034413031193642286, (3, 2, 4, 1): 0.08119767735169175, (5, 1, 4, 0): -0.008681641011703038, (5, 0, 4, 1): -0.05379256667068629, (5, 0, 3, 2): 0.07266931107578847, (4, 0, 4, 0): -0.043876742951911685, (5, 2, 3, 0): 0.0, (4, 1, 4, 1): -0.04285080044979396, (4, 2, 4, 2): -0.0598025765350723, (3, 2, 3, 2): -0.18395324793157478, (4, 1, 3, 2): 0.08111203349163343, (3, 0, 3, 0): -0.08420965151961866, (5, 1, 5, 1): -0.012054444272735658, (4, 0, 5, 1): -0.02432177021114922}  samples= None\n",
      "E=-227.96232412  angles= {(3, 0, 5, 2): -0.0874432475298407, (3, 2, 5, 0): 0.00534815662360723, (5, 2, 5, 2): -0.056706632404128925, (4, 2, 3, 1): 0.04214930266061993, (4, 0): 0.08796928713764426, (5, 0, 5, 0): 0.1022541366634835, (3, 1, 3, 1): -0.0733548239325872, (3, 1, 4, 2): 0.042586709011951066, (4, 1, 5, 0): 0.01613310221116771, (3, 2, 4, 1): 0.0735243178394764, (5, 1, 4, 0): -0.006965598251429672, (5, 0, 4, 1): -0.07112263192860424, (5, 0, 3, 2): 0.09107358639685306, (4, 0, 4, 0): -0.027610528265098525, (5, 2, 3, 0): 0.0, (4, 1, 4, 1): -0.03531234650945585, (4, 2, 4, 2): -0.039370302315918496, (3, 2, 3, 2): -0.19952660710476852, (4, 1, 3, 2): 0.0732717083350295, (3, 0, 3, 0): -0.07335482409155594, (5, 1, 5, 1): -0.002363321013737126, (4, 0, 5, 1): -0.023974165556550756}  samples= None\n",
      "E=-227.96232292  angles= {(3, 0, 5, 2): -0.0875432475298407, (3, 2, 5, 0): 0.00534815662360723, (5, 2, 5, 2): -0.056706632404128925, (4, 2, 3, 1): 0.04214930266061993, (4, 0): 0.08796928713764426, (5, 0, 5, 0): 0.1022541366634835, (3, 1, 3, 1): -0.0733548239325872, (3, 1, 4, 2): 0.042586709011951066, (4, 1, 5, 0): 0.01613310221116771, (3, 2, 4, 1): 0.0735243178394764, (5, 1, 4, 0): -0.006965598251429672, (5, 0, 4, 1): -0.07112263192860424, (5, 0, 3, 2): 0.09107358639685306, (4, 0, 4, 0): -0.027610528265098525, (5, 2, 3, 0): 0.0, (4, 1, 4, 1): -0.03531234650945585, (4, 2, 4, 2): -0.039370302315918496, (3, 2, 3, 2): -0.19952660710476852, (4, 1, 3, 2): 0.0732717083350295, (3, 0, 3, 0): -0.07335482409155594, (5, 1, 5, 1): -0.002363321013737126, (4, 0, 5, 1): -0.023974165556550756}  samples= None\n"
     ]
    },
    {
     "name": "stdout",
     "output_type": "stream",
     "text": [
      "E=-227.96232284  angles= {(3, 0, 5, 2): -0.0874432475298407, (3, 2, 5, 0): 0.00544815662360723, (5, 2, 5, 2): -0.056706632404128925, (4, 2, 3, 1): 0.04214930266061993, (4, 0): 0.08796928713764426, (5, 0, 5, 0): 0.1022541366634835, (3, 1, 3, 1): -0.0733548239325872, (3, 1, 4, 2): 0.042586709011951066, (4, 1, 5, 0): 0.01613310221116771, (3, 2, 4, 1): 0.0735243178394764, (5, 1, 4, 0): -0.006965598251429672, (5, 0, 4, 1): -0.07112263192860424, (5, 0, 3, 2): 0.09107358639685306, (4, 0, 4, 0): -0.027610528265098525, (5, 2, 3, 0): 0.0, (4, 1, 4, 1): -0.03531234650945585, (4, 2, 4, 2): -0.039370302315918496, (3, 2, 3, 2): -0.19952660710476852, (4, 1, 3, 2): 0.0732717083350295, (3, 0, 3, 0): -0.07335482409155594, (5, 1, 5, 1): -0.002363321013737126, (4, 0, 5, 1): -0.023974165556550756}  samples= None\n",
      "E=-227.96232455  angles= {(3, 0, 5, 2): -0.0874432475298407, (3, 2, 5, 0): 0.00534815662360723, (5, 2, 5, 2): -0.05680663240412893, (4, 2, 3, 1): 0.04214930266061993, (4, 0): 0.08796928713764426, (5, 0, 5, 0): 0.1022541366634835, (3, 1, 3, 1): -0.0733548239325872, (3, 1, 4, 2): 0.042586709011951066, (4, 1, 5, 0): 0.01613310221116771, (3, 2, 4, 1): 0.0735243178394764, (5, 1, 4, 0): -0.006965598251429672, (5, 0, 4, 1): -0.07112263192860424, (5, 0, 3, 2): 0.09107358639685306, (4, 0, 4, 0): -0.027610528265098525, (5, 2, 3, 0): 0.0, (4, 1, 4, 1): -0.03531234650945585, (4, 2, 4, 2): -0.039370302315918496, (3, 2, 3, 2): -0.19952660710476852, (4, 1, 3, 2): 0.0732717083350295, (3, 0, 3, 0): -0.07335482409155594, (5, 1, 5, 1): -0.002363321013737126, (4, 0, 5, 1): -0.023974165556550756}  samples= None\n",
      "E=-227.96232264  angles= {(3, 0, 5, 2): -0.0874432475298407, (3, 2, 5, 0): 0.00534815662360723, (5, 2, 5, 2): -0.056706632404128925, (4, 2, 3, 1): 0.042249302660619936, (4, 0): 0.08796928713764426, (5, 0, 5, 0): 0.1022541366634835, (3, 1, 3, 1): -0.0733548239325872, (3, 1, 4, 2): 0.042586709011951066, (4, 1, 5, 0): 0.01613310221116771, (3, 2, 4, 1): 0.0735243178394764, (5, 1, 4, 0): -0.006965598251429672, (5, 0, 4, 1): -0.07112263192860424, (5, 0, 3, 2): 0.09107358639685306, (4, 0, 4, 0): -0.027610528265098525, (5, 2, 3, 0): 0.0, (4, 1, 4, 1): -0.03531234650945585, (4, 2, 4, 2): -0.039370302315918496, (3, 2, 3, 2): -0.19952660710476852, (4, 1, 3, 2): 0.0732717083350295, (3, 0, 3, 0): -0.07335482409155594, (5, 1, 5, 1): -0.002363321013737126, (4, 0, 5, 1): -0.023974165556550756}  samples= None\n",
      "E=-227.96232291  angles= {(3, 0, 5, 2): -0.0874432475298407, (3, 2, 5, 0): 0.00534815662360723, (5, 2, 5, 2): -0.056706632404128925, (4, 2, 3, 1): 0.04214930266061993, (4, 0): 0.08806928713764427, (5, 0, 5, 0): 0.1022541366634835, (3, 1, 3, 1): -0.0733548239325872, (3, 1, 4, 2): 0.042586709011951066, (4, 1, 5, 0): 0.01613310221116771, (3, 2, 4, 1): 0.0735243178394764, (5, 1, 4, 0): -0.006965598251429672, (5, 0, 4, 1): -0.07112263192860424, (5, 0, 3, 2): 0.09107358639685306, (4, 0, 4, 0): -0.027610528265098525, (5, 2, 3, 0): 0.0, (4, 1, 4, 1): -0.03531234650945585, (4, 2, 4, 2): -0.039370302315918496, (3, 2, 3, 2): -0.19952660710476852, (4, 1, 3, 2): 0.0732717083350295, (3, 0, 3, 0): -0.07335482409155594, (5, 1, 5, 1): -0.002363321013737126, (4, 0, 5, 1): -0.023974165556550756}  samples= None\n",
      "E=-227.96232402  angles= {(3, 0, 5, 2): -0.0874432475298407, (3, 2, 5, 0): 0.00534815662360723, (5, 2, 5, 2): -0.056706632404128925, (4, 2, 3, 1): 0.04214930266061993, (4, 0): 0.08796928713764426, (5, 0, 5, 0): 0.1023541366634835, (3, 1, 3, 1): -0.0733548239325872, (3, 1, 4, 2): 0.042586709011951066, (4, 1, 5, 0): 0.01613310221116771, (3, 2, 4, 1): 0.0735243178394764, (5, 1, 4, 0): -0.006965598251429672, (5, 0, 4, 1): -0.07112263192860424, (5, 0, 3, 2): 0.09107358639685306, (4, 0, 4, 0): -0.027610528265098525, (5, 2, 3, 0): 0.0, (4, 1, 4, 1): -0.03531234650945585, (4, 2, 4, 2): -0.039370302315918496, (3, 2, 3, 2): -0.19952660710476852, (4, 1, 3, 2): 0.0732717083350295, (3, 0, 3, 0): -0.07335482409155594, (5, 1, 5, 1): -0.002363321013737126, (4, 0, 5, 1): -0.023974165556550756}  samples= None\n",
      "E=-227.96232412  angles= {(3, 0, 5, 2): -0.0874432475298407, (3, 2, 5, 0): 0.00534815662360723, (5, 2, 5, 2): -0.056706632404128925, (4, 2, 3, 1): 0.04214930266061993, (4, 0): 0.08796928713764426, (5, 0, 5, 0): 0.1022541366634835, (3, 1, 3, 1): -0.0734548239325872, (3, 1, 4, 2): 0.042586709011951066, (4, 1, 5, 0): 0.01613310221116771, (3, 2, 4, 1): 0.0735243178394764, (5, 1, 4, 0): -0.006965598251429672, (5, 0, 4, 1): -0.07112263192860424, (5, 0, 3, 2): 0.09107358639685306, (4, 0, 4, 0): -0.027610528265098525, (5, 2, 3, 0): 0.0, (4, 1, 4, 1): -0.03531234650945585, (4, 2, 4, 2): -0.039370302315918496, (3, 2, 3, 2): -0.19952660710476852, (4, 1, 3, 2): 0.0732717083350295, (3, 0, 3, 0): -0.07335482409155594, (5, 1, 5, 1): -0.002363321013737126, (4, 0, 5, 1): -0.023974165556550756}  samples= None\n",
      "E=-227.96232263  angles= {(3, 0, 5, 2): -0.0874432475298407, (3, 2, 5, 0): 0.00534815662360723, (5, 2, 5, 2): -0.056706632404128925, (4, 2, 3, 1): 0.04214930266061993, (4, 0): 0.08796928713764426, (5, 0, 5, 0): 0.1022541366634835, (3, 1, 3, 1): -0.0733548239325872, (3, 1, 4, 2): 0.04268670901195107, (4, 1, 5, 0): 0.01613310221116771, (3, 2, 4, 1): 0.0735243178394764, (5, 1, 4, 0): -0.006965598251429672, (5, 0, 4, 1): -0.07112263192860424, (5, 0, 3, 2): 0.09107358639685306, (4, 0, 4, 0): -0.027610528265098525, (5, 2, 3, 0): 0.0, (4, 1, 4, 1): -0.03531234650945585, (4, 2, 4, 2): -0.039370302315918496, (3, 2, 3, 2): -0.19952660710476852, (4, 1, 3, 2): 0.0732717083350295, (3, 0, 3, 0): -0.07335482409155594, (5, 1, 5, 1): -0.002363321013737126, (4, 0, 5, 1): -0.023974165556550756}  samples= None\n",
      "E=-227.96232165  angles= {(3, 0, 5, 2): -0.0874432475298407, (3, 2, 5, 0): 0.00534815662360723, (5, 2, 5, 2): -0.056706632404128925, (4, 2, 3, 1): 0.04214930266061993, (4, 0): 0.08796928713764426, (5, 0, 5, 0): 0.1022541366634835, (3, 1, 3, 1): -0.0733548239325872, (3, 1, 4, 2): 0.042586709011951066, (4, 1, 5, 0): 0.01623310221116771, (3, 2, 4, 1): 0.0735243178394764, (5, 1, 4, 0): -0.006965598251429672, (5, 0, 4, 1): -0.07112263192860424, (5, 0, 3, 2): 0.09107358639685306, (4, 0, 4, 0): -0.027610528265098525, (5, 2, 3, 0): 0.0, (4, 1, 4, 1): -0.03531234650945585, (4, 2, 4, 2): -0.039370302315918496, (3, 2, 3, 2): -0.19952660710476852, (4, 1, 3, 2): 0.0732717083350295, (3, 0, 3, 0): -0.07335482409155594, (5, 1, 5, 1): -0.002363321013737126, (4, 0, 5, 1): -0.023974165556550756}  samples= None\n",
      "E=-227.96232915  angles= {(3, 0, 5, 2): -0.0874432475298407, (3, 2, 5, 0): 0.00534815662360723, (5, 2, 5, 2): -0.056706632404128925, (4, 2, 3, 1): 0.04214930266061993, (4, 0): 0.08796928713764426, (5, 0, 5, 0): 0.1022541366634835, (3, 1, 3, 1): -0.0733548239325872, (3, 1, 4, 2): 0.042586709011951066, (4, 1, 5, 0): 0.01613310221116771, (3, 2, 4, 1): 0.0736243178394764, (5, 1, 4, 0): -0.006965598251429672, (5, 0, 4, 1): -0.07112263192860424, (5, 0, 3, 2): 0.09107358639685306, (4, 0, 4, 0): -0.027610528265098525, (5, 2, 3, 0): 0.0, (4, 1, 4, 1): -0.03531234650945585, (4, 2, 4, 2): -0.039370302315918496, (3, 2, 3, 2): -0.19952660710476852, (4, 1, 3, 2): 0.0732717083350295, (3, 0, 3, 0): -0.07335482409155594, (5, 1, 5, 1): -0.002363321013737126, (4, 0, 5, 1): -0.023974165556550756}  samples= None\n",
      "E=-227.96232575  angles= {(3, 0, 5, 2): -0.0874432475298407, (3, 2, 5, 0): 0.00534815662360723, (5, 2, 5, 2): -0.056706632404128925, (4, 2, 3, 1): 0.04214930266061993, (4, 0): 0.08796928713764426, (5, 0, 5, 0): 0.1022541366634835, (3, 1, 3, 1): -0.0733548239325872, (3, 1, 4, 2): 0.042586709011951066, (4, 1, 5, 0): 0.01613310221116771, (3, 2, 4, 1): 0.0735243178394764, (5, 1, 4, 0): -0.007065598251429672, (5, 0, 4, 1): -0.07112263192860424, (5, 0, 3, 2): 0.09107358639685306, (4, 0, 4, 0): -0.027610528265098525, (5, 2, 3, 0): 0.0, (4, 1, 4, 1): -0.03531234650945585, (4, 2, 4, 2): -0.039370302315918496, (3, 2, 3, 2): -0.19952660710476852, (4, 1, 3, 2): 0.0732717083350295, (3, 0, 3, 0): -0.07335482409155594, (5, 1, 5, 1): -0.002363321013737126, (4, 0, 5, 1): -0.023974165556550756}  samples= None\n",
      "E=-227.96231955  angles= {(3, 0, 5, 2): -0.0874432475298407, (3, 2, 5, 0): 0.00534815662360723, (5, 2, 5, 2): -0.056706632404128925, (4, 2, 3, 1): 0.04214930266061993, (4, 0): 0.08796928713764426, (5, 0, 5, 0): 0.1022541366634835, (3, 1, 3, 1): -0.0733548239325872, (3, 1, 4, 2): 0.042586709011951066, (4, 1, 5, 0): 0.01613310221116771, (3, 2, 4, 1): 0.0735243178394764, (5, 1, 4, 0): -0.006965598251429672, (5, 0, 4, 1): -0.07122263192860424, (5, 0, 3, 2): 0.09107358639685306, (4, 0, 4, 0): -0.027610528265098525, (5, 2, 3, 0): 0.0, (4, 1, 4, 1): -0.03531234650945585, (4, 2, 4, 2): -0.039370302315918496, (3, 2, 3, 2): -0.19952660710476852, (4, 1, 3, 2): 0.0732717083350295, (3, 0, 3, 0): -0.07335482409155594, (5, 1, 5, 1): -0.002363321013737126, (4, 0, 5, 1): -0.023974165556550756}  samples= None\n"
     ]
    },
    {
     "name": "stdout",
     "output_type": "stream",
     "text": [
      "E=-227.96232163  angles= {(3, 0, 5, 2): -0.0874432475298407, (3, 2, 5, 0): 0.00534815662360723, (5, 2, 5, 2): -0.056706632404128925, (4, 2, 3, 1): 0.04214930266061993, (4, 0): 0.08796928713764426, (5, 0, 5, 0): 0.1022541366634835, (3, 1, 3, 1): -0.0733548239325872, (3, 1, 4, 2): 0.042586709011951066, (4, 1, 5, 0): 0.01613310221116771, (3, 2, 4, 1): 0.0735243178394764, (5, 1, 4, 0): -0.006965598251429672, (5, 0, 4, 1): -0.07112263192860424, (5, 0, 3, 2): 0.09117358639685307, (4, 0, 4, 0): -0.027610528265098525, (5, 2, 3, 0): 0.0, (4, 1, 4, 1): -0.03531234650945585, (4, 2, 4, 2): -0.039370302315918496, (3, 2, 3, 2): -0.19952660710476852, (4, 1, 3, 2): 0.0732717083350295, (3, 0, 3, 0): -0.07335482409155594, (5, 1, 5, 1): -0.002363321013737126, (4, 0, 5, 1): -0.023974165556550756}  samples= None\n",
      "E=-227.96232604  angles= {(3, 0, 5, 2): -0.0874432475298407, (3, 2, 5, 0): 0.00534815662360723, (5, 2, 5, 2): -0.056706632404128925, (4, 2, 3, 1): 0.04214930266061993, (4, 0): 0.08796928713764426, (5, 0, 5, 0): 0.1022541366634835, (3, 1, 3, 1): -0.0733548239325872, (3, 1, 4, 2): 0.042586709011951066, (4, 1, 5, 0): 0.01613310221116771, (3, 2, 4, 1): 0.0735243178394764, (5, 1, 4, 0): -0.006965598251429672, (5, 0, 4, 1): -0.07112263192860424, (5, 0, 3, 2): 0.09107358639685306, (4, 0, 4, 0): -0.027710528265098525, (5, 2, 3, 0): 0.0, (4, 1, 4, 1): -0.03531234650945585, (4, 2, 4, 2): -0.039370302315918496, (3, 2, 3, 2): -0.19952660710476852, (4, 1, 3, 2): 0.0732717083350295, (3, 0, 3, 0): -0.07335482409155594, (5, 1, 5, 1): -0.002363321013737126, (4, 0, 5, 1): -0.023974165556550756}  samples= None\n",
      "E=-227.96232412  angles= {(3, 0, 5, 2): -0.0874432475298407, (3, 2, 5, 0): 0.00534815662360723, (5, 2, 5, 2): -0.056706632404128925, (4, 2, 3, 1): 0.04214930266061993, (4, 0): 0.08796928713764426, (5, 0, 5, 0): 0.1022541366634835, (3, 1, 3, 1): -0.0733548239325872, (3, 1, 4, 2): 0.042586709011951066, (4, 1, 5, 0): 0.01613310221116771, (3, 2, 4, 1): 0.0735243178394764, (5, 1, 4, 0): -0.006965598251429672, (5, 0, 4, 1): -0.07112263192860424, (5, 0, 3, 2): 0.09107358639685306, (4, 0, 4, 0): -0.027610528265098525, (5, 2, 3, 0): 0.0001, (4, 1, 4, 1): -0.03531234650945585, (4, 2, 4, 2): -0.039370302315918496, (3, 2, 3, 2): -0.19952660710476852, (4, 1, 3, 2): 0.0732717083350295, (3, 0, 3, 0): -0.07335482409155594, (5, 1, 5, 1): -0.002363321013737126, (4, 0, 5, 1): -0.023974165556550756}  samples= None\n",
      "E=-227.96232428  angles= {(3, 0, 5, 2): -0.0874432475298407, (3, 2, 5, 0): 0.00534815662360723, (5, 2, 5, 2): -0.056706632404128925, (4, 2, 3, 1): 0.04214930266061993, (4, 0): 0.08796928713764426, (5, 0, 5, 0): 0.1022541366634835, (3, 1, 3, 1): -0.0733548239325872, (3, 1, 4, 2): 0.042586709011951066, (4, 1, 5, 0): 0.01613310221116771, (3, 2, 4, 1): 0.0735243178394764, (5, 1, 4, 0): -0.006965598251429672, (5, 0, 4, 1): -0.07112263192860424, (5, 0, 3, 2): 0.09107358639685306, (4, 0, 4, 0): -0.027610528265098525, (5, 2, 3, 0): 0.0, (4, 1, 4, 1): -0.03541234650945585, (4, 2, 4, 2): -0.039370302315918496, (3, 2, 3, 2): -0.19952660710476852, (4, 1, 3, 2): 0.0732717083350295, (3, 0, 3, 0): -0.07335482409155594, (5, 1, 5, 1): -0.002363321013737126, (4, 0, 5, 1): -0.023974165556550756}  samples= None\n",
      "E=-227.96232547  angles= {(3, 0, 5, 2): -0.0874432475298407, (3, 2, 5, 0): 0.00534815662360723, (5, 2, 5, 2): -0.056706632404128925, (4, 2, 3, 1): 0.04214930266061993, (4, 0): 0.08796928713764426, (5, 0, 5, 0): 0.1022541366634835, (3, 1, 3, 1): -0.0733548239325872, (3, 1, 4, 2): 0.042586709011951066, (4, 1, 5, 0): 0.01613310221116771, (3, 2, 4, 1): 0.0735243178394764, (5, 1, 4, 0): -0.006965598251429672, (5, 0, 4, 1): -0.07112263192860424, (5, 0, 3, 2): 0.09107358639685306, (4, 0, 4, 0): -0.027610528265098525, (5, 2, 3, 0): 0.0, (4, 1, 4, 1): -0.03531234650945585, (4, 2, 4, 2): -0.0394703023159185, (3, 2, 3, 2): -0.19952660710476852, (4, 1, 3, 2): 0.0732717083350295, (3, 0, 3, 0): -0.07335482409155594, (5, 1, 5, 1): -0.002363321013737126, (4, 0, 5, 1): -0.023974165556550756}  samples= None\n",
      "E=-227.96232131  angles= {(3, 0, 5, 2): -0.0874432475298407, (3, 2, 5, 0): 0.00534815662360723, (5, 2, 5, 2): -0.056706632404128925, (4, 2, 3, 1): 0.04214930266061993, (4, 0): 0.08796928713764426, (5, 0, 5, 0): 0.1022541366634835, (3, 1, 3, 1): -0.0733548239325872, (3, 1, 4, 2): 0.042586709011951066, (4, 1, 5, 0): 0.01613310221116771, (3, 2, 4, 1): 0.0735243178394764, (5, 1, 4, 0): -0.006965598251429672, (5, 0, 4, 1): -0.07112263192860424, (5, 0, 3, 2): 0.09107358639685306, (4, 0, 4, 0): -0.027610528265098525, (5, 2, 3, 0): 0.0, (4, 1, 4, 1): -0.03531234650945585, (4, 2, 4, 2): -0.039370302315918496, (3, 2, 3, 2): -0.1996266071047685, (4, 1, 3, 2): 0.0732717083350295, (3, 0, 3, 0): -0.07335482409155594, (5, 1, 5, 1): -0.002363321013737126, (4, 0, 5, 1): -0.023974165556550756}  samples= None\n",
      "E=-227.96232915  angles= {(3, 0, 5, 2): -0.0874432475298407, (3, 2, 5, 0): 0.00534815662360723, (5, 2, 5, 2): -0.056706632404128925, (4, 2, 3, 1): 0.04214930266061993, (4, 0): 0.08796928713764426, (5, 0, 5, 0): 0.1022541366634835, (3, 1, 3, 1): -0.0733548239325872, (3, 1, 4, 2): 0.042586709011951066, (4, 1, 5, 0): 0.01613310221116771, (3, 2, 4, 1): 0.0735243178394764, (5, 1, 4, 0): -0.006965598251429672, (5, 0, 4, 1): -0.07112263192860424, (5, 0, 3, 2): 0.09107358639685306, (4, 0, 4, 0): -0.027610528265098525, (5, 2, 3, 0): 0.0, (4, 1, 4, 1): -0.03531234650945585, (4, 2, 4, 2): -0.039370302315918496, (3, 2, 3, 2): -0.19952660710476852, (4, 1, 3, 2): 0.0733717083350295, (3, 0, 3, 0): -0.07335482409155594, (5, 1, 5, 1): -0.002363321013737126, (4, 0, 5, 1): -0.023974165556550756}  samples= None\n",
      "E=-227.96232412  angles= {(3, 0, 5, 2): -0.0874432475298407, (3, 2, 5, 0): 0.00534815662360723, (5, 2, 5, 2): -0.056706632404128925, (4, 2, 3, 1): 0.04214930266061993, (4, 0): 0.08796928713764426, (5, 0, 5, 0): 0.1022541366634835, (3, 1, 3, 1): -0.0733548239325872, (3, 1, 4, 2): 0.042586709011951066, (4, 1, 5, 0): 0.01613310221116771, (3, 2, 4, 1): 0.0735243178394764, (5, 1, 4, 0): -0.006965598251429672, (5, 0, 4, 1): -0.07112263192860424, (5, 0, 3, 2): 0.09107358639685306, (4, 0, 4, 0): -0.027610528265098525, (5, 2, 3, 0): 0.0, (4, 1, 4, 1): -0.03531234650945585, (4, 2, 4, 2): -0.039370302315918496, (3, 2, 3, 2): -0.19952660710476852, (4, 1, 3, 2): 0.0732717083350295, (3, 0, 3, 0): -0.07345482409155595, (5, 1, 5, 1): -0.002363321013737126, (4, 0, 5, 1): -0.023974165556550756}  samples= None\n",
      "E=-227.96232277  angles= {(3, 0, 5, 2): -0.0874432475298407, (3, 2, 5, 0): 0.00534815662360723, (5, 2, 5, 2): -0.056706632404128925, (4, 2, 3, 1): 0.04214930266061993, (4, 0): 0.08796928713764426, (5, 0, 5, 0): 0.1022541366634835, (3, 1, 3, 1): -0.0733548239325872, (3, 1, 4, 2): 0.042586709011951066, (4, 1, 5, 0): 0.01613310221116771, (3, 2, 4, 1): 0.0735243178394764, (5, 1, 4, 0): -0.006965598251429672, (5, 0, 4, 1): -0.07112263192860424, (5, 0, 3, 2): 0.09107358639685306, (4, 0, 4, 0): -0.027610528265098525, (5, 2, 3, 0): 0.0, (4, 1, 4, 1): -0.03531234650945585, (4, 2, 4, 2): -0.039370302315918496, (3, 2, 3, 2): -0.19952660710476852, (4, 1, 3, 2): 0.0732717083350295, (3, 0, 3, 0): -0.07335482409155594, (5, 1, 5, 1): -0.0024633210137371257, (4, 0, 5, 1): -0.023974165556550756}  samples= None\n",
      "E=-227.96233133  angles= {(3, 0, 5, 2): -0.0874432475298407, (3, 2, 5, 0): 0.00534815662360723, (5, 2, 5, 2): -0.056706632404128925, (4, 2, 3, 1): 0.04214930266061993, (4, 0): 0.08796928713764426, (5, 0, 5, 0): 0.1022541366634835, (3, 1, 3, 1): -0.0733548239325872, (3, 1, 4, 2): 0.042586709011951066, (4, 1, 5, 0): 0.01613310221116771, (3, 2, 4, 1): 0.0735243178394764, (5, 1, 4, 0): -0.006965598251429672, (5, 0, 4, 1): -0.07112263192860424, (5, 0, 3, 2): 0.09107358639685306, (4, 0, 4, 0): -0.027610528265098525, (5, 2, 3, 0): 0.0, (4, 1, 4, 1): -0.03531234650945585, (4, 2, 4, 2): -0.039370302315918496, (3, 2, 3, 2): -0.19952660710476852, (4, 1, 3, 2): 0.0732717083350295, (3, 0, 3, 0): -0.07335482409155594, (5, 1, 5, 1): -0.002363321013737126, (4, 0, 5, 1): -0.024074165556550755}  samples= None\n",
      "E=-227.96389480  angles= {(3, 0, 5, 2): -0.09207703865246412, (3, 2, 5, 0): 0.0020269693343772217, (5, 2, 5, 2): -0.054860801045609, (4, 2, 3, 1): 0.04654744343608143, (4, 0): 0.09265655045005773, (5, 0, 5, 0): 0.10306036414763248, (3, 1, 3, 1): -0.06906132350249417, (3, 1, 4, 2): 0.047042757430593336, (4, 1, 5, 0): 0.006013685352552823, (3, 2, 4, 1): 0.08075951123234143, (5, 1, 4, 0): -0.011094978449365078, (5, 0, 4, 1): -0.0665866722076766, (5, 0, 3, 2): 0.0922174749167557, (4, 0, 4, 0): -0.02740824068665929, (5, 2, 3, 0): 0.0, (4, 1, 4, 1): -0.03385979432455396, (4, 2, 4, 2): -0.03617586931423472, (3, 2, 3, 2): -0.19431469640069204, (4, 1, 3, 2): 0.08047568991739804, (3, 0, 3, 0): -0.06906132389507737, (5, 1, 5, 1): 0.001370012046249623, (4, 0, 5, 1): -0.03975888136921665}  samples= None\n"
     ]
    },
    {
     "name": "stdout",
     "output_type": "stream",
     "text": [
      "E=-227.96389330  angles= {(3, 0, 5, 2): -0.09217703865246413, (3, 2, 5, 0): 0.0020269693343772217, (5, 2, 5, 2): -0.054860801045609, (4, 2, 3, 1): 0.04654744343608143, (4, 0): 0.09265655045005773, (5, 0, 5, 0): 0.10306036414763248, (3, 1, 3, 1): -0.06906132350249417, (3, 1, 4, 2): 0.047042757430593336, (4, 1, 5, 0): 0.006013685352552823, (3, 2, 4, 1): 0.08075951123234143, (5, 1, 4, 0): -0.011094978449365078, (5, 0, 4, 1): -0.0665866722076766, (5, 0, 3, 2): 0.0922174749167557, (4, 0, 4, 0): -0.02740824068665929, (5, 2, 3, 0): 0.0, (4, 1, 4, 1): -0.03385979432455396, (4, 2, 4, 2): -0.03617586931423472, (3, 2, 3, 2): -0.19431469640069204, (4, 1, 3, 2): 0.08047568991739804, (3, 0, 3, 0): -0.06906132389507737, (5, 1, 5, 1): 0.001370012046249623, (4, 0, 5, 1): -0.03975888136921665}  samples= None\n",
      "E=-227.96389407  angles= {(3, 0, 5, 2): -0.09207703865246412, (3, 2, 5, 0): 0.0021269693343772215, (5, 2, 5, 2): -0.054860801045609, (4, 2, 3, 1): 0.04654744343608143, (4, 0): 0.09265655045005773, (5, 0, 5, 0): 0.10306036414763248, (3, 1, 3, 1): -0.06906132350249417, (3, 1, 4, 2): 0.047042757430593336, (4, 1, 5, 0): 0.006013685352552823, (3, 2, 4, 1): 0.08075951123234143, (5, 1, 4, 0): -0.011094978449365078, (5, 0, 4, 1): -0.0665866722076766, (5, 0, 3, 2): 0.0922174749167557, (4, 0, 4, 0): -0.02740824068665929, (5, 2, 3, 0): 0.0, (4, 1, 4, 1): -0.03385979432455396, (4, 2, 4, 2): -0.03617586931423472, (3, 2, 3, 2): -0.19431469640069204, (4, 1, 3, 2): 0.08047568991739804, (3, 0, 3, 0): -0.06906132389507737, (5, 1, 5, 1): 0.001370012046249623, (4, 0, 5, 1): -0.03975888136921665}  samples= None\n",
      "E=-227.96389606  angles= {(3, 0, 5, 2): -0.09207703865246412, (3, 2, 5, 0): 0.0020269693343772217, (5, 2, 5, 2): -0.054960801045609006, (4, 2, 3, 1): 0.04654744343608143, (4, 0): 0.09265655045005773, (5, 0, 5, 0): 0.10306036414763248, (3, 1, 3, 1): -0.06906132350249417, (3, 1, 4, 2): 0.047042757430593336, (4, 1, 5, 0): 0.006013685352552823, (3, 2, 4, 1): 0.08075951123234143, (5, 1, 4, 0): -0.011094978449365078, (5, 0, 4, 1): -0.0665866722076766, (5, 0, 3, 2): 0.0922174749167557, (4, 0, 4, 0): -0.02740824068665929, (5, 2, 3, 0): 0.0, (4, 1, 4, 1): -0.03385979432455396, (4, 2, 4, 2): -0.03617586931423472, (3, 2, 3, 2): -0.19431469640069204, (4, 1, 3, 2): 0.08047568991739804, (3, 0, 3, 0): -0.06906132389507737, (5, 1, 5, 1): 0.001370012046249623, (4, 0, 5, 1): -0.03975888136921665}  samples= None\n",
      "E=-227.96389463  angles= {(3, 0, 5, 2): -0.09207703865246412, (3, 2, 5, 0): 0.0020269693343772217, (5, 2, 5, 2): -0.054860801045609, (4, 2, 3, 1): 0.04664744343608143, (4, 0): 0.09265655045005773, (5, 0, 5, 0): 0.10306036414763248, (3, 1, 3, 1): -0.06906132350249417, (3, 1, 4, 2): 0.047042757430593336, (4, 1, 5, 0): 0.006013685352552823, (3, 2, 4, 1): 0.08075951123234143, (5, 1, 4, 0): -0.011094978449365078, (5, 0, 4, 1): -0.0665866722076766, (5, 0, 3, 2): 0.0922174749167557, (4, 0, 4, 0): -0.02740824068665929, (5, 2, 3, 0): 0.0, (4, 1, 4, 1): -0.03385979432455396, (4, 2, 4, 2): -0.03617586931423472, (3, 2, 3, 2): -0.19431469640069204, (4, 1, 3, 2): 0.08047568991739804, (3, 0, 3, 0): -0.06906132389507737, (5, 1, 5, 1): 0.001370012046249623, (4, 0, 5, 1): -0.03975888136921665}  samples= None\n",
      "E=-227.96389329  angles= {(3, 0, 5, 2): -0.09207703865246412, (3, 2, 5, 0): 0.0020269693343772217, (5, 2, 5, 2): -0.054860801045609, (4, 2, 3, 1): 0.04654744343608143, (4, 0): 0.09275655045005773, (5, 0, 5, 0): 0.10306036414763248, (3, 1, 3, 1): -0.06906132350249417, (3, 1, 4, 2): 0.047042757430593336, (4, 1, 5, 0): 0.006013685352552823, (3, 2, 4, 1): 0.08075951123234143, (5, 1, 4, 0): -0.011094978449365078, (5, 0, 4, 1): -0.0665866722076766, (5, 0, 3, 2): 0.0922174749167557, (4, 0, 4, 0): -0.02740824068665929, (5, 2, 3, 0): 0.0, (4, 1, 4, 1): -0.03385979432455396, (4, 2, 4, 2): -0.03617586931423472, (3, 2, 3, 2): -0.19431469640069204, (4, 1, 3, 2): 0.08047568991739804, (3, 0, 3, 0): -0.06906132389507737, (5, 1, 5, 1): 0.001370012046249623, (4, 0, 5, 1): -0.03975888136921665}  samples= None\n",
      "E=-227.96389518  angles= {(3, 0, 5, 2): -0.09207703865246412, (3, 2, 5, 0): 0.0020269693343772217, (5, 2, 5, 2): -0.054860801045609, (4, 2, 3, 1): 0.04654744343608143, (4, 0): 0.09265655045005773, (5, 0, 5, 0): 0.10316036414763248, (3, 1, 3, 1): -0.06906132350249417, (3, 1, 4, 2): 0.047042757430593336, (4, 1, 5, 0): 0.006013685352552823, (3, 2, 4, 1): 0.08075951123234143, (5, 1, 4, 0): -0.011094978449365078, (5, 0, 4, 1): -0.0665866722076766, (5, 0, 3, 2): 0.0922174749167557, (4, 0, 4, 0): -0.02740824068665929, (5, 2, 3, 0): 0.0, (4, 1, 4, 1): -0.03385979432455396, (4, 2, 4, 2): -0.03617586931423472, (3, 2, 3, 2): -0.19431469640069204, (4, 1, 3, 2): 0.08047568991739804, (3, 0, 3, 0): -0.06906132389507737, (5, 1, 5, 1): 0.001370012046249623, (4, 0, 5, 1): -0.03975888136921665}  samples= None\n",
      "E=-227.96389555  angles= {(3, 0, 5, 2): -0.09207703865246412, (3, 2, 5, 0): 0.0020269693343772217, (5, 2, 5, 2): -0.054860801045609, (4, 2, 3, 1): 0.04654744343608143, (4, 0): 0.09265655045005773, (5, 0, 5, 0): 0.10306036414763248, (3, 1, 3, 1): -0.06916132350249417, (3, 1, 4, 2): 0.047042757430593336, (4, 1, 5, 0): 0.006013685352552823, (3, 2, 4, 1): 0.08075951123234143, (5, 1, 4, 0): -0.011094978449365078, (5, 0, 4, 1): -0.0665866722076766, (5, 0, 3, 2): 0.0922174749167557, (4, 0, 4, 0): -0.02740824068665929, (5, 2, 3, 0): 0.0, (4, 1, 4, 1): -0.03385979432455396, (4, 2, 4, 2): -0.03617586931423472, (3, 2, 3, 2): -0.19431469640069204, (4, 1, 3, 2): 0.08047568991739804, (3, 0, 3, 0): -0.06906132389507737, (5, 1, 5, 1): 0.001370012046249623, (4, 0, 5, 1): -0.03975888136921665}  samples= None\n",
      "E=-227.96389463  angles= {(3, 0, 5, 2): -0.09207703865246412, (3, 2, 5, 0): 0.0020269693343772217, (5, 2, 5, 2): -0.054860801045609, (4, 2, 3, 1): 0.04654744343608143, (4, 0): 0.09265655045005773, (5, 0, 5, 0): 0.10306036414763248, (3, 1, 3, 1): -0.06906132350249417, (3, 1, 4, 2): 0.04714275743059334, (4, 1, 5, 0): 0.006013685352552823, (3, 2, 4, 1): 0.08075951123234143, (5, 1, 4, 0): -0.011094978449365078, (5, 0, 4, 1): -0.0665866722076766, (5, 0, 3, 2): 0.0922174749167557, (4, 0, 4, 0): -0.02740824068665929, (5, 2, 3, 0): 0.0, (4, 1, 4, 1): -0.03385979432455396, (4, 2, 4, 2): -0.03617586931423472, (3, 2, 3, 2): -0.19431469640069204, (4, 1, 3, 2): 0.08047568991739804, (3, 0, 3, 0): -0.06906132389507737, (5, 1, 5, 1): 0.001370012046249623, (4, 0, 5, 1): -0.03975888136921665}  samples= None\n",
      "E=-227.96389263  angles= {(3, 0, 5, 2): -0.09207703865246412, (3, 2, 5, 0): 0.0020269693343772217, (5, 2, 5, 2): -0.054860801045609, (4, 2, 3, 1): 0.04654744343608143, (4, 0): 0.09265655045005773, (5, 0, 5, 0): 0.10306036414763248, (3, 1, 3, 1): -0.06906132350249417, (3, 1, 4, 2): 0.047042757430593336, (4, 1, 5, 0): 0.0061136853525528235, (3, 2, 4, 1): 0.08075951123234143, (5, 1, 4, 0): -0.011094978449365078, (5, 0, 4, 1): -0.0665866722076766, (5, 0, 3, 2): 0.0922174749167557, (4, 0, 4, 0): -0.02740824068665929, (5, 2, 3, 0): 0.0, (4, 1, 4, 1): -0.03385979432455396, (4, 2, 4, 2): -0.03617586931423472, (3, 2, 3, 2): -0.19431469640069204, (4, 1, 3, 2): 0.08047568991739804, (3, 0, 3, 0): -0.06906132389507737, (5, 1, 5, 1): 0.001370012046249623, (4, 0, 5, 1): -0.03975888136921665}  samples= None\n",
      "E=-227.96389712  angles= {(3, 0, 5, 2): -0.09207703865246412, (3, 2, 5, 0): 0.0020269693343772217, (5, 2, 5, 2): -0.054860801045609, (4, 2, 3, 1): 0.04654744343608143, (4, 0): 0.09265655045005773, (5, 0, 5, 0): 0.10306036414763248, (3, 1, 3, 1): -0.06906132350249417, (3, 1, 4, 2): 0.047042757430593336, (4, 1, 5, 0): 0.006013685352552823, (3, 2, 4, 1): 0.08085951123234143, (5, 1, 4, 0): -0.011094978449365078, (5, 0, 4, 1): -0.0665866722076766, (5, 0, 3, 2): 0.0922174749167557, (4, 0, 4, 0): -0.02740824068665929, (5, 2, 3, 0): 0.0, (4, 1, 4, 1): -0.03385979432455396, (4, 2, 4, 2): -0.03617586931423472, (3, 2, 3, 2): -0.19431469640069204, (4, 1, 3, 2): 0.08047568991739804, (3, 0, 3, 0): -0.06906132389507737, (5, 1, 5, 1): 0.001370012046249623, (4, 0, 5, 1): -0.03975888136921665}  samples= None\n",
      "E=-227.96389430  angles= {(3, 0, 5, 2): -0.09207703865246412, (3, 2, 5, 0): 0.0020269693343772217, (5, 2, 5, 2): -0.054860801045609, (4, 2, 3, 1): 0.04654744343608143, (4, 0): 0.09265655045005773, (5, 0, 5, 0): 0.10306036414763248, (3, 1, 3, 1): -0.06906132350249417, (3, 1, 4, 2): 0.047042757430593336, (4, 1, 5, 0): 0.006013685352552823, (3, 2, 4, 1): 0.08075951123234143, (5, 1, 4, 0): -0.011194978449365078, (5, 0, 4, 1): -0.0665866722076766, (5, 0, 3, 2): 0.0922174749167557, (4, 0, 4, 0): -0.02740824068665929, (5, 2, 3, 0): 0.0, (4, 1, 4, 1): -0.03385979432455396, (4, 2, 4, 2): -0.03617586931423472, (3, 2, 3, 2): -0.19431469640069204, (4, 1, 3, 2): 0.08047568991739804, (3, 0, 3, 0): -0.06906132389507737, (5, 1, 5, 1): 0.001370012046249623, (4, 0, 5, 1): -0.03975888136921665}  samples= None\n"
     ]
    },
    {
     "name": "stdout",
     "output_type": "stream",
     "text": [
      "E=-227.96389329  angles= {(3, 0, 5, 2): -0.09207703865246412, (3, 2, 5, 0): 0.0020269693343772217, (5, 2, 5, 2): -0.054860801045609, (4, 2, 3, 1): 0.04654744343608143, (4, 0): 0.09265655045005773, (5, 0, 5, 0): 0.10306036414763248, (3, 1, 3, 1): -0.06906132350249417, (3, 1, 4, 2): 0.047042757430593336, (4, 1, 5, 0): 0.006013685352552823, (3, 2, 4, 1): 0.08075951123234143, (5, 1, 4, 0): -0.011094978449365078, (5, 0, 4, 1): -0.0666866722076766, (5, 0, 3, 2): 0.0922174749167557, (4, 0, 4, 0): -0.02740824068665929, (5, 2, 3, 0): 0.0, (4, 1, 4, 1): -0.03385979432455396, (4, 2, 4, 2): -0.03617586931423472, (3, 2, 3, 2): -0.19431469640069204, (4, 1, 3, 2): 0.08047568991739804, (3, 0, 3, 0): -0.06906132389507737, (5, 1, 5, 1): 0.001370012046249623, (4, 0, 5, 1): -0.03975888136921665}  samples= None\n",
      "E=-227.96389258  angles= {(3, 0, 5, 2): -0.09207703865246412, (3, 2, 5, 0): 0.0020269693343772217, (5, 2, 5, 2): -0.054860801045609, (4, 2, 3, 1): 0.04654744343608143, (4, 0): 0.09265655045005773, (5, 0, 5, 0): 0.10306036414763248, (3, 1, 3, 1): -0.06906132350249417, (3, 1, 4, 2): 0.047042757430593336, (4, 1, 5, 0): 0.006013685352552823, (3, 2, 4, 1): 0.08075951123234143, (5, 1, 4, 0): -0.011094978449365078, (5, 0, 4, 1): -0.0665866722076766, (5, 0, 3, 2): 0.09231747491675571, (4, 0, 4, 0): -0.02740824068665929, (5, 2, 3, 0): 0.0, (4, 1, 4, 1): -0.03385979432455396, (4, 2, 4, 2): -0.03617586931423472, (3, 2, 3, 2): -0.19431469640069204, (4, 1, 3, 2): 0.08047568991739804, (3, 0, 3, 0): -0.06906132389507737, (5, 1, 5, 1): 0.001370012046249623, (4, 0, 5, 1): -0.03975888136921665}  samples= None\n",
      "E=-227.96389678  angles= {(3, 0, 5, 2): -0.09207703865246412, (3, 2, 5, 0): 0.0020269693343772217, (5, 2, 5, 2): -0.054860801045609, (4, 2, 3, 1): 0.04654744343608143, (4, 0): 0.09265655045005773, (5, 0, 5, 0): 0.10306036414763248, (3, 1, 3, 1): -0.06906132350249417, (3, 1, 4, 2): 0.047042757430593336, (4, 1, 5, 0): 0.006013685352552823, (3, 2, 4, 1): 0.08075951123234143, (5, 1, 4, 0): -0.011094978449365078, (5, 0, 4, 1): -0.0665866722076766, (5, 0, 3, 2): 0.0922174749167557, (4, 0, 4, 0): -0.027508240686659288, (5, 2, 3, 0): 0.0, (4, 1, 4, 1): -0.03385979432455396, (4, 2, 4, 2): -0.03617586931423472, (3, 2, 3, 2): -0.19431469640069204, (4, 1, 3, 2): 0.08047568991739804, (3, 0, 3, 0): -0.06906132389507737, (5, 1, 5, 1): 0.001370012046249623, (4, 0, 5, 1): -0.03975888136921665}  samples= None\n",
      "E=-227.96389480  angles= {(3, 0, 5, 2): -0.09207703865246412, (3, 2, 5, 0): 0.0020269693343772217, (5, 2, 5, 2): -0.054860801045609, (4, 2, 3, 1): 0.04654744343608143, (4, 0): 0.09265655045005773, (5, 0, 5, 0): 0.10306036414763248, (3, 1, 3, 1): -0.06906132350249417, (3, 1, 4, 2): 0.047042757430593336, (4, 1, 5, 0): 0.006013685352552823, (3, 2, 4, 1): 0.08075951123234143, (5, 1, 4, 0): -0.011094978449365078, (5, 0, 4, 1): -0.0665866722076766, (5, 0, 3, 2): 0.0922174749167557, (4, 0, 4, 0): -0.02740824068665929, (5, 2, 3, 0): 0.0001, (4, 1, 4, 1): -0.03385979432455396, (4, 2, 4, 2): -0.03617586931423472, (3, 2, 3, 2): -0.19431469640069204, (4, 1, 3, 2): 0.08047568991739804, (3, 0, 3, 0): -0.06906132389507737, (5, 1, 5, 1): 0.001370012046249623, (4, 0, 5, 1): -0.03975888136921665}  samples= None\n",
      "E=-227.96389546  angles= {(3, 0, 5, 2): -0.09207703865246412, (3, 2, 5, 0): 0.0020269693343772217, (5, 2, 5, 2): -0.054860801045609, (4, 2, 3, 1): 0.04654744343608143, (4, 0): 0.09265655045005773, (5, 0, 5, 0): 0.10306036414763248, (3, 1, 3, 1): -0.06906132350249417, (3, 1, 4, 2): 0.047042757430593336, (4, 1, 5, 0): 0.006013685352552823, (3, 2, 4, 1): 0.08075951123234143, (5, 1, 4, 0): -0.011094978449365078, (5, 0, 4, 1): -0.0665866722076766, (5, 0, 3, 2): 0.0922174749167557, (4, 0, 4, 0): -0.02740824068665929, (5, 2, 3, 0): 0.0, (4, 1, 4, 1): -0.03395979432455396, (4, 2, 4, 2): -0.03617586931423472, (3, 2, 3, 2): -0.19431469640069204, (4, 1, 3, 2): 0.08047568991739804, (3, 0, 3, 0): -0.06906132389507737, (5, 1, 5, 1): 0.001370012046249623, (4, 0, 5, 1): -0.03975888136921665}  samples= None\n",
      "E=-227.96389664  angles= {(3, 0, 5, 2): -0.09207703865246412, (3, 2, 5, 0): 0.0020269693343772217, (5, 2, 5, 2): -0.054860801045609, (4, 2, 3, 1): 0.04654744343608143, (4, 0): 0.09265655045005773, (5, 0, 5, 0): 0.10306036414763248, (3, 1, 3, 1): -0.06906132350249417, (3, 1, 4, 2): 0.047042757430593336, (4, 1, 5, 0): 0.006013685352552823, (3, 2, 4, 1): 0.08075951123234143, (5, 1, 4, 0): -0.011094978449365078, (5, 0, 4, 1): -0.0665866722076766, (5, 0, 3, 2): 0.0922174749167557, (4, 0, 4, 0): -0.02740824068665929, (5, 2, 3, 0): 0.0, (4, 1, 4, 1): -0.03385979432455396, (4, 2, 4, 2): -0.036275869314234724, (3, 2, 3, 2): -0.19431469640069204, (4, 1, 3, 2): 0.08047568991739804, (3, 0, 3, 0): -0.06906132389507737, (5, 1, 5, 1): 0.001370012046249623, (4, 0, 5, 1): -0.03975888136921665}  samples= None\n",
      "E=-227.96389321  angles= {(3, 0, 5, 2): -0.09207703865246412, (3, 2, 5, 0): 0.0020269693343772217, (5, 2, 5, 2): -0.054860801045609, (4, 2, 3, 1): 0.04654744343608143, (4, 0): 0.09265655045005773, (5, 0, 5, 0): 0.10306036414763248, (3, 1, 3, 1): -0.06906132350249417, (3, 1, 4, 2): 0.047042757430593336, (4, 1, 5, 0): 0.006013685352552823, (3, 2, 4, 1): 0.08075951123234143, (5, 1, 4, 0): -0.011094978449365078, (5, 0, 4, 1): -0.0665866722076766, (5, 0, 3, 2): 0.0922174749167557, (4, 0, 4, 0): -0.02740824068665929, (5, 2, 3, 0): 0.0, (4, 1, 4, 1): -0.03385979432455396, (4, 2, 4, 2): -0.03617586931423472, (3, 2, 3, 2): -0.19441469640069203, (4, 1, 3, 2): 0.08047568991739804, (3, 0, 3, 0): -0.06906132389507737, (5, 1, 5, 1): 0.001370012046249623, (4, 0, 5, 1): -0.03975888136921665}  samples= None\n",
      "E=-227.96389712  angles= {(3, 0, 5, 2): -0.09207703865246412, (3, 2, 5, 0): 0.0020269693343772217, (5, 2, 5, 2): -0.054860801045609, (4, 2, 3, 1): 0.04654744343608143, (4, 0): 0.09265655045005773, (5, 0, 5, 0): 0.10306036414763248, (3, 1, 3, 1): -0.06906132350249417, (3, 1, 4, 2): 0.047042757430593336, (4, 1, 5, 0): 0.006013685352552823, (3, 2, 4, 1): 0.08075951123234143, (5, 1, 4, 0): -0.011094978449365078, (5, 0, 4, 1): -0.0665866722076766, (5, 0, 3, 2): 0.0922174749167557, (4, 0, 4, 0): -0.02740824068665929, (5, 2, 3, 0): 0.0, (4, 1, 4, 1): -0.03385979432455396, (4, 2, 4, 2): -0.03617586931423472, (3, 2, 3, 2): -0.19431469640069204, (4, 1, 3, 2): 0.08057568991739804, (3, 0, 3, 0): -0.06906132389507737, (5, 1, 5, 1): 0.001370012046249623, (4, 0, 5, 1): -0.03975888136921665}  samples= None\n",
      "E=-227.96389555  angles= {(3, 0, 5, 2): -0.09207703865246412, (3, 2, 5, 0): 0.0020269693343772217, (5, 2, 5, 2): -0.054860801045609, (4, 2, 3, 1): 0.04654744343608143, (4, 0): 0.09265655045005773, (5, 0, 5, 0): 0.10306036414763248, (3, 1, 3, 1): -0.06906132350249417, (3, 1, 4, 2): 0.047042757430593336, (4, 1, 5, 0): 0.006013685352552823, (3, 2, 4, 1): 0.08075951123234143, (5, 1, 4, 0): -0.011094978449365078, (5, 0, 4, 1): -0.0665866722076766, (5, 0, 3, 2): 0.0922174749167557, (4, 0, 4, 0): -0.02740824068665929, (5, 2, 3, 0): 0.0, (4, 1, 4, 1): -0.03385979432455396, (4, 2, 4, 2): -0.03617586931423472, (3, 2, 3, 2): -0.19431469640069204, (4, 1, 3, 2): 0.08047568991739804, (3, 0, 3, 0): -0.06916132389507737, (5, 1, 5, 1): 0.001370012046249623, (4, 0, 5, 1): -0.03975888136921665}  samples= None\n",
      "E=-227.96389556  angles= {(3, 0, 5, 2): -0.09207703865246412, (3, 2, 5, 0): 0.0020269693343772217, (5, 2, 5, 2): -0.054860801045609, (4, 2, 3, 1): 0.04654744343608143, (4, 0): 0.09265655045005773, (5, 0, 5, 0): 0.10306036414763248, (3, 1, 3, 1): -0.06906132350249417, (3, 1, 4, 2): 0.047042757430593336, (4, 1, 5, 0): 0.006013685352552823, (3, 2, 4, 1): 0.08075951123234143, (5, 1, 4, 0): -0.011094978449365078, (5, 0, 4, 1): -0.0665866722076766, (5, 0, 3, 2): 0.0922174749167557, (4, 0, 4, 0): -0.02740824068665929, (5, 2, 3, 0): 0.0, (4, 1, 4, 1): -0.03385979432455396, (4, 2, 4, 2): -0.03617586931423472, (3, 2, 3, 2): -0.19431469640069204, (4, 1, 3, 2): 0.08047568991739804, (3, 0, 3, 0): -0.06906132389507737, (5, 1, 5, 1): 0.001470012046249623, (4, 0, 5, 1): -0.03975888136921665}  samples= None\n",
      "E=-227.96389759  angles= {(3, 0, 5, 2): -0.09207703865246412, (3, 2, 5, 0): 0.0020269693343772217, (5, 2, 5, 2): -0.054860801045609, (4, 2, 3, 1): 0.04654744343608143, (4, 0): 0.09265655045005773, (5, 0, 5, 0): 0.10306036414763248, (3, 1, 3, 1): -0.06906132350249417, (3, 1, 4, 2): 0.047042757430593336, (4, 1, 5, 0): 0.006013685352552823, (3, 2, 4, 1): 0.08075951123234143, (5, 1, 4, 0): -0.011094978449365078, (5, 0, 4, 1): -0.0665866722076766, (5, 0, 3, 2): 0.0922174749167557, (4, 0, 4, 0): -0.02740824068665929, (5, 2, 3, 0): 0.0, (4, 1, 4, 1): -0.03385979432455396, (4, 2, 4, 2): -0.03617586931423472, (3, 2, 3, 2): -0.19431469640069204, (4, 1, 3, 2): 0.08047568991739804, (3, 0, 3, 0): -0.06906132389507737, (5, 1, 5, 1): 0.001370012046249623, (4, 0, 5, 1): -0.039858881369216656}  samples= None\n"
     ]
    },
    {
     "name": "stdout",
     "output_type": "stream",
     "text": [
      "E=-227.96502791  angles= {(3, 0, 5, 2): -0.08431468286703096, (3, 2, 5, 0): -0.0009876719708607376, (5, 2, 5, 2): -0.06832943220020671, (4, 2, 3, 1): 0.06353816520136857, (4, 0): 0.08482603367405779, (5, 0, 5, 0): 0.10936324022819201, (3, 1, 3, 1): -0.07227477612951345, (3, 1, 4, 2): 0.06423301827369005, (4, 1, 5, 0): -0.018010341985457624, (3, 2, 4, 1): 0.08610490124041098, (5, 1, 4, 0): -0.008861737230815491, (5, 0, 4, 1): -0.06703399035296008, (5, 0, 3, 2): 0.08157751890567069, (4, 0, 4, 0): -0.04517303261951422, (5, 2, 3, 0): 0.0, (4, 1, 4, 1): -0.04202387518183481, (4, 2, 4, 2): -0.049961716227197486, (3, 2, 3, 2): -0.17585527179186425, (4, 1, 3, 2): 0.08570348462866731, (3, 0, 3, 0): -0.07227477661765726, (5, 1, 5, 1): 0.004740648985516836, (4, 0, 5, 1): -0.06364973357307384}  samples= None\n",
      "E=-227.96502799  angles= {(3, 0, 5, 2): -0.08441468286703097, (3, 2, 5, 0): -0.0009876719708607376, (5, 2, 5, 2): -0.06832943220020671, (4, 2, 3, 1): 0.06353816520136857, (4, 0): 0.08482603367405779, (5, 0, 5, 0): 0.10936324022819201, (3, 1, 3, 1): -0.07227477612951345, (3, 1, 4, 2): 0.06423301827369005, (4, 1, 5, 0): -0.018010341985457624, (3, 2, 4, 1): 0.08610490124041098, (5, 1, 4, 0): -0.008861737230815491, (5, 0, 4, 1): -0.06703399035296008, (5, 0, 3, 2): 0.08157751890567069, (4, 0, 4, 0): -0.04517303261951422, (5, 2, 3, 0): 0.0, (4, 1, 4, 1): -0.04202387518183481, (4, 2, 4, 2): -0.049961716227197486, (3, 2, 3, 2): -0.17585527179186425, (4, 1, 3, 2): 0.08570348462866731, (3, 0, 3, 0): -0.07227477661765726, (5, 1, 5, 1): 0.004740648985516836, (4, 0, 5, 1): -0.06364973357307384}  samples= None\n",
      "E=-227.96502737  angles= {(3, 0, 5, 2): -0.08431468286703096, (3, 2, 5, 0): -0.0010876719708607376, (5, 2, 5, 2): -0.06832943220020671, (4, 2, 3, 1): 0.06353816520136857, (4, 0): 0.08482603367405779, (5, 0, 5, 0): 0.10936324022819201, (3, 1, 3, 1): -0.07227477612951345, (3, 1, 4, 2): 0.06423301827369005, (4, 1, 5, 0): -0.018010341985457624, (3, 2, 4, 1): 0.08610490124041098, (5, 1, 4, 0): -0.008861737230815491, (5, 0, 4, 1): -0.06703399035296008, (5, 0, 3, 2): 0.08157751890567069, (4, 0, 4, 0): -0.04517303261951422, (5, 2, 3, 0): 0.0, (4, 1, 4, 1): -0.04202387518183481, (4, 2, 4, 2): -0.049961716227197486, (3, 2, 3, 2): -0.17585527179186425, (4, 1, 3, 2): 0.08570348462866731, (3, 0, 3, 0): -0.07227477661765726, (5, 1, 5, 1): 0.004740648985516836, (4, 0, 5, 1): -0.06364973357307384}  samples= None\n",
      "E=-227.96502532  angles= {(3, 0, 5, 2): -0.08431468286703096, (3, 2, 5, 0): -0.0009876719708607376, (5, 2, 5, 2): -0.06842943220020671, (4, 2, 3, 1): 0.06353816520136857, (4, 0): 0.08482603367405779, (5, 0, 5, 0): 0.10936324022819201, (3, 1, 3, 1): -0.07227477612951345, (3, 1, 4, 2): 0.06423301827369005, (4, 1, 5, 0): -0.018010341985457624, (3, 2, 4, 1): 0.08610490124041098, (5, 1, 4, 0): -0.008861737230815491, (5, 0, 4, 1): -0.06703399035296008, (5, 0, 3, 2): 0.08157751890567069, (4, 0, 4, 0): -0.04517303261951422, (5, 2, 3, 0): 0.0, (4, 1, 4, 1): -0.04202387518183481, (4, 2, 4, 2): -0.049961716227197486, (3, 2, 3, 2): -0.17585527179186425, (4, 1, 3, 2): 0.08570348462866731, (3, 0, 3, 0): -0.07227477661765726, (5, 1, 5, 1): 0.004740648985516836, (4, 0, 5, 1): -0.06364973357307384}  samples= None\n",
      "E=-227.96502872  angles= {(3, 0, 5, 2): -0.08431468286703096, (3, 2, 5, 0): -0.0009876719708607376, (5, 2, 5, 2): -0.06832943220020671, (4, 2, 3, 1): 0.06363816520136857, (4, 0): 0.08482603367405779, (5, 0, 5, 0): 0.10936324022819201, (3, 1, 3, 1): -0.07227477612951345, (3, 1, 4, 2): 0.06423301827369005, (4, 1, 5, 0): -0.018010341985457624, (3, 2, 4, 1): 0.08610490124041098, (5, 1, 4, 0): -0.008861737230815491, (5, 0, 4, 1): -0.06703399035296008, (5, 0, 3, 2): 0.08157751890567069, (4, 0, 4, 0): -0.04517303261951422, (5, 2, 3, 0): 0.0, (4, 1, 4, 1): -0.04202387518183481, (4, 2, 4, 2): -0.049961716227197486, (3, 2, 3, 2): -0.17585527179186425, (4, 1, 3, 2): 0.08570348462866731, (3, 0, 3, 0): -0.07227477661765726, (5, 1, 5, 1): 0.004740648985516836, (4, 0, 5, 1): -0.06364973357307384}  samples= None\n",
      "E=-227.96502798  angles= {(3, 0, 5, 2): -0.08431468286703096, (3, 2, 5, 0): -0.0009876719708607376, (5, 2, 5, 2): -0.06832943220020671, (4, 2, 3, 1): 0.06353816520136857, (4, 0): 0.0849260336740578, (5, 0, 5, 0): 0.10936324022819201, (3, 1, 3, 1): -0.07227477612951345, (3, 1, 4, 2): 0.06423301827369005, (4, 1, 5, 0): -0.018010341985457624, (3, 2, 4, 1): 0.08610490124041098, (5, 1, 4, 0): -0.008861737230815491, (5, 0, 4, 1): -0.06703399035296008, (5, 0, 3, 2): 0.08157751890567069, (4, 0, 4, 0): -0.04517303261951422, (5, 2, 3, 0): 0.0, (4, 1, 4, 1): -0.04202387518183481, (4, 2, 4, 2): -0.049961716227197486, (3, 2, 3, 2): -0.17585527179186425, (4, 1, 3, 2): 0.08570348462866731, (3, 0, 3, 0): -0.07227477661765726, (5, 1, 5, 1): 0.004740648985516836, (4, 0, 5, 1): -0.06364973357307384}  samples= None\n",
      "E=-227.96503024  angles= {(3, 0, 5, 2): -0.08431468286703096, (3, 2, 5, 0): -0.0009876719708607376, (5, 2, 5, 2): -0.06832943220020671, (4, 2, 3, 1): 0.06353816520136857, (4, 0): 0.08482603367405779, (5, 0, 5, 0): 0.10946324022819201, (3, 1, 3, 1): -0.07227477612951345, (3, 1, 4, 2): 0.06423301827369005, (4, 1, 5, 0): -0.018010341985457624, (3, 2, 4, 1): 0.08610490124041098, (5, 1, 4, 0): -0.008861737230815491, (5, 0, 4, 1): -0.06703399035296008, (5, 0, 3, 2): 0.08157751890567069, (4, 0, 4, 0): -0.04517303261951422, (5, 2, 3, 0): 0.0, (4, 1, 4, 1): -0.04202387518183481, (4, 2, 4, 2): -0.049961716227197486, (3, 2, 3, 2): -0.17585527179186425, (4, 1, 3, 2): 0.08570348462866731, (3, 0, 3, 0): -0.07227477661765726, (5, 1, 5, 1): 0.004740648985516836, (4, 0, 5, 1): -0.06364973357307384}  samples= None\n",
      "E=-227.96502767  angles= {(3, 0, 5, 2): -0.08431468286703096, (3, 2, 5, 0): -0.0009876719708607376, (5, 2, 5, 2): -0.06832943220020671, (4, 2, 3, 1): 0.06353816520136857, (4, 0): 0.08482603367405779, (5, 0, 5, 0): 0.10936324022819201, (3, 1, 3, 1): -0.07237477612951346, (3, 1, 4, 2): 0.06423301827369005, (4, 1, 5, 0): -0.018010341985457624, (3, 2, 4, 1): 0.08610490124041098, (5, 1, 4, 0): -0.008861737230815491, (5, 0, 4, 1): -0.06703399035296008, (5, 0, 3, 2): 0.08157751890567069, (4, 0, 4, 0): -0.04517303261951422, (5, 2, 3, 0): 0.0, (4, 1, 4, 1): -0.04202387518183481, (4, 2, 4, 2): -0.049961716227197486, (3, 2, 3, 2): -0.17585527179186425, (4, 1, 3, 2): 0.08570348462866731, (3, 0, 3, 0): -0.07227477661765726, (5, 1, 5, 1): 0.004740648985516836, (4, 0, 5, 1): -0.06364973357307384}  samples= None\n",
      "E=-227.96502874  angles= {(3, 0, 5, 2): -0.08431468286703096, (3, 2, 5, 0): -0.0009876719708607376, (5, 2, 5, 2): -0.06832943220020671, (4, 2, 3, 1): 0.06353816520136857, (4, 0): 0.08482603367405779, (5, 0, 5, 0): 0.10936324022819201, (3, 1, 3, 1): -0.07227477612951345, (3, 1, 4, 2): 0.06433301827369005, (4, 1, 5, 0): -0.018010341985457624, (3, 2, 4, 1): 0.08610490124041098, (5, 1, 4, 0): -0.008861737230815491, (5, 0, 4, 1): -0.06703399035296008, (5, 0, 3, 2): 0.08157751890567069, (4, 0, 4, 0): -0.04517303261951422, (5, 2, 3, 0): 0.0, (4, 1, 4, 1): -0.04202387518183481, (4, 2, 4, 2): -0.049961716227197486, (3, 2, 3, 2): -0.17585527179186425, (4, 1, 3, 2): 0.08570348462866731, (3, 0, 3, 0): -0.07227477661765726, (5, 1, 5, 1): 0.004740648985516836, (4, 0, 5, 1): -0.06364973357307384}  samples= None\n",
      "E=-227.96502698  angles= {(3, 0, 5, 2): -0.08431468286703096, (3, 2, 5, 0): -0.0009876719708607376, (5, 2, 5, 2): -0.06832943220020671, (4, 2, 3, 1): 0.06353816520136857, (4, 0): 0.08482603367405779, (5, 0, 5, 0): 0.10936324022819201, (3, 1, 3, 1): -0.07227477612951345, (3, 1, 4, 2): 0.06423301827369005, (4, 1, 5, 0): -0.018110341985457624, (3, 2, 4, 1): 0.08610490124041098, (5, 1, 4, 0): -0.008861737230815491, (5, 0, 4, 1): -0.06703399035296008, (5, 0, 3, 2): 0.08157751890567069, (4, 0, 4, 0): -0.04517303261951422, (5, 2, 3, 0): 0.0, (4, 1, 4, 1): -0.04202387518183481, (4, 2, 4, 2): -0.049961716227197486, (3, 2, 3, 2): -0.17585527179186425, (4, 1, 3, 2): 0.08570348462866731, (3, 0, 3, 0): -0.07227477661765726, (5, 1, 5, 1): 0.004740648985516836, (4, 0, 5, 1): -0.06364973357307384}  samples= None\n",
      "E=-227.96502847  angles= {(3, 0, 5, 2): -0.08431468286703096, (3, 2, 5, 0): -0.0009876719708607376, (5, 2, 5, 2): -0.06832943220020671, (4, 2, 3, 1): 0.06353816520136857, (4, 0): 0.08482603367405779, (5, 0, 5, 0): 0.10936324022819201, (3, 1, 3, 1): -0.07227477612951345, (3, 1, 4, 2): 0.06423301827369005, (4, 1, 5, 0): -0.018010341985457624, (3, 2, 4, 1): 0.08620490124041098, (5, 1, 4, 0): -0.008861737230815491, (5, 0, 4, 1): -0.06703399035296008, (5, 0, 3, 2): 0.08157751890567069, (4, 0, 4, 0): -0.04517303261951422, (5, 2, 3, 0): 0.0, (4, 1, 4, 1): -0.04202387518183481, (4, 2, 4, 2): -0.049961716227197486, (3, 2, 3, 2): -0.17585527179186425, (4, 1, 3, 2): 0.08570348462866731, (3, 0, 3, 0): -0.07227477661765726, (5, 1, 5, 1): 0.004740648985516836, (4, 0, 5, 1): -0.06364973357307384}  samples= None\n"
     ]
    },
    {
     "name": "stdout",
     "output_type": "stream",
     "text": [
      "E=-227.96502650  angles= {(3, 0, 5, 2): -0.08431468286703096, (3, 2, 5, 0): -0.0009876719708607376, (5, 2, 5, 2): -0.06832943220020671, (4, 2, 3, 1): 0.06353816520136857, (4, 0): 0.08482603367405779, (5, 0, 5, 0): 0.10936324022819201, (3, 1, 3, 1): -0.07227477612951345, (3, 1, 4, 2): 0.06423301827369005, (4, 1, 5, 0): -0.018010341985457624, (3, 2, 4, 1): 0.08610490124041098, (5, 1, 4, 0): -0.00896173723081549, (5, 0, 4, 1): -0.06703399035296008, (5, 0, 3, 2): 0.08157751890567069, (4, 0, 4, 0): -0.04517303261951422, (5, 2, 3, 0): 0.0, (4, 1, 4, 1): -0.04202387518183481, (4, 2, 4, 2): -0.049961716227197486, (3, 2, 3, 2): -0.17585527179186425, (4, 1, 3, 2): 0.08570348462866731, (3, 0, 3, 0): -0.07227477661765726, (5, 1, 5, 1): 0.004740648985516836, (4, 0, 5, 1): -0.06364973357307384}  samples= None\n",
      "E=-227.96502884  angles= {(3, 0, 5, 2): -0.08431468286703096, (3, 2, 5, 0): -0.0009876719708607376, (5, 2, 5, 2): -0.06832943220020671, (4, 2, 3, 1): 0.06353816520136857, (4, 0): 0.08482603367405779, (5, 0, 5, 0): 0.10936324022819201, (3, 1, 3, 1): -0.07227477612951345, (3, 1, 4, 2): 0.06423301827369005, (4, 1, 5, 0): -0.018010341985457624, (3, 2, 4, 1): 0.08610490124041098, (5, 1, 4, 0): -0.008861737230815491, (5, 0, 4, 1): -0.06713399035296008, (5, 0, 3, 2): 0.08157751890567069, (4, 0, 4, 0): -0.04517303261951422, (5, 2, 3, 0): 0.0, (4, 1, 4, 1): -0.04202387518183481, (4, 2, 4, 2): -0.049961716227197486, (3, 2, 3, 2): -0.17585527179186425, (4, 1, 3, 2): 0.08570348462866731, (3, 0, 3, 0): -0.07227477661765726, (5, 1, 5, 1): 0.004740648985516836, (4, 0, 5, 1): -0.06364973357307384}  samples= None\n",
      "E=-227.96502853  angles= {(3, 0, 5, 2): -0.08431468286703096, (3, 2, 5, 0): -0.0009876719708607376, (5, 2, 5, 2): -0.06832943220020671, (4, 2, 3, 1): 0.06353816520136857, (4, 0): 0.08482603367405779, (5, 0, 5, 0): 0.10936324022819201, (3, 1, 3, 1): -0.07227477612951345, (3, 1, 4, 2): 0.06423301827369005, (4, 1, 5, 0): -0.018010341985457624, (3, 2, 4, 1): 0.08610490124041098, (5, 1, 4, 0): -0.008861737230815491, (5, 0, 4, 1): -0.06703399035296008, (5, 0, 3, 2): 0.0816775189056707, (4, 0, 4, 0): -0.04517303261951422, (5, 2, 3, 0): 0.0, (4, 1, 4, 1): -0.04202387518183481, (4, 2, 4, 2): -0.049961716227197486, (3, 2, 3, 2): -0.17585527179186425, (4, 1, 3, 2): 0.08570348462866731, (3, 0, 3, 0): -0.07227477661765726, (5, 1, 5, 1): 0.004740648985516836, (4, 0, 5, 1): -0.06364973357307384}  samples= None\n",
      "E=-227.96502583  angles= {(3, 0, 5, 2): -0.08431468286703096, (3, 2, 5, 0): -0.0009876719708607376, (5, 2, 5, 2): -0.06832943220020671, (4, 2, 3, 1): 0.06353816520136857, (4, 0): 0.08482603367405779, (5, 0, 5, 0): 0.10936324022819201, (3, 1, 3, 1): -0.07227477612951345, (3, 1, 4, 2): 0.06423301827369005, (4, 1, 5, 0): -0.018010341985457624, (3, 2, 4, 1): 0.08610490124041098, (5, 1, 4, 0): -0.008861737230815491, (5, 0, 4, 1): -0.06703399035296008, (5, 0, 3, 2): 0.08157751890567069, (4, 0, 4, 0): -0.04527303261951422, (5, 2, 3, 0): 0.0, (4, 1, 4, 1): -0.04202387518183481, (4, 2, 4, 2): -0.049961716227197486, (3, 2, 3, 2): -0.17585527179186425, (4, 1, 3, 2): 0.08570348462866731, (3, 0, 3, 0): -0.07227477661765726, (5, 1, 5, 1): 0.004740648985516836, (4, 0, 5, 1): -0.06364973357307384}  samples= None\n",
      "E=-227.96502791  angles= {(3, 0, 5, 2): -0.08431468286703096, (3, 2, 5, 0): -0.0009876719708607376, (5, 2, 5, 2): -0.06832943220020671, (4, 2, 3, 1): 0.06353816520136857, (4, 0): 0.08482603367405779, (5, 0, 5, 0): 0.10936324022819201, (3, 1, 3, 1): -0.07227477612951345, (3, 1, 4, 2): 0.06423301827369005, (4, 1, 5, 0): -0.018010341985457624, (3, 2, 4, 1): 0.08610490124041098, (5, 1, 4, 0): -0.008861737230815491, (5, 0, 4, 1): -0.06703399035296008, (5, 0, 3, 2): 0.08157751890567069, (4, 0, 4, 0): -0.04517303261951422, (5, 2, 3, 0): 0.0001, (4, 1, 4, 1): -0.04202387518183481, (4, 2, 4, 2): -0.049961716227197486, (3, 2, 3, 2): -0.17585527179186425, (4, 1, 3, 2): 0.08570348462866731, (3, 0, 3, 0): -0.07227477661765726, (5, 1, 5, 1): 0.004740648985516836, (4, 0, 5, 1): -0.06364973357307384}  samples= None\n",
      "E=-227.96502760  angles= {(3, 0, 5, 2): -0.08431468286703096, (3, 2, 5, 0): -0.0009876719708607376, (5, 2, 5, 2): -0.06832943220020671, (4, 2, 3, 1): 0.06353816520136857, (4, 0): 0.08482603367405779, (5, 0, 5, 0): 0.10936324022819201, (3, 1, 3, 1): -0.07227477612951345, (3, 1, 4, 2): 0.06423301827369005, (4, 1, 5, 0): -0.018010341985457624, (3, 2, 4, 1): 0.08610490124041098, (5, 1, 4, 0): -0.008861737230815491, (5, 0, 4, 1): -0.06703399035296008, (5, 0, 3, 2): 0.08157751890567069, (4, 0, 4, 0): -0.04517303261951422, (5, 2, 3, 0): 0.0, (4, 1, 4, 1): -0.042123875181834816, (4, 2, 4, 2): -0.049961716227197486, (3, 2, 3, 2): -0.17585527179186425, (4, 1, 3, 2): 0.08570348462866731, (3, 0, 3, 0): -0.07227477661765726, (5, 1, 5, 1): 0.004740648985516836, (4, 0, 5, 1): -0.06364973357307384}  samples= None\n",
      "E=-227.96502680  angles= {(3, 0, 5, 2): -0.08431468286703096, (3, 2, 5, 0): -0.0009876719708607376, (5, 2, 5, 2): -0.06832943220020671, (4, 2, 3, 1): 0.06353816520136857, (4, 0): 0.08482603367405779, (5, 0, 5, 0): 0.10936324022819201, (3, 1, 3, 1): -0.07227477612951345, (3, 1, 4, 2): 0.06423301827369005, (4, 1, 5, 0): -0.018010341985457624, (3, 2, 4, 1): 0.08610490124041098, (5, 1, 4, 0): -0.008861737230815491, (5, 0, 4, 1): -0.06703399035296008, (5, 0, 3, 2): 0.08157751890567069, (4, 0, 4, 0): -0.04517303261951422, (5, 2, 3, 0): 0.0, (4, 1, 4, 1): -0.04202387518183481, (4, 2, 4, 2): -0.05006171622719749, (3, 2, 3, 2): -0.17585527179186425, (4, 1, 3, 2): 0.08570348462866731, (3, 0, 3, 0): -0.07227477661765726, (5, 1, 5, 1): 0.004740648985516836, (4, 0, 5, 1): -0.06364973357307384}  samples= None\n",
      "E=-227.96502800  angles= {(3, 0, 5, 2): -0.08431468286703096, (3, 2, 5, 0): -0.0009876719708607376, (5, 2, 5, 2): -0.06832943220020671, (4, 2, 3, 1): 0.06353816520136857, (4, 0): 0.08482603367405779, (5, 0, 5, 0): 0.10936324022819201, (3, 1, 3, 1): -0.07227477612951345, (3, 1, 4, 2): 0.06423301827369005, (4, 1, 5, 0): -0.018010341985457624, (3, 2, 4, 1): 0.08610490124041098, (5, 1, 4, 0): -0.008861737230815491, (5, 0, 4, 1): -0.06703399035296008, (5, 0, 3, 2): 0.08157751890567069, (4, 0, 4, 0): -0.04517303261951422, (5, 2, 3, 0): 0.0, (4, 1, 4, 1): -0.04202387518183481, (4, 2, 4, 2): -0.049961716227197486, (3, 2, 3, 2): -0.17595527179186424, (4, 1, 3, 2): 0.08570348462866731, (3, 0, 3, 0): -0.07227477661765726, (5, 1, 5, 1): 0.004740648985516836, (4, 0, 5, 1): -0.06364973357307384}  samples= None\n",
      "E=-227.96502846  angles= {(3, 0, 5, 2): -0.08431468286703096, (3, 2, 5, 0): -0.0009876719708607376, (5, 2, 5, 2): -0.06832943220020671, (4, 2, 3, 1): 0.06353816520136857, (4, 0): 0.08482603367405779, (5, 0, 5, 0): 0.10936324022819201, (3, 1, 3, 1): -0.07227477612951345, (3, 1, 4, 2): 0.06423301827369005, (4, 1, 5, 0): -0.018010341985457624, (3, 2, 4, 1): 0.08610490124041098, (5, 1, 4, 0): -0.008861737230815491, (5, 0, 4, 1): -0.06703399035296008, (5, 0, 3, 2): 0.08157751890567069, (4, 0, 4, 0): -0.04517303261951422, (5, 2, 3, 0): 0.0, (4, 1, 4, 1): -0.04202387518183481, (4, 2, 4, 2): -0.049961716227197486, (3, 2, 3, 2): -0.17585527179186425, (4, 1, 3, 2): 0.08580348462866731, (3, 0, 3, 0): -0.07227477661765726, (5, 1, 5, 1): 0.004740648985516836, (4, 0, 5, 1): -0.06364973357307384}  samples= None\n",
      "E=-227.96502767  angles= {(3, 0, 5, 2): -0.08431468286703096, (3, 2, 5, 0): -0.0009876719708607376, (5, 2, 5, 2): -0.06832943220020671, (4, 2, 3, 1): 0.06353816520136857, (4, 0): 0.08482603367405779, (5, 0, 5, 0): 0.10936324022819201, (3, 1, 3, 1): -0.07227477612951345, (3, 1, 4, 2): 0.06423301827369005, (4, 1, 5, 0): -0.018010341985457624, (3, 2, 4, 1): 0.08610490124041098, (5, 1, 4, 0): -0.008861737230815491, (5, 0, 4, 1): -0.06703399035296008, (5, 0, 3, 2): 0.08157751890567069, (4, 0, 4, 0): -0.04517303261951422, (5, 2, 3, 0): 0.0, (4, 1, 4, 1): -0.04202387518183481, (4, 2, 4, 2): -0.049961716227197486, (3, 2, 3, 2): -0.17585527179186425, (4, 1, 3, 2): 0.08570348462866731, (3, 0, 3, 0): -0.07237477661765726, (5, 1, 5, 1): 0.004740648985516836, (4, 0, 5, 1): -0.06364973357307384}  samples= None\n",
      "E=-227.96502741  angles= {(3, 0, 5, 2): -0.08431468286703096, (3, 2, 5, 0): -0.0009876719708607376, (5, 2, 5, 2): -0.06832943220020671, (4, 2, 3, 1): 0.06353816520136857, (4, 0): 0.08482603367405779, (5, 0, 5, 0): 0.10936324022819201, (3, 1, 3, 1): -0.07227477612951345, (3, 1, 4, 2): 0.06423301827369005, (4, 1, 5, 0): -0.018010341985457624, (3, 2, 4, 1): 0.08610490124041098, (5, 1, 4, 0): -0.008861737230815491, (5, 0, 4, 1): -0.06703399035296008, (5, 0, 3, 2): 0.08157751890567069, (4, 0, 4, 0): -0.04517303261951422, (5, 2, 3, 0): 0.0, (4, 1, 4, 1): -0.04202387518183481, (4, 2, 4, 2): -0.049961716227197486, (3, 2, 3, 2): -0.17585527179186425, (4, 1, 3, 2): 0.08570348462866731, (3, 0, 3, 0): -0.07227477661765726, (5, 1, 5, 1): 0.004840648985516836, (4, 0, 5, 1): -0.06364973357307384}  samples= None\n"
     ]
    },
    {
     "name": "stdout",
     "output_type": "stream",
     "text": [
      "E=-227.96502748  angles= {(3, 0, 5, 2): -0.08431468286703096, (3, 2, 5, 0): -0.0009876719708607376, (5, 2, 5, 2): -0.06832943220020671, (4, 2, 3, 1): 0.06353816520136857, (4, 0): 0.08482603367405779, (5, 0, 5, 0): 0.10936324022819201, (3, 1, 3, 1): -0.07227477612951345, (3, 1, 4, 2): 0.06423301827369005, (4, 1, 5, 0): -0.018010341985457624, (3, 2, 4, 1): 0.08610490124041098, (5, 1, 4, 0): -0.008861737230815491, (5, 0, 4, 1): -0.06703399035296008, (5, 0, 3, 2): 0.08157751890567069, (4, 0, 4, 0): -0.04517303261951422, (5, 2, 3, 0): 0.0, (4, 1, 4, 1): -0.04202387518183481, (4, 2, 4, 2): -0.049961716227197486, (3, 2, 3, 2): -0.17585527179186425, (4, 1, 3, 2): 0.08570348462866731, (3, 0, 3, 0): -0.07227477661765726, (5, 1, 5, 1): 0.004740648985516836, (4, 0, 5, 1): -0.06374973357307384}  samples= None\n",
      "E=-227.96549898  angles= {(3, 0, 5, 2): -0.0823908621659251, (3, 2, 5, 0): -0.0002276317809463812, (5, 2, 5, 2): -0.05512020379582484, (4, 2, 3, 1): 0.07852754730372545, (4, 0): 0.08286597012794622, (5, 0, 5, 0): 0.1329528489197722, (3, 1, 3, 1): -0.07301949327700374, (3, 1, 4, 2): 0.07941782202951309, (4, 1, 5, 0): -0.021020318920715483, (3, 2, 4, 1): 0.09591201654188065, (5, 1, 4, 0): 0.001052605289349702, (5, 0, 4, 1): -0.07168626367915715, (5, 0, 3, 2): 0.08045368984792979, (4, 0, 4, 0): -0.03712615087797624, (5, 2, 3, 0): 0.0, (4, 1, 4, 1): -0.04304642299365878, (4, 2, 4, 2): -0.04798642726300386, (3, 2, 3, 2): -0.17142242979592034, (4, 1, 3, 2): 0.09537168120563988, (3, 0, 3, 0): -0.0730194954435472, (5, 1, 5, 1): 0.0045308540008889234, (4, 0, 5, 1): -0.07577273727614994}  samples= None\n",
      "E=-227.96549947  angles= {(3, 0, 5, 2): -0.0824908621659251, (3, 2, 5, 0): -0.0002276317809463812, (5, 2, 5, 2): -0.05512020379582484, (4, 2, 3, 1): 0.07852754730372545, (4, 0): 0.08286597012794622, (5, 0, 5, 0): 0.1329528489197722, (3, 1, 3, 1): -0.07301949327700374, (3, 1, 4, 2): 0.07941782202951309, (4, 1, 5, 0): -0.021020318920715483, (3, 2, 4, 1): 0.09591201654188065, (5, 1, 4, 0): 0.001052605289349702, (5, 0, 4, 1): -0.07168626367915715, (5, 0, 3, 2): 0.08045368984792979, (4, 0, 4, 0): -0.03712615087797624, (5, 2, 3, 0): 0.0, (4, 1, 4, 1): -0.04304642299365878, (4, 2, 4, 2): -0.04798642726300386, (3, 2, 3, 2): -0.17142242979592034, (4, 1, 3, 2): 0.09537168120563988, (3, 0, 3, 0): -0.0730194954435472, (5, 1, 5, 1): 0.0045308540008889234, (4, 0, 5, 1): -0.07577273727614994}  samples= None\n",
      "E=-227.96549854  angles= {(3, 0, 5, 2): -0.0823908621659251, (3, 2, 5, 0): -0.0003276317809463812, (5, 2, 5, 2): -0.05512020379582484, (4, 2, 3, 1): 0.07852754730372545, (4, 0): 0.08286597012794622, (5, 0, 5, 0): 0.1329528489197722, (3, 1, 3, 1): -0.07301949327700374, (3, 1, 4, 2): 0.07941782202951309, (4, 1, 5, 0): -0.021020318920715483, (3, 2, 4, 1): 0.09591201654188065, (5, 1, 4, 0): 0.001052605289349702, (5, 0, 4, 1): -0.07168626367915715, (5, 0, 3, 2): 0.08045368984792979, (4, 0, 4, 0): -0.03712615087797624, (5, 2, 3, 0): 0.0, (4, 1, 4, 1): -0.04304642299365878, (4, 2, 4, 2): -0.04798642726300386, (3, 2, 3, 2): -0.17142242979592034, (4, 1, 3, 2): 0.09537168120563988, (3, 0, 3, 0): -0.0730194954435472, (5, 1, 5, 1): 0.0045308540008889234, (4, 0, 5, 1): -0.07577273727614994}  samples= None\n",
      "E=-227.96550095  angles= {(3, 0, 5, 2): -0.0823908621659251, (3, 2, 5, 0): -0.0002276317809463812, (5, 2, 5, 2): -0.055220203795824846, (4, 2, 3, 1): 0.07852754730372545, (4, 0): 0.08286597012794622, (5, 0, 5, 0): 0.1329528489197722, (3, 1, 3, 1): -0.07301949327700374, (3, 1, 4, 2): 0.07941782202951309, (4, 1, 5, 0): -0.021020318920715483, (3, 2, 4, 1): 0.09591201654188065, (5, 1, 4, 0): 0.001052605289349702, (5, 0, 4, 1): -0.07168626367915715, (5, 0, 3, 2): 0.08045368984792979, (4, 0, 4, 0): -0.03712615087797624, (5, 2, 3, 0): 0.0, (4, 1, 4, 1): -0.04304642299365878, (4, 2, 4, 2): -0.04798642726300386, (3, 2, 3, 2): -0.17142242979592034, (4, 1, 3, 2): 0.09537168120563988, (3, 0, 3, 0): -0.0730194954435472, (5, 1, 5, 1): 0.0045308540008889234, (4, 0, 5, 1): -0.07577273727614994}  samples= None\n",
      "E=-227.96549992  angles= {(3, 0, 5, 2): -0.0823908621659251, (3, 2, 5, 0): -0.0002276317809463812, (5, 2, 5, 2): -0.05512020379582484, (4, 2, 3, 1): 0.07862754730372545, (4, 0): 0.08286597012794622, (5, 0, 5, 0): 0.1329528489197722, (3, 1, 3, 1): -0.07301949327700374, (3, 1, 4, 2): 0.07941782202951309, (4, 1, 5, 0): -0.021020318920715483, (3, 2, 4, 1): 0.09591201654188065, (5, 1, 4, 0): 0.001052605289349702, (5, 0, 4, 1): -0.07168626367915715, (5, 0, 3, 2): 0.08045368984792979, (4, 0, 4, 0): -0.03712615087797624, (5, 2, 3, 0): 0.0, (4, 1, 4, 1): -0.04304642299365878, (4, 2, 4, 2): -0.04798642726300386, (3, 2, 3, 2): -0.17142242979592034, (4, 1, 3, 2): 0.09537168120563988, (3, 0, 3, 0): -0.0730194954435472, (5, 1, 5, 1): 0.0045308540008889234, (4, 0, 5, 1): -0.07577273727614994}  samples= None\n",
      "E=-227.96549947  angles= {(3, 0, 5, 2): -0.0823908621659251, (3, 2, 5, 0): -0.0002276317809463812, (5, 2, 5, 2): -0.05512020379582484, (4, 2, 3, 1): 0.07852754730372545, (4, 0): 0.08296597012794622, (5, 0, 5, 0): 0.1329528489197722, (3, 1, 3, 1): -0.07301949327700374, (3, 1, 4, 2): 0.07941782202951309, (4, 1, 5, 0): -0.021020318920715483, (3, 2, 4, 1): 0.09591201654188065, (5, 1, 4, 0): 0.001052605289349702, (5, 0, 4, 1): -0.07168626367915715, (5, 0, 3, 2): 0.08045368984792979, (4, 0, 4, 0): -0.03712615087797624, (5, 2, 3, 0): 0.0, (4, 1, 4, 1): -0.04304642299365878, (4, 2, 4, 2): -0.04798642726300386, (3, 2, 3, 2): -0.17142242979592034, (4, 1, 3, 2): 0.09537168120563988, (3, 0, 3, 0): -0.0730194954435472, (5, 1, 5, 1): 0.0045308540008889234, (4, 0, 5, 1): -0.07577273727614994}  samples= None\n",
      "E=-227.96549861  angles= {(3, 0, 5, 2): -0.0823908621659251, (3, 2, 5, 0): -0.0002276317809463812, (5, 2, 5, 2): -0.05512020379582484, (4, 2, 3, 1): 0.07852754730372545, (4, 0): 0.08286597012794622, (5, 0, 5, 0): 0.13305284891977218, (3, 1, 3, 1): -0.07301949327700374, (3, 1, 4, 2): 0.07941782202951309, (4, 1, 5, 0): -0.021020318920715483, (3, 2, 4, 1): 0.09591201654188065, (5, 1, 4, 0): 0.001052605289349702, (5, 0, 4, 1): -0.07168626367915715, (5, 0, 3, 2): 0.08045368984792979, (4, 0, 4, 0): -0.03712615087797624, (5, 2, 3, 0): 0.0, (4, 1, 4, 1): -0.04304642299365878, (4, 2, 4, 2): -0.04798642726300386, (3, 2, 3, 2): -0.17142242979592034, (4, 1, 3, 2): 0.09537168120563988, (3, 0, 3, 0): -0.0730194954435472, (5, 1, 5, 1): 0.0045308540008889234, (4, 0, 5, 1): -0.07577273727614994}  samples= None\n",
      "E=-227.96549824  angles= {(3, 0, 5, 2): -0.0823908621659251, (3, 2, 5, 0): -0.0002276317809463812, (5, 2, 5, 2): -0.05512020379582484, (4, 2, 3, 1): 0.07852754730372545, (4, 0): 0.08286597012794622, (5, 0, 5, 0): 0.1329528489197722, (3, 1, 3, 1): -0.07311949327700375, (3, 1, 4, 2): 0.07941782202951309, (4, 1, 5, 0): -0.021020318920715483, (3, 2, 4, 1): 0.09591201654188065, (5, 1, 4, 0): 0.001052605289349702, (5, 0, 4, 1): -0.07168626367915715, (5, 0, 3, 2): 0.08045368984792979, (4, 0, 4, 0): -0.03712615087797624, (5, 2, 3, 0): 0.0, (4, 1, 4, 1): -0.04304642299365878, (4, 2, 4, 2): -0.04798642726300386, (3, 2, 3, 2): -0.17142242979592034, (4, 1, 3, 2): 0.09537168120563988, (3, 0, 3, 0): -0.0730194954435472, (5, 1, 5, 1): 0.0045308540008889234, (4, 0, 5, 1): -0.07577273727614994}  samples= None\n",
      "E=-227.96549992  angles= {(3, 0, 5, 2): -0.0823908621659251, (3, 2, 5, 0): -0.0002276317809463812, (5, 2, 5, 2): -0.05512020379582484, (4, 2, 3, 1): 0.07852754730372545, (4, 0): 0.08286597012794622, (5, 0, 5, 0): 0.1329528489197722, (3, 1, 3, 1): -0.07301949327700374, (3, 1, 4, 2): 0.07951782202951309, (4, 1, 5, 0): -0.021020318920715483, (3, 2, 4, 1): 0.09591201654188065, (5, 1, 4, 0): 0.001052605289349702, (5, 0, 4, 1): -0.07168626367915715, (5, 0, 3, 2): 0.08045368984792979, (4, 0, 4, 0): -0.03712615087797624, (5, 2, 3, 0): 0.0, (4, 1, 4, 1): -0.04304642299365878, (4, 2, 4, 2): -0.04798642726300386, (3, 2, 3, 2): -0.17142242979592034, (4, 1, 3, 2): 0.09537168120563988, (3, 0, 3, 0): -0.0730194954435472, (5, 1, 5, 1): 0.0045308540008889234, (4, 0, 5, 1): -0.07577273727614994}  samples= None\n",
      "E=-227.96550006  angles= {(3, 0, 5, 2): -0.0823908621659251, (3, 2, 5, 0): -0.0002276317809463812, (5, 2, 5, 2): -0.05512020379582484, (4, 2, 3, 1): 0.07852754730372545, (4, 0): 0.08286597012794622, (5, 0, 5, 0): 0.1329528489197722, (3, 1, 3, 1): -0.07301949327700374, (3, 1, 4, 2): 0.07941782202951309, (4, 1, 5, 0): -0.021120318920715482, (3, 2, 4, 1): 0.09591201654188065, (5, 1, 4, 0): 0.001052605289349702, (5, 0, 4, 1): -0.07168626367915715, (5, 0, 3, 2): 0.08045368984792979, (4, 0, 4, 0): -0.03712615087797624, (5, 2, 3, 0): 0.0, (4, 1, 4, 1): -0.04304642299365878, (4, 2, 4, 2): -0.04798642726300386, (3, 2, 3, 2): -0.17142242979592034, (4, 1, 3, 2): 0.09537168120563988, (3, 0, 3, 0): -0.0730194954435472, (5, 1, 5, 1): 0.0045308540008889234, (4, 0, 5, 1): -0.07577273727614994}  samples= None\n"
     ]
    },
    {
     "name": "stdout",
     "output_type": "stream",
     "text": [
      "E=-227.96549667  angles= {(3, 0, 5, 2): -0.0823908621659251, (3, 2, 5, 0): -0.0002276317809463812, (5, 2, 5, 2): -0.05512020379582484, (4, 2, 3, 1): 0.07852754730372545, (4, 0): 0.08286597012794622, (5, 0, 5, 0): 0.1329528489197722, (3, 1, 3, 1): -0.07301949327700374, (3, 1, 4, 2): 0.07941782202951309, (4, 1, 5, 0): -0.021020318920715483, (3, 2, 4, 1): 0.09601201654188066, (5, 1, 4, 0): 0.001052605289349702, (5, 0, 4, 1): -0.07168626367915715, (5, 0, 3, 2): 0.08045368984792979, (4, 0, 4, 0): -0.03712615087797624, (5, 2, 3, 0): 0.0, (4, 1, 4, 1): -0.04304642299365878, (4, 2, 4, 2): -0.04798642726300386, (3, 2, 3, 2): -0.17142242979592034, (4, 1, 3, 2): 0.09537168120563988, (3, 0, 3, 0): -0.0730194954435472, (5, 1, 5, 1): 0.0045308540008889234, (4, 0, 5, 1): -0.07577273727614994}  samples= None\n",
      "E=-227.96549988  angles= {(3, 0, 5, 2): -0.0823908621659251, (3, 2, 5, 0): -0.0002276317809463812, (5, 2, 5, 2): -0.05512020379582484, (4, 2, 3, 1): 0.07852754730372545, (4, 0): 0.08286597012794622, (5, 0, 5, 0): 0.1329528489197722, (3, 1, 3, 1): -0.07301949327700374, (3, 1, 4, 2): 0.07941782202951309, (4, 1, 5, 0): -0.021020318920715483, (3, 2, 4, 1): 0.09591201654188065, (5, 1, 4, 0): 0.001152605289349702, (5, 0, 4, 1): -0.07168626367915715, (5, 0, 3, 2): 0.08045368984792979, (4, 0, 4, 0): -0.03712615087797624, (5, 2, 3, 0): 0.0, (4, 1, 4, 1): -0.04304642299365878, (4, 2, 4, 2): -0.04798642726300386, (3, 2, 3, 2): -0.17142242979592034, (4, 1, 3, 2): 0.09537168120563988, (3, 0, 3, 0): -0.0730194954435472, (5, 1, 5, 1): 0.0045308540008889234, (4, 0, 5, 1): -0.07577273727614994}  samples= None\n",
      "E=-227.96549987  angles= {(3, 0, 5, 2): -0.0823908621659251, (3, 2, 5, 0): -0.0002276317809463812, (5, 2, 5, 2): -0.05512020379582484, (4, 2, 3, 1): 0.07852754730372545, (4, 0): 0.08286597012794622, (5, 0, 5, 0): 0.1329528489197722, (3, 1, 3, 1): -0.07301949327700374, (3, 1, 4, 2): 0.07941782202951309, (4, 1, 5, 0): -0.021020318920715483, (3, 2, 4, 1): 0.09591201654188065, (5, 1, 4, 0): 0.001052605289349702, (5, 0, 4, 1): -0.07178626367915715, (5, 0, 3, 2): 0.08045368984792979, (4, 0, 4, 0): -0.03712615087797624, (5, 2, 3, 0): 0.0, (4, 1, 4, 1): -0.04304642299365878, (4, 2, 4, 2): -0.04798642726300386, (3, 2, 3, 2): -0.17142242979592034, (4, 1, 3, 2): 0.09537168120563988, (3, 0, 3, 0): -0.0730194954435472, (5, 1, 5, 1): 0.0045308540008889234, (4, 0, 5, 1): -0.07577273727614994}  samples= None\n",
      "E=-227.96549990  angles= {(3, 0, 5, 2): -0.0823908621659251, (3, 2, 5, 0): -0.0002276317809463812, (5, 2, 5, 2): -0.05512020379582484, (4, 2, 3, 1): 0.07852754730372545, (4, 0): 0.08286597012794622, (5, 0, 5, 0): 0.1329528489197722, (3, 1, 3, 1): -0.07301949327700374, (3, 1, 4, 2): 0.07941782202951309, (4, 1, 5, 0): -0.021020318920715483, (3, 2, 4, 1): 0.09591201654188065, (5, 1, 4, 0): 0.001052605289349702, (5, 0, 4, 1): -0.07168626367915715, (5, 0, 3, 2): 0.0805536898479298, (4, 0, 4, 0): -0.03712615087797624, (5, 2, 3, 0): 0.0, (4, 1, 4, 1): -0.04304642299365878, (4, 2, 4, 2): -0.04798642726300386, (3, 2, 3, 2): -0.17142242979592034, (4, 1, 3, 2): 0.09537168120563988, (3, 0, 3, 0): -0.0730194954435472, (5, 1, 5, 1): 0.0045308540008889234, (4, 0, 5, 1): -0.07577273727614994}  samples= None\n",
      "E=-227.96549951  angles= {(3, 0, 5, 2): -0.0823908621659251, (3, 2, 5, 0): -0.0002276317809463812, (5, 2, 5, 2): -0.05512020379582484, (4, 2, 3, 1): 0.07852754730372545, (4, 0): 0.08286597012794622, (5, 0, 5, 0): 0.1329528489197722, (3, 1, 3, 1): -0.07301949327700374, (3, 1, 4, 2): 0.07941782202951309, (4, 1, 5, 0): -0.021020318920715483, (3, 2, 4, 1): 0.09591201654188065, (5, 1, 4, 0): 0.001052605289349702, (5, 0, 4, 1): -0.07168626367915715, (5, 0, 3, 2): 0.08045368984792979, (4, 0, 4, 0): -0.03722615087797624, (5, 2, 3, 0): 0.0, (4, 1, 4, 1): -0.04304642299365878, (4, 2, 4, 2): -0.04798642726300386, (3, 2, 3, 2): -0.17142242979592034, (4, 1, 3, 2): 0.09537168120563988, (3, 0, 3, 0): -0.0730194954435472, (5, 1, 5, 1): 0.0045308540008889234, (4, 0, 5, 1): -0.07577273727614994}  samples= None\n",
      "E=-227.96549898  angles= {(3, 0, 5, 2): -0.0823908621659251, (3, 2, 5, 0): -0.0002276317809463812, (5, 2, 5, 2): -0.05512020379582484, (4, 2, 3, 1): 0.07852754730372545, (4, 0): 0.08286597012794622, (5, 0, 5, 0): 0.1329528489197722, (3, 1, 3, 1): -0.07301949327700374, (3, 1, 4, 2): 0.07941782202951309, (4, 1, 5, 0): -0.021020318920715483, (3, 2, 4, 1): 0.09591201654188065, (5, 1, 4, 0): 0.001052605289349702, (5, 0, 4, 1): -0.07168626367915715, (5, 0, 3, 2): 0.08045368984792979, (4, 0, 4, 0): -0.03712615087797624, (5, 2, 3, 0): 0.0001, (4, 1, 4, 1): -0.04304642299365878, (4, 2, 4, 2): -0.04798642726300386, (3, 2, 3, 2): -0.17142242979592034, (4, 1, 3, 2): 0.09537168120563988, (3, 0, 3, 0): -0.0730194954435472, (5, 1, 5, 1): 0.0045308540008889234, (4, 0, 5, 1): -0.07577273727614994}  samples= None\n",
      "E=-227.96549874  angles= {(3, 0, 5, 2): -0.0823908621659251, (3, 2, 5, 0): -0.0002276317809463812, (5, 2, 5, 2): -0.05512020379582484, (4, 2, 3, 1): 0.07852754730372545, (4, 0): 0.08286597012794622, (5, 0, 5, 0): 0.1329528489197722, (3, 1, 3, 1): -0.07301949327700374, (3, 1, 4, 2): 0.07941782202951309, (4, 1, 5, 0): -0.021020318920715483, (3, 2, 4, 1): 0.09591201654188065, (5, 1, 4, 0): 0.001052605289349702, (5, 0, 4, 1): -0.07168626367915715, (5, 0, 3, 2): 0.08045368984792979, (4, 0, 4, 0): -0.03712615087797624, (5, 2, 3, 0): 0.0, (4, 1, 4, 1): -0.043146422993658784, (4, 2, 4, 2): -0.04798642726300386, (3, 2, 3, 2): -0.17142242979592034, (4, 1, 3, 2): 0.09537168120563988, (3, 0, 3, 0): -0.0730194954435472, (5, 1, 5, 1): 0.0045308540008889234, (4, 0, 5, 1): -0.07577273727614994}  samples= None\n",
      "E=-227.96549916  angles= {(3, 0, 5, 2): -0.0823908621659251, (3, 2, 5, 0): -0.0002276317809463812, (5, 2, 5, 2): -0.05512020379582484, (4, 2, 3, 1): 0.07852754730372545, (4, 0): 0.08286597012794622, (5, 0, 5, 0): 0.1329528489197722, (3, 1, 3, 1): -0.07301949327700374, (3, 1, 4, 2): 0.07941782202951309, (4, 1, 5, 0): -0.021020318920715483, (3, 2, 4, 1): 0.09591201654188065, (5, 1, 4, 0): 0.001052605289349702, (5, 0, 4, 1): -0.07168626367915715, (5, 0, 3, 2): 0.08045368984792979, (4, 0, 4, 0): -0.03712615087797624, (5, 2, 3, 0): 0.0, (4, 1, 4, 1): -0.04304642299365878, (4, 2, 4, 2): -0.04808642726300386, (3, 2, 3, 2): -0.17142242979592034, (4, 1, 3, 2): 0.09537168120563988, (3, 0, 3, 0): -0.0730194954435472, (5, 1, 5, 1): 0.0045308540008889234, (4, 0, 5, 1): -0.07577273727614994}  samples= None\n",
      "E=-227.96550053  angles= {(3, 0, 5, 2): -0.0823908621659251, (3, 2, 5, 0): -0.0002276317809463812, (5, 2, 5, 2): -0.05512020379582484, (4, 2, 3, 1): 0.07852754730372545, (4, 0): 0.08286597012794622, (5, 0, 5, 0): 0.1329528489197722, (3, 1, 3, 1): -0.07301949327700374, (3, 1, 4, 2): 0.07941782202951309, (4, 1, 5, 0): -0.021020318920715483, (3, 2, 4, 1): 0.09591201654188065, (5, 1, 4, 0): 0.001052605289349702, (5, 0, 4, 1): -0.07168626367915715, (5, 0, 3, 2): 0.08045368984792979, (4, 0, 4, 0): -0.03712615087797624, (5, 2, 3, 0): 0.0, (4, 1, 4, 1): -0.04304642299365878, (4, 2, 4, 2): -0.04798642726300386, (3, 2, 3, 2): -0.17152242979592033, (4, 1, 3, 2): 0.09537168120563988, (3, 0, 3, 0): -0.0730194954435472, (5, 1, 5, 1): 0.0045308540008889234, (4, 0, 5, 1): -0.07577273727614994}  samples= None\n",
      "E=-227.96549666  angles= {(3, 0, 5, 2): -0.0823908621659251, (3, 2, 5, 0): -0.0002276317809463812, (5, 2, 5, 2): -0.05512020379582484, (4, 2, 3, 1): 0.07852754730372545, (4, 0): 0.08286597012794622, (5, 0, 5, 0): 0.1329528489197722, (3, 1, 3, 1): -0.07301949327700374, (3, 1, 4, 2): 0.07941782202951309, (4, 1, 5, 0): -0.021020318920715483, (3, 2, 4, 1): 0.09591201654188065, (5, 1, 4, 0): 0.001052605289349702, (5, 0, 4, 1): -0.07168626367915715, (5, 0, 3, 2): 0.08045368984792979, (4, 0, 4, 0): -0.03712615087797624, (5, 2, 3, 0): 0.0, (4, 1, 4, 1): -0.04304642299365878, (4, 2, 4, 2): -0.04798642726300386, (3, 2, 3, 2): -0.17142242979592034, (4, 1, 3, 2): 0.09547168120563988, (3, 0, 3, 0): -0.0730194954435472, (5, 1, 5, 1): 0.0045308540008889234, (4, 0, 5, 1): -0.07577273727614994}  samples= None\n",
      "E=-227.96549824  angles= {(3, 0, 5, 2): -0.0823908621659251, (3, 2, 5, 0): -0.0002276317809463812, (5, 2, 5, 2): -0.05512020379582484, (4, 2, 3, 1): 0.07852754730372545, (4, 0): 0.08286597012794622, (5, 0, 5, 0): 0.1329528489197722, (3, 1, 3, 1): -0.07301949327700374, (3, 1, 4, 2): 0.07941782202951309, (4, 1, 5, 0): -0.021020318920715483, (3, 2, 4, 1): 0.09591201654188065, (5, 1, 4, 0): 0.001052605289349702, (5, 0, 4, 1): -0.07168626367915715, (5, 0, 3, 2): 0.08045368984792979, (4, 0, 4, 0): -0.03712615087797624, (5, 2, 3, 0): 0.0, (4, 1, 4, 1): -0.04304642299365878, (4, 2, 4, 2): -0.04798642726300386, (3, 2, 3, 2): -0.17142242979592034, (4, 1, 3, 2): 0.09537168120563988, (3, 0, 3, 0): -0.0731194954435472, (5, 1, 5, 1): 0.0045308540008889234, (4, 0, 5, 1): -0.07577273727614994}  samples= None\n"
     ]
    },
    {
     "name": "stdout",
     "output_type": "stream",
     "text": [
      "E=-227.96549857  angles= {(3, 0, 5, 2): -0.0823908621659251, (3, 2, 5, 0): -0.0002276317809463812, (5, 2, 5, 2): -0.05512020379582484, (4, 2, 3, 1): 0.07852754730372545, (4, 0): 0.08286597012794622, (5, 0, 5, 0): 0.1329528489197722, (3, 1, 3, 1): -0.07301949327700374, (3, 1, 4, 2): 0.07941782202951309, (4, 1, 5, 0): -0.021020318920715483, (3, 2, 4, 1): 0.09591201654188065, (5, 1, 4, 0): 0.001052605289349702, (5, 0, 4, 1): -0.07168626367915715, (5, 0, 3, 2): 0.08045368984792979, (4, 0, 4, 0): -0.03712615087797624, (5, 2, 3, 0): 0.0, (4, 1, 4, 1): -0.04304642299365878, (4, 2, 4, 2): -0.04798642726300386, (3, 2, 3, 2): -0.17142242979592034, (4, 1, 3, 2): 0.09537168120563988, (3, 0, 3, 0): -0.0730194954435472, (5, 1, 5, 1): 0.004630854000888924, (4, 0, 5, 1): -0.07577273727614994}  samples= None\n",
      "E=-227.96549828  angles= {(3, 0, 5, 2): -0.0823908621659251, (3, 2, 5, 0): -0.0002276317809463812, (5, 2, 5, 2): -0.05512020379582484, (4, 2, 3, 1): 0.07852754730372545, (4, 0): 0.08286597012794622, (5, 0, 5, 0): 0.1329528489197722, (3, 1, 3, 1): -0.07301949327700374, (3, 1, 4, 2): 0.07941782202951309, (4, 1, 5, 0): -0.021020318920715483, (3, 2, 4, 1): 0.09591201654188065, (5, 1, 4, 0): 0.001052605289349702, (5, 0, 4, 1): -0.07168626367915715, (5, 0, 3, 2): 0.08045368984792979, (4, 0, 4, 0): -0.03712615087797624, (5, 2, 3, 0): 0.0, (4, 1, 4, 1): -0.04304642299365878, (4, 2, 4, 2): -0.04798642726300386, (3, 2, 3, 2): -0.17142242979592034, (4, 1, 3, 2): 0.09537168120563988, (3, 0, 3, 0): -0.0730194954435472, (5, 1, 5, 1): 0.0045308540008889234, (4, 0, 5, 1): -0.07587273727614995}  samples= None\n",
      "E=-227.96596746  angles= {(3, 0, 5, 2): -0.08679902138290208, (3, 2, 5, 0): -0.0003398993973898112, (5, 2, 5, 2): -0.06085538865112308, (4, 2, 3, 1): 0.08692380270488548, (4, 0): 0.08730558848584904, (5, 0, 5, 0): 0.14059696471610403, (3, 1, 3, 1): -0.06699998008770182, (3, 1, 4, 2): 0.08790779247595078, (4, 1, 5, 0): -0.03131519831938284, (3, 2, 4, 1): 0.09309000304893031, (5, 1, 4, 0): 0.009284351098901387, (5, 0, 4, 1): -0.07179647142217854, (5, 0, 3, 2): 0.0845847979068679, (4, 0, 4, 0): -0.03551707114906469, (5, 2, 3, 0): 0.0, (4, 1, 4, 1): -0.03929512718830753, (4, 2, 4, 2): -0.0463941036457227, (3, 2, 3, 2): -0.1823388062201213, (4, 1, 3, 2): 0.09246376887200906, (3, 0, 3, 0): -0.0669999912752258, (5, 1, 5, 1): 0.005271849741793811, (4, 0, 5, 1): -0.08448440985906719}  samples= None\n",
      "E=-227.96596720  angles= {(3, 0, 5, 2): -0.08689902138290208, (3, 2, 5, 0): -0.0003398993973898112, (5, 2, 5, 2): -0.06085538865112308, (4, 2, 3, 1): 0.08692380270488548, (4, 0): 0.08730558848584904, (5, 0, 5, 0): 0.14059696471610403, (3, 1, 3, 1): -0.06699998008770182, (3, 1, 4, 2): 0.08790779247595078, (4, 1, 5, 0): -0.03131519831938284, (3, 2, 4, 1): 0.09309000304893031, (5, 1, 4, 0): 0.009284351098901387, (5, 0, 4, 1): -0.07179647142217854, (5, 0, 3, 2): 0.0845847979068679, (4, 0, 4, 0): -0.03551707114906469, (5, 2, 3, 0): 0.0, (4, 1, 4, 1): -0.03929512718830753, (4, 2, 4, 2): -0.0463941036457227, (3, 2, 3, 2): -0.1823388062201213, (4, 1, 3, 2): 0.09246376887200906, (3, 0, 3, 0): -0.0669999912752258, (5, 1, 5, 1): 0.005271849741793811, (4, 0, 5, 1): -0.08448440985906719}  samples= None\n",
      "E=-227.96596732  angles= {(3, 0, 5, 2): -0.08679902138290208, (3, 2, 5, 0): -0.0004398993973898112, (5, 2, 5, 2): -0.06085538865112308, (4, 2, 3, 1): 0.08692380270488548, (4, 0): 0.08730558848584904, (5, 0, 5, 0): 0.14059696471610403, (3, 1, 3, 1): -0.06699998008770182, (3, 1, 4, 2): 0.08790779247595078, (4, 1, 5, 0): -0.03131519831938284, (3, 2, 4, 1): 0.09309000304893031, (5, 1, 4, 0): 0.009284351098901387, (5, 0, 4, 1): -0.07179647142217854, (5, 0, 3, 2): 0.0845847979068679, (4, 0, 4, 0): -0.03551707114906469, (5, 2, 3, 0): 0.0, (4, 1, 4, 1): -0.03929512718830753, (4, 2, 4, 2): -0.0463941036457227, (3, 2, 3, 2): -0.1823388062201213, (4, 1, 3, 2): 0.09246376887200906, (3, 0, 3, 0): -0.0669999912752258, (5, 1, 5, 1): 0.005271849741793811, (4, 0, 5, 1): -0.08448440985906719}  samples= None\n",
      "E=-227.96596760  angles= {(3, 0, 5, 2): -0.08679902138290208, (3, 2, 5, 0): -0.0003398993973898112, (5, 2, 5, 2): -0.060955388651123085, (4, 2, 3, 1): 0.08692380270488548, (4, 0): 0.08730558848584904, (5, 0, 5, 0): 0.14059696471610403, (3, 1, 3, 1): -0.06699998008770182, (3, 1, 4, 2): 0.08790779247595078, (4, 1, 5, 0): -0.03131519831938284, (3, 2, 4, 1): 0.09309000304893031, (5, 1, 4, 0): 0.009284351098901387, (5, 0, 4, 1): -0.07179647142217854, (5, 0, 3, 2): 0.0845847979068679, (4, 0, 4, 0): -0.03551707114906469, (5, 2, 3, 0): 0.0, (4, 1, 4, 1): -0.03929512718830753, (4, 2, 4, 2): -0.0463941036457227, (3, 2, 3, 2): -0.1823388062201213, (4, 1, 3, 2): 0.09246376887200906, (3, 0, 3, 0): -0.0669999912752258, (5, 1, 5, 1): 0.005271849741793811, (4, 0, 5, 1): -0.08448440985906719}  samples= None\n",
      "E=-227.96596781  angles= {(3, 0, 5, 2): -0.08679902138290208, (3, 2, 5, 0): -0.0003398993973898112, (5, 2, 5, 2): -0.06085538865112308, (4, 2, 3, 1): 0.08702380270488548, (4, 0): 0.08730558848584904, (5, 0, 5, 0): 0.14059696471610403, (3, 1, 3, 1): -0.06699998008770182, (3, 1, 4, 2): 0.08790779247595078, (4, 1, 5, 0): -0.03131519831938284, (3, 2, 4, 1): 0.09309000304893031, (5, 1, 4, 0): 0.009284351098901387, (5, 0, 4, 1): -0.07179647142217854, (5, 0, 3, 2): 0.0845847979068679, (4, 0, 4, 0): -0.03551707114906469, (5, 2, 3, 0): 0.0, (4, 1, 4, 1): -0.03929512718830753, (4, 2, 4, 2): -0.0463941036457227, (3, 2, 3, 2): -0.1823388062201213, (4, 1, 3, 2): 0.09246376887200906, (3, 0, 3, 0): -0.0669999912752258, (5, 1, 5, 1): 0.005271849741793811, (4, 0, 5, 1): -0.08448440985906719}  samples= None\n",
      "E=-227.96596720  angles= {(3, 0, 5, 2): -0.08679902138290208, (3, 2, 5, 0): -0.0003398993973898112, (5, 2, 5, 2): -0.06085538865112308, (4, 2, 3, 1): 0.08692380270488548, (4, 0): 0.08740558848584905, (5, 0, 5, 0): 0.14059696471610403, (3, 1, 3, 1): -0.06699998008770182, (3, 1, 4, 2): 0.08790779247595078, (4, 1, 5, 0): -0.03131519831938284, (3, 2, 4, 1): 0.09309000304893031, (5, 1, 4, 0): 0.009284351098901387, (5, 0, 4, 1): -0.07179647142217854, (5, 0, 3, 2): 0.0845847979068679, (4, 0, 4, 0): -0.03551707114906469, (5, 2, 3, 0): 0.0, (4, 1, 4, 1): -0.03929512718830753, (4, 2, 4, 2): -0.0463941036457227, (3, 2, 3, 2): -0.1823388062201213, (4, 1, 3, 2): 0.09246376887200906, (3, 0, 3, 0): -0.0669999912752258, (5, 1, 5, 1): 0.005271849741793811, (4, 0, 5, 1): -0.08448440985906719}  samples= None\n",
      "E=-227.96596751  angles= {(3, 0, 5, 2): -0.08679902138290208, (3, 2, 5, 0): -0.0003398993973898112, (5, 2, 5, 2): -0.06085538865112308, (4, 2, 3, 1): 0.08692380270488548, (4, 0): 0.08730558848584904, (5, 0, 5, 0): 0.14069696471610402, (3, 1, 3, 1): -0.06699998008770182, (3, 1, 4, 2): 0.08790779247595078, (4, 1, 5, 0): -0.03131519831938284, (3, 2, 4, 1): 0.09309000304893031, (5, 1, 4, 0): 0.009284351098901387, (5, 0, 4, 1): -0.07179647142217854, (5, 0, 3, 2): 0.0845847979068679, (4, 0, 4, 0): -0.03551707114906469, (5, 2, 3, 0): 0.0, (4, 1, 4, 1): -0.03929512718830753, (4, 2, 4, 2): -0.0463941036457227, (3, 2, 3, 2): -0.1823388062201213, (4, 1, 3, 2): 0.09246376887200906, (3, 0, 3, 0): -0.0669999912752258, (5, 1, 5, 1): 0.005271849741793811, (4, 0, 5, 1): -0.08448440985906719}  samples= None\n",
      "E=-227.96596799  angles= {(3, 0, 5, 2): -0.08679902138290208, (3, 2, 5, 0): -0.0003398993973898112, (5, 2, 5, 2): -0.06085538865112308, (4, 2, 3, 1): 0.08692380270488548, (4, 0): 0.08730558848584904, (5, 0, 5, 0): 0.14059696471610403, (3, 1, 3, 1): -0.06709998008770182, (3, 1, 4, 2): 0.08790779247595078, (4, 1, 5, 0): -0.03131519831938284, (3, 2, 4, 1): 0.09309000304893031, (5, 1, 4, 0): 0.009284351098901387, (5, 0, 4, 1): -0.07179647142217854, (5, 0, 3, 2): 0.0845847979068679, (4, 0, 4, 0): -0.03551707114906469, (5, 2, 3, 0): 0.0, (4, 1, 4, 1): -0.03929512718830753, (4, 2, 4, 2): -0.0463941036457227, (3, 2, 3, 2): -0.1823388062201213, (4, 1, 3, 2): 0.09246376887200906, (3, 0, 3, 0): -0.0669999912752258, (5, 1, 5, 1): 0.005271849741793811, (4, 0, 5, 1): -0.08448440985906719}  samples= None\n",
      "E=-227.96596781  angles= {(3, 0, 5, 2): -0.08679902138290208, (3, 2, 5, 0): -0.0003398993973898112, (5, 2, 5, 2): -0.06085538865112308, (4, 2, 3, 1): 0.08692380270488548, (4, 0): 0.08730558848584904, (5, 0, 5, 0): 0.14059696471610403, (3, 1, 3, 1): -0.06699998008770182, (3, 1, 4, 2): 0.08800779247595078, (4, 1, 5, 0): -0.03131519831938284, (3, 2, 4, 1): 0.09309000304893031, (5, 1, 4, 0): 0.009284351098901387, (5, 0, 4, 1): -0.07179647142217854, (5, 0, 3, 2): 0.0845847979068679, (4, 0, 4, 0): -0.03551707114906469, (5, 2, 3, 0): 0.0, (4, 1, 4, 1): -0.03929512718830753, (4, 2, 4, 2): -0.0463941036457227, (3, 2, 3, 2): -0.1823388062201213, (4, 1, 3, 2): 0.09246376887200906, (3, 0, 3, 0): -0.0669999912752258, (5, 1, 5, 1): 0.005271849741793811, (4, 0, 5, 1): -0.08448440985906719}  samples= None\n"
     ]
    },
    {
     "name": "stdout",
     "output_type": "stream",
     "text": [
      "E=-227.96596803  angles= {(3, 0, 5, 2): -0.08679902138290208, (3, 2, 5, 0): -0.0003398993973898112, (5, 2, 5, 2): -0.06085538865112308, (4, 2, 3, 1): 0.08692380270488548, (4, 0): 0.08730558848584904, (5, 0, 5, 0): 0.14059696471610403, (3, 1, 3, 1): -0.06699998008770182, (3, 1, 4, 2): 0.08790779247595078, (4, 1, 5, 0): -0.031415198319382845, (3, 2, 4, 1): 0.09309000304893031, (5, 1, 4, 0): 0.009284351098901387, (5, 0, 4, 1): -0.07179647142217854, (5, 0, 3, 2): 0.0845847979068679, (4, 0, 4, 0): -0.03551707114906469, (5, 2, 3, 0): 0.0, (4, 1, 4, 1): -0.03929512718830753, (4, 2, 4, 2): -0.0463941036457227, (3, 2, 3, 2): -0.1823388062201213, (4, 1, 3, 2): 0.09246376887200906, (3, 0, 3, 0): -0.0669999912752258, (5, 1, 5, 1): 0.005271849741793811, (4, 0, 5, 1): -0.08448440985906719}  samples= None\n",
      "E=-227.96596676  angles= {(3, 0, 5, 2): -0.08679902138290208, (3, 2, 5, 0): -0.0003398993973898112, (5, 2, 5, 2): -0.06085538865112308, (4, 2, 3, 1): 0.08692380270488548, (4, 0): 0.08730558848584904, (5, 0, 5, 0): 0.14059696471610403, (3, 1, 3, 1): -0.06699998008770182, (3, 1, 4, 2): 0.08790779247595078, (4, 1, 5, 0): -0.03131519831938284, (3, 2, 4, 1): 0.09319000304893031, (5, 1, 4, 0): 0.009284351098901387, (5, 0, 4, 1): -0.07179647142217854, (5, 0, 3, 2): 0.0845847979068679, (4, 0, 4, 0): -0.03551707114906469, (5, 2, 3, 0): 0.0, (4, 1, 4, 1): -0.03929512718830753, (4, 2, 4, 2): -0.0463941036457227, (3, 2, 3, 2): -0.1823388062201213, (4, 1, 3, 2): 0.09246376887200906, (3, 0, 3, 0): -0.0669999912752258, (5, 1, 5, 1): 0.005271849741793811, (4, 0, 5, 1): -0.08448440985906719}  samples= None\n",
      "E=-227.96596782  angles= {(3, 0, 5, 2): -0.08679902138290208, (3, 2, 5, 0): -0.0003398993973898112, (5, 2, 5, 2): -0.06085538865112308, (4, 2, 3, 1): 0.08692380270488548, (4, 0): 0.08730558848584904, (5, 0, 5, 0): 0.14059696471610403, (3, 1, 3, 1): -0.06699998008770182, (3, 1, 4, 2): 0.08790779247595078, (4, 1, 5, 0): -0.03131519831938284, (3, 2, 4, 1): 0.09309000304893031, (5, 1, 4, 0): 0.009384351098901386, (5, 0, 4, 1): -0.07179647142217854, (5, 0, 3, 2): 0.0845847979068679, (4, 0, 4, 0): -0.03551707114906469, (5, 2, 3, 0): 0.0, (4, 1, 4, 1): -0.03929512718830753, (4, 2, 4, 2): -0.0463941036457227, (3, 2, 3, 2): -0.1823388062201213, (4, 1, 3, 2): 0.09246376887200906, (3, 0, 3, 0): -0.0669999912752258, (5, 1, 5, 1): 0.005271849741793811, (4, 0, 5, 1): -0.08448440985906719}  samples= None\n",
      "E=-227.96596785  angles= {(3, 0, 5, 2): -0.08679902138290208, (3, 2, 5, 0): -0.0003398993973898112, (5, 2, 5, 2): -0.06085538865112308, (4, 2, 3, 1): 0.08692380270488548, (4, 0): 0.08730558848584904, (5, 0, 5, 0): 0.14059696471610403, (3, 1, 3, 1): -0.06699998008770182, (3, 1, 4, 2): 0.08790779247595078, (4, 1, 5, 0): -0.03131519831938284, (3, 2, 4, 1): 0.09309000304893031, (5, 1, 4, 0): 0.009284351098901387, (5, 0, 4, 1): -0.07189647142217855, (5, 0, 3, 2): 0.0845847979068679, (4, 0, 4, 0): -0.03551707114906469, (5, 2, 3, 0): 0.0, (4, 1, 4, 1): -0.03929512718830753, (4, 2, 4, 2): -0.0463941036457227, (3, 2, 3, 2): -0.1823388062201213, (4, 1, 3, 2): 0.09246376887200906, (3, 0, 3, 0): -0.0669999912752258, (5, 1, 5, 1): 0.005271849741793811, (4, 0, 5, 1): -0.08448440985906719}  samples= None\n",
      "E=-227.96596734  angles= {(3, 0, 5, 2): -0.08679902138290208, (3, 2, 5, 0): -0.0003398993973898112, (5, 2, 5, 2): -0.06085538865112308, (4, 2, 3, 1): 0.08692380270488548, (4, 0): 0.08730558848584904, (5, 0, 5, 0): 0.14059696471610403, (3, 1, 3, 1): -0.06699998008770182, (3, 1, 4, 2): 0.08790779247595078, (4, 1, 5, 0): -0.03131519831938284, (3, 2, 4, 1): 0.09309000304893031, (5, 1, 4, 0): 0.009284351098901387, (5, 0, 4, 1): -0.07179647142217854, (5, 0, 3, 2): 0.0846847979068679, (4, 0, 4, 0): -0.03551707114906469, (5, 2, 3, 0): 0.0, (4, 1, 4, 1): -0.03929512718830753, (4, 2, 4, 2): -0.0463941036457227, (3, 2, 3, 2): -0.1823388062201213, (4, 1, 3, 2): 0.09246376887200906, (3, 0, 3, 0): -0.0669999912752258, (5, 1, 5, 1): 0.005271849741793811, (4, 0, 5, 1): -0.08448440985906719}  samples= None\n",
      "E=-227.96596796  angles= {(3, 0, 5, 2): -0.08679902138290208, (3, 2, 5, 0): -0.0003398993973898112, (5, 2, 5, 2): -0.06085538865112308, (4, 2, 3, 1): 0.08692380270488548, (4, 0): 0.08730558848584904, (5, 0, 5, 0): 0.14059696471610403, (3, 1, 3, 1): -0.06699998008770182, (3, 1, 4, 2): 0.08790779247595078, (4, 1, 5, 0): -0.03131519831938284, (3, 2, 4, 1): 0.09309000304893031, (5, 1, 4, 0): 0.009284351098901387, (5, 0, 4, 1): -0.07179647142217854, (5, 0, 3, 2): 0.0845847979068679, (4, 0, 4, 0): -0.03561707114906469, (5, 2, 3, 0): 0.0, (4, 1, 4, 1): -0.03929512718830753, (4, 2, 4, 2): -0.0463941036457227, (3, 2, 3, 2): -0.1823388062201213, (4, 1, 3, 2): 0.09246376887200906, (3, 0, 3, 0): -0.0669999912752258, (5, 1, 5, 1): 0.005271849741793811, (4, 0, 5, 1): -0.08448440985906719}  samples= None\n",
      "E=-227.96596746  angles= {(3, 0, 5, 2): -0.08679902138290208, (3, 2, 5, 0): -0.0003398993973898112, (5, 2, 5, 2): -0.06085538865112308, (4, 2, 3, 1): 0.08692380270488548, (4, 0): 0.08730558848584904, (5, 0, 5, 0): 0.14059696471610403, (3, 1, 3, 1): -0.06699998008770182, (3, 1, 4, 2): 0.08790779247595078, (4, 1, 5, 0): -0.03131519831938284, (3, 2, 4, 1): 0.09309000304893031, (5, 1, 4, 0): 0.009284351098901387, (5, 0, 4, 1): -0.07179647142217854, (5, 0, 3, 2): 0.0845847979068679, (4, 0, 4, 0): -0.03551707114906469, (5, 2, 3, 0): 0.0001, (4, 1, 4, 1): -0.03929512718830753, (4, 2, 4, 2): -0.0463941036457227, (3, 2, 3, 2): -0.1823388062201213, (4, 1, 3, 2): 0.09246376887200906, (3, 0, 3, 0): -0.0669999912752258, (5, 1, 5, 1): 0.005271849741793811, (4, 0, 5, 1): -0.08448440985906719}  samples= None\n",
      "E=-227.96596777  angles= {(3, 0, 5, 2): -0.08679902138290208, (3, 2, 5, 0): -0.0003398993973898112, (5, 2, 5, 2): -0.06085538865112308, (4, 2, 3, 1): 0.08692380270488548, (4, 0): 0.08730558848584904, (5, 0, 5, 0): 0.14059696471610403, (3, 1, 3, 1): -0.06699998008770182, (3, 1, 4, 2): 0.08790779247595078, (4, 1, 5, 0): -0.03131519831938284, (3, 2, 4, 1): 0.09309000304893031, (5, 1, 4, 0): 0.009284351098901387, (5, 0, 4, 1): -0.07179647142217854, (5, 0, 3, 2): 0.0845847979068679, (4, 0, 4, 0): -0.03551707114906469, (5, 2, 3, 0): 0.0, (4, 1, 4, 1): -0.03939512718830753, (4, 2, 4, 2): -0.0463941036457227, (3, 2, 3, 2): -0.1823388062201213, (4, 1, 3, 2): 0.09246376887200906, (3, 0, 3, 0): -0.0669999912752258, (5, 1, 5, 1): 0.005271849741793811, (4, 0, 5, 1): -0.08448440985906719}  samples= None\n",
      "E=-227.96596746  angles= {(3, 0, 5, 2): -0.08679902138290208, (3, 2, 5, 0): -0.0003398993973898112, (5, 2, 5, 2): -0.06085538865112308, (4, 2, 3, 1): 0.08692380270488548, (4, 0): 0.08730558848584904, (5, 0, 5, 0): 0.14059696471610403, (3, 1, 3, 1): -0.06699998008770182, (3, 1, 4, 2): 0.08790779247595078, (4, 1, 5, 0): -0.03131519831938284, (3, 2, 4, 1): 0.09309000304893031, (5, 1, 4, 0): 0.009284351098901387, (5, 0, 4, 1): -0.07179647142217854, (5, 0, 3, 2): 0.0845847979068679, (4, 0, 4, 0): -0.03551707114906469, (5, 2, 3, 0): 0.0, (4, 1, 4, 1): -0.03929512718830753, (4, 2, 4, 2): -0.0464941036457227, (3, 2, 3, 2): -0.1823388062201213, (4, 1, 3, 2): 0.09246376887200906, (3, 0, 3, 0): -0.0669999912752258, (5, 1, 5, 1): 0.005271849741793811, (4, 0, 5, 1): -0.08448440985906719}  samples= None\n",
      "E=-227.96596754  angles= {(3, 0, 5, 2): -0.08679902138290208, (3, 2, 5, 0): -0.0003398993973898112, (5, 2, 5, 2): -0.06085538865112308, (4, 2, 3, 1): 0.08692380270488548, (4, 0): 0.08730558848584904, (5, 0, 5, 0): 0.14059696471610403, (3, 1, 3, 1): -0.06699998008770182, (3, 1, 4, 2): 0.08790779247595078, (4, 1, 5, 0): -0.03131519831938284, (3, 2, 4, 1): 0.09309000304893031, (5, 1, 4, 0): 0.009284351098901387, (5, 0, 4, 1): -0.07179647142217854, (5, 0, 3, 2): 0.0845847979068679, (4, 0, 4, 0): -0.03551707114906469, (5, 2, 3, 0): 0.0, (4, 1, 4, 1): -0.03929512718830753, (4, 2, 4, 2): -0.0463941036457227, (3, 2, 3, 2): -0.1824388062201213, (4, 1, 3, 2): 0.09246376887200906, (3, 0, 3, 0): -0.0669999912752258, (5, 1, 5, 1): 0.005271849741793811, (4, 0, 5, 1): -0.08448440985906719}  samples= None\n",
      "E=-227.96596676  angles= {(3, 0, 5, 2): -0.08679902138290208, (3, 2, 5, 0): -0.0003398993973898112, (5, 2, 5, 2): -0.06085538865112308, (4, 2, 3, 1): 0.08692380270488548, (4, 0): 0.08730558848584904, (5, 0, 5, 0): 0.14059696471610403, (3, 1, 3, 1): -0.06699998008770182, (3, 1, 4, 2): 0.08790779247595078, (4, 1, 5, 0): -0.03131519831938284, (3, 2, 4, 1): 0.09309000304893031, (5, 1, 4, 0): 0.009284351098901387, (5, 0, 4, 1): -0.07179647142217854, (5, 0, 3, 2): 0.0845847979068679, (4, 0, 4, 0): -0.03551707114906469, (5, 2, 3, 0): 0.0, (4, 1, 4, 1): -0.03929512718830753, (4, 2, 4, 2): -0.0463941036457227, (3, 2, 3, 2): -0.1823388062201213, (4, 1, 3, 2): 0.09256376887200907, (3, 0, 3, 0): -0.0669999912752258, (5, 1, 5, 1): 0.005271849741793811, (4, 0, 5, 1): -0.08448440985906719}  samples= None\n"
     ]
    },
    {
     "name": "stdout",
     "output_type": "stream",
     "text": [
      "E=-227.96596799  angles= {(3, 0, 5, 2): -0.08679902138290208, (3, 2, 5, 0): -0.0003398993973898112, (5, 2, 5, 2): -0.06085538865112308, (4, 2, 3, 1): 0.08692380270488548, (4, 0): 0.08730558848584904, (5, 0, 5, 0): 0.14059696471610403, (3, 1, 3, 1): -0.06699998008770182, (3, 1, 4, 2): 0.08790779247595078, (4, 1, 5, 0): -0.03131519831938284, (3, 2, 4, 1): 0.09309000304893031, (5, 1, 4, 0): 0.009284351098901387, (5, 0, 4, 1): -0.07179647142217854, (5, 0, 3, 2): 0.0845847979068679, (4, 0, 4, 0): -0.03551707114906469, (5, 2, 3, 0): 0.0, (4, 1, 4, 1): -0.03929512718830753, (4, 2, 4, 2): -0.0463941036457227, (3, 2, 3, 2): -0.1823388062201213, (4, 1, 3, 2): 0.09246376887200906, (3, 0, 3, 0): -0.0670999912752258, (5, 1, 5, 1): 0.005271849741793811, (4, 0, 5, 1): -0.08448440985906719}  samples= None\n",
      "E=-227.96596735  angles= {(3, 0, 5, 2): -0.08679902138290208, (3, 2, 5, 0): -0.0003398993973898112, (5, 2, 5, 2): -0.06085538865112308, (4, 2, 3, 1): 0.08692380270488548, (4, 0): 0.08730558848584904, (5, 0, 5, 0): 0.14059696471610403, (3, 1, 3, 1): -0.06699998008770182, (3, 1, 4, 2): 0.08790779247595078, (4, 1, 5, 0): -0.03131519831938284, (3, 2, 4, 1): 0.09309000304893031, (5, 1, 4, 0): 0.009284351098901387, (5, 0, 4, 1): -0.07179647142217854, (5, 0, 3, 2): 0.0845847979068679, (4, 0, 4, 0): -0.03551707114906469, (5, 2, 3, 0): 0.0, (4, 1, 4, 1): -0.03929512718830753, (4, 2, 4, 2): -0.0463941036457227, (3, 2, 3, 2): -0.1823388062201213, (4, 1, 3, 2): 0.09246376887200906, (3, 0, 3, 0): -0.0669999912752258, (5, 1, 5, 1): 0.005371849741793811, (4, 0, 5, 1): -0.08448440985906719}  samples= None\n",
      "E=-227.96596742  angles= {(3, 0, 5, 2): -0.08679902138290208, (3, 2, 5, 0): -0.0003398993973898112, (5, 2, 5, 2): -0.06085538865112308, (4, 2, 3, 1): 0.08692380270488548, (4, 0): 0.08730558848584904, (5, 0, 5, 0): 0.14059696471610403, (3, 1, 3, 1): -0.06699998008770182, (3, 1, 4, 2): 0.08790779247595078, (4, 1, 5, 0): -0.03131519831938284, (3, 2, 4, 1): 0.09309000304893031, (5, 1, 4, 0): 0.009284351098901387, (5, 0, 4, 1): -0.07179647142217854, (5, 0, 3, 2): 0.0845847979068679, (4, 0, 4, 0): -0.03551707114906469, (5, 2, 3, 0): 0.0, (4, 1, 4, 1): -0.03929512718830753, (4, 2, 4, 2): -0.0463941036457227, (3, 2, 3, 2): -0.1823388062201213, (4, 1, 3, 2): 0.09246376887200906, (3, 0, 3, 0): -0.0669999912752258, (5, 1, 5, 1): 0.005271849741793811, (4, 0, 5, 1): -0.08458440985906719}  samples= None\n",
      "Optimization terminated successfully.\n",
      "         Current function value: -227.965967\n",
      "         Iterations: 8\n",
      "         Function evaluations: 253\n",
      "         Gradient evaluations: 11\n",
      "VQE : -227.96597f\n",
      "CISD: -227.98666f\n",
      "FCI : -227.99711f\n"
     ]
    }
   ],
   "source": [
    "# YOU MIGHT HAVE TO RESTART THE JUPYTER KERNEL\n",
    "import tequila as tq\n",
    "threshold = 1.e-6\n",
    "active = {\"B1u\": [0], \"B3g\": [0, 1], \"B2g\": [0], \"Au\": [0], \"b1u\": [1]}\n",
    "molecule = tq.quantumchemistry.Molecule(geometry=\"data/benzene.xyz\", basis_set='sto-3g', active_orbitals=active)\n",
    "H = molecule.make_hamiltonian()\n",
    "\n",
    "# make the UCCSD ansatz\n",
    "U = molecule.make_uccsd_ansatz(initial_amplitudes=\"cc2\", threshold=threshold, trotter_steps=1)\n",
    "\n",
    "# define the expectationvalue\n",
    "E = tq.ExpectationValue(H=H, U=U)\n",
    "\n",
    "# compute reference energies\n",
    "fci = molecule.compute_energy(\"fci\")\n",
    "cisd = molecule.compute_energy(\"detci\", options={\"detci__ex_level\": 2})\n",
    "\n",
    "# optimize\n",
    "# Scipy either `eps` (version <1.5) or 'finite_diff_rel_step' (verion > 1.5)\n",
    "# for the 2-point stencil\n",
    "result = tq.minimize(objective=E, method=\"BFGS\", gradient=\"2-point\", method_options={\"eps\":1.e-4, \"finite_diff_rel_step\":1.e-4, \"gtol\": 1.e-2}, initial_values={k:0.0 for k in E.extract_variables()})\n",
    "\n",
    "print(\"VQE : {:+2.8}f\".format(result.energy))\n",
    "print(\"CISD: {:+2.8}f\".format(cisd))\n",
    "print(\"FCI : {:+2.8}f\".format(fci))"
   ]
  },
  {
   "cell_type": "code",
   "execution_count": 14,
   "metadata": {},
   "outputs": [
    {
     "data": {
      "image/png": "[encoded data removed]",
      "text/plain": [
       "<Figure size 432x288 with 1 Axes>"
      ]
     },
     "metadata": {
      "needs_background": "light"
     },
     "output_type": "display_data"
    }
   ],
   "source": [
    "result.history.plot(\"energies\", baselines={\"fci\":fci, \"cisd\": cisd}, filename=\"benzene_result_bfgs\")"
   ]
  },
  {
   "cell_type": "markdown",
   "metadata": {},
   "source": [
    "## Noisy optimization of an active space molecule with tapered qubit embeding\n",
    "\n",
    "This example shows the combination of several features of tequila in a few lines\n",
    "\n",
    "- automatic handling of active spaces\n",
    "- consitent usage of qubit encodings (here the symmetry_conserving_bravyi_kitaev encoding from openfermion which reduces the number of qubits by 2)\n",
    "- custom circuit construction\n",
    "- unitary cluster circuits\n",
    "- optimization of measurements (here the Hamiltonian will be grouped into two commuting groups, this can be seen by the optimizer output which holds two expectation values). See the [MeasurementGroups](https://github.com/aspuru-guzik-group/tequila/blob/master/tutorials/MeasurementGroups.ipynb) tutorial for more background information.\n",
    "- interface to different quantum backends (you will need qiskit to run this cell)"
   ]
  },
  {
   "cell_type": "code",
   "execution_count": 15,
   "metadata": {},
   "outputs": [
    {
     "name": "stdout",
     "output_type": "stream",
     "text": [
      "trafo_args =  {'active_orbitals': 12, 'active_fermions': 4}\n",
      "There are known issues with some psi4 methods and frozen virtual orbitals. Proceed with fingers crossed for hf.\n",
      "trafo_args =  {'active_orbitals': 4, 'active_fermions': 2}\n",
      "There are known issues with some psi4 methods and frozen virtual orbitals. Proceed with fingers crossed for fci.\n",
      "Optimizer: <class 'tequila.optimizers.optimizer_scipy.OptimizerSciPy'> \n",
      "backend         : qulacs\n",
      "device          : None\n",
      "samples         : None\n",
      "save_history    : True\n",
      "noise           : None\n",
      "\n",
      "Method          : COBYLA\n",
      "Objective       : 2 expectationvalues\n",
      "\n",
      "active variables : 1\n",
      "\n",
      "E=-7.19702387  angles= {a: 0.0}  samples= None\n",
      "E=-7.33012819  angles= {a: 1.0}  samples= None\n",
      "E=-7.64648247  angles= {a: 2.0}  samples= None\n",
      "E=-7.85523319  angles= {a: 3.0}  samples= None\n",
      "E=-7.76445484  angles= {a: 4.0}  samples= None\n",
      "E=-7.84895802  angles= {a: 3.5}  samples= None\n",
      "E=-7.82776165  angles= {a: 2.75}  samples= None\n",
      "E=-7.86143017  angles= {a: 3.125}  samples= None\n",
      "E=-7.86244774  angles= {a: 3.25}  samples= None\n",
      "E=-7.85826778  angles= {a: 3.375}  samples= None\n",
      "E=-7.86100483  angles= {a: 3.3125}  samples= None\n",
      "E=-7.86268139  angles= {a: 3.21875}  samples= None\n",
      "E=-7.86258984  angles= {a: 3.1875}  samples= None\n",
      "E=-7.86267614  angles= {a: 3.203125}  samples= None\n",
      "E=-7.86265326  angles= {a: 3.2265625}  samples= None\n",
      "E=-7.86268759  angles= {a: 3.21484375}  samples= None\n",
      "E=-7.86268902  angles= {a: 3.2109375}  samples= None\n",
      "E=-7.86268473  angles= {a: 3.20703125}  samples= None\n",
      "E=-7.86268759  angles= {a: 3.208984375}  samples= None\n",
      "E=-7.86268902  angles= {a: 3.2119375}  samples= None\n",
      "Optimizer: <class 'tequila.optimizers.optimizer_scipy.OptimizerSciPy'> \n",
      "backend         : qiskit\n",
      "device          : fake_rome\n",
      "samples         : 1000000\n",
      "save_history    : True\n",
      "noise           : None\n",
      "\n",
      "Method          : COBYLA\n",
      "Objective       : 2 expectationvalues\n",
      "\n",
      "active variables : 1\n",
      "\n",
      "E=-7.19697905  angles= {a: 0.0}  samples= 1000000\n",
      "E=-7.33006716  angles= {a: 1.0}  samples= 1000000\n",
      "E=-7.64674616  angles= {a: 2.0}  samples= 1000000\n",
      "E=-7.85521650  angles= {a: 3.0}  samples= 1000000\n",
      "E=-7.76442337  angles= {a: 4.0}  samples= 1000000\n",
      "E=-7.84887075  angles= {a: 3.5}  samples= 1000000\n",
      "E=-7.82795286  angles= {a: 2.75}  samples= 1000000\n",
      "E=-7.86144447  angles= {a: 3.125}  samples= 1000000\n",
      "E=-7.86247444  angles= {a: 3.25}  samples= 1000000\n",
      "E=-7.85814524  angles= {a: 3.375}  samples= 1000000\n",
      "E=-7.86105728  angles= {a: 3.3125}  samples= 1000000\n",
      "E=-7.86269665  angles= {a: 3.21875}  samples= 1000000\n",
      "E=-7.86258793  angles= {a: 3.1875}  samples= 1000000\n",
      "E=-7.86262417  angles= {a: 3.203125}  samples= 1000000\n",
      "E=-7.86266994  angles= {a: 3.2265625}  samples= 1000000\n",
      "E=-7.86263847  angles= {a: 3.21484375}  samples= 1000000\n",
      "E=-7.86264896  angles= {a: 3.220703125}  samples= 1000000\n",
      "E=-7.86272478  angles= {a: 3.21775}  samples= 1000000\n",
      "E=-7.86263466  angles= {a: 3.21675}  samples= 1000000\n",
      "Optimizer: <class 'tequila.optimizers.optimizer_scipy.OptimizerSciPy'> \n",
      "backend         : qulacs\n",
      "device          : None\n",
      "samples         : None\n",
      "save_history    : True\n",
      "noise           : None\n",
      "\n",
      "Method          : COBYLA\n",
      "Objective       : 2 expectationvalues\n",
      "\n",
      "active variables : 1\n",
      "\n",
      "E=-7.86186457  angles= {(1, (0, ((0, 2), (1, 3)))): 0.0}  samples= None\n",
      "E=-7.72876072  angles= {(1, (0, ((0, 2), (1, 3)))): 1.0}  samples= None\n",
      "E=-7.68934298  angles= {(1, (0, ((0, 2), (1, 3)))): -1.0}  samples= None\n",
      "E=-7.80994129  angles= {(1, (0, ((0, 2), (1, 3)))): -0.5}  samples= None\n",
      "E=-7.85732555  angles= {(1, (0, ((0, 2), (1, 3)))): 0.24999999999999997}  samples= None\n",
      "E=-7.85635090  angles= {(1, (0, ((0, 2), (1, 3)))): -0.12499999999999999}  samples= None\n",
      "E=-7.86267853  angles= {(1, (0, ((0, 2), (1, 3)))): 0.06249999999999999}  samples= None\n",
      "E=-7.86219120  angles= {(1, (0, ((0, 2), (1, 3)))): 0.125}  samples= None\n",
      "E=-7.86243439  angles= {(1, (0, ((0, 2), (1, 3)))): 0.031249999999999993}  samples= None\n",
      "E=-7.86267900  angles= {(1, (0, ((0, 2), (1, 3)))): 0.078125}  samples= None\n",
      "E=-7.86264801  angles= {(1, (0, ((0, 2), (1, 3)))): 0.0859375}  samples= None\n",
      "E=-7.86268663  angles= {(1, (0, ((0, 2), (1, 3)))): 0.07421875}  samples= None\n",
      "E=-7.86268902  angles= {(1, (0, ((0, 2), (1, 3)))): 0.0703125}  samples= None\n",
      "E=-7.86268616  angles= {(1, (0, ((0, 2), (1, 3)))): 0.06640625}  samples= None\n",
      "E=-7.86268854  angles= {(1, (0, ((0, 2), (1, 3)))): 0.068359375}  samples= None\n",
      "E=-7.86268854  angles= {(1, (0, ((0, 2), (1, 3)))): 0.0713125}  samples= None\n",
      "Optimizer: <class 'tequila.optimizers.optimizer_scipy.OptimizerSciPy'> \n",
      "backend         : qiskit\n",
      "device          : fake_rome\n",
      "samples         : 1000000\n",
      "save_history    : True\n",
      "noise           : None\n",
      "\n",
      "Method          : COBYLA\n",
      "Objective       : 2 expectationvalues\n",
      "\n",
      "active variables : 1\n",
      "\n",
      "E=-7.86185074  angles= {(1, (0, ((0, 2), (1, 3)))): 0.0}  samples= 1000000\n",
      "E=-7.72909641  angles= {(1, (0, ((0, 2), (1, 3)))): 1.0}  samples= 1000000\n",
      "E=-7.68949747  angles= {(1, (0, ((0, 2), (1, 3)))): -1.0}  samples= 1000000\n",
      "E=-7.80997801  angles= {(1, (0, ((0, 2), (1, 3)))): -0.5}  samples= 1000000\n",
      "E=-7.85728407  angles= {(1, (0, ((0, 2), (1, 3)))): 0.25}  samples= 1000000\n",
      "E=-7.85635519  angles= {(1, (0, ((0, 2), (1, 3)))): -0.125}  samples= 1000000\n",
      "E=-7.86273003  angles= {(1, (0, ((0, 2), (1, 3)))): 0.0625}  samples= 1000000\n",
      "E=-7.86230087  angles= {(1, (0, ((0, 2), (1, 3)))): 0.125}  samples= 1000000\n",
      "E=-7.86254740  angles= {(1, (0, ((0, 2), (1, 3)))): 0.09375}  samples= 1000000\n",
      "E=-7.86254978  angles= {(1, (0, ((0, 2), (1, 3)))): 0.046875}  samples= 1000000\n",
      "E=-7.86271095  angles= {(1, (0, ((0, 2), (1, 3)))): 0.0703125}  samples= 1000000\n",
      "E=-7.86264563  angles= {(1, (0, ((0, 2), (1, 3)))): 0.05859375}  samples= 1000000\n",
      "E=-7.86268711  angles= {(1, (0, ((0, 2), (1, 3)))): 0.064453125}  samples= 1000000\n",
      "E=-7.86265993  angles= {(1, (0, ((0, 2), (1, 3)))): 0.0615}  samples= 1000000\n",
      "VQE         = -7.86268902\n",
      "VQE (noisy) = -7.86272478\n",
      "UCC         = -7.86268902\n",
      "UCC (noisy) = -7.86273003\n"
     ]
    }
   ],
   "source": [
    "import tequila as tq\n",
    "# define the active space\n",
    "active_orbitals = {\"A1\":[1], \"B1\":[0]}\n",
    "samples = 1000000\n",
    "backend = \"qiskit\"\n",
    "device = \"fake_rome\"\n",
    "# define the molecule\n",
    "molecule = tq.chemistry.Molecule(geometry = \"H 0.0 0.0 0.0\\nLi 0.0 0.0 1.6\",\n",
    "                                 basis_set=\"sto-3g\",\n",
    "                                 active_orbitals=active_orbitals,\n",
    "                                 transformation=\"symmetry_conserving_bravyi_kitaev\")\n",
    "\n",
    "fci = molecule.compute_energy(\"fci\")\n",
    "\n",
    "H = molecule.make_hamiltonian()\n",
    "\n",
    "# Toy circuit (no deeper meaning)\n",
    "U = tq.gates.Ry(angle=\"a\", target=0)\n",
    "U += tq.gates.X(target=1, control=0)\n",
    "E = tq.ExpectationValue(H=H, U=U, optimize_measurements=True)\n",
    "\n",
    "vqe = tq.minimize(method=\"cobyla\", objective=E, initial_values=0.0)\n",
    "noisy_vqe = tq.minimize(method=\"cobyla\", objective=E, samples=samples, backend=backend, device=device, initial_values=0.0)\n",
    " \n",
    "# The same with UpCCGSD\n",
    "UpCCGSD = molecule.make_upccgsd_ansatz(include_singles=False)\n",
    "E2 = tq.ExpectationValue(H=H, U=UpCCGSD, optimize_measurements=True)\n",
    "ucc = tq.minimize(method=\"cobyla\", objective=E2, initial_values=0.0)\n",
    "noisy_ucc = tq.minimize(method=\"cobyla\", objective=E2, samples=samples,  backend=backend, device=device, initial_values=0.0)\n",
    "\n",
    "print(\"VQE         = {:2.8f}\".format(min(vqe.history.energies)))\n",
    "print(\"VQE (noisy) = {:2.8f}\".format(min(noisy_vqe.history.energies)))\n",
    "print(\"UCC         = {:2.8f}\".format(min(ucc.history.energies)))\n",
    "print(\"UCC (noisy) = {:2.8f}\".format(min(noisy_ucc.history.energies)))\n"
   ]
  },
  {
   "cell_type": "code",
   "execution_count": 16,
   "metadata": {},
   "outputs": [
    {
     "name": "stdout",
     "output_type": "stream",
     "text": [
      "VQE         = -7.863\n",
      "VQE (noisy) = -7.863\n",
      "UCC         = -7.863\n",
      "UCC (noisy) = -7.863\n"
     ]
    }
   ],
   "source": [
    "# repeat printout\n",
    "print(\"VQE         = {:2.3f}\".format(min(vqe.history.energies)))\n",
    "print(\"VQE (noisy) = {:2.3f}\".format(min(noisy_vqe.history.energies)))\n",
    "print(\"UCC         = {:2.3f}\".format(min(ucc.history.energies)))\n",
    "print(\"UCC (noisy) = {:2.3f}\".format(min(noisy_ucc.history.energies)))"
   ]
  },
  {
   "cell_type": "code",
   "execution_count": null,
   "metadata": {},
   "outputs": [],
   "source": []
  },
  {
   "cell_type": "code",
   "execution_count": null,
   "metadata": {},
   "outputs": [],
   "source": []
  }
 ],
 "metadata": {
  "kernelspec": {
   "display_name": "tequila-3.6",
   "language": "python",
   "name": "tequila-3.6"
  },
  "language_info": {
   "codemirror_mode": {
    "name": "ipython",
    "version": 3
   },
   "file_extension": ".py",
   "mimetype": "text/x-python",
   "name": "python",
   "nbconvert_exporter": "python",
   "pygments_lexer": "ipython3",
   "version": "3.6.9"
  }
 },
 "nbformat": 4,
 "nbformat_minor": 2
}
