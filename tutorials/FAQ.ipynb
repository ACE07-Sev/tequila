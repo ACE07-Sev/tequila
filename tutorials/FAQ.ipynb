{
 "cells": [
  {
   "cell_type": "markdown",
   "metadata": {},
   "source": [
    "# Frequently Asked Questions:"
   ]
  },
  {
   "cell_type": "code",
   "execution_count": 1,
   "metadata": {},
   "outputs": [],
   "source": [
    "import tequila as tq"
   ]
  },
  {
   "cell_type": "markdown",
   "metadata": {},
   "source": [
    "# Can I avoid re-translation/compilation on my objectives/circuits?\n",
    "\n",
    "Yes you can. By calling `tq.compile` instead of `tq.simulate`.\n",
    "This will give you back a callable objective.  \n",
    "Check also the `basic usage` tutorial notebook"
   ]
  },
  {
   "cell_type": "code",
   "execution_count": 9,
   "metadata": {},
   "outputs": [
    {
     "name": "stdout",
     "output_type": "stream",
     "text": [
      "+0.7071|00> +0.6205|01> -0.3390i|11> \n",
      "+0.7071|00> +0.3821|01> -0.5950i|11> \n",
      "compiled circuit: <tequila.simulators.simulator_qulacs.BackendCircuitQulacs object at 0x7fdd70352be0>\n",
      "+0.7071|00> +0.6205|01> -0.3390i|11> \n",
      "+0.7071|00> +0.3821|01> -0.5950i|11> \n",
      "compiled objective: Objective with 1(1) (unique) expectation values\n",
      "Objective = f(E_0)\n",
      "variables = [a]\n",
      "1.1770184\n",
      "1.2067055\n",
      "compiled objective: Objective with 1(1) (unique) expectation values\n",
      "Objective = f(E_0)\n",
      "variables = [a]\n",
      "1.1770184\n",
      "1.2067055\n"
     ]
    }
   ],
   "source": [
    "U = tq.gates.H(target=1) + tq.gates.Rx(angle=\"a\", target=0, control=1)\n",
    "\n",
    "# simulate the wavefunction with different variables\n",
    "wfn0 = tq.simulate(U, variables={\"a\": 1.0})\n",
    "wfn1 = tq.simulate(U, variables={\"a\": 2.0})\n",
    "\n",
    "print(wfn0)\n",
    "print(wfn1)\n",
    "\n",
    "# the same, but avoiding re-compilation\n",
    "# Note that your compiled object is translated to a quantum backend\n",
    "# if the backend was not set, tequila it will pick the default which depends\n",
    "# on which backends you have installed. You will seee it in the printout of the\n",
    "# compiled circuits\n",
    "compiled_U = tq.compile(U)\n",
    "wfn0 = compiled_U(variables={\"a\":1.0})\n",
    "wfn1 = compiled_U(variables={\"a\":2.0})\n",
    "\n",
    "print(\"compiled circuit:\", compiled_U)\n",
    "print(wfn0)\n",
    "print(wfn1)\n",
    "\n",
    "\n",
    "# With Objectives it works in the same way\n",
    "H = tq.paulis.Y(0)\n",
    "E = tq.ExpectationValue(H=H, U=U)\n",
    "objective = E**2 + 1.0\n",
    "\n",
    "# simulate the objective with different variables\n",
    "result0 = tq.simulate(objective, variables={\"a\": 1.0})\n",
    "result1 = tq.simulate(objective, variables={\"a\": 2.0})\n",
    "\n",
    "print(\"compiled objective:\", objective)\n",
    "print(result0)\n",
    "print(result1)\n",
    "\n",
    "# compile and then simulate\n",
    "compiled_objective = tq.compile(objective)\n",
    "result0 = compiled_objective(variables={\"a\":1.0})\n",
    "result1 = compiled_objective(variables={\"a\":2.0})\n",
    "\n",
    "print(\"compiled objective:\", compiled_objective)\n",
    "print(result0)\n",
    "print(result1)"
   ]
  },
  {
   "cell_type": "markdown",
   "metadata": {},
   "source": [
    "# how can I run on a real quantum computer?\n",
    "IBM's Qiskit can be used to run on some of IBM's public accessible quantum computers.\n",
    "All you need for this is an ibm account (Follow the instructions under \"Configure your IBM Quantum Experience credentials\" here: https://github.com/Qiskit/qiskit-ibmq-provider).  \n",
    "Tequila also supports Rigetti's PyQuil and Google's Cirq, but currently there are no publicly available devices.\n",
    "\n",
    "Here is a small  example with Qiskit (you need to have qiskit installed for this):  \n",
    "If you are already familiar with Qiskit and have special access rights you can also specific the provider by passing the keyword   \n",
    "`qiskit_provider = <initialized_provider_instance>`   \n",
    "Otherwise the default public provider will be initialized.  \n",
    "Alternatively you can also externally initialize your backend and pass this down instead of a string\n",
    "\n",
    "You always need to set samples if you intend to run on a real backend\n",
    "\n",
    "I if you have access to Rigettis hardware you can use `backend=\"pyquil\"` and pass down  \n",
    "`pyquil_backend = dictonary`  \n",
    "where the dictionary contains the instruction which go into pyquils `get_qc` function."
   ]
  },
  {
   "cell_type": "code",
   "execution_count": 10,
   "metadata": {},
   "outputs": [
    {
     "name": "stdout",
     "output_type": "stream",
     "text": [
      "ObjectiveType is <class 'tequila.objective.objective.Objective'>\n",
      "Starting BFGS optimization\n",
      "Objective: 1 expectationvalues\n",
      "Gradients: 3 expectationvalues (min=3, max=3)\n",
      "Hessian: None\n",
      "\n",
      "backend: <class 'tequila.simulators.simulator_qiskit.BackendExpectationValueQiskit'>\n",
      "samples: 1000\n",
      "1 active variables\n",
      "E= 0.4489  angles= {a: 1.0}  samples= 1000\n",
      "E= 0.11022399  angles= {a: 0.2940879464149475}  samples= 1000\n",
      "E= 0.527076  angles= {a: -0.9714051337239711}  samples= 1000\n",
      "E= 0.009604  angles= {a: 0.014596779994017095}  samples= 1000\n",
      "E= 0.029584002  angles= {a: -0.23439378421529336}  samples= 1000\n",
      "E= 0.0014439999  angles= {a: -0.06194057825106759}  samples= 1000\n",
      "E= 0.00019600001  angles= {a: -0.10840037285555679}  samples= 1000\n",
      "E= 0.024964003  angles= {a: -0.0830396865576113}  samples= 1000\n",
      "E= 0.0081  angles= {a: -0.10793984869970413}  samples= 1000\n",
      "E= 0.0025000002  angles= {a: -0.10839985851899529}  samples= 1000\n",
      "E= 0.0017639999  angles= {a: -0.10840037285334388}  samples= 1000\n",
      "E= 0.0067240004  angles= {a: -0.10840037285555679}  samples= 1000\n",
      "E= 0.0010240001  angles= {a: -0.10840037285555679}  samples= 1000\n",
      "E= 0.012996  angles= {a: -0.08667253411501638}  samples= 1000\n",
      "E= 0.0011560001  angles= {a: -0.10719459201281625}  samples= 1000\n",
      "E= 0.0070559997  angles= {a: -0.10808172795913015}  samples= 1000\n",
      "E= 0.0049  angles= {a: -0.1083995671561665}  samples= 1000\n",
      "E= 0.000576  angles= {a: -0.10840037284463427}  samples= 1000\n",
      "E= 0.000676  angles= {a: -0.08765055417973676}  samples= 1000\n",
      "E= 0.003844  angles= {a: -0.10463376515060312}  samples= 1000\n",
      "E= 0.007744  angles= {a: -0.10834383762342945}  samples= 1000\n",
      "E= 0.00032399996  angles= {a: -0.10840036656843734}  samples= 1000\n",
      "E= 0.0125440005  angles= {a: -0.10840035667613264}  samples= 1000\n",
      "E= 0.009216  angles= {a: -0.10840036656843716}  samples= 1000\n",
      "E= 0.008835999  angles= {a: -0.10840036656843734}  samples= 1000\n",
      "E= 0.0017639999  angles= {a: -0.08765055417973676}  samples= 1000\n",
      "E= 6.400001e-05  angles= {a: -0.1022158354590458}  samples= 1000\n",
      "E= 0.013924  angles= {a: -0.10287916448209375}  samples= 1000\n",
      "E= 0.0057759997  angles= {a: -0.10221588912998561}  samples= 1000\n",
      "E= 0.000676  angles= {a: -0.10221583545904665}  samples= 1000\n",
      "E= 0.00019600001  angles= {a: -0.1022158354590458}  samples= 1000\n",
      "E= 0.00078400003  angles= {a: -0.1022158354590458}  samples= 1000\n",
      "E= 0.000484  angles= {a: -0.10287916448209375}  samples= 1000\n",
      "E= 0.0  angles= {a: -0.10254749997056978}  samples= 1000\n",
      "E= 0.000676  angles= {a: -0.10310190347948638}  samples= 1000\n",
      "E= 0.003844  angles= {a: -0.10254797471408185}  samples= 1000\n",
      "E= 0.000676  angles= {a: -0.10254749997063185}  samples= 1000\n",
      "E= 0.00078400003  angles= {a: -0.10254749997056978}  samples= 1000\n",
      "E= 0.00019600001  angles= {a: -0.10254749997056978}  samples= 1000\n",
      "E= 0.002916  angles= {a: -0.10310190347948638}  samples= 1000\n",
      "E= 0.0  angles= {a: -0.10282470172502808}  samples= 1000\n",
      "E= 0.000576  angles= {a: -0.10273218961808346}  samples= 1000\n",
      "E= 0.002704  angles= {a: -0.10263984479432663}  samples= 1000\n",
      "E= 0.0017639999  angles= {a: -0.1025936723824482}  samples= 1000\n",
      "E= 1.6000002e-05  angles= {a: -0.102570586176509}  samples= 1000\n",
      "E= 0.0049  angles= {a: -0.10256231008429353}  samples= 1000\n",
      "E= 0.0040960005  angles= {a: -0.10255490502743166}  samples= 1000\n",
      "E= 0.001936  angles= {a: -0.10255120249900071}  samples= 1000\n",
      "E= 4.0000004e-06  angles= {a: -0.10254935123478524}  samples= 1000\n",
      "E= 0.002304  angles= {a: -0.10254872385441663}  samples= 1000\n",
      "E= 0.0017639999  angles= {a: -0.1025481119124932}  samples= 1000\n",
      "Warning: Desired error not necessarily achieved due to precision loss.\n",
      "         Current function value: 0.000000\n",
      "         Iterations: 6\n",
      "         Function evaluations: 51\n",
      "         Gradient evaluations: 33\n",
      "WARNING: History could not assign the stored gradients\n"
     ]
    }
   ],
   "source": [
    "U = tq.gates.Ry(angle=\"a\", target=0)\n",
    "H = tq.paulis.X(0)\n",
    "E = tq.ExpectationValue(H=H, U=U)\n",
    "\n",
    "# simulate the square of the expectation value with a specific set of variables\n",
    "result = tq.simulate(E**2, variables={\"a\":1.0}, samples=1000, backend=\"qiskit\")\n",
    "\n",
    "# run the same thing on one of IBM's quantum computers (check your ibm account for more information and keywords)\n",
    "# note that the names of the computer might have changed\n",
    "# here we use the 1-Qubit 'ibmq_armonk' \n",
    "result = tq.simulate(E**2, variables={\"a\":1.0}, samples=1000, backend=\"qiskit\", qiskit_backend=\"ibmq_armonk\") \n",
    "\n",
    "# In the SciPy Optimizers you can pass down all qiskit related options with the \n",
    "# `backend_options` key\n",
    "# again you can also pass down a initialized qiskit backend object\n",
    "backend_options = {\"qiskit_backend\":\"ibmq_armonk\"}\n",
    "result = tq.optimizer_scipy.minimize(E**2, initial_values={\"a\":1.0}, samples=1000, backend=\"qiskit\", backend_options=backend_options)"
   ]
  },
  {
   "cell_type": "markdown",
   "metadata": {},
   "source": [
    "# Can I compile Objectives into different backends?\n",
    "Yes you can. Tequila will print a warning if this happens. Warnings can be ignored by filtering them out (see the python warnings documentation)  \n",
    "\n",
    "If a compiled circuit is used as input to compile then tequila will re-compile the circuit to the new backend (it it differs from the previous one)  \n",
    "\n",
    "If a compiled objective is used as input to compile then tequila will only compile non-compiled expectationvalues into the different backend. Already compiled expectation values will remain untouched  \n",
    "\n",
    "Note that you need at least two different backends for the following cell to execute.  \n",
    "Just change the key to whatever you have installed."
   ]
  },
  {
   "cell_type": "code",
   "execution_count": 4,
   "metadata": {},
   "outputs": [
    {
     "name": "stdout",
     "output_type": "stream",
     "text": [
      "Example Circuit:  circuit: \n",
      "X(target=(0, 1), control=())\n",
      "\n",
      "Circuit compiled to qulacs ->  <tequila.simulators.simulator_qulacs.BackendCircuitQulacs object at 0x7fc737bc0160>\n",
      "Circuit compiled to qulacs ->  <tequila.simulators.simulator_qulacs.BackendCircuitQulacs object at 0x7fc737bc0160>\n",
      "\n",
      "make objective with H =  +1.0000X(0)Y(1)+1.0000X(0)X(1)\n",
      "\n",
      "ExpectationValues of objective 1:\n",
      "<tequila.simulators.simulator_qulacs.BackendExpectationValueQulacs object at 0x7fc737bc0358>\n",
      "\n",
      "ExpectationValues of partly compiled objective:\n",
      "<tequila.simulators.simulator_qulacs.BackendExpectationValueQulacs object at 0x7fc737bc0358>\n",
      "<tequila.objective.objective.ExpectationValueImpl object at 0x7fc737bc02e8>\n",
      "\n",
      "ExpectationValues of hybdrif compiled objective:\n",
      "<tequila.simulators.simulator_qulacs.BackendExpectationValueQulacs object at 0x7fc737bc0358>\n",
      "<tequila.simulators.simulator_cirq.BackendExpectationValueCirq object at 0x7fc737bc04e0>\n"
     ]
    },
    {
     "name": "stderr",
     "output_type": "stream",
     "text": [
      " /home/jsk/projects/OpenVQE/src/tequila/simulators/simulator_api.py:192: TequilaWarning:Looks like part the objective was already compiled for another backend.\n",
      "Found ExpectationValue of type <class 'tequila.simulators.simulator_qulacs.BackendExpectationValueQulacs'> and <class 'tequila.simulators.simulator_cirq.BackendExpectationValueCirq'>\n",
      "... proceeding with hybrid\n",
      "\n",
      " /home/jsk/projects/OpenVQE/src/tequila/simulators/simulator_api.py:192: TequilaWarning:Looks like part the objective was already compiled for another backend.\n",
      "Found ExpectationValue of type <class 'tequila.objective.objective.ExpectationValueImpl'> and <class 'tequila.simulators.simulator_cirq.BackendExpectationValueCirq'>\n",
      "... proceeding with hybrid\n",
      "\n"
     ]
    }
   ],
   "source": [
    "backend1 = \"qulacs\"\n",
    "backend2 = \"cirq\"\n",
    "\n",
    "U = tq.gates.X(target=[0,1])\n",
    "print(\"Example Circuit: \", U)\n",
    "compiled_1 = tq.compile(U, backend=backend1)\n",
    "compiled_2 = tq.compile(compiled_1, backend=backend2)\n",
    "print(\"Circuit compiled to {} -> \".format(backend1), compiled_1)\n",
    "print(\"Circuit compiled to {} -> \".format(backend1), compiled_1)\n",
    "\n",
    "H = tq.paulis.X(0)*tq.paulis.Y(1) + tq.paulis.X([0,1])\n",
    "print(\"\\nmake objective with H = \", H)\n",
    "objective = tq.ExpectationValue(H=H, U=U)\n",
    "compiled_1 = tq.compile(objective, backend=backend1)\n",
    "\n",
    "print(\"\\nExpectationValues of objective 1:\")\n",
    "for expv in compiled_1.get_expectationvalues():\n",
    "    print(expv)\n",
    "    \n",
    "objective2 = compiled_1 + objective # Its recommended to avoid those hybrids, but in principle it works\n",
    "\n",
    "print(\"\\nExpectationValues of partly compiled objective:\")\n",
    "for expv in objective2.get_expectationvalues():\n",
    "    print(expv)\n",
    "    \n",
    "compiled_2 = tq.compile(objective2, backend=backend2)\n",
    "print(\"\\nExpectationValues of hybdrif compiled objective:\")\n",
    "for expv in compiled_2.get_expectationvalues():\n",
    "    print(expv)\n",
    "    \n",
    "\n",
    "\n",
    "\n"
   ]
  },
  {
   "cell_type": "code",
   "execution_count": null,
   "metadata": {},
   "outputs": [],
   "source": []
  }
 ],
 "metadata": {
  "kernelspec": {
   "display_name": "tequila-3.6",
   "language": "python",
   "name": "tequila-3.6"
  },
  "language_info": {
   "codemirror_mode": {
    "name": "ipython",
    "version": 3
   },
   "file_extension": ".py",
   "mimetype": "text/x-python",
   "name": "python",
   "nbconvert_exporter": "python",
   "pygments_lexer": "ipython3",
   "version": "3.6.9"
  }
 },
 "nbformat": 4,
 "nbformat_minor": 2
}
