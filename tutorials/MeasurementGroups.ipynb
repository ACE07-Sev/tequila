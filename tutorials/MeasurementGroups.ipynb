{
 "cells": [
  {
   "cell_type": "code",
   "execution_count": 37,
   "metadata": {},
   "outputs": [],
   "source": [
    "import tequila as tq\n",
    "import numpy as np\n",
    "from tequila.hamiltonian import QubitHamiltonian, paulis\n",
    "from tequila.grouping.binary_rep import BinaryHamiltonian"
   ]
  },
  {
   "cell_type": "markdown",
   "metadata": {},
   "source": [
    "The following examples shows how to partition a given Hamiltonian into commuting parts and how to find the unitary transformation needed to transform the commuting terms into qubit-wise commuting form that is easy to measure. \n",
    "\n",
    "The Hamiltonian is simply \n",
    "$$ H = \\sigma_z(0)\\sigma_z(1) + \\sigma_y(0)\\sigma_y(1) + \\sigma_x(0)\\sigma_x(1) + \\sigma_x(0)$$\n",
    "where $\\sigma_z(0)\\sigma_z(1)$, $\\sigma_y(0)\\sigma_y(1)$ does not commute with $\\sigma_x(0)$, so two separate measurements are needed."
   ]
  },
  {
   "cell_type": "code",
   "execution_count": 38,
   "metadata": {},
   "outputs": [],
   "source": [
    "H = paulis.Z(0) * paulis.Z(1) + paulis.Y(0) * paulis.Y(1) + \\\n",
    "    paulis.X(0) * paulis.X(1) + paulis.X(0) "
   ]
  },
  {
   "cell_type": "markdown",
   "metadata": {},
   "source": [
    "Here we use the binary representation of the Hamiltonian for partitioning. The method commuting_groups gets back a list of BinaryHamiltonian whose terms are mutually commuting. \n",
    "\n",
    "Call to_qubit_hamiltonian to visualize."
   ]
  },
  {
   "cell_type": "code",
   "execution_count": 50,
   "metadata": {},
   "outputs": [],
   "source": [
    "binary_H = BinaryHamiltonian.init_from_qubit_hamiltonian(H)\n",
    "commuting_parts = binary_H.commuting_groups()"
   ]
  },
  {
   "cell_type": "code",
   "execution_count": 40,
   "metadata": {},
   "outputs": [
    {
     "name": "stdout",
     "output_type": "stream",
     "text": [
      "2\n",
      "+0.0000i+1.0000X(0)X(1)+1.0000X(0)\n",
      "+0.0000i+1.0000Z(0)Z(1)+1.0000Y(0)Y(1)\n"
     ]
    }
   ],
   "source": [
    "print(len(commuting_parts)) # Number of measurements needed\n",
    "print(commuting_parts[0].to_qubit_hamiltonian())\n",
    "print(commuting_parts[1].to_qubit_hamiltonian())"
   ]
  },
  {
   "cell_type": "markdown",
   "metadata": {},
   "source": [
    "The second group of terms $H_2$ are not currently qubit-wise commuting and cannot be directly measured on current hardware. They require further unitary transformation $U$ to become qubit-wise commuting. The following code identifies two bases (list of BinaryPauliString) that encodes the unitary transformation as\n",
    "$$ U = \\prod_i \\frac{1}{2} (\\text{old_basis}[i] + \\text{new_basis}[i])$$\n",
    "such that $UH_2U$ is qubit-wise commuting."
   ]
  },
  {
   "cell_type": "code",
   "execution_count": 49,
   "metadata": {},
   "outputs": [],
   "source": [
    "qubit_wise_parts, old_basis, new_basis = commuting_parts[1].get_qubit_wise()"
   ]
  },
  {
   "cell_type": "code",
   "execution_count": 46,
   "metadata": {},
   "outputs": [
    {
     "name": "stdout",
     "output_type": "stream",
     "text": [
      "Old Basis\n",
      "+1.0000Y(0)Y(1)\n",
      "+1.0000X(0)X(1)\n",
      "\n",
      "New Basis\n",
      "+1.0000X(0)\n",
      "+1.0000Y(1)\n"
     ]
    }
   ],
   "source": [
    "def display_basis(basis):\n",
    "    for term in basis:\n",
    "        print(QubitHamiltonian.init_from_paulistring(term.to_pauli_strings()))\n",
    "print('Old Basis')\n",
    "display_basis(old_basis)\n",
    "print('\\nNew Basis')\n",
    "display_basis(new_basis)"
   ]
  },
  {
   "cell_type": "markdown",
   "metadata": {},
   "source": [
    "The transfromed term $UH_2U$ is qubit-wise commuting. "
   ]
  },
  {
   "cell_type": "code",
   "execution_count": 47,
   "metadata": {},
   "outputs": [
    {
     "name": "stdout",
     "output_type": "stream",
     "text": [
      "+0.0000i-1.0000X(0)Y(1)+1.0000X(0)\n"
     ]
    }
   ],
   "source": [
    "print(qubit_wise_parts.to_qubit_hamiltonian())"
   ]
  },
  {
   "cell_type": "code",
   "execution_count": null,
   "metadata": {},
   "outputs": [],
   "source": []
  }
 ],
 "metadata": {
  "kernelspec": {
   "display_name": "Python 3.6.7 64-bit ('Tequila': conda)",
   "language": "python",
   "name": "python36764bittequilacondaefa2236b9b684d4eaec0f7fc021a818b"
  },
  "language_info": {
   "codemirror_mode": {
    "name": "ipython",
    "version": 3
   },
   "file_extension": ".py",
   "mimetype": "text/x-python",
   "name": "python",
   "nbconvert_exporter": "python",
   "pygments_lexer": "ipython3",
   "version": "3.6.7"
  }
 },
 "nbformat": 4,
 "nbformat_minor": 2
}
