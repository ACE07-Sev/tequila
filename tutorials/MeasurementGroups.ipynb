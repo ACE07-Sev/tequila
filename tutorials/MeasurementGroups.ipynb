{
 "cells": [
  {
   "cell_type": "code",
   "execution_count": 1,
   "metadata": {},
   "outputs": [],
   "source": [
    "import tequila as tq\n",
    "import numpy as np\n",
    "from tequila.hamiltonian import QubitHamiltonian, paulis\n",
    "from tequila.grouping.binary_rep import BinaryHamiltonian"
   ]
  },
  {
   "cell_type": "markdown",
   "metadata": {},
   "source": [
    "The following examples shows how to partition a given Hamiltonian into commuting parts and how to find the unitary transformation needed to transform the commuting terms into qubit-wise commuting form that is easy to measure. \n",
    "\n",
    "The Hamiltonian is simply \n",
    "$$ H = \\sigma_z(0)\\sigma_z(1) + \\sigma_y(0)\\sigma_y(1) + \\sigma_x(0)\\sigma_x(1) + \\sigma_x(0)$$\n",
    "where $\\sigma_z(0)\\sigma_z(1)$, $\\sigma_y(0)\\sigma_y(1)$ does not commute with $\\sigma_x(0)$, so two separate measurements are needed."
   ]
  },
  {
   "cell_type": "code",
   "execution_count": 2,
   "metadata": {},
   "outputs": [],
   "source": [
    "H = paulis.Z(0) * paulis.Z(1) + paulis.Y(0) * paulis.Y(1) + \\\n",
    "    paulis.X(0) * paulis.X(1) + paulis.X(0) "
   ]
  },
  {
   "cell_type": "markdown",
   "metadata": {},
   "source": [
    "Here we use the binary representation of the Hamiltonian for partitioning. The method commuting_groups gets back a list of BinaryHamiltonian whose terms are mutually commuting. \n",
    "\n",
    "Call to_qubit_hamiltonian to visualize."
   ]
  },
  {
   "cell_type": "code",
   "execution_count": 3,
   "metadata": {},
   "outputs": [],
   "source": [
    "binary_H = BinaryHamiltonian.init_from_qubit_hamiltonian(H)\n",
    "commuting_parts = binary_H.commuting_groups()"
   ]
  },
  {
   "cell_type": "code",
   "execution_count": 4,
   "metadata": {},
   "outputs": [
    {
     "name": "stdout",
     "output_type": "stream",
     "text": [
      "2\n",
      "+0.0000i+1.0000X(0)X(1)+1.0000X(0)\n",
      "+0.0000i+1.0000Z(0)Z(1)+1.0000Y(0)Y(1)\n"
     ]
    }
   ],
   "source": [
    "print(len(commuting_parts)) # Number of measurements needed\n",
    "print(commuting_parts[0].to_qubit_hamiltonian())\n",
    "print(commuting_parts[1].to_qubit_hamiltonian())"
   ]
  },
  {
   "cell_type": "markdown",
   "metadata": {},
   "source": [
    "The second group of terms $H_2$ are not currently qubit-wise commuting and cannot be directly measured on current hardware. They require further unitary transformation $U$ to become qubit-wise commuting. The following code identifies two bases (list of BinaryPauliString) that encodes the unitary transformation as\n",
    "$$ U = \\prod_i \\frac{1}{\\sqrt{2}} (\\text{old_basis}[i] + \\text{new_basis}[i])$$\n",
    "such that $UH_2U$ is qubit-wise commuting."
   ]
  },
  {
   "cell_type": "code",
   "execution_count": 186,
   "metadata": {},
   "outputs": [],
   "source": [
    "qubit_wise_parts, old_basis, new_basis = commuting_parts[1].get_qubit_wise()"
   ]
  },
  {
   "cell_type": "code",
   "execution_count": null,
   "metadata": {},
   "outputs": [],
   "source": []
  },
  {
   "cell_type": "code",
   "execution_count": 187,
   "metadata": {},
   "outputs": [
    {
     "name": "stdout",
     "output_type": "stream",
     "text": [
      "Old Basis\n",
      "+1.0000Y(0)Y(1)\n",
      "+1.0000X(0)X(1)\n",
      "\n",
      "New Basis\n",
      "+1.0000X(0)\n",
      "+1.0000Y(1)\n"
     ]
    }
   ],
   "source": [
    "def display_basis(basis):\n",
    "    for term in basis:\n",
    "        print(QubitHamiltonian.init_from_paulistring(term.to_pauli_strings()))\n",
    "print('Old Basis')\n",
    "display_basis(old_basis)\n",
    "print('\\nNew Basis')\n",
    "display_basis(new_basis)"
   ]
  },
  {
   "cell_type": "markdown",
   "metadata": {},
   "source": [
    "The transfromed term $UH_2U$ is qubit-wise commuting. "
   ]
  },
  {
   "cell_type": "code",
   "execution_count": 7,
   "metadata": {},
   "outputs": [
    {
     "name": "stdout",
     "output_type": "stream",
     "text": [
      "+0.0000i-1.0000X(0)Y(1)+1.0000X(0)\n"
     ]
    }
   ],
   "source": [
    "print(qubit_wise_parts.to_qubit_hamiltonian())"
   ]
  },
  {
   "cell_type": "markdown",
   "metadata": {},
   "source": [
    "Trying to construct the circuit for the unitary transformation to implement the measurement scheme"
   ]
  },
  {
   "cell_type": "code",
   "execution_count": 199,
   "metadata": {},
   "outputs": [],
   "source": [
    "# proposition of how the code could work\n",
    "# would move that then into the tequila objectives to transform all expectationvalues at once\n",
    "# the first term which was already qwc is now still transformed (by single qubit rotations), can it be detected and skipped in the code below?\n",
    "\n",
    "def optimize_measurements(H, U):\n",
    "    binary_H = BinaryHamiltonian.init_from_qubit_hamiltonian(H)\n",
    "    commuting_parts = binary_H.commuting_groups()\n",
    "    result = None\n",
    "    for cH in commuting_parts:\n",
    "        qwc, bas1, bas2 = cH.get_qubit_wise()\n",
    "        Um = tq.QCircuit()\n",
    "        for i in range(len(bas1)):\n",
    "            sigma = bas1[i].to_pauli_strings()\n",
    "            tau = bas2[i].to_pauli_strings()\n",
    "            V0=tq.gates.ExpPauli(angle=-tq.numpy.pi/2, paulistring=sigma) \n",
    "            V1=tq.gates.ExpPauli(angle=-tq.numpy.pi/2, paulistring=tau)\n",
    "            V2=tq.gates.ExpPauli(angle=-tq.numpy.pi/2, paulistring=sigma)\n",
    "            Um += V0 + V1 + V2\n",
    "        Etmp = tq.ExpectationValue(H=qwc.to_qubit_hamiltonian(), U=U+Um)\n",
    "        if result is None: # currently necessary\n",
    "            result = Etmp\n",
    "        else:\n",
    "            result += Etmp\n",
    "    \n",
    "    return result\n",
    "        \n",
    "    \n",
    "    \n",
    "\n"
   ]
  },
  {
   "cell_type": "code",
   "execution_count": 201,
   "metadata": {},
   "outputs": [
    {
     "name": "stdout",
     "output_type": "stream",
     "text": [
      "1.8414709568023682\n",
      "1.8414710760116577\n"
     ]
    }
   ],
   "source": [
    "# test it out\n",
    "\n",
    "E1 = tq.ExpectationValue(H=H, U=U)\n",
    "E2 = optimize_measurements(H, U)\n",
    "\n",
    "print(tq.simulate(E1, variables))\n",
    "print(tq.simulate(E2, variables))"
   ]
  },
  {
   "cell_type": "code",
   "execution_count": null,
   "metadata": {},
   "outputs": [],
   "source": []
  }
 ],
 "metadata": {
  "kernelspec": {
   "display_name": "tequila-3.6",
   "language": "python",
   "name": "tequila-3.6"
  },
  "language_info": {
   "codemirror_mode": {
    "name": "ipython",
    "version": 3
   },
   "file_extension": ".py",
   "mimetype": "text/x-python",
   "name": "python",
   "nbconvert_exporter": "python",
   "pygments_lexer": "ipython3",
   "version": "3.6.9"
  }
 },
 "nbformat": 4,
 "nbformat_minor": 2
}