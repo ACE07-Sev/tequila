{
 "cells": [
  {
   "cell_type": "code",
   "execution_count": 1,
   "metadata": {},
   "outputs": [],
   "source": [
    "import tequila as tq\n",
    "import numpy as np\n",
    "from tequila.hamiltonian import QubitHamiltonian, paulis\n",
    "from tequila.grouping.binary_rep import BinaryHamiltonian"
   ]
  },
  {
   "cell_type": "markdown",
   "metadata": {},
   "source": [
    "The following examples shows how to partition a given Hamiltonian into commuting parts and how to find the unitary transformation needed to transform the commuting terms into qubit-wise commuting form that is easy to measure. \n",
    "\n",
    "The Hamiltonian is simply \n",
    "$$ H = \\sigma_z(0)\\sigma_z(1) + \\sigma_y(0)\\sigma_y(1) + \\sigma_x(0)\\sigma_x(1) + \\sigma_x(0)$$\n",
    "where $\\sigma_z(0)\\sigma_z(1)$, $\\sigma_y(0)\\sigma_y(1)$ does not commute with $\\sigma_x(0)$, so two separate measurements are needed."
   ]
  },
  {
   "cell_type": "code",
   "execution_count": 2,
   "metadata": {},
   "outputs": [],
   "source": [
    "H = paulis.Z(0) * paulis.Z(1) + paulis.Y(0) * paulis.Y(1) + \\\n",
    "    paulis.X(0) * paulis.X(1) + paulis.X(0) "
   ]
  },
  {
   "cell_type": "markdown",
   "metadata": {},
   "source": [
    "Here we use the binary representation of the Hamiltonian for partitioning. The method commuting_groups gets back a list of BinaryHamiltonian whose terms are mutually commuting. \n",
    "\n",
    "Call to_qubit_hamiltonian to visualize."
   ]
  },
  {
   "cell_type": "code",
   "execution_count": 3,
   "metadata": {},
   "outputs": [],
   "source": [
    "binary_H = BinaryHamiltonian.init_from_qubit_hamiltonian(H)\n",
    "commuting_parts = binary_H.commuting_groups()"
   ]
  },
  {
   "cell_type": "code",
   "execution_count": 4,
   "metadata": {},
   "outputs": [
    {
     "name": "stdout",
     "output_type": "stream",
     "text": [
      "2\n",
      "+0.0000i+1.0000X(0)X(1)+1.0000X(0)\n",
      "+0.0000i+1.0000Z(0)Z(1)+1.0000Y(0)Y(1)\n"
     ]
    }
   ],
   "source": [
    "print(len(commuting_parts)) # Number of measurements needed\n",
    "print(commuting_parts[0].to_qubit_hamiltonian())\n",
    "print(commuting_parts[1].to_qubit_hamiltonian())"
   ]
  },
  {
   "cell_type": "markdown",
   "metadata": {},
   "source": [
    "The second group of terms $H_2$ are not currently qubit-wise commuting and cannot be directly measured on current hardware. They require further unitary transformation $U$ to become qubit-wise commuting. The following code identifies two bases (list of BinaryPauliString) that encodes the unitary transformation as\n",
    "$$ U = \\prod_i \\frac{1}{2} (\\text{old_basis}[i] + \\text{new_basis}[i])$$\n",
    "such that $UH_2U$ is qubit-wise commuting."
   ]
  },
  {
   "cell_type": "code",
   "execution_count": 5,
   "metadata": {},
   "outputs": [],
   "source": [
    "qubit_wise_parts, old_basis, new_basis = commuting_parts[1].get_qubit_wise()"
   ]
  },
  {
   "cell_type": "code",
   "execution_count": 6,
   "metadata": {},
   "outputs": [
    {
     "name": "stdout",
     "output_type": "stream",
     "text": [
      "Old Basis\n",
      "+1.0000Y(0)Y(1)\n",
      "+1.0000X(0)X(1)\n",
      "\n",
      "New Basis\n",
      "+1.0000X(0)\n",
      "+1.0000Y(1)\n"
     ]
    }
   ],
   "source": [
    "def display_basis(basis):\n",
    "    for term in basis:\n",
    "        print(QubitHamiltonian.init_from_paulistring(term.to_pauli_strings()))\n",
    "print('Old Basis')\n",
    "display_basis(old_basis)\n",
    "print('\\nNew Basis')\n",
    "display_basis(new_basis)"
   ]
  },
  {
   "cell_type": "markdown",
   "metadata": {},
   "source": [
    "The transfromed term $UH_2U$ is qubit-wise commuting. "
   ]
  },
  {
   "cell_type": "code",
   "execution_count": 7,
   "metadata": {},
   "outputs": [
    {
     "name": "stdout",
     "output_type": "stream",
     "text": [
      "+0.0000i-1.0000X(0)Y(1)+1.0000X(0)\n"
     ]
    }
   ],
   "source": [
    "print(qubit_wise_parts.to_qubit_hamiltonian())"
   ]
  },
  {
   "cell_type": "code",
   "execution_count": 8,
   "metadata": {},
   "outputs": [
    {
     "data": {
      "text/plain": [
       "[<tequila.grouping.binary_rep.BinaryPauliString at 0x7feaf30da4e0>,\n",
       " <tequila.grouping.binary_rep.BinaryPauliString at 0x7feaf30dab70>]"
      ]
     },
     "execution_count": 8,
     "metadata": {},
     "output_type": "execute_result"
    }
   ],
   "source": [
    "old_basis"
   ]
  },
  {
   "cell_type": "markdown",
   "metadata": {},
   "source": [
    "Trying to construct the circuit for the unitary transformation to implement the measurement scheme"
   ]
  },
  {
   "cell_type": "code",
   "execution_count": 159,
   "metadata": {
    "scrolled": true
   },
   "outputs": [
    {
     "name": "stdout",
     "output_type": "stream",
     "text": [
      "anti-comm  =  \n",
      "anti-comm  =  \n"
     ]
    }
   ],
   "source": [
    "def to_qubit_operator(bps):\n",
    "    return tq.QubitHamiltonian.init_from_paulistring(bps.to_pauli_strings())\n",
    "\n",
    "UM = tq.gates.QCircuit()\n",
    "UM_op = tq.paulis.I()\n",
    "for i in range(len(old_basis)):\n",
    "    sigma = to_qubit_operator(old_basis[i])\n",
    "    tau = to_qubit_operator(new_basis[i])\n",
    "    print(\"anti-comm  = \", sigma*tau + tau*sigma) # seems to be fine\n",
    "    UM_op *= 1.0/np.sqrt(2.0)*(sigma + tau) # think its sqrt(2) and not 2 (see above)\n",
    "    V0=tq.gates.ExpPauli(angle=-tq.numpy.pi/2, paulistring=sigma.paulistrings[0]) # gates are defined as exp(-angle/2 * generator) \n",
    "    V1=tq.gates.ExpPauli(angle=-tq.numpy.pi/2, paulistring=tau.paulistrings[0])\n",
    "    V2=tq.gates.ExpPauli(angle=-tq.numpy.pi/2, paulistring=sigma.paulistrings[0])\n",
    "    UM += V0 + V1 + V2\n"
   ]
  },
  {
   "cell_type": "code",
   "execution_count": 160,
   "metadata": {},
   "outputs": [
    {
     "data": {
      "text/plain": [
       "circuit: \n",
       "Exp-Pauli(target=(0, 1), control=(), parameter=-1.5707963267948966, paulistring=+1.0000Y(0)Y(1))\n",
       "Rx(target=(0,), parameter=-1.5707963267948966)\n",
       "Exp-Pauli(target=(0, 1), control=(), parameter=-1.5707963267948966, paulistring=+1.0000Y(0)Y(1))\n",
       "Exp-Pauli(target=(0, 1), control=(), parameter=-1.5707963267948966, paulistring=+1.0000X(0)X(1))\n",
       "Ry(target=(1,), parameter=-1.5707963267948966)\n",
       "Exp-Pauli(target=(0, 1), control=(), parameter=-1.5707963267948966, paulistring=+1.0000X(0)X(1))"
      ]
     },
     "execution_count": 160,
     "metadata": {},
     "output_type": "execute_result"
    }
   ],
   "source": [
    "UM"
   ]
  },
  {
   "cell_type": "code",
   "execution_count": 161,
   "metadata": {},
   "outputs": [],
   "source": [
    "newH = (qubit_wise_parts.to_qubit_hamiltonian()).simplify()"
   ]
  },
  {
   "cell_type": "code",
   "execution_count": 162,
   "metadata": {},
   "outputs": [
    {
     "name": "stdout",
     "output_type": "stream",
     "text": [
      "1.8414709568023682\n",
      "0.2919265925884247\n"
     ]
    }
   ],
   "source": [
    "# try measurement scheme\n",
    "U = tq.gates.Ry(angle=\"a\", target=0) + tq.gates.Ry(angle=\"b\", target=1)\n",
    "E1 = tq.ExpectationValue(H=H, U=U)\n",
    "E2 = tq.ExpectationValue(H=newH, U=U+UM)\n",
    "variables = {\"a\":1.0 , \"b\": 1.0}\n",
    "print(tq.simulate(E1, variables=variables))\n",
    "print(tq.simulate(E2, variables=variables))\n"
   ]
  },
  {
   "cell_type": "code",
   "execution_count": 163,
   "metadata": {},
   "outputs": [
    {
     "data": {
      "text/plain": [
       "+1.0000+0.0000iX(0)Z(1)+0.0000iZ(0)Y(1)+0.0000iY(0)X(1)"
      ]
     },
     "execution_count": 163,
     "metadata": {},
     "output_type": "execute_result"
    }
   ],
   "source": [
    "# test if unitary (1.0/sqrt(2.0) factor seems to be fine)\n",
    "UM_op*UM_op"
   ]
  },
  {
   "cell_type": "code",
   "execution_count": 164,
   "metadata": {},
   "outputs": [
    {
     "data": {
      "text/plain": [
       "+1.0000Z(0)Z(1)+1.0000Y(0)Y(1)"
      ]
     },
     "execution_count": 164,
     "metadata": {},
     "output_type": "execute_result"
    }
   ],
   "source": [
    "# test if transformed operator is the same as newH\n",
    "# seems not to be the case\n",
    "(UM_op*newH*UM_op).simplify()"
   ]
  },
  {
   "cell_type": "code",
   "execution_count": 165,
   "metadata": {},
   "outputs": [
    {
     "data": {
      "text/plain": [
       "-1.0000X(0)Y(1)+1.0000X(0)"
      ]
     },
     "execution_count": 165,
     "metadata": {},
     "output_type": "execute_result"
    }
   ],
   "source": [
    "newH"
   ]
  },
  {
   "cell_type": "code",
   "execution_count": 166,
   "metadata": {},
   "outputs": [],
   "source": [
    "# test if circuit is correct\n",
    "# seems to be the case\n",
    "wfn = tq.simulate(U, variables=variables)\n",
    "wfn2 = wfn.apply_qubitoperator(UM_op)\n",
    "wfn3 = tq.simulate(U+UM, variables=variables)"
   ]
  },
  {
   "cell_type": "code",
   "execution_count": 167,
   "metadata": {},
   "outputs": [
    {
     "data": {
      "text/plain": [
       "+0.3692e^(-0.6569πi)|00> +0.3692e^(+0.1569πi)|10> +0.6030e^(+0.0506πi)|01> +0.6030e^(+0.4494πi)|11> "
      ]
     },
     "execution_count": 167,
     "metadata": {},
     "output_type": "execute_result"
    }
   ],
   "source": [
    "wfn2"
   ]
  },
  {
   "cell_type": "code",
   "execution_count": 168,
   "metadata": {},
   "outputs": [
    {
     "data": {
      "text/plain": [
       "+0.3692e^(+0.3431πi)|00> +0.3692e^(-0.8431πi)|10> +0.6030e^(-0.9494πi)|01> +0.6030e^(-0.5506πi)|11> "
      ]
     },
     "execution_count": 168,
     "metadata": {},
     "output_type": "execute_result"
    }
   ],
   "source": [
    "wfn3"
   ]
  },
  {
   "cell_type": "code",
   "execution_count": 169,
   "metadata": {},
   "outputs": [
    {
     "data": {
      "text/plain": [
       "0.9999999999999993"
      ]
     },
     "execution_count": 169,
     "metadata": {},
     "output_type": "execute_result"
    }
   ],
   "source": [
    "np.abs(wfn2.inner(wfn3))**2"
   ]
  },
  {
   "cell_type": "code",
   "execution_count": null,
   "metadata": {},
   "outputs": [],
   "source": []
  },
  {
   "cell_type": "code",
   "execution_count": null,
   "metadata": {},
   "outputs": [],
   "source": []
  }
 ],
 "metadata": {
  "kernelspec": {
   "display_name": "tequila-3.6",
   "language": "python",
   "name": "tequila-3.6"
  },
  "language_info": {
   "codemirror_mode": {
    "name": "ipython",
    "version": 3
   },
   "file_extension": ".py",
   "mimetype": "text/x-python",
   "name": "python",
   "nbconvert_exporter": "python",
   "pygments_lexer": "ipython3",
   "version": "3.6.9"
  }
 },
 "nbformat": 4,
 "nbformat_minor": 2
}
