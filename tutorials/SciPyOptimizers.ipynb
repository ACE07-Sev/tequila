{
 "cells": [
  {
   "cell_type": "markdown",
   "metadata": {},
   "source": [
    "# Tequila Tutorial: \n",
    "## Handling Optimizers, Initializing parametrized circuits"
   ]
  },
  {
   "cell_type": "code",
   "execution_count": 1,
   "metadata": {},
   "outputs": [],
   "source": [
    "# Import everything we need here\n",
    "import tequila as tq\n",
    "numpy = tq.numpy"
   ]
  },
  {
   "cell_type": "markdown",
   "metadata": {},
   "source": [
    "In the following example we will optimize a simple two qubit VQE with an Ansatz that is parametrized by two parameters.\n",
    "The Hamiltonian is also very simple and defined in the box below.\n",
    "$$ H = \\sigma_x(1) + c \\sigma_z(1) - \\sigma_z(0)$$\n",
    "\n",
    "<br>\n",
    "The tutorial is \\textbf{not} a guideline to optimization strategies but only intends to show tequilas functionality"
   ]
  },
  {
   "cell_type": "code",
   "execution_count": 2,
   "metadata": {},
   "outputs": [],
   "source": [
    "c = 0.5\n",
    "H = tq.paulis.X(1) + c*tq.paulis.Z(1) - tq.paulis.Z(0)"
   ]
  },
  {
   "cell_type": "markdown",
   "metadata": {},
   "source": [
    "Lets take a look at the spectrum of this very simple Hamiltonian  \n",
    "Keep in mind: Tequila is not a numerical linear algebra package, so better not try to diagonalize Hamiltonians  \n",
    "we however added this feature for user convenience in examples  \n",
    "In the future we might have interfaces to more powerfull numerical packages ... feel free to contribute :-) "
   ]
  },
  {
   "cell_type": "code",
   "execution_count": 3,
   "metadata": {},
   "outputs": [
    {
     "data": {
      "text/plain": [
       "DeviceArray([-2.118034  , -0.11803401,  0.11803401,  2.118034  ], dtype=float32)"
      ]
     },
     "execution_count": 3,
     "metadata": {},
     "output_type": "execute_result"
    }
   ],
   "source": [
    "matrix = H.to_matrix()\n",
    "e, v = numpy.linalg.eigh(matrix)\n",
    "e"
   ]
  },
  {
   "cell_type": "markdown",
   "metadata": {},
   "source": [
    "And here we initialize our Ansatz circuit which is parametrized by a and b.<br>\n",
    "\n",
    "We show to ways to initialize Variables:\n",
    "Variable a is initialized with a convenience string based initialization <br>\n",
    "Variable b is initialized as Variable which allows you to conveniently transforming it when initializing gates. Here we do a simple rescaling as an example <br>\n",
    "Note that you don't need strings to name variables but can use any hashable non-numeric type (meaning anything that is not interpreted as number). \n",
    "\n",
    "For example: tq.Variable(name=(0,1,2,3)) will also work\n",
    "\n",
    "\n",
    "The Ansatz has no specific meaning and it is more to show different ways how to deal with variables.\n",
    "See for instance that you can scale them and use the same variable in multiple gates. (See the other tutorials for more examples)"
   ]
  },
  {
   "cell_type": "code",
   "execution_count": 4,
   "metadata": {},
   "outputs": [],
   "source": [
    "a = tq.Variable(name=\"a\")\n",
    "b = tq.Variable(name=\"b\")\n",
    "c = tq.Variable(name=\"c\")\n",
    "\n",
    "a = 2.0*a*tq.numpy.pi # optimize a in units of 2pi\n",
    "b = 2.0*b*tq.numpy.pi # optimize b in units of 2pi\n",
    "c = 2.0*c*tq.numpy.pi # optimize c in units of 2pi\n",
    "\n",
    "U = tq.gates.Ry(target=0, angle=a)\n",
    "U += tq.gates.Ry(target=1, control=0, angle=b)\n",
    "U += tq.gates.X(target=1)\n",
    "U += tq.gates.Ry(target=1, control=0, angle=-b)\n",
    "U += tq.gates.Ry(target=0,angle=c)\n"
   ]
  },
  {
   "cell_type": "code",
   "execution_count": 5,
   "metadata": {},
   "outputs": [
    {
     "name": "stdout",
     "output_type": "stream",
     "text": [
      "circuit: \n",
      "Ry(target=(0,), parameter=Objective with 0 unique expectation values\n",
      "variables = [a]\n",
      "types     = [])\n",
      "Ry(target=(1,), control=(0,), parameter=Objective with 0 unique expectation values\n",
      "variables = [b]\n",
      "types     = [])\n",
      "X(target=(1,))\n",
      "Ry(target=(1,), control=(0,), parameter=Objective with 0 unique expectation values\n",
      "variables = [b]\n",
      "types     = [])\n",
      "Ry(target=(0,), parameter=Objective with 0 unique expectation values\n",
      "variables = [c]\n",
      "types     = [])\n",
      "\n"
     ]
    }
   ],
   "source": [
    "print(U)"
   ]
  },
  {
   "cell_type": "code",
   "execution_count": 6,
   "metadata": {},
   "outputs": [
    {
     "name": "stdout",
     "output_type": "stream",
     "text": [
      "0: ───Ry(0.318309886183791*pi*f((a,))_0)───@────────────────────────────────────────@────────────────────────────────────Ry(0.318309886183791*pi*f((c,))_3)───\n",
      "                                           │                                        │\n",
      "1: ────────────────────────────────────────Ry(0.318309886183791*pi*f((b,))_1)───X───Ry(0.318309886183791*pi*f((b,))_2)────────────────────────────────────────\n"
     ]
    }
   ],
   "source": [
    "# nice output (depends on which backends you have installed)\n",
    "tq.draw(U)"
   ]
  },
  {
   "cell_type": "markdown",
   "metadata": {},
   "source": [
    "In the next box we form an objective out of our Hamiltonian and our Ansatz and pass it down to the optimizer.\n",
    "In the following boxes we show how the results of the optimizer can be plotted\n",
    "\n",
    "See further below for some small exercises and additional information \n",
    "\n",
    "First lets see how objectives are created and simulated"
   ]
  },
  {
   "cell_type": "code",
   "execution_count": 7,
   "metadata": {},
   "outputs": [
    {
     "name": "stdout",
     "output_type": "stream",
     "text": [
      "energy : -6.556708949390089e-08\n",
      "wfn    : -0.5000|00> +0.5000|10> +0.5000|01> +0.5000|11> \n",
      "squared: 4.2990428789557375e-15\n"
     ]
    }
   ],
   "source": [
    "O = tq.Objective.ExpectationValue(U=U, H=H)\n",
    "variables = {\"a\":0.25, \"b\":0.25, \"c\":0.25}\n",
    "energy = tq.simulate(O, variables=variables)\n",
    "wfn = tq.simulate(U, variables=variables)\n",
    "evaluate_squared = tq.simulate(O**2, variables=variables)\n",
    "print(\"energy : {}\".format(energy))\n",
    "print(\"wfn    : {}\".format(wfn))\n",
    "print(\"squared: {}\".format(evaluate_squared))"
   ]
  },
  {
   "cell_type": "markdown",
   "metadata": {},
   "source": [
    "Now the objective can be optimized \n",
    "\n",
    "We will also set the initial values of the variables that can be passed to the optimizer.  \n",
    "Values of variables are passed as dictionaries where the keys are tequila variables and the values are floats.  "
   ]
  },
  {
   "cell_type": "code",
   "execution_count": 8,
   "metadata": {},
   "outputs": [
    {
     "name": "stdout",
     "output_type": "stream",
     "text": [
      "Optimizer: <class 'tequila.optimizers.optimizer_scipy.OptimizerSciPy'> \n",
      "backend         : qulacs\n",
      "samples         : None\n",
      "save_history    : True\n",
      "noise           : None\n",
      "\n",
      "Method          : BFGS\n",
      "Objective       : 1 expectationvalues\n",
      "gradient        : 12 expectationvalues\n",
      "\n",
      "active variables : 3\n",
      "\n",
      "E=-0.66770238  angles= {c: 0.3, b: 0.3, a: 0.3}  samples= None\n",
      "E=-0.86641482  angles= {c: 0.3886562339058441, b: 1.3058406768884259, a: 0.32290425519998417}  samples= None\n",
      "E=-0.35434409  angles= {c: 0.7432811695292205, b: 5.3292033844421285, a: 0.41452127599992095}  samples= None\n",
      "E=-0.80480921  angles= {c: 0.47595029847112946, b: 2.296226994041704, a: 0.3454565952234802}  samples= None\n",
      "E=-1.08258143  angles= {c: 0.47268466185431224, b: 2.3162437658743937, a: 0.3555276683594922}  samples= None\n",
      "E=-1.92438448  angles= {c: 0.45962211538704334, b: 2.396310853205154, a: 0.3958119609035401}  samples= None\n",
      "E=+0.06258418  angles= {c: 0.23628931675683343, b: 2.4354660461406437, a: 0.8541594702738478}  samples= None\n",
      "E=-2.05964335  angles= {c: 0.43712268230837514, b: 2.400255502842546, a: 0.44198770928041337}  samples= None\n",
      "E=-1.81747664  angles= {c: 0.6644324551354136, b: 2.389257335430303, a: 0.624945702521921}  samples= None\n",
      "E=-2.09707552  angles= {c: 0.49003670664980303, b: 2.397695308043507, a: 0.48457735946323377}  samples= None\n",
      "E=-2.10044517  angles= {c: 0.49588707381117236, b: 2.425950479255173, a: 0.49554750902065947}  samples= None\n",
      "E=-2.11689104  angles= {c: 0.49309702429115393, b: 2.412475542605437, a: 0.49031582703165044}  samples= None\n",
      "E=-2.11802490  angles= {c: 0.49986811934236913, b: 2.41176828448091, a: 0.5004530354135697}  samples= None\n",
      "E=-2.11803399  angles= {c: 0.5000016128327002, b: 2.4118918603304658, a: 0.4999942303823348}  samples= None\n",
      "Optimization terminated successfully.\n",
      "         Current function value: -2.118034\n",
      "         Iterations: 7\n",
      "         Function evaluations: 14\n",
      "         Gradient evaluations: 14\n"
     ]
    }
   ],
   "source": [
    "initial_values = {'a':0.3, 'b':0.3, 'c':0.3}\n",
    "O = tq.Objective.ExpectationValue(U=U, H=H)\n",
    "result = tq.minimize(objective=O, method=\"bfgs\", initial_values=initial_values, tol=1.e-3, method_options={\"gtol\":1.e-3})"
   ]
  },
  {
   "cell_type": "code",
   "execution_count": 9,
   "metadata": {},
   "outputs": [
    {
     "data": {
      "text/plain": [
       "-2.118033986209923"
      ]
     },
     "execution_count": 9,
     "metadata": {},
     "output_type": "execute_result"
    }
   ],
   "source": [
    "# final energy\n",
    "result.energy"
   ]
  },
  {
   "cell_type": "markdown",
   "metadata": {},
   "source": [
    "Plot out the History:\n",
    "Note, that we choose bad initial points since they are close to the maximum"
   ]
  },
  {
   "cell_type": "code",
   "execution_count": 10,
   "metadata": {
    "scrolled": true
   },
   "outputs": [
    {
     "data": {
      "image/png": "[encoded data removed]",
      "text/plain": [
       "<Figure size 432x288 with 1 Axes>"
      ]
     },
     "metadata": {
      "needs_background": "light"
     },
     "output_type": "display_data"
    }
   ],
   "source": [
    "result.history.plot('energies')"
   ]
  },
  {
   "cell_type": "code",
   "execution_count": 11,
   "metadata": {
    "scrolled": true
   },
   "outputs": [
    {
     "data": {
      "image/png": "[encoded data removed]",
      "text/plain": [
       "<Figure size 432x288 with 1 Axes>"
      ]
     },
     "metadata": {
      "needs_background": "light"
     },
     "output_type": "display_data"
    }
   ],
   "source": [
    "result.history.plot(property='angles', key=[\"a\", \"b\"])"
   ]
  },
  {
   "cell_type": "code",
   "execution_count": 12,
   "metadata": {},
   "outputs": [
    {
     "data": {
      "image/png": "[encoded data removed]",
      "text/plain": [
       "<Figure size 432x288 with 1 Axes>"
      ]
     },
     "metadata": {
      "needs_background": "light"
     },
     "output_type": "display_data"
    },
    {
     "data": {
      "image/png": "[encoded data removed]",
      "text/plain": [
       "<Figure size 432x288 with 1 Axes>"
      ]
     },
     "metadata": {
      "needs_background": "light"
     },
     "output_type": "display_data"
    }
   ],
   "source": [
    "# Convenience in the history plot\n",
    "result.history.plot(property='angles', key=\"a\")\n",
    "result.history.plot(property=['angles', 'gradients'], key=[\"c\"])"
   ]
  },
  {
   "cell_type": "markdown",
   "metadata": {},
   "source": [
    "# FAQ\n",
    "\n",
    "## 1: How can I extract the parameters from a given circuit?\n",
    "\n",
    "Call the 'extract_parameters' attribute and get back a list of all Variables in the circuit"
   ]
  },
  {
   "cell_type": "code",
   "execution_count": 13,
   "metadata": {},
   "outputs": [
    {
     "data": {
      "text/plain": [
       "[c, b, a]"
      ]
     },
     "execution_count": 13,
     "metadata": {},
     "output_type": "execute_result"
    }
   ],
   "source": [
    "angles = U.extract_variables()\n",
    "angles"
   ]
  },
  {
   "cell_type": "markdown",
   "metadata": {},
   "source": [
    "## 2: How can I do measurement based simulation?\n",
    "Pass down the 'samples' keyword to simulate finite samples\n",
    "See the later exercises to play around with sample number and optimization methods.\n",
    "\n",
    "Feel free to play around with the number of samples \n",
    "Don't excpect miracles from the optimizer, you might need to hit return a few times or increase the number of samples.<br>Note that stochastic gradients are not yet supported\n",
    "<br>Note also that we did not set the initial parameters, so we will start with all parameters set to 0 which is a stationary point in this example (full wavefunction simulation would get stuck, see also the exercise below).\n",
    "\n",
    "Sampling based simulation needs improvement. Don't expect too much, but feel free to contribute\n",
    "\n",
    "Lets only optimize veriable b and set the other to the correct value to also show how that works"
   ]
  },
  {
   "cell_type": "code",
   "execution_count": 14,
   "metadata": {},
   "outputs": [
    {
     "name": "stdout",
     "output_type": "stream",
     "text": [
      "Optimizer: <class 'tequila.optimizers.optimizer_scipy.OptimizerSciPy'> \n",
      "backend         : qiskit\n",
      "samples         : 100\n",
      "save_history    : True\n",
      "noise           : None\n",
      "\n",
      "Method          : BFGS\n",
      "Objective       : 1 expectationvalues\n",
      "gradient        : 8 expectationvalues\n",
      "\n",
      "active variables : 1\n",
      "\n",
      "E=-0.51000000  angles= {b: 0.3, a: 0.3, c: 0.3}  samples= 100\n",
      "E=-0.77000000  angles= {b: 1.31, a: 0.3, c: 0.3}  samples= 100\n",
      "E=-1.21000000  angles= {b: 5.3500000000000005, a: 0.3, c: 0.3}  samples= 100\n",
      "E=-1.62000000  angles= {b: 5.482966084953792, a: 0.3, c: 0.3}  samples= 100\n",
      "E=-1.88000000  angles= {b: 5.434762744984264, a: 0.3, c: 0.3}  samples= 100\n",
      "E=-1.85000000  angles= {b: 5.430243682576612, a: 0.3, c: 0.3}  samples= 100\n",
      "E=-1.79000000  angles= {b: 5.434705843453938, a: 0.3, c: 0.3}  samples= 100\n",
      "E=-1.74000000  angles= {b: 5.4347627418768365, a: 0.3, c: 0.3}  samples= 100\n",
      "E=-1.86000000  angles= {b: 5.434762744984264, a: 0.3, c: 0.3}  samples= 100\n",
      "E=-1.72000000  angles= {b: 5.434762744984264, a: 0.3, c: 0.3}  samples= 100\n",
      "E=-1.76000000  angles= {b: 5.430243682576612, a: 0.3, c: 0.3}  samples= 100\n",
      "E=-1.55000000  angles= {b: 5.432503213780438, a: 0.3, c: 0.3}  samples= 100\n",
      "E=-1.81000000  angles= {b: 5.433632979382351, a: 0.3, c: 0.3}  samples= 100\n",
      "E=-2.00000000  angles= {b: 5.434197862183307, a: 0.3, c: 0.3}  samples= 100\n",
      "E=-1.89000000  angles= {b: 5.433915420782829, a: 0.3, c: 0.3}  samples= 100\n",
      "E=-1.77000000  angles= {b: 5.434056641483068, a: 0.3, c: 0.3}  samples= 100\n",
      "E=-1.78000000  angles= {b: 5.434127251833187, a: 0.3, c: 0.3}  samples= 100\n",
      "E=-1.77000000  angles= {b: 5.434162557008247, a: 0.3, c: 0.3}  samples= 100\n",
      "E=-1.75000000  angles= {b: 5.434180209595778, a: 0.3, c: 0.3}  samples= 100\n",
      "E=-1.75000000  angles= {b: 5.434189035889542, a: 0.3, c: 0.3}  samples= 100\n",
      "E=-1.76000000  angles= {b: 5.4341934490364245, a: 0.3, c: 0.3}  samples= 100\n",
      "E=-1.68000000  angles= {b: 5.434195655609866, a: 0.3, c: 0.3}  samples= 100\n",
      "Warning: Desired error not necessarily achieved due to precision loss.\n",
      "         Current function value: -1.880000\n",
      "         Iterations: 3\n",
      "         Function evaluations: 22\n",
      "         Gradient evaluations: 11\n"
     ]
    },
    {
     "data": {
      "image/png": "[encoded data removed]",
      "text/plain": [
       "<Figure size 432x288 with 1 Axes>"
      ]
     },
     "metadata": {
      "needs_background": "light"
     },
     "output_type": "display_data"
    },
    {
     "name": "stdout",
     "output_type": "stream",
     "text": [
      "result =  -1.88\n"
     ]
    }
   ],
   "source": [
    "O = tq.Objective.ExpectationValue(U=U, H=H)\n",
    "initial_values[\"a\"] = 0.3\n",
    "initial_values[\"c\"] = 0.3\n",
    "initial_values[\"b\"] = 0.3\n",
    "result = tq.minimize(objective=O, variables=[\"b\"], initial_values = initial_values, tol=1.e-3, samples=100, method=\"bfgs\")\n",
    "result.history.plot('energies')\n",
    "print(\"result = \", result.energy)"
   ]
  },
  {
   "cell_type": "markdown",
   "metadata": {},
   "source": [
    "## 3: Which Simulator was used and how can I choose the simulator?\n",
    "\n",
    "You can pass down the simulator to the optimizer by the simulator keyword (see below)\n",
    "If no specific simulator was chosen by you that means the simulator is automatically picked. Which simulator is picked depends on what simulators you have installed and if you demanded a full wavefunction to be simulated or not.\n",
    "\n",
    "You can check which simulators you have installed with the following"
   ]
  },
  {
   "cell_type": "code",
   "execution_count": 15,
   "metadata": {},
   "outputs": [
    {
     "name": "stdout",
     "output_type": "stream",
     "text": [
      "backend         | wfn        | sampling   | noise      | installed \n",
      "--------------------------------------------------------------------\n",
      "qulacs_gpu      | False      | False      | False      | False     \n",
      "qulacs          | True       | True       | True       | True      \n",
      "qiskit          | True       | True       | True       | True      \n",
      "cirq            | True       | True       | True       | True      \n",
      "pyquil          | True       | True       | True       | True      \n",
      "symbolic        | True       | False      | False      | True      \n",
      "None\n"
     ]
    }
   ],
   "source": [
    "print(tq.show_available_simulators())"
   ]
  },
  {
   "cell_type": "markdown",
   "metadata": {},
   "source": [
    "Here is how you would initialize a simulator and pass it down the optimizer.\n",
    "The if statement is just to prevent your Ipython kernel from crashing when you have not installed the simulator\n",
    "Feel free to change it to something you have installed"
   ]
  },
  {
   "cell_type": "code",
   "execution_count": 16,
   "metadata": {},
   "outputs": [
    {
     "name": "stdout",
     "output_type": "stream",
     "text": [
      "Optimizer: <class 'tequila.optimizers.optimizer_scipy.OptimizerSciPy'> \n",
      "backend         : qiskit\n",
      "samples         : None\n",
      "save_history    : True\n",
      "noise           : None\n",
      "\n",
      "Method          : BFGS\n",
      "Objective       : 1 expectationvalues\n",
      "gradient        : 12 expectationvalues\n",
      "\n",
      "active variables : 3\n",
      "\n",
      "E=-0.66770238  angles= {c: 0.3, b: 0.3, a: 0.3}  samples= None\n",
      "E=-0.86641482  angles= {c: 0.3886562339058441, b: 1.3058406768884259, a: 0.32290425519998417}  samples= None\n",
      "E=-0.35434409  angles= {c: 0.7432811695292205, b: 5.3292033844421285, a: 0.41452127599992095}  samples= None\n",
      "E=-0.80480921  angles= {c: 0.47595029847112946, b: 2.296226994041704, a: 0.3454565952234802}  samples= None\n",
      "E=-1.08258143  angles= {c: 0.47268466185431224, b: 2.3162437658743937, a: 0.35552766835949223}  samples= None\n",
      "E=-1.92438448  angles= {c: 0.4596221153870433, b: 2.3963108532051542, a: 0.3958119609035403}  samples= None\n",
      "E=+0.06258418  angles= {c: 0.23628931675683376, b: 2.435466046140644, a: 0.8541594702738473}  samples= None\n",
      "E=-2.05964335  angles= {c: 0.43712268230837514, b: 2.4002555028425463, a: 0.4419877092804135}  samples= None\n",
      "E=-1.81747664  angles= {c: 0.6644324551354133, b: 2.3892573354303033, a: 0.6249457025219208}  samples= None\n",
      "E=-2.09707552  angles= {c: 0.49003670664980314, b: 2.3976953080435073, a: 0.4845773594632339}  samples= None\n",
      "E=-2.10044517  angles= {c: 0.49588707381117264, b: 2.4259504792551745, a: 0.4955475090206597}  samples= None\n",
      "E=-2.11689104  angles= {c: 0.4930970242911542, b: 2.412475542605438, a: 0.4903158270316507}  samples= None\n",
      "E=-2.11802490  angles= {c: 0.4998681193423694, b: 2.4117682844809107, a: 0.5004530354135699}  samples= None\n",
      "E=-2.11803399  angles= {c: 0.5000016128327004, b: 2.4118918603304667, a: 0.49999423038233504}  samples= None\n",
      "Optimization terminated successfully.\n",
      "         Current function value: -2.118034\n",
      "         Iterations: 7\n",
      "         Function evaluations: 14\n",
      "         Gradient evaluations: 14\n"
     ]
    },
    {
     "data": {
      "image/png": "[encoded data removed]",
      "text/plain": [
       "<Figure size 432x288 with 1 Axes>"
      ]
     },
     "metadata": {
      "needs_background": "light"
     },
     "output_type": "display_data"
    }
   ],
   "source": [
    "if 'qiskit' in tq.INSTALLED_BACKENDS: # failsafe to only execute cell when qiskit is actually there\n",
    "    O = tq.Objective.ExpectationValue(U=U, H=H)\n",
    "    result = tq.minimize(objective=O, method=\"bfgs\",\n",
    "                                       initial_values=initial_values,\n",
    "                                       backend=\"qiskit\")\n",
    "    result.history.plot()"
   ]
  },
  {
   "cell_type": "code",
   "execution_count": 17,
   "metadata": {},
   "outputs": [
    {
     "data": {
      "image/png": "[encoded data removed]",
      "text/plain": [
       "<Figure size 432x288 with 1 Axes>"
      ]
     },
     "metadata": {
      "needs_background": "light"
     },
     "output_type": "display_data"
    }
   ],
   "source": [
    "result.history.plot('angles')"
   ]
  },
  {
   "cell_type": "markdown",
   "metadata": {},
   "source": [
    "## 4: Can I use numerical evaluation of gradients\n",
    "\n",
    "Yes you can, by passing down `use_gradient = False` or `use_gradient = \"2-point\"`.  \n",
    "`use_gradient = '3-point' or 'cs' ` are also possible for scipy methods which support them.  \n",
    "Check out the documentation of scipy.optimize.minimize for that.\n",
    "\n",
    "You can also pass down further options (again, check scipy documentation) for different methods.  \n",
    "An important additional option is `finite_diff_rel_step` which defines the stepsizes for the finite differences method.\n",
    "\n",
    "\n",
    "Note that the api changes with `scipy` version 1.5, where relative steps are the default.  \n",
    "If your scipy version is lower than 1.5 you need to set `eps` instead of `finite_diff_rel_step`  \n",
    "You can also set both to be save ...\n",
    "\n",
    "`tequila` also has its own numerical gradients, you can choose them for example with  \n",
    "`gradient = {\"method\":\"2-point\", \"stepsize\": 1.e-4}`"
   ]
  },
  {
   "cell_type": "code",
   "execution_count": 18,
   "metadata": {},
   "outputs": [
    {
     "name": "stdout",
     "output_type": "stream",
     "text": [
      "Optimizer: <class 'tequila.optimizers.optimizer_scipy.OptimizerSciPy'> \n",
      "backend         : qulacs\n",
      "samples         : None\n",
      "save_history    : True\n",
      "noise           : None\n",
      "\n",
      "Method          : BFGS\n",
      "Objective       : 1 expectationvalues\n",
      "grad instr      : 2-point\n",
      "gradient        : scipy numerical 2-point\n",
      "hessian         : scipy numerical None\n",
      "\n",
      "active variables : 3\n",
      "\n",
      "E=-0.66770238  angles= {c: 0.3, b: 0.3, a: 0.3}  samples= None\n",
      "E=-0.66770238  angles= {c: 0.3, b: 0.3, a: 0.3}  samples= None\n",
      "E=-0.66770238  angles= {c: 0.3000000149011612, b: 0.3, a: 0.3}  samples= None\n",
      "E=-0.66770238  angles= {c: 0.3, b: 0.3000000149011612, a: 0.3}  samples= None\n",
      "E=-0.66770238  angles= {c: 0.3, b: 0.3, a: 0.3000000149011612}  samples= None\n",
      "Optimization terminated successfully.\n",
      "         Current function value: -0.667702\n",
      "         Iterations: 0\n",
      "         Function evaluations: 5\n",
      "         Gradient evaluations: 1\n"
     ]
    }
   ],
   "source": [
    "result = tq.minimize(objective=O, \n",
    "                     method=\"bfgs\",\n",
    "                     initial_values=initial_values,\n",
    "                     gradient='2-point',\n",
    "                     method_options = {'finite_diff_rel_step':1.e-3})"
   ]
  },
  {
   "cell_type": "markdown",
   "metadata": {},
   "source": [
    "## 5: Can I use Hessian based optimizations, and can I evaluate Hessians numerically?\n",
    "\n",
    "Yes you can, by just picking those methods (like for example 'dogleg' or 'newton-cg').\n",
    "For all 'trust-\\*' methods you can also pick different options (see again scipy documentation)\n",
    "\n",
    "Numerical evaluation for hessians works in the same way as for gradients by passing down `use_hessian` instead of `use_gradient`.  \n",
    "Be aware that not all combinations of `use_gradient` and `use_hessian` will work (usually you need to have the gradients analytically) and that most scipy methods do not support numerical evaluation of Hessians.\n",
    "Also do not confuse that with methods which use an approximation of the Hessian.\n",
    "Again: Check the scipy documentation for more information\n",
    "\n",
    "Here comes a small example where (note that the methods above will not converge to the minimum for this initial_values)"
   ]
  },
  {
   "cell_type": "code",
   "execution_count": 19,
   "metadata": {},
   "outputs": [
    {
     "data": {
      "text/plain": [
       "['TRUST-KRYLOV',\n",
       " 'NEWTON-CG',\n",
       " 'DOGLEG',\n",
       " 'TRUST-NCG',\n",
       " 'TRUST-EXACT',\n",
       " 'TRUST-CONSTR']"
      ]
     },
     "execution_count": 19,
     "metadata": {},
     "output_type": "execute_result"
    }
   ],
   "source": [
    "tq.optimizer_scipy.OptimizerSciPy.hessian_based_methods"
   ]
  },
  {
   "cell_type": "code",
   "execution_count": 20,
   "metadata": {},
   "outputs": [
    {
     "name": "stdout",
     "output_type": "stream",
     "text": [
      "Optimizer: <class 'tequila.optimizers.optimizer_scipy.OptimizerSciPy'> \n",
      "backend         : qulacs\n",
      "samples         : None\n",
      "save_history    : True\n",
      "noise           : None\n",
      "\n",
      "Method          : TRUST-EXACT\n",
      "Objective       : 1 expectationvalues\n",
      "gradient        : 12 expectationvalues\n",
      "hessian         : 180 expectationvalues\n",
      "\n",
      "active variables : 3\n",
      "\n",
      "E=-0.00000007  angles= {c: 0.25, b: 0.25, a: 0.25}  samples= None\n",
      "E=+0.05129849  angles= {c: 0.5055104775766944, b: 1.0753385471563042, a: 0.7535182999916196}  samples= None\n",
      "E=-1.54498606  angles= {c: 0.27731303752572806, b: 0.490225804920117, a: 0.32165051548766865}  samples= None\n",
      "E=-1.92693919  angles= {c: 0.4304152219529205, b: 0.37410841961410807, a: 0.48157697969330854}  samples= None\n",
      "E=-2.11480148  angles= {c: 0.488930087935853, b: 0.41474457436409573, a: 0.48518960558553104}  samples= None\n",
      "E=-2.11802893  angles= {c: 0.500585920937999, b: 0.4117583404951248, a: 0.5004980688483419}  samples= None\n",
      "E=-2.11803399  angles= {c: 0.5000008575626693, b: 0.4118957006665831, a: 0.5000007543584899}  samples= None\n",
      "Optimization terminated successfully.\n",
      "         Current function value: -2.118034\n",
      "         Iterations: 6\n",
      "         Function evaluations: 7\n",
      "         Gradient evaluations: 6\n",
      "         Hessian evaluations: 7\n"
     ]
    }
   ],
   "source": [
    "options = {\n",
    "    \"initial_tr_radius\":0.05,\n",
    "    \"max_tr_radius\":0.1\n",
    "}\n",
    "\n",
    "result = tq.optimizer_scipy.minimize(objective=O,\n",
    "                                    initial_values={\"a\":0.25, \"b\":0.25, \"c\":0.25},\n",
    "                                    method = \"trust-exact\",\n",
    "                                    method_options = options)\n"
   ]
  },
  {
   "cell_type": "markdown",
   "metadata": {},
   "source": [
    "# Exercises\n",
    "\n",
    "See farther down for solutions"
   ]
  },
  {
   "cell_type": "markdown",
   "metadata": {},
   "source": [
    "## Exercise 1\n",
    "\n",
    "You can pass down initial_values to the optimizer in the same format as you can do it with the circuit (see above).\n",
    "Figure out how to do that by checking out the documentation of the 'minimize' function."
   ]
  },
  {
   "cell_type": "markdown",
   "metadata": {},
   "source": [
    "## Exercise 2\n",
    "Figure out which method the optimizer above used and how to use a different optimization method."
   ]
  },
  {
   "cell_type": "code",
   "execution_count": 21,
   "metadata": {},
   "outputs": [
    {
     "name": "stdout",
     "output_type": "stream",
     "text": [
      "available methods for optimizer modules found on your system:\n",
      "method               | optimizer module\n",
      "--------------------------\n",
      "NELDER-MEAD          | scipy\n",
      "COBYLA               | scipy\n",
      "POWELL               | scipy\n",
      "SLSQP                | scipy\n",
      "L-BFGS-B             | scipy\n",
      "BFGS                 | scipy\n",
      "CG                   | scipy\n",
      "TNC                  | scipy\n",
      "TRUST-KRYLOV         | scipy\n",
      "NEWTON-CG            | scipy\n",
      "DOGLEG               | scipy\n",
      "TRUST-NCG            | scipy\n",
      "TRUST-EXACT          | scipy\n",
      "TRUST-CONSTR         | scipy\n",
      "adam                 | gd\n",
      "adagrad              | gd\n",
      "adamax               | gd\n",
      "nadam                | gd\n",
      "sgd                  | gd\n",
      "momentum             | gd\n",
      "nesterov             | gd\n",
      "rmsprop              | gd\n",
      "rmsprop-nesterov     | gd\n",
      "lbfgs                | gpyopt\n",
      "direct               | gpyopt\n",
      "cma                  | gpyopt\n",
      "phoenics             | phoenics\n",
      "Supported optimizer modules:  ['scipy', 'phoenics', 'gpyopt', 'gd']\n",
      "Installed optimizer modules:  ['scipy', 'gd', 'gpyopt', 'phoenics']\n"
     ]
    }
   ],
   "source": [
    "# hints\n",
    "tq.show_available_optimizers()"
   ]
  },
  {
   "cell_type": "markdown",
   "metadata": {},
   "source": [
    "## Exercise 3\n",
    "If you initialize both parameters to 0.0 you will directly hit a stationary point which causes the optimizer stop.\n",
    "Find out how you can impose bounds on the variables in order to prevent the optimizer from hitting that point.\n",
    "\n",
    "Again: Check the documentation of the 'minimize' function.\n",
    "\n",
    "Note: Not all optimization methods of SciPy support bounds on the variables\n",
    "\n",
    "Note: It is not enough to just restrict the point 0.0"
   ]
  },
  {
   "cell_type": "markdown",
   "metadata": {},
   "source": [
    "# Solutions"
   ]
  },
  {
   "cell_type": "markdown",
   "metadata": {},
   "source": [
    "## Exercise 1 & 2"
   ]
  },
  {
   "cell_type": "code",
   "execution_count": 22,
   "metadata": {
    "scrolled": true
   },
   "outputs": [
    {
     "name": "stdout",
     "output_type": "stream",
     "text": [
      "WARNING: initial_variables given but not complete: Autocomplete with random number\n",
      "Optimizer: <class 'tequila.optimizers.optimizer_scipy.OptimizerSciPy'> \n",
      "backend         : qulacs\n",
      "samples         : None\n",
      "save_history    : True\n",
      "noise           : None\n",
      "\n",
      "Method          : NELDER-MEAD\n",
      "Objective       : 1 expectationvalues\n",
      "\n",
      "active variables : 3\n",
      "\n",
      "E=-0.54312824  angles= {c: 4.693890684113736, b: 0.1, a: 0.1}  samples= None\n",
      "E=-1.31140703  angles= {c: 4.928585218319423, b: 0.1, a: 0.1}  samples= None\n",
      "E=-0.52816934  angles= {c: 4.693890684113736, b: 0.10500000000000001, a: 0.1}  samples= None\n",
      "E=-0.55648729  angles= {c: 4.693890684113736, b: 0.1, a: 0.10500000000000001}  samples= None\n",
      "E=-1.24678344  angles= {c: 4.850353706917527, b: 0.09500000000000003, a: 0.10333333333333336}  samples= None\n",
      "E=-1.26445645  angles= {c: 4.954662388786721, b: 0.09666666666666668, a: 0.10555555555555557}  samples= None\n",
      "E=-0.58150641  angles= {c: 5.128510191902045, b: 0.0944444444444445, a: 0.10092592592592595}  samples= None\n",
      "E=-1.10993218  angles= {c: 5.019855314954968, b: 0.09583333333333337, a: 0.10194444444444446}  samples= None\n",
      "E=-1.09346849  angles= {c: 4.802545561060813, b: 0.09861111111111114, a: 0.1039814814814815}  samples= None\n",
      "E=-1.26090330  angles= {c: 4.9655278764814295, b: 0.09652777777777781, a: 0.10245370370370371}  samples= None\n",
      "E=-0.98921820  angles= {c: 5.048829948807521, b: 0.10046296296296295, a: 0.10200617283950614}  samples= None\n",
      "E=-1.30942520  angles= {c: 4.899972767390025, b: 0.09636574074074075, a: 0.10300154320987656}  samples= None\n",
      "E=-1.29665134  angles= {c: 4.889952373182684, b: 0.09882716049382716, a: 0.10325102880658438}  samples= None\n",
      "E=-1.25520734  angles= {c: 4.857677850474701, b: 0.10012860082304528, a: 0.09861282578875172}  samples= None\n",
      "E=-1.29961440  angles= {c: 4.9304162542087155, b: 0.09753215020576134, a: 0.1038198731138546}  samples= None\n",
      "E=-1.29213504  angles= {c: 4.949363786762758, b: 0.0971047668038409, a: 0.10129658207590306}  samples= None\n",
      "E=-1.30725606  angles= {c: 4.904805226577702, b: 0.0983965620713306, a: 0.10276241712391404}  samples= None\n",
      "E=-1.30661448  angles= {c: 4.891825887316051, b: 0.09897605166895293, a: 0.10002276710867247}  samples= None\n",
      "E=-1.31113864  angles= {c: 4.9014734790392165, b: 0.09861507630315502, a: 0.100972043609968}  samples= None\n",
      "E=-1.31856665  angles= {c: 4.915215749921408, b: 0.09825731595793324, a: 0.09988664075598233}  samples= None\n",
      "E=-1.32328459  angles= {c: 4.9204210115932625, b: 0.09818769290123458, a: 0.09844875257201646}  samples= None\n",
      "E=-1.31942847  angles= {c: 4.933680371911242, b: 0.10150277206218566, a: 0.09661232091144642}  samples= None\n",
      "E=-1.30569827  angles= {c: 4.953650922176735, b: 0.10117856700579178, a: 0.09573533871234058}  samples= None\n",
      "E=-1.31728207  angles= {c: 4.914517839823596, b: 0.0992559489788142, a: 0.09966286738556115}  samples= None\n",
      "E=-1.32804887  angles= {c: 4.917160930565977, b: 0.09929760929482295, a: 0.09648262724601603}  samples= None\n",
      "E=-1.33327803  angles= {c: 4.911448786689254, b: 0.09894641394223441, a: 0.09472394086902403}  samples= None\n",
      "E=-1.33579472  angles= {c: 4.92918227363891, b: 0.09983530362495557, a: 0.09352714218276348}  samples= None\n",
      "E=-1.34362960  angles= {c: 4.936514490546568, b: 0.10012498094802624, a: 0.09045927958136463}  samples= None\n",
      "E=-1.34437583  angles= {c: 4.911909153974815, b: 0.09666995313214449, a: 0.09247566110349031}  samples= None\n",
      "E=-1.34797755  angles= {c: 4.901023545006602, b: 0.0942535436671239, a: 0.09040733119951228}  samples= None\n",
      "E=-1.36236750  angles= {c: 4.912236869901687, b: 0.09736226613702179, a: 0.08527828186125083}  samples= None\n",
      "E=-1.37420444  angles= {c: 4.908144799055899, b: 0.0969495527549154, a: 0.078693046505868}  samples= None\n",
      "E=-1.38576573  angles= {c: 4.919006436383459, b: 0.09527230430447595, a: 0.07831583065547257}  samples= None\n",
      "E=-1.40703238  angles= {c: 4.922785261230562, b: 0.09343524948559673, a: 0.07011177554869685}  samples= None\n",
      "E=-1.36021733  angles= {c: 4.884787912982141, b: 0.0896339163237311, a: 0.06901548925468678}  samples= None\n",
      "E=-1.40931625  angles= {c: 4.909455103839132, b: 0.09242560204237157, a: 0.05480620967332214}  samples= None\n",
      "E=-1.41697534  angles= {c: 4.9136708832553975, b: 0.0915116312299954, a: 0.03700564891022706}  samples= None\n",
      "E=-1.44120311  angles= {c: 4.944946049379098, b: 0.09829703932327391, a: 0.054858158055174494}  samples= None\n",
      "E=-1.45090848  angles= {c: 4.975025117577577, b: 0.10262860082304531, a: 0.04777949245541835}  samples= None\n",
      "E=-1.48533485  angles= {c: 4.966176042319791, b: 0.09476743493750955, a: 0.02457156477036017}  samples= None\n",
      "E=-1.49895320  angles= {c: 4.995191663951736, b: 0.09367637602880663, a: -0.0024891760973937416}  samples= None\n",
      "E=-1.49238149  angles= {c: 4.999806515292578, b: 0.09844248923563484, a: -0.015247798703195738}  samples= None\n",
      "E=-1.43941279  angles= {c: 5.0663446479591965, b: 0.10498667949499582, a: -0.016977303807007817}  samples= None\n",
      "E=-1.48707058  angles= {c: 5.028176206783247, b: 0.10161791742874571, a: -0.0034815656276990965}  samples= None\n",
      "E=-1.42916646  angles= {c: 5.040424473107464, b: 0.09319592097241278, a: -0.0619251860742774}  samples= None\n",
      "E=-1.49065512  angles= {c: 4.9913749564600485, b: 0.10027043086038717, a: 0.020353322822994412}  samples= None\n",
      "E=-1.47820851  angles= {c: 4.962739217019662, b: 0.09330827998780675, a: 0.005225797642635719}  samples= None\n",
      "E=-1.49768262  angles= {c: 5.011816959342351, b: 0.09954050806851097, a: -0.0013047248101153927}  samples= None\n",
      "E=-1.47602737  angles= {c: 5.013168469264396, b: 0.09416915136158113, a: -0.03304778923013099}  samples= None\n",
      "E=-1.49892595  angles= {c: 4.996823334661135, b: 0.09874511098568567, a: 0.00700304480971306}  samples= None\n",
      "E=-1.48859098  angles= {c: 5.002748123344237, b: 0.09619884081970065, a: 0.017387227971331687}  samples= None\n",
      "E=-1.49849372  angles= {c: 5.000541917305492, b: 0.0978815771316513, a: -0.0070890420345638815}  samples= None\n",
      "E=-1.49421639  angles= {c: 4.983220984603225, b: 0.0939948680289181, a: -0.00041205740471431584}  samples= None\n",
      "E=-1.49969467  angles= {c: 5.004667965657569, b: 0.09815409805861275, a: -0.0010815579587651234}  samples= None\n",
      "E=-1.49786649  angles= {c: 4.997246725541469, b: 0.09583547958375208, a: 0.009377249203600013}  samples= None\n",
      "E=-1.49968620  angles= {c: 4.999718119364486, b: 0.0973700527446765, a: -0.002972469225022908}  samples= None\n",
      "E=-1.49678950  angles= {c: 5.002895164654726, b: 0.09405524023571157, a: -0.01136518033050091}  samples= None\n",
      "E=-1.49988709  angles= {c: 4.998341292159533, b: 0.09757264329819215, a: 0.0024109885246595677}  samples= None\n",
      "E=-1.49877724  angles= {c: 5.006626587502655, b: 0.10172148670551429, a: 0.0013938169913080992}  samples= None\n",
      "E=-1.49975459  angles= {c: 4.998050394839466, b: 0.09568765369798354, a: -0.0015184278252182814}  samples= None\n",
      "E=-1.49962846  angles= {c: 5.000988315739892, b: 0.09690621062518245, a: 0.00284647105214035}  samples= None\n",
      "E=-1.49992742  angles= {c: 5.000035668458338, b: 0.097254092214803, a: -0.0015177341557320936}  samples= None\n",
      "E=-1.49915768  angles= {c: 4.99295027131399, b: 0.09552216141537306, a: 0.0006647756545712518}  samples= None\n",
      "E=-1.49996312  angles= {c: 5.001738542071674, b: 0.09749611389780283, a: -0.0006449745554310296}  samples= None\n",
      "E=-1.49971748  angles= {c: 5.002026606953565, b: 0.09919424590921513, a: 0.0016839477008825778}  samples= None\n",
      "E=-1.49994315  angles= {c: 4.999044447867991, b: 0.09656430175079145, a: -0.0007178339436930667}  samples= None\n",
      "E=-1.49960957  angles= {c: 5.002204480105802, b: 0.09663702861073939, a: -0.004331350294563694}  samples= None\n",
      "E=-1.49998979  angles= {c: 4.9993070891461, b: 0.09733873962632897, a: 0.0007254038198537523}  samples= None\n",
      "E=-1.49996062  angles= {c: 5.000024384265506, b: 0.09701201130181247, a: 0.0010927977028851977}  samples= None\n",
      "E=-1.49979156  angles= {c: 5.00166889578753, b: 0.09800027479983806, a: 0.00149998525523168}  samples= None\n",
      "E=-1.49999579  angles= {c: 4.999700559847875, b: 0.0969232950130531, a: -0.00016337914396187997}  samples= None\n",
      "E=-1.49997057  angles= {c: 5.000473076444926, b: 0.09749342105631079, a: -0.0011480976225779693}  samples= None\n",
      "E=-1.49992929  angles= {c: 4.997915274887594, b: 0.09700752323265907, a: 0.0002542592576402983}  samples= None\n",
      "E=-1.49999284  angles= {c: 5.000782725275654, b: 0.0973739662315169, a: -0.00042016610216319764}  samples= None\n",
      "E=-1.49996747  angles= {c: 4.999387173068159, b: 0.09693057952428852, a: 0.0012426700050637523}  samples= None\n",
      "E=-1.49999301  angles= {c: 5.000201600600734, b: 0.09735271067330523, a: -0.0005504057156675388}  samples= None\n"
     ]
    },
    {
     "name": "stdout",
     "output_type": "stream",
     "text": [
      "E=-1.49995825  angles= {c: 5.001149501336743, b: 0.09709457498558785, a: -0.0014813711277154966}  samples= None\n",
      "E=-1.49999927  angles= {c: 4.99976769219376, b: 0.09727769846614369, a: 0.0001737100829614401}  samples= None\n",
      "E=-1.49998199  angles= {c: 4.998997176485926, b: 0.09699516987015114, a: 6.011625105121181e-05}  samples= None\n",
      "E=-1.49999812  angles= {c: 5.000336338078222, b: 0.09727926714117546, a: -0.0003000955138595953}  samples= None\n",
      "Optimization terminated successfully.\n",
      "         Current function value: -1.499999\n",
      "         Iterations: 43\n",
      "         Function evaluations: 80\n"
     ]
    }
   ],
   "source": [
    "O = tq.Objective.ExpectationValue(U=U, H=H)\n",
    "result = tq.minimize(objective=O, method='Nelder-Mead', maxiter=100, initial_values={'a':0.1, 'b':0.1})"
   ]
  },
  {
   "cell_type": "code",
   "execution_count": 23,
   "metadata": {},
   "outputs": [
    {
     "data": {
      "image/png": "[encoded data removed]",
      "text/plain": [
       "<Figure size 432x288 with 1 Axes>"
      ]
     },
     "metadata": {
      "needs_background": "light"
     },
     "output_type": "display_data"
    },
    {
     "data": {
      "image/png": "[encoded data removed]",
      "text/plain": [
       "<Figure size 432x288 with 1 Axes>"
      ]
     },
     "metadata": {
      "needs_background": "light"
     },
     "output_type": "display_data"
    }
   ],
   "source": [
    "result.history.plot('energies')\n",
    "result.history.plot('angles')"
   ]
  },
  {
   "cell_type": "markdown",
   "metadata": {},
   "source": [
    "## Exercise 3"
   ]
  },
  {
   "cell_type": "code",
   "execution_count": 24,
   "metadata": {},
   "outputs": [
    {
     "name": "stdout",
     "output_type": "stream",
     "text": [
      "WARNING: initial_variables given but not complete: Autocomplete with random number\n",
      "Optimizer: <class 'tequila.optimizers.optimizer_scipy.OptimizerSciPy'> \n",
      "backend         : qulacs\n",
      "samples         : None\n",
      "save_history    : True\n",
      "noise           : None\n",
      "\n",
      "Method          : TNC\n",
      "Objective       : 1 expectationvalues\n",
      "gradient        : 12 expectationvalues\n",
      "\n",
      "active variables : 3\n",
      "\n",
      "E=+0.26911794  angles= {c: 1.389652046608519, b: 0.0, a: 0.0}  samples= None\n",
      "E=+0.26911587  angles= {c: 1.3896517049101476, b: 0.0, a: -5.983750384075393e-08}  samples= None\n",
      "E=-0.46471594  angles= {c: 1.2755908921195855, b: 0.0, a: -0.019974150721000516}  samples= None\n",
      "E=+0.35933056  angles= {c: 0.705285119674918, b: 0.0, a: -0.11984490432600309}  samples= None\n",
      "E=-1.37790147  angles= {c: 0.9904380058972517, b: 0.0, a: -0.06990952752350181}  samples= None\n",
      "E=-1.35075472  angles= {c: 1.1330144490084186, b: 0.0, a: -0.04494183912225116}  samples= None\n",
      "E=-1.49963494  angles= {c: 1.0617262274528352, b: 0.0, a: -0.05742568332287648}  samples= None\n",
      "E=-1.49963495  angles= {c: 1.0617262265576985, b: -7.231242886381976e-09, a: -0.0574256834796274}  samples= None\n",
      "E=-1.50799397  angles= {c: 1.0530462868227384, b: -0.07011975152366795, a: -0.05894566203073506}  samples= None\n",
      "E=-1.50945354  angles= {c: 1.0573862571377868, b: -0.035059875761833975, a: -0.05818567267680577}  samples= None\n",
      "E=-1.51018310  angles= {c: 1.0552162719802627, b: -0.05258981364275096, a: -0.05856566735377042}  samples= None\n",
      "E=-1.51018310  angles= {c: 1.0552162722606473, b: -0.05258981381986245, a: -0.0585656677477125}  samples= None\n",
      "E=-1.51765363  angles= {c: 1.0714292693117007, b: -0.06283113542816578, a: -0.08134503476210718}  samples= None\n",
      "E=-1.46003907  angles= {c: 1.15249425596889, b: -0.11403774435523985, a: -0.195241871803791}  samples= None\n",
      "E=-1.52152903  angles= {c: 1.1119617626402953, b: -0.08843443989170281, a: -0.1382934532829491}  samples= None\n",
      "E=-1.52422199  angles= {c: 1.091695515975998, b: -0.0756327876599343, a: -0.10981924402252813}  samples= None\n",
      "E=-1.52448862  angles= {c: 1.1018286393081467, b: -0.08203361377581855, a: -0.12405634865273861}  samples= None\n",
      "E=-1.52470036  angles= {c: 1.0967620776420723, b: -0.07883320071787642, a: -0.11693779633763338}  samples= None\n",
      "E=-1.31310729  angles= {c: 3.260120158594173, b: 0.8541320779076118, a: -0.2881924311948111}  samples= None\n",
      "E=-0.17254853  angles= {c: 2.1784411181181227, b: 0.3876494385948677, a: -0.20256511376622224}  samples= None\n",
      "E=+0.58458534  angles= {c: 1.6376015978800975, b: 0.15440811893849565, a: -0.1597514550519278}  samples= None\n",
      "E=-0.52582974  angles= {c: 1.367181837761085, b: 0.03778745911030962, a: -0.1383446256947806}  samples= None\n",
      "E=-1.32313650  angles= {c: 1.2319719577015786, b: -0.0205228708037834, a: -0.12764121101620698}  samples= None\n",
      "E=-1.50528031  angles= {c: 1.1643670176718255, b: -0.04967803576082991, a: -0.12228950367692018}  samples= None\n",
      "E=-1.53401357  angles= {c: 1.1305645476569488, b: -0.06425561823935316, a: -0.11961365000727678}  samples= None\n",
      "E=-1.53384730  angles= {c: 1.1136633126495106, b: -0.07154440947861479, a: -0.11827572317245508}  samples= None\n",
      "E=-1.53508975  angles= {c: 1.1221139301532297, b: -0.06790001385898398, a: -0.11894468658986593}  samples= None\n",
      "E=-1.53508977  angles= {c: 1.1221139378952198, b: -0.06790001155154374, a: -0.11894469366136597}  samples= None\n",
      "E=-0.59713206  angles= {c: 1.563576604990126, b: 0.0636745178072399, a: -0.5221747647973274}  samples= None\n",
      "E=-1.50898710  angles= {c: 1.342845267571678, b: -0.0021127480258720382, a: -0.3205597256935967}  samples= None\n",
      "E=-1.62668585  angles= {c: 1.2324795988624537, b: -0.03500638094242801, a: -0.2197522061417313}  samples= None\n",
      "E=-1.60993813  angles= {c: 1.2876624332170659, b: -0.018559564484150026, a: -0.270155965917664}  samples= None\n",
      "E=-1.62770909  angles= {c: 1.26007101603976, b: -0.026782972713289013, a: -0.24495408602969765}  samples= None\n",
      "E=-1.62930215  angles= {c: 1.2462753074511068, b: -0.030894676827858514, a: -0.23235314608571447}  samples= None\n",
      "E=-1.62930215  angles= {c: 1.2462753750168445, b: -0.030894670986630016, a: -0.23235320668803486}  samples= None\n",
      "E=-1.66053548  angles= {c: 1.3834712223368615, b: -0.01903374384885874, a: -0.3554094622273397}  samples= None\n",
      "E=-1.66124550  angles= {c: 1.314873264893984, b: -0.024964210338358626, a: -0.2938813041565271}  samples= None\n",
      "E=-1.66561211  angles= {c: 1.3491722436154228, b: -0.021998977093608686, a: -0.32464538319193337}  samples= None\n",
      "E=-1.66561218  angles= {c: 1.3491722495487644, b: -0.021998977536348337, a: -0.3246453884778484}  samples= None\n",
      "E=-1.67918686  angles= {c: 1.3614477703017849, b: -0.02291496386468504, a: -0.33558144512357213}  samples= None\n",
      "E=-1.74854792  angles= {c: 1.4228254037335955, b: -0.027494897720066795, a: -0.390261754781766}  samples= None\n",
      "E=-0.88756312  angles= {c: 2.9572662395288596, b: -0.14199324410461076, a: -1.7572694962366124}  samples= None\n",
      "E=-1.21976386  angles= {c: 2.1900458216312275, b: -0.08474407091233876, a: -1.0737656255091892}  samples= None\n",
      "E=-1.62961178  angles= {c: 1.8064356126824115, b: -0.05611948431620278, a: -0.7320136901454777}  samples= None\n",
      "E=-1.85384825  angles= {c: 1.6146305082080035, b: -0.04180719101813479, a: -0.5611377224636218}  samples= None\n",
      "E=-1.83706598  angles= {c: 1.5187279559707996, b: -0.03465104436910079, a: -0.4756997386226939}  samples= None\n",
      "E=-1.85721179  angles= {c: 1.5666792320894014, b: -0.038229117693617795, a: -0.5184187305431578}  samples= None\n",
      "E=-1.85721183  angles= {c: 1.566679238753066, b: -0.038229122325552645, a: -0.5184187365504785}  samples= None\n",
      "E=-0.38056754  angles= {c: 1.8926913018217313, b: -0.264841171226367, a: -0.8123199481429233}  samples= None\n",
      "E=-1.27229220  angles= {c: 1.7296852669555665, b: -0.1515351444599924, a: -0.6653693393430405}  samples= None\n",
      "E=-1.92678428  angles= {c: 1.6481822495224838, b: -0.0948821310768051, a: -0.5918940349430992}  samples= None\n",
      "E=-1.98838659  angles= {c: 1.6074307408059427, b: -0.06655562438521145, a: -0.5551563827431285}  samples= None\n",
      "E=-1.98838655  angles= {c: 1.6074307358802264, b: -0.06655562531966623, a: -0.555156378437359}  samples= None\n",
      "E=-2.00091753  angles= {c: 1.6003114466841895, b: -0.06790622153587547, a: -0.5489331174298573}  samples= None\n",
      "E=-2.05235514  angles= {c: 1.5647149760754235, b: -0.07465920728919558, a: -0.5178167908635015}  samples= None\n",
      "E=-0.07790625  angles= {c: 0.6748032108562713, b: -0.24348385112219814, a: 0.2600913732953949}  samples= None\n",
      "E=-1.30245763  angles= {c: 1.1197590934658472, b: -0.15907152920569687, a: -0.12886270878405331}  samples= None\n",
      "E=-1.69408786  angles= {c: 1.3422370347706354, b: -0.11686536824744623, a: -0.3233397498237774}  samples= None\n",
      "E=-2.02998504  angles= {c: 1.4534760054230293, b: -0.0957622877683209, a: -0.4205782703436395}  samples= None\n",
      "E=-2.08181225  angles= {c: 1.5090954907492264, b: -0.08521074752875823, a: -0.46919753060357045}  samples= None\n",
      "E=-2.08181226  angles= {c: 1.509095512271913, b: -0.08521075977806612, a: -0.4691975495134339}  samples= None\n",
      "E=-2.08386680  angles= {c: 1.5189114955794258, b: -0.09079737654924666, a: -0.4778218866002635}  samples= None\n",
      "E=-2.08373886  angles= {c: 1.514003493164326, b: -0.08800406203900245, a: -0.47350970860191693}  samples= None\n",
      "E=-2.08403142  angles= {c: 1.516457494371876, b: -0.08940071929412456, a: -0.4756657976010902}  samples= None\n",
      "E=-2.08403142  angles= {c: 1.5164574944358997, b: -0.08940071926261506, a: -0.47566579785279545}  samples= None\n",
      "E=-2.09792747  angles= {c: 1.5193471072321112, b: -0.08797858288635792, a: -0.4870261554599525}  samples= None\n",
      "E=-2.09263292  angles= {c: 1.5337951715332867, b: -0.08086790084752468, a: -0.543827944754264}  samples= None\n",
      "E=-2.11072989  angles= {c: 1.526571139382699, b: -0.0844232418669413, a: -0.5154270501071082}  samples= None\n",
      "E=-1.03923607  angles= {c: -1.4542569270985444, b: -0.6814090588225077, a: -0.6246704430514441}  samples= None\n",
      "E=+1.68682918  angles= {c: 0.03615710614207712, b: -0.3829161503447245, a: -0.5700487465792762}  samples= None\n",
      "E=+0.43378168  angles= {c: 0.7813641227623881, b: -0.2336696961058329, a: -0.5427378983431922}  samples= None\n",
      "E=-0.06180628  angles= {c: 1.1539676310725435, b: -0.1590464689863871, a: -0.5290824742251502}  samples= None\n",
      "E=-1.46433345  angles= {c: 1.3402693852276213, b: -0.1217348554266642, a: -0.5222547621661292}  samples= None\n"
     ]
    },
    {
     "name": "stdout",
     "output_type": "stream",
     "text": [
      "E=-1.96531252  angles= {c: 1.4334202623051602, b: -0.10307904864680276, a: -0.5188409061366187}  samples= None\n",
      "E=-2.08860743  angles= {c: 1.4799957008439297, b: -0.09375114525687203, a: -0.5171339781218635}  samples= None\n",
      "E=-2.11267943  angles= {c: 1.5032834201133143, b: -0.08908719356190667, a: -0.5162805141144858}  samples= None\n",
      "E=-2.11497520  angles= {c: 1.5149272797480067, b: -0.08675521771442399, a: -0.515853782110797}  samples= None\n",
      "E=-2.11497520  angles= {c: 1.5149272795399527, b: -0.0867552177822078, a: -0.5158537818706387}  samples= None\n",
      "E=-2.11743675  angles= {c: 1.5057760021462336, b: -0.08973669458425015, a: -0.5052903950819525}  samples= None\n",
      "E=+0.97592278  angles= {c: 1.211844602789343, b: 0.20245266508066684, a: -0.4246901333937201}  samples= None\n",
      "E=-0.51366208  angles= {c: 1.3588103024677882, b: 0.05635798524820834, a: -0.4649902642378363}  samples= None\n",
      "E=-1.64197055  angles= {c: 1.432293152307011, b: -0.016689354668020906, a: -0.4851403296598944}  samples= None\n",
      "E=-1.99834120  angles= {c: 1.4690345772266222, b: -0.05321302462613553, a: -0.49521536237092345}  samples= None\n",
      "E=-2.09046715  angles= {c: 1.487405289686428, b: -0.07147485960519284, a: -0.500252878726438}  samples= None\n",
      "E=-2.11232065  angles= {c: 1.4965906459163307, b: -0.0806057770947215, a: -0.5027716369041952}  samples= None\n",
      "E=-2.11698937  angles= {c: 1.5011833240312822, b: -0.08517123583948583, a: -0.5040310159930739}  samples= None\n",
      "E=-2.11774243  angles= {c: 1.503479663088758, b: -0.08745396521186799, a: -0.5046607055375132}  samples= None\n",
      "E=-2.11772211  angles= {c: 1.5046278326174958, b: -0.08859532989805907, a: -0.5049755503097328}  samples= None\n",
      "E=-2.11776538  angles= {c: 1.5040537478531268, b: -0.08802464755496353, a: -0.504818127923623}  samples= None\n",
      "E=-2.11776538  angles= {c: 1.5040537478531268, b: -0.08802464755496353, a: -0.504818127923623}  samples= None\n"
     ]
    },
    {
     "data": {
      "image/png": "[encoded data removed]",
      "text/plain": [
       "<Figure size 432x288 with 1 Axes>"
      ]
     },
     "metadata": {
      "needs_background": "light"
     },
     "output_type": "display_data"
    }
   ],
   "source": [
    "# this will get stuck (similar for other gradient based optimizers)\n",
    "zeroes = {'a':0.0, 'b':0.0}\n",
    "shift = 1.0\n",
    "O = tq.Objective.ExpectationValue(U=U, H=H)\n",
    "result = tq.minimize(objective=O, method='TNC', initial_values=zeroes)\n",
    "result.history.plot()"
   ]
  },
  {
   "cell_type": "code",
   "execution_count": 25,
   "metadata": {},
   "outputs": [
    {
     "name": "stdout",
     "output_type": "stream",
     "text": [
      "WARNING: initial_variables given but not complete: Autocomplete with random number\n",
      "Optimizer: <class 'tequila.optimizers.optimizer_scipy.OptimizerSciPy'> \n",
      "backend         : qulacs\n",
      "samples         : None\n",
      "save_history    : True\n",
      "noise           : None\n",
      "\n",
      "Method          : TNC\n",
      "Objective       : 1 expectationvalues\n",
      "bounds          : {a: (-6.183185307179587, -0.1), b: (-6.183185307179587, -0.1), c: (-6.183185307179587, -0.1)}\n",
      "gradient        : 12 expectationvalues\n",
      "\n",
      "active variables : 3\n",
      "\n",
      "E=-0.93282629  angles= {c: -0.1, b: -0.1, a: -0.1}  samples= None\n",
      "E=-0.93282632  angles= {c: -0.1, b: -0.1000000260708811, a: -0.1}  samples= None\n",
      "E=-0.93282632  angles= {c: -0.10000000000000009, b: -0.10000002095701488, a: -0.10000000000000009}  samples= None\n",
      "E=-0.85684291  angles= {c: -0.10000000000000009, b: -1.037600964376601, a: -0.10000000000000009}  samples= None\n",
      "E=-1.52410957  angles= {c: -0.10000000000000009, b: -0.5688004821883004, a: -0.10000000000000009}  samples= None\n",
      "E=-1.17486323  angles= {c: -0.10000000000000009, b: -0.33440024109415045, a: -0.10000000000000009}  samples= None\n",
      "E=-1.42102169  angles= {c: -0.10000000000000009, b: -0.4516003616412254, a: -0.10000000000000009}  samples= None\n",
      "E=-1.51110580  angles= {c: -0.10000000000000009, b: -0.5102004219147629, a: -0.10000000000000009}  samples= None\n",
      "E=-1.52912871  angles= {c: -0.10000000000000009, b: -0.5395004520515316, a: -0.10000000000000009}  samples= None\n",
      "E=-1.52912872  angles= {c: -0.10000000000000009, b: -0.5395004701273152, a: -0.10000001865469033}  samples= None\n",
      "E=-1.53564152  angles= {c: -0.10000000000000009, b: -0.5482149622484944, a: -0.1089936065588133}  samples= None\n",
      "E=-1.49819113  angles= {c: -0.10000000000000009, b: -0.5917875132333084, a: -0.1539616393528811}  samples= None\n",
      "E=-1.53431023  angles= {c: -0.10000000000000009, b: -0.5700012377409016, a: -0.1314776229558472}  samples= None\n",
      "E=-1.53853575  angles= {c: -0.10000000000000009, b: -0.559108099994698, a: -0.12023561475733002}  samples= None\n",
      "E=-1.53853576  angles= {c: -0.10000001270613357, b: -0.5591081056765477, a: -0.12023562384028263}  samples= None\n",
      "E=-1.54870527  angles= {c: -0.12322811665387023, b: -0.56949510559937, a: -0.13684018533040687}  samples= None\n",
      "E=-1.43248514  angles= {c: -0.2393686999232214, b: -0.6214301336227308, a: -0.21986303819579245}  samples= None\n",
      "E=-1.53028584  angles= {c: -0.18129840828854604, b: -0.5954626196110504, a: -0.17835161176309944}  samples= None\n",
      "E=-1.54859525  angles= {c: -0.15226326247120792, b: -0.5824788626052104, a: -0.1575958985467536}  samples= None\n",
      "E=-1.55069489  angles= {c: -0.1377456895625393, b: -0.5759869841022902, a: -0.14721804193858024}  samples= None\n",
      "E=-1.55069493  angles= {c: -0.13774574829605868, b: -0.5759869788848877, a: -0.14721808411890658}  samples= None\n",
      "E=+0.98301664  angles= {c: -2.309552330335699, b: -0.38306156661741975, a: -1.7069323793987203}  samples= None\n",
      "E=-0.20115899  angles= {c: -1.223649009949119, b: -0.479524275359855, a: -0.92707521066865}  samples= None\n",
      "E=-1.42432345  angles= {c: -0.6806973497558291, b: -0.5277556297310726, a: -0.5371466263036151}  samples= None\n",
      "E=-1.77883764  angles= {c: -0.4092215196591842, b: -0.5518713069166816, a: -0.34218233412109766}  samples= None\n",
      "E=-1.69579001  angles= {c: -0.5449594347075069, b: -0.5398134683238767, a: -0.4396644802123566}  samples= None\n",
      "E=-1.76489436  angles= {c: -0.4770904771833453, b: -0.5458423876202794, a: -0.3909234071667269}  samples= None\n",
      "E=-1.77869633  angles= {c: -0.44315599842126474, b: -0.5488568472684805, a: -0.3665528706439125}  samples= None\n",
      "E=-1.78041857  angles= {c: -0.4261887590402247, b: -0.5503640770925808, a: -0.3543676023825051}  samples= None\n",
      "E=-1.78041862  angles= {c: -0.426188806421568, b: -0.550364076939827, a: -0.35436763970955143}  samples= None\n",
      "E=-1.80505513  angles= {c: -0.5399378142090785, b: -0.5499973588958604, a: -0.443979165977074}  samples= None\n",
      "E=-1.80675593  angles= {c: -0.4830632866246516, b: -0.5501807179942206, a: -0.39917338417978954}  samples= None\n",
      "E=-1.80981300  angles= {c: -0.5115005504168653, b: -0.5500890384450408, a: -0.421576275078432}  samples= None\n",
      "E=-1.80981356  angles= {c: -0.5115008858896024, b: -0.5500891757324116, a: -0.42157654379227383}  samples= None\n",
      "E=-1.83646037  angles= {c: -0.634585661579762, b: -0.6004598417515106, a: -0.5201675149875684}  samples= None\n",
      "E=-1.90826955  angles= {c: -0.5730431059983139, b: -0.5752744400982759, a: -0.4708718950330004}  samples= None\n",
      "E=-1.90826955  angles= {c: -0.5730431039260093, b: -0.5752744402119254, a: -0.4708718992114873}  samples= None\n",
      "E=-1.65971484  angles= {c: -0.49316151407859676, b: -0.5796553126657811, a: -0.6319409584497069}  samples= None\n",
      "E=-2.07811727  angles= {c: -0.5331023100384553, b: -0.5774648763820283, a: -0.5514064267413539}  samples= None\n",
      "E=-2.06806430  angles= {c: -0.553072708018385, b: -0.5763696582401523, a: -0.5111391608871769}  samples= None\n",
      "E=-2.09243106  angles= {c: -0.5430875090284202, b: -0.5769172673110905, a: -0.531272793814265}  samples= None\n",
      "E=+1.66725121  angles= {c: -0.10000000000000009, b: -1.9010770274734297, a: -0.4612479983338216}  samples= None\n",
      "E=-0.07566986  angles= {c: -0.32154375451421036, b: -1.23899714739226, a: -0.4962603960740428}  samples= None\n",
      "E=-0.22538584  angles= {c: -0.43231563177131527, b: -0.9079572073516751, a: -0.5137665949441539}  samples= None\n",
      "E=-0.58819603  angles= {c: -0.4877015703998677, b: -0.7424372373313828, a: -0.5225196943792096}  samples= None\n",
      "E=-1.68397872  angles= {c: -0.5153945397141442, b: -0.6596772523212366, a: -0.5268962440967369}  samples= None\n",
      "E=-2.02527875  angles= {c: -0.5292410243712822, b: -0.6182972598161633, a: -0.5290845189555009}  samples= None\n",
      "E=-2.09615863  angles= {c: -0.5361642666998514, b: -0.5976072635636269, a: -0.5301786563848827}  samples= None\n",
      "E=-2.10373831  angles= {c: -0.5396258878641356, b: -0.5872622654373587, a: -0.530725725099574}  samples= None\n",
      "E=-2.10373831  angles= {c: -0.5396258876105411, b: -0.5872622654717774, a: -0.5307257248720574}  samples= None\n",
      "E=-2.10998817  angles= {c: -0.5298294545393669, b: -0.5885918745962333, a: -0.5219366954443703}  samples= None\n",
      "E=-2.10757705  angles= {c: -0.48084728791552367, b: -0.5952399203906067, a: -0.47799154716835046}  samples= None\n",
      "E=-2.11618273  angles= {c: -0.5053383712274453, b: -0.5919158974934202, a: -0.49996412130636037}  samples= None\n",
      "E=-1.88950655  angles= {c: -0.35038811241247503, b: -0.10000000000000009, a: -0.6304121119420119}  samples= None\n",
      "E=+0.32011759  angles= {c: -0.4278632418199604, b: -0.3459579487467104, a: -0.5651881166241863}  samples= None\n",
      "E=-1.00234720  angles= {c: -0.4666008065237026, b: -0.4689369231200651, a: -0.5325761189652733}  samples= None\n",
      "E=-1.81821211  angles= {c: -0.4859695888755744, b: -0.5304264103067431, a: -0.5162701201358169}  samples= None\n",
      "E=-2.05128526  angles= {c: -0.4956539800515096, b: -0.5611711539000814, a: -0.5081171207210886}  samples= None\n",
      "E=-2.10590221  angles= {c: -0.5004961756394777, b: -0.576543525696751, a: -0.5040406210137243}  samples= None\n",
      "E=-2.11663668  angles= {c: -0.5029172734334613, b: -0.5842297115950856, a: -0.5020023711600428}  samples= None\n",
      "E=-2.11780892  angles= {c: -0.5041278223304535, b: -0.5880728045442529, a: -0.5009832462332016}  samples= None\n",
      "E=-2.11780892  angles= {c: -0.5041278223304535, b: -0.5880728045442529, a: -0.5009832462332016}  samples= None\n"
     ]
    },
    {
     "data": {
      "image/png": "[encoded data removed]",
      "text/plain": [
       "<Figure size 432x288 with 1 Axes>"
      ]
     },
     "metadata": {
      "needs_background": "light"
     },
     "output_type": "display_data"
    }
   ],
   "source": [
    "# bounding the variables to keep it away from the stationary point which occurs at 0 and is periodic in 2pi\n",
    "# using negative values since that converges faster\n",
    "zeroes = {'a':0.0, 'b':0.0}\n",
    "shift = 1.0\n",
    "bounds = {'a':(-2*numpy.pi+0.1, -0.1), 'b':(-2*numpy.pi+0.1, -0.1), 'c':(-2*numpy.pi+0.1, -0.1) }\n",
    "O = tq.Objective.ExpectationValue(U=U, H=H)\n",
    "result = tq.minimize(objective=O, method='TNC', initial_values=zeroes, method_bounds=bounds)\n",
    "result.history.plot()"
   ]
  },
  {
   "cell_type": "code",
   "execution_count": 26,
   "metadata": {},
   "outputs": [
    {
     "data": {
      "image/png": "[encoded data removed]",
      "text/plain": [
       "<Figure size 432x288 with 1 Axes>"
      ]
     },
     "metadata": {
      "needs_background": "light"
     },
     "output_type": "display_data"
    }
   ],
   "source": [
    "result.history.plot('angles')"
   ]
  }
 ],
 "metadata": {
  "kernelspec": {
   "display_name": "tequila-3.6",
   "language": "python",
   "name": "tequila-3.6"
  },
  "language_info": {
   "codemirror_mode": {
    "name": "ipython",
    "version": 3
   },
   "file_extension": ".py",
   "mimetype": "text/x-python",
   "name": "python",
   "nbconvert_exporter": "python",
   "pygments_lexer": "ipython3",
   "version": "3.6.9"
  }
 },
 "nbformat": 4,
 "nbformat_minor": 2
}