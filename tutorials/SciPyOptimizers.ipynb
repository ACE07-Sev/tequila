{
 "cells": [
  {
   "cell_type": "markdown",
   "metadata": {},
   "source": [
    "# Tequila Tutorial: \n",
    "## Handling Optimizers, Initializing parametrized circuits"
   ]
  },
  {
   "cell_type": "code",
   "execution_count": 1,
   "metadata": {},
   "outputs": [],
   "source": [
    "# Import everything we need here\n",
    "import tequila as tq\n",
    "numpy = tq.numpy"
   ]
  },
  {
   "cell_type": "markdown",
   "metadata": {},
   "source": [
    "In the following example we will optimize a simple two qubit VQE with an Ansatz that is parametrized by two parameters.\n",
    "The Hamiltonian is also very simple and defined in the box below.\n",
    "$$ H = \\sigma_x(1) + c \\sigma_z(1) - \\sigma_z(0)$$\n",
    "\n",
    "<br>\n",
    "The tutorial is \\textbf{not} a guideline to optimization strategies but only intends to show tequilas functionality"
   ]
  },
  {
   "cell_type": "code",
   "execution_count": 2,
   "metadata": {},
   "outputs": [],
   "source": [
    "c = 0.5\n",
    "H = tq.paulis.X(1) + c*tq.paulis.Z(1) - tq.paulis.Z(0)"
   ]
  },
  {
   "cell_type": "markdown",
   "metadata": {},
   "source": [
    "Lets take a look at the spectrum of this very simple Hamiltonian  \n",
    "Keep in mind: Tequila is not a numerical linear algebra package, so better not try to diagonalize Hamiltonians  \n",
    "we however added this feature for user convenience in examples  \n",
    "In the future we might have interfaces to more powerfull numerical packages ... feel free to contribute :-) "
   ]
  },
  {
   "cell_type": "code",
   "execution_count": 3,
   "metadata": {},
   "outputs": [
    {
     "data": {
      "text/plain": [
       "DeviceArray([-2.118034  , -0.11803401,  0.11803401,  2.118034  ], dtype=float32)"
      ]
     },
     "execution_count": 3,
     "metadata": {},
     "output_type": "execute_result"
    }
   ],
   "source": [
    "matrix = H.to_matrix()\n",
    "e, v = numpy.linalg.eigh(matrix)\n",
    "e"
   ]
  },
  {
   "cell_type": "markdown",
   "metadata": {},
   "source": [
    "And here we initialize our Ansatz circuit which is parametrized by a and b.<br>\n",
    "\n",
    "We show to ways to initialize Variables:\n",
    "Variable a is initialized with a convenience string based initialization <br>\n",
    "Variable b is initialized as Variable which allows you to conveniently transforming it when initializing gates. Here we do a simple rescaling as an example <br>\n",
    "Note that you don't need strings to name variables but can use any hashable non-numeric type (meaning anything that is not interpreted as number). \n",
    "\n",
    "For example: tq.Variable(name=(0,1,2,3)) will also work\n",
    "\n",
    "\n",
    "The Ansatz has no specific meaning and it is more to show different ways how to deal with variables.\n",
    "See for instance that you can scale them and use the same variable in multiple gates. (See the other tutorials for more examples)"
   ]
  },
  {
   "cell_type": "code",
   "execution_count": 4,
   "metadata": {},
   "outputs": [],
   "source": [
    "a = tq.Variable(name=\"a\")\n",
    "b = tq.Variable(name=\"b\")\n",
    "c = tq.Variable(name=\"c\")\n",
    "\n",
    "a = 2.0*a*tq.numpy.pi # optimize a in units of 2pi\n",
    "b = 2.0*b*tq.numpy.pi # optimize b in units of 2pi\n",
    "c = 2.0*c*tq.numpy.pi # optimize c in units of 2pi\n",
    "\n",
    "U = tq.gates.Ry(target=0, angle=a)\n",
    "U += tq.gates.Ry(target=1, control=0, angle=b)\n",
    "U += tq.gates.X(target=1)\n",
    "U += tq.gates.Ry(target=1, control=0, angle=-b)\n",
    "U += tq.gates.Ry(target=0,angle=c)\n"
   ]
  },
  {
   "cell_type": "code",
   "execution_count": 5,
   "metadata": {},
   "outputs": [
    {
     "name": "stdout",
     "output_type": "stream",
     "text": [
      "circuit: \n",
      "Ry(target=(0,), parameter=Objective with 0 unique expectation values\n",
      "variables = [a]\n",
      "types     = [])\n",
      "Ry(target=(1,), control=(0,), parameter=Objective with 0 unique expectation values\n",
      "variables = [b]\n",
      "types     = [])\n",
      "X(target=(1,))\n",
      "Ry(target=(1,), control=(0,), parameter=Objective with 0 unique expectation values\n",
      "variables = [b]\n",
      "types     = [])\n",
      "Ry(target=(0,), parameter=Objective with 0 unique expectation values\n",
      "variables = [c]\n",
      "types     = [])\n",
      "\n"
     ]
    }
   ],
   "source": [
    "print(U)"
   ]
  },
  {
   "cell_type": "code",
   "execution_count": 6,
   "metadata": {},
   "outputs": [
    {
     "name": "stdout",
     "output_type": "stream",
     "text": [
      "0: ───Ry(0.318309886183791*pi*f((a,))_0)───@────────────────────────────────────────@────────────────────────────────────Ry(0.318309886183791*pi*f((c,))_3)───\n",
      "                                           │                                        │\n",
      "1: ────────────────────────────────────────Ry(0.318309886183791*pi*f((b,))_1)───X───Ry(0.318309886183791*pi*f((b,))_2)────────────────────────────────────────\n"
     ]
    }
   ],
   "source": [
    "# nice output (depends on which backends you have installed)\n",
    "tq.draw(U)"
   ]
  },
  {
   "cell_type": "markdown",
   "metadata": {},
   "source": [
    "In the next box we form an objective out of our Hamiltonian and our Ansatz and pass it down to the optimizer.\n",
    "In the following boxes we show how the results of the optimizer can be plotted\n",
    "\n",
    "See further below for some small exercises and additional information \n",
    "\n",
    "First lets see how objectives are created and simulated"
   ]
  },
  {
   "cell_type": "code",
   "execution_count": 7,
   "metadata": {},
   "outputs": [
    {
     "name": "stdout",
     "output_type": "stream",
     "text": [
      "energy : -6.556708946614531e-08\n",
      "wfn    : -0.5000|00> +0.5000|10> +0.5000|01> +0.5000|11> \n",
      "squared: 4.2990428789557375e-15\n"
     ]
    }
   ],
   "source": [
    "O = tq.Objective.ExpectationValue(U=U, H=H)\n",
    "variables = {\"a\":0.25, \"b\":0.25, \"c\":0.25}\n",
    "energy = tq.simulate(O, variables=variables)\n",
    "wfn = tq.simulate(U, variables=variables)\n",
    "evaluate_squared = tq.simulate(O**2, variables=variables)\n",
    "print(\"energy : {}\".format(energy))\n",
    "print(\"wfn    : {}\".format(wfn))\n",
    "print(\"squared: {}\".format(evaluate_squared))"
   ]
  },
  {
   "cell_type": "markdown",
   "metadata": {},
   "source": [
    "Now the objective can be optimized \n",
    "\n",
    "We will also set the initial values of the variables that can be passed to the optimizer.  \n",
    "Values of variables are passed as dictionaries where the keys are tequila variables and the values are floats.  "
   ]
  },
  {
   "cell_type": "code",
   "execution_count": 8,
   "metadata": {},
   "outputs": [
    {
     "name": "stdout",
     "output_type": "stream",
     "text": [
      "Optimizer: <class 'tequila.optimizers.optimizer_scipy.OptimizerSciPy'> \n",
      "backend         : None\n",
      "backend_options : {}\n",
      "samples         : None\n",
      "save_history    : True\n",
      "noise_model     : None\n",
      "\n",
      "Method          : BFGS\n",
      "Objective       : 1 expectationvalues\n",
      "gradient        : 12 expectationvalues\n",
      "\n",
      "active variables : 3\n",
      "\n",
      "Gradient:\n",
      "\n",
      "<tequila.optimizers._scipy_containers._GradContainer object at 0x7f6fa0047cc0>\n",
      "Hessian:\n",
      "\n",
      "None\n",
      "E=-0.66770238  angles= {c: 0.3, b: 0.3, a: 0.3}  samples= None\n",
      "E=-0.86641482  angles= {c: 0.3886562339058441, b: 1.3058406768884259, a: 0.32290425519998417}  samples= None\n",
      "E=-0.35434409  angles= {c: 0.7432811695292205, b: 5.3292033844421285, a: 0.41452127599992095}  samples= None\n",
      "E=-0.80480921  angles= {c: 0.47595029847112946, b: 2.296226994041704, a: 0.3454565952234802}  samples= None\n",
      "E=-1.08258143  angles= {c: 0.47268466185431224, b: 2.3162437658743937, a: 0.3555276683594922}  samples= None\n",
      "E=-1.92438448  angles= {c: 0.45962211538704334, b: 2.396310853205154, a: 0.3958119609035401}  samples= None\n",
      "E=+0.06258418  angles= {c: 0.23628931675683343, b: 2.4354660461406437, a: 0.8541594702738478}  samples= None\n",
      "E=-2.05964335  angles= {c: 0.43712268230837514, b: 2.400255502842546, a: 0.44198770928041337}  samples= None\n",
      "E=-1.81747664  angles= {c: 0.6644324551354136, b: 2.389257335430303, a: 0.624945702521921}  samples= None\n",
      "E=-2.09707552  angles= {c: 0.49003670664980303, b: 2.397695308043507, a: 0.48457735946323377}  samples= None\n",
      "E=-2.10044517  angles= {c: 0.49588707381117236, b: 2.425950479255173, a: 0.49554750902065947}  samples= None\n",
      "E=-2.11689104  angles= {c: 0.49309702429115393, b: 2.412475542605437, a: 0.49031582703165044}  samples= None\n",
      "E=-2.11802490  angles= {c: 0.49986811934236913, b: 2.41176828448091, a: 0.5004530354135697}  samples= None\n",
      "E=-2.11803399  angles= {c: 0.5000016128327002, b: 2.4118918603304658, a: 0.4999942303823348}  samples= None\n",
      "Optimization terminated successfully.\n",
      "         Current function value: -2.118034\n",
      "         Iterations: 7\n",
      "         Function evaluations: 14\n",
      "         Gradient evaluations: 14\n"
     ]
    }
   ],
   "source": [
    "initial_values = {'a':0.3, 'b':0.3, 'c':0.3}\n",
    "O = tq.Objective.ExpectationValue(U=U, H=H)\n",
    "result = tq.optimizer_scipy.minimize(objective=O, method=\"bfgs\", initial_values=initial_values, tol=1.e-3, method_options={\"gtol\":1.e-3})"
   ]
  },
  {
   "cell_type": "code",
   "execution_count": 9,
   "metadata": {},
   "outputs": [
    {
     "data": {
      "text/plain": [
       "-2.118033986209923"
      ]
     },
     "execution_count": 9,
     "metadata": {},
     "output_type": "execute_result"
    }
   ],
   "source": [
    "# final energy\n",
    "result.energy"
   ]
  },
  {
   "cell_type": "markdown",
   "metadata": {},
   "source": [
    "Plot out the History:\n",
    "Note, that we choose bad initial points since they are close to the maximum"
   ]
  },
  {
   "cell_type": "code",
   "execution_count": 10,
   "metadata": {
    "scrolled": true
   },
   "outputs": [
    {
     "data": {
      "image/png": "[encoded data removed]",
      "text/plain": [
       "<Figure size 432x288 with 1 Axes>"
      ]
     },
     "metadata": {
      "needs_background": "light"
     },
     "output_type": "display_data"
    }
   ],
   "source": [
    "result.history.plot('energies')"
   ]
  },
  {
   "cell_type": "code",
   "execution_count": 11,
   "metadata": {
    "scrolled": true
   },
   "outputs": [
    {
     "data": {
      "image/png": "[encoded data removed]",
      "text/plain": [
       "<Figure size 432x288 with 1 Axes>"
      ]
     },
     "metadata": {
      "needs_background": "light"
     },
     "output_type": "display_data"
    }
   ],
   "source": [
    "result.history.plot(property='angles', key=[\"a\", \"b\"])"
   ]
  },
  {
   "cell_type": "code",
   "execution_count": 12,
   "metadata": {},
   "outputs": [
    {
     "data": {
      "image/png": "[encoded data removed]",
      "text/plain": [
       "<Figure size 432x288 with 1 Axes>"
      ]
     },
     "metadata": {
      "needs_background": "light"
     },
     "output_type": "display_data"
    },
    {
     "data": {
      "image/png": "[encoded data removed]",
      "text/plain": [
       "<Figure size 432x288 with 1 Axes>"
      ]
     },
     "metadata": {
      "needs_background": "light"
     },
     "output_type": "display_data"
    }
   ],
   "source": [
    "# Convenience in the history plot\n",
    "result.history.plot(property='angles', key=\"a\")\n",
    "result.history.plot(property=['angles', 'gradients'], key=[\"c\"])"
   ]
  },
  {
   "cell_type": "markdown",
   "metadata": {},
   "source": [
    "# FAQ\n",
    "\n",
    "## 1: How can I extract the parameters from a given circuit?\n",
    "\n",
    "Call the 'extract_parameters' attribute and get back a list of all Variables in the circuit"
   ]
  },
  {
   "cell_type": "code",
   "execution_count": 13,
   "metadata": {},
   "outputs": [
    {
     "data": {
      "text/plain": [
       "[c, b, a]"
      ]
     },
     "execution_count": 13,
     "metadata": {},
     "output_type": "execute_result"
    }
   ],
   "source": [
    "angles = U.extract_variables()\n",
    "angles"
   ]
  },
  {
   "cell_type": "markdown",
   "metadata": {},
   "source": [
    "## 2: How can I do measurement based simulation?\n",
    "Pass down the 'samples' keyword to simulate finite samples\n",
    "See the later exercises to play around with sample number and optimization methods.\n",
    "\n",
    "Feel free to play around with the number of samples \n",
    "Don't excpect miracles from the optimizer, you might need to hit return a few times or increase the number of samples.<br>Note that stochastic gradients are not yet supported\n",
    "<br>Note also that we did not set the initial parameters, so we will start with all parameters set to 0 which is a stationary point in this example (full wavefunction simulation would get stuck, see also the exercise below).\n",
    "\n",
    "Sampling based simulation needs improvement. Don't expect too much, but feel free to contribute\n",
    "\n",
    "Lets only optimize veriable b and set the other to the correct value to also show how that works"
   ]
  },
  {
   "cell_type": "code",
   "execution_count": 14,
   "metadata": {},
   "outputs": [
    {
     "name": "stdout",
     "output_type": "stream",
     "text": [
      "Optimizer: <class 'tequila.optimizers.optimizer_scipy.OptimizerSciPy'> \n",
      "backend         : None\n",
      "backend_options : {}\n",
      "samples         : 100\n",
      "save_history    : True\n",
      "noise_model     : None\n",
      "\n",
      "Method          : BFGS\n",
      "Objective       : 1 expectationvalues\n",
      "gradient        : 8 expectationvalues\n",
      "\n",
      "active variables : 1\n",
      "\n",
      "Gradient:\n",
      "\n",
      "<tequila.optimizers._scipy_containers._GradContainer object at 0x7f6fa009dd68>\n",
      "Hessian:\n",
      "\n",
      "None\n",
      "E=-0.62000000  angles= {b: 0.3, a: 0.3, c: 0.3}  samples= 100\n",
      "E=-0.95000000  angles= {b: 1.31, a: 0.3, c: 0.3}  samples= 100\n",
      "E=-1.32000000  angles= {b: 5.3500000000000005, a: 0.3, c: 0.3}  samples= 100\n",
      "E=-1.58000000  angles= {b: 5.479708977881824, a: 0.3, c: 0.3}  samples= 100\n",
      "E=-1.64000000  angles= {b: 5.432965928010243, a: 0.3, c: 0.3}  samples= 100\n",
      "E=-1.86000000  angles= {b: 5.42498881831508, a: 0.3, c: 0.3}  samples= 100\n",
      "E=-1.69000000  angles= {b: 5.42574854313947, a: 0.3, c: 0.3}  samples= 100\n",
      "E=-1.56000000  angles= {b: 5.424988871632852, a: 0.3, c: 0.3}  samples= 100\n",
      "E=-1.99000000  angles= {b: 5.42498881831508, a: 0.3, c: 0.3}  samples= 100\n",
      "E=-1.77000000  angles= {b: 5.4249888183150805, a: 0.3, c: 0.3}  samples= 100\n",
      "E=-1.88000000  angles= {b: 5.42498881831508, a: 0.3, c: 0.3}  samples= 100\n",
      "E=-2.01000000  angles= {b: 5.42498881831508, a: 0.3, c: 0.3}  samples= 100\n",
      "E=-1.84000000  angles= {b: 5.42574854313947, a: 0.3, c: 0.3}  samples= 100\n",
      "E=-1.94000000  angles= {b: 5.425368680727275, a: 0.3, c: 0.3}  samples= 100\n",
      "E=-1.81000000  angles= {b: 5.425558611933373, a: 0.3, c: 0.3}  samples= 100\n",
      "E=-1.89000000  angles= {b: 5.425463646330324, a: 0.3, c: 0.3}  samples= 100\n",
      "E=-1.88000000  angles= {b: 5.4254161635288, a: 0.3, c: 0.3}  samples= 100\n",
      "E=-1.64000000  angles= {b: 5.425392422128037, a: 0.3, c: 0.3}  samples= 100\n",
      "E=-1.85000000  angles= {b: 5.425380551427656, a: 0.3, c: 0.3}  samples= 100\n",
      "E=-1.71000000  angles= {b: 5.425374616077465, a: 0.3, c: 0.3}  samples= 100\n",
      "E=-1.79000000  angles= {b: 5.42537164840237, a: 0.3, c: 0.3}  samples= 100\n",
      "E=-1.74000000  angles= {b: 5.425370164564822, a: 0.3, c: 0.3}  samples= 100\n",
      "E=-1.82000000  angles= {b: 5.425369422646049, a: 0.3, c: 0.3}  samples= 100\n",
      "E=-1.75000000  angles= {b: 5.425369051686662, a: 0.3, c: 0.3}  samples= 100\n",
      "Warning: Desired error not necessarily achieved due to precision loss.\n",
      "         Current function value: -1.860000\n",
      "         Iterations: 4\n",
      "         Function evaluations: 24\n",
      "         Gradient evaluations: 13\n"
     ]
    },
    {
     "data": {
      "image/png": "[encoded data removed]",
      "text/plain": [
       "<Figure size 432x288 with 1 Axes>"
      ]
     },
     "metadata": {
      "needs_background": "light"
     },
     "output_type": "display_data"
    },
    {
     "name": "stdout",
     "output_type": "stream",
     "text": [
      "result =  -1.8599999999999999\n"
     ]
    }
   ],
   "source": [
    "O = tq.Objective.ExpectationValue(U=U, H=H)\n",
    "initial_values[\"a\"] = 0.3\n",
    "initial_values[\"c\"] = 0.3\n",
    "initial_values[\"b\"] = 0.3\n",
    "result = tq.optimizer_scipy.minimize(objective=O, variables=[\"b\"], initial_values = initial_values, tol=1.e-3, samples=100, method=\"bfgs\")\n",
    "result.history.plot('energies')\n",
    "print(\"result = \", result.energy)"
   ]
  },
  {
   "cell_type": "markdown",
   "metadata": {},
   "source": [
    "## 3: Which Simulator was used and how can I choose the simulator?\n",
    "\n",
    "You can pass down the simulator to the optimizer by the simulator keyword (see below)\n",
    "If no specific simulator was chosen by you that means the simulator is automatically picked. Which simulator is picked depends on what simulators you have installed and if you demanded a full wavefunction to be simulated or not.\n",
    "\n",
    "You can check which simulators you have installed with the following"
   ]
  },
  {
   "cell_type": "code",
   "execution_count": 15,
   "metadata": {},
   "outputs": [
    {
     "name": "stdout",
     "output_type": "stream",
     "text": [
      "Supported Backends:\n",
      "\n",
      "qulacs\n",
      "qiskit\n",
      "cirq\n",
      "pyquil\n",
      "symbolic\n",
      "\n",
      "Installed Wavefunction Simulators:\n",
      "\n",
      "qulacs\n",
      "pyquil\n",
      "qiskit\n",
      "cirq\n",
      "symbolic\n",
      "\n",
      "Installed Wavefunction Samplers:\n",
      "\n",
      "qulacs\n",
      "pyquil\n",
      "qiskit\n",
      "cirq\n",
      "None\n"
     ]
    }
   ],
   "source": [
    "print(tq.show_available_simulators())"
   ]
  },
  {
   "cell_type": "markdown",
   "metadata": {},
   "source": [
    "Here is how you would initialize a simulator and pass it down the optimizer.\n",
    "The if statement is just to prevent your Ipython kernel from crashing when you have not installed the simulator\n",
    "Feel free to change it to something you have installed"
   ]
  },
  {
   "cell_type": "code",
   "execution_count": 16,
   "metadata": {},
   "outputs": [
    {
     "name": "stdout",
     "output_type": "stream",
     "text": [
      "Optimizer: <class 'tequila.optimizers.optimizer_scipy.OptimizerSciPy'> \n",
      "backend         : qiskit\n",
      "backend_options : {}\n",
      "samples         : None\n",
      "save_history    : True\n",
      "noise_model     : None\n",
      "\n",
      "Method          : BFGS\n",
      "Objective       : 1 expectationvalues\n",
      "gradient        : 12 expectationvalues\n",
      "\n",
      "active variables : 3\n",
      "\n",
      "Gradient:\n",
      "\n",
      "<tequila.optimizers._scipy_containers._GradContainer object at 0x7f6f881ba630>\n",
      "Hessian:\n",
      "\n",
      "None\n",
      "E=-0.66770238  angles= {c: 0.3, b: 0.3, a: 0.3}  samples= None\n",
      "E=-0.86641482  angles= {c: 0.3886562339058441, b: 1.3058406768884259, a: 0.32290425519998417}  samples= None\n",
      "E=-0.35434409  angles= {c: 0.7432811695292205, b: 5.3292033844421285, a: 0.41452127599992095}  samples= None\n",
      "E=-0.80480921  angles= {c: 0.47595029847112946, b: 2.296226994041704, a: 0.3454565952234802}  samples= None\n",
      "E=-1.08258143  angles= {c: 0.47268466185431224, b: 2.3162437658743937, a: 0.35552766835949223}  samples= None\n",
      "E=-1.92438448  angles= {c: 0.4596221153870433, b: 2.3963108532051542, a: 0.3958119609035403}  samples= None\n",
      "E=+0.06258418  angles= {c: 0.23628931675683376, b: 2.435466046140644, a: 0.8541594702738473}  samples= None\n",
      "E=-2.05964335  angles= {c: 0.43712268230837514, b: 2.4002555028425463, a: 0.4419877092804135}  samples= None\n",
      "E=-1.81747664  angles= {c: 0.6644324551354133, b: 2.3892573354303033, a: 0.6249457025219208}  samples= None\n",
      "E=-2.09707552  angles= {c: 0.49003670664980314, b: 2.3976953080435073, a: 0.4845773594632339}  samples= None\n",
      "E=-2.10044517  angles= {c: 0.49588707381117264, b: 2.4259504792551745, a: 0.4955475090206597}  samples= None\n",
      "E=-2.11689104  angles= {c: 0.4930970242911542, b: 2.412475542605438, a: 0.4903158270316507}  samples= None\n",
      "E=-2.11802490  angles= {c: 0.4998681193423694, b: 2.4117682844809107, a: 0.5004530354135699}  samples= None\n",
      "E=-2.11803399  angles= {c: 0.5000016128327004, b: 2.4118918603304667, a: 0.49999423038233504}  samples= None\n",
      "Optimization terminated successfully.\n",
      "         Current function value: -2.118034\n",
      "         Iterations: 7\n",
      "         Function evaluations: 14\n",
      "         Gradient evaluations: 14\n"
     ]
    },
    {
     "data": {
      "image/png": "[encoded data removed]",
      "text/plain": [
       "<Figure size 432x288 with 1 Axes>"
      ]
     },
     "metadata": {
      "needs_background": "light"
     },
     "output_type": "display_data"
    }
   ],
   "source": [
    "if 'qiskit' in tq.INSTALLED_BACKENDS: # failsafe to only execute cell when qiskit is actually there\n",
    "    O = tq.Objective.ExpectationValue(U=U, H=H)\n",
    "    result = tq.optimizer_scipy.minimize(objective=O,\n",
    "                                       initial_values=initial_values,\n",
    "                                       backend=\"qiskit\")\n",
    "    result.history.plot()"
   ]
  },
  {
   "cell_type": "code",
   "execution_count": 17,
   "metadata": {},
   "outputs": [
    {
     "data": {
      "image/png": "[encoded data removed]",
      "text/plain": [
       "<Figure size 432x288 with 1 Axes>"
      ]
     },
     "metadata": {
      "needs_background": "light"
     },
     "output_type": "display_data"
    }
   ],
   "source": [
    "result.history.plot('angles')"
   ]
  },
  {
   "cell_type": "markdown",
   "metadata": {},
   "source": [
    "## 4: Can I use numerical evaluation of gradients\n",
    "\n",
    "Yes you can, by passing down `use_gradient = False` or `use_gradient = \"2-point\"`.  \n",
    "`use_gradient = '3-point' or 'cs' ` are also possible for scipy methods which support them.  \n",
    "Check out the documentation of scipy.optimize.minimize for that.  \n",
    "You can also pass down further options (again, check scipy documentation) for different methods.  \n",
    "An important additional option is `eps` which defines the stepsizes for the '2-point' method."
   ]
  },
  {
   "cell_type": "code",
   "execution_count": 18,
   "metadata": {},
   "outputs": [
    {
     "name": "stdout",
     "output_type": "stream",
     "text": [
      "Optimizer: <class 'tequila.optimizers.optimizer_scipy.OptimizerSciPy'> \n",
      "backend         : None\n",
      "backend_options : {}\n",
      "samples         : None\n",
      "save_history    : True\n",
      "noise_model     : None\n",
      "\n",
      "Method          : BFGS\n",
      "Objective       : 1 expectationvalues\n",
      "gradient        : 12 expectationvalues\n",
      "\n",
      "active variables : 3\n",
      "\n",
      "Gradient:\n",
      "\n",
      "<tequila.optimizers._scipy_containers._GradContainer object at 0x7f6fa0047f60>\n",
      "Hessian:\n",
      "\n",
      "None\n",
      "E=-0.66770238  angles= {c: 0.3, b: 0.3, a: 0.3}  samples= None\n",
      "E=-0.86641482  angles= {c: 0.3886562339058441, b: 1.3058406768884259, a: 0.32290425519998417}  samples= None\n",
      "E=-0.35434409  angles= {c: 0.7432811695292205, b: 5.3292033844421285, a: 0.41452127599992095}  samples= None\n",
      "E=-0.80480921  angles= {c: 0.47595029847112946, b: 2.296226994041704, a: 0.3454565952234802}  samples= None\n",
      "E=-1.08258143  angles= {c: 0.47268466185431224, b: 2.3162437658743937, a: 0.3555276683594922}  samples= None\n",
      "E=-1.92438448  angles= {c: 0.45962211538704334, b: 2.396310853205154, a: 0.3958119609035401}  samples= None\n",
      "E=+0.06258418  angles= {c: 0.23628931675683343, b: 2.4354660461406437, a: 0.8541594702738478}  samples= None\n",
      "E=-2.05964335  angles= {c: 0.43712268230837514, b: 2.400255502842546, a: 0.44198770928041337}  samples= None\n",
      "E=-1.81747664  angles= {c: 0.6644324551354136, b: 2.389257335430303, a: 0.624945702521921}  samples= None\n",
      "E=-2.09707552  angles= {c: 0.49003670664980303, b: 2.397695308043507, a: 0.48457735946323377}  samples= None\n",
      "E=-2.10044517  angles= {c: 0.49588707381117236, b: 2.425950479255173, a: 0.49554750902065947}  samples= None\n",
      "E=-2.11689104  angles= {c: 0.49309702429115393, b: 2.412475542605437, a: 0.49031582703165044}  samples= None\n",
      "E=-2.11802490  angles= {c: 0.49986811934236913, b: 2.41176828448091, a: 0.5004530354135697}  samples= None\n",
      "E=-2.11803399  angles= {c: 0.5000016128327002, b: 2.4118918603304658, a: 0.4999942303823348}  samples= None\n",
      "Optimization terminated successfully.\n",
      "         Current function value: -2.118034\n",
      "         Iterations: 7\n",
      "         Function evaluations: 14\n",
      "         Gradient evaluations: 14\n"
     ]
    }
   ],
   "source": [
    "result = tq.optimizer_scipy.minimize(objective=O,\n",
    "                                    initial_values=initial_values,\n",
    "                                    use_gradient='2-point',\n",
    "                                    method_options = {'eps':1.e-3})"
   ]
  },
  {
   "cell_type": "markdown",
   "metadata": {},
   "source": [
    "## 5: Can I use Hessian based optimizations, and can I evaluate Hessians numerically?\n",
    "\n",
    "Yes you can, by just picking those methods (like for example 'dogleg' or 'newton-cg').\n",
    "For all 'trust-\\*' methods you can also pick different options (see again scipy documentation)\n",
    "\n",
    "Numerical evaluation for hessians works in the same way as for gradients by passing down `use_hessian` instead of `use_gradient`.  \n",
    "Be aware that not all combinations of `use_gradient` and `use_hessian` will work (usually you need to have the gradients analytically) and that most scipy methods do not support numerical evaluation of Hessians.\n",
    "Also do not confuse that with methods which use an approximation of the Hessian.\n",
    "Again: Check the scipy documentation for more information\n",
    "\n",
    "Here comes a small example where (note that the methods above will not converge to the minimum for this initial_values)"
   ]
  },
  {
   "cell_type": "code",
   "execution_count": 19,
   "metadata": {},
   "outputs": [
    {
     "data": {
      "text/plain": [
       "['TRUST-KRYLOV',\n",
       " 'NEWTON-CG',\n",
       " 'DOGLEG',\n",
       " 'TRUST-NCG',\n",
       " 'TRUST-EXACT',\n",
       " 'TRUST-CONSTR']"
      ]
     },
     "execution_count": 19,
     "metadata": {},
     "output_type": "execute_result"
    }
   ],
   "source": [
    "tq.optimizer_scipy.OptimizerSciPy.hessian_based_methods"
   ]
  },
  {
   "cell_type": "code",
   "execution_count": 20,
   "metadata": {},
   "outputs": [
    {
     "name": "stdout",
     "output_type": "stream",
     "text": [
      "Optimizer: <class 'tequila.optimizers.optimizer_scipy.OptimizerSciPy'> \n",
      "backend         : None\n",
      "backend_options : {}\n",
      "samples         : None\n",
      "save_history    : True\n",
      "noise_model     : None\n",
      "\n",
      "Method          : TRUST-EXACT\n",
      "Objective       : 1 expectationvalues\n",
      "gradient        : 12 expectationvalues\n",
      "hessian         : 180 expectationvalues\n",
      "\n",
      "active variables : 3\n",
      "\n",
      "Gradient:\n",
      "\n",
      "<tequila.optimizers._scipy_containers._GradContainer object at 0x7f6f8820ffd0>\n",
      "Hessian:\n",
      "\n",
      "<tequila.optimizers._scipy_containers._HessContainer object at 0x7f6fa0080be0>\n",
      "E=-0.00000007  angles= {c: 0.25, b: 0.25, a: 0.25}  samples= None\n",
      "E=+0.05129849  angles= {c: 0.5055104775766944, b: 1.0753385471563042, a: 0.7535182999916196}  samples= None\n",
      "E=-1.54498606  angles= {c: 0.27731303752572806, b: 0.490225804920117, a: 0.32165051548766865}  samples= None\n",
      "E=-1.92693919  angles= {c: 0.4304152219529205, b: 0.37410841961410807, a: 0.48157697969330854}  samples= None\n",
      "E=-2.11480148  angles= {c: 0.488930087935853, b: 0.41474457436409573, a: 0.48518960558553104}  samples= None\n",
      "E=-2.11802893  angles= {c: 0.500585920937999, b: 0.4117583404951248, a: 0.5004980688483419}  samples= None\n",
      "E=-2.11803399  angles= {c: 0.5000008575626693, b: 0.4118957006665831, a: 0.5000007543584899}  samples= None\n",
      "Optimization terminated successfully.\n",
      "         Current function value: -2.118034\n",
      "         Iterations: 6\n",
      "         Function evaluations: 7\n",
      "         Gradient evaluations: 6\n",
      "         Hessian evaluations: 7\n"
     ]
    }
   ],
   "source": [
    "options = {\n",
    "    \"initial_tr_radius\":0.05,\n",
    "    \"max_tr_radius\":0.1\n",
    "}\n",
    "\n",
    "result = tq.optimizer_scipy.minimize(objective=O,\n",
    "                                    initial_values={\"a\":0.25, \"b\":0.25, \"c\":0.25},\n",
    "                                    method = \"trust-exact\",\n",
    "                                    method_options = options)\n"
   ]
  },
  {
   "cell_type": "markdown",
   "metadata": {},
   "source": [
    "# Exercises\n",
    "\n",
    "See farther down for solutions"
   ]
  },
  {
   "cell_type": "markdown",
   "metadata": {},
   "source": [
    "## Exercise 1\n",
    "\n",
    "You can pass down initial_values to the optimizer in the same format as you can do it with the circuit (see above).\n",
    "Figure out how to do that by checking out the documentation of the 'minimize' function."
   ]
  },
  {
   "cell_type": "markdown",
   "metadata": {},
   "source": [
    "## Exercise 2\n",
    "Figure out which method the optimizer above used and how to use a different optimization method. To do so check out the documentation of the 'minimize' function"
   ]
  },
  {
   "cell_type": "code",
   "execution_count": 21,
   "metadata": {},
   "outputs": [
    {
     "data": {
      "text/plain": [
       "['NELDER-MEAD',\n",
       " 'COBYLA',\n",
       " 'POWELL',\n",
       " 'SLSQP',\n",
       " 'L-BFGS-B',\n",
       " 'BFGS',\n",
       " 'CG',\n",
       " 'TNC',\n",
       " 'TRUST-KRYLOV',\n",
       " 'NEWTON-CG',\n",
       " 'DOGLEG',\n",
       " 'TRUST-NCG',\n",
       " 'TRUST-EXACT',\n",
       " 'TRUST-CONSTR']"
      ]
     },
     "execution_count": 21,
     "metadata": {},
     "output_type": "execute_result"
    }
   ],
   "source": [
    "# hint\n",
    "tq.optimizer_scipy.available_methods()"
   ]
  },
  {
   "cell_type": "markdown",
   "metadata": {},
   "source": [
    "## Exercise 3\n",
    "If you initialize both parameters to 0.0 you will directly hit a stationary point which causes the optimizer stop.\n",
    "Find out how you can impose bounds on the variables in order to prevent the optimizer from hitting that point.\n",
    "\n",
    "Again: Check the documentation of the 'minimize' function.\n",
    "\n",
    "Note: Not all optimization methods of SciPy support bounds on the variables\n",
    "\n",
    "Note: It is not enough to just restrict the point 0.0"
   ]
  },
  {
   "cell_type": "markdown",
   "metadata": {},
   "source": [
    "# Solutions"
   ]
  },
  {
   "cell_type": "markdown",
   "metadata": {},
   "source": [
    "## Exercise 1 & 2"
   ]
  },
  {
   "cell_type": "code",
   "execution_count": 22,
   "metadata": {
    "scrolled": true
   },
   "outputs": [
    {
     "name": "stdout",
     "output_type": "stream",
     "text": [
      "WARNING: initial_variables given but not complete: Autocomplete with random number\n",
      "Optimizer: <class 'tequila.optimizers.optimizer_scipy.OptimizerSciPy'> \n",
      "backend         : None\n",
      "backend_options : {}\n",
      "samples         : None\n",
      "save_history    : True\n",
      "noise_model     : None\n",
      "\n",
      "Method          : TNC\n",
      "Objective       : 1 expectationvalues\n",
      "gradient        : 12 expectationvalues\n",
      "\n",
      "active variables : 3\n",
      "\n",
      "Gradient:\n",
      "\n",
      "<tequila.optimizers._scipy_containers._GradContainer object at 0x7f6f88041c88>\n",
      "Hessian:\n",
      "\n",
      "None\n",
      "E=-1.53133589  angles= {c: 0.16846669834848696, b: -0.1, a: -0.2}  samples= None\n",
      "E=-1.53133616  angles= {c: 0.16846671212892103, b: -0.09999993176531412, a: -0.20000000535066648}  samples= None\n",
      "E=-1.62196825  angles= {c: 0.17752398023508334, b: -0.055152299173819155, a: -0.2035167611011087}  samples= None\n",
      "E=-1.62196825  angles= {c: 0.17752399356161377, b: -0.0551522984864377, a: -0.203516762107104}  samples= None\n",
      "E=-0.68436669  angles= {c: 1.0361305704875976, b: -0.010865434421966857, a: -0.2683313967378351}  samples= None\n",
      "E=+0.01101877  angles= {c: 0.6068272753613404, b: -0.033008866797893, a: -0.23592407891947192}  samples= None\n",
      "E=-1.12768557  angles= {c: 0.3921756277982119, b: -0.044080582985856084, a: -0.21972042001029032}  samples= None\n",
      "E=-1.53671895  angles= {c: 0.2848498040166476, b: -0.04961644107983762, a: -0.2116185905556995}  samples= None\n",
      "E=-1.62440219  angles= {c: 0.23118689212586546, b: -0.052384370126828395, a: -0.2075676758284041}  samples= None\n",
      "E=-1.63456396  angles= {c: 0.20435543618047441, b: -0.053768334650323775, a: -0.2055422184647564}  samples= None\n",
      "E=-1.63456396  angles= {c: 0.20435543618047441, b: -0.053768334650323775, a: -0.2055422184647564}  samples= None\n"
     ]
    }
   ],
   "source": [
    "O = tq.Objective.ExpectationValue(U=U, H=H)\n",
    "result = tq.optimizer_scipy.minimize(objective=O, method='TNC', maxiter=10, initial_values={'a':-0.2, 'b':-0.1})"
   ]
  },
  {
   "cell_type": "code",
   "execution_count": 23,
   "metadata": {},
   "outputs": [
    {
     "data": {
      "image/png": "[encoded data removed]",
      "text/plain": [
       "<Figure size 432x288 with 1 Axes>"
      ]
     },
     "metadata": {
      "needs_background": "light"
     },
     "output_type": "display_data"
    },
    {
     "data": {
      "image/png": "[encoded data removed]",
      "text/plain": [
       "<Figure size 432x288 with 1 Axes>"
      ]
     },
     "metadata": {
      "needs_background": "light"
     },
     "output_type": "display_data"
    }
   ],
   "source": [
    "result.history.plot('energies')\n",
    "result.history.plot('angles')"
   ]
  },
  {
   "cell_type": "markdown",
   "metadata": {},
   "source": [
    "## Exercise 3"
   ]
  },
  {
   "cell_type": "code",
   "execution_count": 24,
   "metadata": {},
   "outputs": [
    {
     "name": "stdout",
     "output_type": "stream",
     "text": [
      "WARNING: initial_variables given but not complete: Autocomplete with random number\n",
      "Optimizer: <class 'tequila.optimizers.optimizer_scipy.OptimizerSciPy'> \n",
      "backend         : None\n",
      "backend_options : {}\n",
      "samples         : None\n",
      "save_history    : True\n",
      "noise_model     : None\n",
      "\n",
      "Method          : TNC\n",
      "Objective       : 1 expectationvalues\n",
      "gradient        : 12 expectationvalues\n",
      "\n",
      "active variables : 3\n",
      "\n",
      "Gradient:\n",
      "\n",
      "<tequila.optimizers._scipy_containers._GradContainer object at 0x7f6f8817a4a8>\n",
      "Hessian:\n",
      "\n",
      "None\n",
      "E=-1.20482303  angles= {c: 0.8744867269514646, b: 0.0, a: 0.0}  samples= None\n",
      "E=-1.20482434  angles= {c: 0.8744869603217648, b: 0.0, a: 6.641725036615753e-08}  samples= None\n",
      "E=-1.46045676  angles= {c: 1.0071505959934723, b: 0.0, a: 0.03775617290955773}  samples= None\n",
      "E=-1.46810764  angles= {c: 0.9408186614724685, b: 0.0, a: 0.018878086454778866}  samples= None\n",
      "E=-1.49989542  angles= {c: 0.9739846287329704, b: 0.0, a: 0.028317129682168297}  samples= None\n",
      "E=-1.49989542  angles= {c: 0.9739846287276379, b: -1.535642128576339e-09, a: 0.028317129680650678}  samples= None\n",
      "E=-1.49946283  angles= {c: 0.9736470799763164, b: -0.09720711459141873, a: 0.028221063470069283}  samples= None\n",
      "E=-1.50237561  angles= {c: 0.9738158543546435, b: -0.048603557295709365, a: 0.02826909657611879}  samples= None\n",
      "E=-1.50237561  angles= {c: 0.9738158543274128, b: -0.048603557329806195, a: 0.02826909660513753}  samples= None\n",
      "E=-1.50267957  angles= {c: 0.9721194965351518, b: -0.05072764568130675, a: 0.03007684158208809}  samples= None\n",
      "E=-1.50415232  angles= {c: 0.9636377074376934, b: -0.06134808760929366, a: 0.03911556661193459}  samples= None\n",
      "E=+0.84268420  angles= {c: 0.7515929800012335, b: -0.32685913580896647, a: 0.26508369235809714}  samples= None\n",
      "E=-1.03046293  angles= {c: 0.8576153437194635, b: -0.19410361170913007, a: 0.15209962948501587}  samples= None\n",
      "E=-1.44961697  angles= {c: 0.9106265255785785, b: -0.12772584965921185, a: 0.09560759804847523}  samples= None\n",
      "E=-1.49963523  angles= {c: 0.9371321165081359, b: -0.09453696863425276, a: 0.06736158233020491}  samples= None\n",
      "E=-1.50478105  angles= {c: 0.9503849119729146, b: -0.07794252812177321, a: 0.05323857447106975}  samples= None\n",
      "E=-1.50489626  angles= {c: 0.957011309705304, b: -0.06964530786553344, a: 0.04617707054150217}  samples= None\n",
      "E=-1.50497915  angles= {c: 0.9536981108391094, b: -0.07379391799365333, a: 0.04970782250628596}  samples= None\n",
      "E=+1.28036202  angles= {c: 1.167397546781858, b: 0.11308619370068261, a: 0.31337993592486507}  samples= None\n",
      "E=-0.47657840  angles= {c: 1.0605478288104837, b: 0.019646137853514642, a: 0.18154387921557552}  samples= None\n",
      "E=-1.25597625  angles= {c: 1.0071229698247965, b: -0.027073890070069342, a: 0.11562585086093075}  samples= None\n",
      "E=-1.45209915  angles= {c: 0.980410540331953, b: -0.050433904031861335, a: 0.08266683668360836}  samples= None\n",
      "E=-1.49584372  angles= {c: 0.9670543255855312, b: -0.06211391101275733, a: 0.06618732959494716}  samples= None\n",
      "E=-1.50459119  angles= {c: 0.9603762182123203, b: -0.06795391450320533, a: 0.05794757605061656}  samples= None\n",
      "E=-1.50580782  angles= {c: 0.9570371645257149, b: -0.07087391624842933, a: 0.05382769927845126}  samples= None\n",
      "E=-1.50580782  angles= {c: 0.9570371645257149, b: -0.07087391624842933, a: 0.05382769927845126}  samples= None\n"
     ]
    },
    {
     "data": {
      "image/png": "[encoded data removed]",
      "text/plain": [
       "<Figure size 432x288 with 1 Axes>"
      ]
     },
     "metadata": {
      "needs_background": "light"
     },
     "output_type": "display_data"
    }
   ],
   "source": [
    "# this will get stuck (similar for other gradient based optimizers)\n",
    "zeroes = {'a':0.0, 'b':0.0}\n",
    "shift = 1.0\n",
    "O = tq.Objective.ExpectationValue(U=U, H=H)\n",
    "result = tq.optimizer_scipy.minimize(objective=O, method='TNC', initial_values=zeroes)\n",
    "result.history.plot()"
   ]
  },
  {
   "cell_type": "code",
   "execution_count": 25,
   "metadata": {},
   "outputs": [
    {
     "name": "stdout",
     "output_type": "stream",
     "text": [
      "WARNING: initial_variables given but not complete: Autocomplete with random number\n",
      "Optimizer: <class 'tequila.optimizers.optimizer_scipy.OptimizerSciPy'> \n",
      "backend         : None\n",
      "backend_options : {}\n",
      "samples         : None\n",
      "save_history    : True\n",
      "noise_model     : None\n",
      "\n",
      "Method          : TNC\n",
      "Objective       : 1 expectationvalues\n",
      "bounds          : {a: (-6.183185307179587, -0.1), b: (-6.183185307179587, -0.1), c: (-6.183185307179587, -0.1)}\n",
      "gradient        : 12 expectationvalues\n",
      "\n",
      "active variables : 3\n",
      "\n",
      "Gradient:\n",
      "\n",
      "<tequila.optimizers._scipy_containers._GradContainer object at 0x7f6f8804e128>\n",
      "Hessian:\n",
      "\n",
      "None\n",
      "E=-0.93282629  angles= {c: -0.1, b: -0.1, a: -0.1}  samples= None\n",
      "E=-0.93282632  angles= {c: -0.1, b: -0.1000000260708811, a: -0.1}  samples= None\n",
      "E=-0.93282632  angles= {c: -0.10000000000000009, b: -0.10000002095701488, a: -0.10000000000000009}  samples= None\n",
      "E=-0.85684291  angles= {c: -0.10000000000000009, b: -1.037600964376601, a: -0.10000000000000009}  samples= None\n",
      "E=-1.52410957  angles= {c: -0.10000000000000009, b: -0.5688004821883004, a: -0.10000000000000009}  samples= None\n",
      "E=-1.17486323  angles= {c: -0.10000000000000009, b: -0.33440024109415045, a: -0.10000000000000009}  samples= None\n",
      "E=-1.42102169  angles= {c: -0.10000000000000009, b: -0.4516003616412254, a: -0.10000000000000009}  samples= None\n",
      "E=-1.51110580  angles= {c: -0.10000000000000009, b: -0.5102004219147629, a: -0.10000000000000009}  samples= None\n",
      "E=-1.52912871  angles= {c: -0.10000000000000009, b: -0.5395004520515316, a: -0.10000000000000009}  samples= None\n",
      "E=-1.52912872  angles= {c: -0.10000000000000009, b: -0.5395004701273152, a: -0.10000001865469033}  samples= None\n",
      "E=-1.53564152  angles= {c: -0.10000000000000009, b: -0.5482149622484944, a: -0.1089936065588133}  samples= None\n",
      "E=-1.49819113  angles= {c: -0.10000000000000009, b: -0.5917875132333084, a: -0.1539616393528811}  samples= None\n",
      "E=-1.53431023  angles= {c: -0.10000000000000009, b: -0.5700012377409016, a: -0.1314776229558472}  samples= None\n",
      "E=-1.53853575  angles= {c: -0.10000000000000009, b: -0.559108099994698, a: -0.12023561475733002}  samples= None\n",
      "E=-1.53853576  angles= {c: -0.10000001270613357, b: -0.5591081056765477, a: -0.12023562384028263}  samples= None\n",
      "E=-1.54870527  angles= {c: -0.12322811665387023, b: -0.56949510559937, a: -0.13684018533040687}  samples= None\n",
      "E=-1.43248514  angles= {c: -0.2393686999232214, b: -0.6214301336227308, a: -0.21986303819579245}  samples= None\n",
      "E=-1.53028584  angles= {c: -0.18129840828854604, b: -0.5954626196110504, a: -0.17835161176309944}  samples= None\n",
      "E=-1.54859525  angles= {c: -0.15226326247120792, b: -0.5824788626052104, a: -0.1575958985467536}  samples= None\n",
      "E=-1.55069489  angles= {c: -0.1377456895625393, b: -0.5759869841022902, a: -0.14721804193858024}  samples= None\n",
      "E=-1.55069493  angles= {c: -0.13774574829605868, b: -0.5759869788848877, a: -0.14721808411890658}  samples= None\n",
      "E=+0.98301664  angles= {c: -2.309552330335699, b: -0.38306156661741975, a: -1.7069323793987203}  samples= None\n",
      "E=-0.20115899  angles= {c: -1.223649009949119, b: -0.479524275359855, a: -0.92707521066865}  samples= None\n",
      "E=-1.42432345  angles= {c: -0.6806973497558291, b: -0.5277556297310726, a: -0.5371466263036151}  samples= None\n",
      "E=-1.77883764  angles= {c: -0.4092215196591842, b: -0.5518713069166816, a: -0.34218233412109766}  samples= None\n",
      "E=-1.69579001  angles= {c: -0.5449594347075069, b: -0.5398134683238767, a: -0.4396644802123566}  samples= None\n",
      "E=-1.76489436  angles= {c: -0.4770904771833453, b: -0.5458423876202794, a: -0.3909234071667269}  samples= None\n",
      "E=-1.77869633  angles= {c: -0.44315599842126474, b: -0.5488568472684805, a: -0.3665528706439125}  samples= None\n",
      "E=-1.78041857  angles= {c: -0.4261887590402247, b: -0.5503640770925808, a: -0.3543676023825051}  samples= None\n",
      "E=-1.78041862  angles= {c: -0.426188806421568, b: -0.550364076939827, a: -0.35436763970955143}  samples= None\n",
      "E=-1.80505513  angles= {c: -0.5399378142090785, b: -0.5499973588958604, a: -0.443979165977074}  samples= None\n",
      "E=-1.80675593  angles= {c: -0.4830632866246516, b: -0.5501807179942206, a: -0.39917338417978954}  samples= None\n",
      "E=-1.80981300  angles= {c: -0.5115005504168653, b: -0.5500890384450408, a: -0.421576275078432}  samples= None\n",
      "E=-1.80981356  angles= {c: -0.5115008858896024, b: -0.5500891757324116, a: -0.42157654379227383}  samples= None\n",
      "E=-1.83646037  angles= {c: -0.634585661579762, b: -0.6004598417515106, a: -0.5201675149875684}  samples= None\n",
      "E=-1.90826955  angles= {c: -0.5730431059983139, b: -0.5752744400982759, a: -0.4708718950330004}  samples= None\n",
      "E=-1.90826955  angles= {c: -0.5730431039260093, b: -0.5752744402119254, a: -0.4708718992114873}  samples= None\n",
      "E=-1.65971484  angles= {c: -0.49316151407859676, b: -0.5796553126657811, a: -0.6319409584497069}  samples= None\n",
      "E=-2.07811727  angles= {c: -0.5331023100384553, b: -0.5774648763820283, a: -0.5514064267413539}  samples= None\n",
      "E=-2.06806430  angles= {c: -0.553072708018385, b: -0.5763696582401523, a: -0.5111391608871769}  samples= None\n",
      "E=-2.09243106  angles= {c: -0.5430875090284202, b: -0.5769172673110905, a: -0.531272793814265}  samples= None\n",
      "E=+1.66725121  angles= {c: -0.10000000000000009, b: -1.9010770274734297, a: -0.4612479983338216}  samples= None\n",
      "E=-0.07566986  angles= {c: -0.32154375451421036, b: -1.23899714739226, a: -0.4962603960740428}  samples= None\n",
      "E=-0.22538584  angles= {c: -0.43231563177131527, b: -0.9079572073516751, a: -0.5137665949441539}  samples= None\n",
      "E=-0.58819603  angles= {c: -0.4877015703998677, b: -0.7424372373313828, a: -0.5225196943792096}  samples= None\n",
      "E=-1.68397872  angles= {c: -0.5153945397141442, b: -0.6596772523212366, a: -0.5268962440967369}  samples= None\n",
      "E=-2.02527875  angles= {c: -0.5292410243712822, b: -0.6182972598161633, a: -0.5290845189555009}  samples= None\n",
      "E=-2.09615863  angles= {c: -0.5361642666998514, b: -0.5976072635636269, a: -0.5301786563848827}  samples= None\n",
      "E=-2.10373831  angles= {c: -0.5396258878641356, b: -0.5872622654373587, a: -0.530725725099574}  samples= None\n",
      "E=-2.10373831  angles= {c: -0.5396258876105411, b: -0.5872622654717774, a: -0.5307257248720574}  samples= None\n",
      "E=-2.10998817  angles= {c: -0.5298294545393669, b: -0.5885918745962333, a: -0.5219366954443703}  samples= None\n",
      "E=-2.10757705  angles= {c: -0.48084728791552367, b: -0.5952399203906067, a: -0.47799154716835046}  samples= None\n",
      "E=-2.11618273  angles= {c: -0.5053383712274453, b: -0.5919158974934202, a: -0.49996412130636037}  samples= None\n",
      "E=-1.88950655  angles= {c: -0.35038811241247503, b: -0.10000000000000009, a: -0.6304121119420119}  samples= None\n",
      "E=+0.32011759  angles= {c: -0.4278632418199604, b: -0.3459579487467104, a: -0.5651881166241863}  samples= None\n",
      "E=-1.00234720  angles= {c: -0.4666008065237026, b: -0.4689369231200651, a: -0.5325761189652733}  samples= None\n",
      "E=-1.81821211  angles= {c: -0.4859695888755744, b: -0.5304264103067431, a: -0.5162701201358169}  samples= None\n",
      "E=-2.05128526  angles= {c: -0.4956539800515096, b: -0.5611711539000814, a: -0.5081171207210886}  samples= None\n",
      "E=-2.10590221  angles= {c: -0.5004961756394777, b: -0.576543525696751, a: -0.5040406210137243}  samples= None\n",
      "E=-2.11663668  angles= {c: -0.5029172734334613, b: -0.5842297115950856, a: -0.5020023711600428}  samples= None\n",
      "E=-2.11780892  angles= {c: -0.5041278223304535, b: -0.5880728045442529, a: -0.5009832462332016}  samples= None\n",
      "E=-2.11780892  angles= {c: -0.5041278223304535, b: -0.5880728045442529, a: -0.5009832462332016}  samples= None\n"
     ]
    },
    {
     "data": {
      "image/png": "[encoded data removed]",
      "text/plain": [
       "<Figure size 432x288 with 1 Axes>"
      ]
     },
     "metadata": {
      "needs_background": "light"
     },
     "output_type": "display_data"
    }
   ],
   "source": [
    "# bounding the variables to keep it away from the stationary point which occurs at 0 and is periodic in 2pi\n",
    "# using negative values since that converges faster\n",
    "zeroes = {'a':0.0, 'b':0.0}\n",
    "shift = 1.0\n",
    "bounds = {'a':(-2*numpy.pi+0.1, -0.1), 'b':(-2*numpy.pi+0.1, -0.1), 'c':(-2*numpy.pi+0.1, -0.1) }\n",
    "O = tq.Objective.ExpectationValue(U=U, H=H)\n",
    "result = tq.optimizer_scipy.minimize(objective=O, method='TNC', initial_values=zeroes, method_bounds=bounds)\n",
    "result.history.plot()"
   ]
  },
  {
   "cell_type": "code",
   "execution_count": 26,
   "metadata": {},
   "outputs": [
    {
     "data": {
      "image/png": "[encoded data removed]",
      "text/plain": [
       "<Figure size 432x288 with 1 Axes>"
      ]
     },
     "metadata": {
      "needs_background": "light"
     },
     "output_type": "display_data"
    }
   ],
   "source": [
    "result.history.plot('angles')"
   ]
  }
 ],
 "metadata": {
  "kernelspec": {
   "display_name": "tequila-3.6",
   "language": "python",
   "name": "tequila-3.6"
  },
  "language_info": {
   "codemirror_mode": {
    "name": "ipython",
    "version": 3
   },
   "file_extension": ".py",
   "mimetype": "text/x-python",
   "name": "python",
   "nbconvert_exporter": "python",
   "pygments_lexer": "ipython3",
   "version": "3.6.9"
  }
 },
 "nbformat": 4,
 "nbformat_minor": 2
}
