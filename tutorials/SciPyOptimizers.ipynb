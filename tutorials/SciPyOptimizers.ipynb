{
 "cells": [
  {
   "cell_type": "markdown",
   "metadata": {},
   "source": [
    "# Tequila Tutorial: \n",
    "## Handling Optimizers, Initializing parametrized circuits"
   ]
  },
  {
   "cell_type": "code",
<<<<<<< HEAD
   "execution_count": 23,
=======
   "execution_count": 2,
>>>>>>> devel
   "metadata": {},
   "outputs": [],
   "source": [
    "# Import everything we need here\n",
    "import tequila as tq\n",
    "numpy = tq.numpy"
   ]
  },
  {
   "cell_type": "markdown",
   "metadata": {},
   "source": [
    "In the following example we will optimize a simple two qubit VQE with an Ansatz that is parametrized by two parameters.\n",
    "The Hamiltonian is also very simple and defined in the box below.\n",
    "$$ H = \\sigma_x(1) + c \\sigma_z(1) - \\sigma_z(0)$$\n",
    "\n",
    "<br>\n",
    "The tutorial is \\textbf{not} a guideline to optimization strategies but only intends to show tequilas functionality"
   ]
  },
  {
   "cell_type": "code",
<<<<<<< HEAD
   "execution_count": 24,
=======
   "execution_count": 12,
>>>>>>> devel
   "metadata": {},
   "outputs": [],
   "source": [
    "c = 0.5\n",
    "H = tq.paulis.X(1) + c*tq.paulis.Z(1) - tq.paulis.Z(0)"
   ]
  },
  {
   "cell_type": "markdown",
   "metadata": {},
   "source": [
    "Lets take a look at the spectrum of this very simple Hamiltonian  \n",
    "Keep in mind: Tequila is not a numerical linear algebra package, so better not try to diagonalize Hamiltonians  \n",
    "we however added this feature for user convenience in examples  \n",
    "In the future we might have interfaces to more powerfull numerical packages ... feel free to contribute :-) "
   ]
  },
  {
   "cell_type": "code",
<<<<<<< HEAD
   "execution_count": 25,
=======
   "execution_count": 13,
>>>>>>> devel
   "metadata": {},
   "outputs": [
    {
     "data": {
      "text/plain": [
       "DeviceArray([-2.118034  , -0.11803401,  0.11803401,  2.118034  ], dtype=float32)"
      ]
     },
<<<<<<< HEAD
     "execution_count": 25,
=======
     "execution_count": 13,
>>>>>>> devel
     "metadata": {},
     "output_type": "execute_result"
    }
   ],
   "source": [
    "matrix = H.to_matrix()\n",
    "e, v = numpy.linalg.eigh(matrix)\n",
    "e"
   ]
  },
  {
   "cell_type": "markdown",
   "metadata": {},
   "source": [
    "And here we initialize our Ansatz circuit which is parametrized by a and b.<br>\n",
    "\n",
    "We show to ways to initialize Variables:\n",
    "Variable a is initialized with a convenience string based initialization <br>\n",
    "Variable b is initialized as Variable which allows you to conveniently transforming it when initializing gates. Here we do a simple rescaling as an example <br>\n",
    "Note that you don't need strings to name variables but can use any hashable non-numeric type (meaning anything that is not interpreted as number). \n",
    "\n",
    "For example: tq.Variable(name=(0,1,2,3)) will also work\n",
    "\n",
    "\n",
    "The Ansatz has no specific meaning and it is more to show different ways how to deal with variables.\n",
    "See for instance that you can scale them and use the same variable in multiple gates. (See the other tutorials for more examples)"
   ]
  },
  {
   "cell_type": "code",
<<<<<<< HEAD
   "execution_count": 26,
=======
   "execution_count": 27,
>>>>>>> devel
   "metadata": {},
   "outputs": [],
   "source": [
    "a = tq.Variable(name=\"a\")\n",
    "b = tq.Variable(name=\"b\")\n",
    "c = tq.Variable(name=\"c\")\n",
    "\n",
    "a = 2.0*a*tq.numpy.pi # optimize a in units of 2pi\n",
    "b = 2.0*b*tq.numpy.pi # optimize b in units of 2pi\n",
    "c = 2.0*c*tq.numpy.pi # optimize c in units of 2pi\n",
    "\n",
    "U = tq.gates.Ry(target=0, angle=a)\n",
    "U += tq.gates.Ry(target=1, control=0, angle=b)\n",
    "U += tq.gates.X(target=1)\n",
    "U += tq.gates.Ry(target=1, control=0, angle=-b)\n",
    "U += tq.gates.Ry(target=0,angle=c)\n"
   ]
  },
  {
   "cell_type": "code",
<<<<<<< HEAD
   "execution_count": 27,
=======
   "execution_count": 28,
>>>>>>> devel
   "metadata": {},
   "outputs": [
    {
     "name": "stdout",
     "output_type": "stream",
     "text": [
      "circuit: \n",
      "Ry(target=(0,), parameter=Objective with 0 expectation values\n",
      "Objective = f(a)\n",
      "variables = [a])\n",
      "Ry(target=(1,), control=(0,), parameter=Objective with 0 expectation values\n",
      "Objective = f(b)\n",
      "variables = [b])\n",
      "X(target=(1,))\n",
      "Ry(target=(1,), control=(0,), parameter=Objective with 0 expectation values\n",
      "Objective = f(b)\n",
      "variables = [b])\n",
      "Ry(target=(0,), parameter=Objective with 0 expectation values\n",
      "Objective = f(c)\n",
      "variables = [c])\n",
      "\n"
     ]
    }
   ],
   "source": [
    "print(U)"
   ]
  },
  {
   "cell_type": "code",
<<<<<<< HEAD
   "execution_count": 28,
   "metadata": {},
   "outputs": [
    {
     "data": {
      "image/png": "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\n",
      "text/plain": [
       "<wand.image.Image: 51fd8bd 'PDF' (474x42)>"
      ]
     },
     "execution_count": 28,
     "metadata": {},
     "output_type": "execute_result"
=======
   "execution_count": 29,
   "metadata": {},
   "outputs": [
    {
     "name": "stdout",
     "output_type": "stream",
     "text": [
      "0: ───Ry(0.0π)───@──────────────@──────────Ry(2.0π)───\n",
      "                 │              │\n",
      "1: ──────────────Ry(0.0π)───X───Ry(0.0π)──────────────\n"
     ]
>>>>>>> devel
    }
   ],
   "source": [
    "# nice output (depends on which backends you have installed)\n",
    "tq.draw(U)"
   ]
  },
  {
   "cell_type": "markdown",
   "metadata": {},
   "source": [
    "In the next box we form an objective out of our Hamiltonian and our Ansatz and pass it down to the optimizer.\n",
    "In the following boxes we show how the results of the optimizer can be plotted\n",
    "\n",
    "See further below for some small exercises and additional information \n",
    "\n",
    "First lets see how objectives are created and simulated"
   ]
  },
  {
   "cell_type": "code",
<<<<<<< HEAD
   "execution_count": 29,
=======
   "execution_count": 30,
>>>>>>> devel
   "metadata": {},
   "outputs": [
    {
     "name": "stdout",
     "output_type": "stream",
     "text": [
      "energy : -6.556708598282057e-08\n",
      "wfn    : -0.5000|00> +0.5000|10> +0.5000|01> +0.5000|11> \n",
      "squared: 4.2990428789557375e-15\n"
     ]
    }
   ],
   "source": [
    "O = tq.Objective.ExpectationValue(U=U, H=H)\n",
    "variables = {\"a\":0.25, \"b\":0.25, \"c\":0.25}\n",
    "energy = tq.simulate(O, variables=variables)\n",
    "wfn = tq.simulate(U, variables=variables)\n",
    "evaluate_squared = tq.simulate(O**2, variables=variables)\n",
    "print(\"energy : {}\".format(energy))\n",
    "print(\"wfn    : {}\".format(wfn))\n",
    "print(\"squared: {}\".format(evaluate_squared))"
   ]
  },
  {
   "cell_type": "markdown",
   "metadata": {},
   "source": [
    "Now the objective can be optimized \n",
    "\n",
    "We will also set the initial values of the variables that can be passed to the optimizer.  \n",
    "Values of variables are passed as dictionaries where the keys are tequila variables and the values are floats.  "
   ]
  },
  {
   "cell_type": "code",
<<<<<<< HEAD
   "execution_count": 30,
   "metadata": {},
   "outputs": [
    {
     "data": {
      "text/plain": [
       "-0.9990441765535614"
      ]
     },
     "execution_count": 30,
     "metadata": {},
     "output_type": "execute_result"
=======
   "execution_count": 34,
   "metadata": {},
   "outputs": [
    {
     "name": "stdout",
     "output_type": "stream",
     "text": [
      "ObjectiveType is <class 'tequila.objective.objective.Objective'>\n",
      "Starting BFGS optimization\n",
      "use_gradient : True\n",
      "use_hessian  : False\n",
      "Objective: 1 expectationvalues\n",
      "Gradients: 12 expectationvalues (min=2, max=8)\n",
      "\n",
      "backend: <class 'tequila.simulators.simulator_qulacs.BackendExpectationValueQulacs'>\n",
      "samples: None\n",
      "3 active variables\n",
      "E= -0.6677023768424988  angles= {a: 0.3, c: 0.3, b: 0.3}  samples= None\n",
      "E= -0.8664148449897766  angles= {a: 0.32290425519998417, c: 0.3886562339058441, b: 1.3058406768884259}  samples= None\n",
      "E= -0.35434409976005554  angles= {a: 0.41452127599992095, c: 0.7432811695292205, b: 5.3292033844421285}  samples= None\n",
      "E= -0.8048092126846313  angles= {a: 0.34545659521768646, c: 0.4759502984487035, b: 2.296226993787273}  samples= None\n",
      "E= -1.0825814008712769  angles= {a: 0.35552766918242806, c: 0.4726846615631134, b: 2.316243767266607}  samples= None\n",
      "E= -1.9243844747543335  angles= {a: 0.3958119650413944, c: 0.4596221140207529, b: 2.396310861183945}  samples= None\n",
      "E= 0.06258417665958405  angles= {a: 0.8541594710840736, c: 0.23628931720590574, b: 2.4354660560840804}  samples= None\n",
      "E= -2.059643268585205  angles= {a: 0.44198771303416723, c: 0.4371226811487799, b: 2.4002555110150894}  samples= None\n",
      "E= -1.8174768686294556  angles= {a: 0.6249455977453896, c: 0.6644323193476007, b: 2.3892573511090696}  samples= None\n",
      "E= -2.0970754623413086  angles= {a: 0.4845773677606281, c: 0.4900367111845168, b: 2.3976953161715433}  samples= None\n",
      "E= -2.10044527053833  angles= {a: 0.4955475657110711, c: 0.4958871002014992, b: 2.4259504946577657}  samples= None\n",
      "E= -2.1168911457061768  angles= {a: 0.4903158773773612, c: 0.49309704918272285, b: 2.412475597639404}  samples= None\n",
      "E= -2.1180248260498047  angles= {a: 0.5004529910085411, c: 0.4998681248177429, b: 2.4117683299756165}  samples= None\n",
      "E= -2.1180338859558105  angles= {a: 0.499994265347834, c: 0.5000016401084967, b: 2.4118917470990233}  samples= None\n",
      "Optimization terminated successfully.\n",
      "         Current function value: -2.118034\n",
      "         Iterations: 7\n",
      "         Function evaluations: 14\n",
      "         Gradient evaluations: 14\n"
     ]
>>>>>>> devel
    }
   ],
   "source": [
    "initial_values = {'a':0.3, 'b':0.3, 'c':0.3}\n",
    "O = tq.Objective.ExpectationValue(U=U, H=H)\n",
    "result = tq.optimizer_scipy.minimize(objective=O, method=\"bfgs\", initial_values=initial_values, tol=1.e-3, method_options={\"gtol\":1.e-3})"
   ]
  },
  {
   "cell_type": "code",
<<<<<<< HEAD
   "execution_count": 31,
=======
   "execution_count": 35,
>>>>>>> devel
   "metadata": {},
   "outputs": [
    {
     "data": {
      "text/plain": [
<<<<<<< HEAD
       "{'a': -3.187238897204365, 'b': -1.5412911662416287}"
      ]
     },
     "execution_count": 31,
=======
       "-2.1180338859558105"
      ]
     },
     "execution_count": 35,
>>>>>>> devel
     "metadata": {},
     "output_type": "execute_result"
    }
   ],
   "source": [
    "# final energy\n",
    "result.energy"
   ]
  },
  {
   "cell_type": "markdown",
   "metadata": {},
   "source": [
    "Plot out the History:\n",
    "Note, that we choose bad initial points since they are close to the maximum"
   ]
  },
  {
   "cell_type": "code",
<<<<<<< HEAD
   "execution_count": 32,
   "metadata": {},
=======
   "execution_count": 36,
   "metadata": {
    "scrolled": true
   },
>>>>>>> devel
   "outputs": [
    {
     "data": {
      "image/png": "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\n",
      "text/plain": [
       "<Figure size 432x288 with 1 Axes>"
      ]
     },
     "metadata": {
      "needs_background": "light"
     },
     "output_type": "display_data"
    }
   ],
   "source": [
    "result.history.plot('energies')"
   ]
  },
  {
   "cell_type": "code",
<<<<<<< HEAD
   "execution_count": 33,
=======
   "execution_count": 37,
>>>>>>> devel
   "metadata": {
    "scrolled": true
   },
   "outputs": [
    {
     "data": {
      "image/png": "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\n",
      "text/plain": [
       "<Figure size 432x288 with 1 Axes>"
      ]
     },
     "metadata": {
      "needs_background": "light"
     },
     "output_type": "display_data"
    }
   ],
   "source": [
    "result.history.plot(property='angles', key=[\"a\", \"b\"])"
   ]
  },
  {
   "cell_type": "code",
<<<<<<< HEAD
   "execution_count": 34,
=======
   "execution_count": 38,
>>>>>>> devel
   "metadata": {},
   "outputs": [
    {
     "data": {
      "image/png": "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\n",
      "text/plain": [
       "<Figure size 432x288 with 1 Axes>"
      ]
     },
<<<<<<< HEAD
     "execution_count": 34,
     "metadata": {},
     "output_type": "execute_result"
=======
     "metadata": {
      "needs_background": "light"
     },
     "output_type": "display_data"
    },
    {
     "data": {
      "image/png": "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\n",
      "text/plain": [
       "<Figure size 432x288 with 1 Axes>"
      ]
     },
     "metadata": {
      "needs_background": "light"
     },
     "output_type": "display_data"
>>>>>>> devel
    }
   ],
   "source": [
    "# Convenience in the history plot\n",
    "result.history.plot(property='angles', key=\"a\")\n",
    "result.history.plot(property=['angles', 'gradients'], key=[\"c\"])"
   ]
  },
  {
   "cell_type": "markdown",
   "metadata": {},
   "source": [
    "# FAQ\n",
    "\n",
<<<<<<< HEAD
    "You can call the 'update_parameters' function and pass down a dictionary with all angles you want to change"
   ]
  },
  {
   "cell_type": "code",
   "execution_count": 35,
   "metadata": {},
   "outputs": [
    {
     "data": {
      "text/plain": [
       "{'a': 0.0, 'b': 0.0}"
      ]
     },
     "execution_count": 35,
     "metadata": {},
     "output_type": "execute_result"
    }
   ],
   "source": [
    "old_values = U.extract_variables()\n",
    "U.update_variables(variables={'a': 0.0})\n",
    "U.extract_variables()"
=======
    "## 1: How can I extract the parameters from a given circuit?\n",
    "\n",
    "Call the 'extract_parameters' attribute and get back a list of all Variables in the circuit"
>>>>>>> devel
   ]
  },
  {
   "cell_type": "code",
<<<<<<< HEAD
   "execution_count": 36,
=======
   "execution_count": 39,
>>>>>>> devel
   "metadata": {},
   "outputs": [
    {
     "data": {
      "text/plain": [
       "[a, c, b]"
      ]
     },
<<<<<<< HEAD
     "execution_count": 36,
=======
     "execution_count": 39,
>>>>>>> devel
     "metadata": {},
     "output_type": "execute_result"
    }
   ],
   "source": [
    "angles = U.extract_variables()\n",
    "angles"
   ]
  },
  {
   "cell_type": "markdown",
   "metadata": {},
   "source": [
    "## 2: How can I do measurement based simulation?\n",
    "Pass down the 'samples' keyword to simulate finite samples\n",
    "See the later exercises to play around with sample number and optimization methods.\n",
    "\n",
    "Feel free to play around with the number of samples \n",
    "Don't excpect miracles from the optimizer, you might need to hit return a few times or increase the number of samples.<br>Note that stochastic gradients are not yet supported\n",
    "<br>Note also that we did not set the initial parameters, so we will start with all parameters set to 0 which is a stationary point in this example (full wavefunction simulation would get stuck, see also the exercise below).\n",
    "\n",
    "Sampling based simulation needs improvement. Don't expect too much, but feel free to contribute\n",
    "\n",
    "Lets only optimize veriable b and set the other to the correct value to also show how that works"
   ]
  },
  {
   "cell_type": "code",
<<<<<<< HEAD
   "execution_count": 37,
=======
   "execution_count": 41,
>>>>>>> devel
   "metadata": {},
   "outputs": [
    {
     "name": "stdout",
     "output_type": "stream",
     "text": [
      "ObjectiveType is <class 'tequila.objective.objective.Objective'>\n",
      "Starting BFGS optimization\n",
      "use_gradient : True\n",
      "use_hessian  : False\n",
      "Objective: 1 expectationvalues\n",
      "Gradients: 8 expectationvalues (min=8, max=8)\n",
      "\n",
      "backend: <class 'tequila.simulators.simulator_qiskit.BackendExpectationValueQiskit'>\n",
      "samples: 100\n",
      "1 active variables\n",
      "E= -0.6100000143051147  angles= {b: 0.3, a: 0.3, c: 0.3}  samples= 100\n",
      "E= -0.7599999904632568  angles= {b: 1.31, a: 0.3, c: 0.3}  samples= 100\n",
      "E= -0.44999998807907104  angles= {b: 5.3500000000000005, a: 0.3, c: 0.3}  samples= 100\n",
      "E= -0.46000000834465027  angles= {b: 2.1321371079281697, a: 0.3, c: 0.3}  samples= 100\n",
      "E= -0.8299999833106995  angles= {b: 1.4766517065368223, a: 0.3, c: 0.3}  samples= 100\n",
      "E= -0.800000011920929  angles= {b: 1.6102138544087174, a: 0.3, c: 0.3}  samples= 100\n",
      "E= -0.7099999785423279  angles= {b: 1.504763958416585, a: 0.3, c: 0.3}  samples= 100\n",
      "E= -0.8299999833106995  angles= {b: 1.480892812162608, a: 0.3, c: 0.3}  samples= 100\n",
      "E= -0.800000011920929  angles= {b: 1.4845262680828428, a: 0.3, c: 0.3}  samples= 100\n",
      "E= -0.699999988079071  angles= {b: 1.4813603064315304, a: 0.3, c: 0.3}  samples= 100\n",
      "E= -0.7699999809265137  angles= {b: 1.4808971473692814, a: 0.3, c: 0.3}  samples= 100\n",
      "E= -0.49000000953674316  angles= {b: 1.4808928130064711, a: 0.3, c: 0.3}  samples= 100\n",
      "E= -0.9399999976158142  angles= {b: 1.480892812162608, a: 0.3, c: 0.3}  samples= 100\n",
      "E= -0.8799999952316284  angles= {b: 1.31, a: 0.3, c: 0.3}  samples= 100\n",
      "E= -0.6899999976158142  angles= {b: 2.32, a: 0.3, c: 0.3}  samples= 100\n",
      "E= -0.6399999856948853  angles= {b: 4.34, a: 0.3, c: 0.3}  samples= 100\n",
      "E= -0.8999999761581421  angles= {b: 3.328269256533526, a: 0.3, c: 0.3}  samples= 100\n",
      "E= -0.5699999928474426  angles= {b: 3.90671869153301, a: 0.3, c: 0.3}  samples= 100\n",
      "E= -0.6800000071525574  angles= {b: 3.5513531061581167, a: 0.3, c: 0.3}  samples= 100\n",
      "E= -0.6499999761581421  angles= {b: 3.41885807108894, a: 0.3, c: 0.3}  samples= 100\n",
      "E= -0.699999988079071  angles= {b: 3.359806667768627, a: 0.3, c: 0.3}  samples= 100\n",
      "E= -0.4399999976158142  angles= {b: 3.3372999837658215, a: 0.3, c: 0.3}  samples= 100\n",
      "E= -0.5899999737739563  angles= {b: 3.3292739306647396, a: 0.3, c: 0.3}  samples= 100\n",
      "E= -0.5600000023841858  angles= {b: 3.328771593599133, a: 0.3, c: 0.3}  samples= 100\n",
      "E= -0.5299999713897705  angles= {b: 3.3285204250663294, a: 0.3, c: 0.3}  samples= 100\n",
      "E= -0.7300000190734863  angles= {b: 3.328394840799928, a: 0.3, c: 0.3}  samples= 100\n",
      "E= -0.7099999785423279  angles= {b: 3.328332048666727, a: 0.3, c: 0.3}  samples= 100\n",
      "Warning: Desired error not necessarily achieved due to precision loss.\n",
      "         Current function value: -0.610000\n",
      "         Iterations: 0\n",
      "         Function evaluations: 27\n",
      "         Gradient evaluations: 16\n"
     ]
    },
    {
     "data": {
<<<<<<< HEAD
      "image/png": "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\n",
=======
      "image/png": "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\n",
>>>>>>> devel
      "text/plain": [
       "<Figure size 432x288 with 1 Axes>"
      ]
     },
     "metadata": {
      "needs_background": "light"
     },
     "output_type": "display_data"
    },
    {
     "name": "stdout",
     "output_type": "stream",
     "text": [
      "result =  -0.6100000143051147\n"
     ]
    }
   ],
   "source": [
    "O = tq.Objective.ExpectationValue(U=U, H=H)\n",
    "initial_values[\"a\"] = 0.3\n",
    "initial_values[\"c\"] = 0.3\n",
    "initial_values[\"b\"] = 0.3\n",
    "result = tq.optimizer_scipy.minimize(objective=O, variables=[\"b\"], initial_values = initial_values, tol=1.e-3, samples=100, method=\"bfgs\")\n",
    "result.history.plot('energies')\n",
    "print(\"result = \", result.energy)"
   ]
  },
  {
   "cell_type": "markdown",
   "metadata": {},
   "source": [
    "## 3: Which Simulator was used and how can I choose the simulator?\n",
    "\n",
    "You can pass down the simulator to the optimizer by the simulator keyword (see below)\n",
    "If no specific simulator was chosen by you that means the simulator is automatically picked. Which simulator is picked depends on what simulators you have installed and if you demanded a full wavefunction to be simulated or not.\n",
    "\n",
    "You can check which simulators you have installed with the following"
   ]
  },
  {
   "cell_type": "code",
<<<<<<< HEAD
   "execution_count": 38,
=======
   "execution_count": 42,
>>>>>>> devel
   "metadata": {},
   "outputs": [
    {
     "name": "stdout",
     "output_type": "stream",
     "text": [
      "Supported Backends:\n",
      "\n",
      "qulacs\n",
      "qiskit\n",
      "cirq\n",
      "pyquil\n",
      "symbolic\n",
      "Installed Wavefunction Simulators:\n",
      "\n",
      "qulacs\n",
      "pyquil\n",
      "qiskit\n",
      "cirq\n",
      "symbolic\n",
      "\n",
      "Installed Wavefunction Samplers:\n",
      "\n",
      "qiskit\n",
      "cirq\n",
      "None\n"
     ]
    }
   ],
   "source": [
    "print(tq.simulators.show_available_simulators())"
   ]
  },
  {
   "cell_type": "markdown",
   "metadata": {},
   "source": [
    "Here is how you would initialize a simulator and pass it down the optimizer.\n",
    "The if statement is just to prevent your Ipython kernel from crashing when you have not installed the simulator\n",
    "Feel free to change it to something you have installed"
   ]
  },
  {
   "cell_type": "code",
<<<<<<< HEAD
   "execution_count": 39,
=======
   "execution_count": 43,
>>>>>>> devel
   "metadata": {},
   "outputs": [
    {
     "name": "stdout",
     "output_type": "stream",
     "text": [
      "ObjectiveType is <class 'tequila.objective.objective.Objective'>\n",
      "Starting BFGS optimization\n",
      "use_gradient : True\n",
      "use_hessian  : False\n",
      "Objective: 1 expectationvalues\n",
      "Gradients: 12 expectationvalues (min=2, max=8)\n",
      "\n",
      "backend: <class 'tequila.simulators.simulator_qulacs.BackendExpectationValueQulacs'>\n",
      "samples: None\n",
      "3 active variables\n",
      "E= -0.6677023768424988  angles= {a: 0.3, c: 0.3, b: 0.3}  samples= None\n",
      "E= -0.8664148449897766  angles= {a: 0.32290425519998417, c: 0.3886562339058441, b: 1.3058406768884259}  samples= None\n",
      "E= -0.35434409976005554  angles= {a: 0.41452127599992095, c: 0.7432811695292205, b: 5.3292033844421285}  samples= None\n",
      "E= -0.8048092126846313  angles= {a: 0.34545659521768646, c: 0.4759502984487035, b: 2.296226993787273}  samples= None\n",
      "E= -1.0825814008712769  angles= {a: 0.35552766918242806, c: 0.4726846615631134, b: 2.316243767266607}  samples= None\n",
      "E= -1.9243844747543335  angles= {a: 0.3958119650413944, c: 0.4596221140207529, b: 2.396310861183945}  samples= None\n",
      "E= 0.06258417665958405  angles= {a: 0.8541594710840736, c: 0.23628931720590574, b: 2.4354660560840804}  samples= None\n",
      "E= -2.059643268585205  angles= {a: 0.44198771303416723, c: 0.4371226811487799, b: 2.4002555110150894}  samples= None\n",
      "E= -1.8174768686294556  angles= {a: 0.6249455977453896, c: 0.6644323193476007, b: 2.3892573511090696}  samples= None\n",
      "E= -2.0970754623413086  angles= {a: 0.4845773677606281, c: 0.4900367111845168, b: 2.3976953161715433}  samples= None\n",
      "E= -2.10044527053833  angles= {a: 0.4955475657110711, c: 0.4958871002014992, b: 2.4259504946577657}  samples= None\n",
      "E= -2.1168911457061768  angles= {a: 0.4903158773773612, c: 0.49309704918272285, b: 2.412475597639404}  samples= None\n",
      "E= -2.1180248260498047  angles= {a: 0.5004529910085411, c: 0.4998681248177429, b: 2.4117683299756165}  samples= None\n",
      "E= -2.1180338859558105  angles= {a: 0.499994265347834, c: 0.5000016401084967, b: 2.4118917470990233}  samples= None\n",
      "Optimization terminated successfully.\n",
      "         Current function value: -2.118034\n",
      "         Iterations: 7\n",
      "         Function evaluations: 14\n",
      "         Gradient evaluations: 14\n"
     ]
    },
    {
     "data": {
      "image/png": "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\n",
      "text/plain": [
       "<Figure size 432x288 with 1 Axes>"
      ]
     },
     "metadata": {
      "needs_background": "light"
     },
     "output_type": "display_data"
    }
   ],
   "source": [
    "if tq.simulators.HAS_QISKIT:\n",
    "    O = tq.Objective.ExpectationValue(U=U, H=H)\n",
    "    result = tq.optimizer_scipy.minimize(objective=O,\n",
    "                                       initial_values=initial_values,\n",
    "                                       backend=\"qiskit\")\n",
    "    result.history.plot()"
   ]
  },
  {
   "cell_type": "code",
<<<<<<< HEAD
   "execution_count": 40,
=======
   "execution_count": 196,
>>>>>>> devel
   "metadata": {},
   "outputs": [
    {
     "data": {
      "image/png": "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\n",
      "text/plain": [
       "<Figure size 432x288 with 1 Axes>"
      ]
     },
     "metadata": {
      "needs_background": "light"
     },
     "output_type": "display_data"
    }
   ],
   "source": [
    "result.history.plot('angles')"
   ]
  },
  {
   "cell_type": "markdown",
   "metadata": {},
   "source": [
    "## 4: Can I use numerical evaluation of gradients\n",
    "\n",
    "Yes you can, by passing down `use_gradient = False` or `use_gradient = \"2-point\"`.  \n",
    "`use_gradient = '3-point' or 'cs' ` are also possible for scipy methods which support them.  \n",
    "Check out the documentation of scipy.optimize.minimize for that.  \n",
    "You can also pass down further options (again, check scipy documentation) for different methods.  \n",
    "An important additional option is `eps` which defines the stepsizes for the '2-point' method."
   ]
  },
  {
   "cell_type": "code",
   "execution_count": 44,
   "metadata": {},
   "outputs": [
    {
     "name": "stdout",
     "output_type": "stream",
     "text": [
      "ObjectiveType is <class 'tequila.objective.objective.Objective'>\n",
      "Starting BFGS optimization\n",
      "use_gradient : 2-point\n",
      "use_hessian  : False\n",
      "Objective: 1 expectationvalues\n",
      "\n",
      "backend: <class 'tequila.simulators.simulator_qulacs.BackendExpectationValueQulacs'>\n",
      "samples: None\n",
      "3 active variables\n",
      "E= -0.6677023768424988  angles= {a: 0.3, c: 0.3, b: 0.3}  samples= None\n",
      "E= -0.668025553226471  angles= {a: 0.301, c: 0.3, b: 0.3}  samples= None\n",
      "E= -0.6689708828926086  angles= {a: 0.3, c: 0.301, b: 0.3}  samples= None\n",
      "E= -0.6821630597114563  angles= {a: 0.3, c: 0.3, b: 0.301}  samples= None\n",
      "E= -0.6677023768424988  angles= {a: 0.3, c: 0.3, b: 0.3}  samples= None\n",
      "E= -0.865615725517273  angles= {a: 0.32248019323369387, c: 0.38823745341192795, b: 1.305887067581423}  samples= None\n",
      "E= -0.865615725517273  angles= {a: 0.32248019323369387, c: 0.38823745341192795, b: 1.305887067581423}  samples= None\n",
      "E= -0.868634819984436  angles= {a: 0.32348019323369387, c: 0.38823745341192795, b: 1.305887067581423}  samples= None\n",
      "E= -0.8659083843231201  angles= {a: 0.32248019323369387, c: 0.38923745341192795, b: 1.305887067581423}  samples= None\n",
      "E= -0.8788459300994873  angles= {a: 0.32248019323369387, c: 0.38823745341192795, b: 1.3068870675814228}  samples= None\n",
      "E= -0.36167627573013306  angles= {a: 0.41240096616846944, c: 0.7411872670596398, b: 5.329435337907114}  samples= None\n",
      "E= -0.36167627573013306  angles= {a: 0.41240096616846944, c: 0.7411872670596398, b: 5.329435337907114}  samples= None\n",
      "E= -0.36453530192375183  angles= {a: 0.41340096616846944, c: 0.7411872670596398, b: 5.329435337907114}  samples= None\n",
      "E= -0.35624656081199646  angles= {a: 0.41240096616846944, c: 0.7421872670596398, b: 5.329435337907114}  samples= None\n",
      "E= -0.3699546158313751  angles= {a: 0.41240096616846944, c: 0.7411872670596398, b: 5.330435337907114}  samples= None\n",
      "E= -0.857998788356781  angles= {a: 0.34472033581967326, c: 0.4755326792538337, b: 2.3010329533771543}  samples= None\n",
      "E= -0.857998788356781  angles= {a: 0.34472033581967326, c: 0.4755326792538337, b: 2.3010329533771543}  samples= None\n",
      "E= -0.8621735572814941  angles= {a: 0.34572033581967326, c: 0.4755326792538337, b: 2.3010329533771543}  samples= None\n",
      "E= -0.8569059371948242  angles= {a: 0.34472033581967326, c: 0.4765326792538337, b: 2.3010329533771543}  samples= None\n",
      "E= -0.8695315718650818  angles= {a: 0.34472033581967326, c: 0.4755326792538337, b: 2.302032953377154}  samples= None\n",
      "E= -1.238830327987671  angles= {a: 0.3586968829817437, c: 0.47079817190907003, b: 2.328855879595086}  samples= None\n",
      "E= -1.238830327987671  angles= {a: 0.3586968829817437, c: 0.47079817190907003, b: 2.328855879595086}  samples= None\n",
      "E= -1.2434170246124268  angles= {a: 0.3596968829817437, c: 0.47079817190907003, b: 2.328855879595086}  samples= None\n",
      "E= -1.2372618913650513  angles= {a: 0.3586968829817437, c: 0.47179817190907003, b: 2.328855879595086}  samples= None\n",
      "E= -1.2494759559631348  angles= {a: 0.3586968829817437, c: 0.47079817190907003, b: 2.329855879595086}  samples= None\n",
      "E= -1.9718683958053589  angles= {a: 0.4146030716300253, c: 0.45186014253001533, b: 2.4401475844668132}  samples= None\n",
      "E= -1.9718683958053589  angles= {a: 0.4146030716300253, c: 0.45186014253001533, b: 2.4401475844668132}  samples= None\n",
      "E= -1.9742951393127441  angles= {a: 0.4156030716300253, c: 0.45186014253001533, b: 2.4401475844668132}  samples= None\n",
      "E= -1.9706062078475952  angles= {a: 0.4146030716300253, c: 0.45286014253001533, b: 2.4401475844668132}  samples= None\n",
      "E= -1.9675997495651245  angles= {a: 0.4146030716300253, c: 0.45186014253001533, b: 2.441147584466813}  samples= None\n",
      "E= -0.13189001381397247  angles= {a: 1.1470293954544493, c: 0.43515330909020156, b: 2.3343719845046413}  samples= None\n",
      "E= -0.13189001381397247  angles= {a: 1.1470293954544493, c: 0.43515330909020156, b: 2.3343719845046413}  samples= None\n",
      "E= -0.13758210837841034  angles= {a: 1.1480293954544492, c: 0.43515330909020156, b: 2.3343719845046413}  samples= None\n",
      "E= -0.12806947529315948  angles= {a: 1.1470293954544493, c: 0.43615330909020156, b: 2.3343719845046413}  samples= None\n",
      "E= -0.13589897751808167  angles= {a: 1.1470293954544493, c: 0.43515330909020156, b: 2.3353719845046412}  samples= None\n",
      "E= -2.0636234283447266  angles= {a: 0.4804392989944782, c: 0.45035840119562376, b: 2.4306396432279476}  samples= None\n",
      "E= -2.0636234283447266  angles= {a: 0.4804392989944782, c: 0.45035840119562376, b: 2.4306396432279476}  samples= None\n",
      "E= -2.0628228187561035  angles= {a: 0.4814392989944782, c: 0.45035840119562376, b: 2.4306396432279476}  samples= None\n",
      "E= -2.0648531913757324  angles= {a: 0.4804392989944782, c: 0.45135840119562376, b: 2.4306396432279476}  samples= None\n",
      "E= -2.060370922088623  angles= {a: 0.4804392989944782, c: 0.45035840119562376, b: 2.4316396432279475}  samples= None\n",
      "E= -1.989227056503296  angles= {a: 0.5986178523749347, c: 0.6151039894169176, b: 2.4068542885727546}  samples= None\n",
      "E= -1.989227056503296  angles= {a: 0.5986178523749347, c: 0.6151039894169176, b: 2.4068542885727546}  samples= None\n",
      "E= -1.9881665706634521  angles= {a: 0.5996178523749347, c: 0.6151039894169176, b: 2.4068542885727546}  samples= None\n",
      "E= -1.9881037473678589  angles= {a: 0.5986178523749347, c: 0.6161039894169176, b: 2.4068542885727546}  samples= None\n",
      "E= -1.9912813901901245  angles= {a: 0.5986178523749347, c: 0.6151039894169176, b: 2.4078542885727545}  samples= None\n",
      "E= -2.101248264312744  angles= {a: 0.5235428219747462, c: 0.5104464209307565, b: 2.4219643586551762}  samples= None\n",
      "E= -2.101248264312744  angles= {a: 0.5235428219747462, c: 0.5104464209307565, b: 2.4219643586551762}  samples= None\n",
      "E= -2.1003763675689697  angles= {a: 0.5245428219747462, c: 0.5104464209307565, b: 2.4219643586551762}  samples= None\n",
      "E= -2.1016361713409424  angles= {a: 0.5235428219747462, c: 0.5114464209307565, b: 2.4219643586551762}  samples= None\n",
      "E= -2.099426746368408  angles= {a: 0.5235428219747462, c: 0.5104464209307565, b: 2.422964358655176}  samples= None\n",
      "E= -2.112445116043091  angles= {a: 0.4874135348604224, c: 0.48740878573492913, b: 2.405542941555902}  samples= None\n",
      "E= -2.112445116043091  angles= {a: 0.4874135348604224, c: 0.48740878573492913, b: 2.405542941555902}  samples= None\n",
      "E= -2.112656354904175  angles= {a: 0.4884135348604224, c: 0.48740878573492913, b: 2.405542941555902}  samples= None\n",
      "E= -2.1125102043151855  angles= {a: 0.4874135348604224, c: 0.48840878573492913, b: 2.405542941555902}  samples= None\n",
      "E= -2.1134979724884033  angles= {a: 0.4874135348604224, c: 0.48740878573492913, b: 2.406542941555902}  samples= None\n",
      "E= -2.118020534515381  angles= {a: 0.4993860980580479, c: 0.49981723118944354, b: 2.411616803636256}  samples= None\n",
      "E= -2.118020534515381  angles= {a: 0.4993860980580479, c: 0.49981723118944354, b: 2.411616803636256}  samples= None\n",
      "E= -2.1180202960968018  angles= {a: 0.5003860980580479, c: 0.49981723118944354, b: 2.411616803636256}  samples= None\n",
      "E= -2.1179873943328857  angles= {a: 0.4993860980580479, c: 0.5008172311894435, b: 2.411616803636256}  samples= None\n",
      "E= -2.117981433868408  angles= {a: 0.4993860980580479, c: 0.49981723118944354, b: 2.412616803636256}  samples= None\n",
      "E= -2.117968797683716  angles= {a: 0.49812236870549864, c: 0.4978566666439487, b: 2.411441218628811}  samples= None\n",
      "E= -2.117968797683716  angles= {a: 0.49812236870549864, c: 0.4978566666439487, b: 2.411441218628811}  samples= None\n",
      "E= -2.1179683208465576  angles= {a: 0.49912236870549864, c: 0.4978566666439487, b: 2.411441218628811}  samples= None\n",
      "E= -2.1179707050323486  angles= {a: 0.49812236870549864, c: 0.4988566666439487, b: 2.411441218628811}  samples= None\n",
      "E= -2.1179614067077637  angles= {a: 0.49812236870549864, c: 0.4978566666439487, b: 2.412441218628811}  samples= None\n",
      "E= -2.1180176734924316  angles= {a: 0.4992119372826637, c: 0.4995470361189996, b: 2.4115926054003123}  samples= None\n",
      "E= -2.1180176734924316  angles= {a: 0.4992119372826637, c: 0.4995470361189996, b: 2.4115926054003123}  samples= None\n",
      "E= -2.1180174350738525  angles= {a: 0.5002119372826637, c: 0.4995470361189996, b: 2.4115926054003123}  samples= None\n",
      "E= -2.1179895401000977  angles= {a: 0.4992119372826637, c: 0.5005470361189995, b: 2.4115926054003123}  samples= None\n",
      "E= -2.117983102798462  angles= {a: 0.4992119372826637, c: 0.4995470361189996, b: 2.412592605400312}  samples= None\n",
      "E= -2.1180200576782227  angles= {a: 0.49935832393706464, c: 0.49977414209226284, b: 2.4116129446460146}  samples= None\n",
      "E= -2.1180200576782227  angles= {a: 0.49935832393706464, c: 0.49977414209226284, b: 2.4116129446460146}  samples= None\n",
      "E= -2.1180198192596436  angles= {a: 0.5003583239370646, c: 0.49977414209226284, b: 2.4116129446460146}  samples= None\n",
      "E= -2.117987871170044  angles= {a: 0.49935832393706464, c: 0.5007741420922628, b: 2.4116129446460146}  samples= None\n",
      "E= -2.1179819107055664  angles= {a: 0.49935832393706464, c: 0.49977414209226284, b: 2.4126129446460145}  samples= None\n",
      "E= -2.118020534515381  angles= {a: 0.4993818730059715, c: 0.4998106763940776, b: 2.4116162165993256}  samples= None\n",
      "E= -2.118020534515381  angles= {a: 0.4993818730059715, c: 0.4998106763940776, b: 2.4116162165993256}  samples= None\n",
      "E= -2.1180202960968018  angles= {a: 0.5003818730059715, c: 0.4998106763940776, b: 2.4116162165993256}  samples= None\n",
      "E= -2.1179873943328857  angles= {a: 0.4993818730059715, c: 0.5008106763940776, b: 2.4116162165993256}  samples= None\n",
      "E= -2.117981433868408  angles= {a: 0.4993818730059715, c: 0.4998106763940776, b: 2.4126162165993255}  samples= None\n",
      "E= -2.118020534515381  angles= {a: 0.49938520532144787, c: 0.4998158461874073, b: 2.411616679597701}  samples= None\n",
      "E= -2.118020534515381  angles= {a: 0.49938520532144787, c: 0.4998158461874073, b: 2.411616679597701}  samples= None\n",
      "E= -2.1180202960968018  angles= {a: 0.5003852053214478, c: 0.4998158461874073, b: 2.411616679597701}  samples= None\n",
      "E= -2.1179873943328857  angles= {a: 0.49938520532144787, c: 0.5008158461874073, b: 2.411616679597701}  samples= None\n",
      "E= -2.117981433868408  angles= {a: 0.49938520532144787, c: 0.4998158461874073, b: 2.412616679597701}  samples= None\n",
      "E= -2.118020534515381  angles= {a: 0.4993859094263767, c: 0.4998169385440555, b: 2.411616777427406}  samples= None\n",
      "E= -2.118020534515381  angles= {a: 0.4993859094263767, c: 0.4998169385440555, b: 2.411616777427406}  samples= None\n",
      "E= -2.1180202960968018  angles= {a: 0.5003859094263766, c: 0.4998169385440555, b: 2.411616777427406}  samples= None\n",
      "E= -2.1179873943328857  angles= {a: 0.4993859094263767, c: 0.5008169385440555, b: 2.411616777427406}  samples= None\n",
      "E= -2.117981433868408  angles= {a: 0.4993859094263767, c: 0.4998169385440555, b: 2.412616777427406}  samples= None\n",
      "E= -2.118020534515381  angles= {a: 0.49938605820093096, c: 0.49981716935464465, b: 2.411616798098431}  samples= None\n",
      "E= -2.118020534515381  angles= {a: 0.49938605820093096, c: 0.49981716935464465, b: 2.411616798098431}  samples= None\n",
      "E= -2.1180202960968018  angles= {a: 0.500386058200931, c: 0.49981716935464465, b: 2.411616798098431}  samples= None\n",
      "E= -2.1179873943328857  angles= {a: 0.49938605820093096, c: 0.5008171693546446, b: 2.411616798098431}  samples= None\n",
      "E= -2.117981433868408  angles= {a: 0.49938605820093096, c: 0.49981716935464465, b: 2.4126167980984308}  samples= None\n",
      "E= -2.118020534515381  angles= {a: 0.4993860896363978, c: 0.4998172181239967, b: 2.4116168024661357}  samples= None\n",
      "E= -2.118020534515381  angles= {a: 0.4993860896363978, c: 0.4998172181239967, b: 2.4116168024661357}  samples= None\n",
      "E= -2.1180202960968018  angles= {a: 0.5003860896363977, c: 0.4998172181239967, b: 2.4116168024661357}  samples= None\n",
      "E= -2.1179873943328857  angles= {a: 0.4993860896363978, c: 0.5008172181239967, b: 2.4116168024661357}  samples= None\n"
     ]
    },
    {
     "name": "stdout",
     "output_type": "stream",
     "text": [
      "E= -2.117981433868408  angles= {a: 0.4993860896363978, c: 0.4998172181239967, b: 2.4126168024661356}  samples= None\n",
      "E= -2.118020534515381  angles= {a: 0.4993860962785863, c: 0.499817228428766, b: 2.4116168033890144}  samples= None\n",
      "E= -2.118020534515381  angles= {a: 0.4993860962785863, c: 0.499817228428766, b: 2.4116168033890144}  samples= None\n",
      "E= -2.1180202960968018  angles= {a: 0.5003860962785863, c: 0.499817228428766, b: 2.4116168033890144}  samples= None\n",
      "E= -2.1179873943328857  angles= {a: 0.4993860962785863, c: 0.500817228428766, b: 2.4116168033890144}  samples= None\n",
      "E= -2.117981433868408  angles= {a: 0.4993860962785863, c: 0.499817228428766, b: 2.4126168033890143}  samples= None\n",
      "E= -2.118020534515381  angles= {a: 0.49938609768205505, c: 0.4998172306061239, b: 2.411616803584015}  samples= None\n",
      "E= -2.118020534515381  angles= {a: 0.49938609768205505, c: 0.4998172306061239, b: 2.411616803584015}  samples= None\n",
      "E= -2.1180202960968018  angles= {a: 0.500386097682055, c: 0.4998172306061239, b: 2.411616803584015}  samples= None\n",
      "E= -2.1179873943328857  angles= {a: 0.49938609768205505, c: 0.5008172306061238, b: 2.411616803584015}  samples= None\n",
      "E= -2.117981433868408  angles= {a: 0.49938609768205505, c: 0.4998172306061239, b: 2.4126168035840148}  samples= None\n",
      "E= -2.118020534515381  angles= {a: 0.4993860979786025, c: 0.499817231066191, b: 2.411616803625218}  samples= None\n",
      "E= -2.118020534515381  angles= {a: 0.4993860979786025, c: 0.499817231066191, b: 2.411616803625218}  samples= None\n",
      "E= -2.1180202960968018  angles= {a: 0.5003860979786025, c: 0.499817231066191, b: 2.411616803625218}  samples= None\n",
      "E= -2.1179873943328857  angles= {a: 0.4993860979786025, c: 0.500817231066191, b: 2.411616803625218}  samples= None\n",
      "E= -2.117981433868408  angles= {a: 0.4993860979786025, c: 0.499817231066191, b: 2.412616803625218}  samples= None\n",
      "E= -2.118020534515381  angles= {a: 0.4993860980412614, c: 0.4998172311634007, b: 2.411616803633924}  samples= None\n",
      "E= -2.118020534515381  angles= {a: 0.4993860980412614, c: 0.4998172311634007, b: 2.411616803633924}  samples= None\n",
      "E= -2.1180202960968018  angles= {a: 0.5003860980412613, c: 0.4998172311634007, b: 2.411616803633924}  samples= None\n",
      "E= -2.1179873943328857  angles= {a: 0.4993860980412614, c: 0.5008172311634007, b: 2.411616803633924}  samples= None\n",
      "E= -2.117981433868408  angles= {a: 0.4993860980412614, c: 0.4998172311634007, b: 2.4126168036339237}  samples= None\n",
      "E= -2.118020534515381  angles= {a: 0.49938609802802, c: 0.49981723114285787, b: 2.411616803632084}  samples= None\n",
      "E= -2.118020534515381  angles= {a: 0.49938609802802, c: 0.49981723114285787, b: 2.411616803632084}  samples= None\n",
      "E= -2.1180202960968018  angles= {a: 0.5003860980280199, c: 0.49981723114285787, b: 2.411616803632084}  samples= None\n",
      "E= -2.1179873943328857  angles= {a: 0.49938609802802, c: 0.5008172311428578, b: 2.411616803632084}  samples= None\n",
      "E= -2.117981433868408  angles= {a: 0.49938609802802, c: 0.49981723114285787, b: 2.412616803632084}  samples= None\n",
      "E= -2.118020534515381  angles= {a: 0.49938609801757683, c: 0.49981723112665627, b: 2.411616803630633}  samples= None\n",
      "E= -2.118020534515381  angles= {a: 0.49938609801757683, c: 0.49981723112665627, b: 2.411616803630633}  samples= None\n",
      "E= -2.1180202960968018  angles= {a: 0.5003860980175768, c: 0.49981723112665627, b: 2.411616803630633}  samples= None\n",
      "E= -2.1179873943328857  angles= {a: 0.49938609801757683, c: 0.5008172311266562, b: 2.411616803630633}  samples= None\n",
      "E= -2.117981433868408  angles= {a: 0.49938609801757683, c: 0.49981723112665627, b: 2.412616803630633}  samples= None\n",
      "E= -2.118020534515381  angles= {a: 0.49938609802581535, c: 0.49981723113943755, b: 2.4116168036317776}  samples= None\n",
      "E= -2.118020534515381  angles= {a: 0.49938609802581535, c: 0.49981723113943755, b: 2.4116168036317776}  samples= None\n",
      "E= -2.1180202960968018  angles= {a: 0.5003860980258154, c: 0.49981723113943755, b: 2.4116168036317776}  samples= None\n",
      "E= -2.1179873943328857  angles= {a: 0.49938609802581535, c: 0.5008172311394375, b: 2.4116168036317776}  samples= None\n",
      "E= -2.117981433868408  angles= {a: 0.49938609802581535, c: 0.49981723113943755, b: 2.4126168036317774}  samples= None\n",
      "E= -2.118020534515381  angles= {a: 0.49938609802407435, c: 0.49981723113673654, b: 2.411616803631536}  samples= None\n",
      "E= -2.118020534515381  angles= {a: 0.49938609802407435, c: 0.49981723113673654, b: 2.411616803631536}  samples= None\n",
      "E= -2.1180202960968018  angles= {a: 0.5003860980240743, c: 0.49981723113673654, b: 2.411616803631536}  samples= None\n",
      "E= -2.1179873943328857  angles= {a: 0.49938609802407435, c: 0.5008172311367365, b: 2.411616803631536}  samples= None\n",
      "E= -2.117981433868408  angles= {a: 0.49938609802407435, c: 0.49981723113673654, b: 2.412616803631536}  samples= None\n",
      "E= -2.118020534515381  angles= {a: 0.49938609802270123, c: 0.49981723113460635, b: 2.411616803631345}  samples= None\n",
      "E= -2.118020534515381  angles= {a: 0.49938609802270123, c: 0.49981723113460635, b: 2.411616803631345}  samples= None\n",
      "E= -2.1180202960968018  angles= {a: 0.5003860980227012, c: 0.49981723113460635, b: 2.411616803631345}  samples= None\n",
      "E= -2.1179873943328857  angles= {a: 0.49938609802270123, c: 0.5008172311346063, b: 2.411616803631345}  samples= None\n",
      "E= -2.117981433868408  angles= {a: 0.49938609802270123, c: 0.49981723113460635, b: 2.412616803631345}  samples= None\n",
      "E= -2.118020534515381  angles= {a: 0.4993860980216183, c: 0.4998172311329263, b: 2.4116168036311945}  samples= None\n",
      "E= -2.118020534515381  angles= {a: 0.4993860980216183, c: 0.4998172311329263, b: 2.4116168036311945}  samples= None\n",
      "E= -2.1180202960968018  angles= {a: 0.5003860980216183, c: 0.4998172311329263, b: 2.4116168036311945}  samples= None\n",
      "E= -2.1179873943328857  angles= {a: 0.4993860980216183, c: 0.5008172311329263, b: 2.4116168036311945}  samples= None\n",
      "E= -2.117981433868408  angles= {a: 0.4993860980216183, c: 0.4998172311329263, b: 2.4126168036311944}  samples= None\n",
      "E= -2.118020534515381  angles= {a: 0.4993860980207643, c: 0.49981723113160126, b: 2.411616803631076}  samples= None\n",
      "E= -2.118020534515381  angles= {a: 0.4993860980207643, c: 0.49981723113160126, b: 2.411616803631076}  samples= None\n",
      "E= -2.1180202960968018  angles= {a: 0.5003860980207643, c: 0.49981723113160126, b: 2.411616803631076}  samples= None\n",
      "E= -2.1179873943328857  angles= {a: 0.4993860980207643, c: 0.5008172311316013, b: 2.411616803631076}  samples= None\n",
      "E= -2.117981433868408  angles= {a: 0.4993860980207643, c: 0.49981723113160126, b: 2.412616803631076}  samples= None\n",
      "E= -2.118020534515381  angles= {a: 0.4993860980200907, c: 0.49981723113055626, b: 2.411616803630982}  samples= None\n",
      "E= -2.118020534515381  angles= {a: 0.4993860980200907, c: 0.49981723113055626, b: 2.411616803630982}  samples= None\n",
      "E= -2.1180202960968018  angles= {a: 0.5003860980200907, c: 0.49981723113055626, b: 2.411616803630982}  samples= None\n",
      "E= -2.1179873943328857  angles= {a: 0.4993860980200907, c: 0.5008172311305562, b: 2.411616803630982}  samples= None\n",
      "E= -2.117981433868408  angles= {a: 0.4993860980200907, c: 0.49981723113055626, b: 2.412616803630982}  samples= None\n",
      "E= -2.118020534515381  angles= {a: 0.49938609801955947, c: 0.4998172311297321, b: 2.4116168036309085}  samples= None\n",
      "E= -2.118020534515381  angles= {a: 0.49938609801955947, c: 0.4998172311297321, b: 2.4116168036309085}  samples= None\n",
      "E= -2.1180202960968018  angles= {a: 0.5003860980195595, c: 0.4998172311297321, b: 2.4116168036309085}  samples= None\n",
      "E= -2.1179873943328857  angles= {a: 0.49938609801955947, c: 0.5008172311297321, b: 2.4116168036309085}  samples= None\n",
      "E= -2.117981433868408  angles= {a: 0.49938609801955947, c: 0.4998172311297321, b: 2.4126168036309084}  samples= None\n",
      "E= -2.118020534515381  angles= {a: 0.49938609801914047, c: 0.4998172311290821, b: 2.4116168036308503}  samples= None\n",
      "E= -2.118020534515381  angles= {a: 0.49938609801914047, c: 0.4998172311290821, b: 2.4116168036308503}  samples= None\n",
      "E= -2.1180202960968018  angles= {a: 0.5003860980191405, c: 0.4998172311290821, b: 2.4116168036308503}  samples= None\n",
      "E= -2.1179873943328857  angles= {a: 0.49938609801914047, c: 0.500817231129082, b: 2.4116168036308503}  samples= None\n",
      "E= -2.117981433868408  angles= {a: 0.49938609801914047, c: 0.4998172311290821, b: 2.41261680363085}  samples= None\n",
      "E= -2.118020534515381  angles= {a: 0.4993860980194731, c: 0.49981723112959814, b: 2.4116168036308965}  samples= None\n",
      "E= -2.118020534515381  angles= {a: 0.4993860980194731, c: 0.49981723112959814, b: 2.4116168036308965}  samples= None\n",
      "E= -2.1180202960968018  angles= {a: 0.5003860980194731, c: 0.49981723112959814, b: 2.4116168036308965}  samples= None\n",
      "E= -2.1179873943328857  angles= {a: 0.4993860980194731, c: 0.5008172311295981, b: 2.4116168036308965}  samples= None\n",
      "E= -2.117981433868408  angles= {a: 0.4993860980194731, c: 0.49981723112959814, b: 2.4126168036308964}  samples= None\n",
      "E= -2.118020534515381  angles= {a: 0.4993860980194028, c: 0.49981723112948906, b: 2.4116168036308867}  samples= None\n",
      "E= -2.118020534515381  angles= {a: 0.4993860980194028, c: 0.49981723112948906, b: 2.4116168036308867}  samples= None\n",
      "E= -2.1180202960968018  angles= {a: 0.5003860980194028, c: 0.49981723112948906, b: 2.4116168036308867}  samples= None\n",
      "E= -2.1179873943328857  angles= {a: 0.4993860980194028, c: 0.5008172311294891, b: 2.4116168036308867}  samples= None\n",
      "E= -2.117981433868408  angles= {a: 0.4993860980194028, c: 0.49981723112948906, b: 2.4126168036308866}  samples= None\n",
      "E= -2.118020534515381  angles= {a: 0.49938609801934736, c: 0.4998172311294031, b: 2.411616803630879}  samples= None\n",
      "E= -2.118020534515381  angles= {a: 0.49938609801934736, c: 0.4998172311294031, b: 2.411616803630879}  samples= None\n",
      "E= -2.1180202960968018  angles= {a: 0.5003860980193473, c: 0.4998172311294031, b: 2.411616803630879}  samples= None\n",
      "E= -2.1179873943328857  angles= {a: 0.49938609801934736, c: 0.500817231129403, b: 2.411616803630879}  samples= None\n",
      "E= -2.117981433868408  angles= {a: 0.49938609801934736, c: 0.4998172311294031, b: 2.412616803630879}  samples= None\n",
      "E= -2.118020534515381  angles= {a: 0.4993860980193036, c: 0.49981723112933524, b: 2.411616803630873}  samples= None\n",
      "E= -2.118020534515381  angles= {a: 0.4993860980193036, c: 0.49981723112933524, b: 2.411616803630873}  samples= None\n",
      "E= -2.1180202960968018  angles= {a: 0.5003860980193036, c: 0.49981723112933524, b: 2.411616803630873}  samples= None\n",
      "E= -2.1179873943328857  angles= {a: 0.4993860980193036, c: 0.5008172311293352, b: 2.411616803630873}  samples= None\n",
      "E= -2.117981433868408  angles= {a: 0.4993860980193036, c: 0.49981723112933524, b: 2.412616803630873}  samples= None\n",
      "E= -2.118020534515381  angles= {a: 0.49938609801926914, c: 0.4998172311292817, b: 2.411616803630868}  samples= None\n"
     ]
    },
    {
     "name": "stdout",
     "output_type": "stream",
     "text": [
      "E= -2.118020534515381  angles= {a: 0.49938609801926914, c: 0.4998172311292817, b: 2.411616803630868}  samples= None\n",
      "E= -2.1180202960968018  angles= {a: 0.5003860980192691, c: 0.4998172311292817, b: 2.411616803630868}  samples= None\n",
      "E= -2.1179873943328857  angles= {a: 0.49938609801926914, c: 0.5008172311292817, b: 2.411616803630868}  samples= None\n",
      "E= -2.117981433868408  angles= {a: 0.49938609801926914, c: 0.4998172311292817, b: 2.412616803630868}  samples= None\n",
      "E= -2.118020534515381  angles= {a: 0.49938609801924194, c: 0.49981723112923954, b: 2.4116168036308645}  samples= None\n",
      "E= -2.118020534515381  angles= {a: 0.49938609801924194, c: 0.49981723112923954, b: 2.4116168036308645}  samples= None\n",
      "E= -2.1180202960968018  angles= {a: 0.5003860980192419, c: 0.49981723112923954, b: 2.4116168036308645}  samples= None\n",
      "E= -2.1179873943328857  angles= {a: 0.49938609801924194, c: 0.5008172311292395, b: 2.4116168036308645}  samples= None\n",
      "E= -2.117981433868408  angles= {a: 0.49938609801924194, c: 0.49981723112923954, b: 2.4126168036308644}  samples= None\n",
      "E= -2.118020534515381  angles= {a: 0.4993860980192205, c: 0.4998172311292063, b: 2.4116168036308614}  samples= None\n",
      "E= -2.118020534515381  angles= {a: 0.4993860980192205, c: 0.4998172311292063, b: 2.4116168036308614}  samples= None\n",
      "E= -2.1180202960968018  angles= {a: 0.5003860980192205, c: 0.4998172311292063, b: 2.4116168036308614}  samples= None\n",
      "E= -2.1179873943328857  angles= {a: 0.4993860980192205, c: 0.5008172311292063, b: 2.4116168036308614}  samples= None\n",
      "E= -2.117981433868408  angles= {a: 0.4993860980192205, c: 0.4998172311292063, b: 2.4126168036308613}  samples= None\n",
      "E= -2.118020534515381  angles= {a: 0.4993860980192036, c: 0.49981723112918003, b: 2.411616803630859}  samples= None\n",
      "E= -2.118020534515381  angles= {a: 0.4993860980192036, c: 0.49981723112918003, b: 2.411616803630859}  samples= None\n",
      "E= -2.1180202960968018  angles= {a: 0.5003860980192035, c: 0.49981723112918003, b: 2.411616803630859}  samples= None\n",
      "E= -2.1179873943328857  angles= {a: 0.4993860980192036, c: 0.50081723112918, b: 2.411616803630859}  samples= None\n",
      "E= -2.117981433868408  angles= {a: 0.4993860980192036, c: 0.49981723112918003, b: 2.412616803630859}  samples= None\n",
      "E= -2.118020534515381  angles= {a: 0.49938609801919026, c: 0.4998172311291593, b: 2.4116168036308574}  samples= None\n",
      "E= -2.118020534515381  angles= {a: 0.49938609801919026, c: 0.4998172311291593, b: 2.4116168036308574}  samples= None\n",
      "E= -2.1180202960968018  angles= {a: 0.5003860980191902, c: 0.4998172311291593, b: 2.4116168036308574}  samples= None\n",
      "E= -2.1179873943328857  angles= {a: 0.49938609801919026, c: 0.5008172311291593, b: 2.4116168036308574}  samples= None\n",
      "E= -2.117981433868408  angles= {a: 0.49938609801919026, c: 0.4998172311291593, b: 2.4126168036308573}  samples= None\n",
      "E= -2.118020534515381  angles= {a: 0.4993860980191797, c: 0.499817231129143, b: 2.4116168036308556}  samples= None\n",
      "E= -2.118020534515381  angles= {a: 0.4993860980191797, c: 0.499817231129143, b: 2.4116168036308556}  samples= None\n",
      "E= -2.1180202960968018  angles= {a: 0.5003860980191797, c: 0.499817231129143, b: 2.4116168036308556}  samples= None\n",
      "E= -2.1179873943328857  angles= {a: 0.4993860980191797, c: 0.500817231129143, b: 2.4116168036308556}  samples= None\n",
      "E= -2.117981433868408  angles= {a: 0.4993860980191797, c: 0.499817231129143, b: 2.4126168036308555}  samples= None\n",
      "E= -2.118020534515381  angles= {a: 0.49938609801917144, c: 0.4998172311291301, b: 2.4116168036308547}  samples= None\n",
      "E= -2.118020534515381  angles= {a: 0.49938609801917144, c: 0.4998172311291301, b: 2.4116168036308547}  samples= None\n",
      "E= -2.1180202960968018  angles= {a: 0.5003860980191714, c: 0.4998172311291301, b: 2.4116168036308547}  samples= None\n",
      "E= -2.1179873943328857  angles= {a: 0.49938609801917144, c: 0.5008172311291301, b: 2.4116168036308547}  samples= None\n",
      "E= -2.117981433868408  angles= {a: 0.49938609801917144, c: 0.4998172311291301, b: 2.4126168036308546}  samples= None\n",
      "E= -2.118020534515381  angles= {a: 0.4993860980191649, c: 0.49981723112912, b: 2.411616803630854}  samples= None\n",
      "E= -2.118020534515381  angles= {a: 0.4993860980191649, c: 0.49981723112912, b: 2.411616803630854}  samples= None\n",
      "E= -2.1180202960968018  angles= {a: 0.5003860980191649, c: 0.49981723112912, b: 2.411616803630854}  samples= None\n",
      "E= -2.1179873943328857  angles= {a: 0.4993860980191649, c: 0.50081723112912, b: 2.411616803630854}  samples= None\n",
      "E= -2.117981433868408  angles= {a: 0.4993860980191649, c: 0.49981723112912, b: 2.4126168036308537}  samples= None\n",
      "E= -2.118020534515381  angles= {a: 0.49938609801915973, c: 0.49981723112911197, b: 2.411616803630853}  samples= None\n",
      "E= -2.118020534515381  angles= {a: 0.49938609801915973, c: 0.49981723112911197, b: 2.411616803630853}  samples= None\n",
      "E= -2.1180202960968018  angles= {a: 0.5003860980191597, c: 0.49981723112911197, b: 2.411616803630853}  samples= None\n",
      "E= -2.1179873943328857  angles= {a: 0.49938609801915973, c: 0.5008172311291119, b: 2.411616803630853}  samples= None\n",
      "E= -2.117981433868408  angles= {a: 0.49938609801915973, c: 0.49981723112911197, b: 2.412616803630853}  samples= None\n",
      "E= -2.118020534515381  angles= {a: 0.4993860980191557, c: 0.49981723112910564, b: 2.4116168036308525}  samples= None\n",
      "E= -2.118020534515381  angles= {a: 0.4993860980191557, c: 0.49981723112910564, b: 2.4116168036308525}  samples= None\n",
      "E= -2.1180202960968018  angles= {a: 0.5003860980191557, c: 0.49981723112910564, b: 2.4116168036308525}  samples= None\n",
      "E= -2.1179873943328857  angles= {a: 0.4993860980191557, c: 0.5008172311291056, b: 2.4116168036308525}  samples= None\n",
      "E= -2.117981433868408  angles= {a: 0.4993860980191557, c: 0.49981723112910564, b: 2.4126168036308524}  samples= None\n",
      "E= -2.118020534515381  angles= {a: 0.49938609801915246, c: 0.4998172311291007, b: 2.411616803630852}  samples= None\n",
      "E= -2.118020534515381  angles= {a: 0.49938609801915246, c: 0.4998172311291007, b: 2.411616803630852}  samples= None\n",
      "E= -2.1180202960968018  angles= {a: 0.5003860980191525, c: 0.4998172311291007, b: 2.411616803630852}  samples= None\n",
      "E= -2.1179873943328857  angles= {a: 0.49938609801915246, c: 0.5008172311291007, b: 2.411616803630852}  samples= None\n",
      "E= -2.117981433868408  angles= {a: 0.49938609801915246, c: 0.4998172311291007, b: 2.412616803630852}  samples= None\n",
      "E= -2.118020534515381  angles= {a: 0.4993860980191499, c: 0.49981723112909676, b: 2.4116168036308516}  samples= None\n",
      "E= -2.118020534515381  angles= {a: 0.4993860980191499, c: 0.49981723112909676, b: 2.4116168036308516}  samples= None\n",
      "E= -2.1180202960968018  angles= {a: 0.5003860980191499, c: 0.49981723112909676, b: 2.4116168036308516}  samples= None\n",
      "E= -2.1179873943328857  angles= {a: 0.4993860980191499, c: 0.5008172311290967, b: 2.4116168036308516}  samples= None\n",
      "E= -2.117981433868408  angles= {a: 0.4993860980191499, c: 0.49981723112909676, b: 2.4126168036308515}  samples= None\n",
      "E= -2.118020534515381  angles= {a: 0.49938609801915235, c: 0.49981723112910054, b: 2.411616803630852}  samples= None\n",
      "E= -2.118020534515381  angles= {a: 0.49938609801915235, c: 0.49981723112910054, b: 2.411616803630852}  samples= None\n",
      "E= -2.1180202960968018  angles= {a: 0.5003860980191523, c: 0.49981723112910054, b: 2.411616803630852}  samples= None\n",
      "E= -2.1179873943328857  angles= {a: 0.49938609801915235, c: 0.5008172311291005, b: 2.411616803630852}  samples= None\n",
      "E= -2.117981433868408  angles= {a: 0.49938609801915235, c: 0.49981723112910054, b: 2.412616803630852}  samples= None\n",
      "E= -2.118020534515381  angles= {a: 0.49938609801915185, c: 0.4998172311290997, b: 2.411616803630852}  samples= None\n",
      "E= -2.118020534515381  angles= {a: 0.49938609801915185, c: 0.4998172311290997, b: 2.411616803630852}  samples= None\n",
      "E= -2.1180202960968018  angles= {a: 0.5003860980191518, c: 0.4998172311290997, b: 2.411616803630852}  samples= None\n",
      "E= -2.1179873943328857  angles= {a: 0.49938609801915185, c: 0.5008172311290997, b: 2.411616803630852}  samples= None\n",
      "E= -2.117981433868408  angles= {a: 0.49938609801915185, c: 0.4998172311290997, b: 2.412616803630852}  samples= None\n",
      "E= -2.118020534515381  angles= {a: 0.49938609801915085, c: 0.49981723112909826, b: 2.4116168036308516}  samples= None\n",
      "E= -2.118020534515381  angles= {a: 0.49938609801915085, c: 0.49981723112909826, b: 2.4116168036308516}  samples= None\n",
      "E= -2.1180202960968018  angles= {a: 0.5003860980191508, c: 0.49981723112909826, b: 2.4116168036308516}  samples= None\n",
      "E= -2.1179873943328857  angles= {a: 0.49938609801915085, c: 0.5008172311290983, b: 2.4116168036308516}  samples= None\n",
      "E= -2.117981433868408  angles= {a: 0.49938609801915085, c: 0.49981723112909826, b: 2.4126168036308515}  samples= None\n",
      "E= -2.118020534515381  angles= {a: 0.4993860980191507, c: 0.4998172311290979, b: 2.4116168036308516}  samples= None\n",
      "E= -2.118020534515381  angles= {a: 0.4993860980191507, c: 0.4998172311290979, b: 2.4116168036308516}  samples= None\n",
      "E= -2.1180202960968018  angles= {a: 0.5003860980191507, c: 0.4998172311290979, b: 2.4116168036308516}  samples= None\n",
      "E= -2.1179873943328857  angles= {a: 0.4993860980191507, c: 0.5008172311290979, b: 2.4116168036308516}  samples= None\n",
      "E= -2.117981433868408  angles= {a: 0.4993860980191507, c: 0.4998172311290979, b: 2.4126168036308515}  samples= None\n"
     ]
    },
    {
     "name": "stdout",
     "output_type": "stream",
     "text": [
      "E= -2.118020534515381  angles= {a: 0.49938609801915085, c: 0.49981723112909826, b: 2.4116168036308516}  samples= None\n",
      "E= -2.118020534515381  angles= {a: 0.49938609801915085, c: 0.49981723112909826, b: 2.4116168036308516}  samples= None\n",
      "E= -2.1180202960968018  angles= {a: 0.5003860980191508, c: 0.49981723112909826, b: 2.4116168036308516}  samples= None\n",
      "E= -2.1179873943328857  angles= {a: 0.49938609801915085, c: 0.5008172311290983, b: 2.4116168036308516}  samples= None\n",
      "E= -2.117981433868408  angles= {a: 0.49938609801915085, c: 0.49981723112909826, b: 2.4126168036308515}  samples= None\n",
      "E= -2.118020534515381  angles= {a: 0.49938609801915085, c: 0.49981723112909815, b: 2.4116168036308516}  samples= None\n",
      "E= -2.118020534515381  angles= {a: 0.49938609801915085, c: 0.49981723112909815, b: 2.4116168036308516}  samples= None\n",
      "E= -2.1180202960968018  angles= {a: 0.5003860980191508, c: 0.49981723112909815, b: 2.4116168036308516}  samples= None\n",
      "E= -2.1179873943328857  angles= {a: 0.49938609801915085, c: 0.5008172311290982, b: 2.4116168036308516}  samples= None\n",
      "E= -2.117981433868408  angles= {a: 0.49938609801915085, c: 0.49981723112909815, b: 2.4126168036308515}  samples= None\n",
      "E= -2.118020534515381  angles= {a: 0.49938609801915085, c: 0.49981723112909826, b: 2.4116168036308516}  samples= None\n",
      "E= -2.118020534515381  angles= {a: 0.49938609801915085, c: 0.49981723112909826, b: 2.4116168036308516}  samples= None\n",
      "E= -2.1180202960968018  angles= {a: 0.5003860980191508, c: 0.49981723112909826, b: 2.4116168036308516}  samples= None\n",
      "E= -2.1179873943328857  angles= {a: 0.49938609801915085, c: 0.5008172311290983, b: 2.4116168036308516}  samples= None\n",
      "E= -2.117981433868408  angles= {a: 0.49938609801915085, c: 0.49981723112909826, b: 2.4126168036308515}  samples= None\n",
      "E= -2.118020534515381  angles= {a: 0.49938609801915085, c: 0.4998172311290982, b: 2.4116168036308516}  samples= None\n",
      "E= -2.118020534515381  angles= {a: 0.49938609801915085, c: 0.4998172311290982, b: 2.4116168036308516}  samples= None\n",
      "E= -2.1180202960968018  angles= {a: 0.5003860980191508, c: 0.4998172311290982, b: 2.4116168036308516}  samples= None\n",
      "E= -2.1179873943328857  angles= {a: 0.49938609801915085, c: 0.5008172311290982, b: 2.4116168036308516}  samples= None\n",
      "E= -2.117981433868408  angles= {a: 0.49938609801915085, c: 0.4998172311290982, b: 2.4126168036308515}  samples= None\n",
      "E= -2.118020534515381  angles= {a: 0.49938609801915085, c: 0.4998172311290982, b: 2.4116168036308516}  samples= None\n",
      "E= -2.118020534515381  angles= {a: 0.49938609801915085, c: 0.4998172311290982, b: 2.4116168036308516}  samples= None\n",
      "E= -2.1180202960968018  angles= {a: 0.5003860980191508, c: 0.4998172311290982, b: 2.4116168036308516}  samples= None\n",
      "E= -2.1179873943328857  angles= {a: 0.49938609801915085, c: 0.5008172311290982, b: 2.4116168036308516}  samples= None\n",
      "E= -2.117981433868408  angles= {a: 0.49938609801915085, c: 0.4998172311290982, b: 2.4126168036308515}  samples= None\n",
      "E= -2.118020534515381  angles= {a: 0.49938609801915085, c: 0.4998172311290982, b: 2.4116168036308516}  samples= None\n",
      "E= -2.118020534515381  angles= {a: 0.49938609801915085, c: 0.4998172311290982, b: 2.4116168036308516}  samples= None\n",
      "E= -2.1180202960968018  angles= {a: 0.5003860980191508, c: 0.4998172311290982, b: 2.4116168036308516}  samples= None\n",
      "E= -2.1179873943328857  angles= {a: 0.49938609801915085, c: 0.5008172311290982, b: 2.4116168036308516}  samples= None\n",
      "E= -2.117981433868408  angles= {a: 0.49938609801915085, c: 0.4998172311290982, b: 2.4126168036308515}  samples= None\n",
      "E= -2.118020534515381  angles= {a: 0.49938609801915085, c: 0.4998172311290982, b: 2.4116168036308516}  samples= None\n",
      "E= -2.118020534515381  angles= {a: 0.49938609801915085, c: 0.4998172311290982, b: 2.4116168036308516}  samples= None\n",
      "E= -2.1180202960968018  angles= {a: 0.5003860980191508, c: 0.4998172311290982, b: 2.4116168036308516}  samples= None\n",
      "E= -2.1179873943328857  angles= {a: 0.49938609801915085, c: 0.5008172311290982, b: 2.4116168036308516}  samples= None\n",
      "E= -2.117981433868408  angles= {a: 0.49938609801915085, c: 0.4998172311290982, b: 2.4126168036308515}  samples= None\n",
      "E= -2.118020534515381  angles= {a: 0.49938609801915085, c: 0.4998172311290982, b: 2.4116168036308516}  samples= None\n",
      "E= -2.118020534515381  angles= {a: 0.49938609801915085, c: 0.4998172311290982, b: 2.4116168036308516}  samples= None\n",
      "E= -2.1180202960968018  angles= {a: 0.5003860980191508, c: 0.4998172311290982, b: 2.4116168036308516}  samples= None\n",
      "E= -2.1179873943328857  angles= {a: 0.49938609801915085, c: 0.5008172311290982, b: 2.4116168036308516}  samples= None\n",
      "E= -2.117981433868408  angles= {a: 0.49938609801915085, c: 0.4998172311290982, b: 2.4126168036308515}  samples= None\n",
      "E= -2.118020534515381  angles= {a: 0.49938609801915085, c: 0.4998172311290982, b: 2.4116168036308516}  samples= None\n",
      "E= -2.118020534515381  angles= {a: 0.49938609801915085, c: 0.4998172311290982, b: 2.4116168036308516}  samples= None\n",
      "E= -2.1180202960968018  angles= {a: 0.5003860980191508, c: 0.4998172311290982, b: 2.4116168036308516}  samples= None\n",
      "E= -2.1179873943328857  angles= {a: 0.49938609801915085, c: 0.5008172311290982, b: 2.4116168036308516}  samples= None\n",
      "E= -2.117981433868408  angles= {a: 0.49938609801915085, c: 0.4998172311290982, b: 2.4126168036308515}  samples= None\n",
      "E= -2.118020534515381  angles= {a: 0.49938609801915085, c: 0.4998172311290982, b: 2.4116168036308516}  samples= None\n",
      "E= -2.118020534515381  angles= {a: 0.49938609801915085, c: 0.4998172311290982, b: 2.4116168036308516}  samples= None\n",
      "E= -2.1180202960968018  angles= {a: 0.5003860980191508, c: 0.4998172311290982, b: 2.4116168036308516}  samples= None\n",
      "E= -2.1179873943328857  angles= {a: 0.49938609801915085, c: 0.5008172311290982, b: 2.4116168036308516}  samples= None\n",
      "E= -2.117981433868408  angles= {a: 0.49938609801915085, c: 0.4998172311290982, b: 2.4126168036308515}  samples= None\n",
      "E= -2.118020534515381  angles= {a: 0.49938609801915085, c: 0.4998172311290982, b: 2.4116168036308516}  samples= None\n",
      "E= -2.118020534515381  angles= {a: 0.49938609801915085, c: 0.4998172311290982, b: 2.4116168036308516}  samples= None\n",
      "E= -2.1180202960968018  angles= {a: 0.5003860980191508, c: 0.4998172311290982, b: 2.4116168036308516}  samples= None\n",
      "E= -2.1179873943328857  angles= {a: 0.49938609801915085, c: 0.5008172311290982, b: 2.4116168036308516}  samples= None\n",
      "E= -2.117981433868408  angles= {a: 0.49938609801915085, c: 0.4998172311290982, b: 2.4126168036308515}  samples= None\n",
      "E= -2.118020534515381  angles= {a: 0.49938609801915085, c: 0.4998172311290982, b: 2.4116168036308516}  samples= None\n",
      "E= -2.118020534515381  angles= {a: 0.49938609801915085, c: 0.4998172311290982, b: 2.4116168036308516}  samples= None\n",
      "E= -2.1180202960968018  angles= {a: 0.5003860980191508, c: 0.4998172311290982, b: 2.4116168036308516}  samples= None\n",
      "E= -2.1179873943328857  angles= {a: 0.49938609801915085, c: 0.5008172311290982, b: 2.4116168036308516}  samples= None\n",
      "E= -2.117981433868408  angles= {a: 0.49938609801915085, c: 0.4998172311290982, b: 2.4126168036308515}  samples= None\n",
      "E= -2.118020534515381  angles= {a: 0.49938609801915085, c: 0.4998172311290982, b: 2.4116168036308516}  samples= None\n",
      "E= -2.118020534515381  angles= {a: 0.49938609801915085, c: 0.4998172311290982, b: 2.4116168036308516}  samples= None\n",
      "E= -2.1180202960968018  angles= {a: 0.5003860980191508, c: 0.4998172311290982, b: 2.4116168036308516}  samples= None\n",
      "E= -2.1179873943328857  angles= {a: 0.49938609801915085, c: 0.5008172311290982, b: 2.4116168036308516}  samples= None\n",
      "E= -2.117981433868408  angles= {a: 0.49938609801915085, c: 0.4998172311290982, b: 2.4126168036308515}  samples= None\n",
      "E= -2.118020534515381  angles= {a: 0.49938609801915085, c: 0.4998172311290982, b: 2.4116168036308516}  samples= None\n",
      "E= -2.118020534515381  angles= {a: 0.49938609801915085, c: 0.4998172311290982, b: 2.4116168036308516}  samples= None\n",
      "E= -2.1180202960968018  angles= {a: 0.5003860980191508, c: 0.4998172311290982, b: 2.4116168036308516}  samples= None\n",
      "E= -2.1179873943328857  angles= {a: 0.49938609801915085, c: 0.5008172311290982, b: 2.4116168036308516}  samples= None\n",
      "E= -2.117981433868408  angles= {a: 0.49938609801915085, c: 0.4998172311290982, b: 2.4126168036308515}  samples= None\n"
     ]
    },
    {
     "name": "stdout",
     "output_type": "stream",
     "text": [
      "E= -2.118020534515381  angles= {a: 0.49938609801915085, c: 0.4998172311290982, b: 2.4116168036308516}  samples= None\n",
      "E= -2.118020534515381  angles= {a: 0.49938609801915085, c: 0.4998172311290982, b: 2.4116168036308516}  samples= None\n",
      "E= -2.1180202960968018  angles= {a: 0.5003860980191508, c: 0.4998172311290982, b: 2.4116168036308516}  samples= None\n",
      "E= -2.1179873943328857  angles= {a: 0.49938609801915085, c: 0.5008172311290982, b: 2.4116168036308516}  samples= None\n",
      "E= -2.117981433868408  angles= {a: 0.49938609801915085, c: 0.4998172311290982, b: 2.4126168036308515}  samples= None\n",
      "E= -2.118020534515381  angles= {a: 0.49938609801915085, c: 0.4998172311290982, b: 2.4116168036308516}  samples= None\n",
      "E= -2.118020534515381  angles= {a: 0.49938609801915085, c: 0.4998172311290982, b: 2.4116168036308516}  samples= None\n",
      "E= -2.1180202960968018  angles= {a: 0.5003860980191508, c: 0.4998172311290982, b: 2.4116168036308516}  samples= None\n",
      "E= -2.1179873943328857  angles= {a: 0.49938609801915085, c: 0.5008172311290982, b: 2.4116168036308516}  samples= None\n",
      "E= -2.117981433868408  angles= {a: 0.49938609801915085, c: 0.4998172311290982, b: 2.4126168036308515}  samples= None\n",
      "E= -2.118020534515381  angles= {a: 0.49938609801915085, c: 0.4998172311290982, b: 2.4116168036308516}  samples= None\n",
      "E= -2.118020534515381  angles= {a: 0.49938609801915085, c: 0.4998172311290982, b: 2.4116168036308516}  samples= None\n",
      "E= -2.1180202960968018  angles= {a: 0.5003860980191508, c: 0.4998172311290982, b: 2.4116168036308516}  samples= None\n",
      "E= -2.1179873943328857  angles= {a: 0.49938609801915085, c: 0.5008172311290982, b: 2.4116168036308516}  samples= None\n",
      "E= -2.117981433868408  angles= {a: 0.49938609801915085, c: 0.4998172311290982, b: 2.4126168036308515}  samples= None\n",
      "E= -2.118020534515381  angles= {a: 0.49938609801915085, c: 0.4998172311290982, b: 2.4116168036308516}  samples= None\n",
      "E= -2.118020534515381  angles= {a: 0.49938609801915085, c: 0.4998172311290982, b: 2.4116168036308516}  samples= None\n",
      "E= -2.1180202960968018  angles= {a: 0.5003860980191508, c: 0.4998172311290982, b: 2.4116168036308516}  samples= None\n",
      "E= -2.1179873943328857  angles= {a: 0.49938609801915085, c: 0.5008172311290982, b: 2.4116168036308516}  samples= None\n",
      "E= -2.117981433868408  angles= {a: 0.49938609801915085, c: 0.4998172311290982, b: 2.4126168036308515}  samples= None\n",
      "E= -2.118020534515381  angles= {a: 0.49938609801915085, c: 0.4998172311290982, b: 2.4116168036308516}  samples= None\n",
      "E= -2.118020534515381  angles= {a: 0.49938609801915085, c: 0.4998172311290982, b: 2.4116168036308516}  samples= None\n",
      "E= -2.1180202960968018  angles= {a: 0.5003860980191508, c: 0.4998172311290982, b: 2.4116168036308516}  samples= None\n",
      "E= -2.1179873943328857  angles= {a: 0.49938609801915085, c: 0.5008172311290982, b: 2.4116168036308516}  samples= None\n",
      "E= -2.117981433868408  angles= {a: 0.49938609801915085, c: 0.4998172311290982, b: 2.4126168036308515}  samples= None\n",
      "E= -2.118020534515381  angles= {a: 0.49938609801915085, c: 0.4998172311290982, b: 2.4116168036308516}  samples= None\n",
      "E= -2.118020534515381  angles= {a: 0.49938609801915085, c: 0.4998172311290982, b: 2.4116168036308516}  samples= None\n",
      "E= -2.1180202960968018  angles= {a: 0.5003860980191508, c: 0.4998172311290982, b: 2.4116168036308516}  samples= None\n",
      "E= -2.1179873943328857  angles= {a: 0.49938609801915085, c: 0.5008172311290982, b: 2.4116168036308516}  samples= None\n",
      "E= -2.117981433868408  angles= {a: 0.49938609801915085, c: 0.4998172311290982, b: 2.4126168036308515}  samples= None\n",
      "E= -2.118020534515381  angles= {a: 0.49938609801915085, c: 0.4998172311290982, b: 2.4116168036308516}  samples= None\n",
      "E= -2.118020534515381  angles= {a: 0.49938609801915085, c: 0.4998172311290982, b: 2.4116168036308516}  samples= None\n",
      "E= -2.1180202960968018  angles= {a: 0.5003860980191508, c: 0.4998172311290982, b: 2.4116168036308516}  samples= None\n",
      "E= -2.1179873943328857  angles= {a: 0.49938609801915085, c: 0.5008172311290982, b: 2.4116168036308516}  samples= None\n",
      "E= -2.117981433868408  angles= {a: 0.49938609801915085, c: 0.4998172311290982, b: 2.4126168036308515}  samples= None\n",
      "E= -2.118020534515381  angles= {a: 0.49938609801915085, c: 0.4998172311290982, b: 2.4116168036308516}  samples= None\n",
      "E= -2.118020534515381  angles= {a: 0.49938609801915085, c: 0.4998172311290982, b: 2.4116168036308516}  samples= None\n",
      "E= -2.1180202960968018  angles= {a: 0.5003860980191508, c: 0.4998172311290982, b: 2.4116168036308516}  samples= None\n",
      "E= -2.1179873943328857  angles= {a: 0.49938609801915085, c: 0.5008172311290982, b: 2.4116168036308516}  samples= None\n",
      "E= -2.117981433868408  angles= {a: 0.49938609801915085, c: 0.4998172311290982, b: 2.4126168036308515}  samples= None\n",
      "E= -2.118020534515381  angles= {a: 0.49938609801915085, c: 0.4998172311290982, b: 2.4116168036308516}  samples= None\n",
      "E= -2.118020534515381  angles= {a: 0.49938609801915085, c: 0.4998172311290982, b: 2.4116168036308516}  samples= None\n",
      "E= -2.1180202960968018  angles= {a: 0.5003860980191508, c: 0.4998172311290982, b: 2.4116168036308516}  samples= None\n",
      "E= -2.1179873943328857  angles= {a: 0.49938609801915085, c: 0.5008172311290982, b: 2.4116168036308516}  samples= None\n",
      "E= -2.117981433868408  angles= {a: 0.49938609801915085, c: 0.4998172311290982, b: 2.4126168036308515}  samples= None\n",
      "E= -2.117968797683716  angles= {a: 0.49812236870549864, c: 0.4978566666439487, b: 2.411441218628811}  samples= None\n",
      "E= -2.1180131435394287  angles= {a: 0.4990181294612329, c: 0.4992463603907907, b: 2.4115656773656817}  samples= None\n",
      "E= -2.118018627166748  angles= {a: 0.49926586950943735, c: 0.4996307072084292, b: 2.4116000988485102}  samples= None\n",
      "E= -2.1180200576782227  angles= {a: 0.49934541869969196, c: 0.49975412075557946, b: 2.411611151567302}  samples= None\n",
      "E= -2.1180202960968018  angles= {a: 0.49937143196371064, c: 0.49979447803860433, b: 2.4116147659006617}  samples= None\n",
      "E= -2.118020534515381  angles= {a: 0.49938130205820164, c: 0.4998097906190082, b: 2.4116161372707348}  samples= None\n",
      "E= -2.118020534515381  angles= {a: 0.4993838928609492, c: 0.49981381002078995, b: 2.411616497241894}  samples= None\n",
      "E= -2.118020534515381  angles= {a: 0.49938515030247727, c: 0.4998157608303308, b: 2.411616671953259}  samples= None\n",
      "E= -2.118020534515381  angles= {a: 0.4993856857484099, c: 0.49981659152743335, b: 2.4116167463491553}  samples= None\n",
      "E= -2.118020534515381  angles= {a: 0.4993859190650876, c: 0.49981695349766475, b: 2.411616778766627}  samples= None\n",
      "E= -2.118020534515381  angles= {a: 0.49938602032458607, c: 0.49981711059283873, b: 2.4116167928358183}  samples= None\n",
      "E= -2.118020534515381  angles= {a: 0.4993860643019487, c: 0.4998171788198352, b: 2.411616798946118}  samples= None\n",
      "Warning: Desired error not necessarily achieved due to precision loss.\n",
      "         Current function value: -2.118021\n",
      "         Iterations: 6\n",
      "         Function evaluations: 397\n",
      "         Gradient evaluations: 77\n"
     ]
    }
   ],
   "source": [
    "result = tq.optimizer_scipy.minimize(objective=O,\n",
    "                                    initial_values=initial_values,\n",
    "                                    use_gradient='2-point',\n",
    "                                    method_options = {'eps':1.e-3})"
   ]
  },
  {
   "cell_type": "markdown",
   "metadata": {},
   "source": [
    "## 5: Can I use Hessian based optimizations, and can I evaluate Hessians numerically?\n",
    "\n",
    "Yes you can, by just picking those methods (like for example 'dogleg' or 'newton-cg').\n",
    "For all 'trust-\\*' methods you can also pick different options (see again scipy documentation)\n",
    "\n",
    "Numerical evaluation for hessians works in the same way as for gradients by passing down `use_hessian` instead of `use_gradient`.  \n",
    "Be aware that not all combinations of `use_gradient` and `use_hessian` will work (usually you need to have the gradients analytically) and that most scipy methods do not support numerical evaluation of Hessians.\n",
    "Also do not confuse that with methods which use an approximation of the Hessian.\n",
    "Again: Check the scipy documentation for more information\n",
    "\n",
    "Here comes a small example where (note that the methods above will not converge to the minimum for this initial_values)"
   ]
  },
  {
   "cell_type": "code",
   "execution_count": 45,
   "metadata": {},
   "outputs": [
    {
     "data": {
      "text/plain": [
       "['TRUST-KRYLOV',\n",
       " 'NEWTON-CG',\n",
       " 'DOGLEG',\n",
       " 'TRUST-NCG',\n",
       " 'TRUST-EXACT',\n",
       " 'TRUST-CONSTR']"
      ]
     },
     "execution_count": 45,
     "metadata": {},
     "output_type": "execute_result"
    }
   ],
   "source": [
    "tq.optimizer_scipy.OptimizerSciPy.hessian_based_methods"
   ]
  },
  {
   "cell_type": "code",
   "execution_count": 49,
   "metadata": {},
   "outputs": [
    {
     "name": "stdout",
     "output_type": "stream",
     "text": [
      "ObjectiveType is <class 'tequila.objective.objective.Objective'>\n",
      "Starting TRUST-EXACT optimization\n",
      "use_gradient : True\n",
      "use_hessian  : True\n",
      "Objective: 1 expectationvalues\n",
      "Gradients: 12 expectationvalues (min=2, max=8)\n",
      "\n",
      "backend: <class 'tequila.simulators.simulator_qulacs.BackendExpectationValueQulacs'>\n",
      "samples: None\n",
      "3 active variables\n",
      "E= -6.556708598282057e-08  angles= {a: 0.25, c: 0.25, b: 0.25}  samples= None\n",
      "E= 0.056369077414274216  angles= {a: 0.7541492736660077, c: 0.5069646049430201, b: 1.0745014867594325}  samples= None\n",
      "E= -1.5460741519927979  angles= {a: 0.32157267420323443, c: 0.277277640201599, b: 0.4900963948608055}  samples= None\n",
      "E= -1.9294308423995972  angles= {a: 0.48760564120003264, c: 0.4359992561702839, b: 0.37365208383735354}  samples= None\n",
      "E= -2.11448073387146  angles= {a: 0.48518539451145815, c: 0.4896418627731603, b: 0.41524265629945056}  samples= None\n",
      "E= -2.118028163909912  angles= {a: 0.5005541422046784, c: 0.5006557856322683, b: 0.4117628509372545}  samples= None\n",
      "E= -2.1180338859558105  angles= {a: 0.5000008460208029, c: 0.5000009890329508, b: 0.41189560464397484}  samples= None\n",
      "Optimization terminated successfully.\n",
      "         Current function value: -2.118034\n",
      "         Iterations: 6\n",
      "         Function evaluations: 7\n",
      "         Gradient evaluations: 6\n",
      "         Hessian evaluations: 7\n"
     ]
    }
   ],
   "source": [
    "options = {\n",
    "    \"initial_tr_radius\":0.05,\n",
    "    \"max_tr_radius\":0.1\n",
    "}\n",
    "\n",
    "result = tq.optimizer_scipy.minimize(objective=O,\n",
    "                                    initial_values={\"a\":0.25, \"b\":0.25, \"c\":0.25},\n",
    "                                    method = \"trust-exact\",\n",
    "                                    method_options = options)\n"
   ]
  },
  {
   "cell_type": "markdown",
   "metadata": {},
   "source": [
    "# Exercises\n",
    "\n",
    "See farther down for solutions"
   ]
  },
  {
   "cell_type": "markdown",
   "metadata": {},
   "source": [
    "## Exercise 1\n",
    "\n",
    "You can pass down initial_values to the optimizer in the same format as you can do it with the circuit (see above).\n",
    "Figure out how to do that by checking out the documentation of the 'minimize' function."
   ]
  },
  {
   "cell_type": "markdown",
   "metadata": {},
   "source": [
    "## Exercise 2\n",
    "Figure out which method the optimizer above used and how to use a different optimization method. To do so check out the documentation of the 'minimize' function"
   ]
  },
  {
   "cell_type": "code",
<<<<<<< HEAD
   "execution_count": 41,
=======
   "execution_count": 50,
>>>>>>> devel
   "metadata": {},
   "outputs": [
    {
     "data": {
      "text/plain": [
<<<<<<< HEAD
       "['Nelder-Mead',\n",
       " 'COBYLA',\n",
       " 'Powell',\n",
       " 'SLSQP',\n",
       " 'L-BFGS-B',\n",
       " 'BFGS',\n",
       " 'CG',\n",
       " 'dogleg',\n",
       " 'TNC']"
      ]
     },
     "execution_count": 41,
=======
       "['NELDER-MEAD', 'COBYLA', 'POWELL', 'SLSQP', 'L-BFGS-B', 'BFGS', 'CG', 'TNC']"
      ]
     },
     "execution_count": 50,
>>>>>>> devel
     "metadata": {},
     "output_type": "execute_result"
    }
   ],
   "source": [
    "# hint\n",
    "tq.optimizer_scipy.available_methods()"
   ]
  },
  {
   "cell_type": "markdown",
   "metadata": {},
   "source": [
    "## Exercise 3\n",
    "If you initialize both parameters to 0.0 you will directly hit a stationary point which causes the optimizer stop.\n",
    "Find out how you can impose bounds on the variables in order to prevent the optimizer from hitting that point.\n",
    "\n",
    "Again: Check the documentation of the 'minimize' function.\n",
    "\n",
    "Note: Not all optimization methods of SciPy support bounds on the variables\n",
    "\n",
    "Note: It is not enough to just restrict the point 0.0"
   ]
  },
  {
   "cell_type": "markdown",
   "metadata": {},
   "source": [
    "# Solutions"
   ]
  },
  {
   "cell_type": "markdown",
   "metadata": {},
   "source": [
    "## Exercise 1 & 2"
   ]
  },
  {
   "cell_type": "code",
<<<<<<< HEAD
   "execution_count": 42,
=======
   "execution_count": 51,
>>>>>>> devel
   "metadata": {
    "scrolled": true
   },
   "outputs": [
    {
     "ename": "KeyError",
     "evalue": "c",
     "output_type": "error",
     "traceback": [
      "\u001b[0;31m---------------------------------------------------------------------------\u001b[0m",
      "\u001b[0;31mKeyError\u001b[0m                                  Traceback (most recent call last)",
      "\u001b[0;32m<ipython-input-51-5538920be1a5>\u001b[0m in \u001b[0;36m<module>\u001b[0;34m\u001b[0m\n\u001b[1;32m      1\u001b[0m \u001b[0mO\u001b[0m \u001b[0;34m=\u001b[0m \u001b[0mtq\u001b[0m\u001b[0;34m.\u001b[0m\u001b[0mObjective\u001b[0m\u001b[0;34m.\u001b[0m\u001b[0mExpectationValue\u001b[0m\u001b[0;34m(\u001b[0m\u001b[0mU\u001b[0m\u001b[0;34m=\u001b[0m\u001b[0mU\u001b[0m\u001b[0;34m,\u001b[0m \u001b[0mH\u001b[0m\u001b[0;34m=\u001b[0m\u001b[0mH\u001b[0m\u001b[0;34m)\u001b[0m\u001b[0;34m\u001b[0m\u001b[0;34m\u001b[0m\u001b[0m\n\u001b[0;32m----> 2\u001b[0;31m \u001b[0mresult\u001b[0m \u001b[0;34m=\u001b[0m \u001b[0mtq\u001b[0m\u001b[0;34m.\u001b[0m\u001b[0moptimizer_scipy\u001b[0m\u001b[0;34m.\u001b[0m\u001b[0mminimize\u001b[0m\u001b[0;34m(\u001b[0m\u001b[0mobjective\u001b[0m\u001b[0;34m=\u001b[0m\u001b[0mO\u001b[0m\u001b[0;34m,\u001b[0m \u001b[0mmethod\u001b[0m\u001b[0;34m=\u001b[0m\u001b[0;34m'TNC'\u001b[0m\u001b[0;34m,\u001b[0m \u001b[0mmaxiter\u001b[0m\u001b[0;34m=\u001b[0m\u001b[0;36m10\u001b[0m\u001b[0;34m,\u001b[0m \u001b[0minitial_values\u001b[0m\u001b[0;34m=\u001b[0m\u001b[0;34m{\u001b[0m\u001b[0;34m'a'\u001b[0m\u001b[0;34m:\u001b[0m\u001b[0;34m-\u001b[0m\u001b[0;36m0.2\u001b[0m\u001b[0;34m,\u001b[0m \u001b[0;34m'b'\u001b[0m\u001b[0;34m:\u001b[0m\u001b[0;34m-\u001b[0m\u001b[0;36m0.1\u001b[0m\u001b[0;34m}\u001b[0m\u001b[0;34m)\u001b[0m\u001b[0;34m\u001b[0m\u001b[0;34m\u001b[0m\u001b[0m\n\u001b[0m\u001b[1;32m      3\u001b[0m \u001b[0mresult\u001b[0m\u001b[0;34m.\u001b[0m\u001b[0mhistory\u001b[0m\u001b[0;34m.\u001b[0m\u001b[0mplot\u001b[0m\u001b[0;34m(\u001b[0m\u001b[0;34m)\u001b[0m\u001b[0;34m\u001b[0m\u001b[0;34m\u001b[0m\u001b[0m\n",
      "\u001b[0;32m~/projects/OpenVQE/src/tequila/optimizers/optimizer_scipy.py\u001b[0m in \u001b[0;36mminimize\u001b[0;34m(objective, gradient, initial_values, variables, samples, maxiter, backend, method, tol, method_options, method_bounds, method_constraints, save_history, silent, use_gradient, use_hessian)\u001b[0m\n\u001b[1;32m    322\u001b[0m                                \u001b[0mmethod_bounds\u001b[0m\u001b[0;34m=\u001b[0m\u001b[0mmethod_bounds\u001b[0m\u001b[0;34m,\u001b[0m\u001b[0;34m\u001b[0m\u001b[0;34m\u001b[0m\u001b[0m\n\u001b[1;32m    323\u001b[0m                                \u001b[0mmethod_constraints\u001b[0m\u001b[0;34m=\u001b[0m\u001b[0mmethod_constraints\u001b[0m\u001b[0;34m,\u001b[0m\u001b[0;34m\u001b[0m\u001b[0;34m\u001b[0m\u001b[0m\n\u001b[0;32m--> 324\u001b[0;31m                                \u001b[0msilent\u001b[0m\u001b[0;34m=\u001b[0m\u001b[0msilent\u001b[0m\u001b[0;34m,\u001b[0m\u001b[0;34m\u001b[0m\u001b[0;34m\u001b[0m\u001b[0m\n\u001b[0m\u001b[1;32m    325\u001b[0m                                \u001b[0msimulator\u001b[0m\u001b[0;34m=\u001b[0m\u001b[0mbackend\u001b[0m\u001b[0;34m,\u001b[0m\u001b[0;34m\u001b[0m\u001b[0;34m\u001b[0m\u001b[0m\n\u001b[1;32m    326\u001b[0m                                \u001b[0mtol\u001b[0m\u001b[0;34m=\u001b[0m\u001b[0mtol\u001b[0m\u001b[0;34m,\u001b[0m\u001b[0;34m\u001b[0m\u001b[0;34m\u001b[0m\u001b[0m\n",
      "\u001b[0;32m~/projects/OpenVQE/src/tequila/optimizers/optimizer_scipy.py\u001b[0m in \u001b[0;36m__call__\u001b[0;34m(self, objective, gradient, initial_values, variables, samples, backend, reset_history)\u001b[0m\n\u001b[1;32m    128\u001b[0m \u001b[0;34m\u001b[0m\u001b[0m\n\u001b[1;32m    129\u001b[0m         \u001b[0mactive_angles\u001b[0m \u001b[0;34m=\u001b[0m \u001b[0;34m{\u001b[0m\u001b[0;34m}\u001b[0m\u001b[0;34m\u001b[0m\u001b[0;34m\u001b[0m\u001b[0m\n\u001b[0;32m--> 130\u001b[0;31m         \u001b[0;32mfor\u001b[0m \u001b[0mv\u001b[0m \u001b[0;32min\u001b[0m \u001b[0mvariables\u001b[0m\u001b[0;34m:\u001b[0m\u001b[0;34m\u001b[0m\u001b[0;34m\u001b[0m\u001b[0m\n\u001b[0m\u001b[1;32m    131\u001b[0m             \u001b[0mactive_angles\u001b[0m\u001b[0;34m[\u001b[0m\u001b[0mv\u001b[0m\u001b[0;34m]\u001b[0m \u001b[0;34m=\u001b[0m \u001b[0mangles\u001b[0m\u001b[0;34m[\u001b[0m\u001b[0mv\u001b[0m\u001b[0;34m]\u001b[0m\u001b[0;34m\u001b[0m\u001b[0;34m\u001b[0m\u001b[0m\n\u001b[1;32m    132\u001b[0m \u001b[0;34m\u001b[0m\u001b[0m\n",
      "\u001b[0;31mKeyError\u001b[0m: c"
     ]
    }
   ],
   "source": [
    "O = tq.Objective.ExpectationValue(U=U, H=H)\n",
    "result = tq.optimizer_scipy.minimize(objective=O, method='TNC', maxiter=10, initial_values={'a':-0.2, 'b':-0.1})\n",
    "result.history.plot()"
   ]
  },
  {
   "cell_type": "code",
   "execution_count": 43,
   "metadata": {},
   "outputs": [
    {
     "data": {
      "image/png": "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\n",
      "text/plain": [
       "<Figure size 432x288 with 1 Axes>"
      ]
     },
     "metadata": {
      "needs_background": "light"
     },
     "output_type": "display_data"
    }
   ],
   "source": [
    "result.history.plot('angles')"
   ]
  },
  {
   "cell_type": "markdown",
   "metadata": {},
   "source": [
    "## Exercise 3"
   ]
  },
  {
   "cell_type": "code",
<<<<<<< HEAD
   "execution_count": 44,
=======
   "execution_count": 26,
>>>>>>> devel
   "metadata": {},
   "outputs": [
    {
     "name": "stdout",
     "output_type": "stream",
     "text": [
      "ObjectiveType is <class 'tequila.objective.objective.Objective'>\n",
      "Starting TNC optimization\n",
      "use_gradient : True\n",
      "use_hessian  : False\n",
      "Objective: 1 expectationvalues\n",
      "Gradients: 10 expectationvalues (min=2, max=8)\n",
      "\n",
      "backend: <class 'tequila.simulators.simulator_qulacs.BackendExpectationValueQulacs'>\n",
      "samples: None\n",
      "2 active variables\n",
      "E= 0.0  angles= {b: 0.0, a: 0.0}  samples= None\n",
      "E= 0.0  angles= {b: 0.0, a: 0.0}  samples= None\n"
     ]
    },
    {
     "data": {
      "image/png": "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\n",
      "text/plain": [
       "<Figure size 432x288 with 1 Axes>"
      ]
     },
     "metadata": {
      "needs_background": "light"
     },
     "output_type": "display_data"
    }
   ],
   "source": [
    "# this will get stuck (similar for other gradient based optimizers)\n",
    "zeroes = {'a':0.0, 'b':0.0}\n",
    "shift = 1.0\n",
    "O = tq.Objective.ExpectationValue(U=U, H=H)\n",
    "result = tq.optimizer_scipy.minimize(objective=O, method='TNC', initial_values=zeroes)\n",
    "result.history.plot()"
   ]
  },
  {
   "cell_type": "code",
<<<<<<< HEAD
   "execution_count": 45,
=======
   "execution_count": 27,
>>>>>>> devel
   "metadata": {},
   "outputs": [
    {
     "ename": "AssertionError",
     "evalue": "",
     "output_type": "error",
     "traceback": [
      "\u001b[0;31m---------------------------------------------------------------------------\u001b[0m",
      "\u001b[0;31mAssertionError\u001b[0m                            Traceback (most recent call last)",
      "\u001b[0;32m<ipython-input-27-3434bd453479>\u001b[0m in \u001b[0;36m<module>\u001b[0;34m\u001b[0m\n\u001b[1;32m      5\u001b[0m \u001b[0mbounds\u001b[0m \u001b[0;34m=\u001b[0m \u001b[0;34m{\u001b[0m\u001b[0;34m'a'\u001b[0m\u001b[0;34m:\u001b[0m\u001b[0;34m(\u001b[0m\u001b[0;34m-\u001b[0m\u001b[0;36m2\u001b[0m\u001b[0;34m*\u001b[0m\u001b[0mnumpy\u001b[0m\u001b[0;34m.\u001b[0m\u001b[0mpi\u001b[0m\u001b[0;34m+\u001b[0m\u001b[0;36m0.1\u001b[0m\u001b[0;34m,\u001b[0m \u001b[0;34m-\u001b[0m\u001b[0;36m0.1\u001b[0m\u001b[0;34m)\u001b[0m\u001b[0;34m,\u001b[0m \u001b[0;34m'b'\u001b[0m\u001b[0;34m:\u001b[0m\u001b[0;34m(\u001b[0m\u001b[0;34m-\u001b[0m\u001b[0;36m2\u001b[0m\u001b[0;34m*\u001b[0m\u001b[0mnumpy\u001b[0m\u001b[0;34m.\u001b[0m\u001b[0mpi\u001b[0m\u001b[0;34m+\u001b[0m\u001b[0;36m0.1\u001b[0m\u001b[0;34m,\u001b[0m \u001b[0;34m-\u001b[0m\u001b[0;36m0.1\u001b[0m\u001b[0;34m)\u001b[0m \u001b[0;34m}\u001b[0m\u001b[0;34m\u001b[0m\u001b[0;34m\u001b[0m\u001b[0m\n\u001b[1;32m      6\u001b[0m \u001b[0mO\u001b[0m \u001b[0;34m=\u001b[0m \u001b[0mtq\u001b[0m\u001b[0;34m.\u001b[0m\u001b[0mObjective\u001b[0m\u001b[0;34m.\u001b[0m\u001b[0mExpectationValue\u001b[0m\u001b[0;34m(\u001b[0m\u001b[0mU\u001b[0m\u001b[0;34m=\u001b[0m\u001b[0mU\u001b[0m\u001b[0;34m,\u001b[0m \u001b[0mH\u001b[0m\u001b[0;34m=\u001b[0m\u001b[0mH\u001b[0m\u001b[0;34m)\u001b[0m\u001b[0;34m\u001b[0m\u001b[0;34m\u001b[0m\u001b[0m\n\u001b[0;32m----> 7\u001b[0;31m \u001b[0mresult\u001b[0m \u001b[0;34m=\u001b[0m \u001b[0mtq\u001b[0m\u001b[0;34m.\u001b[0m\u001b[0moptimizer_scipy\u001b[0m\u001b[0;34m.\u001b[0m\u001b[0mminimize\u001b[0m\u001b[0;34m(\u001b[0m\u001b[0mobjective\u001b[0m\u001b[0;34m=\u001b[0m\u001b[0mO\u001b[0m\u001b[0;34m,\u001b[0m \u001b[0mmethod\u001b[0m\u001b[0;34m=\u001b[0m\u001b[0;34m'TNC'\u001b[0m\u001b[0;34m,\u001b[0m \u001b[0minitial_values\u001b[0m\u001b[0;34m=\u001b[0m\u001b[0mzeroes\u001b[0m\u001b[0;34m,\u001b[0m \u001b[0mmethod_bounds\u001b[0m\u001b[0;34m=\u001b[0m\u001b[0mbounds\u001b[0m\u001b[0;34m)\u001b[0m\u001b[0;34m\u001b[0m\u001b[0;34m\u001b[0m\u001b[0m\n\u001b[0m\u001b[1;32m      8\u001b[0m \u001b[0mresult\u001b[0m\u001b[0;34m.\u001b[0m\u001b[0mhistory\u001b[0m\u001b[0;34m.\u001b[0m\u001b[0mplot\u001b[0m\u001b[0;34m(\u001b[0m\u001b[0;34m)\u001b[0m\u001b[0;34m\u001b[0m\u001b[0;34m\u001b[0m\u001b[0m\n",
      "\u001b[0;32m~/projects/OpenVQE/src/tequila/optimizers/optimizer_scipy.py\u001b[0m in \u001b[0;36mminimize\u001b[0;34m(objective, gradient, initial_values, variables, samples, maxiter, backend, method, tol, method_options, method_bounds, method_constraints, save_history, silent, use_gradient, use_hessian)\u001b[0m\n\u001b[1;32m    322\u001b[0m         \u001b[0minitial_values\u001b[0m \u001b[0;34m=\u001b[0m \u001b[0;34m{\u001b[0m\u001b[0massign_variable\u001b[0m\u001b[0;34m(\u001b[0m\u001b[0mk\u001b[0m\u001b[0;34m)\u001b[0m\u001b[0;34m:\u001b[0m \u001b[0mv\u001b[0m \u001b[0;32mfor\u001b[0m \u001b[0mk\u001b[0m\u001b[0;34m,\u001b[0m \u001b[0mv\u001b[0m \u001b[0;32min\u001b[0m \u001b[0minitial_values\u001b[0m\u001b[0;34m.\u001b[0m\u001b[0mitems\u001b[0m\u001b[0;34m(\u001b[0m\u001b[0;34m)\u001b[0m\u001b[0;34m}\u001b[0m\u001b[0;34m\u001b[0m\u001b[0;34m\u001b[0m\u001b[0m\n\u001b[1;32m    323\u001b[0m     return optimizer(objective=objective, gradient=gradient, initial_values=initial_values, variables=variables,\n\u001b[0;32m--> 324\u001b[0;31m                      samples=samples)\n\u001b[0m",
      "\u001b[0;32m~/projects/OpenVQE/src/tequila/optimizers/optimizer_scipy.py\u001b[0m in \u001b[0;36m__call__\u001b[0;34m(self, objective, gradient, initial_values, variables, samples, backend, reset_history)\u001b[0m\n\u001b[1;32m    208\u001b[0m         \u001b[0;32mif\u001b[0m \u001b[0mself\u001b[0m\u001b[0;34m.\u001b[0m\u001b[0mmethod_bounds\u001b[0m \u001b[0;32mis\u001b[0m \u001b[0;32mnot\u001b[0m \u001b[0;32mNone\u001b[0m\u001b[0;34m:\u001b[0m\u001b[0;34m\u001b[0m\u001b[0;34m\u001b[0m\u001b[0m\n\u001b[1;32m    209\u001b[0m             \u001b[0mnames\u001b[0m\u001b[0;34m,\u001b[0m \u001b[0mbounds\u001b[0m \u001b[0;34m=\u001b[0m \u001b[0mzip\u001b[0m\u001b[0;34m(\u001b[0m\u001b[0;34m*\u001b[0m\u001b[0mself\u001b[0m\u001b[0;34m.\u001b[0m\u001b[0mmethod_bounds\u001b[0m\u001b[0;34m.\u001b[0m\u001b[0mitems\u001b[0m\u001b[0;34m(\u001b[0m\u001b[0;34m)\u001b[0m\u001b[0;34m)\u001b[0m\u001b[0;34m\u001b[0m\u001b[0;34m\u001b[0m\u001b[0m\n\u001b[0;32m--> 210\u001b[0;31m             \u001b[0;32massert\u001b[0m \u001b[0;34m(\u001b[0m\u001b[0mnames\u001b[0m \u001b[0;34m==\u001b[0m \u001b[0mparam_keys\u001b[0m\u001b[0;34m)\u001b[0m\u001b[0;34m\u001b[0m\u001b[0;34m\u001b[0m\u001b[0m\n\u001b[0m\u001b[1;32m    211\u001b[0m \u001b[0;34m\u001b[0m\u001b[0m\n\u001b[1;32m    212\u001b[0m         \u001b[0;32mif\u001b[0m \u001b[0;32mnot\u001b[0m \u001b[0mself\u001b[0m\u001b[0;34m.\u001b[0m\u001b[0msilent\u001b[0m\u001b[0;34m:\u001b[0m\u001b[0;34m\u001b[0m\u001b[0;34m\u001b[0m\u001b[0m\n",
      "\u001b[0;31mAssertionError\u001b[0m: "
     ]
    }
   ],
   "source": [
    "# bounding the variables to keep it away from the stationary point which occurs at 0 and is periodic in 2pi\n",
    "# using negative values since that converges faster\n",
    "zeroes = {'a':0.0, 'b':0.0}\n",
    "shift = 1.0\n",
    "bounds = {'a':(-2*numpy.pi+0.1, -0.1), 'b':(-2*numpy.pi+0.1, -0.1) }\n",
    "O = tq.Objective.ExpectationValue(U=U, H=H)\n",
    "result = tq.optimizer_scipy.minimize(objective=O, method='TNC', initial_values=zeroes, method_bounds=bounds)\n",
    "result.history.plot()"
   ]
  },
  {
   "cell_type": "code",
<<<<<<< HEAD
   "execution_count": 46,
=======
   "execution_count": null,
>>>>>>> devel
   "metadata": {},
   "outputs": [],
   "source": [
    "result.history.plot('angles')"
   ]
  }
 ],
 "metadata": {
  "kernelspec": {
   "display_name": "tequila-3.6",
   "language": "python",
   "name": "tequila-3.6"
  },
  "language_info": {
   "codemirror_mode": {
    "name": "ipython",
    "version": 3
   },
   "file_extension": ".py",
   "mimetype": "text/x-python",
   "name": "python",
   "nbconvert_exporter": "python",
   "pygments_lexer": "ipython3",
   "version": "3.6.9"
  }
 },
 "nbformat": 4,
 "nbformat_minor": 2
}
