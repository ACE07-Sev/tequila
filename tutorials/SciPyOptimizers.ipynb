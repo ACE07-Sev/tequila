{
 "cells": [
  {
   "cell_type": "markdown",
   "metadata": {},
   "source": [
    "# Tequila Tutorial: \n",
    "## Handling Optimizers, Initializing parametrized circuits"
   ]
  },
  {
   "cell_type": "code",
   "execution_count": 1,
   "metadata": {},
   "outputs": [],
   "source": [
    "# Import everything we need here\n",
    "import tequila as tq\n",
    "numpy = tq.numpy"
   ]
  },
  {
   "cell_type": "markdown",
   "metadata": {},
   "source": [
    "In the following example we will optimize a simple two qubit VQE with an Ansatz that is parametrized by two parameters.\n",
    "The Hamiltonian is also very simple and defined in the box below.\n",
    "$$ H = \\sigma_x(1) + c \\sigma_z(1) - \\sigma_z(0)$$\n",
    "\n",
    "<br>\n",
    "The tutorial is \\textbf{not} a guideline to optimization strategies but only intends to show tequilas functionality"
   ]
  },
  {
   "cell_type": "code",
   "execution_count": 2,
   "metadata": {},
   "outputs": [],
   "source": [
    "c = 0.5\n",
    "H = tq.paulis.X(1) + c*tq.paulis.Z(1) - tq.paulis.Z(0)"
   ]
  },
  {
   "cell_type": "markdown",
   "metadata": {},
   "source": [
    "Lets take a look at the spectrum of this very simple Hamiltonian  \n",
    "Keep in mind: Tequila is not a numerical linear algebra package, so better not try to diagonalize Hamiltonians  \n",
    "we however added this feature for user convenience in examples  \n",
    "In the future we might have interfaces to more powerfull numerical packages ... feel free to contribute :-) "
   ]
  },
  {
   "cell_type": "code",
   "execution_count": 3,
   "metadata": {},
   "outputs": [
    {
     "data": {
      "text/plain": [
       "DeviceArray([-2.118034  , -0.11803401,  0.11803401,  2.118034  ], dtype=float32)"
      ]
     },
     "execution_count": 3,
     "metadata": {},
     "output_type": "execute_result"
    }
   ],
   "source": [
    "matrix = H.to_matrix()\n",
    "e, v = numpy.linalg.eigh(matrix)\n",
    "e"
   ]
  },
  {
   "cell_type": "markdown",
   "metadata": {},
   "source": [
    "And here we initialize our Ansatz circuit which is parametrized by a and b.<br>\n",
    "\n",
    "We show to ways to initialize Variables:\n",
    "Variable a is initialized with a convenience string based initialization <br>\n",
    "Variable b is initialized as Variable which allows you to conveniently transforming it when initializing gates. Here we do a simple rescaling as an example <br>\n",
    "Note that you don't need strings to name variables but can use any hashable non-numeric type (meaning anything that is not interpreted as number). \n",
    "\n",
    "For example: tq.Variable(name=(0,1,2,3)) will also work\n",
    "\n",
    "\n",
    "The Ansatz has no specific meaning and it is more to show different ways how to deal with variables.\n",
    "See for instance that you can scale them and use the same variable in multiple gates. (See the other tutorials for more examples)"
   ]
  },
  {
   "cell_type": "code",
   "execution_count": 4,
   "metadata": {},
   "outputs": [],
   "source": [
    "a = tq.Variable(name=\"a\")\n",
    "b = tq.Variable(name=\"b\")\n",
    "c = tq.Variable(name=\"c\")\n",
    "\n",
    "a = 2.0*a*tq.numpy.pi # optimize a in units of 2pi\n",
    "b = 2.0*b*tq.numpy.pi # optimize b in units of 2pi\n",
    "c = 2.0*c*tq.numpy.pi # optimize c in units of 2pi\n",
    "\n",
    "U = tq.gates.Ry(target=0, angle=a)\n",
    "U += tq.gates.Ry(target=1, control=0, angle=b)\n",
    "U += tq.gates.X(target=1)\n",
    "U += tq.gates.Ry(target=1, control=0, angle=-b)\n",
    "U += tq.gates.Ry(target=0,angle=c)\n"
   ]
  },
  {
   "cell_type": "code",
   "execution_count": 5,
   "metadata": {},
   "outputs": [
    {
     "name": "stdout",
     "output_type": "stream",
     "text": [
      "circuit: \n",
      "Ry(target=(0,), parameter=Objective with 0 expectation values\n",
      "Objective = f(a)\n",
      "variables = [a])\n",
      "Ry(target=(1,), control=(0,), parameter=Objective with 0 expectation values\n",
      "Objective = f(b)\n",
      "variables = [b])\n",
      "X(target=(1,))\n",
      "Ry(target=(1,), control=(0,), parameter=Objective with 0 expectation values\n",
      "Objective = f(b)\n",
      "variables = [b])\n",
      "Ry(target=(0,), parameter=Objective with 0 expectation values\n",
      "Objective = f(c)\n",
      "variables = [c])\n",
      "\n"
     ]
    }
   ],
   "source": [
    "print(U)"
   ]
  },
  {
   "cell_type": "code",
   "execution_count": 6,
   "metadata": {},
   "outputs": [
    {
     "name": "stdout",
     "output_type": "stream",
     "text": [
      "0: ───Ry(0.318309886183791*pi*p_0)───@──────────────────────────────────@──────────────────────────────Ry(0.318309886183791*pi*p_3)───\n",
      "                                     │                                  │\n",
      "1: ──────────────────────────────────Ry(0.318309886183791*pi*p_1)───X───Ry(0.318309886183791*pi*p_2)──────────────────────────────────\n"
     ]
    }
   ],
   "source": [
    "# nice output (depends on which backends you have installed)\n",
    "tq.draw(U)"
   ]
  },
  {
   "cell_type": "markdown",
   "metadata": {},
   "source": [
    "In the next box we form an objective out of our Hamiltonian and our Ansatz and pass it down to the optimizer.\n",
    "In the following boxes we show how the results of the optimizer can be plotted\n",
    "\n",
    "See further below for some small exercises and additional information \n",
    "\n",
    "First lets see how objectives are created and simulated"
   ]
  },
  {
   "cell_type": "code",
   "execution_count": 7,
   "metadata": {},
   "outputs": [
    {
     "name": "stdout",
     "output_type": "stream",
     "text": [
      "energy : -6.556708598282057e-08\n",
      "wfn    : -0.5000|00> +0.5000|10> +0.5000|01> +0.5000|11> \n",
      "squared: 4.2990428789557375e-15\n"
     ]
    }
   ],
   "source": [
    "O = tq.Objective.ExpectationValue(U=U, H=H)\n",
    "variables = {\"a\":0.25, \"b\":0.25, \"c\":0.25}\n",
    "energy = tq.simulate(O, variables=variables)\n",
    "wfn = tq.simulate(U, variables=variables)\n",
    "evaluate_squared = tq.simulate(O**2, variables=variables)\n",
    "print(\"energy : {}\".format(energy))\n",
    "print(\"wfn    : {}\".format(wfn))\n",
    "print(\"squared: {}\".format(evaluate_squared))"
   ]
  },
  {
   "cell_type": "markdown",
   "metadata": {},
   "source": [
    "Now the objective can be optimized \n",
    "\n",
    "We will also set the initial values of the variables that can be passed to the optimizer.  \n",
    "Values of variables are passed as dictionaries where the keys are tequila variables and the values are floats.  "
   ]
  },
  {
   "cell_type": "code",
   "execution_count": 8,
   "metadata": {},
   "outputs": [
    {
     "name": "stdout",
     "output_type": "stream",
     "text": [
      "ObjectiveType is <class 'tequila.objective.objective.Objective'>\n",
      "Starting BFGS optimization\n",
      "Objective: 1 expectationvalues\n",
      "Gradients: 12 expectationvalues (min=2, max=8)\n",
      "Hessian: None\n",
      "\n",
      "backend: <class 'tequila.simulators.simulator_qulacs.BackendExpectationValueQulacs'>\n",
      "samples: None\n",
      "3 active variables\n",
      "E= -0.6677023768424988  angles= {a: 0.3, c: 0.3, b: 0.3}  samples= None\n",
      "E= -0.8664148449897766  angles= {a: 0.32290425519998417, c: 0.3886562339058441, b: 1.3058406768884259}  samples= None\n",
      "E= -0.35434409976005554  angles= {a: 0.41452127599992095, c: 0.7432811695292205, b: 5.3292033844421285}  samples= None\n",
      "E= -0.8048092126846313  angles= {a: 0.34545659521768646, c: 0.4759502984487035, b: 2.296226993787273}  samples= None\n",
      "E= -1.0825814008712769  angles= {a: 0.35552766918242806, c: 0.4726846615631134, b: 2.316243767266607}  samples= None\n",
      "E= -1.9243844747543335  angles= {a: 0.3958119650413944, c: 0.4596221140207529, b: 2.396310861183945}  samples= None\n",
      "E= 0.06258417665958405  angles= {a: 0.8541594710840736, c: 0.23628931720590574, b: 2.4354660560840804}  samples= None\n",
      "E= -2.059643268585205  angles= {a: 0.44198771303416723, c: 0.4371226811487799, b: 2.4002555110150894}  samples= None\n",
      "E= -1.8174768686294556  angles= {a: 0.6249455977453896, c: 0.6644323193476007, b: 2.3892573511090696}  samples= None\n",
      "E= -2.0970754623413086  angles= {a: 0.4845773677606281, c: 0.4900367111845168, b: 2.3976953161715433}  samples= None\n",
      "E= -2.10044527053833  angles= {a: 0.4955475657110711, c: 0.4958871002014992, b: 2.4259504946577657}  samples= None\n",
      "E= -2.1168911457061768  angles= {a: 0.4903158773773612, c: 0.49309704918272285, b: 2.412475597639404}  samples= None\n",
      "E= -2.1180248260498047  angles= {a: 0.5004529910085411, c: 0.4998681248177429, b: 2.4117683299756165}  samples= None\n",
      "E= -2.1180338859558105  angles= {a: 0.499994265347834, c: 0.5000016401084967, b: 2.4118917470990233}  samples= None\n",
      "Optimization terminated successfully.\n",
      "         Current function value: -2.118034\n",
      "         Iterations: 7\n",
      "         Function evaluations: 14\n",
      "         Gradient evaluations: 14\n"
     ]
    }
   ],
   "source": [
    "initial_values = {'a':0.3, 'b':0.3, 'c':0.3}\n",
    "O = tq.Objective.ExpectationValue(U=U, H=H)\n",
    "result = tq.optimizer_scipy.minimize(objective=O, method=\"bfgs\", initial_values=initial_values, tol=1.e-3, method_options={\"gtol\":1.e-3})"
   ]
  },
  {
   "cell_type": "code",
   "execution_count": 9,
   "metadata": {},
   "outputs": [
    {
     "data": {
      "text/plain": [
       "-2.1180338859558105"
      ]
     },
     "execution_count": 9,
     "metadata": {},
     "output_type": "execute_result"
    }
   ],
   "source": [
    "# final energy\n",
    "result.energy"
   ]
  },
  {
   "cell_type": "markdown",
   "metadata": {},
   "source": [
    "Plot out the History:\n",
    "Note, that we choose bad initial points since they are close to the maximum"
   ]
  },
  {
   "cell_type": "code",
   "execution_count": 10,
   "metadata": {
    "scrolled": true
   },
   "outputs": [
    {
     "data": {
      "image/png": "[encoded data removed]",
      "text/plain": [
       "<Figure size 432x288 with 1 Axes>"
      ]
     },
     "metadata": {
      "needs_background": "light"
     },
     "output_type": "display_data"
    }
   ],
   "source": [
    "result.history.plot('energies')"
   ]
  },
  {
   "cell_type": "code",
   "execution_count": 11,
   "metadata": {
    "scrolled": true
   },
   "outputs": [
    {
     "data": {
      "image/png": "[encoded data removed]",
      "text/plain": [
       "<Figure size 432x288 with 1 Axes>"
      ]
     },
     "metadata": {
      "needs_background": "light"
     },
     "output_type": "display_data"
    }
   ],
   "source": [
    "result.history.plot(property='angles', key=[\"a\", \"b\"])"
   ]
  },
  {
   "cell_type": "code",
   "execution_count": 12,
   "metadata": {},
   "outputs": [
    {
     "data": {
      "image/png": "[encoded data removed]",
      "text/plain": [
       "<Figure size 432x288 with 1 Axes>"
      ]
     },
     "metadata": {
      "needs_background": "light"
     },
     "output_type": "display_data"
    },
    {
     "data": {
      "image/png": "[encoded data removed]",
      "text/plain": [
       "<Figure size 432x288 with 1 Axes>"
      ]
     },
     "metadata": {
      "needs_background": "light"
     },
     "output_type": "display_data"
    }
   ],
   "source": [
    "# Convenience in the history plot\n",
    "result.history.plot(property='angles', key=\"a\")\n",
    "result.history.plot(property=['angles', 'gradients'], key=[\"c\"])"
   ]
  },
  {
   "cell_type": "markdown",
   "metadata": {},
   "source": [
    "# FAQ\n",
    "\n",
    "## 1: How can I extract the parameters from a given circuit?\n",
    "\n",
    "Call the 'extract_parameters' attribute and get back a list of all Variables in the circuit"
   ]
  },
  {
   "cell_type": "code",
   "execution_count": 13,
   "metadata": {},
   "outputs": [
    {
     "data": {
      "text/plain": [
       "[c, b, a]"
      ]
     },
     "execution_count": 13,
     "metadata": {},
     "output_type": "execute_result"
    }
   ],
   "source": [
    "angles = U.extract_variables()\n",
    "angles"
   ]
  },
  {
   "cell_type": "markdown",
   "metadata": {},
   "source": [
    "## 2: How can I do measurement based simulation?\n",
    "Pass down the 'samples' keyword to simulate finite samples\n",
    "See the later exercises to play around with sample number and optimization methods.\n",
    "\n",
    "Feel free to play around with the number of samples \n",
    "Don't excpect miracles from the optimizer, you might need to hit return a few times or increase the number of samples.<br>Note that stochastic gradients are not yet supported\n",
    "<br>Note also that we did not set the initial parameters, so we will start with all parameters set to 0 which is a stationary point in this example (full wavefunction simulation would get stuck, see also the exercise below).\n",
    "\n",
    "Sampling based simulation needs improvement. Don't expect too much, but feel free to contribute\n",
    "\n",
    "Lets only optimize veriable b and set the other to the correct value to also show how that works"
   ]
  },
  {
   "cell_type": "code",
   "execution_count": 14,
   "metadata": {},
   "outputs": [
    {
     "name": "stdout",
     "output_type": "stream",
     "text": [
      "ObjectiveType is <class 'tequila.objective.objective.Objective'>\n",
      "Starting BFGS optimization\n",
      "Objective: 1 expectationvalues\n",
      "Gradients: 8 expectationvalues (min=8, max=8)\n",
      "Hessian: None\n",
      "\n",
      "backend: <class 'tequila.simulators.simulator_qiskit.BackendExpectationValueQiskit'>\n",
      "samples: 100\n",
      "1 active variables\n",
      "E= -1.0499999523162842  angles= {b: 0.3, a: 0.3, c: 0.3}  samples= 100\n",
      "E= -0.6499999761581421  angles= {b: 1.31, a: 0.3, c: 0.3}  samples= 100\n",
      "E= -1.440000057220459  angles= {b: 0.5120384208480213, a: 0.3, c: 0.3}  samples= 100\n",
      "E= -1.8200000524520874  angles= {b: 0.43226834166283945, a: 0.3, c: 0.3}  samples= 100\n",
      "E= -1.7799999713897705  angles= {b: 0.42810767253896137, a: 0.3, c: 0.3}  samples= 100\n",
      "E= -1.590000033378601  angles= {b: 0.43223569109717574, a: 0.3, c: 0.3}  samples= 100\n",
      "E= -1.8300000429153442  angles= {b: 0.43226834131094544, a: 0.3, c: 0.3}  samples= 100\n",
      "E= -1.75  angles= {b: 0.432268341298378, a: 0.3, c: 0.3}  samples= 100\n",
      "E= -1.6399999856948853  angles= {b: 0.43226834131094544, a: 0.3, c: 0.3}  samples= 100\n",
      "E= -1.7000000476837158  angles= {b: 0.43226834131094544, a: 0.3, c: 0.3}  samples= 100\n",
      "E= -1.7899999618530273  angles= {b: 0.432268341298378, a: 0.3, c: 0.3}  samples= 100\n",
      "E= -1.7799999713897705  angles= {b: 0.4322683413046617, a: 0.3, c: 0.3}  samples= 100\n",
      "E= -1.850000023841858  angles= {b: 0.43226834130780356, a: 0.3, c: 0.3}  samples= 100\n",
      "E= -1.8899999856948853  angles= {b: 0.43226834130780356, a: 0.3, c: 0.3}  samples= 100\n",
      "E= -1.7599999904632568  angles= {b: 0.43226834130780356, a: 0.3, c: 0.3}  samples= 100\n",
      "E= -1.75  angles= {b: 0.43226834130780356, a: 0.3, c: 0.3}  samples= 100\n",
      "E= -1.7999999523162842  angles= {b: 0.43226834130780356, a: 0.3, c: 0.3}  samples= 100\n",
      "E= -1.809999942779541  angles= {b: 0.43226834130780356, a: 0.3, c: 0.3}  samples= 100\n",
      "E= -1.940000057220459  angles= {b: 0.43226834130780356, a: 0.3, c: 0.3}  samples= 100\n",
      "E= -1.6799999475479126  angles= {b: 0.43226834130780356, a: 0.3, c: 0.3}  samples= 100\n",
      "E= -1.7799999713897705  angles= {b: 0.43226834130780356, a: 0.3, c: 0.3}  samples= 100\n",
      "E= -2.0299999713897705  angles= {b: 0.43226834130780356, a: 0.3, c: 0.3}  samples= 100\n",
      "Warning: Desired error not necessarily achieved due to precision loss.\n",
      "         Current function value: -1.830000\n",
      "         Iterations: 3\n",
      "         Function evaluations: 22\n",
      "         Gradient evaluations: 14\n"
     ]
    },
    {
     "data": {
      "image/png": "[encoded data removed]",
      "text/plain": [
       "<Figure size 432x288 with 1 Axes>"
      ]
     },
     "metadata": {
      "needs_background": "light"
     },
     "output_type": "display_data"
    },
    {
     "name": "stdout",
     "output_type": "stream",
     "text": [
      "result =  -1.8300000429153442\n"
     ]
    }
   ],
   "source": [
    "O = tq.Objective.ExpectationValue(U=U, H=H)\n",
    "initial_values[\"a\"] = 0.3\n",
    "initial_values[\"c\"] = 0.3\n",
    "initial_values[\"b\"] = 0.3\n",
    "result = tq.optimizer_scipy.minimize(objective=O, variables=[\"b\"], initial_values = initial_values, tol=1.e-3, samples=100, method=\"bfgs\")\n",
    "result.history.plot('energies')\n",
    "print(\"result = \", result.energy)"
   ]
  },
  {
   "cell_type": "markdown",
   "metadata": {},
   "source": [
    "## 3: Which Simulator was used and how can I choose the simulator?\n",
    "\n",
    "You can pass down the simulator to the optimizer by the simulator keyword (see below)\n",
    "If no specific simulator was chosen by you that means the simulator is automatically picked. Which simulator is picked depends on what simulators you have installed and if you demanded a full wavefunction to be simulated or not.\n",
    "\n",
    "You can check which simulators you have installed with the following"
   ]
  },
  {
   "cell_type": "code",
   "execution_count": 16,
   "metadata": {},
   "outputs": [
    {
     "name": "stdout",
     "output_type": "stream",
     "text": [
      "Supported Backends:\n",
      "\n",
      "qulacs\n",
      "qiskit\n",
      "cirq\n",
      "pyquil\n",
      "symbolic\n",
      "Installed Wavefunction Simulators:\n",
      "\n",
      "qulacs\n",
      "pyquil\n",
      "qiskit\n",
      "cirq\n",
      "symbolic\n",
      "\n",
      "Installed Wavefunction Samplers:\n",
      "\n",
      "pyquil\n",
      "qiskit\n",
      "cirq\n",
      "None\n"
     ]
    }
   ],
   "source": [
    "print(tq.show_available_simulators())"
   ]
  },
  {
   "cell_type": "markdown",
   "metadata": {},
   "source": [
    "Here is how you would initialize a simulator and pass it down the optimizer.\n",
    "The if statement is just to prevent your Ipython kernel from crashing when you have not installed the simulator\n",
    "Feel free to change it to something you have installed"
   ]
  },
  {
   "cell_type": "code",
   "execution_count": 18,
   "metadata": {},
   "outputs": [
    {
     "name": "stdout",
     "output_type": "stream",
     "text": [
      "ObjectiveType is <class 'tequila.objective.objective.Objective'>\n",
      "Starting BFGS optimization\n",
      "Objective: 1 expectationvalues\n",
      "Gradients: 12 expectationvalues (min=2, max=8)\n",
      "Hessian: None\n",
      "\n",
      "backend: <class 'tequila.simulators.simulator_qiskit.BackendExpectationValueQiskit'>\n",
      "samples: None\n",
      "3 active variables\n",
      "E= -0.6677023768424988  angles= {a: 0.3, c: 0.3, b: 0.3}  samples= None\n",
      "E= -0.8664148449897766  angles= {a: 0.32290425519998417, c: 0.3886562339058441, b: 1.3058406768884259}  samples= None\n",
      "E= -0.35434409976005554  angles= {a: 0.41452127599992095, c: 0.7432811695292205, b: 5.3292033844421285}  samples= None\n",
      "E= -0.8048092126846313  angles= {a: 0.34545659521768646, c: 0.4759502984487035, b: 2.296226993787273}  samples= None\n",
      "E= -1.0825814008712769  angles= {a: 0.35552766918242806, c: 0.4726846615631134, b: 2.316243767266607}  samples= None\n",
      "E= -1.9243844747543335  angles= {a: 0.3958119650413944, c: 0.4596221140207529, b: 2.396310861183945}  samples= None\n",
      "E= 0.06258417665958405  angles= {a: 0.8541594710840736, c: 0.23628931720590574, b: 2.4354660560840804}  samples= None\n",
      "E= -2.059643268585205  angles= {a: 0.44198771303416723, c: 0.4371226811487799, b: 2.4002555110150894}  samples= None\n",
      "E= -1.8174768686294556  angles= {a: 0.6249455977453896, c: 0.6644323193476007, b: 2.3892573511090696}  samples= None\n",
      "E= -2.0970754623413086  angles= {a: 0.4845773677606281, c: 0.4900367111845168, b: 2.3976953161715433}  samples= None\n",
      "E= -2.10044527053833  angles= {a: 0.4955475657110711, c: 0.4958871002014992, b: 2.4259504946577657}  samples= None\n",
      "E= -2.1168911457061768  angles= {a: 0.4903158773773612, c: 0.49309704918272285, b: 2.412475597639404}  samples= None\n",
      "E= -2.1180248260498047  angles= {a: 0.5004529910085411, c: 0.4998681248177429, b: 2.4117683299756165}  samples= None\n",
      "E= -2.1180338859558105  angles= {a: 0.499994265347834, c: 0.5000016401084967, b: 2.4118917470990233}  samples= None\n",
      "Optimization terminated successfully.\n",
      "         Current function value: -2.118034\n",
      "         Iterations: 7\n",
      "         Function evaluations: 14\n",
      "         Gradient evaluations: 14\n"
     ]
    },
    {
     "data": {
      "image/png": "[encoded data removed]",
      "text/plain": [
       "<Figure size 432x288 with 1 Axes>"
      ]
     },
     "metadata": {
      "needs_background": "light"
     },
     "output_type": "display_data"
    }
   ],
   "source": [
    "if 'qiskit' in tq.INSTALLED_BACKENDS: # failsafe to only execute cell when qiskit is actually there\n",
    "    O = tq.Objective.ExpectationValue(U=U, H=H)\n",
    "    result = tq.optimizer_scipy.minimize(objective=O,\n",
    "                                       initial_values=initial_values,\n",
    "                                       backend=\"qiskit\")\n",
    "    result.history.plot()"
   ]
  },
  {
   "cell_type": "code",
   "execution_count": 19,
   "metadata": {},
   "outputs": [
    {
     "data": {
      "image/png": "[encoded data removed]",
      "text/plain": [
       "<Figure size 432x288 with 1 Axes>"
      ]
     },
     "metadata": {
      "needs_background": "light"
     },
     "output_type": "display_data"
    }
   ],
   "source": [
    "result.history.plot('angles')"
   ]
  },
  {
   "cell_type": "markdown",
   "metadata": {},
   "source": [
    "## 4: Can I use numerical evaluation of gradients\n",
    "\n",
    "Yes you can, by passing down `use_gradient = False` or `use_gradient = \"2-point\"`.  \n",
    "`use_gradient = '3-point' or 'cs' ` are also possible for scipy methods which support them.  \n",
    "Check out the documentation of scipy.optimize.minimize for that.  \n",
    "You can also pass down further options (again, check scipy documentation) for different methods.  \n",
    "An important additional option is `eps` which defines the stepsizes for the '2-point' method."
   ]
  },
  {
   "cell_type": "code",
   "execution_count": 20,
   "metadata": {},
   "outputs": [
    {
     "name": "stdout",
     "output_type": "stream",
     "text": [
      "ObjectiveType is <class 'tequila.objective.objective.Objective'>\n",
      "Starting BFGS optimization\n",
      "Objective: 1 expectationvalues\n",
      "Gradients: 12 expectationvalues (min=2, max=8)\n",
      "Hessian: None\n",
      "\n",
      "backend: <class 'tequila.simulators.simulator_qulacs.BackendExpectationValueQulacs'>\n",
      "samples: None\n",
      "3 active variables\n",
      "E= -0.6677023768424988  angles= {a: 0.3, c: 0.3, b: 0.3}  samples= None\n",
      "E= -0.8664148449897766  angles= {a: 0.32290425519998417, c: 0.3886562339058441, b: 1.3058406768884259}  samples= None\n",
      "E= -0.35434409976005554  angles= {a: 0.41452127599992095, c: 0.7432811695292205, b: 5.3292033844421285}  samples= None\n",
      "E= -0.8048092126846313  angles= {a: 0.34545659521768646, c: 0.4759502984487035, b: 2.296226993787273}  samples= None\n",
      "E= -1.0825814008712769  angles= {a: 0.35552766918242806, c: 0.4726846615631134, b: 2.316243767266607}  samples= None\n",
      "E= -1.9243844747543335  angles= {a: 0.3958119650413944, c: 0.4596221140207529, b: 2.396310861183945}  samples= None\n",
      "E= 0.06258417665958405  angles= {a: 0.8541594710840736, c: 0.23628931720590574, b: 2.4354660560840804}  samples= None\n",
      "E= -2.059643268585205  angles= {a: 0.44198771303416723, c: 0.4371226811487799, b: 2.4002555110150894}  samples= None\n",
      "E= -1.8174768686294556  angles= {a: 0.6249455977453896, c: 0.6644323193476007, b: 2.3892573511090696}  samples= None\n",
      "E= -2.0970754623413086  angles= {a: 0.4845773677606281, c: 0.4900367111845168, b: 2.3976953161715433}  samples= None\n",
      "E= -2.10044527053833  angles= {a: 0.4955475657110711, c: 0.4958871002014992, b: 2.4259504946577657}  samples= None\n",
      "E= -2.1168911457061768  angles= {a: 0.4903158773773612, c: 0.49309704918272285, b: 2.412475597639404}  samples= None\n",
      "E= -2.1180248260498047  angles= {a: 0.5004529910085411, c: 0.4998681248177429, b: 2.4117683299756165}  samples= None\n",
      "E= -2.1180338859558105  angles= {a: 0.499994265347834, c: 0.5000016401084967, b: 2.4118917470990233}  samples= None\n",
      "Optimization terminated successfully.\n",
      "         Current function value: -2.118034\n",
      "         Iterations: 7\n",
      "         Function evaluations: 14\n",
      "         Gradient evaluations: 14\n"
     ]
    }
   ],
   "source": [
    "result = tq.optimizer_scipy.minimize(objective=O,\n",
    "                                    initial_values=initial_values,\n",
    "                                    use_gradient='2-point',\n",
    "                                    method_options = {'eps':1.e-3})"
   ]
  },
  {
   "cell_type": "markdown",
   "metadata": {},
   "source": [
    "## 5: Can I use Hessian based optimizations, and can I evaluate Hessians numerically?\n",
    "\n",
    "Yes you can, by just picking those methods (like for example 'dogleg' or 'newton-cg').\n",
    "For all 'trust-\\*' methods you can also pick different options (see again scipy documentation)\n",
    "\n",
    "Numerical evaluation for hessians works in the same way as for gradients by passing down `use_hessian` instead of `use_gradient`.  \n",
    "Be aware that not all combinations of `use_gradient` and `use_hessian` will work (usually you need to have the gradients analytically) and that most scipy methods do not support numerical evaluation of Hessians.\n",
    "Also do not confuse that with methods which use an approximation of the Hessian.\n",
    "Again: Check the scipy documentation for more information\n",
    "\n",
    "Here comes a small example where (note that the methods above will not converge to the minimum for this initial_values)"
   ]
  },
  {
   "cell_type": "code",
   "execution_count": 21,
   "metadata": {},
   "outputs": [
    {
     "data": {
      "text/plain": [
       "['TRUST-KRYLOV',\n",
       " 'NEWTON-CG',\n",
       " 'DOGLEG',\n",
       " 'TRUST-NCG',\n",
       " 'TRUST-EXACT',\n",
       " 'TRUST-CONSTR']"
      ]
     },
     "execution_count": 21,
     "metadata": {},
     "output_type": "execute_result"
    }
   ],
   "source": [
    "tq.optimizer_scipy.OptimizerSciPy.hessian_based_methods"
   ]
  },
  {
   "cell_type": "code",
   "execution_count": 22,
   "metadata": {},
   "outputs": [
    {
     "name": "stdout",
     "output_type": "stream",
     "text": [
      "ObjectiveType is <class 'tequila.objective.objective.Objective'>\n",
      "Starting TRUST-EXACT optimization\n",
      "Objective: 1 expectationvalues\n",
      "Gradients: 12 expectationvalues (min=2, max=8)\n",
      "Hessian: 384 expectationvalues (min=8, max=192)\n",
      "\n",
      "backend: <class 'tequila.simulators.simulator_qulacs.BackendExpectationValueQulacs'>\n",
      "samples: None\n",
      "3 active variables\n",
      "E= -6.556708598282057e-08  angles= {a: 0.25, c: 0.25, b: 0.25}  samples= None\n",
      "E= 0.056369077414274216  angles= {a: 0.7541492736660077, c: 0.5069646049430201, b: 1.0745014867594325}  samples= None\n",
      "E= -1.5460741519927979  angles= {a: 0.32157267420323443, c: 0.277277640201599, b: 0.4900963948608055}  samples= None\n",
      "E= -1.9294308423995972  angles= {a: 0.48760564120003264, c: 0.4359992561702839, b: 0.37365208383735354}  samples= None\n",
      "E= -2.11448073387146  angles= {a: 0.48518539451145815, c: 0.4896418627731603, b: 0.41524265629945056}  samples= None\n",
      "E= -2.118028163909912  angles= {a: 0.5005541422046784, c: 0.5006557856322683, b: 0.4117628509372545}  samples= None\n",
      "E= -2.1180338859558105  angles= {a: 0.5000008460208029, c: 0.5000009890329508, b: 0.41189560464397484}  samples= None\n",
      "Optimization terminated successfully.\n",
      "         Current function value: -2.118034\n",
      "         Iterations: 6\n",
      "         Function evaluations: 7\n",
      "         Gradient evaluations: 6\n",
      "         Hessian evaluations: 7\n"
     ]
    }
   ],
   "source": [
    "options = {\n",
    "    \"initial_tr_radius\":0.05,\n",
    "    \"max_tr_radius\":0.1\n",
    "}\n",
    "\n",
    "result = tq.optimizer_scipy.minimize(objective=O,\n",
    "                                    initial_values={\"a\":0.25, \"b\":0.25, \"c\":0.25},\n",
    "                                    method = \"trust-exact\",\n",
    "                                    method_options = options)\n"
   ]
  },
  {
   "cell_type": "markdown",
   "metadata": {},
   "source": [
    "# Exercises\n",
    "\n",
    "See farther down for solutions"
   ]
  },
  {
   "cell_type": "markdown",
   "metadata": {},
   "source": [
    "## Exercise 1\n",
    "\n",
    "You can pass down initial_values to the optimizer in the same format as you can do it with the circuit (see above).\n",
    "Figure out how to do that by checking out the documentation of the 'minimize' function."
   ]
  },
  {
   "cell_type": "markdown",
   "metadata": {},
   "source": [
    "## Exercise 2\n",
    "Figure out which method the optimizer above used and how to use a different optimization method. To do so check out the documentation of the 'minimize' function"
   ]
  },
  {
   "cell_type": "code",
   "execution_count": 23,
   "metadata": {},
   "outputs": [
    {
     "data": {
      "text/plain": [
       "['NELDER-MEAD',\n",
       " 'COBYLA',\n",
       " 'POWELL',\n",
       " 'SLSQP',\n",
       " 'L-BFGS-B',\n",
       " 'BFGS',\n",
       " 'CG',\n",
       " 'TNC',\n",
       " 'TRUST-KRYLOV',\n",
       " 'NEWTON-CG',\n",
       " 'DOGLEG',\n",
       " 'TRUST-NCG',\n",
       " 'TRUST-EXACT',\n",
       " 'TRUST-CONSTR']"
      ]
     },
     "execution_count": 23,
     "metadata": {},
     "output_type": "execute_result"
    }
   ],
   "source": [
    "# hint\n",
    "tq.optimizer_scipy.available_methods()"
   ]
  },
  {
   "cell_type": "markdown",
   "metadata": {},
   "source": [
    "## Exercise 3\n",
    "If you initialize both parameters to 0.0 you will directly hit a stationary point which causes the optimizer stop.\n",
    "Find out how you can impose bounds on the variables in order to prevent the optimizer from hitting that point.\n",
    "\n",
    "Again: Check the documentation of the 'minimize' function.\n",
    "\n",
    "Note: Not all optimization methods of SciPy support bounds on the variables\n",
    "\n",
    "Note: It is not enough to just restrict the point 0.0"
   ]
  },
  {
   "cell_type": "markdown",
   "metadata": {},
   "source": [
    "# Solutions"
   ]
  },
  {
   "cell_type": "markdown",
   "metadata": {},
   "source": [
    "## Exercise 1 & 2"
   ]
  },
  {
   "cell_type": "code",
   "execution_count": 24,
   "metadata": {
    "scrolled": true
   },
   "outputs": [
    {
     "name": "stdout",
     "output_type": "stream",
     "text": [
      "WARNING: initial_variables given but not complete: Autocomplete with random number\n",
      "ObjectiveType is <class 'tequila.objective.objective.Objective'>\n",
      "Starting TNC optimization\n",
      "Objective: 1 expectationvalues\n",
      "Gradients: 12 expectationvalues (min=2, max=8)\n",
      "Hessian: None\n",
      "\n",
      "backend: <class 'tequila.simulators.simulator_qulacs.BackendExpectationValueQulacs'>\n",
      "samples: None\n",
      "3 active variables\n",
      "E= -1.3611507415771484  angles= {a: -0.2, c: 4.083210991768428, b: -0.1}  samples= None\n",
      "E= -1.3611558675765991  angles= {a: -0.19999994455991102, c: 4.083212231212485, b: -0.09999995534256424}  samples= None\n",
      "E= -1.5475432872772217  angles= {a: -0.19535085959175483, c: 4.1871493070769255, b: -0.0962550801620539}  samples= None\n",
      "E= -1.5475432872772217  angles= {a: -0.19535085996881574, c: 4.187149308835215, b: -0.09625507617948598}  samples= None\n",
      "E= -0.25217610597610474  angles= {a: -0.22013239978849136, c: 4.302709201772941, b: 0.16549088130336295}  samples= None\n",
      "E= -1.2775046825408936  angles= {a: -0.20774162969012308, c: 4.2449292544249335, b: 0.03461790057065453}  samples= None\n",
      "E= -1.597695231437683  angles= {a: -0.20154624464093895, c: 4.2160392807509295, b: -0.030818589795699694}  samples= None\n",
      "E= -1.6213297843933105  angles= {a: -0.1984485521163469, c: 4.201594293913927, b: -0.0635368349788768}  samples= None\n",
      "E= -1.6213297843933105  angles= {a: -0.1984485524221479, c: 4.201594294126769, b: -0.06353683479444866}  samples= None\n",
      "E= -1.6513290405273438  angles= {a: -0.21817110960471778, c: 4.2153214887238954, b: -0.05164218873596628}  samples= None\n",
      "E= -1.6213297843933105  angles= {a: -0.1984485521163469, c: 4.201594293913927, b: -0.0635368349788768}  samples= None\n"
     ]
    },
    {
     "data": {
      "image/png": "[encoded data removed]",
      "text/plain": [
       "<Figure size 432x288 with 1 Axes>"
      ]
     },
     "metadata": {
      "needs_background": "light"
     },
     "output_type": "display_data"
    }
   ],
   "source": [
    "O = tq.Objective.ExpectationValue(U=U, H=H)\n",
    "result = tq.optimizer_scipy.minimize(objective=O, method='TNC', maxiter=10, initial_values={'a':-0.2, 'b':-0.1})\n",
    "result.history.plot()"
   ]
  },
  {
   "cell_type": "code",
   "execution_count": 25,
   "metadata": {},
   "outputs": [
    {
     "data": {
      "image/png": "[encoded data removed]",
      "text/plain": [
       "<Figure size 432x288 with 1 Axes>"
      ]
     },
     "metadata": {
      "needs_background": "light"
     },
     "output_type": "display_data"
    }
   ],
   "source": [
    "result.history.plot('angles')"
   ]
  },
  {
   "cell_type": "markdown",
   "metadata": {},
   "source": [
    "## Exercise 3"
   ]
  },
  {
   "cell_type": "code",
   "execution_count": 26,
   "metadata": {},
   "outputs": [
    {
     "name": "stdout",
     "output_type": "stream",
     "text": [
      "WARNING: initial_variables given but not complete: Autocomplete with random number\n",
      "ObjectiveType is <class 'tequila.objective.objective.Objective'>\n",
      "Starting TNC optimization\n",
      "Objective: 1 expectationvalues\n",
      "Gradients: 12 expectationvalues (min=2, max=8)\n",
      "Hessian: None\n",
      "\n",
      "backend: <class 'tequila.simulators.simulator_qulacs.BackendExpectationValueQulacs'>\n",
      "samples: None\n",
      "3 active variables\n",
      "E= -0.3801916837692261  angles= {a: 0.0, c: 2.7308858884665876, b: 0.0}  samples= None\n",
      "E= -0.38019171357154846  angles= {a: 3.8578275385568365e-09, c: 2.730885942165659, b: 0.0}  samples= None\n",
      "E= -1.1018391847610474  angles= {a: 0.008170293338400697, c: 2.844612373005922, b: 0.0}  samples= None\n",
      "E= 0.4720267355442047  angles= {a: 0.049021760030404184, c: 3.4132447957025924, b: 0.0}  samples= None\n",
      "E= -1.0488924980163574  angles= {a: 0.02859602668440244, c: 3.128928584354257, b: 0.0}  samples= None\n",
      "E= -1.4994758367538452  angles= {a: 0.01838316001140157, c: 2.9867704786800897, b: 0.0}  samples= None\n",
      "E= -1.4994758367538452  angles= {a: 0.018383155885489638, c: 2.9867704212495205, b: -8.491781664595182e-10}  samples= None\n",
      "E= -1.394585132598877  angles= {a: 0.013094972065665497, c: 2.913161625675244, b: -0.0010883930190385084}  samples= None\n",
      "E= -1.4768900871276855  angles= {a: 0.015739066038533533, c: 2.949966052177667, b: -0.0005441965095192542}  samples= None\n",
      "E= -1.4958220720291138  angles= {a: 0.01706111302496755, c: 2.9683682654288783, b: -0.0002720982547596271}  samples= None\n",
      "E= -1.4995677471160889  angles= {a: 0.01772213651818456, c: 2.977569372054484, b: -0.00013604912737981355}  samples= None\n",
      "E= -1.5000017881393433  angles= {a: 0.018052648264793067, c: 2.9821699253672866, b: -6.802456368990677e-05}  samples= None\n",
      "E= -1.5000017881393433  angles= {a: 0.018052648264793067, c: 2.9821699253672866, b: -6.802456368990677e-05}  samples= None\n"
     ]
    },
    {
     "data": {
      "image/png": "[encoded data removed]",
      "text/plain": [
       "<Figure size 432x288 with 1 Axes>"
      ]
     },
     "metadata": {
      "needs_background": "light"
     },
     "output_type": "display_data"
    }
   ],
   "source": [
    "# this will get stuck (similar for other gradient based optimizers)\n",
    "zeroes = {'a':0.0, 'b':0.0}\n",
    "shift = 1.0\n",
    "O = tq.Objective.ExpectationValue(U=U, H=H)\n",
    "result = tq.optimizer_scipy.minimize(objective=O, method='TNC', initial_values=zeroes)\n",
    "result.history.plot()"
   ]
  },
  {
   "cell_type": "code",
   "execution_count": 28,
   "metadata": {},
   "outputs": [
    {
     "name": "stdout",
     "output_type": "stream",
     "text": [
      "WARNING: initial_variables given but not complete: Autocomplete with random number\n",
      "ObjectiveType is <class 'tequila.objective.objective.Objective'>\n",
      "Starting TNC optimization\n",
      "Objective: 1 expectationvalues\n",
      "bounds : {a: (-6.183185307179587, -0.1), b: (-6.183185307179587, -0.1), c: (-6.183185307179587, -0.1)}\n",
      "Gradients: 12 expectationvalues (min=2, max=8)\n",
      "Hessian: None\n",
      "\n",
      "backend: <class 'tequila.simulators.simulator_qulacs.BackendExpectationValueQulacs'>\n",
      "samples: None\n",
      "3 active variables\n",
      "E= -0.9328262805938721  angles= {a: -0.1, c: -0.1, b: -0.1}  samples= None\n",
      "E= -0.9328263401985168  angles= {a: -0.1, c: -0.1, b: -0.1000000260708811}  samples= None\n",
      "E= -0.9328263401985168  angles= {a: -0.10000000000000009, c: -0.10000000000000009, b: -0.10000002095701488}  samples= None\n",
      "E= -0.8568429350852966  angles= {a: -0.10000000000000009, c: -0.10000000000000009, b: -1.037600964376601}  samples= None\n",
      "E= -1.5241096019744873  angles= {a: -0.10000000000000009, c: -0.10000000000000009, b: -0.5688004821883004}  samples= None\n",
      "E= -1.1748632192611694  angles= {a: -0.10000000000000009, c: -0.10000000000000009, b: -0.33440024109415045}  samples= None\n",
      "E= -1.4210216999053955  angles= {a: -0.10000000000000009, c: -0.10000000000000009, b: -0.4516003616412254}  samples= None\n",
      "E= -1.5111057758331299  angles= {a: -0.10000000000000009, c: -0.10000000000000009, b: -0.5102004219147629}  samples= None\n",
      "E= -1.5291286706924438  angles= {a: -0.10000000000000009, c: -0.10000000000000009, b: -0.5395004520515316}  samples= None\n",
      "E= -1.5291286706924438  angles= {a: -0.10000001865469033, c: -0.10000000000000009, b: -0.5395004701273152}  samples= None\n",
      "E= -1.5356415510177612  angles= {a: -0.1089936065588133, c: -0.10000000000000009, b: -0.5482149622484944}  samples= None\n",
      "E= -1.4981911182403564  angles= {a: -0.1539616393528811, c: -0.10000000000000009, b: -0.5917875132333084}  samples= None\n",
      "E= -1.534310221672058  angles= {a: -0.1314776229558472, c: -0.10000000000000009, b: -0.5700012377409016}  samples= None\n",
      "E= -1.538535714149475  angles= {a: -0.12023561475733002, c: -0.10000000000000009, b: -0.559108099994698}  samples= None\n",
      "E= -1.538535714149475  angles= {a: -0.12023562384028263, c: -0.10000001270613357, b: -0.5591081056765477}  samples= None\n",
      "E= -1.5487052202224731  angles= {a: -0.13684018533040687, c: -0.12322811665387023, b: -0.56949510559937}  samples= None\n",
      "E= -1.4324851036071777  angles= {a: -0.21986303819579245, c: -0.2393686999232214, b: -0.6214301336227308}  samples= None\n",
      "E= -1.5302858352661133  angles= {a: -0.17835161176309944, c: -0.18129840828854604, b: -0.5954626196110504}  samples= None\n",
      "E= -1.5485953092575073  angles= {a: -0.1575958985467536, c: -0.15226326247120836, b: -0.5824788626052104}  samples= None\n",
      "E= -1.5506949424743652  angles= {a: -0.14721804193858024, c: -0.1377456895625393, b: -0.5759869841022902}  samples= None\n",
      "E= -1.5506949424743652  angles= {a: -0.14721808411890658, c: -0.13774574829605868, b: -0.5759869788848877}  samples= None\n",
      "E= 0.9830166697502136  angles= {a: -1.7069323793987197, c: -2.3095523303356975, b: -0.3830615666174202}  samples= None\n",
      "E= -0.20115900039672852  angles= {a: -0.92707521066865, c: -1.2236490099491184, b: -0.479524275359855}  samples= None\n",
      "E= -1.4243234395980835  angles= {a: -0.5371466263036151, c: -0.6806973497558286, b: -0.5277556297310726}  samples= None\n",
      "E= -1.7788376808166504  angles= {a: -0.34218233412109766, c: -0.4092215196591842, b: -0.5518713069166816}  samples= None\n",
      "E= -1.6957900524139404  angles= {a: -0.4396644802123566, c: -0.5449594347075064, b: -0.5398134683238771}  samples= None\n",
      "E= -1.7648943662643433  angles= {a: -0.3909234071667269, c: -0.4770904771833453, b: -0.5458423876202794}  samples= None\n",
      "E= -1.7786962985992432  angles= {a: -0.3665528706439125, c: -0.4431559984212643, b: -0.5488568472684805}  samples= None\n",
      "E= -1.7804185152053833  angles= {a: -0.3543676023825051, c: -0.42618875904022424, b: -0.5503640770925808}  samples= None\n",
      "E= -1.7804186344146729  angles= {a: -0.35436763970955143, c: -0.42618880642156753, b: -0.550364076939827}  samples= None\n",
      "E= -1.8050551414489746  angles= {a: -0.44397916597707443, c: -0.5399378142090785, b: -0.5499973588958604}  samples= None\n",
      "E= -1.8067559003829956  angles= {a: -0.39917338417978954, c: -0.4830632866246516, b: -0.5501807179942206}  samples= None\n",
      "E= -1.8098130226135254  angles= {a: -0.421576275078432, c: -0.5115005504168653, b: -0.5500890384450408}  samples= None\n",
      "E= -1.8098134994506836  angles= {a: -0.42157654379227383, c: -0.5115008858896024, b: -0.5500891757324116}  samples= None\n",
      "E= -1.8364603519439697  angles= {a: -0.5201675149875684, c: -0.6345856615797616, b: -0.6004598417515106}  samples= None\n",
      "E= -1.9082695245742798  angles= {a: -0.470871895033, c: -0.5730431059983139, b: -0.5752744400982759}  samples= None\n",
      "E= -1.9082695245742798  angles= {a: -0.47087189921148687, c: -0.5730431039260093, b: -0.5752744402119254}  samples= None\n",
      "E= -1.6597148180007935  angles= {a: -0.6319409584497073, c: -0.49316151407859676, b: -0.5796553126657811}  samples= None\n",
      "E= -2.0781173706054688  angles= {a: -0.5514064267413539, c: -0.5331023100384553, b: -0.5774648763820283}  samples= None\n",
      "E= -2.0680642127990723  angles= {a: -0.5111391608871769, c: -0.5530727080183846, b: -0.5763696582401523}  samples= None\n",
      "E= -2.09243106842041  angles= {a: -0.5312727938142654, c: -0.5430875090284202, b: -0.5769172673110905}  samples= None\n",
      "E= 1.6672512292861938  angles= {a: -0.46124799833382246, c: -0.10000000000000009, b: -1.9010770274734297}  samples= None\n",
      "E= -0.07566985487937927  angles= {a: -0.4962603960740437, c: -0.32154375451421036, b: -1.23899714739226}  samples= None\n",
      "E= -0.225385844707489  angles= {a: -0.5137665949441548, c: -0.43231563177131527, b: -0.9079572073516751}  samples= None\n",
      "E= -0.5881960391998291  angles= {a: -0.5225196943792101, c: -0.4877015703998677, b: -0.7424372373313828}  samples= None\n",
      "E= -1.6839786767959595  angles= {a: -0.5268962440967377, c: -0.5153945397141442, b: -0.6596772523212366}  samples= None\n",
      "E= -2.0252788066864014  angles= {a: -0.5290845189555018, c: -0.5292410243712822, b: -0.6182972598161633}  samples= None\n",
      "E= -2.096158742904663  angles= {a: -0.5301786563848836, c: -0.5361642666998514, b: -0.5976072635636269}  samples= None\n",
      "E= -2.103738307952881  angles= {a: -0.5307257250995745, c: -0.5396258878641356, b: -0.5872622654373587}  samples= None\n",
      "E= -2.103738307952881  angles= {a: -0.5307257248720578, c: -0.5396258876105411, b: -0.5872622654717774}  samples= None\n",
      "E= -2.109988212585449  angles= {a: -0.5219366954443707, c: -0.5298294545393669, b: -0.5885918745962333}  samples= None\n",
      "E= -2.107577085494995  angles= {a: -0.47799154716835135, c: -0.48084728791552367, b: -0.5952399203906067}  samples= None\n",
      "E= -2.116182804107666  angles= {a: -0.49996412130636125, c: -0.5053383712274453, b: -0.5919158974934202}  samples= None\n",
      "E= -1.8895065784454346  angles= {a: -0.6304121119420127, c: -0.35038811241247503, b: -0.10000000000000009}  samples= None\n",
      "E= 0.3201175928115845  angles= {a: -0.5651881166241872, c: -0.4278632418199604, b: -0.3459579487467104}  samples= None\n",
      "E= -1.0023472309112549  angles= {a: -0.5325761189652742, c: -0.4666008065237026, b: -0.4689369231200651}  samples= None\n",
      "E= -1.8182121515274048  angles= {a: -0.5162701201358182, c: -0.4859695888755744, b: -0.5304264103067431}  samples= None\n",
      "E= -2.0512852668762207  angles= {a: -0.5081171207210895, c: -0.4956539800515096, b: -0.5611711539000814}  samples= None\n",
      "E= -2.1059021949768066  angles= {a: -0.5040406210137256, c: -0.5004961756394777, b: -0.576543525696751}  samples= None\n",
      "E= -2.1166367530822754  angles= {a: -0.5020023711600436, c: -0.5029172734334613, b: -0.5842297115950856}  samples= None\n",
      "E= -2.1178088188171387  angles= {a: -0.5009832462332025, c: -0.5041278223304535, b: -0.5880728045442529}  samples= None\n",
      "E= -2.1178088188171387  angles= {a: -0.5009832462332025, c: -0.5041278223304535, b: -0.5880728045442529}  samples= None\n"
     ]
    },
    {
     "data": {
      "image/png": "[encoded data removed]",
      "text/plain": [
       "<Figure size 432x288 with 1 Axes>"
      ]
     },
     "metadata": {
      "needs_background": "light"
     },
     "output_type": "display_data"
    }
   ],
   "source": [
    "# bounding the variables to keep it away from the stationary point which occurs at 0 and is periodic in 2pi\n",
    "# using negative values since that converges faster\n",
    "zeroes = {'a':0.0, 'b':0.0}\n",
    "shift = 1.0\n",
    "bounds = {'a':(-2*numpy.pi+0.1, -0.1), 'b':(-2*numpy.pi+0.1, -0.1), 'c':(-2*numpy.pi+0.1, -0.1) }\n",
    "O = tq.Objective.ExpectationValue(U=U, H=H)\n",
    "result = tq.optimizer_scipy.minimize(objective=O, method='TNC', initial_values=zeroes, method_bounds=bounds)\n",
    "result.history.plot()"
   ]
  },
  {
   "cell_type": "code",
   "execution_count": null,
   "metadata": {},
   "outputs": [],
   "source": [
    "result.history.plot('angles')"
   ]
  }
 ],
 "metadata": {
  "kernelspec": {
   "display_name": "tequila-3.6",
   "language": "python",
   "name": "tequila-3.6"
  },
  "language_info": {
   "codemirror_mode": {
    "name": "ipython",
    "version": 3
   },
   "file_extension": ".py",
   "mimetype": "text/x-python",
   "name": "python",
   "nbconvert_exporter": "python",
   "pygments_lexer": "ipython3",
   "version": "3.6.9"
  }
 },
 "nbformat": 4,
 "nbformat_minor": 2
}
