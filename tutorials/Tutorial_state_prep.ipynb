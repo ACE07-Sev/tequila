{
 "cells": [
  {
   "cell_type": "markdown",
   "metadata": {},
   "source": [
    "# Tequila tutorial: raw state preparation algorithm\n",
    "\n",
    "This tutorial shows:\n",
    "- How to define a quantum gate not included in Tequila's gate set\n",
    "- How to construct a parametrized quantum circuit\n",
    "- How to compute the fidelity between two states\n",
    "- How to train a parametrized quantum circuit\n",
    "\n",
    "<span style=\"color:red\"> \n",
    "Problems to be solved:\n",
    "<span style=\"color:red\">  - Pauli projector complex states\n",
    "<span style=\"color:red\">  - How to introduce bounds in the minimizer\n",
    "</span>"
   ]
  },
  {
   "cell_type": "code",
   "execution_count": 1,
   "metadata": {},
   "outputs": [],
   "source": [
    "# Import everthing you need\n",
    "import tequila as tq\n",
    "import numpy as np\n",
    "import random\n",
    "import time"
   ]
  },
  {
   "cell_type": "markdown",
   "metadata": {},
   "source": [
    "## Personalized quantum gate construction\n",
    "\n",
    "Sometimes, one may need to use a particular quantum gate that is not included in the basic gate set. If we know the decomposition of this gate in terms of Tequila's gates, we can define a function that runs a small quantum circuit that constructs this particular gate.  \n",
    "  \n",
    "As an example, let's define the general unitary gate  \n",
    "$$ U(\\theta,\\phi,\\lambda) = \\left( \\begin{array}{cc}\n",
    " e^{-\\frac{1}{2} i (\\lambda +\\phi )} \\cos \\left(\\frac{\\theta }{2}\\right) & -e^{\\frac{1}{2} i (\\lambda -\\phi )} \\sin \\left(\\frac{\\theta }{2}\\right) \\\\\n",
    " e^{-\\frac{1}{2} i (\\lambda -\\phi )} \\sin \\left(\\frac{\\theta }{2}\\right) & e^{\\frac{1}{2} i (\\lambda +\\phi )} \\cos \\left(\\frac{\\theta }{2}\\right) \\end{array} \\right) = R_{z}\\left(\\phi\\right) R_{y}\\left(\\theta\\right) R_{z}\\left(\\lambda\\right) $$"
   ]
  },
  {
   "cell_type": "code",
   "execution_count": 2,
   "metadata": {},
   "outputs": [
    {
     "name": "stdout",
     "output_type": "stream",
     "text": [
      "0: ───Rz(0.25π)───Ry(π)───Rz(0.5π)───\n"
     ]
    }
   ],
   "source": [
    "def U(th,phi,lam,q0):\n",
    "    ugate = tq.gates.Rz(target=q0,angle=phi) + tq.gates.Ry(target=q0,angle=th) + tq.gates.Rz(target=q0,angle=lam)\n",
    "    return ugate\n",
    "# draw the circuit for some (th,phi,lam) for qubit \"0\"\n",
    "tq.draw(U(np.pi, np.pi/4.0, np.pi/2.0, 0))"
   ]
  },
  {
   "cell_type": "markdown",
   "metadata": {},
   "source": [
    "Similarly, we can construct a multi-qubit gate. For instance, the controlled-phase gate:  \n",
    "$$ CPh\\left(\\varphi \\right) = \\left(\n",
    "\\begin{array}{cccc}\n",
    " 1 & 0 & 0 & 0 \\\\\n",
    " 0 & 1 & 0 & 0 \\\\\n",
    " 0 & 0 & 1 & 0 \\\\\n",
    " 0 & 0 & 0 & e^{i \\varphi } \\\\\n",
    "\\end{array}\n",
    "\\right)  = e^{i\\phi/4} \\left(R_{z}\\left(\\varphi/2\\right)\\otimes\\mathbb{I}\\right)CR_{z}\\left(\\phi/2\\right)$$"
   ]
  },
  {
   "cell_type": "code",
   "execution_count": 3,
   "metadata": {},
   "outputs": [
    {
     "name": "stdout",
     "output_type": "stream",
     "text": [
      "0: ───Rz(0.25π)───@───────────\n",
      "                  │\n",
      "1: ───────────────Rz(0.25π)───\n"
     ]
    }
   ],
   "source": [
    "def CPh(phi,q0,q1):\n",
    "    cph = tq.gates.Rz(target=q0, angle=phi/2) + tq.gates.CRz(control=q0, target=q1, angle=phi/2)\n",
    "    return cph\n",
    "# draw the circuit for some varphi for qubits \"0\" and \"1\"\n",
    "tq.draw(CPh(np.pi/2,0,1))"
   ]
  },
  {
   "cell_type": "markdown",
   "metadata": {},
   "source": [
    "The gate defined is equal to $CPh(\\varphi)$ gate up to a global phase. In the end, global phases are not relevant."
   ]
  },
  {
   "cell_type": "markdown",
   "metadata": {},
   "source": [
    "## Compute the fidelity\n",
    "\n",
    "Let's compute the fidelity between two states: one constructed from a string (target state $|\\tilde{\\psi}\\rangle$) and other obtained from a given quantum circuit, $|\\psi\\rangle$."
   ]
  },
  {
   "cell_type": "code",
   "execution_count": 4,
   "metadata": {},
   "outputs": [
    {
     "name": "stdout",
     "output_type": "stream",
     "text": [
      "target state:  +0.7071|00> +0.7071|11> \n"
     ]
    }
   ],
   "source": [
    "# Target state example: Bell state\n",
    "wfn_targ=tq.QubitWaveFunction.from_string(string=\"1.0*|00> + 1.0*|11>\")\n",
    "wfn_targ=wfn_targ.normalize() # Remember to normalize the state!!! \n",
    "print(\"target state: \", wfn_targ) # Print the wavefunction"
   ]
  },
  {
   "cell_type": "code",
   "execution_count": 5,
   "metadata": {},
   "outputs": [
    {
     "name": "stdout",
     "output_type": "stream",
     "text": [
      "circuit state:  +0.9641e^(-0.3614πi)|00> +0.0247e^(+0.8932πi)|10> +0.2462e^(-0.3614πi)|01> +0.0967e^(-0.1068πi)|11> \n",
      "circuit diagram: \n",
      "0: ───Rz(0.5π)───Ry(0.064π)───Rz(0.159π)───@───Rz(0.064π)───@─────────────────────────\n",
      "                                           │                │\n",
      "1: ────────────────────────────────────────X────────────────Rz(0.064π)───Ry(0.159π)───\n"
     ]
    }
   ],
   "source": [
    "# Quantum circuit\n",
    "q0 = 0\n",
    "q1 = 1\n",
    "qc = U(0.2, np.pi/2.0, 0.5, q0) + tq.gates.CNOT(target=q1,control=q0) + CPh(0.4,q0,q1) + tq.gates.Ry(target=q1,angle=0.5)\n",
    "wfn_qc = tq.simulate(qc) # Simulate the wavefunction \n",
    "print(\"circuit state: \", wfn_qc) \n",
    "print(\"circuit diagram: \")\n",
    "tq.draw(qc)"
   ]
  },
  {
   "cell_type": "markdown",
   "metadata": {},
   "source": [
    "There are two ways to compute the fidelity of these two states. The natural way to do it if we have the wavefunctions is just by computing the inner product of these two states:\n",
    "$$ F\\left(|\\psi\\rangle, |\\tilde{\\psi}\\rangle\\right) = |\\langle \\psi | \\tilde{\\psi} \\rangle|^2 $$"
   ]
  },
  {
   "cell_type": "code",
   "execution_count": 6,
   "metadata": {},
   "outputs": [
    {
     "name": "stdout",
     "output_type": "stream",
     "text": [
      "fidelity =  0.5343666886804502\n"
     ]
    }
   ],
   "source": [
    "fidelity = abs(wfn_targ.inner(wfn_qc))**2\n",
    "print('fidelity = ', fidelity)"
   ]
  },
  {
   "cell_type": "markdown",
   "metadata": {},
   "source": [
    "The second method consists on computing the expected value of the target state density matrix operator $\\rho = |\\tilde{\\psi}\\rangle\\langle\\tilde{\\psi}|$, i.e. \n",
    "$$ F\\left(|\\psi\\rangle, |\\tilde{\\psi}\\rangle\\right) = \\langle \\psi | \\rho |\\psi\\rangle = \\langle \\psi |\\tilde{\\psi}\\rangle \\langle \\tilde{\\psi} |\\psi\\rangle = |\\langle \\psi | \\tilde{\\psi} \\rangle|^2$$\n",
    "\n",
    "To do so, we need to write the density operator in terms of pauli matrices:"
   ]
  },
  {
   "cell_type": "code",
   "execution_count": 7,
   "metadata": {},
   "outputs": [
    {
     "name": "stdout",
     "output_type": "stream",
     "text": [
      "+0.2500+0.2500Z(0)Z(1)+0.2500X(0)X(1)-0.2500Y(0)Y(1)\n"
     ]
    }
   ],
   "source": [
    "# construct the density operator of target state\n",
    "rho_targ =  tq.paulis.Projector(wfn=wfn_targ)\n",
    "print(rho_targ)"
   ]
  },
  {
   "cell_type": "markdown",
   "metadata": {},
   "source": [
    "Then, we trait this operator as a Hamiltonian and compute the objective expectation value:"
   ]
  },
  {
   "cell_type": "code",
   "execution_count": 8,
   "metadata": {},
   "outputs": [
    {
     "name": "stdout",
     "output_type": "stream",
     "text": [
      "fidelity =  0.5343666672706604\n"
     ]
    }
   ],
   "source": [
    "O = tq.Objective.ExpectationValue(U=qc, H=rho_targ)\n",
    "fidelity= tq.simulate(O)\n",
    "print('fidelity = ', fidelity)"
   ]
  },
  {
   "cell_type": "markdown",
   "metadata": {},
   "source": [
    "## Construct a parametrized quantum circuit \n",
    "\n",
    "Parametrized quantum circuits (PQC) are usually defined with a small gate set. Same gates are used along the circuit with different parameters, which makes more natural to define them as vectors. In the following example, we construct a parametrized quantum circuit of two qubits using the $U(\\theta,\\phi,\\lambda)$ and $CPh(\\varphi)$ gates defined at the begining. Parameters are identified with the vectors $\\vec{\\theta}$, $\\vec{\\phi}$, $\\vec{\\lambda}$ and $\\vec{\\varphi}$. The circuit ansatz consist on applying general unitary gates on both qubits, then entangle them with a controlled-phase gate, and finally apply another unitary gate."
   ]
  },
  {
   "cell_type": "code",
   "execution_count": 9,
   "metadata": {},
   "outputs": [],
   "source": [
    "#qubits\n",
    "q0=0\n",
    "q1=1\n",
    "\n",
    "#define variables\n",
    "th = [tq.Variable(name='theta_{}'.format(i)) for i in range(0,4)]\n",
    "phi = [tq.Variable(name='phi_{}'.format(i)) for i in range(0,4)]\n",
    "lam = [tq.Variable(name='lam_{}'.format(i)) for i in range(0,4)]\n",
    "varphi = [tq.Variable(name='varphi_{}'.format(i)) for i in range(0,1)]\n",
    "\n",
    "# PQC\n",
    "pqc  = U(th[0],phi[0],lam[0],q0) + U(th[1],phi[1],lam[1],q1) \n",
    "pqc += CPh(varphi[0],q0,q1)\n",
    "pqc += U(th[2],phi[2],lam[2],q0) + U(th[3],phi[3],lam[3],q1)"
   ]
  },
  {
   "cell_type": "code",
   "execution_count": 10,
   "metadata": {},
   "outputs": [
    {
     "name": "stdout",
     "output_type": "stream",
     "text": [
      "0: ───Rz(-0.8170000000000002π)───Ry(0.0π)─────Rz(-1.4540000000000002π)───Rz(0.159π)───@────────────Rz(0.637π)───Ry(-1.1349999999999998π)───Rz(-0.18000000000000016π)───\n",
      "                                                                                      │\n",
      "1: ───Rz(0.955π)─────────────────Ry(1.592π)───Rz(1.91π)───────────────────────────────Rz(0.159π)───Rz(1.273π)───Ry(-0.4990000000000001π)───Rz(-1.7719999999999998π)────\n"
     ]
    }
   ],
   "source": [
    "# Draw the circuit for some random values\n",
    "n_th = len(th)\n",
    "n_phi = len(phi)\n",
    "n_lam = len(lam)\n",
    "n_varphi = len(varphi)\n",
    "\n",
    "th0 =[random.uniform(0, np.pi) for x in range(0,n_th)]\n",
    "phi0 = [random.uniform(0, np.pi) for x in range(0,n_phi)]\n",
    "lam0 = [random.uniform(0, np.pi) for x in range(0,n_lam)]\n",
    "varphi0 = [random.uniform(0, np.pi) for x in range(0,n_varphi)]\n",
    "\n",
    "tq.draw(pqc)"
   ]
  },
  {
   "cell_type": "markdown",
   "metadata": {},
   "source": [
    "We can now compute the fidelity of the output state of this PQC with some two-qubit random state:"
   ]
  },
  {
   "cell_type": "code",
   "execution_count": 11,
   "metadata": {},
   "outputs": [
    {
     "name": "stdout",
     "output_type": "stream",
     "text": [
      "random state:  +0.7618e^(+0.2819πi)|00> +0.2581e^(-0.0021πi)|01> +0.5310e^(+0.5725πi)|10> +0.2667e^(-0.9299πi)|11> \n"
     ]
    }
   ],
   "source": [
    "# 2-qubit random state wavefunction from array\n",
    "rand_array=np.asarray([random.uniform(-1, 1)+1j*random.uniform(-1, 1) for x in range(1,5)])\n",
    "wfn_rand = tq.QubitWaveFunction.from_array(rand_array)\n",
    "wfn_rand = wfn_rand.normalize()\n",
    "print(\"random state: \", wfn_rand)"
   ]
  },
  {
   "cell_type": "markdown",
   "metadata": {},
   "source": [
    "And now we can compute the fidelity of these two states:"
   ]
  },
  {
   "cell_type": "code",
   "execution_count": 12,
   "metadata": {},
   "outputs": [
    {
     "name": "stdout",
     "output_type": "stream",
     "text": [
      "fidelity =  0.3151509338796144\n",
      "fidelity =  0.3151509165763855\n"
     ]
    }
   ],
   "source": [
    "# First, create the dictionary with the values of the parameters (we take the random values generated above)\n",
    "dic_var = dict(zip([str(th[i]) for i in range(0,n_th)],th0))\n",
    "dic_var = {**dic_var, **dict(zip([str(phi[i]) for i in range(0,n_phi)],phi0))}\n",
    "dic_var = {**dic_var, **dict(zip([str(lam[i]) for i in range(0,n_lam)],lam0))}\n",
    "dic_var = {**dic_var, **dict(zip([str(varphi[i]) for i in range(0,n_varphi)],varphi0))}\n",
    "\n",
    "# Fidelity method 1: using inner product\n",
    "wfn_pqc = tq.simulate(pqc, variables=dic_var) # compute the PQC wavefunction\n",
    "fid_rand = abs(wfn_rand.inner(wfn_pqc))**2\n",
    "print(\"fidelity = \", fid_rand)\n",
    "\n",
    "# Fidelity method 2: using the the density matrix as objective\n",
    "rho_rand = tq.paulis.Projector(wfn=wfn_rand) # density operator target state\n",
    "fid_pqc = tq.Objective.ExpectationValue(U=pqc, H=rho_rand)\n",
    "print(\"fidelity = \", tq.simulate(fid_pqc, variables = dic_var))"
   ]
  },
  {
   "cell_type": "markdown",
   "metadata": {},
   "source": [
    "## State preparation algorithm\n",
    "\n",
    "This algorithm minimizes the fidelity between a PQC and a the target state. Since the optimizer only minimizes, we will minimize the infidelity, i.e. $ 1 - F(|\\tilde{\\psi}\\rangle,|\\psi\\rangle)$.\n",
    "\n",
    "We can use any of the two methods to compute the infidelity, but it will be more convenient to use the second one.\n",
    "\n",
    "The goal of this example is to obtain a quantum circuit that generates the Bell state\n",
    "$$ |\\tilde{\\psi}\\rangle = \\frac{1}{\\sqrt{2}}\\left(|00\\rangle + |11\\rangle\\right) $$"
   ]
  },
  {
   "cell_type": "code",
   "execution_count": 13,
   "metadata": {},
   "outputs": [
    {
     "name": "stdout",
     "output_type": "stream",
     "text": [
      "Bell state:  +0.7071|00> +0.7071|11> \n"
     ]
    }
   ],
   "source": [
    "# Bell state wavefunction from array\n",
    "bell_array = np.asarray([1,0,0,1])\n",
    "wfn_bell=tq.QubitWaveFunction.from_array(bell_array)\n",
    "wfn_bell=wfn_targ.normalize()\n",
    "print(\"Bell state: \", wfn_bell)"
   ]
  },
  {
   "cell_type": "code",
   "execution_count": 21,
   "metadata": {},
   "outputs": [
    {
     "name": "stdout",
     "output_type": "stream",
     "text": [
      "Infidelity =  0.015154898166656494\n",
      "Fidelity =  0.9848451018333435\n",
      "Execution time:  56.36968016624451  sec\n"
     ]
    },
    {
     "data": {
      "image/png": "[encoded data removed]",
      "text/plain": [
       "<Figure size 432x288 with 1 Axes>"
      ]
     },
     "metadata": {
      "needs_background": "light"
     },
     "output_type": "display_data"
    },
    {
     "name": "stdout",
     "output_type": "stream",
     "text": [
      "None\n"
     ]
    },
    {
     "data": {
      "image/png": "[encoded data removed]",
      "text/plain": [
       "<Figure size 432x288 with 1 Axes>"
      ]
     },
     "metadata": {
      "needs_background": "light"
     },
     "output_type": "display_data"
    },
    {
     "name": "stdout",
     "output_type": "stream",
     "text": [
      "None\n"
     ]
    }
   ],
   "source": [
    "rho_bell = tq.paulis.Projector(wfn=wfn_bell) # density operator\n",
    "\n",
    "# we take as initial values ther random values generated above\n",
    "initial_values = dic_var\n",
    "# Infidelity = 1 - Fidelity\n",
    "inf =  -tq.Objective.ExpectationValue(U=pqc, H=rho_bell) +1.0\n",
    "\n",
    "max_angles=2*np.pi\n",
    "min_angles=0\n",
    "bnds_list=[[min_angles,max_angles]]\n",
    "for i in range(0, len(dic_var)):\n",
    "    bnds_list.append([min_angles,max_angles])\n",
    "bnds = dict(zip([str(th[i]) for i in range(0,n_th)],bnds_list))\n",
    "bnds = {**bnds, **dict(zip([str(phi[i]) for i in range(0,n_phi)],bnds_list))}\n",
    "bnds = {**bnds, **dict(zip([str(lam[i]) for i in range(0,n_lam)],bnds_list))}\n",
    "bnds = {**bnds, **dict(zip([str(varphi[i]) for i in range(0,n_varphi)],bnds_list))}\n",
    "\n",
    "t0 = time.time()\n",
    "infid = tq.optimizer_scipy.minimize(objective=inf, initial_values=initial_values, method = 'TNC', method_bounds = bnds, silent=True)\n",
    "t1 = time.time()\n",
    "print(\"Infidelity = \", infid.energy)\n",
    "print(\"Fidelity = \", 1.0-infid.energy)\n",
    "print(\"Execution time: \", t1-t0, \" sec\" )\n",
    "print(infid.history.plot())\n",
    "print(infid.history.plot('angles'))"
   ]
  },
  {
   "cell_type": "markdown",
   "metadata": {},
   "source": [
    "We can check that the final state solution is the Bell state up to a global phase:"
   ]
  },
  {
   "cell_type": "code",
   "execution_count": 22,
   "metadata": {},
   "outputs": [
    {
     "name": "stdout",
     "output_type": "stream",
     "text": [
      "final state solution: \n",
      "+0.6702e^(-0.3523πi)|00> +0.0350e^(+0.5569πi)|10> +0.1036e^(-0.6287πi)|01> +0.7340e^(-0.3304πi)|11> \n"
     ]
    }
   ],
   "source": [
    "wfn_sol = tq.simulate(pqc, variables=infid.angles)\n",
    "print('final state solution: ')\n",
    "print(wfn_sol)"
   ]
  },
  {
   "cell_type": "code",
   "execution_count": 24,
   "metadata": {},
   "outputs": [
    {
     "data": {
      "text/plain": [
       "{0: 0.9412927627563477,\n",
       " 1: 0.5386300086975098,\n",
       " 2: 0.5149775743484497,\n",
       " 3: 0.48190563917160034,\n",
       " 4: 0.4287909269332886,\n",
       " 5: 0.32942384481430054,\n",
       " 6: 0.2697402834892273,\n",
       " 7: 0.24858951568603516,\n",
       " 8: 0.20869189500808716,\n",
       " 9: 0.1716330647468567,\n",
       " 10: 0.15355265140533447,\n",
       " 11: 0.13481390476226807,\n",
       " 12: 0.09203845262527466,\n",
       " 13: 0.07945150136947632,\n",
       " 14: 0.072429358959198,\n",
       " 15: 0.05709207057952881,\n",
       " 16: 0.03804218769073486,\n",
       " 17: 0.02720940113067627,\n",
       " 18: 0.02436506748199463,\n",
       " 19: 0.015154898166656494,\n",
       " 20: 0.00605320930480957}"
      ]
     },
     "execution_count": 24,
     "metadata": {},
     "output_type": "execute_result"
    }
   ],
   "source": [
    "infid.history.extract_energies()"
   ]
  },
  {
   "cell_type": "code",
   "execution_count": 30,
   "metadata": {},
   "outputs": [
    {
     "data": {
      "text/plain": [
       "{0: 1.2788292121782385,\n",
       " 1: 0.4485516220517032,\n",
       " 2: 0.4126304908308609,\n",
       " 3: 0.2653497211379334,\n",
       " 4: 0.48994241686800066,\n",
       " 5: 1.1993382895225757,\n",
       " 6: 1.671136919603584,\n",
       " 7: 1.5608035940683318,\n",
       " 8: 1.5120989027181093,\n",
       " 9: 1.4715952942656767,\n",
       " 10: 1.4379418292208341,\n",
       " 11: 1.5752005395951376,\n",
       " 12: 1.5665242961022772,\n",
       " 13: 1.6591377371223126,\n",
       " 14: 1.6239403123765066,\n",
       " 15: 1.5359239256928554,\n",
       " 16: 1.568771249237907,\n",
       " 17: 1.5677938833429754,\n",
       " 18: 1.5644656242317831,\n",
       " 19: 1.5824746602645599,\n",
       " 20: 1.5852858477098897}"
      ]
     },
     "execution_count": 30,
     "metadata": {},
     "output_type": "execute_result"
    }
   ],
   "source": [
    "infid.history.extract_angles(tq.assign_variable(\"theta_0\"))"
   ]
  },
  {
   "cell_type": "code",
   "execution_count": 18,
   "metadata": {},
   "outputs": [
    {
     "name": "stdout",
     "output_type": "stream",
     "text": [
      "('theta_0', 'theta_1', 'theta_2', 'theta_3', 'phi_0', 'phi_1', 'phi_2', 'phi_3', 'lam_0', 'lam_1', 'lam_2', 'lam_3', 'varphi_0')\n"
     ]
    }
   ],
   "source": [
    "names,values = zip(*bnds.items())\n",
    "print(names)"
   ]
  },
  {
   "cell_type": "code",
   "execution_count": 19,
   "metadata": {},
   "outputs": [
    {
     "data": {
      "text/plain": [
       "[theta_0,\n",
       " varphi_0,\n",
       " phi_2,\n",
       " phi_3,\n",
       " phi_1,\n",
       " lam_2,\n",
       " theta_1,\n",
       " lam_1,\n",
       " lam_0,\n",
       " theta_2,\n",
       " phi_0,\n",
       " theta_3,\n",
       " lam_3]"
      ]
     },
     "execution_count": 19,
     "metadata": {},
     "output_type": "execute_result"
    }
   ],
   "source": [
    "inf.extract_variables()"
   ]
  },
  {
   "cell_type": "code",
   "execution_count": null,
   "metadata": {},
   "outputs": [],
   "source": []
  },
  {
   "cell_type": "code",
   "execution_count": null,
   "metadata": {},
   "outputs": [],
   "source": []
  }
 ],
 "metadata": {
  "kernelspec": {
   "display_name": "Python 3",
   "language": "python",
   "name": "python3"
  },
  "language_info": {
   "codemirror_mode": {
    "name": "ipython",
    "version": 3
   },
   "file_extension": ".py",
   "mimetype": "text/x-python",
   "name": "python",
   "nbconvert_exporter": "python",
   "pygments_lexer": "ipython3",
   "version": "3.6.9"
  }
 },
 "nbformat": 4,
 "nbformat_minor": 2
}
