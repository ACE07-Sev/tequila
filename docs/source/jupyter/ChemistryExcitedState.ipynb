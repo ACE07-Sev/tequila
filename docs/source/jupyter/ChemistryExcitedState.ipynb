{
 "cells": [
  {
   "cell_type": "markdown",
   "metadata": {},
   "source": [
    "# Excited state calculation\n",
    "\n",
    "Short example of how to form the objectives for the ''hangman's'' approach to excited states.  \n",
    "Here the states are sequentially computed and are kept orhogonal towards previous states by projection.  \n",
    "\n",
    "The method was for example applied in:\n",
    "https://pubs.acs.org/doi/pdf/10.1021/acs.jctc.8b01004\n",
    "\n",
    "The overlap objective is formed from the quantum circuits of the optimized lower lying states $U_i$ and the current parametrized circuit $U(a)$ like this:\n",
    "\n",
    "$$\n",
    "S_i^2(a) = \\|\\langle \\Psi_i \\rvert \\Psi(a) \\rangle\\|^2 = \\|\\langle 0 \\rvert U_i^\\dagger U(a) \\lvert 0 \\rangle\\|^2 = \n",
    " \\langle 0 \\rvert U^\\dagger(a) U_i  P_0 U_i^\\dagger U(a) \\lvert\\rangle = \\langle P_0 \\rangle_{U_i^\\dagger U(a)} $$\n",
    " \n",
    "where $P_0 = \\lvert 0..0 \\rangle \\langle 0..0 \\rvert = \\otimes^n Q_+ =  \\frac{1}{2^n} \\otimes^n (1 + Z)$.\n",
    "\n",
    "Bound states can then be kept orthogonal by projecting lower lying states out which is equivalent as minimizing the objective:\n",
    "\n",
    "$$\n",
    " L = \\langle H \\rangle_{U(a)} - E_i S_i^2(a)\n",
    "$$\n",
    "\n",
    "\n",
    "We will use an active space Beryllium Hydride molecule with two orbitals because the circuit template is easy to construct for this example and it executes fast.\n",
    "\n",
    "<img src=\"data/ex_solver_cartoon-1.png\" width=\"200\" height=\"200\" />"
   ]
  },
  {
   "cell_type": "code",
   "execution_count": null,
   "metadata": {},
   "outputs": [],
   "source": [
    "geomstring=\"be 0.0 0.0 0.0\\nh 0.0 0.0 {R}\\nh 0.0 0.0 -{R}\""
   ]
  },
  {
   "cell_type": "code",
   "execution_count": null,
   "metadata": {},
   "outputs": [],
   "source": [
    "import tequila as tq\n",
    "\n",
    "fci_gs = []\n",
    "fci_es = []\n",
    "energies_gs = []\n",
    "energies_es = []\n",
    "P0 = tq.paulis.Projector(\"|00>\")\n",
    "for R in [0.7 + 0.1*i for i in range(25)]:\n",
    "    print(\"Optimizing point R={:2.1f}\".format(R))\n",
    "    active = {\"b1u\": [0], \"b2u\": [0]}\n",
    "    mol = tq.chemistry.Molecule(geometry=geomstring.format(R=R), basis_set=\"6-31g\", active_orbitals=active)\n",
    "    H = mol.make_hamiltonian()\n",
    "    results = []\n",
    "    for i in range(2):\n",
    "        U = tq.gates.Ry((i, \"a\"), 0)\n",
    "        U += tq.gates.CNOT(0, 1) + tq.gates.CNOT(0, 2)\n",
    "        U += tq.gates.CNOT(1, 3) + tq.gates.X([2, 3])\n",
    "        E = tq.ExpectationValue(U, H)\n",
    "        active_vars = E.extract_variables()\n",
    "        angles = {angle: 0.0 for angle in active_vars}\n",
    "        for data, U2 in results:\n",
    "            S2 = tq.ExpectationValue(H=P0, U=U + U2.dagger())\n",
    "            E -= data.energy * S2\n",
    "            angles = {**angles, **data.angles}\n",
    "        print(\"Starting to optimize state \", i)\n",
    "        result = tq.optimizer_scipy.minimize(E, method=\"bfgs\", variables=active_vars, initial_values=angles, silent=True)\n",
    "        print(\"finished with energy {:2.8f}\".format(result.energy))\n",
    "        results.append((result, U))\n",
    "    energies_gs.append(results[0][0].energy)\n",
    "    energies_es.append(results[1][0].energy)"
   ]
  },
  {
   "cell_type": "code",
   "execution_count": null,
   "metadata": {},
   "outputs": [],
   "source": [
    "import matplotlib.pyplot as plt\n",
    "R =  [0.7 + 0.1*i for i in range(len(energies_gs))]\n",
    "plt.figure()\n",
    "plt.plot(R, energies_gs, marker=\"o\", label=\"VQE GS\")\n",
    "plt.plot(R, energies_es, marker=\"o\", label=\"VQE ES\")\n",
    "plt.legend()\n",
    "plt.show()"
   ]
  },
  {
   "cell_type": "markdown",
   "metadata": {},
   "source": [
    "Here is the same calculation using the [UpCCGSD](https://pubs.acs.org/doi/10.1021/acs.jctc.8b01004) construction for the untitary circuit.  \n",
    "In addition we changed to numerical gradients in order to not spend to much time on computing in this notebook.  \n",
    "Note that in this super restricted active space we do not need to change the reference (allthough we could speed up convergence by switching from the Hartree-Fock reference (in jordan_wigner encoding: $\\lvert 1100 \\rangle)$ to the double excited configuration ($\\lvert 0011 \\rangle$). \n",
    "\n",
    "Try it out by setting `include_reference=False` in `make_upccgsd` and adding the gates to prepare the reference manually."
   ]
  },
  {
   "cell_type": "code",
   "execution_count": null,
   "metadata": {},
   "outputs": [],
   "source": [
    "import tequila as tq\n",
    "\n",
    "fci_gs = []\n",
    "fci_es = []\n",
    "energies_gs = []\n",
    "energies_es = []\n",
    "P0 = tq.paulis.Projector(\"|00>\")\n",
    "for R in [0.7 + 0.1*i for i in range(25)]:\n",
    "    print(\"Optimizing point R={:2.1f}\".format(R))\n",
    "    active = {\"b1u\": [0], \"b2u\": [0]}\n",
    "    mol = tq.chemistry.Molecule(geometry=geomstring.format(R=R), basis_set=\"6-31g\", active_orbitals=active)\n",
    "    H = mol.make_hamiltonian()\n",
    "    results = []\n",
    "    for i in range(2):\n",
    "        # labeling ensures that tequila can distinguish the variables\n",
    "        # singles can break the symmetry here falling into different states than the two above\n",
    "        # (i.e. the open-shell singly excited manifold: in jordan_wigner those states are build from\n",
    "        #  |1001> and |0110>)\n",
    "        U = mol.make_upccgsd_ansatz(label=i, include_singles=False) \n",
    "        E = tq.ExpectationValue(U, H)\n",
    "        active_vars = E.extract_variables()\n",
    "        angles = {angle: 0.0 for angle in active_vars}\n",
    "        for data, U2 in results:\n",
    "            S2 = tq.ExpectationValue(H=P0, U=U + U2.dagger())\n",
    "            E -= data.energy * S2\n",
    "            angles = {**angles, **data.angles}\n",
    "        print(\"Starting to optimize state \", i)\n",
    "        result = tq.optimizer_scipy.minimize(E, silent=True, method=\"bfgs\", gradient='2-point', method_options={\"finite_diff_rel_step\":1.e-4, \"eps\":1.e-4}, variables=active_vars, initial_values=angles)\n",
    "        print(\"finished with energy {:2.8f}\".format(result.energy))\n",
    "        results.append((result, U))\n",
    "    energies_gs.append(results[0][0].energy)\n",
    "    energies_es.append(results[1][0].energy)"
   ]
  },
  {
   "cell_type": "code",
   "execution_count": null,
   "metadata": {},
   "outputs": [],
   "source": [
    "import matplotlib.pyplot as plt\n",
    "R =  [0.7 + 0.1*i for i in range(len(energies_gs))]\n",
    "plt.figure()\n",
    "plt.plot(R, energies_gs, marker=\"o\", label=\"VQE GS\")\n",
    "plt.plot(R, energies_es, marker=\"o\", label=\"VQE ES\")\n",
    "plt.legend()\n",
    "plt.show()"
   ]
  },
  {
   "cell_type": "code",
   "execution_count": null,
   "metadata": {},
   "outputs": [],
   "source": []
  },
  {
   "cell_type": "code",
   "execution_count": null,
   "metadata": {},
   "outputs": [],
   "source": []
  },
  {
   "cell_type": "code",
   "execution_count": null,
   "metadata": {},
   "outputs": [],
   "source": []
  },
  {
   "cell_type": "code",
   "execution_count": null,
   "metadata": {},
   "outputs": [],
   "source": []
  }
 ],
 "metadata": {
  "kernelspec": {
   "display_name": "tequila-3.6",
   "language": "python",
   "name": "tequila-3.6"
  },
  "language_info": {
   "codemirror_mode": {
    "name": "ipython",
    "version": 3
   },
   "file_extension": ".py",
   "mimetype": "text/x-python",
   "name": "python",
   "nbconvert_exporter": "python",
   "pygments_lexer": "ipython3",
   "version": "3.6.9"
  }
 },
 "nbformat": 4,
 "nbformat_minor": 2
}
