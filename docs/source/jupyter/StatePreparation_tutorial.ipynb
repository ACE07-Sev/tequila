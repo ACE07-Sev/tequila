{
 "cells": [
  {
   "cell_type": "markdown",
   "metadata": {},
   "source": [
    "# State preparation algorithm tutorial\n",
    "\n",
    "This tutorial shows:\n",
    "- How to define a quantum gate not included in Tequila's gate set\n",
    "- How to construct a parametrized quantum circuit\n",
    "- How to compute the fidelity between two states\n",
    "- How to train a parametrized quantum circuit"
   ]
  },
  {
   "cell_type": "code",
   "execution_count": null,
   "metadata": {},
   "outputs": [],
   "source": [
    "# Import everthing you need\n",
    "import tequila as tq\n",
    "import numpy as np\n",
    "import random\n",
    "import time"
   ]
  },
  {
   "cell_type": "markdown",
   "metadata": {},
   "source": [
    "## Quantum gate construction\n",
    "\n",
    "Sometimes, one may need to use a particular quantum gate that is not included in the basic gate set. If we know the decomposition of this gate in terms of Tequila's gates, we can define a function that runs a small quantum circuit that constructs this particular gate.  \n",
    "  \n",
    "As an example, let's define the general one-qubit unitary gate  \n",
    "$$ U(\\theta,\\phi,\\lambda) = \\left( \\begin{array}{cc}\n",
    " e^{-\\frac{1}{2} i (\\lambda +\\phi )} \\cos \\left(\\frac{\\theta }{2}\\right) & -e^{\\frac{1}{2} i (\\lambda -\\phi )} \\sin \\left(\\frac{\\theta }{2}\\right) \\\\\n",
    " e^{-\\frac{1}{2} i (\\lambda -\\phi )} \\sin \\left(\\frac{\\theta }{2}\\right) & e^{\\frac{1}{2} i (\\lambda +\\phi )} \\cos \\left(\\frac{\\theta }{2}\\right) \\end{array} \\right) = R_{z}\\left(\\phi\\right) R_{y}\\left(\\theta\\right) R_{z}\\left(\\lambda\\right) $$"
   ]
  },
  {
   "cell_type": "code",
   "execution_count": null,
   "metadata": {},
   "outputs": [],
   "source": [
    "# q0 = target qubit\n",
    "def U(th,phi,lam,q0):\n",
    "    ugate = tq.gates.Rz(target=q0,angle=phi) + tq.gates.Ry(target=q0,angle=th) + tq.gates.Rz(target=q0,angle=lam)\n",
    "    return ugate\n",
    "# draw the circuit for some (th,phi,lam) for qubit \"0\"\n",
    "tq.draw(U(np.pi, np.pi/4.0, np.pi/2.0, 0))"
   ]
  },
  {
   "cell_type": "markdown",
   "metadata": {},
   "source": [
    "Similarly, we can construct a multi-qubit gate. For instance, the controlled-phase gate:  \n",
    "$$ CPh\\left(\\varphi \\right) = \\left(\n",
    "\\begin{array}{cccc}\n",
    " 1 & 0 & 0 & 0 \\\\\n",
    " 0 & 1 & 0 & 0 \\\\\n",
    " 0 & 0 & 1 & 0 \\\\\n",
    " 0 & 0 & 0 & e^{i \\varphi } \\\\\n",
    "\\end{array}\n",
    "\\right)  = e^{i\\phi/4} \\left(R_{z}\\left(\\varphi/2\\right)\\otimes\\mathbb{I}\\right)CR_{z}\\left(\\phi/2\\right)$$"
   ]
  },
  {
   "cell_type": "code",
   "execution_count": null,
   "metadata": {},
   "outputs": [],
   "source": [
    "# q0 = control qubit\n",
    "# q1 = target qubit\n",
    "def CPh(phi,q0,q1):\n",
    "    cph = tq.gates.Rz(target=q0, angle=phi/2) + tq.gates.CRz(control=q0, target=q1, angle=phi/2)\n",
    "    return cph\n",
    "# draw the circuit for some varphi for qubits \"0\" and \"1\"\n",
    "tq.draw(CPh(np.pi/2,0,1))"
   ]
  },
  {
   "cell_type": "markdown",
   "metadata": {},
   "source": [
    "The gate defined is equal to $CPh(\\varphi)$ gate up to a global phase."
   ]
  },
  {
   "cell_type": "markdown",
   "metadata": {},
   "source": [
    "## Compute the fidelity\n",
    "\n",
    "Let's compute the fidelity between two states, one constructed from a string (target state $|\\tilde{\\psi}\\rangle$) and other obtained from a given quantum circuit, $|\\psi\\rangle$."
   ]
  },
  {
   "cell_type": "code",
   "execution_count": null,
   "metadata": {},
   "outputs": [],
   "source": [
    "# Target state example: Bell state\n",
    "wfn_targ = tq.QubitWaveFunction.from_string(string=\"1.0*|00> + 1.0*|11>\")\n",
    "wfn_targ = wfn_targ.normalize() # Remember to normalize the state!!! \n",
    "print(\"target state: \", wfn_targ) # Print the wavefunction"
   ]
  },
  {
   "cell_type": "code",
   "execution_count": null,
   "metadata": {},
   "outputs": [],
   "source": [
    "# Quantum circuit\n",
    "q0 = 0\n",
    "q1 = 1\n",
    "qc = U(0.2, np.pi/2.0, 0.5, q0) + tq.gates.CNOT(target=q1,control=q0) + CPh(0.4,q0,q1) + tq.gates.Ry(target=q1,angle=0.5)\n",
    "wfn_qc = tq.simulate(qc) # Simulate the wavefunction \n",
    "print(\"circuit state: \", wfn_qc) \n",
    "print(\"circuit diagram: \")\n",
    "tq.draw(qc)"
   ]
  },
  {
   "cell_type": "markdown",
   "metadata": {},
   "source": [
    "There are two ways to compute the fidelity of these two states. The natural way to do it, in case we have both wavefunctions, is just by computing the inner product of these two states:\n",
    "$$ F\\left(|\\psi\\rangle, |\\tilde{\\psi}\\rangle\\right) = |\\langle \\psi | \\tilde{\\psi} \\rangle|^2 $$"
   ]
  },
  {
   "cell_type": "code",
   "execution_count": null,
   "metadata": {},
   "outputs": [],
   "source": [
    "fidelity = abs(wfn_targ.inner(wfn_qc))**2\n",
    "print('fidelity = ', fidelity)"
   ]
  },
  {
   "cell_type": "markdown",
   "metadata": {},
   "source": [
    "The second method consists on computing the expected value of the target state density matrix operator $\\rho = |\\tilde{\\psi}\\rangle\\langle\\tilde{\\psi}|$, i.e. \n",
    "$$ F\\left(|\\psi\\rangle, |\\tilde{\\psi}\\rangle\\right) = \\langle \\psi | \\rho |\\psi\\rangle = \\langle \\psi |\\tilde{\\psi}\\rangle \\langle \\tilde{\\psi} |\\psi\\rangle = |\\langle \\psi | \\tilde{\\psi} \\rangle|^2$$\n",
    "\n",
    "To do so, we need to write the density operator in terms of pauli matrices:"
   ]
  },
  {
   "cell_type": "code",
   "execution_count": null,
   "metadata": {},
   "outputs": [],
   "source": [
    "# construct the density operator of target state\n",
    "rho_targ =  tq.paulis.Projector(wfn=wfn_targ)\n",
    "print(rho_targ)"
   ]
  },
  {
   "cell_type": "markdown",
   "metadata": {},
   "source": [
    "Then, we trait this operator as a Hamiltonian and compute the objective expectation value:"
   ]
  },
  {
   "cell_type": "code",
   "execution_count": null,
   "metadata": {},
   "outputs": [],
   "source": [
    "O = tq.Objective.ExpectationValue(U=qc, H=rho_targ)\n",
    "fidelity= tq.simulate(O)\n",
    "print('fidelity = ', fidelity)"
   ]
  },
  {
   "cell_type": "markdown",
   "metadata": {},
   "source": [
    "## Construct a parametrized quantum circuit \n",
    "\n",
    "Parametrized quantum circuits (PQC) are usually defined with a small gate set. Same gates are used along the circuit with different parameters, which makes more natural to define them as vectors. In the following example, we construct a parametrized quantum circuit of two qubits using the $U(\\theta,\\phi,\\lambda)$ (defined above) and a CNOT gate. Parameters are identified with the vectors $\\vec{\\theta}$, $\\vec{\\phi}$ and $\\vec{\\lambda}$. The circuit ansatz consist on applying general unitary gates on both qubits, then entangle them with the CNOT gate, and finally apply another unitary gate."
   ]
  },
  {
   "cell_type": "code",
   "execution_count": null,
   "metadata": {},
   "outputs": [],
   "source": [
    "#qubits\n",
    "q0=0\n",
    "q1=1\n",
    "\n",
    "#define variables\n",
    "th = [tq.Variable(name='theta_{}'.format(i)) for i in range(0,4)]\n",
    "phi = [tq.Variable(name='phi_{}'.format(i)) for i in range(0,4)]\n",
    "lam = [tq.Variable(name='lam_{}'.format(i)) for i in range(0,4)]\n",
    "\n",
    "# PQC\n",
    "pqc  = U(th[0],phi[0],lam[0],q0) + U(th[1],phi[1],lam[1],q1) \n",
    "pqc += tq.gates.CNOT(control = q0, target = q1)\n",
    "pqc += U(th[2],phi[2],lam[2],q0) + U(th[3],phi[3],lam[3],q1)"
   ]
  },
  {
   "cell_type": "code",
   "execution_count": null,
   "metadata": {},
   "outputs": [],
   "source": [
    "# Draw the circuit \n",
    "n_th = len(th)\n",
    "n_phi = len(phi)\n",
    "n_lam = len(lam)\n",
    "\n",
    "tq.draw(pqc)"
   ]
  },
  {
   "cell_type": "code",
   "execution_count": null,
   "metadata": {},
   "outputs": [],
   "source": [
    "# initialize random values for the variables\n",
    "th0 ={key : random.uniform(0, np.pi) for key in th}\n",
    "phi0 = {key: random.uniform(0, np.pi) for key in phi}\n",
    "lam0 = {key: random.uniform(0, np.pi) for key in lam}\n",
    "all_values = {**th0, **phi0, **lam0}"
   ]
  },
  {
   "cell_type": "code",
   "execution_count": null,
   "metadata": {},
   "outputs": [],
   "source": [
    "th0"
   ]
  },
  {
   "cell_type": "code",
   "execution_count": null,
   "metadata": {},
   "outputs": [],
   "source": [
    "# in case you want to look at the circuit with specific values\n",
    "tq.draw(pqc, variables=all_values)"
   ]
  },
  {
   "cell_type": "markdown",
   "metadata": {},
   "source": [
    "We can now compute the fidelity of the output state of this PQC with some two-qubit random state:"
   ]
  },
  {
   "cell_type": "code",
   "execution_count": null,
   "metadata": {},
   "outputs": [],
   "source": [
    "# 2-qubit random state wavefunction from array\n",
    "rand_array = np.asarray([random.uniform(-1, 1)+1j*random.uniform(-1, 1) for x in range(1,5)])\n",
    "wfn_rand = tq.QubitWaveFunction.from_array(rand_array)\n",
    "wfn_rand = wfn_rand.normalize()\n",
    "print(\"random state: \", wfn_rand)"
   ]
  },
  {
   "cell_type": "markdown",
   "metadata": {},
   "source": [
    "And now we can compute the fidelity of these two states:"
   ]
  },
  {
   "cell_type": "code",
   "execution_count": null,
   "metadata": {},
   "outputs": [],
   "source": [
    "# Fidelity method 1: using inner product\n",
    "wfn_pqc = tq.simulate(pqc, variables=all_values) # compute the PQC wavefunction\n",
    "fid_rand = abs(wfn_rand.inner(wfn_pqc))**2\n",
    "print(\"fidelity = \", fid_rand)\n",
    "\n",
    "# Fidelity method 2: using the the density matrix as objective\n",
    "rho_rand = tq.paulis.Projector(wfn=wfn_rand) # density operator target state\n",
    "fid_pqc = tq.Objective.ExpectationValue(U=pqc, H=rho_rand)\n",
    "print(\"fidelity = \", tq.simulate(fid_pqc, variables = all_values))"
   ]
  },
  {
   "cell_type": "markdown",
   "metadata": {},
   "source": [
    "## State preparation algorithm\n",
    "\n",
    "This algorithm minimizes the fidelity between a PQC and a the target state. Since the optimizer only minimizes, we will minimize the infidelity, i.e. $1-F(|\\tilde{\\psi}\\rangle,|\\psi\\rangle)$.\n",
    "\n",
    "We can use any of the two methods to compute the infidelity, but it will be more convenient to use the second one.\n",
    "\n",
    "The goal of this example is to obtain a quantum circuit that generates the Bell state\n",
    "$$ |\\tilde{\\psi}\\rangle = \\frac{1}{\\sqrt{2}}\\left(|00\\rangle + |11\\rangle\\right) $$"
   ]
  },
  {
   "cell_type": "code",
   "execution_count": null,
   "metadata": {},
   "outputs": [],
   "source": [
    "# Bell state wavefunction from array\n",
    "bell_array = np.asarray([1,0,0,1])\n",
    "wfn_bell = tq.QubitWaveFunction.from_array(bell_array)\n",
    "wfn_bell = wfn_targ.normalize()\n",
    "print(\"Bell state: \", wfn_bell)"
   ]
  },
  {
   "cell_type": "code",
   "execution_count": null,
   "metadata": {},
   "outputs": [],
   "source": [
    "rho_bell = tq.paulis.Projector(wfn=wfn_bell) # density operator\n",
    "\n",
    "# we take as initial values ther random values generated above\n",
    "initial_values = all_values\n",
    "# Infidelity = 1 - Fidelity\n",
    "inf =  1.0 - tq.Objective.ExpectationValue(U=pqc, H=rho_bell)\n",
    "\n",
    "# we can define the bounds on the parameters\n",
    "# Caution! Not all minimizers accept bounds! In this example, we use 'TNC' minimizer.\n",
    "# bounds should be defined in a dictionary form, as initial_values\n",
    "max_angles = 2*np.pi\n",
    "min_angles = 0\n",
    "bnds_list = [[min_angles,max_angles]]\n",
    "for i in range(0, len(all_values)):\n",
    "    bnds_list.append([min_angles,max_angles])\n",
    "bnds = dict(zip([str(th[i]) for i in range(0,n_th)],bnds_list))\n",
    "bnds = {**bnds, **dict(zip([str(phi[i]) for i in range(0,n_phi)],bnds_list))}\n",
    "bnds = {**bnds, **dict(zip([str(lam[i]) for i in range(0,n_lam)],bnds_list))}\n",
    "\n",
    "# set \"silent = True\" to avoid printing all the minimization process\n",
    "t0 = time.time()\n",
    "infid = tq.optimizer_scipy.minimize(objective=inf, initial_values=initial_values, method = 'TNC', method_bounds = bnds, silent=True)\n",
    "t1 = time.time()\n",
    "\n",
    "print(\"Infidelity = \", infid.energy)\n",
    "print(\"Fidelity = \", 1.0-infid.energy)\n",
    "print(\"Execution time: \", t1-t0, \" sec\" )\n",
    "\n",
    "print(infid.history.plot('energies', label='fidelity'))\n",
    "print(infid.history.plot('angles', label=\"\"))"
   ]
  },
  {
   "cell_type": "code",
   "execution_count": null,
   "metadata": {},
   "outputs": [],
   "source": [
    "# some example on how to use the convenience plotter\n",
    "infid.history.plot([\"angles\", \"gradients\"], key=[\"lam_1\", \"lam_2\"], labels=[\"\", \"grad\"], title=\"Some Data\", ylim=(-1.0, 3.0), xlim=(-3, 5), loc=\"upper left\")"
   ]
  },
  {
   "cell_type": "code",
   "execution_count": null,
   "metadata": {},
   "outputs": [],
   "source": [
    "# in case you want to extract the history data\n",
    "history_phi_0 = infid.history.extract_angles(\"phi_0\")\n",
    "history_energies = infid.history.extract_energies()"
   ]
  },
  {
   "cell_type": "markdown",
   "metadata": {},
   "source": [
    "We can check that the final state solution is the Bell state up to a global phase:"
   ]
  },
  {
   "cell_type": "code",
   "execution_count": null,
   "metadata": {},
   "outputs": [],
   "source": [
    "wfn_sol = tq.simulate(pqc, variables=infid.angles)\n",
    "print('final state solution: ')\n",
    "print(wfn_sol)"
   ]
  },
  {
   "cell_type": "markdown",
   "metadata": {},
   "source": [
    "To obtain the angles of the PQC:"
   ]
  },
  {
   "cell_type": "code",
   "execution_count": null,
   "metadata": {},
   "outputs": [],
   "source": [
    "infid.angles"
   ]
  },
  {
   "cell_type": "code",
   "execution_count": null,
   "metadata": {},
   "outputs": [],
   "source": []
  }
 ],
 "metadata": {
  "kernelspec": {
   "display_name": "tqenv",
   "language": "python",
   "name": "tqenv"
  },
  "language_info": {
   "codemirror_mode": {
    "name": "ipython",
    "version": 3
   },
   "file_extension": ".py",
   "mimetype": "text/x-python",
   "name": "python",
   "nbconvert_exporter": "python",
   "pygments_lexer": "ipython3",
   "version": "3.7.4"
  }
 },
 "nbformat": 4,
 "nbformat_minor": 2
}
