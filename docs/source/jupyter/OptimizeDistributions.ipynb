{
 "cells": [
  {
   "cell_type": "markdown",
   "metadata": {},
   "source": [
    "# Training Distributions with KM Divergence"
   ]
  },
  {
   "cell_type": "markdown",
   "metadata": {},
   "source": [
    "Short tutorial on how to form objectives like in this paper  \n",
    "https://arxiv.org/pdf/1801.07686.pdf\n",
    "\n",
    "First some imports and the advice to use `tq.numpy` for functions in objectives (avoid issues in automatic differentiations and use the regular `numpy` for everything else (avoid issues with jax where you don't want them)"
   ]
  },
  {
   "cell_type": "code",
   "execution_count": null,
   "metadata": {},
   "outputs": [],
   "source": [
    "import tequila as tq\n",
    "import numpy"
   ]
  },
  {
   "cell_type": "markdown",
   "metadata": {},
   "source": [
    "First we define the $\\max(x,\\epsilon)$ function we will need further down the road and some global variables for this example"
   ]
  },
  {
   "cell_type": "code",
   "execution_count": null,
   "metadata": {},
   "outputs": [],
   "source": [
    "# global variables, change here if you want\n",
    "eps = 1.e-8\n",
    "n_qubits = 5\n",
    "n_layers = 1\n",
    "\n",
    "def my_max(x):\n",
    "    if x<eps:\n",
    "        return eps\n",
    "    else:\n",
    "        return x"
   ]
  },
  {
   "cell_type": "markdown",
   "metadata": {},
   "source": [
    "In this example we will train for the generation of GHZ state (as in the paper above).  \n",
    "The ansatz template consists of `Rx` gates and Mølmer-Sørensen gates which are just rotations around XX.  \n",
    "We give here the option of using multiple layers, but one layer actually suffices for this example"
   ]
  },
  {
   "cell_type": "code",
   "execution_count": null,
   "metadata": {},
   "outputs": [],
   "source": [
    "# create ansatz\n",
    "U = tq.QCircuit()\n",
    "for layer in range(n_layers):\n",
    "    for q in range(n_qubits):\n",
    "        # name can be any non-numeric hashable type\n",
    "        # scaling variables with pi in this example\n",
    "        variable = tq.Variable(name=(layer, q))\n",
    "        U += tq.gates.Rx(angle=variable*tq.numpy.pi, target=q)\n",
    "    for q in range(n_qubits):\n",
    "        for p in range(q+1, n_qubits):\n",
    "            U += tq.gates.ExpPauli(angle=tq.numpy.pi / 2.0, paulistring=\"X({})X({})\".format(q, p))"
   ]
  },
  {
   "cell_type": "markdown",
   "metadata": {},
   "source": [
    "Here are some demonstrations on how to extract informations from your template circuit U"
   ]
  },
  {
   "cell_type": "code",
   "execution_count": null,
   "metadata": {},
   "outputs": [],
   "source": [
    "print(U)\n",
    "print(\"Circuit depends on variables: \", U.extract_variables())"
   ]
  },
  {
   "cell_type": "markdown",
   "metadata": {},
   "source": [
    "The circuit is parametrized by variables, so if we want to simulate it we will have to choose for which values we want to simulate the wavefunction. Here is an example where we set all variables to $\\pi$.  \n",
    "Variables are passed down to the simulator as a dictionary holding the variable names and values"
   ]
  },
  {
   "cell_type": "code",
   "execution_count": null,
   "metadata": {},
   "outputs": [],
   "source": [
    "variables = {k : 1.0 for k in U.extract_variables()}\n",
    "wfn = tq.simulate(U, variables=variables)\n",
    "print(\"wfn with variables = \", variables)\n",
    "print(wfn)"
   ]
  },
  {
   "cell_type": "markdown",
   "metadata": {},
   "source": [
    "Instead of simulating directly the circuit can also be compiled and afterwards be used like a function"
   ]
  },
  {
   "cell_type": "code",
   "execution_count": null,
   "metadata": {},
   "outputs": [],
   "source": [
    "compiledU = tq.compile(U)\n",
    "wfn = compiledU(variables=variables)\n",
    "print(wfn)"
   ]
  },
  {
   "cell_type": "markdown",
   "metadata": {},
   "source": [
    "Next we will define the target distribution which we want to optimize for. It is the distribution of a GHZ state, i.e. $P(00..0) = 0.5$ and $P(11..1)=0.5$ where in the following we will use binary notation for easier coding i.e $00...0=0$ and $11..1=2^{n-1}+2^{n-2}+..+1$"
   ]
  },
  {
   "cell_type": "code",
   "execution_count": null,
   "metadata": {},
   "outputs": [],
   "source": [
    "one = sum([2**i for i in range(n_qubits)])\n",
    "target_distribution = {0:0.5, one:0.5}"
   ]
  },
  {
   "cell_type": "markdown",
   "metadata": {},
   "source": [
    "For the tequila objective Born's rule will be used. In order to make this work we need to reformulate this as an expectation value. This can be achieved as \n",
    "$$\\displaystyle \\lvert\\langle ijk..l \\rvert \\Psi \\rangle\\rvert^2 = \\langle \\Psi \\rvert H \\lvert \\Psi \\rangle$$\n",
    "where $i,j,k..,l \\in \\left\\{0,1 \\right\\}$ and the Hamiltonian is\n",
    "$$ \\displaystyle H = \\lvert ijk..l \\rangle \\langle ijk..l \\rvert = \\otimes_{m \\in (ijk..l)} \\frac{1}{n}\\left( 1 + (-1)^{m}\\sigma_Z \\right)$$\n",
    "\n",
    "Tequila has a convenience shortcut for the operator $$Q_{\\pm} = \\frac{1}{2}\\left( 1 \\pm \\sigma_Z \\right) $$\n",
    "\n",
    "Lets build the Kullback–Leibler divergence of the distribution P generated by our template U and the target distribution Q\n",
    "\n",
    "$$ \\displaystyle D(P,Q) = -\\frac{1}{2^n} \\sum_{x} P(x) \\ln\\left(\\frac{P(x)}{Q(x)}\\right) $$\n",
    "\n",
    "where we use the same safety barrier as in the paper to prevent taking logarithms of zero (this is where the mymax function fron above is needed). In the end we will square the objective to avoid negative values and assure that zero is the minimum."
   ]
  },
  {
   "cell_type": "code",
   "execution_count": null,
   "metadata": {},
   "outputs": [],
   "source": [
    "objective = tq.Objective()\n",
    "\n",
    "for k, Q in target_distribution.items():\n",
    "    Q = my_max(Q) # here we apply the mymax function to avoid having zeros\n",
    "    wfn = tq.QubitWaveFunction.from_int(k, n_qubits=n_qubits)\n",
    "    H = tq.paulis.Projector(wfn=wfn)\n",
    "    P = tq.ExpectationValue(H=H, U=U)  # this is the born rule expectation value from above\n",
    "    P = P.apply(my_max) # here we apply the mymax function to avoid having zeros\n",
    "    objective += Q*(Q / P).apply(tq.numpy.log) # here we take the logarithm and sum up\n",
    "    \n",
    "objective = 1.0/2.0**n_qubits *objective\n",
    "objective = objective**2 # here we take the square"
   ]
  },
  {
   "cell_type": "markdown",
   "metadata": {},
   "source": [
    "Lets see what we created here.\n",
    "Tequila created an objective with 4 expectationvalues (we had 2 values in the target_distribution, and P entered twice each) but only 2 unique expectationvalues (meaning the simulator will only evaluate those two)"
   ]
  },
  {
   "cell_type": "code",
   "execution_count": null,
   "metadata": {},
   "outputs": [],
   "source": [
    "print(objective)"
   ]
  },
  {
   "cell_type": "markdown",
   "metadata": {},
   "source": [
    "Objectives can be compiled and simulated in the same way as the circuits above. \n",
    "Here is a small demonstration.  \n",
    "Since our objective is parametrized we need to pass the variables down again. We will use the same as in the example above.\n"
   ]
  },
  {
   "cell_type": "code",
   "execution_count": null,
   "metadata": {},
   "outputs": [],
   "source": [
    "value1 = tq.simulate(objective, variables=variables)\n",
    "compiled = tq.compile(objective)\n",
    "value2 = compiled(variables=variables)\n",
    "variables2 = {k:1.1 for k in objective.extract_variables()}\n",
    "value3 = compiled(variables=variables2)\n",
    "print(\"value1 = \", value1)\n",
    "print(\"value2 = \", value2)\n",
    "print(\"value3 = \", value3)"
   ]
  },
  {
   "cell_type": "markdown",
   "metadata": {},
   "source": [
    "Lets optimize our objective with one of the inbuildt optimizers in tequila.  \n",
    "If no initial_values are passed down, random initialization will be used.  \n",
    "Check the OptimizerSciPy Tutorial for more information"
   ]
  },
  {
   "cell_type": "code",
   "execution_count": null,
   "metadata": {},
   "outputs": [],
   "source": [
    "result = tq.optimizer_scipy.minimize(objective=objective, method=\"Cobyla\")"
   ]
  },
  {
   "cell_type": "markdown",
   "metadata": {},
   "source": [
    "Lets compute our wavefunction with the optimized angles"
   ]
  },
  {
   "cell_type": "code",
   "execution_count": null,
   "metadata": {},
   "outputs": [],
   "source": [
    "final_wfn = tq.simulate(U, variables=result.angles)\n",
    "print(final_wfn)"
   ]
  },
  {
   "cell_type": "markdown",
   "metadata": {},
   "source": [
    "And plot some information about the optimization "
   ]
  },
  {
   "cell_type": "code",
   "execution_count": null,
   "metadata": {},
   "outputs": [],
   "source": [
    "result.history.plot(\"energies\")"
   ]
  },
  {
   "cell_type": "code",
   "execution_count": null,
   "metadata": {},
   "outputs": [],
   "source": [
    "result.history.plot(\"angles\")"
   ]
  },
  {
   "cell_type": "code",
   "execution_count": null,
   "metadata": {},
   "outputs": [],
   "source": []
  },
  {
   "cell_type": "code",
   "execution_count": null,
   "metadata": {},
   "outputs": [],
   "source": []
  }
 ],
 "metadata": {
  "kernelspec": {
   "display_name": "tequila-3.6",
   "language": "python",
   "name": "tequila-3.6"
  },
  "language_info": {
   "codemirror_mode": {
    "name": "ipython",
    "version": 3
   },
   "file_extension": ".py",
   "mimetype": "text/x-python",
   "name": "python",
   "nbconvert_exporter": "python",
   "pygments_lexer": "ipython3",
   "version": "3.6.9"
  }
 },
 "nbformat": 4,
 "nbformat_minor": 2
}
