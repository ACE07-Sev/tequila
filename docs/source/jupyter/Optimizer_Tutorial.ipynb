{
 "cells": [
  {
   "cell_type": "markdown",
   "metadata": {},
   "source": [
    "# Optimization"
   ]
  },
  {
   "cell_type": "markdown",
   "metadata": {},
   "source": [
    "Hello, and welcome to our tutorial on optimization. Here, we will explore the four different optimizers which already have `Tequila` interfaces: a native GD optimizer, alongside interfaces for `SciPy`, `GPyOpt`, and `Phoenics`."
   ]
  },
  {
   "cell_type": "code",
   "execution_count": null,
   "metadata": {},
   "outputs": [],
   "source": [
    "### start at the start: import statements!\n",
    "import tequila as tq\n",
    "import numpy as np"
   ]
  },
  {
   "cell_type": "markdown",
   "metadata": {},
   "source": [
    "## Overview\n",
    "\n",
    "**How to optimize an `Objective`:**\n",
    "\n",
    " In `tequila`, optimizers are accessed in several ways. They may be instantiated as objects directly, which can then be called; they are also accessible through `tq.minimize`. Either of these methods have an obligatory argument: an `Objective`. `tq.minimize` also requires you supply a `method`, which must be a string; the call methods of the GD, `SciPy`, and `GPyOpt` optimizers accept this key as well.\n",
    " \n",
    "As keywords to any optimization call, you can pass down the usual compilation kwargs for quantum simulation in `Tequila`:\n",
    "* `backend`, a string indicating which quantum simulator to use\n",
    "* `samples`, an int indicating how many shots of the circuit to measure (None means full wf simulation)\n",
    "* `device`, (generally) a string indicating which (real or emulated) quantum computer to sample from (requires samples be specified),\n",
    "* `noise`, the NoiseModel object to apply to the circuits simulated (see the tutorial on noise). \n",
    "\n",
    "additional keywords you might use include:\n",
    "* `variables`,  a `list` of the `Variable`s you want to optimize (the default is all of them).\n",
    "* `initial_values`, which gives a start point to optimization. If you supply arguments to `variables`, you also need to supply arguments to `initial_values` so that all non-optimized parameters have a value to use. The default is random initialization (not recomended) \n",
    "* `gradient`, which specifies which type of gradient will be used : analytical gradients (Default): gradient=None, numerical gradients: gradient={'method':'2-point', \"stepsize\":1.e-4}, custom gradient objectives: gradient={tq.Variable:tq.Objective}, module specific gradients: gradient=\"2-point\" (to use for example `SciPy` finite difference stencils).\n",
    "* `silent`, silence outputs\n",
    "\n",
    "Some of the optimizers take more, or different, keywords from the others, so check the documentation for each one. \n",
    "In case the optimizer has some degree of verbosity (currently, they all do), you can deactivate this with `silent=True`. \n",
    "\n",
    "The following optimization methods are available on your system in `Tequila`:"
   ]
  },
  {
   "cell_type": "code",
   "execution_count": null,
   "metadata": {},
   "outputs": [],
   "source": [
    "tq.optimizers.show_available_optimizers()"
   ]
  },
  {
   "cell_type": "markdown",
   "metadata": {},
   "source": [
    "We will use two different `Objective`s for optimization in this tutorial. The first of these is a two qubit expectation value with the tractable but non trivial hamiltonian $[Y(0)+Qm(0)]\\otimes X(1)$, where $Qm=\\frac{1}{2} (I - Z)$, the projector onto the |1> state. "
   ]
  },
  {
   "cell_type": "code",
   "execution_count": null,
   "metadata": {},
   "outputs": [],
   "source": [
    "### optimizing the circuit in terms of pi makes the result of the optimization easier to interpret.\n",
    "\n",
    "a = tq.Variable(name=\"a\")*tq.numpy.pi\n",
    "b = tq.Variable(name=\"b\")*tq.numpy.pi\n",
    "c = tq.Variable(name=\"c\")*tq.numpy.pi\n",
    "d = tq.Variable(name='d')*tq.numpy.pi\n",
    "\n",
    "U1 = tq.gates.H(target=[0])\n",
    "U1 += tq.gates.H(target=1)\n",
    "U1 += tq.gates.Ry(target=0, angle=a)\n",
    "U1 += tq.gates.Rz(target=1, angle=b)\n",
    "U1 += tq.gates.Z(target=1,control=0)\n",
    "U1 += tq.gates.Rx(target=0, angle=c)\n",
    "U1 += tq.gates.Rx(target=1,angle=d)\n",
    "U1 += tq.gates.Z(target=1,control=0)\n",
    "\n",
    "\n",
    "### once we have a circuit, we pick a hamiltonian to optimize over\n",
    "H1=(tq.paulis.Y(0)+tq.paulis.Qm(0))*tq.paulis.X(1)\n",
    "O1=tq.ExpectationValue(U=U1,H=H1)\n",
    "\n",
    "### we use the .draw function to pretty-print circuits via backend printers.\n",
    "print('We will optimize the following objective: \\n')\n",
    "tq.draw(O1,backend='qiskit')"
   ]
  },
  {
   "cell_type": "markdown",
   "metadata": {},
   "source": [
    "Our second `Objective`, O2, will measure a 3-qubit circuit with respect to the Hamiltonian $Y(0)\\otimes X(1) \\otimes Y(2)$"
   ]
  },
  {
   "cell_type": "code",
   "execution_count": null,
   "metadata": {},
   "outputs": [],
   "source": [
    "### this time, don't scale by pi\n",
    "\n",
    "H2 = tq.paulis.Y(0)*tq.paulis.X(1)*tq.paulis.Y(2)\n",
    "U2 = tq.gates.Ry(tq.numpy.pi/2,0) +tq.gates.Ry(tq.numpy.pi/3,1)+tq.gates.Ry(tq.numpy.pi/4,2)\n",
    "U2 += tq.gates.Rz('a',0)+tq.gates.Rz('b',1)\n",
    "U2 += tq.gates.CNOT(control=0,target=1)+tq.gates.CNOT(control=1,target=2)\n",
    "U2 += tq.gates.Ry('c',1) +tq.gates.Rx('d',2)\n",
    "U2 += tq.gates.CNOT(control=0,target=1)+tq.gates.CNOT(control=1,target=2)\n",
    "O2 = tq.ExpectationValue(H=H2, U=U2)\n",
    "\n",
    "print('We will optimize the following objective: \\n')\n",
    "tq.draw(O2, backend=\"qiskit\")"
   ]
  },
  {
   "cell_type": "markdown",
   "metadata": {},
   "source": [
    "## Local Optimizers\n",
    "\n",
    "We will begin this tutorial by focusing on local optimizers. By local optimization, we mean the any optimization schema where the suggested parameters at step t are always a transformation of the parameters suggested at step t-1. This includes a large number of the standard optimization techniques in use today, like gradient descent.     `Tequila` comes with two local optimizers: a native gradient descent optimizer, implementing a number of the most popular gradient descent algorithms used in classical machine learning, as well as a plugin for the `SciPy` package (which is installed alongside `Tequila`), which allows the use of a number of gradient-free, gradient-based, and hessian-based optimization methods.\n",
    "\n",
    "### The GD Optimizer\n",
    "we will start this tutorial by looking at the GD optimizer. Here is an overview over the available optimization methods.\n"
   ]
  },
  {
   "cell_type": "code",
   "execution_count": null,
   "metadata": {},
   "outputs": [],
   "source": [
    "tq.show_available_optimizers(module=\"gd\")"
   ]
  },
  {
   "cell_type": "markdown",
   "metadata": {},
   "source": [
    "As one sees, a variety of methods are available for optimization. Here, 'sgd' refers to the standard gradient descent algorithm, without momentum. like all tequila optimizers, the GD optimizer has a minimize function and most of the arguments are the same. However, there is one important difference: the GD optimizer takes a learning rate, lr. This parameter mediates step size in all of the GD optimizer methods; it is a positive float which scales the step in the direction of the gradient. \n"
   ]
  },
  {
   "cell_type": "markdown",
   "metadata": {},
   "source": [
    "We will now optimize O1, our two-qubit expectation value, choosing starting angles equivalent to $\\frac{1}{4}\\pi$ for all four variables, and optimizing via the ['Adam'](https://towardsdatascience.com/_adam-latest-trends-in-deep-learning-optimization-6be9a291375c) method."
   ]
  },
  {
   "cell_type": "code",
   "execution_count": null,
   "metadata": {},
   "outputs": [],
   "source": [
    "init={'a':0.25,'b':0.25,'c':0.25,'d':0.25}\n",
    "lr=0.1\n",
    "\n",
    "### For even more fun, try using sampling with the samples keyword, \n",
    "### or pick your favorite backend with the 'backend' keyword!\n",
    "\n",
    "adam_result=tq.minimize(objective=O1,lr=lr,\n",
    "              method='adam',\n",
    "              maxiter=80,\n",
    "              initial_values=init,\n",
    "              silent=True)"
   ]
  },
  {
   "cell_type": "markdown",
   "metadata": {},
   "source": [
    "The plots below show the trajectory of both the value of the objective and the values of the angles as a function of time."
   ]
  },
  {
   "cell_type": "code",
   "execution_count": null,
   "metadata": {},
   "outputs": [],
   "source": [
    "adam_result.history.plot('energies')\n",
    "adam_result.history.plot('angles')\n",
    "print('best energy: ',adam_result.energy)\n",
    "print('optimal angles: ',adam_result.angles)"
   ]
  },
  {
   "cell_type": "markdown",
   "metadata": {},
   "source": [
    "**We see that, minus a few hiccups, all the angles converge to optimimum values.**"
   ]
  },
  {
   "cell_type": "markdown",
   "metadata": {},
   "source": [
    "**Let's repeat what we did above, but with a few of the other methods! Here's RMSprop:**"
   ]
  },
  {
   "cell_type": "code",
   "execution_count": null,
   "metadata": {},
   "outputs": [],
   "source": [
    "init={'a':0.25,'b':0.25,'c':0.25,'d':0.25}\n",
    "lr=0.01\n",
    "rms_result=tq.minimize(objective=O1,lr=lr,\n",
    "              method='rmsprop',\n",
    "              maxiter=80,\n",
    "              initial_values=init,\n",
    "              silent=True)\n",
    "print('RMSprop optimization results:')\n",
    "rms_result.history.plot('energies')\n",
    "rms_result.history.plot('angles')\n",
    "print('best energy: ',rms_result.energy)\n",
    "print('optimal angles: ',rms_result.angles)"
   ]
  },
  {
   "cell_type": "markdown",
   "metadata": {},
   "source": [
    "**... And here's Momentum:**"
   ]
  },
  {
   "cell_type": "code",
   "execution_count": null,
   "metadata": {},
   "outputs": [],
   "source": [
    "init={'a':0.25,'b':0.25,'c':0.25,'d':0.25}\n",
    "lr=0.1\n",
    "mom_result=tq.minimize(objective=O1,lr=lr,\n",
    "              method='momentum',\n",
    "              maxiter=80,\n",
    "              initial_values=init,\n",
    "              silent=True)\n",
    "\n",
    "print('momentum optimization results:')\n",
    "mom_result.history.plot('energies')\n",
    "mom_result.history.plot('angles')\n",
    "print('best energy: ',mom_result.energy)\n",
    "print('optimal angles: ',mom_result.angles)"
   ]
  },
  {
   "cell_type": "markdown",
   "metadata": {},
   "source": [
    "Note that when using the [RMSprop](https://towardsdatascience.com/understanding-rmsprop-faster-neural-network-learning-62e116fcf29a) method, we reduced the learning rate from 0.1 to 0.01. Different methods may be more or less sensitive to choices of initial learning rate. Try going back to the previous examples, and choosing different learning rates, or different initial parameters, to gain a feel for how sensitive different methods are."
   ]
  },
  {
   "cell_type": "markdown",
   "metadata": {},
   "source": [
    "**The GD optimizer, with the Quantum Natural Gradient:**\n",
    "\n",
    "The Quantum Natural Gradient, or QNG, is a novel method of calculating gradients for quantum systems, inspired by the natural gradient sometimes employed in classical machine learning. The usual gradient we employ is with respect to a euclidean manifold, but this is not the only geometry -- nor even, the optimal geometry -- of quantum space. The QNG is, in essence, a method of taking gradients with respect to (an approximation to) the Fubini-Study metric. For information on how (and why) the QNG is used, see [Stokes et.al](https://arxiv.org/abs/1909.02108). \n",
    "\n",
    "Using the qng in Tequila is as simple as passing in the keyword gradient='qng' to optimizers which support it, such as the GD optimizer.  We will use it to optimize O2, our 3 qubit `Objective`, and then compare the results to optimizing the same circuit with the regular gradient."
   ]
  },
  {
   "cell_type": "code",
   "execution_count": null,
   "metadata": {},
   "outputs": [],
   "source": [
    "### the keyword stop_count, below, stops optimization if no improvement occurs after 50 epochs.\n",
    "### let's use a random initial starting point:\n",
    "init={k:np.random.uniform(-2,2) for k in ['a','b','c','d']}\n",
    "\n",
    "lr=0.01\n",
    "qng_result = tq.minimize(objective=O2,\n",
    "                     gradient='qng',\n",
    "                     method='sgd', maxiter=200,lr=lr,\n",
    "                     initial_values=init, silent=True)"
   ]
  },
  {
   "cell_type": "code",
   "execution_count": null,
   "metadata": {},
   "outputs": [],
   "source": [
    "qng_result.history.plot('energies')\n",
    "qng_result.history.plot('angles')\n",
    "print('best energy with qng: ',qng_result.energy)\n",
    "print('optimal angles with qng: ',qng_result.angles)"
   ]
  },
  {
   "cell_type": "markdown",
   "metadata": {},
   "source": [
    "To gain appreciation for why one might use the QNG, let's optimize the same circuit with the same learning rate and the same method, but without QNG."
   ]
  },
  {
   "cell_type": "code",
   "execution_count": null,
   "metadata": {},
   "outputs": [],
   "source": [
    "lr=0.01\n",
    "sgd_noqng_result = tq.minimize(objective=O2,\n",
    "                     gradient=None,\n",
    "                     method='sgd', maxiter=200,lr=lr,\n",
    "                     initial_values=init, silent=True)\n",
    "print('plotting what happens without QNG')\n",
    "sgd_noqng_result.history.plot('energies')\n",
    "sgd_noqng_result.history.plot('angles')\n",
    "print('best energy without qng: ',sgd_noqng_result.energy)\n",
    "print('optimal angles without qng: ',sgd_noqng_result.angles)"
   ]
  },
  {
   "cell_type": "markdown",
   "metadata": {},
   "source": [
    "Though the starting point was random you will most likely see that the QNG run achieved a greater degree of improvement -- it will not perform worse --, and that the trajectories followed by angles there were different from those followed by angles in the sgd-only optimization. Feel free to play around with other methods, learning rates, or circuits in the space below!\n"
   ]
  },
  {
   "cell_type": "code",
   "execution_count": null,
   "metadata": {},
   "outputs": [],
   "source": [
    "### Use this space to optimize your own circuits!"
   ]
  },
  {
   "cell_type": "markdown",
   "metadata": {},
   "source": [
    "### The SciPy Optimizer\n",
    "\n",
    "`SciPy` is one of the most popular optimization packages in `Python`. It offers a wide variety of optimization strategies. We will not cover them here; for a full exploration of all the `SciPy` methods, see [their docs](https://docs.scipy.org/doc/scipy/reference/tutorial/optimize.html). Here, we will exhibit a few of the more powerful options available. Most `SciPy` keywords like `method_options` can just be passed to `minimize` directly in the same way as when using `SciPy` directly.  "
   ]
  },
  {
   "cell_type": "code",
   "execution_count": null,
   "metadata": {},
   "outputs": [],
   "source": [
    "tq.show_available_optimizers(module=\"scipy\")"
   ]
  },
  {
   "cell_type": "markdown",
   "metadata": {},
   "source": [
    "We will try three different optimizers: `COBYLA`, which is gradient-free, `L-BFGS-B`, which employs gradients, and `NEWTON-CG`, which employs the Hessian."
   ]
  },
  {
   "cell_type": "code",
   "execution_count": null,
   "metadata": {},
   "outputs": [],
   "source": [
    "print('As a reminder: we will optimize:')\n",
    "tq.draw(O1, backend=\"qiskit\")"
   ]
  },
  {
   "cell_type": "code",
   "execution_count": null,
   "metadata": {},
   "outputs": [],
   "source": [
    "init={'a':0.25,'b':0.25,'c':0.25,'d':0.25}\n",
    "\n",
    "cobyla_result = tq.minimize(objective=O1,\n",
    "                            method=\"cobyla\", \n",
    "                            initial_values=init, \n",
    "                            tol=1.e-3, method_options={\"gtol\":1.e-3},\n",
    "                            silent=True)\n",
    "\n",
    "cobyla_result.history.plot('energies')\n",
    "cobyla_result.history.plot('angles')\n",
    "print('best energy with cobyla: ',cobyla_result.energy)\n",
    "print('optimal angles with cobyla: ',cobyla_result.angles)"
   ]
  },
  {
   "cell_type": "code",
   "execution_count": null,
   "metadata": {},
   "outputs": [],
   "source": [
    "lb_result = tq.minimize(objective=O1,\n",
    "                            method=\"l-bfgs-b\", \n",
    "                            initial_values=init, \n",
    "                            tol=1.e-3, method_options={\"gtol\":1.e-3},\n",
    "                            silent=True)\n",
    "\n",
    "lb_result.history.plot('energies')\n",
    "lb_result.history.plot('angles')\n",
    "print('best energy with L-BFGS-B: ',lb_result.energy)\n",
    "print('optimal angles with L-BFGS-B: ',lb_result.angles)"
   ]
  },
  {
   "cell_type": "code",
   "execution_count": null,
   "metadata": {},
   "outputs": [],
   "source": [
    "newton_result = tq.minimize(objective=O1,\n",
    "                            method=\"newton-cg\", \n",
    "                            initial_values=init, \n",
    "                            tol=1.e-3, method_options={\"gtol\":1.e-3},\n",
    "                            silent=True)\n",
    "\n",
    "newton_result.history.plot('energies')\n",
    "newton_result.history.plot('angles')\n",
    "print('best energy with NEWTON-CG: ',newton_result.energy)\n",
    "print('optimal angles with NEWTON-CG: ',newton_result.angles)"
   ]
  },
  {
   "cell_type": "markdown",
   "metadata": {},
   "source": [
    "All three of the methods converged to the same minimum, but not necessarily to the same angles; the gradient and hessian based methods converged to approximately the same angles in similar time. "
   ]
  },
  {
   "cell_type": "markdown",
   "metadata": {},
   "source": [
    "**Scipy Extras: numerical gradients and Hessians**\n",
    "Scipy allows for the use of numerical gradients. To use them, pass down keywords to the `gradient` argument, like `'2-point'`. When using the numerical gradients of `SciPy` it is often crucial to determine a feasible stepsize for the procedure. This can be done with the `method_options` entry `finite_diff_rel_step` (for `SciPy` version 1.5 or higher) or `eps` (for `SciPy` version < 1.5).\n",
    "\n",
    "Here is one example. **Please check your SciPy version!**"
   ]
  },
  {
   "cell_type": "code",
   "execution_count": null,
   "metadata": {},
   "outputs": [],
   "source": [
    "lb_result = tq.minimize(objective=O1,\n",
    "                            method=\"l-bfgs-b\", \n",
    "                            initial_values=init,\n",
    "                            gradient=\"2-point\",\n",
    "                            tol=1.e-3, method_options={\"gtol\":1.e-3, \"finite_diff_rel_step\":1.e-4}, # eps for scipy version < 1.5\n",
    "                            silent=True)\n",
    "\n",
    "lb_result.history.plot('energies')\n",
    "lb_result.history.plot('angles')\n",
    "print('best energy with L-BFGS-B: ',lb_result.energy)\n",
    "print('optimal angles with L-BFGS-B: ',lb_result.angles)"
   ]
  },
  {
   "cell_type": "markdown",
   "metadata": {},
   "source": [
    "**Scipy Extras: the QNG in SciPy**\n",
    "Scipy is also configured to use the qng, just as the gd optimizer is. All one needs to do is set `gradient=qng`. Let's See how QNG interacts with the `BFGS` optimizer. We will use 02, our 3-qubit expectationvalue, that we used previously."
   ]
  },
  {
   "cell_type": "code",
   "execution_count": null,
   "metadata": {},
   "outputs": [],
   "source": [
    "init={k:np.random.uniform(-2,2) for k in ['a','b','c','d']}\n",
    "lr=0.01\n",
    "bfgs_qng_result = tq.minimize(objective=O2,\n",
    "                     gradient='qng',\n",
    "                     method='bfgs', maxiter=200,lr=lr,\n",
    "                     initial_values=init, silent=True)\n",
    "print('plotting what happens with QNG')\n",
    "bfgs_qng_result.history.plot('energies')\n",
    "bfgs_qng_result.history.plot('angles')\n",
    "print('best energy with qng: ',bfgs_qng_result.energy)\n",
    "print('optimal angles with qng: ',bfgs_qng_result.angles)"
   ]
  },
  {
   "cell_type": "code",
   "execution_count": null,
   "metadata": {},
   "outputs": [],
   "source": [
    "bfgs_noqng_result = tq.minimize(objective=O2,\n",
    "                     gradient=None,\n",
    "                     method='bfgs', maxiter=200,lr=lr,\n",
    "                     initial_values=init, silent=True)\n",
    "print('plotting what happens without QNG')\n",
    "bfgs_noqng_result.history.plot('energies')\n",
    "bfgs_noqng_result.history.plot('angles')\n",
    "print('best energy without qng: ',bfgs_noqng_result.energy)\n",
    "print('optimal angles without qng: ',bfgs_noqng_result.angles)"
   ]
  },
  {
   "cell_type": "markdown",
   "metadata": {},
   "source": [
    "## Numerical and Customized Gradients\n",
    "\n",
    "By default `tequila` compiles analytical gradients of the objectives using `jax`, internal recompilation and the parameter shift rule. The default is not setting the `gradient` keyword or setting it to `None`. The keyword can also be set to a dictionary (keys are the variables, values are the `tequila` objectives which are assumed to evaluate to the corresponding gradients of the objective).  \n",
    "For example `gradient=tq.grad(objective)` will results have the same results as `gradient=None` or simply not setting it.\n",
    "\n",
    "`tequila` offers its own way of compiling numerical gradients which can then be used troughout all gradient based optimizers. It can be activated by setting `gradient` to a dictionary holding the finite difference stencil as `method` as well as the `stepsize`.   \n",
    "\n",
    "Numerical gradients of that type come with the cost of 2*`len(variables)` and can lead to significantly cheaper gradients, especially if many expectation values are involved in the objective and/or if heavy recompilation of parametrized gates is necessary. \n",
    "Here is a small example using our `O2` objective, here the numerical 2-point procedure leads to 4 expectation values in the gradients (while anayltial gradients would lead to 8, set silent to False in the upper example or remove the gradient statement here)."
   ]
  },
  {
   "cell_type": "code",
   "execution_count": null,
   "metadata": {},
   "outputs": [],
   "source": [
    "lr=0.01\n",
    "num_result = tq.minimize(objective=O2,\n",
    "                     gradient={\"method\":\"2-point\", \"stepsize\":1.e-4},\n",
    "                     method='sgd', maxiter=200,lr=lr,\n",
    "                     initial_values=0.1, silent=False)"
   ]
  },
  {
   "cell_type": "code",
   "execution_count": null,
   "metadata": {},
   "outputs": [],
   "source": [
    "num_result.history.plot('energies')"
   ]
  },
  {
   "cell_type": "markdown",
   "metadata": {},
   "source": [
    "`tequila` currently offers `2-point` as well as `2-point-forward` and `2-point-backward` stencils as `method`.\n",
    "The method can also be set to a python function performing the task. Here is an example which implements the same as `2-point`. The function can be replaced by any function with the same signature."
   ]
  },
  {
   "cell_type": "code",
   "execution_count": null,
   "metadata": {},
   "outputs": [],
   "source": [
    "import copy\n",
    "def my_finite_difference_stencil(obj, var_vals, key, step, *args, **kwargs):\n",
    "        \"\"\"\n",
    "        calculate objective gradient by symmetric shifts about a point.\n",
    "        Parameters\n",
    "        ----------\n",
    "        obj: Objective:\n",
    "            objective to call.\n",
    "        var_vals:\n",
    "            variables to feed to the objective.\n",
    "        key:\n",
    "            which variable to shift, i.e, which variable's gradient is being called.\n",
    "        step:\n",
    "            the size of the shift; a small float.\n",
    "        args\n",
    "        kwargs\n",
    "\n",
    "        Returns\n",
    "        -------\n",
    "        float:\n",
    "            the approximated gradient of obj w.r.t variable key at point var_vals[key] as a float.\n",
    "\n",
    "        \"\"\"\n",
    "        left = copy.deepcopy(var_vals)\n",
    "        left[key] += step / 2\n",
    "        right = copy.deepcopy(var_vals)\n",
    "        right[key] -= step / 2\n",
    "        return 1.0 / step * (obj(left, *args, **kwargs) - obj(right, *args, **kwargs))\n",
    "\n",
    "num_result = tq.minimize(objective=O2,\n",
    "                     gradient={\"method\":my_finite_difference_stencil, \"stepsize\":1.e-4},\n",
    "                     method='sgd', maxiter=200,lr=lr,\n",
    "                     initial_values=0.1, silent=True)\n",
    "num_result.history.plot('energies')"
   ]
  },
  {
   "cell_type": "markdown",
   "metadata": {},
   "source": [
    "The `gradient` keyword can also be replaced by a dictionary of `tequila` objectives which evaluate to gradients approximations of it."
   ]
  },
  {
   "cell_type": "markdown",
   "metadata": {},
   "source": [
    "## Bayesian optimization\n",
    "\n",
    "\n",
    "[Bayesian optimization](https://arxiv.org/abs/1807.02811) is a method of global optimization, often used to tune hyperparameters in classical learning. It has also seen use in the optimization of [quantum circuits](https://arxiv.org/pdf/1812.08862.pdf). Tequila currently supports 2 different bayesian optimization algorithms: [Phoenics](https://github.com/aspuru-guzik-group/phoenics) and [GPyOpt](https://github.com/SheffieldML/GPyOpt), optimizers originally developed for optimizing expensive experimental procedures in chemistry. Click the links to get to the respective github pages, and download the optimizers before continuing this tutorial."
   ]
  },
  {
   "cell_type": "markdown",
   "metadata": {},
   "source": [
    "### GPyOpt\n",
    "\n",
    "GPyOpt can be used like any of our other optimizers. Like the GD and SciPy optimizers, it also takes a 'method' keyword. 3 methods are supported: `'lbfgs'`,`'DIRECT'`, and `'CMA'`. See the `GPyOpt` github for more info."
   ]
  },
  {
   "cell_type": "code",
   "execution_count": null,
   "metadata": {},
   "outputs": [],
   "source": [
    "print('As a reminder, we will optimize')\n",
    "tq.draw(O1,backend='qiskit')"
   ]
  },
  {
   "cell_type": "code",
   "execution_count": null,
   "metadata": {},
   "outputs": [],
   "source": [
    "### let's use the lbfgs method.\n",
    "init={'a':0.25,'b':0.25,'c':0.25,'d':0.25}\n",
    "### note: no lr is passed here! there are fewer tunable keywords for this optimizer.\n",
    "result=tq.minimize(objective=O1,\n",
    "              method='lbfgs',\n",
    "              maxiter=80,\n",
    "              initial_values=init)\n",
    "\n",
    "print('GPyOpt optimization results:')\n",
    "result.history.plot('energies')\n",
    "result.history.plot('angles')\n",
    "print('best energy: ',result.energy)\n",
    "print('optimal angles: ',result.angles)"
   ]
  },
  {
   "cell_type": "markdown",
   "metadata": {},
   "source": [
    "**Don't worry, the plot's not broken!**\n",
    "Perhaps you are looking at the plots above in horror. But, do take note: bayesian optimization is a global, exploratory optimization method, designed to explore large portions of parameter space while still seeking out optimality. Look at the optimal energy again, and one sees that the best performance of this optimization method matched that of all the gradient descent methods. We will apply gpyopt, next, to the QNG example circuit above, and see how bayesian optimization compares to QNG and SGD."
   ]
  },
  {
   "cell_type": "code",
   "execution_count": null,
   "metadata": {},
   "outputs": [],
   "source": [
    "print('Hey, remember me?')\n",
    "tq.draw(O2)\n",
    "### the keyword stop_count, below, stops optimization if no improvement occurs after 50 epochs.\n",
    "### let's use a random initial starting point:\n",
    "init={k:np.random.uniform(-2,2) for k in ['a','b','c','d']}\n",
    "\n",
    "gpy_result = tq.minimize(objective=O2,maxiter=25,method='lbfgs',\n",
    "                     initial_values=init)\n",
    "\n",
    "gpy_result.history.plot('energies')\n",
    "print('best energy: ',gpy_result.energy)\n",
    "print('optimal angles: ',gpy_result.angles)"
   ]
  },
  {
   "cell_type": "markdown",
   "metadata": {},
   "source": [
    "**In a very, very small number of steps, GPyOpt is able to match the performance of SGD with the QNG.**"
   ]
  },
  {
   "cell_type": "markdown",
   "metadata": {},
   "source": [
    "**There's a few extras you can access if you are well-familiar with GPyOpt.** We return as part of `result` an attribute `result.gpyopt_instance`, which is an instance of the native `GPyOpt` `BayesianOptimization` object -- the one built and run during your optimization. It has some plotting features you can use. "
   ]
  },
  {
   "cell_type": "code",
   "execution_count": null,
   "metadata": {},
   "outputs": [],
   "source": [
    "obj=gpy_result.gpyopt_instance\n",
    "obj.plot_convergence()"
   ]
  },
  {
   "cell_type": "markdown",
   "metadata": {},
   "source": [
    "If your function has 1 or 2 parameters (but no more) you can also see a plot of its acquisition function! see [here](https://www.blopig.com/blog/2019/10/a-gentle-introduction-to-the-gpyopt-module/) for more info!\n",
    "\n",
    "You can also extract the acquisition function of the model itself, and play with it (it takes ones object, an np array, as input), using:\n",
    "\n",
    "`acq=result.gpyopt_instance.acquisition.acquisition_function`"
   ]
  },
  {
   "cell_type": "markdown",
   "metadata": {},
   "source": [
    "### Phoenics\n",
    "\n",
    "Finally, we turn to [`Phoenics`](https://github.com/aspuru-guzik-group/phoenics). This algorithm, originally developed within the Aspuru-Guzik group, can be accessed in the usual fashion. It's performance on the two-qubit optimization circuit is shown below. Note that the number of datapoints exceeds the provided __maxiter__; __maxiter__ here controls the number of parameter __batches__ suggested by phoenics. phoenics suggests a number of parameter sets to try out, per batch, that scales with the number of parameters (in a nonlinear fashion), so you may want to set maxiter lower if you are only playing around."
   ]
  },
  {
   "cell_type": "code",
   "execution_count": null,
   "metadata": {},
   "outputs": [],
   "source": [
    "init={'a':0.25,'b':0.25,'c':0.25,'d':0.25}\n",
    "print('With phoenics we will optimize:')\n",
    "print(O1)\n",
    "### to see what you can pass down to phoenics, see the tequila documentation for that module.\n",
    "p_result=tq.minimize(objective=O1,\n",
    "            method='Phoenics',\n",
    "            maxiter=5,\n",
    "            initial_values=init,\n",
    "            silent=False)\n",
    "\n",
    "print('Phoenics optimization results on 2 qubit circuit:')\n",
    "p_result.history.plot('energies')\n",
    "p_result.history.plot('angles')\n",
    "print('best energy: ',p_result.energy)\n",
    "print('optimal angles: ',p_result.angles)"
   ]
  },
  {
   "cell_type": "markdown",
   "metadata": {},
   "source": [
    "We also have returned to you the phoenics object. One interesting object we can extract from this is the acquisition function. You can obtain this indirectly, using resut.object.bayesian_network.kernel_contribution. This function takes a numpy array  ( a point in your parameter space) and returns 2 numbers, x and y; the acquisition function then has the value x*y. Note: this is often zero.\n",
    "\n",
    "\n"
   ]
  },
  {
   "cell_type": "code",
   "execution_count": null,
   "metadata": {},
   "outputs": [],
   "source": [
    "kc=p_result.phoenics_instance.bayesian_network.kernel_contribution\n",
    "random_point=np.random.uniform(0,2*np.pi,4)\n",
    "f,s=kc(random_point)\n",
    "random_ac=f*s\n",
    "print('random point ', random_point, ' has acquisition function value ',random_ac)"
   ]
  },
  {
   "cell_type": "markdown",
   "metadata": {},
   "source": [
    "## This concludes our tutorial. Hope you had fun! Happy optimizing!"
   ]
  },
  {
   "cell_type": "code",
   "execution_count": null,
   "metadata": {},
   "outputs": [],
   "source": []
  }
 ],
 "metadata": {
  "kernelspec": {
   "display_name": "Python 3",
   "language": "python",
   "name": "python3"
  },
  "language_info": {
   "codemirror_mode": {
    "name": "ipython",
    "version": 3
   },
   "file_extension": ".py",
   "mimetype": "text/x-python",
   "name": "python",
   "nbconvert_exporter": "python",
   "pygments_lexer": "ipython3",
   "version": "3.6.9"
  },
  "pycharm": {
   "stem_cell": {
    "cell_type": "raw",
    "metadata": {
     "collapsed": false
    },
    "source": []
   }
  }
 },
 "nbformat": 4,
 "nbformat_minor": 2
}
