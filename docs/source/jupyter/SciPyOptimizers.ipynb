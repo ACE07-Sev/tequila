{
 "cells": [
  {
   "cell_type": "markdown",
   "metadata": {},
   "source": [
    "# Tequila Tutorial: \n",
    "## Handling Optimizers, Initializing parametrized circuits"
   ]
  },
  {
   "cell_type": "code",
   "execution_count": null,
   "metadata": {},
   "outputs": [],
   "source": [
    "# Import everything we need here\n",
    "import tequila as tq\n",
    "numpy = tq.numpy"
   ]
  },
  {
   "cell_type": "markdown",
   "metadata": {},
   "source": [
    "In the following example we will optimize a simple two qubit VQE with an Ansatz that is parametrized by two parameters.\n",
    "The Hamiltonian is also very simple and defined in the box below.\n",
    "$$ H = \\sigma_x(1) + c \\sigma_z(1) - \\sigma_z(0)$$\n",
    "\n",
    "\n",
    "The tutorial is **not** a guideline to optimization strategies but only intends to show tequilas functionality"
   ]
  },
  {
   "cell_type": "code",
   "execution_count": null,
   "metadata": {},
   "outputs": [],
   "source": [
    "c = 0.5\n",
    "H = tq.paulis.X(1) + c*tq.paulis.Z(1) - tq.paulis.Z(0)"
   ]
  },
  {
   "cell_type": "markdown",
   "metadata": {},
   "source": [
    "Lets take a look at the spectrum of this very simple Hamiltonian  \n",
    "Keep in mind: Tequila is not a numerical linear algebra package, so better not try to diagonalize Hamiltonians  \n",
    "we however added this feature for user convenience in examples  \n",
    "In the future we might have interfaces to more powerfull numerical packages ... feel free to contribute :-) "
   ]
  },
  {
   "cell_type": "code",
   "execution_count": null,
   "metadata": {},
   "outputs": [],
   "source": [
    "matrix = H.to_matrix()\n",
    "e, v = numpy.linalg.eigh(matrix)\n",
    "e"
   ]
  },
  {
   "cell_type": "markdown",
   "metadata": {},
   "source": [
    "And here we initialize our Ansatz circuit which is parametrized by a and b.<br>\n",
    "\n",
    "We show to ways to initialize Variables:\n",
    "Variable a is initialized with a convenience string based initialization <br>\n",
    "Variable b is initialized as Variable which allows you to conveniently transforming it when initializing gates. Here we do a simple rescaling as an example <br>\n",
    "Note that you don't need strings to name variables but can use any hashable non-numeric type (meaning anything that is not interpreted as number). \n",
    "\n",
    "For example: tq.Variable(name=(0,1,2,3)) will also work\n",
    "\n",
    "\n",
    "The Ansatz has no specific meaning and it is more to show different ways how to deal with variables.\n",
    "See for instance that you can scale them and use the same variable in multiple gates. (See the other tutorials for more examples)"
   ]
  },
  {
   "cell_type": "code",
   "execution_count": null,
   "metadata": {},
   "outputs": [],
   "source": [
    "a = tq.Variable(name=\"a\")\n",
    "b = tq.Variable(name=\"b\")\n",
    "c = tq.Variable(name=\"c\")\n",
    "\n",
    "a = 2.0*a*tq.numpy.pi # optimize a in units of 2pi\n",
    "b = 2.0*b*tq.numpy.pi # optimize b in units of 2pi\n",
    "c = 2.0*c*tq.numpy.pi # optimize c in units of 2pi\n",
    "\n",
    "U = tq.gates.Ry(target=0, angle=a)\n",
    "U += tq.gates.Ry(target=1, control=0, angle=b)\n",
    "U += tq.gates.X(target=1)\n",
    "U += tq.gates.Ry(target=1, control=0, angle=-b)\n",
    "U += tq.gates.Ry(target=0,angle=c)\n"
   ]
  },
  {
   "cell_type": "code",
   "execution_count": null,
   "metadata": {},
   "outputs": [],
   "source": [
    "print(U)"
   ]
  },
  {
   "cell_type": "code",
   "execution_count": null,
   "metadata": {},
   "outputs": [],
   "source": [
    "# nice output (depends on which backends you have installed)\n",
    "tq.draw(U)"
   ]
  },
  {
   "cell_type": "markdown",
   "metadata": {},
   "source": [
    "In the next box we form an objective out of our Hamiltonian and our Ansatz and pass it down to the optimizer.\n",
    "In the following boxes we show how the results of the optimizer can be plotted\n",
    "\n",
    "See further below for some small exercises and additional information \n",
    "\n",
    "First lets see how objectives are created and simulated"
   ]
  },
  {
   "cell_type": "code",
   "execution_count": null,
   "metadata": {},
   "outputs": [],
   "source": [
    "O = tq.Objective.ExpectationValue(U=U, H=H)\n",
    "variables = {\"a\":0.25, \"b\":0.25, \"c\":0.25}\n",
    "energy = tq.simulate(O, variables=variables)\n",
    "wfn = tq.simulate(U, variables=variables)\n",
    "evaluate_squared = tq.simulate(O**2, variables=variables)\n",
    "print(\"energy : {}\".format(energy))\n",
    "print(\"wfn    : {}\".format(wfn))\n",
    "print(\"squared: {}\".format(evaluate_squared))"
   ]
  },
  {
   "cell_type": "markdown",
   "metadata": {},
   "source": [
    "Now the objective can be optimized \n",
    "\n",
    "We will also set the initial values of the variables that can be passed to the optimizer.  \n",
    "Values of variables are passed as dictionaries where the keys are tequila variables and the values are floats.  "
   ]
  },
  {
   "cell_type": "code",
   "execution_count": null,
   "metadata": {},
   "outputs": [],
   "source": [
    "initial_values = {'a':0.3, 'b':0.3, 'c':0.3}\n",
    "O = tq.Objective.ExpectationValue(U=U, H=H)\n",
    "result = tq.minimize(objective=O, method=\"bfgs\", initial_values=initial_values, tol=1.e-3, method_options={\"gtol\":1.e-3})"
   ]
  },
  {
   "cell_type": "code",
   "execution_count": null,
   "metadata": {},
   "outputs": [],
   "source": [
    "# final energy\n",
    "result.energy"
   ]
  },
  {
   "cell_type": "markdown",
   "metadata": {},
   "source": [
    "Plot out the History:\n",
    "Note, that we choose bad initial points since they are close to the maximum"
   ]
  },
  {
   "cell_type": "code",
   "execution_count": null,
   "metadata": {},
   "outputs": [],
   "source": [
    "result.history.plot('energies')"
   ]
  },
  {
   "cell_type": "code",
   "execution_count": null,
   "metadata": {},
   "outputs": [],
   "source": [
    "result.history.plot(property='angles', key=[\"a\", \"b\"])"
   ]
  },
  {
   "cell_type": "code",
   "execution_count": null,
   "metadata": {},
   "outputs": [],
   "source": [
    "# Convenience in the history plot\n",
    "result.history.plot(property='angles', key=\"a\")\n",
    "result.history.plot(property=['angles', 'gradients'], key=[\"c\"])"
   ]
  },
  {
   "cell_type": "markdown",
   "metadata": {},
   "source": [
    "# FAQ\n",
    "\n",
    "## 1: How can I extract the parameters from a given circuit?\n",
    "\n",
    "Call the 'extract_parameters' attribute and get back a list of all Variables in the circuit"
   ]
  },
  {
   "cell_type": "code",
   "execution_count": null,
   "metadata": {},
   "outputs": [],
   "source": [
    "angles = U.extract_variables()\n",
    "angles"
   ]
  },
  {
   "cell_type": "markdown",
   "metadata": {},
   "source": [
    "## 2: How can I do measurement based simulation?\n",
    "Pass down the 'samples' keyword to simulate finite samples\n",
    "See the later exercises to play around with sample number and optimization methods.\n",
    "\n",
    "Feel free to play around with the number of samples \n",
    "Don't excpect miracles from the optimizer, you might need to hit return a few times or increase the number of samples.<br>Note that stochastic gradients are not yet supported\n",
    "<br>Note also that we did not set the initial parameters, so we will start with all parameters set to 0 which is a stationary point in this example (full wavefunction simulation would get stuck, see also the exercise below).\n",
    "\n",
    "Sampling based simulation needs improvement. Don't expect too much, but feel free to contribute\n",
    "\n",
    "Lets only optimize veriable b and set the other to the correct value to also show how that works"
   ]
  },
  {
   "cell_type": "code",
   "execution_count": null,
   "metadata": {},
   "outputs": [],
   "source": [
    "O = tq.Objective.ExpectationValue(U=U, H=H)\n",
    "initial_values[\"a\"] = 0.3\n",
    "initial_values[\"c\"] = 0.3\n",
    "initial_values[\"b\"] = 0.3\n",
    "result = tq.minimize(objective=O, variables=[\"b\"], initial_values = initial_values, tol=1.e-3, samples=100, method=\"bfgs\")\n",
    "result.history.plot('energies')\n",
    "print(\"result = \", result.energy)"
   ]
  },
  {
   "cell_type": "markdown",
   "metadata": {},
   "source": [
    "## 3: Which Simulator was used and how can I choose the simulator?\n",
    "\n",
    "You can pass down the simulator to the optimizer by the simulator keyword (see below)\n",
    "If no specific simulator was chosen by you that means the simulator is automatically picked. Which simulator is picked depends on what simulators you have installed and if you demanded a full wavefunction to be simulated or not.\n",
    "\n",
    "You can check which simulators you have installed with the following"
   ]
  },
  {
   "cell_type": "code",
   "execution_count": null,
   "metadata": {},
   "outputs": [],
   "source": [
    "print(tq.show_available_simulators())"
   ]
  },
  {
   "cell_type": "markdown",
   "metadata": {},
   "source": [
    "Here is how you would initialize a simulator and pass it down the optimizer.\n",
    "The if statement is just to prevent your Ipython kernel from crashing when you have not installed the simulator\n",
    "Feel free to change it to something you have installed"
   ]
  },
  {
   "cell_type": "code",
   "execution_count": null,
   "metadata": {},
   "outputs": [],
   "source": [
    "if 'qiskit' in tq.INSTALLED_BACKENDS: # failsafe to only execute cell when qiskit is actually there\n",
    "    O = tq.Objective.ExpectationValue(U=U, H=H)\n",
    "    result = tq.minimize(objective=O, method=\"bfgs\",\n",
    "                                       initial_values=initial_values,\n",
    "                                       backend=\"qiskit\")\n",
    "    result.history.plot()"
   ]
  },
  {
   "cell_type": "code",
   "execution_count": null,
   "metadata": {},
   "outputs": [],
   "source": [
    "result.history.plot('angles')"
   ]
  },
  {
   "cell_type": "markdown",
   "metadata": {},
   "source": [
    "## 4: Can I use numerical evaluation of gradients\n",
    "\n",
    "Yes you can, by passing down `use_gradient = False` or `use_gradient = \"2-point\"`.  \n",
    "`use_gradient = '3-point' or 'cs' ` are also possible for scipy methods which support them.  \n",
    "Check out the documentation of scipy.optimize.minimize for that.  \n",
    "You can also pass down further options (again, check scipy documentation) for different methods.  \n",
    "An important additional option is `eps` which defines the stepsizes for the '2-point' method."
   ]
  },
  {
   "cell_type": "code",
   "execution_count": null,
   "metadata": {},
   "outputs": [],
   "source": [
    "result = tq.minimize(objective=O, \n",
    "                     method=\"bfgs\",\n",
    "                     initial_values=initial_values,\n",
    "                     use_gradient='2-point',\n",
    "                     method_options = {'eps':1.e-3})"
   ]
  },
  {
   "cell_type": "markdown",
   "metadata": {},
   "source": [
    "## 5: Can I use Hessian based optimizations, and can I evaluate Hessians numerically?\n",
    "\n",
    "Yes you can, by just picking those methods (like for example 'dogleg' or 'newton-cg').\n",
    "For all 'trust-\\*' methods you can also pick different options (see again scipy documentation)\n",
    "\n",
    "Numerical evaluation for hessians works in the same way as for gradients by passing down `use_hessian` instead of `use_gradient`.  \n",
    "Be aware that not all combinations of `use_gradient` and `use_hessian` will work (usually you need to have the gradients analytically) and that most scipy methods do not support numerical evaluation of Hessians.\n",
    "Also do not confuse that with methods which use an approximation of the Hessian.\n",
    "Again: Check the scipy documentation for more information\n",
    "\n",
    "Here comes a small example where (note that the methods above will not converge to the minimum for this initial_values)"
   ]
  },
  {
   "cell_type": "code",
   "execution_count": null,
   "metadata": {},
   "outputs": [],
   "source": [
    "tq.optimizer_scipy.OptimizerSciPy.hessian_based_methods"
   ]
  },
  {
   "cell_type": "code",
   "execution_count": null,
   "metadata": {},
   "outputs": [],
   "source": [
    "options = {\n",
    "    \"initial_tr_radius\":0.05,\n",
    "    \"max_tr_radius\":0.1\n",
    "}\n",
    "\n",
    "result = tq.optimizer_scipy.minimize(objective=O,\n",
    "                                    initial_values={\"a\":0.25, \"b\":0.25, \"c\":0.25},\n",
    "                                    method = \"trust-exact\",\n",
    "                                    method_options = options)\n"
   ]
  },
  {
   "cell_type": "markdown",
   "metadata": {},
   "source": [
    "# Exercises\n",
    "\n",
    "See farther down for solutions"
   ]
  },
  {
   "cell_type": "markdown",
   "metadata": {},
   "source": [
    "## Exercise 1\n",
    "\n",
    "You can pass down initial_values to the optimizer in the same format as you can do it with the circuit (see above).\n",
    "Figure out how to do that by checking out the documentation of the 'minimize' function."
   ]
  },
  {
   "cell_type": "markdown",
   "metadata": {},
   "source": [
    "## Exercise 2\n",
    "Figure out which method the optimizer above used and how to use a different optimization method."
   ]
  },
  {
   "cell_type": "code",
   "execution_count": null,
   "metadata": {},
   "outputs": [],
   "source": [
    "# hints\n",
    "tq.show_available_optimizers()"
   ]
  },
  {
   "cell_type": "markdown",
   "metadata": {},
   "source": [
    "## Exercise 3\n",
    "If you initialize both parameters to 0.0 you will directly hit a stationary point which causes the optimizer stop.\n",
    "Find out how you can impose bounds on the variables in order to prevent the optimizer from hitting that point.\n",
    "\n",
    "Again: Check the documentation of the 'minimize' function.\n",
    "\n",
    "Note: Not all optimization methods of SciPy support bounds on the variables\n",
    "\n",
    "Note: It is not enough to just restrict the point 0.0"
   ]
  },
  {
   "cell_type": "markdown",
   "metadata": {},
   "source": [
    "# Solutions"
   ]
  },
  {
   "cell_type": "markdown",
   "metadata": {},
   "source": [
    "## Exercise 1 & 2"
   ]
  },
  {
   "cell_type": "code",
   "execution_count": null,
   "metadata": {},
   "outputs": [],
   "source": [
    "O = tq.Objective.ExpectationValue(U=U, H=H)\n",
    "result = tq.minimize(objective=O, method='Nelder-Mead', maxiter=100, initial_values={'a':0.1, 'b':0.1})"
   ]
  },
  {
   "cell_type": "code",
   "execution_count": null,
   "metadata": {},
   "outputs": [],
   "source": [
    "result.history.plot('energies')\n",
    "result.history.plot('angles')"
   ]
  },
  {
   "cell_type": "markdown",
   "metadata": {},
   "source": [
    "## Exercise 3"
   ]
  },
  {
   "cell_type": "code",
   "execution_count": null,
   "metadata": {},
   "outputs": [],
   "source": [
    "# this will get stuck (similar for other gradient based optimizers)\n",
    "zeroes = {'a':0.0, 'b':0.0}\n",
    "shift = 1.0\n",
    "O = tq.Objective.ExpectationValue(U=U, H=H)\n",
    "result = tq.minimize(objective=O, method='TNC', initial_values=zeroes)\n",
    "result.history.plot()"
   ]
  },
  {
   "cell_type": "code",
   "execution_count": null,
   "metadata": {},
   "outputs": [],
   "source": [
    "# bounding the variables to keep it away from the stationary point which occurs at 0 and is periodic in 2pi\n",
    "# using negative values since that converges faster\n",
    "zeroes = {'a':0.0, 'b':0.0}\n",
    "shift = 1.0\n",
    "bounds = {'a':(-2*numpy.pi+0.1, -0.1), 'b':(-2*numpy.pi+0.1, -0.1), 'c':(-2*numpy.pi+0.1, -0.1) }\n",
    "O = tq.Objective.ExpectationValue(U=U, H=H)\n",
    "result = tq.minimize(objective=O, method='TNC', initial_values=zeroes, method_bounds=bounds)\n",
    "result.history.plot()"
   ]
  },
  {
   "cell_type": "code",
   "execution_count": null,
   "metadata": {},
   "outputs": [],
   "source": [
    "result.history.plot('angles')"
   ]
  }
 ],
 "metadata": {
  "kernelspec": {
   "display_name": "tequila-3.6",
   "language": "python",
   "name": "tequila-3.6"
  },
  "language_info": {
   "codemirror_mode": {
    "name": "ipython",
    "version": 3
   },
   "file_extension": ".py",
   "mimetype": "text/x-python",
   "name": "python",
   "nbconvert_exporter": "python",
   "pygments_lexer": "ipython3",
   "version": "3.6.9"
  }
 },
 "nbformat": 4,
 "nbformat_minor": 2
}
